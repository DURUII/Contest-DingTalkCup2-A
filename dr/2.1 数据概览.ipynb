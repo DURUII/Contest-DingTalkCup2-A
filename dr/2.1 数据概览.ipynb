{
 "cells": [
  {
   "cell_type": "markdown",
   "metadata": {},
   "source": [
    "# 载入套件"
   ]
  },
  {
   "cell_type": "code",
   "execution_count": null,
   "metadata": {},
   "outputs": [],
   "source": [
    "from typing import Dict\n",
    "from tqdm.auto import tqdm\n",
    "\n",
    "import numpy as np\n",
    "import random\n",
    "import pandas as pd\n",
    "import ydata_profiling\n",
    "\n",
    "import scienceplots\n",
    "import matplotlib.pyplot as plt\n",
    "import seaborn as sns\n",
    "import matplotlib\n",
    "\n",
    "import torch\n",
    "import os\n",
    "\n",
    "%matplotlib inline\n",
    "\n",
    "pd.plotting.register_matplotlib_converters()\n",
    "sns.set_style(\"whitegrid\")\n",
    "sns.set_palette(\"RdBu\")\n",
    "sns.set(\n",
    "    rc={'text.usetex': True},\n",
    "    font=\"serif\",\n",
    "    font_scale=1.2\n",
    ")\n",
    "\n",
    "days = {i: pd.read_pickle(f'../Datasets/day{str(i).zfill(2)}.pkl')\n",
    "        for i in range(1, 22)}\n"
   ]
  },
  {
   "cell_type": "markdown",
   "metadata": {},
   "source": [
    "# 工具函数"
   ]
  },
  {
   "cell_type": "code",
   "execution_count": null,
   "metadata": {},
   "outputs": [],
   "source": [
    "SEED = 20230723\n",
    "\n",
    "\n",
    "def same_seed(seed=SEED):\n",
    "    random.seed(seed)\n",
    "    os.environ['PYTHONHASHSEED'] = str(seed)\n",
    "    np.random.seed(seed)\n",
    "    torch.manual_seed(seed)\n",
    "    torch.cuda.manual_seed(seed)\n",
    "    torch.backends.cudnn.deterministic = True\n",
    "    torch.backends.cudnn.benchmark = False\n",
    "    if torch.cuda.is_available():\n",
    "        torch.cuda.manual_seed_all(seed)\n",
    "\n",
    "\n",
    "same_seed()\n"
   ]
  },
  {
   "cell_type": "markdown",
   "metadata": {},
   "source": [
    "# 辅助表格\n",
    "\n",
    "\n",
    "app_class.csv，共两列。第一列是appid,给出4000多个常用APP所属类别（app_class）,比如：社交类、影视类、教育类等，用英文字母a-t表示，共20个常用得所属类别，其余APP不常用，所属类别未知。"
   ]
  },
  {
   "cell_type": "code",
   "execution_count": null,
   "metadata": {},
   "outputs": [],
   "source": [
    "# 辅助表格，常用APP类别\n",
    "# 发现：原始表格存在重复值\n",
    "app = pd.read_csv('../Datasets/app_class.csv', header=None).drop_duplicates()\n",
    "app.columns = ['appid', 'app_class']\n",
    "\n",
    "# 副本：不锁定数据格式\n",
    "app_copy = app.copy()\n",
    "\n",
    "# 约束数据格式\n",
    "app['appid'] = app['appid'].astype('category')\n",
    "app['app_class'] = app['app_class'].astype('category')\n",
    "\n",
    "# 打印行列数、概况\n",
    "print('app:', app.shape)\n",
    "pd.DataFrame(app.value_counts('app_class'))\n",
    "app.describe()\n"
   ]
  },
  {
   "cell_type": "code",
   "execution_count": null,
   "metadata": {},
   "outputs": [],
   "source": [
    "# 21天内监测数据中共有36435种app_id\n",
    "appid = set({})\n",
    "for i in range(1, 22):\n",
    "    appid = appid.union(days[i]['appid'].unique())\n",
    "len(appid)\n"
   ]
  },
  {
   "cell_type": "code",
   "execution_count": null,
   "metadata": {},
   "outputs": [],
   "source": [
    "# NaN\n",
    "val = pd.DataFrame({'appid': list(appid)})\n",
    "val = val.merge(app_copy, on='appid', how='left')\n",
    "val[val['app_class'].isna()].shape\n"
   ]
  },
  {
   "cell_type": "code",
   "execution_count": null,
   "metadata": {},
   "outputs": [],
   "source": [
    "# a～t\n",
    "val['app_class'].dropna().shape\n"
   ]
  },
  {
   "cell_type": "code",
   "execution_count": null,
   "metadata": {},
   "outputs": [],
   "source": [
    "sns.catplot(kind='count', data=val.sort_values(by='app_class'),\n",
    "            x='app_class', height=3.5, aspect=10/3.5)\n",
    "\n",
    "plt.savefig(\"../Thesis/figures/app_class_countplot_in_days.pdf\",\n",
    "            dpi=400, bbox_inches='tight', pad_inches=0)\n"
   ]
  },
  {
   "cell_type": "code",
   "execution_count": null,
   "metadata": {},
   "outputs": [],
   "source": [
    "pd.DataFrame(val.fillna('NaN').value_counts(\n",
    "    ['app_class'])).sort_values(by='count')\n"
   ]
  },
  {
   "cell_type": "code",
   "execution_count": null,
   "metadata": {},
   "outputs": [],
   "source": []
  }
 ],
 "metadata": {
  "kernelspec": {
   "display_name": "base",
   "language": "python",
   "name": "python3"
  },
  "language_info": {
   "codemirror_mode": {
    "name": "ipython",
    "version": 3
   },
   "file_extension": ".py",
   "mimetype": "text/x-python",
   "name": "python",
   "nbconvert_exporter": "python",
   "pygments_lexer": "ipython3",
   "version": "3.9.12"
  },
  "orig_nbformat": 4
 },
 "nbformat": 4,
 "nbformat_minor": 2
}
