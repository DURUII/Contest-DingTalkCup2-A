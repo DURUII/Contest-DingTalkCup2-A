{
 "cells": [
  {
   "cell_type": "markdown",
   "metadata": {},
   "source": [
    "# 载入套件"
   ]
  },
  {
   "cell_type": "code",
   "execution_count": null,
   "metadata": {},
   "outputs": [],
   "source": [
    "from typing import Dict\n",
    "import numpy as np\n",
    "import pandas as pd\n",
    "\n",
    "import ydata_profiling\n",
    "import scienceplots\n",
    "import matplotlib.pyplot as plt\n",
    "import seaborn as sns\n",
    "import matplotlib\n",
    "\n",
    "%matplotlib inline\n",
    "\n",
    "pd.plotting.register_matplotlib_converters()\n",
    "plt.style.use(['fivethirtyeight', 'science', 'grid'])\n",
    "sns.set(\n",
    "    rc={'text.usetex': True},\n",
    "    font=\"serif\",\n",
    "    font_scale=1.2\n",
    ")\n"
   ]
  },
  {
   "cell_type": "code",
   "execution_count": null,
   "metadata": {},
   "outputs": [],
   "source": [
    "days = {i: pd.read_pickle(f'../Datasets/day{str(i).zfill(2)}.pkl')\n",
    "        for i in range(1, 22)}\n"
   ]
  },
  {
   "cell_type": "markdown",
   "metadata": {},
   "source": [
    "# 使用时长"
   ]
  },
  {
   "cell_type": "code",
   "execution_count": null,
   "metadata": {},
   "outputs": [],
   "source": [
    "dfs = []\n",
    "value = 'duration'\n",
    "for i in range(1, 8):\n",
    "    pt = days[i].pivot_table(\n",
    "        index='uid',\n",
    "        columns='app_class',\n",
    "        values=value,\n",
    "        aggfunc=np.sum,\n",
    "        fill_value=0\n",
    "    )\n",
    "\n",
    "    feature = pd.DataFrame(pt.to_records())\n",
    "    feature.columns = [\n",
    "        f'{value}_{i}' if i != 'uid' else i for i in feature.columns]\n",
    "    feature.drop(columns=f'{value}_NaN', inplace=True)\n",
    "    feature['day'] = i\n",
    "    dfs.append(feature)\n",
    "\n",
    "feature_duration = pd.concat(dfs, ignore_index=True).groupby([\n",
    "    'uid']).sum().drop(columns='day')\n",
    "feature_duration\n"
   ]
  },
  {
   "cell_type": "markdown",
   "metadata": {},
   "source": [
    "# 上行流量"
   ]
  },
  {
   "cell_type": "code",
   "execution_count": null,
   "metadata": {},
   "outputs": [],
   "source": [
    "dfs = []\n",
    "value = 'up_flow'\n",
    "for i in range(1, 8):\n",
    "    pt = days[i].pivot_table(\n",
    "        index='uid',\n",
    "        columns='app_class',\n",
    "        values=value,\n",
    "        aggfunc=np.sum,\n",
    "        fill_value=0\n",
    "    )\n",
    "\n",
    "    feature = pd.DataFrame(pt.to_records())\n",
    "    feature.columns = [\n",
    "        f'{value}_{i}' if i != 'uid' else i for i in feature.columns]\n",
    "    feature.drop(columns=f'{value}_NaN', inplace=True)\n",
    "    feature['day'] = i\n",
    "    dfs.append(feature)\n",
    "\n",
    "feature_upflow = pd.concat(dfs, ignore_index=True).groupby([\n",
    "    'uid']).sum().drop(columns='day')\n",
    "feature_upflow\n"
   ]
  },
  {
   "cell_type": "markdown",
   "metadata": {},
   "source": [
    "# 下行流量"
   ]
  },
  {
   "cell_type": "code",
   "execution_count": null,
   "metadata": {},
   "outputs": [],
   "source": [
    "dfs = []\n",
    "value = 'down_flow'\n",
    "for i in range(1, 8):\n",
    "    pt = days[i].pivot_table(\n",
    "        index='uid',\n",
    "        columns='app_class',\n",
    "        values=value,\n",
    "        aggfunc=np.sum,\n",
    "        fill_value=0\n",
    "    )\n",
    "\n",
    "    feature = pd.DataFrame(pt.to_records())\n",
    "    feature.columns = [\n",
    "        f'{value}_{i}' if i != 'uid' else i for i in feature.columns]\n",
    "    feature.drop(columns=f'{value}_NaN', inplace=True)\n",
    "    feature['day'] = i\n",
    "    dfs.append(feature)\n",
    "\n",
    "feature_downflow = pd.concat(dfs, ignore_index=True).groupby([\n",
    "    'uid']).sum().drop(columns='day')\n",
    "feature_downflow\n"
   ]
  },
  {
   "cell_type": "markdown",
   "metadata": {},
   "source": [
    "# 使用频次"
   ]
  },
  {
   "cell_type": "markdown",
   "metadata": {},
   "source": [
    "dfs = []\n",
    "value = 'count'\n",
    "for i in range(1, 8):\n",
    "    pt = days[i].pivot_table(\n",
    "        index='uid',\n",
    "        columns='app_class',\n",
    "        values='duration',\n",
    "        aggfunc='count',\n",
    "        fill_value=0\n",
    "    )\n",
    "\n",
    "    feature = pd.DataFrame(pt.to_records())\n",
    "    feature.columns = [\n",
    "        f'{value}_{i}' if i != 'uid' else i for i in feature.columns]\n",
    "    feature.drop(columns=f'{value}_NaN', inplace=True)\n",
    "    feature['day'] = i\n",
    "    dfs.append(feature)\n",
    "\n",
    "feature_count = pd.concat(dfs, ignore_index=True).groupby([\n",
    "    'uid']).sum().drop(columns='day')\n",
    "feature_count\n"
   ]
  },
  {
   "cell_type": "markdown",
   "metadata": {},
   "source": [
    "# 特征融合\n",
    "\n",
    "前7日各类 APP 使用时长、使用频次、上行流量、下行流量"
   ]
  },
  {
   "cell_type": "code",
   "execution_count": null,
   "metadata": {},
   "outputs": [],
   "source": [
    "features = pd.DataFrame(pd.concat([feature_duration, feature_upflow,\n",
    "                                   feature_downflow, feature_count], axis=1).to_records())\n",
    "features.to_pickle('../Datasets/features_q1.pkl')\n"
   ]
  }
 ],
 "metadata": {
  "language_info": {
   "name": "python"
  },
  "orig_nbformat": 4
 },
 "nbformat": 4,
 "nbformat_minor": 2
}
