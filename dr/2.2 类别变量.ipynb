{
 "cells": [
  {
   "cell_type": "markdown",
   "metadata": {},
   "source": [
    "# 载入套件"
   ]
  },
  {
   "cell_type": "code",
   "execution_count": 1,
   "metadata": {
    "ExecuteTime": {
     "end_time": "2023-07-16T09:22:24.105446Z",
     "start_time": "2023-07-16T09:22:18.229584Z"
    }
   },
   "outputs": [],
   "source": [
    "from typing import Dict\n",
    "from tqdm.auto import tqdm\n",
    "\n",
    "import numpy as np\n",
    "import random\n",
    "import pandas as pd\n",
    "import ydata_profiling\n",
    "\n",
    "import scienceplots\n",
    "import matplotlib.pyplot as plt\n",
    "import seaborn as sns\n",
    "import matplotlib\n",
    "\n",
    "import torch\n",
    "import os\n",
    "\n",
    "%matplotlib inline\n",
    "\n",
    "pd.plotting.register_matplotlib_converters()\n",
    "sns.set_style(\"whitegrid\")\n",
    "sns.set_palette(\"RdBu\")\n",
    "sns.set(\n",
    "    rc={'text.usetex': True},\n",
    "    font=\"serif\",\n",
    "    font_scale=1.2\n",
    ")\n",
    "\n",
    "days = {i: pd.read_pickle(f'../Datasets/day{str(i).zfill(2)}.pkl')\n",
    "        for i in range(1, 22)}\n"
   ]
  },
  {
   "cell_type": "markdown",
   "metadata": {},
   "source": [
    "# 监测表格\n",
    "\n",
    "该数据来自某公司某年连续30天的4万多智能手机用户的监测数据，已经做了脱敏和数据变换处理。每天的数据为1个txt文件，共10列，记录了每个用户（以uid为唯一标识）每天使用各款APP（以appid为唯一标识）的起始时间，使用时长，上下流量等。\n",
    "\n",
    "| 变量名        | 释义                          |\n",
    "|------------|-----------------------------|\n",
    "| uid        | 用户的id                       |\n",
    "| appid      | APP的id（与app_class文件中的第一列对应） |\n",
    "| app_type   | APP类型：系统自带、用户安装             |\n",
    "| start_day  | 使用起始天，取值1-30                |\n",
    "| start_time | 使用起始时间                      |\n",
    "| end_day    | 使用结束天                       |\n",
    "| end_time   | 使用结束时间                      |\n",
    "| duration   | 使用时长（秒）                     |\n",
    "| up_flow    | 上行流量                        |\n",
    "| down_flow  | 下行流量                        |"
   ]
  },
  {
   "cell_type": "markdown",
   "metadata": {},
   "source": [
    "# 单一变量"
   ]
  },
  {
   "cell_type": "code",
   "execution_count": 2,
   "metadata": {},
   "outputs": [
    {
     "data": {
      "text/html": [
       "<div>\n",
       "<style scoped>\n",
       "    .dataframe tbody tr th:only-of-type {\n",
       "        vertical-align: middle;\n",
       "    }\n",
       "\n",
       "    .dataframe tbody tr th {\n",
       "        vertical-align: top;\n",
       "    }\n",
       "\n",
       "    .dataframe thead th {\n",
       "        text-align: right;\n",
       "    }\n",
       "</style>\n",
       "<table border=\"1\" class=\"dataframe\">\n",
       "  <thead>\n",
       "    <tr style=\"text-align: right;\">\n",
       "      <th></th>\n",
       "      <th>uid</th>\n",
       "      <th>appid</th>\n",
       "      <th>app_type</th>\n",
       "      <th>app_class</th>\n",
       "    </tr>\n",
       "  </thead>\n",
       "  <tbody>\n",
       "    <tr>\n",
       "      <th>count</th>\n",
       "      <td>5238514</td>\n",
       "      <td>5238514</td>\n",
       "      <td>5238514</td>\n",
       "      <td>5238514</td>\n",
       "    </tr>\n",
       "    <tr>\n",
       "      <th>unique</th>\n",
       "      <td>35257</td>\n",
       "      <td>10865</td>\n",
       "      <td>4</td>\n",
       "      <td>21</td>\n",
       "    </tr>\n",
       "    <tr>\n",
       "      <th>top</th>\n",
       "      <td>1FA08FD291312F1645BF1BB9371DDFB8</td>\n",
       "      <td>3309</td>\n",
       "      <td>usr</td>\n",
       "      <td>NaN</td>\n",
       "    </tr>\n",
       "    <tr>\n",
       "      <th>freq</th>\n",
       "      <td>3156</td>\n",
       "      <td>887965</td>\n",
       "      <td>2895265</td>\n",
       "      <td>2427834</td>\n",
       "    </tr>\n",
       "  </tbody>\n",
       "</table>\n",
       "</div>"
      ],
      "text/plain": [
       "                                     uid    appid app_type app_class\n",
       "count                            5238514  5238514  5238514   5238514\n",
       "unique                             35257    10865        4        21\n",
       "top     1FA08FD291312F1645BF1BB9371DDFB8     3309      usr       NaN\n",
       "freq                                3156   887965  2895265   2427834"
      ]
     },
     "execution_count": 2,
     "metadata": {},
     "output_type": "execute_result"
    }
   ],
   "source": [
    "# 发现：数据集存在中文['用户', '预装']\n",
    "temp = days[2].select_dtypes('category').describe()\n",
    "temp\n"
   ]
  },
  {
   "cell_type": "code",
   "execution_count": 3,
   "metadata": {},
   "outputs": [
    {
     "data": {
      "text/plain": [
       "{'sys', 'usr', '用户', '预装'}"
      ]
     },
     "execution_count": 3,
     "metadata": {},
     "output_type": "execute_result"
    }
   ],
   "source": [
    "app_type = set({})\n",
    "for i in range(1, 22):\n",
    "    app_type = app_type.union(days[i]['app_type'].unique())\n",
    "app_type\n"
   ]
  },
  {
   "cell_type": "code",
   "execution_count": 4,
   "metadata": {},
   "outputs": [],
   "source": [
    "for i in range(1, 22):\n",
    "    days[i].replace({'用户': 'usr', '预装': 'sys'}, inplace=True)\n"
   ]
  },
  {
   "cell_type": "markdown",
   "metadata": {},
   "source": [
    "# 天数变化"
   ]
  },
  {
   "cell_type": "code",
   "execution_count": 5,
   "metadata": {},
   "outputs": [],
   "source": [
    "data = {'day': [], 'cat': [], 'val': []}\n",
    "for i in range(1, 22):\n",
    "    temp = days[i].select_dtypes('category').describe()\n",
    "    # 日活跃用户\n",
    "    data['day'].append(i)\n",
    "    data['cat'].append('users')\n",
    "    data['val'].append(temp.loc['unique', 'uid'])\n",
    "\n",
    "    # 日志\n",
    "    data['day'].append(i)\n",
    "    data['cat'].append('logs')\n",
    "    data['val'].append(temp.loc['count', 'uid'])\n",
    "\n",
    "    # APP\n",
    "    data['day'].append(i)\n",
    "    data['cat'].append('apps')\n",
    "    data['val'].append(temp.loc['unique', 'appid'])\n",
    "temp = pd.DataFrame(data)\n"
   ]
  },
  {
   "cell_type": "code",
   "execution_count": 6,
   "metadata": {},
   "outputs": [
    {
     "name": "stderr",
     "output_type": "stream",
     "text": [
      "/Users/durui/opt/anaconda3/lib/python3.9/site-packages/seaborn/axisgrid.py:118: UserWarning: The figure layout has changed to tight\n",
      "  self._figure.tight_layout(*args, **kwargs)\n",
      "/Users/durui/opt/anaconda3/lib/python3.9/site-packages/seaborn/axisgrid.py:118: UserWarning: The figure layout has changed to tight\n",
      "  self._figure.tight_layout(*args, **kwargs)\n",
      "/Users/durui/opt/anaconda3/lib/python3.9/site-packages/seaborn/axisgrid.py:118: UserWarning: The figure layout has changed to tight\n",
      "  self._figure.tight_layout(*args, **kwargs)\n"
     ]
    },
    {
     "data": {
      "image/png": "[encoded data removed]",
      "text/plain": [
       "<Figure size 360x360 with 1 Axes>"
      ]
     },
     "metadata": {},
     "output_type": "display_data"
    },
    {
     "data": {
      "image/png": "[encoded data removed]",
      "text/plain": [
       "<Figure size 360x360 with 1 Axes>"
      ]
     },
     "metadata": {},
     "output_type": "display_data"
    },
    {
     "data": {
      "image/png": "[encoded data removed]",
      "text/plain": [
       "<Figure size 360x360 with 1 Axes>"
      ]
     },
     "metadata": {},
     "output_type": "display_data"
    }
   ],
   "source": [
    "for cat in ['logs', 'users', 'apps']:\n",
    "    g = sns.relplot(kind='line',\n",
    "                    data=temp[temp['cat'] == cat],\n",
    "                    x='day',\n",
    "                    y='val',\n",
    "                    marker='o')\n",
    "    g.set(\n",
    "        ylabel=f'val_{cat}',\n",
    "        xticks=range(1, 22)\n",
    "    )\n",
    "    plt.savefig(f'../Thesis/figures/relplot_line_day_val_{cat}.pdf',\n",
    "                dpi=400,\n",
    "                bbox_inches='tight',\n",
    "                pad_inches=0)\n"
   ]
  },
  {
   "cell_type": "markdown",
   "metadata": {},
   "source": [
    "# 变量关联"
   ]
  },
  {
   "cell_type": "code",
   "execution_count": 7,
   "metadata": {},
   "outputs": [],
   "source": [
    "# dfs = []\n",
    "# for i in range(1, 22):\n",
    "#     dfs.append(days[i][['appid', 'app_type', 'app_class']].drop_duplicates())\n",
    "# ((pd.concat(dfs, ignore_index=True)).drop_duplicates()\n",
    "#  ).to_pickle('../Datasets/app.pkl')\n"
   ]
  },
  {
   "cell_type": "code",
   "execution_count": 8,
   "metadata": {},
   "outputs": [
    {
     "data": {
      "text/html": [
       "<div>\n",
       "<style scoped>\n",
       "    .dataframe tbody tr th:only-of-type {\n",
       "        vertical-align: middle;\n",
       "    }\n",
       "\n",
       "    .dataframe tbody tr th {\n",
       "        vertical-align: top;\n",
       "    }\n",
       "\n",
       "    .dataframe thead th {\n",
       "        text-align: right;\n",
       "    }\n",
       "</style>\n",
       "<table border=\"1\" class=\"dataframe\">\n",
       "  <thead>\n",
       "    <tr style=\"text-align: right;\">\n",
       "      <th></th>\n",
       "      <th>appid</th>\n",
       "      <th>app_type</th>\n",
       "      <th>app_class</th>\n",
       "    </tr>\n",
       "  </thead>\n",
       "  <tbody>\n",
       "    <tr>\n",
       "      <th>count</th>\n",
       "      <td>37276</td>\n",
       "      <td>37276</td>\n",
       "      <td>37276</td>\n",
       "    </tr>\n",
       "    <tr>\n",
       "      <th>unique</th>\n",
       "      <td>36437</td>\n",
       "      <td>2</td>\n",
       "      <td>21</td>\n",
       "    </tr>\n",
       "    <tr>\n",
       "      <th>top</th>\n",
       "      <td>19582</td>\n",
       "      <td>usr</td>\n",
       "      <td>NaN</td>\n",
       "    </tr>\n",
       "    <tr>\n",
       "      <th>freq</th>\n",
       "      <td>2</td>\n",
       "      <td>34153</td>\n",
       "      <td>32958</td>\n",
       "    </tr>\n",
       "  </tbody>\n",
       "</table>\n",
       "</div>"
      ],
      "text/plain": [
       "        appid app_type app_class\n",
       "count   37276    37276     37276\n",
       "unique  36437        2        21\n",
       "top     19582      usr       NaN\n",
       "freq        2    34153     32958"
      ]
     },
     "execution_count": 8,
     "metadata": {},
     "output_type": "execute_result"
    }
   ],
   "source": [
    "app = pd.read_pickle('../Datasets/app.pkl')\n",
    "app['appid'] = app['appid'].astype('category')\n",
    "app.select_dtypes('category').describe()\n"
   ]
  },
  {
   "cell_type": "code",
   "execution_count": 9,
   "metadata": {},
   "outputs": [
    {
     "data": {
      "text/html": [
       "<div>\n",
       "<style scoped>\n",
       "    .dataframe tbody tr th:only-of-type {\n",
       "        vertical-align: middle;\n",
       "    }\n",
       "\n",
       "    .dataframe tbody tr th {\n",
       "        vertical-align: top;\n",
       "    }\n",
       "\n",
       "    .dataframe thead th {\n",
       "        text-align: right;\n",
       "    }\n",
       "</style>\n",
       "<table border=\"1\" class=\"dataframe\">\n",
       "  <thead>\n",
       "    <tr style=\"text-align: right;\">\n",
       "      <th></th>\n",
       "      <th>app_type</th>\n",
       "      <th>app_class</th>\n",
       "    </tr>\n",
       "    <tr>\n",
       "      <th>appid</th>\n",
       "      <th></th>\n",
       "      <th></th>\n",
       "    </tr>\n",
       "  </thead>\n",
       "  <tbody>\n",
       "    <tr>\n",
       "      <th>4</th>\n",
       "      <td>2</td>\n",
       "      <td>2</td>\n",
       "    </tr>\n",
       "    <tr>\n",
       "      <th>50</th>\n",
       "      <td>2</td>\n",
       "      <td>2</td>\n",
       "    </tr>\n",
       "    <tr>\n",
       "      <th>61</th>\n",
       "      <td>2</td>\n",
       "      <td>2</td>\n",
       "    </tr>\n",
       "    <tr>\n",
       "      <th>62</th>\n",
       "      <td>2</td>\n",
       "      <td>2</td>\n",
       "    </tr>\n",
       "    <tr>\n",
       "      <th>70</th>\n",
       "      <td>2</td>\n",
       "      <td>2</td>\n",
       "    </tr>\n",
       "    <tr>\n",
       "      <th>...</th>\n",
       "      <td>...</td>\n",
       "      <td>...</td>\n",
       "    </tr>\n",
       "    <tr>\n",
       "      <th>49816</th>\n",
       "      <td>2</td>\n",
       "      <td>2</td>\n",
       "    </tr>\n",
       "    <tr>\n",
       "      <th>54481</th>\n",
       "      <td>2</td>\n",
       "      <td>2</td>\n",
       "    </tr>\n",
       "    <tr>\n",
       "      <th>57280</th>\n",
       "      <td>2</td>\n",
       "      <td>2</td>\n",
       "    </tr>\n",
       "    <tr>\n",
       "      <th>57827</th>\n",
       "      <td>2</td>\n",
       "      <td>2</td>\n",
       "    </tr>\n",
       "    <tr>\n",
       "      <th>58061</th>\n",
       "      <td>2</td>\n",
       "      <td>2</td>\n",
       "    </tr>\n",
       "  </tbody>\n",
       "</table>\n",
       "<p>839 rows × 2 columns</p>\n",
       "</div>"
      ],
      "text/plain": [
       "       app_type  app_class\n",
       "appid                     \n",
       "4             2          2\n",
       "50            2          2\n",
       "61            2          2\n",
       "62            2          2\n",
       "70            2          2\n",
       "...         ...        ...\n",
       "49816         2          2\n",
       "54481         2          2\n",
       "57280         2          2\n",
       "57827         2          2\n",
       "58061         2          2\n",
       "\n",
       "[839 rows x 2 columns]"
      ]
     },
     "execution_count": 9,
     "metadata": {},
     "output_type": "execute_result"
    }
   ],
   "source": [
    "app.groupby('appid').count().query('app_class == 2')\n"
   ]
  },
  {
   "cell_type": "code",
   "execution_count": 10,
   "metadata": {},
   "outputs": [
    {
     "data": {
      "text/html": [
       "<div>\n",
       "<style scoped>\n",
       "    .dataframe tbody tr th:only-of-type {\n",
       "        vertical-align: middle;\n",
       "    }\n",
       "\n",
       "    .dataframe tbody tr th {\n",
       "        vertical-align: top;\n",
       "    }\n",
       "\n",
       "    .dataframe thead th {\n",
       "        text-align: right;\n",
       "    }\n",
       "</style>\n",
       "<table border=\"1\" class=\"dataframe\">\n",
       "  <thead>\n",
       "    <tr style=\"text-align: right;\">\n",
       "      <th></th>\n",
       "      <th>uid</th>\n",
       "      <th>appid</th>\n",
       "      <th>app_type</th>\n",
       "      <th>app_class</th>\n",
       "      <th>start_day</th>\n",
       "      <th>start_time</th>\n",
       "      <th>end_day</th>\n",
       "      <th>end_time</th>\n",
       "      <th>duration</th>\n",
       "      <th>up_flow</th>\n",
       "      <th>down_flow</th>\n",
       "    </tr>\n",
       "  </thead>\n",
       "  <tbody>\n",
       "    <tr>\n",
       "      <th>5321028</th>\n",
       "      <td>91C16B1FE338DA085CB0B0840D8C6BA5</td>\n",
       "      <td>4</td>\n",
       "      <td>usr</td>\n",
       "      <td>g</td>\n",
       "      <td>1</td>\n",
       "      <td>19:47:58</td>\n",
       "      <td>1</td>\n",
       "      <td>19:48:02</td>\n",
       "      <td>4</td>\n",
       "      <td>317</td>\n",
       "      <td>1160</td>\n",
       "    </tr>\n",
       "  </tbody>\n",
       "</table>\n",
       "</div>"
      ],
      "text/plain": [
       "                                      uid appid app_type app_class  start_day  \\\n",
       "5321028  91C16B1FE338DA085CB0B0840D8C6BA5     4      usr         g          1   \n",
       "\n",
       "        start_time  end_day  end_time  duration  up_flow  down_flow  \n",
       "5321028   19:47:58        1  19:48:02         4      317       1160  "
      ]
     },
     "execution_count": 10,
     "metadata": {},
     "output_type": "execute_result"
    }
   ],
   "source": [
    "days[1][(days[1]['appid'] == 4) & (days[1]['app_type'] == 'usr')\n",
    "        & (days[1]['uid'] == '91C16B1FE338DA085CB0B0840D8C6BA5')]\n"
   ]
  },
  {
   "cell_type": "code",
   "execution_count": 11,
   "metadata": {},
   "outputs": [
    {
     "name": "stderr",
     "output_type": "stream",
     "text": [
      "/Users/durui/opt/anaconda3/lib/python3.9/site-packages/seaborn/axisgrid.py:118: UserWarning: The figure layout has changed to tight\n",
      "  self._figure.tight_layout(*args, **kwargs)\n"
     ]
    },
    {
     "data": {
      "image/png": "[encoded data removed]",
      "text/plain": [
       "<Figure size 785.172x360 with 1 Axes>"
      ]
     },
     "metadata": {},
     "output_type": "display_data"
    }
   ],
   "source": [
    "g = sns.catplot(kind='count', data=app.query(\"app_class != 'NaN'\"), x='app_class',\n",
    "                hue='app_type', hue_order=['usr', 'sys'],\n",
    "                height=5, aspect=10/5)\n",
    "plt.yscale('log')\n",
    "plt.savefig(\"../Thesis/figures/catplot_count_app_class.pdf\",\n",
    "            dpi=400, bbox_inches='tight', pad_inches=0.005)\n"
   ]
  }
 ],
 "metadata": {
  "kernelspec": {
   "display_name": "Python 3 (ipykernel)",
   "language": "python",
   "name": "python3"
  },
  "language_info": {
   "codemirror_mode": {
    "name": "ipython",
    "version": 3
   },
   "file_extension": ".py",
   "mimetype": "text/x-python",
   "name": "python",
   "nbconvert_exporter": "python",
   "pygments_lexer": "ipython3",
   "version": "3.9.12"
  },
  "toc": {
   "base_numbering": 1,
   "nav_menu": {},
   "number_sections": true,
   "sideBar": true,
   "skip_h1_title": false,
   "title_cell": "Table of Contents",
   "title_sidebar": "Contents",
   "toc_cell": false,
   "toc_position": {},
   "toc_section_display": true,
   "toc_window_display": true
  }
 },
 "nbformat": 4,
 "nbformat_minor": 2
}
