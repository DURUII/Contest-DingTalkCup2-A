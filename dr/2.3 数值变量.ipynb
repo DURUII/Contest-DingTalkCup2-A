{
 "cells": [
  {
   "cell_type": "markdown",
   "metadata": {},
   "source": [
    "# 载入套件"
   ]
  },
  {
   "cell_type": "code",
   "execution_count": 1,
   "metadata": {},
   "outputs": [],
   "source": [
    "from typing import Dict\n",
    "from tqdm.auto import tqdm\n",
    "\n",
    "import numpy as np\n",
    "import random\n",
    "import pandas as pd\n",
    "import ydata_profiling\n",
    "\n",
    "import scienceplots\n",
    "import matplotlib.pyplot as plt\n",
    "import seaborn as sns\n",
    "import matplotlib\n",
    "\n",
    "import torch\n",
    "import os\n",
    "\n",
    "%matplotlib inline\n",
    "\n",
    "pd.plotting.register_matplotlib_converters()\n",
    "sns.set_style(\"whitegrid\")\n",
    "sns.set_palette(\"RdBu\")\n",
    "sns.set(\n",
    "    rc={'text.usetex': True},\n",
    "    font=\"serif\",\n",
    "    font_scale=1.2\n",
    ")\n",
    "\n",
    "days = {i: pd.read_pickle(f'../Datasets/day{str(i).zfill(2)}.pkl')\n",
    "        for i in range(1, 22)}\n",
    "\n",
    "# 继承自2.2数据探索之类别变量\n",
    "for i in range(1, 22):\n",
    "    days[i]['app_type'] = days[i]['app_type'].replace(\n",
    "        {'用户': 'usr', '预装': 'sys'})\n"
   ]
  },
  {
   "cell_type": "markdown",
   "metadata": {},
   "source": [
    "# 单一变量"
   ]
  },
  {
   "cell_type": "code",
   "execution_count": 2,
   "metadata": {},
   "outputs": [
    {
     "data": {
      "text/html": [
       "<div>\n",
       "<style scoped>\n",
       "    .dataframe tbody tr th:only-of-type {\n",
       "        vertical-align: middle;\n",
       "    }\n",
       "\n",
       "    .dataframe tbody tr th {\n",
       "        vertical-align: top;\n",
       "    }\n",
       "\n",
       "    .dataframe thead th {\n",
       "        text-align: right;\n",
       "    }\n",
       "</style>\n",
       "<table border=\"1\" class=\"dataframe\">\n",
       "  <thead>\n",
       "    <tr style=\"text-align: right;\">\n",
       "      <th></th>\n",
       "      <th>start_day</th>\n",
       "      <th>end_day</th>\n",
       "      <th>duration</th>\n",
       "      <th>up_flow</th>\n",
       "      <th>down_flow</th>\n",
       "    </tr>\n",
       "  </thead>\n",
       "  <tbody>\n",
       "    <tr>\n",
       "      <th>count</th>\n",
       "      <td>5.335803e+06</td>\n",
       "      <td>5335803.0</td>\n",
       "      <td>5.335803e+06</td>\n",
       "      <td>5.335803e+06</td>\n",
       "      <td>5.335803e+06</td>\n",
       "    </tr>\n",
       "    <tr>\n",
       "      <th>mean</th>\n",
       "      <td>9.751070e-01</td>\n",
       "      <td>1.0</td>\n",
       "      <td>2.151605e+03</td>\n",
       "      <td>6.075722e+05</td>\n",
       "      <td>1.581638e+05</td>\n",
       "    </tr>\n",
       "    <tr>\n",
       "      <th>std</th>\n",
       "      <td>1.684390e+01</td>\n",
       "      <td>0.0</td>\n",
       "      <td>1.455335e+06</td>\n",
       "      <td>1.101550e+07</td>\n",
       "      <td>6.538530e+06</td>\n",
       "    </tr>\n",
       "    <tr>\n",
       "      <th>min</th>\n",
       "      <td>-1.652400e+04</td>\n",
       "      <td>1.0</td>\n",
       "      <td>1.000000e+00</td>\n",
       "      <td>0.000000e+00</td>\n",
       "      <td>0.000000e+00</td>\n",
       "    </tr>\n",
       "    <tr>\n",
       "      <th>25%</th>\n",
       "      <td>1.000000e+00</td>\n",
       "      <td>1.0</td>\n",
       "      <td>3.000000e+00</td>\n",
       "      <td>0.000000e+00</td>\n",
       "      <td>0.000000e+00</td>\n",
       "    </tr>\n",
       "    <tr>\n",
       "      <th>50%</th>\n",
       "      <td>1.000000e+00</td>\n",
       "      <td>1.0</td>\n",
       "      <td>1.000000e+01</td>\n",
       "      <td>0.000000e+00</td>\n",
       "      <td>0.000000e+00</td>\n",
       "    </tr>\n",
       "    <tr>\n",
       "      <th>75%</th>\n",
       "      <td>1.000000e+00</td>\n",
       "      <td>1.0</td>\n",
       "      <td>3.600000e+01</td>\n",
       "      <td>1.278000e+03</td>\n",
       "      <td>1.063000e+03</td>\n",
       "    </tr>\n",
       "    <tr>\n",
       "      <th>max</th>\n",
       "      <td>1.000000e+00</td>\n",
       "      <td>1.0</td>\n",
       "      <td>1.427770e+09</td>\n",
       "      <td>3.639474e+09</td>\n",
       "      <td>3.292713e+09</td>\n",
       "    </tr>\n",
       "  </tbody>\n",
       "</table>\n",
       "</div>"
      ],
      "text/plain": [
       "          start_day    end_day      duration       up_flow     down_flow\n",
       "count  5.335803e+06  5335803.0  5.335803e+06  5.335803e+06  5.335803e+06\n",
       "mean   9.751070e-01        1.0  2.151605e+03  6.075722e+05  1.581638e+05\n",
       "std    1.684390e+01        0.0  1.455335e+06  1.101550e+07  6.538530e+06\n",
       "min   -1.652400e+04        1.0  1.000000e+00  0.000000e+00  0.000000e+00\n",
       "25%    1.000000e+00        1.0  3.000000e+00  0.000000e+00  0.000000e+00\n",
       "50%    1.000000e+00        1.0  1.000000e+01  0.000000e+00  0.000000e+00\n",
       "75%    1.000000e+00        1.0  3.600000e+01  1.278000e+03  1.063000e+03\n",
       "max    1.000000e+00        1.0  1.427770e+09  3.639474e+09  3.292713e+09"
      ]
     },
     "execution_count": 2,
     "metadata": {},
     "output_type": "execute_result"
    }
   ],
   "source": [
    "days[1].select_dtypes('number').describe()\n"
   ]
  },
  {
   "cell_type": "code",
   "execution_count": 3,
   "metadata": {},
   "outputs": [
    {
     "data": {
      "image/png": "[encoded data removed]",
      "text/plain": [
       "<Figure size 972x360 with 3 Axes>"
      ]
     },
     "metadata": {},
     "output_type": "display_data"
    }
   ],
   "source": [
    "fig, axes = plt.subplots(1, 3, figsize=(13.5, 5))\n",
    "\n",
    "for i, x in enumerate(['duration', 'up_flow', 'down_flow']):\n",
    "    g = sns.boxenplot(data=days[1], y=x, orient='v', ax=axes[i])\n",
    "    g.set(\n",
    "        yscale='log'\n",
    "    )\n",
    "\n",
    "plt.savefig(\"../Thesis/figures/boxenplot_duration_day01.pdf\",\n",
    "            dpi=400, bbox_inches='tight', pad_inches=0.005)\n"
   ]
  },
  {
   "cell_type": "code",
   "execution_count": 4,
   "metadata": {},
   "outputs": [
    {
     "data": {
      "text/plain": [
       "9158.023000001907"
      ]
     },
     "execution_count": 4,
     "metadata": {},
     "output_type": "execute_result"
    }
   ],
   "source": [
    "boss = 0\n",
    "for i in range(1, 22):\n",
    "    boss = max(boss, days[i]['duration'].quantile(0.9998))\n",
    "boss\n"
   ]
  },
  {
   "cell_type": "code",
   "execution_count": 5,
   "metadata": {},
   "outputs": [],
   "source": [
    "# days[1].query(\"uid == '64B3E40461C56847F35DB46D55707EA4'\").sort_values(\n",
    "#     by='end_time')\n"
   ]
  },
  {
   "cell_type": "code",
   "execution_count": 6,
   "metadata": {},
   "outputs": [],
   "source": [
    "# days[1].query(\"uid == '1F1EF788E30A9EA8E8CB52059A4B02A0'\").sort_values(\n",
    "#     by='end_time')\n"
   ]
  },
  {
   "cell_type": "code",
   "execution_count": 7,
   "metadata": {},
   "outputs": [
    {
     "data": {
      "text/html": [
       "<div>\n",
       "<style scoped>\n",
       "    .dataframe tbody tr th:only-of-type {\n",
       "        vertical-align: middle;\n",
       "    }\n",
       "\n",
       "    .dataframe tbody tr th {\n",
       "        vertical-align: top;\n",
       "    }\n",
       "\n",
       "    .dataframe thead th {\n",
       "        text-align: right;\n",
       "    }\n",
       "</style>\n",
       "<table border=\"1\" class=\"dataframe\">\n",
       "  <thead>\n",
       "    <tr style=\"text-align: right;\">\n",
       "      <th></th>\n",
       "      <th>uid</th>\n",
       "      <th>appid</th>\n",
       "      <th>app_type</th>\n",
       "      <th>app_class</th>\n",
       "      <th>start_day</th>\n",
       "      <th>start_time</th>\n",
       "      <th>end_day</th>\n",
       "      <th>end_time</th>\n",
       "      <th>duration</th>\n",
       "      <th>up_flow</th>\n",
       "      <th>down_flow</th>\n",
       "    </tr>\n",
       "  </thead>\n",
       "  <tbody>\n",
       "    <tr>\n",
       "      <th>1673952</th>\n",
       "      <td>64B3E40461C56847F35DB46D55707EA4</td>\n",
       "      <td>4803</td>\n",
       "      <td>usr</td>\n",
       "      <td>a</td>\n",
       "      <td>19</td>\n",
       "      <td>00:52:46</td>\n",
       "      <td>19</td>\n",
       "      <td>07:47:59</td>\n",
       "      <td>24912</td>\n",
       "      <td>6572</td>\n",
       "      <td>9643</td>\n",
       "    </tr>\n",
       "  </tbody>\n",
       "</table>\n",
       "</div>"
      ],
      "text/plain": [
       "                                      uid appid app_type app_class  start_day  \\\n",
       "1673952  64B3E40461C56847F35DB46D55707EA4  4803      usr         a         19   \n",
       "\n",
       "        start_time  end_day  end_time  duration  up_flow  down_flow  \n",
       "1673952   00:52:46       19  07:47:59     24912     6572       9643  "
      ]
     },
     "execution_count": 7,
     "metadata": {},
     "output_type": "execute_result"
    }
   ],
   "source": [
    "days[19].query(\"app_class == 'a' & duration > 20000\")\n"
   ]
  },
  {
   "cell_type": "code",
   "execution_count": 8,
   "metadata": {},
   "outputs": [
    {
     "data": {
      "text/html": [
       "<div>\n",
       "<style scoped>\n",
       "    .dataframe tbody tr th:only-of-type {\n",
       "        vertical-align: middle;\n",
       "    }\n",
       "\n",
       "    .dataframe tbody tr th {\n",
       "        vertical-align: top;\n",
       "    }\n",
       "\n",
       "    .dataframe thead th {\n",
       "        text-align: right;\n",
       "    }\n",
       "</style>\n",
       "<table border=\"1\" class=\"dataframe\">\n",
       "  <thead>\n",
       "    <tr style=\"text-align: right;\">\n",
       "      <th></th>\n",
       "      <th>uid</th>\n",
       "      <th>appid</th>\n",
       "      <th>app_type</th>\n",
       "      <th>app_class</th>\n",
       "      <th>start_day</th>\n",
       "      <th>start_time</th>\n",
       "      <th>end_day</th>\n",
       "      <th>end_time</th>\n",
       "      <th>duration</th>\n",
       "      <th>up_flow</th>\n",
       "      <th>down_flow</th>\n",
       "    </tr>\n",
       "  </thead>\n",
       "  <tbody>\n",
       "    <tr>\n",
       "      <th>0</th>\n",
       "      <td>3B0AAFBD3213D6DB0CCB17EDEAE80C38</td>\n",
       "      <td>2859</td>\n",
       "      <td>sys</td>\n",
       "      <td>NaN</td>\n",
       "      <td>0</td>\n",
       "      <td>20:43:27</td>\n",
       "      <td>1</td>\n",
       "      <td>20:43:50</td>\n",
       "      <td>86423</td>\n",
       "      <td>0</td>\n",
       "      <td>0</td>\n",
       "    </tr>\n",
       "  </tbody>\n",
       "</table>\n",
       "</div>"
      ],
      "text/plain": [
       "                                uid appid app_type app_class  start_day  \\\n",
       "0  3B0AAFBD3213D6DB0CCB17EDEAE80C38  2859      sys       NaN          0   \n",
       "\n",
       "  start_time  end_day  end_time  duration  up_flow  down_flow  \n",
       "0   20:43:27        1  20:43:50     86423        0          0  "
      ]
     },
     "execution_count": 8,
     "metadata": {},
     "output_type": "execute_result"
    }
   ],
   "source": [
    "# 发现：有‘僵尸用户’（请求/活跃程度极低，监控记录中app_class均为NaN）\n",
    "days[1][days[1]['uid'] == '3B0AAFBD3213D6DB0CCB17EDEAE80C38']\n"
   ]
  },
  {
   "cell_type": "code",
   "execution_count": 9,
   "metadata": {},
   "outputs": [],
   "source": [
    "# 数据清洗\n",
    "for i in range(1, 22):\n",
    "    days[i] = days[i].query('duration <= 9159')\n"
   ]
  },
  {
   "cell_type": "code",
   "execution_count": 10,
   "metadata": {},
   "outputs": [
    {
     "data": {
      "text/html": [
       "<div>\n",
       "<style scoped>\n",
       "    .dataframe tbody tr th:only-of-type {\n",
       "        vertical-align: middle;\n",
       "    }\n",
       "\n",
       "    .dataframe tbody tr th {\n",
       "        vertical-align: top;\n",
       "    }\n",
       "\n",
       "    .dataframe thead th {\n",
       "        text-align: right;\n",
       "    }\n",
       "</style>\n",
       "<table border=\"1\" class=\"dataframe\">\n",
       "  <thead>\n",
       "    <tr style=\"text-align: right;\">\n",
       "      <th></th>\n",
       "      <th>start_day</th>\n",
       "      <th>end_day</th>\n",
       "      <th>duration</th>\n",
       "      <th>up_flow</th>\n",
       "      <th>down_flow</th>\n",
       "    </tr>\n",
       "  </thead>\n",
       "  <tbody>\n",
       "    <tr>\n",
       "      <th>count</th>\n",
       "      <td>5.335042e+06</td>\n",
       "      <td>5335042.0</td>\n",
       "      <td>5.335042e+06</td>\n",
       "      <td>5.335042e+06</td>\n",
       "      <td>5.335042e+06</td>\n",
       "    </tr>\n",
       "    <tr>\n",
       "      <th>mean</th>\n",
       "      <td>9.993183e-01</td>\n",
       "      <td>1.0</td>\n",
       "      <td>6.039494e+01</td>\n",
       "      <td>5.912800e+05</td>\n",
       "      <td>1.511990e+05</td>\n",
       "    </tr>\n",
       "    <tr>\n",
       "      <th>std</th>\n",
       "      <td>2.610085e-02</td>\n",
       "      <td>0.0</td>\n",
       "      <td>2.196023e+02</td>\n",
       "      <td>1.001614e+07</td>\n",
       "      <td>6.069254e+06</td>\n",
       "    </tr>\n",
       "    <tr>\n",
       "      <th>min</th>\n",
       "      <td>0.000000e+00</td>\n",
       "      <td>1.0</td>\n",
       "      <td>1.000000e+00</td>\n",
       "      <td>0.000000e+00</td>\n",
       "      <td>0.000000e+00</td>\n",
       "    </tr>\n",
       "    <tr>\n",
       "      <th>25%</th>\n",
       "      <td>1.000000e+00</td>\n",
       "      <td>1.0</td>\n",
       "      <td>3.000000e+00</td>\n",
       "      <td>0.000000e+00</td>\n",
       "      <td>0.000000e+00</td>\n",
       "    </tr>\n",
       "    <tr>\n",
       "      <th>50%</th>\n",
       "      <td>1.000000e+00</td>\n",
       "      <td>1.0</td>\n",
       "      <td>1.000000e+01</td>\n",
       "      <td>0.000000e+00</td>\n",
       "      <td>0.000000e+00</td>\n",
       "    </tr>\n",
       "    <tr>\n",
       "      <th>75%</th>\n",
       "      <td>1.000000e+00</td>\n",
       "      <td>1.0</td>\n",
       "      <td>3.600000e+01</td>\n",
       "      <td>1.277000e+03</td>\n",
       "      <td>1.062000e+03</td>\n",
       "    </tr>\n",
       "    <tr>\n",
       "      <th>max</th>\n",
       "      <td>1.000000e+00</td>\n",
       "      <td>1.0</td>\n",
       "      <td>9.158000e+03</td>\n",
       "      <td>3.522792e+09</td>\n",
       "      <td>3.292713e+09</td>\n",
       "    </tr>\n",
       "  </tbody>\n",
       "</table>\n",
       "</div>"
      ],
      "text/plain": [
       "          start_day    end_day      duration       up_flow     down_flow\n",
       "count  5.335042e+06  5335042.0  5.335042e+06  5.335042e+06  5.335042e+06\n",
       "mean   9.993183e-01        1.0  6.039494e+01  5.912800e+05  1.511990e+05\n",
       "std    2.610085e-02        0.0  2.196023e+02  1.001614e+07  6.069254e+06\n",
       "min    0.000000e+00        1.0  1.000000e+00  0.000000e+00  0.000000e+00\n",
       "25%    1.000000e+00        1.0  3.000000e+00  0.000000e+00  0.000000e+00\n",
       "50%    1.000000e+00        1.0  1.000000e+01  0.000000e+00  0.000000e+00\n",
       "75%    1.000000e+00        1.0  3.600000e+01  1.277000e+03  1.062000e+03\n",
       "max    1.000000e+00        1.0  9.158000e+03  3.522792e+09  3.292713e+09"
      ]
     },
     "execution_count": 10,
     "metadata": {},
     "output_type": "execute_result"
    }
   ],
   "source": [
    "days[1].select_dtypes('number').describe()\n"
   ]
  },
  {
   "cell_type": "code",
   "execution_count": 52,
   "metadata": {},
   "outputs": [
    {
     "data": {
      "image/png": "[encoded data removed]",
      "text/plain": [
       "<Figure size 2016x288 with 5 Axes>"
      ]
     },
     "metadata": {},
     "output_type": "display_data"
    }
   ],
   "source": [
    "fig, axes = plt.subplots(1, 5, figsize=(28, 4))\n",
    "ax = axes[0]\n",
    "g = sns.histplot(\n",
    "    data=days[1].pivot_table(\n",
    "        index='uid',\n",
    "        values='appid',\n",
    "        aggfunc='count',\n",
    "    ),\n",
    "    ax=ax,\n",
    "    x='appid'\n",
    ")\n",
    "\n",
    "\n",
    "ax = axes[1]\n",
    "g = sns.histplot(\n",
    "    data=days[1].pivot_table(\n",
    "        index='uid',\n",
    "        values='duration',\n",
    "        aggfunc=np.sum\n",
    "    ),\n",
    "    ax=ax,\n",
    "    x='duration'\n",
    ")\n",
    "\n",
    "\n",
    "ax = axes[2]\n",
    "g = sns.histplot(\n",
    "    data=days[1].pivot_table(\n",
    "        index='uid',\n",
    "        values='up_flow',\n",
    "        aggfunc=np.sum\n",
    "    ),\n",
    "    ax=ax,\n",
    "    x='up_flow',\n",
    ")\n",
    "g.set(\n",
    "    xscale='log'\n",
    ")\n",
    "\n",
    "ax = axes[3]\n",
    "g = sns.histplot(\n",
    "    data=days[1].pivot_table(\n",
    "        index='uid',\n",
    "        values='down_flow',\n",
    "        aggfunc=np.sum\n",
    "    ),\n",
    "    ax=ax,\n",
    "    x='down_flow',\n",
    ")\n",
    "g.set(\n",
    "    xscale='log'\n",
    ")\n",
    "\n",
    "ax = axes[4]\n",
    "g = sns.histplot(\n",
    "    data=pd.DataFrame(pd.DataFrame(\n",
    "        days[1].groupby('uid').size()).to_records()),\n",
    "    ax=ax,\n",
    "    x='0',\n",
    ")\n",
    "\n",
    "plt.savefig(\"../Thesis/figures/histplots_appid_duration_upflow_downflow_lines.pdf\",\n",
    "            dpi=400, bbox_inches='tight', pad_inches=0.005)\n"
   ]
  }
 ],
 "metadata": {
  "kernelspec": {
   "display_name": "base",
   "language": "python",
   "name": "python3"
  },
  "language_info": {
   "codemirror_mode": {
    "name": "ipython",
    "version": 3
   },
   "file_extension": ".py",
   "mimetype": "text/x-python",
   "name": "python",
   "nbconvert_exporter": "python",
   "pygments_lexer": "ipython3",
   "version": "3.9.12"
  },
  "orig_nbformat": 4
 },
 "nbformat": 4,
 "nbformat_minor": 2
}
