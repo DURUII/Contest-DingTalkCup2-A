{
 "cells": [
  {
   "cell_type": "markdown",
   "metadata": {},
   "source": [
    "# 载入套件"
   ]
  },
  {
   "cell_type": "code",
   "execution_count": 1,
   "metadata": {
    "ExecuteTime": {
     "end_time": "2023-07-15T14:15:02.993867Z",
     "start_time": "2023-07-15T14:14:59.875052Z"
    }
   },
   "outputs": [],
   "source": [
    "from typing import Dict\n",
    "from tqdm.auto import tqdm\n",
    "\n",
    "import numpy as np\n",
    "import random\n",
    "import pandas as pd\n",
    "import ydata_profiling\n",
    "\n",
    "import scienceplots\n",
    "import matplotlib.pyplot as plt\n",
    "import seaborn as sns\n",
    "import matplotlib\n",
    "\n",
    "import torch\n",
    "import os\n",
    "\n",
    "%matplotlib inline\n",
    "\n",
    "pd.plotting.register_matplotlib_converters()\n",
    "sns.set_style(\"whitegrid\")\n",
    "sns.set_palette(\"RdBu\")\n",
    "sns.set(\n",
    "    rc={'text.usetex': True},\n",
    "    font=\"serif\",\n",
    "    font_scale=1.2\n",
    ")\n"
   ]
  },
  {
   "cell_type": "markdown",
   "metadata": {},
   "source": [
    "# 工具函数"
   ]
  },
  {
   "cell_type": "code",
   "execution_count": 2,
   "metadata": {
    "ExecuteTime": {
     "end_time": "2023-07-15T14:15:02.999560Z",
     "start_time": "2023-07-15T14:15:02.995233Z"
    }
   },
   "outputs": [],
   "source": [
    "SEED = 20230723\n",
    "\n",
    "\n",
    "def same_seed(seed=SEED):\n",
    "    random.seed(seed)\n",
    "    os.environ['PYTHONHASHSEED'] = str(seed)\n",
    "    np.random.seed(seed)\n",
    "    torch.manual_seed(seed)\n",
    "    torch.cuda.manual_seed(seed)\n",
    "    torch.backends.cudnn.deterministic = True\n",
    "    torch.backends.cudnn.benchmark = False\n",
    "    if torch.cuda.is_available():\n",
    "        torch.cuda.manual_seed_all(seed)\n",
    "\n",
    "\n",
    "same_seed()\n"
   ]
  },
  {
   "cell_type": "markdown",
   "metadata": {},
   "source": [
    "# 数据探索\n",
    "\n",
    "## 辅助表格\n",
    "\n",
    "app_class.csv，共两列。第一列是appid,给出4000多个常用APP所属类别（app_class）,比如：社交类、影视类、教育类等，用英文字母a-t表示，共20个常用得所属类别，其余APP不常用，所属类别未知。"
   ]
  },
  {
   "cell_type": "code",
   "execution_count": 3,
   "metadata": {
    "ExecuteTime": {
     "end_time": "2023-07-15T14:15:03.258519Z",
     "start_time": "2023-07-15T14:15:03.238156Z"
    }
   },
   "outputs": [
    {
     "name": "stdout",
     "output_type": "stream",
     "text": [
      "app: (4197, 2)\n"
     ]
    }
   ],
   "source": [
    "# 辅助表格，常用APP类别\n",
    "# 发现：原始表格存在重复值\n",
    "app = pd.read_csv('../Datasets/app_class.csv', header=None).drop_duplicates()\n",
    "app.columns = ['appid', 'app_class']\n",
    "\n",
    "# 约束数据格式\n",
    "app['appid'] = app['appid'].astype('category')\n",
    "app['app_class'] = app['app_class'].astype('category')\n",
    "\n",
    "# 打印行列数\n",
    "print('app:', app.shape)\n"
   ]
  },
  {
   "cell_type": "code",
   "execution_count": 4,
   "metadata": {
    "ExecuteTime": {
     "end_time": "2023-07-15T14:15:03.435168Z",
     "start_time": "2023-07-15T14:15:03.415458Z"
    }
   },
   "outputs": [
    {
     "data": {
      "text/html": [
       "<div>\n",
       "<style scoped>\n",
       "    .dataframe tbody tr th:only-of-type {\n",
       "        vertical-align: middle;\n",
       "    }\n",
       "\n",
       "    .dataframe tbody tr th {\n",
       "        vertical-align: top;\n",
       "    }\n",
       "\n",
       "    .dataframe thead th {\n",
       "        text-align: right;\n",
       "    }\n",
       "</style>\n",
       "<table border=\"1\" class=\"dataframe\">\n",
       "  <thead>\n",
       "    <tr style=\"text-align: right;\">\n",
       "      <th></th>\n",
       "      <th>appid</th>\n",
       "      <th>app_class</th>\n",
       "    </tr>\n",
       "  </thead>\n",
       "  <tbody>\n",
       "    <tr>\n",
       "      <th>count</th>\n",
       "      <td>4197</td>\n",
       "      <td>4197</td>\n",
       "    </tr>\n",
       "    <tr>\n",
       "      <th>unique</th>\n",
       "      <td>4197</td>\n",
       "      <td>20</td>\n",
       "    </tr>\n",
       "    <tr>\n",
       "      <th>top</th>\n",
       "      <td>4</td>\n",
       "      <td>t</td>\n",
       "    </tr>\n",
       "    <tr>\n",
       "      <th>freq</th>\n",
       "      <td>1</td>\n",
       "      <td>1559</td>\n",
       "    </tr>\n",
       "  </tbody>\n",
       "</table>\n",
       "</div>"
      ],
      "text/plain": [
       "        appid app_class\n",
       "count    4197      4197\n",
       "unique   4197        20\n",
       "top         4         t\n",
       "freq        1      1559"
      ]
     },
     "execution_count": 4,
     "metadata": {},
     "output_type": "execute_result"
    }
   ],
   "source": [
    "app.describe()\n"
   ]
  },
  {
   "cell_type": "code",
   "execution_count": 5,
   "metadata": {
    "ExecuteTime": {
     "end_time": "2023-07-15T14:15:04.072461Z",
     "start_time": "2023-07-15T14:15:04.060362Z"
    }
   },
   "outputs": [
    {
     "data": {
      "text/html": [
       "<div>\n",
       "<style scoped>\n",
       "    .dataframe tbody tr th:only-of-type {\n",
       "        vertical-align: middle;\n",
       "    }\n",
       "\n",
       "    .dataframe tbody tr th {\n",
       "        vertical-align: top;\n",
       "    }\n",
       "\n",
       "    .dataframe thead th {\n",
       "        text-align: right;\n",
       "    }\n",
       "</style>\n",
       "<table border=\"1\" class=\"dataframe\">\n",
       "  <thead>\n",
       "    <tr style=\"text-align: right;\">\n",
       "      <th></th>\n",
       "      <th>count</th>\n",
       "    </tr>\n",
       "    <tr>\n",
       "      <th>app_class</th>\n",
       "      <th></th>\n",
       "    </tr>\n",
       "  </thead>\n",
       "  <tbody>\n",
       "    <tr>\n",
       "      <th>t</th>\n",
       "      <td>1559</td>\n",
       "    </tr>\n",
       "    <tr>\n",
       "      <th>g</th>\n",
       "      <td>386</td>\n",
       "    </tr>\n",
       "    <tr>\n",
       "      <th>i</th>\n",
       "      <td>232</td>\n",
       "    </tr>\n",
       "    <tr>\n",
       "      <th>c</th>\n",
       "      <td>196</td>\n",
       "    </tr>\n",
       "    <tr>\n",
       "      <th>f</th>\n",
       "      <td>156</td>\n",
       "    </tr>\n",
       "    <tr>\n",
       "      <th>j</th>\n",
       "      <td>155</td>\n",
       "    </tr>\n",
       "    <tr>\n",
       "      <th>h</th>\n",
       "      <td>152</td>\n",
       "    </tr>\n",
       "    <tr>\n",
       "      <th>q</th>\n",
       "      <td>143</td>\n",
       "    </tr>\n",
       "    <tr>\n",
       "      <th>b</th>\n",
       "      <td>141</td>\n",
       "    </tr>\n",
       "    <tr>\n",
       "      <th>n</th>\n",
       "      <td>129</td>\n",
       "    </tr>\n",
       "    <tr>\n",
       "      <th>p</th>\n",
       "      <td>123</td>\n",
       "    </tr>\n",
       "    <tr>\n",
       "      <th>a</th>\n",
       "      <td>109</td>\n",
       "    </tr>\n",
       "    <tr>\n",
       "      <th>m</th>\n",
       "      <td>106</td>\n",
       "    </tr>\n",
       "    <tr>\n",
       "      <th>l</th>\n",
       "      <td>102</td>\n",
       "    </tr>\n",
       "    <tr>\n",
       "      <th>o</th>\n",
       "      <td>101</td>\n",
       "    </tr>\n",
       "    <tr>\n",
       "      <th>e</th>\n",
       "      <td>96</td>\n",
       "    </tr>\n",
       "    <tr>\n",
       "      <th>k</th>\n",
       "      <td>93</td>\n",
       "    </tr>\n",
       "    <tr>\n",
       "      <th>d</th>\n",
       "      <td>90</td>\n",
       "    </tr>\n",
       "    <tr>\n",
       "      <th>s</th>\n",
       "      <td>87</td>\n",
       "    </tr>\n",
       "    <tr>\n",
       "      <th>r</th>\n",
       "      <td>41</td>\n",
       "    </tr>\n",
       "  </tbody>\n",
       "</table>\n",
       "</div>"
      ],
      "text/plain": [
       "           count\n",
       "app_class       \n",
       "t           1559\n",
       "g            386\n",
       "i            232\n",
       "c            196\n",
       "f            156\n",
       "j            155\n",
       "h            152\n",
       "q            143\n",
       "b            141\n",
       "n            129\n",
       "p            123\n",
       "a            109\n",
       "m            106\n",
       "l            102\n",
       "o            101\n",
       "e             96\n",
       "k             93\n",
       "d             90\n",
       "s             87\n",
       "r             41"
      ]
     },
     "execution_count": 5,
     "metadata": {},
     "output_type": "execute_result"
    }
   ],
   "source": [
    "pd.DataFrame(app.value_counts('app_class'))\n"
   ]
  },
  {
   "cell_type": "code",
   "execution_count": 6,
   "metadata": {
    "ExecuteTime": {
     "end_time": "2023-07-15T14:15:05.749858Z",
     "start_time": "2023-07-15T14:15:04.762015Z"
    },
    "scrolled": false
   },
   "outputs": [
    {
     "name": "stderr",
     "output_type": "stream",
     "text": [
      "/Users/durui/opt/anaconda3/lib/python3.9/site-packages/seaborn/axisgrid.py:118: UserWarning: The figure layout has changed to tight\n",
      "  self._figure.tight_layout(*args, **kwargs)\n"
     ]
    },
    {
     "data": {
      "image/png": "[encoded data removed]",
      "text/plain": [
       "<Figure size 720x360 with 1 Axes>"
      ]
     },
     "metadata": {},
     "output_type": "display_data"
    }
   ],
   "source": [
    "sns.catplot(kind='count', data=app, x='app_class', height=5, aspect=10/5)\n",
    "\n",
    "plt.savefig(\"figures/app_class_countplot.pdf\",\n",
    "            dpi=400, bbox_inches='tight', pad_inches=0.05)\n"
   ]
  },
  {
   "cell_type": "markdown",
   "metadata": {},
   "source": [
    "## 监测表格\n",
    "\n",
    "该数据来自某公司某年连续30天的4万多智能手机用户的监测数据，已经做了脱敏和数据变换处理。每天的数据为1个txt文件，共10列，记录了每个用户（以uid为唯一标识）每天使用各款APP（以appid为唯一标识）的起始时间，使用时长，上下流量等。\n",
    "\n",
    "| 变量名        | 释义                          |\n",
    "|------------|-----------------------------|\n",
    "| uid        | 用户的id                       |\n",
    "| appid      | APP的id（与app_class文件中的第一列对应） |\n",
    "| app_type   | APP类型：系统自带、用户安装             |\n",
    "| start_day  | 使用起始天，取值1-30                |\n",
    "| start_time | 使用起始时间                      |\n",
    "| end_day    | 使用结束天                       |\n",
    "| end_time   | 使用结束时间                      |\n",
    "| duration   | 使用时长（秒）                     |\n",
    "| up_flow    | 上行流量                        |\n",
    "| down_flow  | 下行流量                        |"
   ]
  },
  {
   "cell_type": "markdown",
   "metadata": {},
   "source": [
    "### DAY01\n",
    "\n",
    "根据用户常用所属的20类APP的数据对用户进行聚类，分析聚类结果。\n",
    "根据聚类结果对不同类别的用户画像，并且分析不同群体用户的特征。"
   ]
  },
  {
   "cell_type": "code",
   "execution_count": 7,
   "metadata": {},
   "outputs": [
    {
     "name": "stdout",
     "output_type": "stream",
     "text": [
      "<class 'pandas.core.frame.DataFrame'>\n",
      "RangeIndex: 5860124 entries, 0 to 5860123\n",
      "Data columns (total 8 columns):\n",
      " #   Column          Dtype         \n",
      "---  ------          -----         \n",
      " 0   uid             category      \n",
      " 1   app_type        category      \n",
      " 2   app_class       category      \n",
      " 3   start_time_new  datetime64[ns]\n",
      " 4   end_time_new    datetime64[ns]\n",
      " 5   duration        int64         \n",
      " 6   up_flow         int64         \n",
      " 7   down_flow       int64         \n",
      "dtypes: category(3), datetime64[ns](2), int64(3)\n",
      "memory usage: 257.3 MB\n"
     ]
    }
   ],
   "source": [
    "df = pd.read_pickle('../Datasets/day01_new.pkl')\n",
    "df.info()\n"
   ]
  },
  {
   "cell_type": "code",
   "execution_count": 8,
   "metadata": {},
   "outputs": [
    {
     "data": {
      "text/html": [
       "<div>\n",
       "<style scoped>\n",
       "    .dataframe tbody tr th:only-of-type {\n",
       "        vertical-align: middle;\n",
       "    }\n",
       "\n",
       "    .dataframe tbody tr th {\n",
       "        vertical-align: top;\n",
       "    }\n",
       "\n",
       "    .dataframe thead th {\n",
       "        text-align: right;\n",
       "    }\n",
       "</style>\n",
       "<table border=\"1\" class=\"dataframe\">\n",
       "  <thead>\n",
       "    <tr style=\"text-align: right;\">\n",
       "      <th></th>\n",
       "      <th>uid</th>\n",
       "      <th>app_type</th>\n",
       "      <th>app_class</th>\n",
       "      <th>start_time_new</th>\n",
       "      <th>end_time_new</th>\n",
       "      <th>duration</th>\n",
       "      <th>up_flow</th>\n",
       "      <th>down_flow</th>\n",
       "    </tr>\n",
       "  </thead>\n",
       "  <tbody>\n",
       "    <tr>\n",
       "      <th>1797</th>\n",
       "      <td>9BB8C3325CDB977A9411BEE3A8D3F06A</td>\n",
       "      <td>usr</td>\n",
       "      <td>d</td>\n",
       "      <td>1900-01-01 02:22:27</td>\n",
       "      <td>1900-01-01 02:30:03</td>\n",
       "      <td>456</td>\n",
       "      <td>4818891</td>\n",
       "      <td>75173</td>\n",
       "    </tr>\n",
       "    <tr>\n",
       "      <th>1798</th>\n",
       "      <td>9BB8C3325CDB977A9411BEE3A8D3F06A</td>\n",
       "      <td>usr</td>\n",
       "      <td>d</td>\n",
       "      <td>1900-01-01 02:22:27</td>\n",
       "      <td>1900-01-01 02:30:03</td>\n",
       "      <td>456</td>\n",
       "      <td>4818891</td>\n",
       "      <td>75173</td>\n",
       "    </tr>\n",
       "  </tbody>\n",
       "</table>\n",
       "</div>"
      ],
      "text/plain": [
       "                                   uid app_type app_class      start_time_new  \\\n",
       "1797  9BB8C3325CDB977A9411BEE3A8D3F06A      usr         d 1900-01-01 02:22:27   \n",
       "1798  9BB8C3325CDB977A9411BEE3A8D3F06A      usr         d 1900-01-01 02:22:27   \n",
       "\n",
       "            end_time_new  duration  up_flow  down_flow  \n",
       "1797 1900-01-01 02:30:03       456  4818891      75173  \n",
       "1798 1900-01-01 02:30:03       456  4818891      75173  "
      ]
     },
     "execution_count": 8,
     "metadata": {},
     "output_type": "execute_result"
    }
   ],
   "source": [
    "# 发现：数据存在重复值\n",
    "df[(df.duplicated(keep=False)) & (df['app_class'] != 'NaN')\n",
    "   & (df['uid'] == '9BB8C3325CDB977A9411BEE3A8D3F06A')\n",
    "   ]\n"
   ]
  },
  {
   "cell_type": "markdown",
   "metadata": {},
   "source": [
    "#### 类别特征\n",
    "\n",
    "> 跨字段验证"
   ]
  },
  {
   "cell_type": "code",
   "execution_count": 9,
   "metadata": {},
   "outputs": [
    {
     "data": {
      "text/html": [
       "<div>\n",
       "<style scoped>\n",
       "    .dataframe tbody tr th:only-of-type {\n",
       "        vertical-align: middle;\n",
       "    }\n",
       "\n",
       "    .dataframe tbody tr th {\n",
       "        vertical-align: top;\n",
       "    }\n",
       "\n",
       "    .dataframe thead th {\n",
       "        text-align: right;\n",
       "    }\n",
       "</style>\n",
       "<table border=\"1\" class=\"dataframe\">\n",
       "  <thead>\n",
       "    <tr style=\"text-align: right;\">\n",
       "      <th></th>\n",
       "      <th>uid</th>\n",
       "      <th>app_type</th>\n",
       "      <th>app_class</th>\n",
       "    </tr>\n",
       "  </thead>\n",
       "  <tbody>\n",
       "    <tr>\n",
       "      <th>count</th>\n",
       "      <td>5860124</td>\n",
       "      <td>5860124</td>\n",
       "      <td>5860124</td>\n",
       "    </tr>\n",
       "    <tr>\n",
       "      <th>unique</th>\n",
       "      <td>35451</td>\n",
       "      <td>4</td>\n",
       "      <td>21</td>\n",
       "    </tr>\n",
       "    <tr>\n",
       "      <th>top</th>\n",
       "      <td>A9E4AAC5B8E05D2A4E35E0D4F2994F37</td>\n",
       "      <td>usr</td>\n",
       "      <td>NaN</td>\n",
       "    </tr>\n",
       "    <tr>\n",
       "      <th>freq</th>\n",
       "      <td>7335</td>\n",
       "      <td>3270732</td>\n",
       "      <td>2682179</td>\n",
       "    </tr>\n",
       "  </tbody>\n",
       "</table>\n",
       "</div>"
      ],
      "text/plain": [
       "                                     uid app_type app_class\n",
       "count                            5860124  5860124   5860124\n",
       "unique                             35451        4        21\n",
       "top     A9E4AAC5B8E05D2A4E35E0D4F2994F37      usr       NaN\n",
       "freq                                7335  3270732   2682179"
      ]
     },
     "execution_count": 9,
     "metadata": {},
     "output_type": "execute_result"
    }
   ],
   "source": [
    "df.select_dtypes('category').describe()\n"
   ]
  },
  {
   "cell_type": "code",
   "execution_count": 10,
   "metadata": {},
   "outputs": [
    {
     "data": {
      "text/html": [
       "<div>\n",
       "<style scoped>\n",
       "    .dataframe tbody tr th:only-of-type {\n",
       "        vertical-align: middle;\n",
       "    }\n",
       "\n",
       "    .dataframe tbody tr th {\n",
       "        vertical-align: top;\n",
       "    }\n",
       "\n",
       "    .dataframe thead th {\n",
       "        text-align: right;\n",
       "    }\n",
       "</style>\n",
       "<table border=\"1\" class=\"dataframe\">\n",
       "  <thead>\n",
       "    <tr style=\"text-align: right;\">\n",
       "      <th></th>\n",
       "      <th>uid</th>\n",
       "      <th>app_type</th>\n",
       "      <th>app_class</th>\n",
       "    </tr>\n",
       "  </thead>\n",
       "  <tbody>\n",
       "    <tr>\n",
       "      <th>count</th>\n",
       "      <td>5860124</td>\n",
       "      <td>5860124</td>\n",
       "      <td>5860124</td>\n",
       "    </tr>\n",
       "    <tr>\n",
       "      <th>unique</th>\n",
       "      <td>35451</td>\n",
       "      <td>4</td>\n",
       "      <td>21</td>\n",
       "    </tr>\n",
       "    <tr>\n",
       "      <th>top</th>\n",
       "      <td>A9E4AAC5B8E05D2A4E35E0D4F2994F37</td>\n",
       "      <td>usr</td>\n",
       "      <td>NaN</td>\n",
       "    </tr>\n",
       "    <tr>\n",
       "      <th>freq</th>\n",
       "      <td>7335</td>\n",
       "      <td>3270732</td>\n",
       "      <td>2682179</td>\n",
       "    </tr>\n",
       "  </tbody>\n",
       "</table>\n",
       "</div>"
      ],
      "text/plain": [
       "                                     uid app_type app_class\n",
       "count                            5860124  5860124   5860124\n",
       "unique                             35451        4        21\n",
       "top     A9E4AAC5B8E05D2A4E35E0D4F2994F37      usr       NaN\n",
       "freq                                7335  3270732   2682179"
      ]
     },
     "execution_count": 10,
     "metadata": {},
     "output_type": "execute_result"
    }
   ],
   "source": [
    "# 发现：数据集存在中文['用户', '预装']\n",
    "df.select_dtypes('category').describe()\n"
   ]
  },
  {
   "cell_type": "code",
   "execution_count": 11,
   "metadata": {},
   "outputs": [
    {
     "name": "stderr",
     "output_type": "stream",
     "text": [
      "/Users/durui/opt/anaconda3/lib/python3.9/site-packages/seaborn/axisgrid.py:118: UserWarning: The figure layout has changed to tight\n",
      "  self._figure.tight_layout(*args, **kwargs)\n"
     ]
    },
    {
     "data": {
      "image/png": "[encoded data removed]",
      "text/plain": [
       "<Figure size 785.172x360 with 1 Axes>"
      ]
     },
     "metadata": {},
     "output_type": "display_data"
    }
   ],
   "source": [
    "df.replace({'用户': 'usr', '预装': 'sys'}, inplace=True)\n",
    "g = sns.catplot(kind='count', data=df, x='app_class',\n",
    "                hue='app_type', hue_order=['usr', 'sys'], height=5, aspect=10/5)\n",
    "\n",
    "plt.savefig(\"figures/app_class_day01_countplot_hue_on_type.pdf\",\n",
    "            dpi=400, bbox_inches='tight', pad_inches=0.05)\n"
   ]
  },
  {
   "cell_type": "code",
   "execution_count": 12,
   "metadata": {},
   "outputs": [
    {
     "data": {
      "text/html": [
       "<div>\n",
       "<style scoped>\n",
       "    .dataframe tbody tr th:only-of-type {\n",
       "        vertical-align: middle;\n",
       "    }\n",
       "\n",
       "    .dataframe tbody tr th {\n",
       "        vertical-align: top;\n",
       "    }\n",
       "\n",
       "    .dataframe thead th {\n",
       "        text-align: right;\n",
       "    }\n",
       "</style>\n",
       "<table border=\"1\" class=\"dataframe\">\n",
       "  <thead>\n",
       "    <tr style=\"text-align: right;\">\n",
       "      <th></th>\n",
       "      <th>uid</th>\n",
       "      <th>app_type</th>\n",
       "      <th>app_class</th>\n",
       "      <th>start_time_new</th>\n",
       "      <th>end_time_new</th>\n",
       "      <th>duration</th>\n",
       "      <th>up_flow</th>\n",
       "      <th>down_flow</th>\n",
       "    </tr>\n",
       "  </thead>\n",
       "  <tbody>\n",
       "    <tr>\n",
       "      <th>0</th>\n",
       "      <td>3B0AAFBD3213D6DB0CCB17EDEAE80C38</td>\n",
       "      <td>sys</td>\n",
       "      <td>NaN</td>\n",
       "      <td>1899-12-31 20:43:27</td>\n",
       "      <td>1900-01-01 20:43:50</td>\n",
       "      <td>86423</td>\n",
       "      <td>0</td>\n",
       "      <td>0</td>\n",
       "    </tr>\n",
       "    <tr>\n",
       "      <th>1</th>\n",
       "      <td>3B0AAFBD3213D6DB0CCB17EDEAE80C38</td>\n",
       "      <td>sys</td>\n",
       "      <td>NaN</td>\n",
       "      <td>1899-12-31 20:43:27</td>\n",
       "      <td>1900-01-01 20:43:50</td>\n",
       "      <td>86423</td>\n",
       "      <td>0</td>\n",
       "      <td>0</td>\n",
       "    </tr>\n",
       "  </tbody>\n",
       "</table>\n",
       "</div>"
      ],
      "text/plain": [
       "                                uid app_type app_class      start_time_new  \\\n",
       "0  3B0AAFBD3213D6DB0CCB17EDEAE80C38      sys       NaN 1899-12-31 20:43:27   \n",
       "1  3B0AAFBD3213D6DB0CCB17EDEAE80C38      sys       NaN 1899-12-31 20:43:27   \n",
       "\n",
       "         end_time_new  duration  up_flow  down_flow  \n",
       "0 1900-01-01 20:43:50     86423        0          0  \n",
       "1 1900-01-01 20:43:50     86423        0          0  "
      ]
     },
     "execution_count": 12,
     "metadata": {},
     "output_type": "execute_result"
    }
   ],
   "source": [
    "# 发现：有‘僵尸用户’（请求/活跃程度极低，监控记录中app_class均为NaN）\n",
    "df[df['uid'] == '3B0AAFBD3213D6DB0CCB17EDEAE80C38']\n"
   ]
  },
  {
   "cell_type": "code",
   "execution_count": 24,
   "metadata": {},
   "outputs": [
    {
     "name": "stderr",
     "output_type": "stream",
     "text": [
      "/Users/durui/opt/anaconda3/lib/python3.9/site-packages/seaborn/axisgrid.py:118: UserWarning: The figure layout has changed to tight\n",
      "  self._figure.tight_layout(*args, **kwargs)\n"
     ]
    },
    {
     "data": {
      "image/png": "[encoded data removed]",
      "text/plain": [
       "<Figure size 785.172x360 with 1 Axes>"
      ]
     },
     "metadata": {},
     "output_type": "display_data"
    }
   ],
   "source": [
    "users = df[df['uid'].isin(\n",
    "    ['BB1657CFD3B4B7208674BEB7D26014B2'])\n",
    "]\n",
    "\n",
    "g = sns.catplot(\n",
    "    kind=\"bar\",\n",
    "    data=users,\n",
    "    x='app_class',\n",
    "    y='duration',\n",
    "    hue='app_type',\n",
    "    hue_order=['usr', 'sys'],\n",
    "    height=5,\n",
    "    aspect=10/5,\n",
    ")\n",
    "\n",
    "g.fig.subplots_adjust(top=0.92)\n",
    "g.fig.suptitle('BB1657CFD3B4B7208674BEB7D26014B2')\n",
    "g.set(\n",
    "    ylim=[0, 600]\n",
    ")\n",
    "\n",
    "plt.savefig(\"figures/duration_class_day01_BB1657CFD3B4B7208674BEB7D26014B2_barplot_hue_on_type.pdf\",\n",
    "            dpi=400, bbox_inches='tight', pad_inches=0.05)\n"
   ]
  },
  {
   "cell_type": "code",
   "execution_count": 26,
   "metadata": {},
   "outputs": [
    {
     "name": "stderr",
     "output_type": "stream",
     "text": [
      "/Users/durui/opt/anaconda3/lib/python3.9/site-packages/seaborn/axisgrid.py:118: UserWarning: The figure layout has changed to tight\n",
      "  self._figure.tight_layout(*args, **kwargs)\n"
     ]
    },
    {
     "data": {
      "image/png": "[encoded data removed]",
      "text/plain": [
       "<Figure size 785.172x360 with 1 Axes>"
      ]
     },
     "metadata": {},
     "output_type": "display_data"
    }
   ],
   "source": [
    "users = df[df['uid'].isin(\n",
    "    ['339B8D0058BA082C5A1F6B7D8D7FC084'])\n",
    "]\n",
    "\n",
    "g = sns.catplot(\n",
    "    kind=\"bar\",\n",
    "    data=users,\n",
    "    x='app_class',\n",
    "    y='duration',\n",
    "    hue='app_type',\n",
    "    hue_order=['usr', 'sys'],\n",
    "    height=5,\n",
    "    aspect=10/5,\n",
    ")\n",
    "\n",
    "g.fig.subplots_adjust(top=0.92)\n",
    "g.fig.suptitle('339B8D0058BA082C5A1F6B7D8D7FC084')\n",
    "g.set(\n",
    "    ylim=[0, 600]\n",
    ")\n",
    "\n",
    "plt.savefig(\"figures/duration_class_day01_339B8D0058BA082C5A1F6B7D8D7FC084_barplot_hue_on_type.pdf\",\n",
    "            dpi=400, bbox_inches='tight', pad_inches=0.05)\n"
   ]
  },
  {
   "cell_type": "markdown",
   "metadata": {},
   "source": [
    "#### 数值特征"
   ]
  },
  {
   "cell_type": "code",
   "execution_count": 16,
   "metadata": {
    "ExecuteTime": {
     "end_time": "2023-07-15T14:16:23.128434Z",
     "start_time": "2023-07-15T14:16:22.608353Z"
    }
   },
   "outputs": [
    {
     "data": {
      "text/html": [
       "<div>\n",
       "<style scoped>\n",
       "    .dataframe tbody tr th:only-of-type {\n",
       "        vertical-align: middle;\n",
       "    }\n",
       "\n",
       "    .dataframe tbody tr th {\n",
       "        vertical-align: top;\n",
       "    }\n",
       "\n",
       "    .dataframe thead th {\n",
       "        text-align: right;\n",
       "    }\n",
       "</style>\n",
       "<table border=\"1\" class=\"dataframe\">\n",
       "  <thead>\n",
       "    <tr style=\"text-align: right;\">\n",
       "      <th></th>\n",
       "      <th>duration</th>\n",
       "      <th>up_flow</th>\n",
       "      <th>down_flow</th>\n",
       "    </tr>\n",
       "  </thead>\n",
       "  <tbody>\n",
       "    <tr>\n",
       "      <th>count</th>\n",
       "      <td>5.860124e+06</td>\n",
       "      <td>5.860124e+06</td>\n",
       "      <td>5.860124e+06</td>\n",
       "    </tr>\n",
       "    <tr>\n",
       "      <th>mean</th>\n",
       "      <td>2.479844e+03</td>\n",
       "      <td>5.878114e+05</td>\n",
       "      <td>1.521328e+05</td>\n",
       "    </tr>\n",
       "    <tr>\n",
       "      <th>std</th>\n",
       "      <td>1.620907e+06</td>\n",
       "      <td>1.073372e+07</td>\n",
       "      <td>6.326323e+06</td>\n",
       "    </tr>\n",
       "    <tr>\n",
       "      <th>min</th>\n",
       "      <td>1.000000e+00</td>\n",
       "      <td>0.000000e+00</td>\n",
       "      <td>0.000000e+00</td>\n",
       "    </tr>\n",
       "    <tr>\n",
       "      <th>25%</th>\n",
       "      <td>3.000000e+00</td>\n",
       "      <td>0.000000e+00</td>\n",
       "      <td>0.000000e+00</td>\n",
       "    </tr>\n",
       "    <tr>\n",
       "      <th>50%</th>\n",
       "      <td>1.000000e+01</td>\n",
       "      <td>0.000000e+00</td>\n",
       "      <td>0.000000e+00</td>\n",
       "    </tr>\n",
       "    <tr>\n",
       "      <th>75%</th>\n",
       "      <td>3.600000e+01</td>\n",
       "      <td>1.201000e+03</td>\n",
       "      <td>1.025000e+03</td>\n",
       "    </tr>\n",
       "    <tr>\n",
       "      <th>max</th>\n",
       "      <td>1.427770e+09</td>\n",
       "      <td>3.639474e+09</td>\n",
       "      <td>3.292713e+09</td>\n",
       "    </tr>\n",
       "  </tbody>\n",
       "</table>\n",
       "</div>"
      ],
      "text/plain": [
       "           duration       up_flow     down_flow\n",
       "count  5.860124e+06  5.860124e+06  5.860124e+06\n",
       "mean   2.479844e+03  5.878114e+05  1.521328e+05\n",
       "std    1.620907e+06  1.073372e+07  6.326323e+06\n",
       "min    1.000000e+00  0.000000e+00  0.000000e+00\n",
       "25%    3.000000e+00  0.000000e+00  0.000000e+00\n",
       "50%    1.000000e+01  0.000000e+00  0.000000e+00\n",
       "75%    3.600000e+01  1.201000e+03  1.025000e+03\n",
       "max    1.427770e+09  3.639474e+09  3.292713e+09"
      ]
     },
     "execution_count": 16,
     "metadata": {},
     "output_type": "execute_result"
    }
   ],
   "source": [
    "df.select_dtypes('number').describe()\n"
   ]
  },
  {
   "cell_type": "code",
   "execution_count": 17,
   "metadata": {},
   "outputs": [
    {
     "data": {
      "text/plain": [
       "1"
      ]
     },
     "execution_count": 17,
     "metadata": {},
     "output_type": "execute_result"
    }
   ],
   "source": [
    "df['duration'].min()\n"
   ]
  },
  {
   "cell_type": "code",
   "execution_count": 18,
   "metadata": {},
   "outputs": [
    {
     "name": "stdout",
     "output_type": "stream",
     "text": [
      "max_duration  16525.11438657407\n",
      "duration>10000  91\n",
      "duration>43200  91\n",
      "duration>86400  89\n",
      "proportion  3.318197629613833e-05\n"
     ]
    }
   ],
   "source": [
    "# 发现：有僵尸‘应用’（持续时间极长）\n",
    "print(\"max_duration \", df['duration'].max()/60/60/24)\n",
    "print(\"duration>10000 \", df.query('duration>43200').shape[0])\n",
    "print(\"duration>43200 \", df.query('duration>43200').shape[0])\n",
    "print(\"duration>86400 \", df.query('duration>86400').shape[0])\n",
    "print(\"proportion \", df.query(\n",
    "    'duration>86400').shape[0] / df.query(\"app_class == 'NaN'\").shape[0])\n"
   ]
  },
  {
   "cell_type": "code",
   "execution_count": 19,
   "metadata": {},
   "outputs": [
    {
     "name": "stderr",
     "output_type": "stream",
     "text": [
      "/Users/durui/opt/anaconda3/lib/python3.9/site-packages/seaborn/axisgrid.py:118: UserWarning: The figure layout has changed to tight\n",
      "  self._figure.tight_layout(*args, **kwargs)\n",
      "/Users/durui/opt/anaconda3/lib/python3.9/site-packages/seaborn/axisgrid.py:39: UserWarning: Attempt to set non-positive xlim on a log-scaled axis will be ignored.\n",
      "  ax.set(**kwargs)\n"
     ]
    },
    {
     "data": {
      "image/png": "[encoded data removed]",
      "text/plain": [
       "<Figure size 1225.26x576 with 2 Axes>"
      ]
     },
     "metadata": {},
     "output_type": "display_data"
    }
   ],
   "source": [
    "g = sns.displot(\n",
    "    data=df,\n",
    "    x='duration',\n",
    "    log_scale=True,\n",
    "    bins=30,\n",
    "    hue='app_class',\n",
    "    col='app_type',\n",
    "    multiple=\"stack\",\n",
    "    height=8,\n",
    "    aspect=1.0,\n",
    ")\n",
    "\n",
    "g.set(\n",
    "    xlim=(0, 1e5)\n",
    ")\n",
    "\n",
    "plt.savefig(\"figures/duration_displot_hue_on_class.pdf\",\n",
    "            dpi=400, bbox_inches='tight', pad_inches=0.05)\n"
   ]
  },
  {
   "cell_type": "code",
   "execution_count": 21,
   "metadata": {},
   "outputs": [],
   "source": [
    "duration_agg_by_app = df.pivot_table(\n",
    "    index='app_class',\n",
    "    values='duration',\n",
    "    aggfunc={\n",
    "        'duration': [np.min, np.max, np.mean, np.std, np.sum],\n",
    "    }\n",
    ")\n",
    "\n",
    "duration_agg_by_app = pd.DataFrame(\n",
    "    duration_agg_by_app.to_records()).query(\"app_class != 'NaN'\")\n"
   ]
  },
  {
   "cell_type": "code",
   "execution_count": 22,
   "metadata": {},
   "outputs": [
    {
     "name": "stderr",
     "output_type": "stream",
     "text": [
      "/Users/durui/opt/anaconda3/lib/python3.9/site-packages/seaborn/axisgrid.py:118: UserWarning: The figure layout has changed to tight\n",
      "  self._figure.tight_layout(*args, **kwargs)\n"
     ]
    },
    {
     "data": {
      "image/png": "[encoded data removed]",
      "text/plain": [
       "<Figure size 720x360 with 1 Axes>"
      ]
     },
     "metadata": {},
     "output_type": "display_data"
    }
   ],
   "source": [
    "g = sns.catplot(kind='bar',\n",
    "                data=duration_agg_by_app,\n",
    "                x='app_class',\n",
    "                y='mean',\n",
    "                height=5,\n",
    "                aspect=10/5)\n",
    "\n",
    "plt.savefig(\"figures/duration_mean_agg_by_app.pdf\",\n",
    "            dpi=400, bbox_inches='tight', pad_inches=0.05)\n"
   ]
  },
  {
   "cell_type": "code",
   "execution_count": 23,
   "metadata": {},
   "outputs": [
    {
     "name": "stderr",
     "output_type": "stream",
     "text": [
      "/Users/durui/opt/anaconda3/lib/python3.9/site-packages/seaborn/axisgrid.py:118: UserWarning: The figure layout has changed to tight\n",
      "  self._figure.tight_layout(*args, **kwargs)\n"
     ]
    },
    {
     "data": {
      "image/png": "[encoded data removed]",
      "text/plain": [
       "<Figure size 720x360 with 1 Axes>"
      ]
     },
     "metadata": {},
     "output_type": "display_data"
    }
   ],
   "source": [
    "g = sns.catplot(kind='bar',\n",
    "                data=duration_agg_by_app,\n",
    "                x='app_class',\n",
    "                y='sum',\n",
    "                height=5,\n",
    "                aspect=10/5)\n",
    "\n",
    "plt.savefig(\"figures/duration_mean_agg_by_app.pdf\",\n",
    "            dpi=400, bbox_inches='tight', pad_inches=0.05)\n"
   ]
  },
  {
   "cell_type": "markdown",
   "metadata": {},
   "source": [
    "#### 序列特征"
   ]
  },
  {
   "cell_type": "code",
   "execution_count": 27,
   "metadata": {},
   "outputs": [
    {
     "data": {
      "text/html": [
       "<div>\n",
       "<style scoped>\n",
       "    .dataframe tbody tr th:only-of-type {\n",
       "        vertical-align: middle;\n",
       "    }\n",
       "\n",
       "    .dataframe tbody tr th {\n",
       "        vertical-align: top;\n",
       "    }\n",
       "\n",
       "    .dataframe thead th {\n",
       "        text-align: right;\n",
       "    }\n",
       "</style>\n",
       "<table border=\"1\" class=\"dataframe\">\n",
       "  <thead>\n",
       "    <tr style=\"text-align: right;\">\n",
       "      <th></th>\n",
       "      <th>start_time_new</th>\n",
       "      <th>end_time_new</th>\n",
       "    </tr>\n",
       "  </thead>\n",
       "  <tbody>\n",
       "    <tr>\n",
       "      <th>count</th>\n",
       "      <td>5860124</td>\n",
       "      <td>5860124</td>\n",
       "    </tr>\n",
       "    <tr>\n",
       "      <th>mean</th>\n",
       "      <td>1900-01-01 13:49:44.356820224</td>\n",
       "      <td>1900-01-01 14:31:04.303291392</td>\n",
       "    </tr>\n",
       "    <tr>\n",
       "      <th>min</th>\n",
       "      <td>1854-10-04 08:00:45</td>\n",
       "      <td>1900-01-01 00:00:00</td>\n",
       "    </tr>\n",
       "    <tr>\n",
       "      <th>25%</th>\n",
       "      <td>1900-01-01 10:35:49</td>\n",
       "      <td>1900-01-01 10:36:37</td>\n",
       "    </tr>\n",
       "    <tr>\n",
       "      <th>50%</th>\n",
       "      <td>1900-01-01 14:43:00</td>\n",
       "      <td>1900-01-01 14:43:49</td>\n",
       "    </tr>\n",
       "    <tr>\n",
       "      <th>75%</th>\n",
       "      <td>1900-01-01 18:46:10</td>\n",
       "      <td>1900-01-01 18:47:05</td>\n",
       "    </tr>\n",
       "    <tr>\n",
       "      <th>max</th>\n",
       "      <td>1900-01-01 23:59:59</td>\n",
       "      <td>1900-01-01 23:59:59</td>\n",
       "    </tr>\n",
       "  </tbody>\n",
       "</table>\n",
       "</div>"
      ],
      "text/plain": [
       "                      start_time_new                   end_time_new\n",
       "count                        5860124                        5860124\n",
       "mean   1900-01-01 13:49:44.356820224  1900-01-01 14:31:04.303291392\n",
       "min              1854-10-04 08:00:45            1900-01-01 00:00:00\n",
       "25%              1900-01-01 10:35:49            1900-01-01 10:36:37\n",
       "50%              1900-01-01 14:43:00            1900-01-01 14:43:49\n",
       "75%              1900-01-01 18:46:10            1900-01-01 18:47:05\n",
       "max              1900-01-01 23:59:59            1900-01-01 23:59:59"
      ]
     },
     "execution_count": 27,
     "metadata": {},
     "output_type": "execute_result"
    }
   ],
   "source": [
    "df.select_dtypes('datetime').describe()\n"
   ]
  },
  {
   "cell_type": "code",
   "execution_count": 28,
   "metadata": {},
   "outputs": [
    {
     "data": {
      "text/plain": [
       "(20, 8)"
      ]
     },
     "execution_count": 28,
     "metadata": {},
     "output_type": "execute_result"
    }
   ],
   "source": [
    "# 发现：有错误日志（开始时间大于结束时间）\n",
    "df[df['start_time_new'] > df['end_time_new']].shape\n"
   ]
  },
  {
   "cell_type": "markdown",
   "metadata": {},
   "source": [
    "#### 数据直觉：降采样/聚合\n",
    "\n",
    "- 无线局域网和蜂窝网络\n",
    "\n",
    "- 屏幕使用时间报告\n",
    "    - 周报\n",
    "        - 总屏幕使用时长（日均）\n",
    "        - 每日各类app总使用时长\n",
    "        - 总通知/拿起次数（日均）\n",
    "        - 每日各类app总通知/拿起次数\n",
    "    - 日报\n",
    "        - 粒度更细，屏幕使用时间与通知/拿起次数以小时为单位\n",
    "\n",
    "APP所属类别可划分为：\n",
    "1. 娱乐，如哔哩哔哩、腾讯视频、网易云音乐\n",
    "2. 效率与财务，如钉钉、日历、备忘录、百度网盘\n",
    "3. 社交，如QQ、微信、知乎\n",
    "4. 旅行，如地图\n",
    "5. 购物与美食，如淘宝、美团外卖\n",
    "6. 信息与阅读，如天气\n",
    "7. 创意，如相机、美图秀秀\n",
    "8. 工具，如QQ邮箱、AppStore\n",
    "9. 教育，如校园助手、DataCamp\n",
    "10. 健康与健身，如Keep"
   ]
  },
  {
   "cell_type": "markdown",
   "metadata": {},
   "source": [
    "##### 每类 app 的使用*总*时长\n",
    "\n",
    "> TODO：对数变换，归一化"
   ]
  },
  {
   "cell_type": "code",
   "execution_count": 37,
   "metadata": {},
   "outputs": [
    {
     "name": "stderr",
     "output_type": "stream",
     "text": [
      "/Users/durui/opt/anaconda3/lib/python3.9/site-packages/seaborn/axisgrid.py:118: UserWarning: The figure layout has changed to tight\n",
      "  self._figure.tight_layout(*args, **kwargs)\n"
     ]
    },
    {
     "data": {
      "image/png": "[encoded data removed]",
      "text/plain": [
       "<Figure size 720x360 with 1 Axes>"
      ]
     },
     "metadata": {},
     "output_type": "display_data"
    }
   ],
   "source": [
    "uid = 'BB1657CFD3B4B7208674BEB7D26014B2'\n",
    "user = df.query('uid == @uid')\n",
    "\n",
    "user_duration_agg_by_app = user.pivot_table(\n",
    "    index='app_class',\n",
    "    values='duration',\n",
    "    aggfunc={\n",
    "        'duration': [np.sum],\n",
    "    }\n",
    ")\n",
    "\n",
    "user_duration_agg_by_app = pd.DataFrame(\n",
    "    user_duration_agg_by_app.to_records()).query(\"app_class != 'NaN'\")\n",
    "\n",
    "user_duration_agg_by_app['sum'] = user_duration_agg_by_app['sum'].apply(\n",
    "    lambda x: x//60)\n",
    "\n",
    "g = sns.catplot(kind='bar',\n",
    "                data=user_duration_agg_by_app,\n",
    "                x='app_class',\n",
    "                y='sum',\n",
    "                height=5,\n",
    "                aspect=10/5)\n",
    "\n",
    "plt.savefig(\"figures/BB1657CFD3B4B7208674BEB7D26014B2_duration_agg_by_app.pdf\",\n",
    "            dpi=400, bbox_inches='tight', pad_inches=0.05)\n"
   ]
  },
  {
   "cell_type": "markdown",
   "metadata": {},
   "source": [
    "##### 每类 app 的活跃（拿起/通知）次数"
   ]
  },
  {
   "cell_type": "code",
   "execution_count": 42,
   "metadata": {},
   "outputs": [
    {
     "name": "stderr",
     "output_type": "stream",
     "text": [
      "/Users/durui/opt/anaconda3/lib/python3.9/site-packages/seaborn/axisgrid.py:118: UserWarning: The figure layout has changed to tight\n",
      "  self._figure.tight_layout(*args, **kwargs)\n"
     ]
    },
    {
     "data": {
      "image/png": "[encoded data removed]",
      "text/plain": [
       "<Figure size 720x360 with 1 Axes>"
      ]
     },
     "metadata": {},
     "output_type": "display_data"
    }
   ],
   "source": [
    "user_count_agg_by_app = user[['duration', 'app_class']\n",
    "                             ].groupby(by='app_class').count()\n",
    "\n",
    "user_count_agg_by_app = pd.DataFrame(\n",
    "    user_count_agg_by_app.to_records()).query(\"app_class != 'NaN'\")\n",
    "\n",
    "g = sns.catplot(kind='bar',\n",
    "                data=user_count_agg_by_app,\n",
    "                x='app_class',\n",
    "                y='duration',\n",
    "                height=5,\n",
    "                aspect=10/5)\n",
    "\n",
    "plt.savefig(\"figures/BB1657CFD3B4B7208674BEB7D26014B2_count_agg_by_app.pdf\",\n",
    "            dpi=400, bbox_inches='tight', pad_inches=0.05)\n"
   ]
  },
  {
   "cell_type": "markdown",
   "metadata": {},
   "source": [
    "##### 每类 app 的 24 小时 分布（使用时长）：代办"
   ]
  },
  {
   "cell_type": "code",
   "execution_count": null,
   "metadata": {},
   "outputs": [],
   "source": [
    "# 添加代码\n"
   ]
  },
  {
   "cell_type": "markdown",
   "metadata": {},
   "source": [
    "### DAY01-DAY21\n",
    "\n",
    "> TODO：时间序列预测\n",
    "\n",
    "- 根据用户第1~11天的**a类**APP的使用情况，来预测用户在第12~21天是否会使用该类APP。\n",
    "- 根据用户第1~11天的**a类**APP的使用情况，来预测第12~21天用户使用a类APP的有效日均使用时长。"
   ]
  },
  {
   "cell_type": "code",
   "execution_count": null,
   "metadata": {},
   "outputs": [],
   "source": [
    "# 添加代码\n"
   ]
  }
 ],
 "metadata": {
  "kernelspec": {
   "display_name": "Python 3 (ipykernel)",
   "language": "python",
   "name": "python3"
  },
  "language_info": {
   "codemirror_mode": {
    "name": "ipython",
    "version": 3
   },
   "file_extension": ".py",
   "mimetype": "text/x-python",
   "name": "python",
   "nbconvert_exporter": "python",
   "pygments_lexer": "ipython3",
   "version": "3.9.12"
  },
  "toc": {
   "base_numbering": 1,
   "nav_menu": {},
   "number_sections": true,
   "sideBar": true,
   "skip_h1_title": false,
   "title_cell": "Table of Contents",
   "title_sidebar": "Contents",
   "toc_cell": false,
   "toc_position": {},
   "toc_section_display": true,
   "toc_window_display": true
  }
 },
 "nbformat": 4,
 "nbformat_minor": 2
}
