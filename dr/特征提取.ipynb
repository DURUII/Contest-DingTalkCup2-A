{
 "cells": [
  {
   "cell_type": "markdown",
   "metadata": {},
   "source": [
    "# 载入套件"
   ]
  },
  {
   "cell_type": "code",
   "execution_count": 3,
   "metadata": {
    "ExecuteTime": {
     "end_time": "2023-07-15T06:46:07.512955Z",
     "start_time": "2023-07-15T06:46:05.195834Z"
    }
   },
   "outputs": [],
   "source": [
    "from typing import Dict\n",
    "import numpy as np\n",
    "import pandas as pd\n",
    "\n",
    "import ydata_profiling\n",
    "import scienceplots\n",
    "import matplotlib.pyplot as plt\n",
    "import seaborn as sns\n",
    "import matplotlib\n",
    "\n",
    "%matplotlib inline\n",
    "\n",
    "pd.plotting.register_matplotlib_converters()\n",
    "plt.style.use(['fivethirtyeight', 'science', 'grid'])\n",
    "sns.set(\n",
    "    rc={'text.usetex': True},\n",
    "    font=\"serif\",\n",
    "    font_scale=1.2\n",
    ")\n"
   ]
  },
  {
   "cell_type": "markdown",
   "metadata": {},
   "source": [
    "# 载入数据"
   ]
  },
  {
   "cell_type": "code",
   "execution_count": 4,
   "metadata": {
    "ExecuteTime": {
     "end_time": "2023-07-15T06:46:41.679872Z",
     "start_time": "2023-07-15T06:46:09.628283Z"
    }
   },
   "outputs": [
    {
     "name": "stdout",
     "output_type": "stream",
     "text": [
      "app: (4214, 2)\n",
      "day01: (3178319, 11)\n",
      "day02: (3076184, 11)\n",
      "day03: (3003340, 11)\n",
      "day04: (2746760, 11)\n",
      "day05: (2671643, 11)\n",
      "day06: (2691100, 11)\n",
      "day07: (2163212, 11)\n"
     ]
    }
   ],
   "source": [
    "# 辅助表格，给出4214个常用APP所属类别\n",
    "app = pd.read_csv('../Datasets/app_class.csv', header=None)\n",
    "app.columns = ['appid', 'app_class']\n",
    "print('app:', app.shape)\n",
    "\n",
    "# 某年连续30天的4万多智能手机用户的监测数据\n",
    "# 初赛数据集，仅含1～21天\n",
    "day: Dict[int, pd.DataFrame] = {}\n",
    "for i in range(1, 8):\n",
    "    # 读取数据，增加列标签，便于索引\n",
    "    day[i] = pd.read_csv(f'../Datasets/day{str(i).zfill(2)}.txt', header=None)\n",
    "    day[i].columns = ['uid', 'appid', 'app_type', 'start_day', 'start_time',\n",
    "                      'end_day', 'end_time', 'duration', 'up_flow', 'down_flow']\n",
    "\n",
    "    # 数据融合：将辅助表格链接至每日监测数据表格\n",
    "    day[i] = day[i].merge(app, on='appid', how='left')\n",
    "\n",
    "    # 数据清洗：仅保留使用时长小于一天（24*60*60秒）的资料\n",
    "    # 1～7天中，平均每日有15条异常值\n",
    "    # TODO: 验证duration是否计算错误。\n",
    "    day[i] = day[i].query('duration <= 86400')\n",
    "\n",
    "    # 数据清洗：仅保留已知所属类别的常用APP，遗弃其余不常用APP\n",
    "    # TODO: 验证NaN是否存在语义信息。\n",
    "    day[i].dropna(inplace=True, axis='index')\n",
    "    print(f'day{str(i).zfill(2)}:', day[i].shape)\n"
   ]
  },
  {
   "cell_type": "markdown",
   "metadata": {},
   "source": [
    "# 数据直觉\n",
    "\n",
    "- 屏幕使用时间报告\n",
    "    - 周报\n",
    "        - 总屏幕使用时长（日均）\n",
    "        - 每日各类app总使用时长\n",
    "        - 总通知/拿起次数（日均）\n",
    "        - 每日各类app总通知/拿起次数\n",
    "    - 日报\n",
    "        - 粒度更细，屏幕使用时间与通知/拿起次数以小时为单位\n",
    "\n",
    "APP所属类别可划分为：\n",
    "1. 娱乐，如哔哩哔哩、腾讯视频、网易云音乐\n",
    "2. 效率与财务，如钉钉、日历、备忘录、百度网盘\n",
    "3. 社交，如QQ、微信、知乎\n",
    "4. 旅行，如地图\n",
    "5. 购物与美食，如淘宝、美团外卖\n",
    "6. 信息与阅读，如天气\n",
    "7. 创意，如相机、美图秀秀\n",
    "8. 工具，如QQ邮箱、AppStore\n",
    "9. 教育，如校园助手、DataCamp\n",
    "10. 健康与健身，如Keep"
   ]
  },
  {
   "cell_type": "markdown",
   "metadata": {},
   "source": [
    "# 数据探索\n",
    "\n",
    "## Q1: 屏幕使用时间\n",
    "\n",
    "以`BB1657CFD3B4B7208674BEB7D26014B2`用户为例，首先制作day01日报，然后进而制作day01～day07周报。"
   ]
  },
  {
   "cell_type": "markdown",
   "metadata": {},
   "source": [
    "### Q1.0 数据有哪几列，分别代表什么含义"
   ]
  },
  {
   "cell_type": "code",
   "execution_count": 5,
   "metadata": {},
   "outputs": [
    {
     "data": {
      "text/plain": [
       "Index(['uid', 'appid', 'app_type', 'start_day', 'start_time', 'end_day',\n",
       "       'end_time', 'duration', 'up_flow', 'down_flow', 'app_class'],\n",
       "      dtype='object')"
      ]
     },
     "execution_count": 5,
     "metadata": {},
     "output_type": "execute_result"
    }
   ],
   "source": [
    "day[1].columns\n"
   ]
  },
  {
   "cell_type": "markdown",
   "metadata": {},
   "source": [
    "### Q1.1 是否存在App跨天的情况？"
   ]
  },
  {
   "cell_type": "code",
   "execution_count": 6,
   "metadata": {},
   "outputs": [
    {
     "data": {
      "text/html": [
       "<div>\n",
       "<style scoped>\n",
       "    .dataframe tbody tr th:only-of-type {\n",
       "        vertical-align: middle;\n",
       "    }\n",
       "\n",
       "    .dataframe tbody tr th {\n",
       "        vertical-align: top;\n",
       "    }\n",
       "\n",
       "    .dataframe thead th {\n",
       "        text-align: right;\n",
       "    }\n",
       "</style>\n",
       "<table border=\"1\" class=\"dataframe\">\n",
       "  <thead>\n",
       "    <tr style=\"text-align: right;\">\n",
       "      <th></th>\n",
       "      <th>appid</th>\n",
       "      <th>start_day</th>\n",
       "      <th>end_day</th>\n",
       "      <th>duration</th>\n",
       "      <th>up_flow</th>\n",
       "      <th>down_flow</th>\n",
       "    </tr>\n",
       "  </thead>\n",
       "  <tbody>\n",
       "    <tr>\n",
       "      <th>count</th>\n",
       "      <td>3.178319e+06</td>\n",
       "      <td>3.178319e+06</td>\n",
       "      <td>3178319.0</td>\n",
       "      <td>3.178319e+06</td>\n",
       "      <td>3.178319e+06</td>\n",
       "      <td>3.178319e+06</td>\n",
       "    </tr>\n",
       "    <tr>\n",
       "      <th>mean</th>\n",
       "      <td>1.054534e+04</td>\n",
       "      <td>9.988472e-01</td>\n",
       "      <td>1.0</td>\n",
       "      <td>9.459145e+01</td>\n",
       "      <td>1.063961e+06</td>\n",
       "      <td>2.764850e+05</td>\n",
       "    </tr>\n",
       "    <tr>\n",
       "      <th>std</th>\n",
       "      <td>7.392332e+03</td>\n",
       "      <td>3.393349e-02</td>\n",
       "      <td>0.0</td>\n",
       "      <td>3.624871e+02</td>\n",
       "      <td>1.450479e+07</td>\n",
       "      <td>8.508721e+06</td>\n",
       "    </tr>\n",
       "    <tr>\n",
       "      <th>min</th>\n",
       "      <td>4.000000e+00</td>\n",
       "      <td>0.000000e+00</td>\n",
       "      <td>1.0</td>\n",
       "      <td>1.000000e+00</td>\n",
       "      <td>0.000000e+00</td>\n",
       "      <td>0.000000e+00</td>\n",
       "    </tr>\n",
       "    <tr>\n",
       "      <th>25%</th>\n",
       "      <td>3.309000e+03</td>\n",
       "      <td>1.000000e+00</td>\n",
       "      <td>1.0</td>\n",
       "      <td>5.000000e+00</td>\n",
       "      <td>0.000000e+00</td>\n",
       "      <td>0.000000e+00</td>\n",
       "    </tr>\n",
       "    <tr>\n",
       "      <th>50%</th>\n",
       "      <td>9.498000e+03</td>\n",
       "      <td>1.000000e+00</td>\n",
       "      <td>1.0</td>\n",
       "      <td>1.800000e+01</td>\n",
       "      <td>3.680000e+02</td>\n",
       "      <td>4.850000e+02</td>\n",
       "    </tr>\n",
       "    <tr>\n",
       "      <th>75%</th>\n",
       "      <td>1.675900e+04</td>\n",
       "      <td>1.000000e+00</td>\n",
       "      <td>1.0</td>\n",
       "      <td>6.600000e+01</td>\n",
       "      <td>2.880500e+04</td>\n",
       "      <td>6.557000e+03</td>\n",
       "    </tr>\n",
       "    <tr>\n",
       "      <th>max</th>\n",
       "      <td>2.360800e+04</td>\n",
       "      <td>1.000000e+00</td>\n",
       "      <td>1.0</td>\n",
       "      <td>6.129100e+04</td>\n",
       "      <td>3.639474e+09</td>\n",
       "      <td>3.292713e+09</td>\n",
       "    </tr>\n",
       "  </tbody>\n",
       "</table>\n",
       "</div>"
      ],
      "text/plain": [
       "              appid     start_day    end_day      duration       up_flow  \\\n",
       "count  3.178319e+06  3.178319e+06  3178319.0  3.178319e+06  3.178319e+06   \n",
       "mean   1.054534e+04  9.988472e-01        1.0  9.459145e+01  1.063961e+06   \n",
       "std    7.392332e+03  3.393349e-02        0.0  3.624871e+02  1.450479e+07   \n",
       "min    4.000000e+00  0.000000e+00        1.0  1.000000e+00  0.000000e+00   \n",
       "25%    3.309000e+03  1.000000e+00        1.0  5.000000e+00  0.000000e+00   \n",
       "50%    9.498000e+03  1.000000e+00        1.0  1.800000e+01  3.680000e+02   \n",
       "75%    1.675900e+04  1.000000e+00        1.0  6.600000e+01  2.880500e+04   \n",
       "max    2.360800e+04  1.000000e+00        1.0  6.129100e+04  3.639474e+09   \n",
       "\n",
       "          down_flow  \n",
       "count  3.178319e+06  \n",
       "mean   2.764850e+05  \n",
       "std    8.508721e+06  \n",
       "min    0.000000e+00  \n",
       "25%    0.000000e+00  \n",
       "50%    4.850000e+02  \n",
       "75%    6.557000e+03  \n",
       "max    3.292713e+09  "
      ]
     },
     "execution_count": 6,
     "metadata": {},
     "output_type": "execute_result"
    }
   ],
   "source": [
    "day[1].describe()\n"
   ]
  },
  {
   "cell_type": "code",
   "execution_count": 7,
   "metadata": {},
   "outputs": [
    {
     "name": "stdout",
     "output_type": "stream",
     "text": [
      "(3597, 11)\n",
      "[2]\n"
     ]
    },
    {
     "data": {
      "text/html": [
       "<div>\n",
       "<style scoped>\n",
       "    .dataframe tbody tr th:only-of-type {\n",
       "        vertical-align: middle;\n",
       "    }\n",
       "\n",
       "    .dataframe tbody tr th {\n",
       "        vertical-align: top;\n",
       "    }\n",
       "\n",
       "    .dataframe thead th {\n",
       "        text-align: right;\n",
       "    }\n",
       "</style>\n",
       "<table border=\"1\" class=\"dataframe\">\n",
       "  <thead>\n",
       "    <tr style=\"text-align: right;\">\n",
       "      <th></th>\n",
       "      <th>uid</th>\n",
       "      <th>appid</th>\n",
       "      <th>app_type</th>\n",
       "      <th>start_day</th>\n",
       "      <th>start_time</th>\n",
       "      <th>end_day</th>\n",
       "      <th>end_time</th>\n",
       "      <th>duration</th>\n",
       "      <th>up_flow</th>\n",
       "      <th>down_flow</th>\n",
       "      <th>app_class</th>\n",
       "    </tr>\n",
       "  </thead>\n",
       "  <tbody>\n",
       "    <tr>\n",
       "      <th>146</th>\n",
       "      <td>D6591D51D637ED019E1143B767736BCF</td>\n",
       "      <td>17442</td>\n",
       "      <td>usr</td>\n",
       "      <td>2</td>\n",
       "      <td>23:55:00</td>\n",
       "      <td>3</td>\n",
       "      <td>00:02:58</td>\n",
       "      <td>478</td>\n",
       "      <td>247349</td>\n",
       "      <td>111217</td>\n",
       "      <td>e</td>\n",
       "    </tr>\n",
       "    <tr>\n",
       "      <th>148</th>\n",
       "      <td>4F07ADD27DCE1A7B6919749EE986C904</td>\n",
       "      <td>17325</td>\n",
       "      <td>usr</td>\n",
       "      <td>2</td>\n",
       "      <td>23:50:32</td>\n",
       "      <td>3</td>\n",
       "      <td>00:04:35</td>\n",
       "      <td>843</td>\n",
       "      <td>5861999</td>\n",
       "      <td>188057</td>\n",
       "      <td>q</td>\n",
       "    </tr>\n",
       "    <tr>\n",
       "      <th>157</th>\n",
       "      <td>C9DDABFBD4F1A323B847F2DF17226281</td>\n",
       "      <td>3309</td>\n",
       "      <td>usr</td>\n",
       "      <td>2</td>\n",
       "      <td>23:57:08</td>\n",
       "      <td>3</td>\n",
       "      <td>00:00:04</td>\n",
       "      <td>175</td>\n",
       "      <td>494566</td>\n",
       "      <td>56808</td>\n",
       "      <td>f</td>\n",
       "    </tr>\n",
       "    <tr>\n",
       "      <th>164</th>\n",
       "      <td>AAE4566EF2C2070E0153C847BE2D633D</td>\n",
       "      <td>21776</td>\n",
       "      <td>usr</td>\n",
       "      <td>2</td>\n",
       "      <td>23:57:08</td>\n",
       "      <td>3</td>\n",
       "      <td>00:00:03</td>\n",
       "      <td>174</td>\n",
       "      <td>1117847</td>\n",
       "      <td>118439</td>\n",
       "      <td>g</td>\n",
       "    </tr>\n",
       "    <tr>\n",
       "      <th>177</th>\n",
       "      <td>DAE05F8519C3944D78A594610DBA9245</td>\n",
       "      <td>3309</td>\n",
       "      <td>usr</td>\n",
       "      <td>2</td>\n",
       "      <td>23:59:22</td>\n",
       "      <td>3</td>\n",
       "      <td>00:00:42</td>\n",
       "      <td>79</td>\n",
       "      <td>0</td>\n",
       "      <td>0</td>\n",
       "      <td>f</td>\n",
       "    </tr>\n",
       "    <tr>\n",
       "      <th>...</th>\n",
       "      <td>...</td>\n",
       "      <td>...</td>\n",
       "      <td>...</td>\n",
       "      <td>...</td>\n",
       "      <td>...</td>\n",
       "      <td>...</td>\n",
       "      <td>...</td>\n",
       "      <td>...</td>\n",
       "      <td>...</td>\n",
       "      <td>...</td>\n",
       "      <td>...</td>\n",
       "    </tr>\n",
       "    <tr>\n",
       "      <th>5709702</th>\n",
       "      <td>E956E3C0340391D0F2C49E022F0BBAC0</td>\n",
       "      <td>16759</td>\n",
       "      <td>usr</td>\n",
       "      <td>2</td>\n",
       "      <td>23:56:02</td>\n",
       "      <td>3</td>\n",
       "      <td>00:00:45</td>\n",
       "      <td>282</td>\n",
       "      <td>0</td>\n",
       "      <td>0</td>\n",
       "      <td>f</td>\n",
       "    </tr>\n",
       "    <tr>\n",
       "      <th>5715931</th>\n",
       "      <td>F9D876EF0A9C8CBD415FB6F06CC90807</td>\n",
       "      <td>15629</td>\n",
       "      <td>usr</td>\n",
       "      <td>2</td>\n",
       "      <td>23:57:47</td>\n",
       "      <td>3</td>\n",
       "      <td>00:00:02</td>\n",
       "      <td>134</td>\n",
       "      <td>9643</td>\n",
       "      <td>3796</td>\n",
       "      <td>t</td>\n",
       "    </tr>\n",
       "    <tr>\n",
       "      <th>5716573</th>\n",
       "      <td>BE2322A35946C727803814D8C64EF809</td>\n",
       "      <td>17442</td>\n",
       "      <td>usr</td>\n",
       "      <td>2</td>\n",
       "      <td>23:50:10</td>\n",
       "      <td>3</td>\n",
       "      <td>00:15:56</td>\n",
       "      <td>1546</td>\n",
       "      <td>0</td>\n",
       "      <td>0</td>\n",
       "      <td>e</td>\n",
       "    </tr>\n",
       "    <tr>\n",
       "      <th>5716622</th>\n",
       "      <td>BE2322A35946C727803814D8C64EF809</td>\n",
       "      <td>17442</td>\n",
       "      <td>usr</td>\n",
       "      <td>2</td>\n",
       "      <td>23:50:10</td>\n",
       "      <td>3</td>\n",
       "      <td>00:15:56</td>\n",
       "      <td>1546</td>\n",
       "      <td>0</td>\n",
       "      <td>0</td>\n",
       "      <td>e</td>\n",
       "    </tr>\n",
       "    <tr>\n",
       "      <th>5716885</th>\n",
       "      <td>AECE64D8BFDF4E835BD497F5EA322888</td>\n",
       "      <td>1029</td>\n",
       "      <td>usr</td>\n",
       "      <td>2</td>\n",
       "      <td>23:40:35</td>\n",
       "      <td>3</td>\n",
       "      <td>00:04:05</td>\n",
       "      <td>1410</td>\n",
       "      <td>67925845</td>\n",
       "      <td>74720</td>\n",
       "      <td>c</td>\n",
       "    </tr>\n",
       "  </tbody>\n",
       "</table>\n",
       "<p>3597 rows × 11 columns</p>\n",
       "</div>"
      ],
      "text/plain": [
       "                                      uid  appid app_type  start_day  \\\n",
       "146      D6591D51D637ED019E1143B767736BCF  17442      usr          2   \n",
       "148      4F07ADD27DCE1A7B6919749EE986C904  17325      usr          2   \n",
       "157      C9DDABFBD4F1A323B847F2DF17226281   3309      usr          2   \n",
       "164      AAE4566EF2C2070E0153C847BE2D633D  21776      usr          2   \n",
       "177      DAE05F8519C3944D78A594610DBA9245   3309      usr          2   \n",
       "...                                   ...    ...      ...        ...   \n",
       "5709702  E956E3C0340391D0F2C49E022F0BBAC0  16759      usr          2   \n",
       "5715931  F9D876EF0A9C8CBD415FB6F06CC90807  15629      usr          2   \n",
       "5716573  BE2322A35946C727803814D8C64EF809  17442      usr          2   \n",
       "5716622  BE2322A35946C727803814D8C64EF809  17442      usr          2   \n",
       "5716885  AECE64D8BFDF4E835BD497F5EA322888   1029      usr          2   \n",
       "\n",
       "        start_time  end_day  end_time  duration   up_flow  down_flow app_class  \n",
       "146       23:55:00        3  00:02:58       478    247349     111217         e  \n",
       "148       23:50:32        3  00:04:35       843   5861999     188057         q  \n",
       "157       23:57:08        3  00:00:04       175    494566      56808         f  \n",
       "164       23:57:08        3  00:00:03       174   1117847     118439         g  \n",
       "177       23:59:22        3  00:00:42        79         0          0         f  \n",
       "...            ...      ...       ...       ...       ...        ...       ...  \n",
       "5709702   23:56:02        3  00:00:45       282         0          0         f  \n",
       "5715931   23:57:47        3  00:00:02       134      9643       3796         t  \n",
       "5716573   23:50:10        3  00:15:56      1546         0          0         e  \n",
       "5716622   23:50:10        3  00:15:56      1546         0          0         e  \n",
       "5716885   23:40:35        3  00:04:05      1410  67925845      74720         c  \n",
       "\n",
       "[3597 rows x 11 columns]"
      ]
     },
     "execution_count": 7,
     "metadata": {},
     "output_type": "execute_result"
    }
   ],
   "source": [
    "i = 3\n",
    "\n",
    "tmp = day[i].query(\"start_day != @i\")\n",
    "print(tmp.shape)\n",
    "print(tmp['start_day'].unique())\n",
    "\n",
    "tmp\n"
   ]
  },
  {
   "cell_type": "markdown",
   "metadata": {},
   "source": [
    "### Q1.2 day01日报"
   ]
  },
  {
   "cell_type": "code",
   "execution_count": 8,
   "metadata": {},
   "outputs": [],
   "source": [
    "uid = 'BB1657CFD3B4B7208674BEB7D26014B2'\n",
    "df = day[1].query('uid == @uid')\n"
   ]
  },
  {
   "cell_type": "code",
   "execution_count": 9,
   "metadata": {},
   "outputs": [
    {
     "data": {
      "text/plain": [
       "(98, 11)"
      ]
     },
     "execution_count": 9,
     "metadata": {},
     "output_type": "execute_result"
    }
   ],
   "source": [
    "df[df['app_class'] == 'a'].shape\n"
   ]
  },
  {
   "cell_type": "code",
   "execution_count": 10,
   "metadata": {},
   "outputs": [],
   "source": [
    "# 每类 app 的使用总时长\n",
    "duration_agg_by_app = df[['duration', 'app_class']\n",
    "                         ].groupby(by='app_class').sum()\n",
    "\n",
    "# 每类 app 的活跃（拿起/通知）次数\n",
    "count_agg_by_app = df[['duration', 'app_class']\n",
    "                      ].groupby(by='app_class').count()\n"
   ]
  },
  {
   "cell_type": "code",
   "execution_count": 11,
   "metadata": {},
   "outputs": [],
   "source": [
    "# 每类 app 的 24 小时 分布（使用时长）\n",
    "temp = df.sort_values(by='end_time')[\n",
    "    ['start_time', 'end_time', 'app_class']].values\n",
    "counter_hour_app: dict[int, int] = {i: {} for i in range(24)}\n"
   ]
  },
  {
   "cell_type": "markdown",
   "metadata": {},
   "source": [
    "> 头脑风暴：频次（距离上一次记录的时间间隔）、工作日与节假日（星期数）"
   ]
  },
  {
   "cell_type": "markdown",
   "metadata": {},
   "source": [
    "### Q1.3 周报"
   ]
  },
  {
   "cell_type": "code",
   "execution_count": 12,
   "metadata": {},
   "outputs": [],
   "source": [
    "# TODO\n"
   ]
  },
  {
   "cell_type": "markdown",
   "metadata": {},
   "source": [
    "## Q2: 无线局域网和蜂窝网络\n",
    "\n",
    "> 头脑风暴："
   ]
  },
  {
   "cell_type": "code",
   "execution_count": 13,
   "metadata": {},
   "outputs": [
    {
     "name": "stderr",
     "output_type": "stream",
     "text": [
      "/Users/durui/opt/anaconda3/lib/python3.9/site-packages/seaborn/axisgrid.py:118: UserWarning: The figure layout has changed to tight\n",
      "  self._figure.tight_layout(*args, **kwargs)\n"
     ]
    },
    {
     "data": {
      "text/plain": [
       "<seaborn.axisgrid.FacetGrid at 0x28c0b8a00>"
      ]
     },
     "execution_count": 13,
     "metadata": {},
     "output_type": "execute_result"
    },
    {
     "data": {
      "image/png": "[encoded data removed]",
      "text/plain": [
       "<Figure size 426.499x360 with 1 Axes>"
      ]
     },
     "metadata": {},
     "output_type": "display_data"
    }
   ],
   "source": [
    "sns.relplot(data=day[1],  x='duration', y='up_flow',\n",
    "            kind='scatter', hue='app_class')\n"
   ]
  },
  {
   "cell_type": "code",
   "execution_count": 17,
   "metadata": {},
   "outputs": [
    {
     "name": "stderr",
     "output_type": "stream",
     "text": [
      "/Users/durui/opt/anaconda3/lib/python3.9/site-packages/ydata_profiling/utils/dataframe.py:137: SettingWithCopyWarning: \n",
      "A value is trying to be set on a copy of a slice from a DataFrame\n",
      "\n",
      "See the caveats in the documentation: https://pandas.pydata.org/pandas-docs/stable/user_guide/indexing.html#returning-a-view-versus-a-copy\n",
      "  df.rename(columns={\"index\": \"df_index\"}, inplace=True)\n"
     ]
    },
    {
     "data": {
      "application/vnd.jupyter.widget-view+json": {
       "model_id": "652f8d12669b4f3d8689c9b6d15bde85",
       "version_major": 2,
       "version_minor": 0
      },
      "text/plain": [
       "Summarize dataset:   0%|          | 0/5 [00:00<?, ?it/s]"
      ]
     },
     "metadata": {},
     "output_type": "display_data"
    },
    {
     "data": {
      "application/vnd.jupyter.widget-view+json": {
       "model_id": "af330f81fb8f4bb592c95a145194a6b6",
       "version_major": 2,
       "version_minor": 0
      },
      "text/plain": [
       "Generate report structure:   0%|          | 0/1 [00:00<?, ?it/s]"
      ]
     },
     "metadata": {},
     "output_type": "display_data"
    },
    {
     "data": {
      "application/vnd.jupyter.widget-view+json": {
       "model_id": "22d1ce8275a64e5bbe298b774eab92c1",
       "version_major": 2,
       "version_minor": 0
      },
      "text/plain": [
       "Render HTML:   0%|          | 0/1 [00:00<?, ?it/s]"
      ]
     },
     "metadata": {},
     "output_type": "display_data"
    },
    {
     "data": {
      "application/vnd.jupyter.widget-view+json": {
       "model_id": "281ea7bb611646478ba35ed7b5a830c2",
       "version_major": 2,
       "version_minor": 0
      },
      "text/plain": [
       "Export report to file:   0%|          | 0/1 [00:00<?, ?it/s]"
      ]
     },
     "metadata": {},
     "output_type": "display_data"
    }
   ],
   "source": [
    "profile = ydata_profiling.ProfileReport(\n",
    "    df=df[['duration', 'up_flow', 'down_flow', 'app_class']])\n",
    "profile.to_file(\"report.html\")\n"
   ]
  },
  {
   "cell_type": "code",
   "execution_count": null,
   "metadata": {},
   "outputs": [],
   "source": []
  }
 ],
 "metadata": {
  "kernelspec": {
   "display_name": "Python 3",
   "language": "python",
   "name": "python3"
  },
  "language_info": {
   "codemirror_mode": {
    "name": "ipython",
    "version": 3
   },
   "file_extension": ".py",
   "mimetype": "text/x-python",
   "name": "python",
   "nbconvert_exporter": "python",
   "pygments_lexer": "ipython3",
   "version": "3.9.12"
  },
  "orig_nbformat": 4
 },
 "nbformat": 4,
 "nbformat_minor": 2
}
