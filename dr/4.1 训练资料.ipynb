{
 "cells": [
  {
   "cell_type": "code",
   "execution_count": 18,
   "metadata": {},
   "outputs": [],
   "source": [
    "from typing import Dict\n",
    "from tqdm.auto import tqdm\n",
    "\n",
    "from sklearn.decomposition import PCA\n",
    "from sklearn.cluster import KMeans\n",
    "from sklearn import metrics\n",
    "from sklearn.cluster import DBSCAN\n",
    "\n",
    "import numpy as np\n",
    "import random\n",
    "import pandas as pd\n",
    "import ydata_profiling\n",
    "\n",
    "import scienceplots\n",
    "import matplotlib.pyplot as plt\n",
    "import seaborn as sns\n",
    "import matplotlib\n",
    "\n",
    "import torch\n",
    "import os\n",
    "\n",
    "%matplotlib inline\n",
    "\n",
    "pd.plotting.register_matplotlib_converters()\n",
    "sns.set_style(\"whitegrid\")\n",
    "sns.set_palette(\"RdBu\")\n",
    "sns.set(\n",
    "    rc={'text.usetex': True},\n",
    "    font=\"serif\",\n",
    "    font_scale=1.2\n",
    ")\n"
   ]
  },
  {
   "cell_type": "markdown",
   "metadata": {},
   "source": [
    "# 特征建立"
   ]
  },
  {
   "cell_type": "markdown",
   "metadata": {},
   "source": [
    "## 无监督学习特征"
   ]
  },
  {
   "cell_type": "code",
   "execution_count": 19,
   "metadata": {},
   "outputs": [],
   "source": [
    "features = pd.read_pickle('../Datasets/features_q1.pkl')\n",
    "for aspect in ['duration', 'up_flow', 'down_flow', 'count']:\n",
    "    cols = [i for i in features.columns if i.startswith(aspect)]\n",
    "    features[cols] = (features[cols] - features[cols].values.mean()) / \\\n",
    "        features[cols].values.std()\n",
    "\n",
    "pca = PCA(n_components=3)\n",
    "pca.fit(features.drop(columns='uid'))\n",
    "transformed = pca.transform(features.drop(columns='uid'))\n",
    "\n",
    "model = KMeans(n_clusters=5, random_state=0,\n",
    "               n_init=\"auto\", max_iter=1000)\n",
    "labels_kmeans = model.fit_predict(transformed)\n",
    "\n",
    "user2cluster = {}\n",
    "for user, cluster in zip(features['uid'].values, labels_kmeans):\n",
    "    user2cluster[user] = cluster\n"
   ]
  },
  {
   "cell_type": "code",
   "execution_count": 32,
   "metadata": {},
   "outputs": [],
   "source": [
    "features_user2cluster = pd.DataFrame({\n",
    "    'uid': user2cluster.keys(),\n",
    "    'cluster': user2cluster.values()\n",
    "})\n"
   ]
  },
  {
   "cell_type": "markdown",
   "metadata": {},
   "source": [
    "## 监测数据特征"
   ]
  },
  {
   "cell_type": "code",
   "execution_count": 20,
   "metadata": {},
   "outputs": [],
   "source": [
    "days = {i: pd.read_pickle(f'../Datasets/day{str(i).zfill(2)}.pkl')\n",
    "        for i in range(1, 22)}\n"
   ]
  },
  {
   "cell_type": "code",
   "execution_count": 27,
   "metadata": {},
   "outputs": [],
   "source": [
    "dfs = []\n",
    "for i in range(1, 22):\n",
    "    pt = pd.DataFrame(pd.DataFrame(days[i].pivot_table(\n",
    "        index='uid',\n",
    "        values='duration',\n",
    "        columns='app_class',\n",
    "        aggfunc=np.sum\n",
    "    )['a']).to_records())\n",
    "    pt['day'] = i\n",
    "    dfs.append(pt)\n",
    "\n",
    "features_q2 = pd.DataFrame(pd.concat(dfs, ignore_index=True).pivot_table(\n",
    "    index='uid',\n",
    "    values='a',\n",
    "    columns='day',\n",
    ").fillna(0).to_records())\n"
   ]
  },
  {
   "cell_type": "code",
   "execution_count": 37,
   "metadata": {},
   "outputs": [],
   "source": [
    "features_q2 = features_q2.merge(\n",
    "    features_user2cluster, on='uid', how='left').fillna(0)\n"
   ]
  },
  {
   "cell_type": "code",
   "execution_count": 39,
   "metadata": {},
   "outputs": [],
   "source": [
    "features_q2['cluster'] = features_q2['cluster'].astype('category')\n"
   ]
  },
  {
   "cell_type": "code",
   "execution_count": 41,
   "metadata": {},
   "outputs": [],
   "source": [
    "features_q2.to_pickle('../Datasets/features_q2.pkl')\n"
   ]
  }
 ],
 "metadata": {
  "kernelspec": {
   "display_name": "base",
   "language": "python",
   "name": "python3"
  },
  "language_info": {
   "codemirror_mode": {
    "name": "ipython",
    "version": 3
   },
   "file_extension": ".py",
   "mimetype": "text/x-python",
   "name": "python",
   "nbconvert_exporter": "python",
   "pygments_lexer": "ipython3",
   "version": "3.9.12"
  },
  "orig_nbformat": 4
 },
 "nbformat": 4,
 "nbformat_minor": 2
}
