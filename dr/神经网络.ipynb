{
  "cells": [
    {
      "cell_type": "markdown",
      "metadata": {
        "id": "guE34D3Fj2R9"
      },
      "source": [
        "# **Homework 1: COVID-19 Cases Prediction (Regression)**"
      ]
    },
    {
      "cell_type": "markdown",
      "source": [
        "Objectives:\n",
        "* Solve a regression problem with deep neural networks (DNN).\n",
        "* Understand basic DNN training tips.\n",
        "* Familiarize yourself with PyTorch.\n",
        "\n",
        "If you have any questions, please contact the TAs via TA hours, NTU COOL, or email to mlta-2022-spring@googlegroups.com"
      ],
      "metadata": {
        "id": "V57zhcTp1Xxb"
      }
    },
    {
      "cell_type": "markdown",
      "metadata": {
        "id": "Tm2aXcb-j9Fc"
      },
      "source": [
        "# Download data\n",
        "If the Google Drive links below do not work, you can download data from [Kaggle](https://www.kaggle.com/t/a3ebd5b5542f0f55e828d4f00de8e59a), and upload data manually to the workspace."
      ]
    },
    {
      "cell_type": "code",
      "execution_count": null,
      "metadata": {
        "colab": {
          "base_uri": "https://localhost:8080/"
        },
        "id": "YPmfl-awlKZA",
        "outputId": "71e77d1b-5543-4b3e-dc70-604bd7952f2b"
      },
      "outputs": [
        {
          "output_type": "stream",
          "name": "stdout",
          "text": [
            "Downloading...\n",
            "From: https://drive.google.com/uc?id=1kLSW_-cW2Huj7bh84YTdimGBOJaODiOS\n",
            "To: /content/covid.train.csv\n",
            "100% 2.49M/2.49M [00:00<00:00, 195MB/s]\n",
            "Downloading...\n",
            "From: https://drive.google.com/uc?id=1iiI5qROrAhZn-o4FPqsE97bMzDEFvIdg\n",
            "To: /content/covid.test.csv\n",
            "100% 993k/993k [00:00<00:00, 118MB/s]\n"
          ]
        }
      ],
      "source": [
        "!gdown --id '1kLSW_-cW2Huj7bh84YTdimGBOJaODiOS' --output covid.train.csv\n",
        "!gdown --id '1iiI5qROrAhZn-o4FPqsE97bMzDEFvIdg' --output covid.test.csv"
      ]
    },
    {
      "cell_type": "markdown",
      "metadata": {
        "id": "igqIMEgu64-F"
      },
      "source": [
        "# Import packages"
      ]
    },
    {
      "cell_type": "code",
      "execution_count": null,
      "metadata": {
        "id": "xybQNYCXYu13"
      },
      "outputs": [],
      "source": [
        "# Numerical Operations\n",
        "import math\n",
        "import numpy as np\n",
        "\n",
        "# Reading/Writing Data\n",
        "import pandas as pd\n",
        "import os\n",
        "import csv\n",
        "\n",
        "# For Progress Bar\n",
        "from tqdm import tqdm\n",
        "\n",
        "# Pytorch\n",
        "import torch\n",
        "import torch.nn as nn\n",
        "from torch.utils.data import Dataset, DataLoader, random_split\n",
        "\n",
        "# For plotting learning curve\n",
        "from torch.utils.tensorboard import SummaryWriter"
      ]
    },
    {
      "cell_type": "markdown",
      "source": [
        "# Some Utility Functions\n",
        "\n",
        "You do not need to modify this part."
      ],
      "metadata": {
        "id": "fTAVqRfc2KK3"
      }
    },
    {
      "cell_type": "code",
      "source": [
        "def same_seed(seed):\n",
        "    '''Fixes random number generator seeds for reproducibility.'''\n",
        "    torch.backends.cudnn.deterministic = True\n",
        "    torch.backends.cudnn.benchmark = False\n",
        "    np.random.seed(seed)\n",
        "    torch.manual_seed(seed)\n",
        "    if torch.cuda.is_available():\n",
        "        torch.cuda.manual_seed_all(seed)\n",
        "\n",
        "def train_valid_split(data_set, valid_ratio, seed):\n",
        "    '''Split provided training data into training set and validation set'''\n",
        "    valid_set_size = int(valid_ratio * len(data_set))\n",
        "    train_set_size = len(data_set) - valid_set_size\n",
        "    train_set, valid_set = random_split(data_set, [train_set_size, valid_set_size], generator=torch.Generator().manual_seed(seed))\n",
        "    return np.array(train_set), np.array(valid_set)\n",
        "\n",
        "def predict(test_loader, model, device):\n",
        "    model.eval() # Set your model to evaluation mode.\n",
        "    preds = []\n",
        "    for x in tqdm(test_loader):\n",
        "        x = x.to(device)\n",
        "        with torch.no_grad():\n",
        "            pred = model(x)\n",
        "            preds.append(pred.detach().cpu())\n",
        "    preds = torch.cat(preds, dim=0).numpy()\n",
        "    return preds"
      ],
      "metadata": {
        "id": "RbrcpfYN2I-H"
      },
      "execution_count": null,
      "outputs": []
    },
    {
      "cell_type": "markdown",
      "metadata": {
        "id": "IqO3lTm78nNO"
      },
      "source": [
        "# Dataset"
      ]
    },
    {
      "cell_type": "code",
      "execution_count": null,
      "metadata": {
        "id": "-mjaJM0wprMs"
      },
      "outputs": [],
      "source": [
        "class COVID19Dataset(Dataset):\n",
        "    '''\n",
        "    x: Features.\n",
        "    y: Targets, if none, do prediction.\n",
        "    '''\n",
        "    def __init__(self, x, y=None):\n",
        "        if y is None:\n",
        "            self.y = y\n",
        "        else:\n",
        "            self.y = torch.FloatTensor(y)\n",
        "        self.x = torch.FloatTensor(x)\n",
        "\n",
        "    def __getitem__(self, idx):\n",
        "        if self.y is None:\n",
        "            return self.x[idx]\n",
        "        else:\n",
        "            return self.x[idx], self.y[idx]\n",
        "\n",
        "    def __len__(self):\n",
        "        return len(self.x)"
      ]
    },
    {
      "cell_type": "markdown",
      "source": [
        "# Neural Network Model\n",
        "Try out different model architectures by modifying the class below."
      ],
      "metadata": {
        "id": "m73ooU75CL_j"
      }
    },
    {
      "cell_type": "code",
      "execution_count": null,
      "metadata": {
        "id": "Qn97_WvvrEkG"
      },
      "outputs": [],
      "source": [
        "class My_Model(nn.Module):\n",
        "    def __init__(self, input_dim):\n",
        "        super(My_Model, self).__init__()\n",
        "        # TODO: modify model's structure, be aware of dimensions.\n",
        "        self.layers = nn.Sequential(\n",
        "            nn.Linear(input_dim, 16),\n",
        "            nn.ReLU(),\n",
        "            nn.Linear(16, 8),\n",
        "            nn.ReLU(),\n",
        "            nn.Linear(8, 1)\n",
        "        )\n",
        "\n",
        "    def forward(self, x):\n",
        "        x = self.layers(x)\n",
        "        x = x.squeeze(1) # (B, 1) -> (B)\n",
        "        return x"
      ]
    },
    {
      "cell_type": "markdown",
      "metadata": {
        "id": "x5-LKF6R8xeq"
      },
      "source": [
        "# Feature Selection\n",
        "Choose features you deem useful by modifying the function below."
      ]
    },
    {
      "cell_type": "code",
      "source": [
        "def select_feat(train_data, valid_data, test_data, select_all=True):\n",
        "    '''Selects useful features to perform regression'''\n",
        "    y_train, y_valid = train_data[:,-1], valid_data[:,-1]\n",
        "    raw_x_train, raw_x_valid, raw_x_test = train_data[:,:-1], valid_data[:,:-1], test_data\n",
        "\n",
        "    if select_all:\n",
        "        feat_idx = list(range(raw_x_train.shape[1]))\n",
        "    else:\n",
        "        feat_idx = [0,1,2,3,4] # TODO: Select suitable feature columns.\n",
        "\n",
        "    return raw_x_train[:,feat_idx], raw_x_valid[:,feat_idx], raw_x_test[:,feat_idx], y_train, y_valid"
      ],
      "metadata": {
        "id": "0FEnKRaIIeKp"
      },
      "execution_count": null,
      "outputs": []
    },
    {
      "cell_type": "markdown",
      "source": [
        "# Training Loop"
      ],
      "metadata": {
        "id": "kADIPNQ2Ih5X"
      }
    },
    {
      "cell_type": "code",
      "execution_count": null,
      "metadata": {
        "id": "k4Rq8_TztAhq"
      },
      "outputs": [],
      "source": [
        "def trainer(train_loader, valid_loader, model, config, device):\n",
        "\n",
        "    criterion = nn.MSELoss(reduction='mean') # Define your loss function, do not modify this.\n",
        "\n",
        "    # Define your optimization algorithm.\n",
        "    # TODO: Please check https://pytorch.org/docs/stable/optim.html to get more available algorithms.\n",
        "    # TODO: L2 regularization (optimizer(weight decay...) or implement by your self).\n",
        "    optimizer = torch.optim.SGD(model.parameters(), lr=config['learning_rate'], momentum=0.9)\n",
        "\n",
        "    writer = SummaryWriter() # Writer of tensoboard.\n",
        "\n",
        "    if not os.path.isdir('./models'):\n",
        "        os.mkdir('./models') # Create directory of saving models.\n",
        "\n",
        "    n_epochs, best_loss, step, early_stop_count = config['n_epochs'], math.inf, 0, 0\n",
        "\n",
        "    for epoch in range(n_epochs):\n",
        "        model.train() # Set your model to train mode.\n",
        "        loss_record = []\n",
        "\n",
        "        # tqdm is a package to visualize your training progress.\n",
        "        train_pbar = tqdm(train_loader, position=0, leave=True)\n",
        "\n",
        "        for x, y in train_pbar:\n",
        "            optimizer.zero_grad()               # Set gradient to zero.\n",
        "            x, y = x.to(device), y.to(device)   # Move your data to device.\n",
        "            pred = model(x)\n",
        "            loss = criterion(pred, y)\n",
        "            loss.backward()                     # Compute gradient(backpropagation).\n",
        "            optimizer.step()                    # Update parameters.\n",
        "            step += 1\n",
        "            loss_record.append(loss.detach().item())\n",
        "\n",
        "            # Display current epoch number and loss on tqdm progress bar.\n",
        "            train_pbar.set_description(f'Epoch [{epoch+1}/{n_epochs}]')\n",
        "            train_pbar.set_postfix({'loss': loss.detach().item()})\n",
        "\n",
        "        mean_train_loss = sum(loss_record)/len(loss_record)\n",
        "        writer.add_scalar('Loss/train', mean_train_loss, step)\n",
        "\n",
        "        model.eval() # Set your model to evaluation mode.\n",
        "        loss_record = []\n",
        "        for x, y in valid_loader:\n",
        "            x, y = x.to(device), y.to(device)\n",
        "            with torch.no_grad():\n",
        "                pred = model(x)\n",
        "                loss = criterion(pred, y)\n",
        "\n",
        "            loss_record.append(loss.item())\n",
        "\n",
        "        mean_valid_loss = sum(loss_record)/len(loss_record)\n",
        "        print(f'Epoch [{epoch+1}/{n_epochs}]: Train loss: {mean_train_loss:.4f}, Valid loss: {mean_valid_loss:.4f}')\n",
        "        writer.add_scalar('Loss/valid', mean_valid_loss, step)\n",
        "\n",
        "        if mean_valid_loss < best_loss:\n",
        "            best_loss = mean_valid_loss\n",
        "            torch.save(model.state_dict(), config['save_path']) # Save your best model\n",
        "            print('Saving model with loss {:.3f}...'.format(best_loss))\n",
        "            early_stop_count = 0\n",
        "        else:\n",
        "            early_stop_count += 1\n",
        "\n",
        "        if early_stop_count >= config['early_stop']:\n",
        "            print('\\nModel is not improving, so we halt the training session.')\n",
        "            return"
      ]
    },
    {
      "cell_type": "markdown",
      "metadata": {
        "id": "0pgkOh2e9UjE"
      },
      "source": [
        "# Configurations\n",
        "`config` contains hyper-parameters for training and the path to save your model."
      ]
    },
    {
      "cell_type": "code",
      "execution_count": null,
      "metadata": {
        "id": "QoWPUahCtoT6"
      },
      "outputs": [],
      "source": [
        "device = 'cuda' if torch.cuda.is_available() else 'cpu'\n",
        "config = {\n",
        "    'seed': 5201314,      # Your seed number, you can pick your lucky number. :)\n",
        "    'select_all': True,   # Whether to use all features.\n",
        "    'valid_ratio': 0.2,   # validation_size = train_size * valid_ratio\n",
        "    'n_epochs': 3000,     # Number of epochs.\n",
        "    'batch_size': 256,\n",
        "    'learning_rate': 1e-5,\n",
        "    'early_stop': 400,    # If model has not improved for this many consecutive epochs, stop training.\n",
        "    'save_path': './models/model.ckpt'  # Your model will be saved here.\n",
        "}"
      ]
    },
    {
      "cell_type": "markdown",
      "metadata": {
        "id": "lrS-aJJh9XkW"
      },
      "source": [
        "# Dataloader\n",
        "Read data from files and set up training, validation, and testing sets. You do not need to modify this part."
      ]
    },
    {
      "cell_type": "code",
      "execution_count": null,
      "metadata": {
        "id": "2jc7ZfDot2t9",
        "colab": {
          "base_uri": "https://localhost:8080/"
        },
        "outputId": "62d291db-61c8-424d-ec87-2cfce6dd330d"
      },
      "outputs": [
        {
          "output_type": "stream",
          "name": "stdout",
          "text": [
            "train_data size: (2160, 118) \n",
            "valid_data size: (539, 118) \n",
            "test_data size: (1078, 117)\n",
            "number of features: 117\n"
          ]
        }
      ],
      "source": [
        "# Set seed for reproducibility\n",
        "same_seed(config['seed'])\n",
        "\n",
        "\n",
        "# train_data size: 2699 x 118 (id + 37 states + 16 features x 5 days)\n",
        "# test_data size: 1078 x 117 (without last day's positive rate)\n",
        "train_data, test_data = pd.read_csv('./covid.train.csv').values, pd.read_csv('./covid.test.csv').values\n",
        "train_data, valid_data = train_valid_split(train_data, config['valid_ratio'], config['seed'])\n",
        "\n",
        "# Print out the data size.\n",
        "print(f\"\"\"train_data size: {train_data.shape}\n",
        "valid_data size: {valid_data.shape}\n",
        "test_data size: {test_data.shape}\"\"\")\n",
        "\n",
        "# Select features\n",
        "x_train, x_valid, x_test, y_train, y_valid = select_feat(train_data, valid_data, test_data, config['select_all'])\n",
        "\n",
        "# Print out the number of features.\n",
        "print(f'number of features: {x_train.shape[1]}')\n",
        "\n",
        "train_dataset, valid_dataset, test_dataset = COVID19Dataset(x_train, y_train), \\\n",
        "                                            COVID19Dataset(x_valid, y_valid), \\\n",
        "                                            COVID19Dataset(x_test)\n",
        "\n",
        "# Pytorch data loader loads pytorch dataset into batches.\n",
        "train_loader = DataLoader(train_dataset, batch_size=config['batch_size'], shuffle=True, pin_memory=True)\n",
        "valid_loader = DataLoader(valid_dataset, batch_size=config['batch_size'], shuffle=True, pin_memory=True)\n",
        "test_loader = DataLoader(test_dataset, batch_size=config['batch_size'], shuffle=False, pin_memory=True)"
      ]
    },
    {
      "cell_type": "markdown",
      "metadata": {
        "id": "0OBYgjCA-YwD"
      },
      "source": [
        "# Start training!"
      ]
    },
    {
      "cell_type": "code",
      "execution_count": null,
      "metadata": {
        "colab": {
          "base_uri": "https://localhost:8080/"
        },
        "id": "YdttVRkAfu2t",
        "outputId": "864a1214-e69e-4197-dda0-ce2f6fe07d3c"
      },
      "outputs": [
        {
          "output_type": "stream",
          "name": "stderr",
          "text": [
            "Epoch [1/3000]: 100%|██████████| 9/9 [00:02<00:00,  3.51it/s, loss=60.4]\n"
          ]
        },
        {
          "output_type": "stream",
          "name": "stdout",
          "text": [
            "Epoch [1/3000]: Train loss: 134.2442, Valid loss: 107.2154\n",
            "Saving model with loss 107.215...\n"
          ]
        },
        {
          "output_type": "stream",
          "name": "stderr",
          "text": [
            "Epoch [2/3000]: 100%|██████████| 9/9 [00:00<00:00, 91.73it/s, loss=65.9]\n"
          ]
        },
        {
          "output_type": "stream",
          "name": "stdout",
          "text": [
            "Epoch [2/3000]: Train loss: 69.8928, Valid loss: 50.8182\n",
            "Saving model with loss 50.818...\n"
          ]
        },
        {
          "output_type": "stream",
          "name": "stderr",
          "text": [
            "Epoch [3/3000]: 100%|██████████| 9/9 [00:00<00:00, 89.78it/s, loss=61.8]\n"
          ]
        },
        {
          "output_type": "stream",
          "name": "stdout",
          "text": [
            "Epoch [3/3000]: Train loss: 48.5299, Valid loss: 39.1162\n",
            "Saving model with loss 39.116...\n"
          ]
        },
        {
          "output_type": "stream",
          "name": "stderr",
          "text": [
            "Epoch [4/3000]: 100%|██████████| 9/9 [00:00<00:00, 85.48it/s, loss=42]\n"
          ]
        },
        {
          "output_type": "stream",
          "name": "stdout",
          "text": [
            "Epoch [4/3000]: Train loss: 39.2690, Valid loss: 39.9758\n"
          ]
        },
        {
          "output_type": "stream",
          "name": "stderr",
          "text": [
            "Epoch [5/3000]: 100%|██████████| 9/9 [00:00<00:00, 90.07it/s, loss=37.6]\n"
          ]
        },
        {
          "output_type": "stream",
          "name": "stdout",
          "text": [
            "Epoch [5/3000]: Train loss: 34.3680, Valid loss: 34.5855\n",
            "Saving model with loss 34.586...\n"
          ]
        },
        {
          "output_type": "stream",
          "name": "stderr",
          "text": [
            "Epoch [6/3000]: 100%|██████████| 9/9 [00:00<00:00, 84.92it/s, loss=35.4]\n"
          ]
        },
        {
          "output_type": "stream",
          "name": "stdout",
          "text": [
            "Epoch [6/3000]: Train loss: 32.7019, Valid loss: 34.4896\n",
            "Saving model with loss 34.490...\n"
          ]
        },
        {
          "output_type": "stream",
          "name": "stderr",
          "text": [
            "Epoch [7/3000]: 100%|██████████| 9/9 [00:00<00:00, 89.79it/s, loss=30.4]\n"
          ]
        },
        {
          "output_type": "stream",
          "name": "stdout",
          "text": [
            "Epoch [7/3000]: Train loss: 31.6557, Valid loss: 32.7823\n",
            "Saving model with loss 32.782...\n"
          ]
        },
        {
          "output_type": "stream",
          "name": "stderr",
          "text": [
            "Epoch [8/3000]: 100%|██████████| 9/9 [00:00<00:00, 90.05it/s, loss=31.8]\n"
          ]
        },
        {
          "output_type": "stream",
          "name": "stdout",
          "text": [
            "Epoch [8/3000]: Train loss: 31.0152, Valid loss: 28.5507\n",
            "Saving model with loss 28.551...\n"
          ]
        },
        {
          "output_type": "stream",
          "name": "stderr",
          "text": [
            "Epoch [9/3000]: 100%|██████████| 9/9 [00:00<00:00, 83.43it/s, loss=28.6]\n"
          ]
        },
        {
          "output_type": "stream",
          "name": "stdout",
          "text": [
            "Epoch [9/3000]: Train loss: 30.0828, Valid loss: 29.0465\n"
          ]
        },
        {
          "output_type": "stream",
          "name": "stderr",
          "text": [
            "Epoch [10/3000]: 100%|██████████| 9/9 [00:00<00:00, 93.52it/s, loss=30]\n"
          ]
        },
        {
          "output_type": "stream",
          "name": "stdout",
          "text": [
            "Epoch [10/3000]: Train loss: 29.1485, Valid loss: 29.9683\n"
          ]
        },
        {
          "output_type": "stream",
          "name": "stderr",
          "text": [
            "Epoch [11/3000]: 100%|██████████| 9/9 [00:00<00:00, 75.94it/s, loss=30.9]\n"
          ]
        },
        {
          "output_type": "stream",
          "name": "stdout",
          "text": [
            "Epoch [11/3000]: Train loss: 27.2044, Valid loss: 34.4240\n"
          ]
        },
        {
          "output_type": "stream",
          "name": "stderr",
          "text": [
            "Epoch [12/3000]: 100%|██████████| 9/9 [00:00<00:00, 98.10it/s, loss=28.5]\n"
          ]
        },
        {
          "output_type": "stream",
          "name": "stdout",
          "text": [
            "Epoch [12/3000]: Train loss: 30.4587, Valid loss: 30.5449\n"
          ]
        },
        {
          "output_type": "stream",
          "name": "stderr",
          "text": [
            "Epoch [13/3000]: 100%|██████████| 9/9 [00:00<00:00, 83.05it/s, loss=26.4]\n"
          ]
        },
        {
          "output_type": "stream",
          "name": "stdout",
          "text": [
            "Epoch [13/3000]: Train loss: 28.8501, Valid loss: 38.8159\n"
          ]
        },
        {
          "output_type": "stream",
          "name": "stderr",
          "text": [
            "Epoch [14/3000]: 100%|██████████| 9/9 [00:00<00:00, 86.25it/s, loss=25.9]\n"
          ]
        },
        {
          "output_type": "stream",
          "name": "stdout",
          "text": [
            "Epoch [14/3000]: Train loss: 30.4944, Valid loss: 23.6367\n",
            "Saving model with loss 23.637...\n"
          ]
        },
        {
          "output_type": "stream",
          "name": "stderr",
          "text": [
            "Epoch [15/3000]: 100%|██████████| 9/9 [00:00<00:00, 92.22it/s, loss=20]\n"
          ]
        },
        {
          "output_type": "stream",
          "name": "stdout",
          "text": [
            "Epoch [15/3000]: Train loss: 22.0876, Valid loss: 21.6634\n",
            "Saving model with loss 21.663...\n"
          ]
        },
        {
          "output_type": "stream",
          "name": "stderr",
          "text": [
            "Epoch [16/3000]: 100%|██████████| 9/9 [00:00<00:00, 93.33it/s, loss=27.3]\n"
          ]
        },
        {
          "output_type": "stream",
          "name": "stdout",
          "text": [
            "Epoch [16/3000]: Train loss: 21.9709, Valid loss: 21.4196\n",
            "Saving model with loss 21.420...\n"
          ]
        },
        {
          "output_type": "stream",
          "name": "stderr",
          "text": [
            "Epoch [17/3000]: 100%|██████████| 9/9 [00:00<00:00, 91.51it/s, loss=18.6]\n"
          ]
        },
        {
          "output_type": "stream",
          "name": "stdout",
          "text": [
            "Epoch [17/3000]: Train loss: 18.8819, Valid loss: 17.4513\n",
            "Saving model with loss 17.451...\n"
          ]
        },
        {
          "output_type": "stream",
          "name": "stderr",
          "text": [
            "Epoch [18/3000]: 100%|██████████| 9/9 [00:00<00:00, 63.76it/s, loss=16.5]\n"
          ]
        },
        {
          "output_type": "stream",
          "name": "stdout",
          "text": [
            "Epoch [18/3000]: Train loss: 19.4507, Valid loss: 16.2923\n",
            "Saving model with loss 16.292...\n"
          ]
        },
        {
          "output_type": "stream",
          "name": "stderr",
          "text": [
            "Epoch [19/3000]: 100%|██████████| 9/9 [00:00<00:00, 69.55it/s, loss=18.7]\n"
          ]
        },
        {
          "output_type": "stream",
          "name": "stdout",
          "text": [
            "Epoch [19/3000]: Train loss: 17.1157, Valid loss: 12.4208\n",
            "Saving model with loss 12.421...\n"
          ]
        },
        {
          "output_type": "stream",
          "name": "stderr",
          "text": [
            "Epoch [20/3000]: 100%|██████████| 9/9 [00:00<00:00, 67.15it/s, loss=16.1]\n"
          ]
        },
        {
          "output_type": "stream",
          "name": "stdout",
          "text": [
            "Epoch [20/3000]: Train loss: 14.4298, Valid loss: 12.4150\n",
            "Saving model with loss 12.415...\n"
          ]
        },
        {
          "output_type": "stream",
          "name": "stderr",
          "text": [
            "Epoch [21/3000]: 100%|██████████| 9/9 [00:00<00:00, 56.46it/s, loss=11.5]\n"
          ]
        },
        {
          "output_type": "stream",
          "name": "stdout",
          "text": [
            "Epoch [21/3000]: Train loss: 12.4320, Valid loss: 10.2074\n",
            "Saving model with loss 10.207...\n"
          ]
        },
        {
          "output_type": "stream",
          "name": "stderr",
          "text": [
            "Epoch [22/3000]: 100%|██████████| 9/9 [00:00<00:00, 53.86it/s, loss=8.66]\n"
          ]
        },
        {
          "output_type": "stream",
          "name": "stdout",
          "text": [
            "Epoch [22/3000]: Train loss: 9.8818, Valid loss: 8.9815\n",
            "Saving model with loss 8.982...\n"
          ]
        },
        {
          "output_type": "stream",
          "name": "stderr",
          "text": [
            "Epoch [23/3000]: 100%|██████████| 9/9 [00:00<00:00, 83.82it/s, loss=9.7]\n"
          ]
        },
        {
          "output_type": "stream",
          "name": "stdout",
          "text": [
            "Epoch [23/3000]: Train loss: 9.4202, Valid loss: 8.1944\n",
            "Saving model with loss 8.194...\n"
          ]
        },
        {
          "output_type": "stream",
          "name": "stderr",
          "text": [
            "Epoch [24/3000]: 100%|██████████| 9/9 [00:00<00:00, 79.29it/s, loss=5.93]\n"
          ]
        },
        {
          "output_type": "stream",
          "name": "stdout",
          "text": [
            "Epoch [24/3000]: Train loss: 9.9787, Valid loss: 11.8254\n"
          ]
        },
        {
          "output_type": "stream",
          "name": "stderr",
          "text": [
            "Epoch [25/3000]: 100%|██████████| 9/9 [00:00<00:00, 82.85it/s, loss=11.6]\n"
          ]
        },
        {
          "output_type": "stream",
          "name": "stdout",
          "text": [
            "Epoch [25/3000]: Train loss: 13.3498, Valid loss: 18.9990\n"
          ]
        },
        {
          "output_type": "stream",
          "name": "stderr",
          "text": [
            "Epoch [26/3000]: 100%|██████████| 9/9 [00:00<00:00, 82.09it/s, loss=33.1]\n"
          ]
        },
        {
          "output_type": "stream",
          "name": "stdout",
          "text": [
            "Epoch [26/3000]: Train loss: 32.1958, Valid loss: 16.0473\n"
          ]
        },
        {
          "output_type": "stream",
          "name": "stderr",
          "text": [
            "Epoch [27/3000]: 100%|██████████| 9/9 [00:00<00:00, 93.65it/s, loss=12.9]\n"
          ]
        },
        {
          "output_type": "stream",
          "name": "stdout",
          "text": [
            "Epoch [27/3000]: Train loss: 22.0563, Valid loss: 33.8580\n"
          ]
        },
        {
          "output_type": "stream",
          "name": "stderr",
          "text": [
            "Epoch [28/3000]: 100%|██████████| 9/9 [00:00<00:00, 90.02it/s, loss=12.2]\n"
          ]
        },
        {
          "output_type": "stream",
          "name": "stdout",
          "text": [
            "Epoch [28/3000]: Train loss: 24.0252, Valid loss: 16.7239\n"
          ]
        },
        {
          "output_type": "stream",
          "name": "stderr",
          "text": [
            "Epoch [29/3000]: 100%|██████████| 9/9 [00:00<00:00, 82.78it/s, loss=14.1]\n"
          ]
        },
        {
          "output_type": "stream",
          "name": "stdout",
          "text": [
            "Epoch [29/3000]: Train loss: 16.1765, Valid loss: 16.0472\n"
          ]
        },
        {
          "output_type": "stream",
          "name": "stderr",
          "text": [
            "Epoch [30/3000]: 100%|██████████| 9/9 [00:00<00:00, 83.62it/s, loss=10.7]\n"
          ]
        },
        {
          "output_type": "stream",
          "name": "stdout",
          "text": [
            "Epoch [30/3000]: Train loss: 13.3738, Valid loss: 12.4264\n"
          ]
        },
        {
          "output_type": "stream",
          "name": "stderr",
          "text": [
            "Epoch [31/3000]: 100%|██████████| 9/9 [00:00<00:00, 82.53it/s, loss=9.61]\n"
          ]
        },
        {
          "output_type": "stream",
          "name": "stdout",
          "text": [
            "Epoch [31/3000]: Train loss: 10.5927, Valid loss: 8.4381\n"
          ]
        },
        {
          "output_type": "stream",
          "name": "stderr",
          "text": [
            "Epoch [32/3000]: 100%|██████████| 9/9 [00:00<00:00, 85.14it/s, loss=5.78]\n"
          ]
        },
        {
          "output_type": "stream",
          "name": "stdout",
          "text": [
            "Epoch [32/3000]: Train loss: 8.7088, Valid loss: 7.7009\n",
            "Saving model with loss 7.701...\n"
          ]
        },
        {
          "output_type": "stream",
          "name": "stderr",
          "text": [
            "Epoch [33/3000]: 100%|██████████| 9/9 [00:00<00:00, 80.19it/s, loss=7.05]\n"
          ]
        },
        {
          "output_type": "stream",
          "name": "stdout",
          "text": [
            "Epoch [33/3000]: Train loss: 7.5685, Valid loss: 9.8440\n"
          ]
        },
        {
          "output_type": "stream",
          "name": "stderr",
          "text": [
            "Epoch [34/3000]: 100%|██████████| 9/9 [00:00<00:00, 85.50it/s, loss=6.26]\n"
          ]
        },
        {
          "output_type": "stream",
          "name": "stdout",
          "text": [
            "Epoch [34/3000]: Train loss: 6.5751, Valid loss: 6.4251\n",
            "Saving model with loss 6.425...\n"
          ]
        },
        {
          "output_type": "stream",
          "name": "stderr",
          "text": [
            "Epoch [35/3000]: 100%|██████████| 9/9 [00:00<00:00, 76.68it/s, loss=5.67]\n"
          ]
        },
        {
          "output_type": "stream",
          "name": "stdout",
          "text": [
            "Epoch [35/3000]: Train loss: 6.4591, Valid loss: 7.3667\n"
          ]
        },
        {
          "output_type": "stream",
          "name": "stderr",
          "text": [
            "Epoch [36/3000]: 100%|██████████| 9/9 [00:00<00:00, 81.18it/s, loss=10.8]\n"
          ]
        },
        {
          "output_type": "stream",
          "name": "stdout",
          "text": [
            "Epoch [36/3000]: Train loss: 8.9118, Valid loss: 5.4373\n",
            "Saving model with loss 5.437...\n"
          ]
        },
        {
          "output_type": "stream",
          "name": "stderr",
          "text": [
            "Epoch [37/3000]: 100%|██████████| 9/9 [00:00<00:00, 92.66it/s, loss=12.9]\n"
          ]
        },
        {
          "output_type": "stream",
          "name": "stdout",
          "text": [
            "Epoch [37/3000]: Train loss: 11.4654, Valid loss: 11.2931\n"
          ]
        },
        {
          "output_type": "stream",
          "name": "stderr",
          "text": [
            "Epoch [38/3000]: 100%|██████████| 9/9 [00:00<00:00, 79.60it/s, loss=15.8]\n"
          ]
        },
        {
          "output_type": "stream",
          "name": "stdout",
          "text": [
            "Epoch [38/3000]: Train loss: 10.1454, Valid loss: 10.1152\n"
          ]
        },
        {
          "output_type": "stream",
          "name": "stderr",
          "text": [
            "Epoch [39/3000]: 100%|██████████| 9/9 [00:00<00:00, 91.95it/s, loss=8.26]\n"
          ]
        },
        {
          "output_type": "stream",
          "name": "stdout",
          "text": [
            "Epoch [39/3000]: Train loss: 7.9754, Valid loss: 5.3838\n",
            "Saving model with loss 5.384...\n"
          ]
        },
        {
          "output_type": "stream",
          "name": "stderr",
          "text": [
            "Epoch [40/3000]: 100%|██████████| 9/9 [00:00<00:00, 81.97it/s, loss=5.21]\n"
          ]
        },
        {
          "output_type": "stream",
          "name": "stdout",
          "text": [
            "Epoch [40/3000]: Train loss: 5.9771, Valid loss: 7.2963\n"
          ]
        },
        {
          "output_type": "stream",
          "name": "stderr",
          "text": [
            "Epoch [41/3000]: 100%|██████████| 9/9 [00:00<00:00, 78.22it/s, loss=6.05]\n"
          ]
        },
        {
          "output_type": "stream",
          "name": "stdout",
          "text": [
            "Epoch [41/3000]: Train loss: 9.5937, Valid loss: 5.5865\n"
          ]
        },
        {
          "output_type": "stream",
          "name": "stderr",
          "text": [
            "Epoch [42/3000]: 100%|██████████| 9/9 [00:00<00:00, 86.19it/s, loss=6.54]\n"
          ]
        },
        {
          "output_type": "stream",
          "name": "stdout",
          "text": [
            "Epoch [42/3000]: Train loss: 6.1208, Valid loss: 5.6068\n"
          ]
        },
        {
          "output_type": "stream",
          "name": "stderr",
          "text": [
            "Epoch [43/3000]: 100%|██████████| 9/9 [00:00<00:00, 78.79it/s, loss=8.22]\n"
          ]
        },
        {
          "output_type": "stream",
          "name": "stdout",
          "text": [
            "Epoch [43/3000]: Train loss: 6.5059, Valid loss: 5.4390\n"
          ]
        },
        {
          "output_type": "stream",
          "name": "stderr",
          "text": [
            "Epoch [44/3000]: 100%|██████████| 9/9 [00:00<00:00, 93.68it/s, loss=6.75]\n"
          ]
        },
        {
          "output_type": "stream",
          "name": "stdout",
          "text": [
            "Epoch [44/3000]: Train loss: 8.7822, Valid loss: 6.1507\n"
          ]
        },
        {
          "output_type": "stream",
          "name": "stderr",
          "text": [
            "Epoch [45/3000]: 100%|██████████| 9/9 [00:00<00:00, 84.89it/s, loss=5.98]\n"
          ]
        },
        {
          "output_type": "stream",
          "name": "stdout",
          "text": [
            "Epoch [45/3000]: Train loss: 5.7645, Valid loss: 5.8273\n"
          ]
        },
        {
          "output_type": "stream",
          "name": "stderr",
          "text": [
            "Epoch [46/3000]: 100%|██████████| 9/9 [00:00<00:00, 85.09it/s, loss=6.64]\n"
          ]
        },
        {
          "output_type": "stream",
          "name": "stdout",
          "text": [
            "Epoch [46/3000]: Train loss: 6.5125, Valid loss: 5.7721\n"
          ]
        },
        {
          "output_type": "stream",
          "name": "stderr",
          "text": [
            "Epoch [47/3000]: 100%|██████████| 9/9 [00:00<00:00, 90.44it/s, loss=10.8]\n"
          ]
        },
        {
          "output_type": "stream",
          "name": "stdout",
          "text": [
            "Epoch [47/3000]: Train loss: 7.8976, Valid loss: 10.6389\n"
          ]
        },
        {
          "output_type": "stream",
          "name": "stderr",
          "text": [
            "Epoch [48/3000]: 100%|██████████| 9/9 [00:00<00:00, 85.76it/s, loss=5.32]\n"
          ]
        },
        {
          "output_type": "stream",
          "name": "stdout",
          "text": [
            "Epoch [48/3000]: Train loss: 6.8367, Valid loss: 5.6704\n"
          ]
        },
        {
          "output_type": "stream",
          "name": "stderr",
          "text": [
            "Epoch [49/3000]: 100%|██████████| 9/9 [00:00<00:00, 85.62it/s, loss=5.77]\n"
          ]
        },
        {
          "output_type": "stream",
          "name": "stdout",
          "text": [
            "Epoch [49/3000]: Train loss: 5.7062, Valid loss: 5.0708\n",
            "Saving model with loss 5.071...\n"
          ]
        },
        {
          "output_type": "stream",
          "name": "stderr",
          "text": [
            "Epoch [50/3000]: 100%|██████████| 9/9 [00:00<00:00, 98.23it/s, loss=5.42]\n"
          ]
        },
        {
          "output_type": "stream",
          "name": "stdout",
          "text": [
            "Epoch [50/3000]: Train loss: 5.2814, Valid loss: 5.3736\n"
          ]
        },
        {
          "output_type": "stream",
          "name": "stderr",
          "text": [
            "Epoch [51/3000]: 100%|██████████| 9/9 [00:00<00:00, 88.16it/s, loss=7.32]\n"
          ]
        },
        {
          "output_type": "stream",
          "name": "stdout",
          "text": [
            "Epoch [51/3000]: Train loss: 7.2379, Valid loss: 5.4500\n"
          ]
        },
        {
          "output_type": "stream",
          "name": "stderr",
          "text": [
            "Epoch [52/3000]: 100%|██████████| 9/9 [00:00<00:00, 98.25it/s, loss=9.58]\n"
          ]
        },
        {
          "output_type": "stream",
          "name": "stdout",
          "text": [
            "Epoch [52/3000]: Train loss: 6.0749, Valid loss: 5.2415\n"
          ]
        },
        {
          "output_type": "stream",
          "name": "stderr",
          "text": [
            "Epoch [53/3000]: 100%|██████████| 9/9 [00:00<00:00, 93.91it/s, loss=7.27]\n"
          ]
        },
        {
          "output_type": "stream",
          "name": "stdout",
          "text": [
            "Epoch [53/3000]: Train loss: 5.5730, Valid loss: 5.9925\n"
          ]
        },
        {
          "output_type": "stream",
          "name": "stderr",
          "text": [
            "Epoch [54/3000]: 100%|██████████| 9/9 [00:00<00:00, 81.17it/s, loss=6.5]\n"
          ]
        },
        {
          "output_type": "stream",
          "name": "stdout",
          "text": [
            "Epoch [54/3000]: Train loss: 6.3573, Valid loss: 6.8643\n"
          ]
        },
        {
          "output_type": "stream",
          "name": "stderr",
          "text": [
            "Epoch [55/3000]: 100%|██████████| 9/9 [00:00<00:00, 82.36it/s, loss=6.67]\n"
          ]
        },
        {
          "output_type": "stream",
          "name": "stdout",
          "text": [
            "Epoch [55/3000]: Train loss: 5.5011, Valid loss: 5.3129\n"
          ]
        },
        {
          "output_type": "stream",
          "name": "stderr",
          "text": [
            "Epoch [56/3000]: 100%|██████████| 9/9 [00:00<00:00, 82.00it/s, loss=5.08]\n"
          ]
        },
        {
          "output_type": "stream",
          "name": "stdout",
          "text": [
            "Epoch [56/3000]: Train loss: 5.5338, Valid loss: 4.9076\n",
            "Saving model with loss 4.908...\n"
          ]
        },
        {
          "output_type": "stream",
          "name": "stderr",
          "text": [
            "Epoch [57/3000]: 100%|██████████| 9/9 [00:00<00:00, 75.47it/s, loss=5.01]\n"
          ]
        },
        {
          "output_type": "stream",
          "name": "stdout",
          "text": [
            "Epoch [57/3000]: Train loss: 5.2906, Valid loss: 7.1043\n"
          ]
        },
        {
          "output_type": "stream",
          "name": "stderr",
          "text": [
            "Epoch [58/3000]: 100%|██████████| 9/9 [00:00<00:00, 94.70it/s, loss=9.21]\n"
          ]
        },
        {
          "output_type": "stream",
          "name": "stdout",
          "text": [
            "Epoch [58/3000]: Train loss: 8.1648, Valid loss: 6.4059\n"
          ]
        },
        {
          "output_type": "stream",
          "name": "stderr",
          "text": [
            "Epoch [59/3000]: 100%|██████████| 9/9 [00:00<00:00, 86.50it/s, loss=7.17]\n"
          ]
        },
        {
          "output_type": "stream",
          "name": "stdout",
          "text": [
            "Epoch [59/3000]: Train loss: 6.8555, Valid loss: 8.4045\n"
          ]
        },
        {
          "output_type": "stream",
          "name": "stderr",
          "text": [
            "Epoch [60/3000]: 100%|██████████| 9/9 [00:00<00:00, 91.47it/s, loss=3.96]\n"
          ]
        },
        {
          "output_type": "stream",
          "name": "stdout",
          "text": [
            "Epoch [60/3000]: Train loss: 5.8161, Valid loss: 5.4324\n"
          ]
        },
        {
          "output_type": "stream",
          "name": "stderr",
          "text": [
            "Epoch [61/3000]: 100%|██████████| 9/9 [00:00<00:00, 92.92it/s, loss=7.27]\n"
          ]
        },
        {
          "output_type": "stream",
          "name": "stdout",
          "text": [
            "Epoch [61/3000]: Train loss: 6.1007, Valid loss: 5.6772\n"
          ]
        },
        {
          "output_type": "stream",
          "name": "stderr",
          "text": [
            "Epoch [62/3000]: 100%|██████████| 9/9 [00:00<00:00, 85.78it/s, loss=6.41]\n"
          ]
        },
        {
          "output_type": "stream",
          "name": "stdout",
          "text": [
            "Epoch [62/3000]: Train loss: 6.2688, Valid loss: 11.8861\n"
          ]
        },
        {
          "output_type": "stream",
          "name": "stderr",
          "text": [
            "Epoch [63/3000]: 100%|██████████| 9/9 [00:00<00:00, 89.84it/s, loss=16]\n"
          ]
        },
        {
          "output_type": "stream",
          "name": "stdout",
          "text": [
            "Epoch [63/3000]: Train loss: 9.3666, Valid loss: 5.2015\n"
          ]
        },
        {
          "output_type": "stream",
          "name": "stderr",
          "text": [
            "Epoch [64/3000]: 100%|██████████| 9/9 [00:00<00:00, 84.71it/s, loss=15.4]\n"
          ]
        },
        {
          "output_type": "stream",
          "name": "stdout",
          "text": [
            "Epoch [64/3000]: Train loss: 9.7231, Valid loss: 9.9735\n"
          ]
        },
        {
          "output_type": "stream",
          "name": "stderr",
          "text": [
            "Epoch [65/3000]: 100%|██████████| 9/9 [00:00<00:00, 76.73it/s, loss=20]\n"
          ]
        },
        {
          "output_type": "stream",
          "name": "stdout",
          "text": [
            "Epoch [65/3000]: Train loss: 16.2965, Valid loss: 9.9444\n"
          ]
        },
        {
          "output_type": "stream",
          "name": "stderr",
          "text": [
            "Epoch [66/3000]: 100%|██████████| 9/9 [00:00<00:00, 83.92it/s, loss=10]\n"
          ]
        },
        {
          "output_type": "stream",
          "name": "stdout",
          "text": [
            "Epoch [66/3000]: Train loss: 11.0266, Valid loss: 9.3559\n"
          ]
        },
        {
          "output_type": "stream",
          "name": "stderr",
          "text": [
            "Epoch [67/3000]: 100%|██████████| 9/9 [00:00<00:00, 86.45it/s, loss=11]\n"
          ]
        },
        {
          "output_type": "stream",
          "name": "stdout",
          "text": [
            "Epoch [67/3000]: Train loss: 9.7844, Valid loss: 7.1001\n"
          ]
        },
        {
          "output_type": "stream",
          "name": "stderr",
          "text": [
            "Epoch [68/3000]: 100%|██████████| 9/9 [00:00<00:00, 85.27it/s, loss=8.59]\n"
          ]
        },
        {
          "output_type": "stream",
          "name": "stdout",
          "text": [
            "Epoch [68/3000]: Train loss: 7.4477, Valid loss: 7.6549\n"
          ]
        },
        {
          "output_type": "stream",
          "name": "stderr",
          "text": [
            "Epoch [69/3000]: 100%|██████████| 9/9 [00:00<00:00, 83.92it/s, loss=6.6]\n"
          ]
        },
        {
          "output_type": "stream",
          "name": "stdout",
          "text": [
            "Epoch [69/3000]: Train loss: 6.2854, Valid loss: 6.9688\n"
          ]
        },
        {
          "output_type": "stream",
          "name": "stderr",
          "text": [
            "Epoch [70/3000]: 100%|██████████| 9/9 [00:00<00:00, 84.71it/s, loss=4.51]\n"
          ]
        },
        {
          "output_type": "stream",
          "name": "stdout",
          "text": [
            "Epoch [70/3000]: Train loss: 5.5861, Valid loss: 4.4508\n",
            "Saving model with loss 4.451...\n"
          ]
        },
        {
          "output_type": "stream",
          "name": "stderr",
          "text": [
            "Epoch [71/3000]: 100%|██████████| 9/9 [00:00<00:00, 76.76it/s, loss=8.03]\n"
          ]
        },
        {
          "output_type": "stream",
          "name": "stdout",
          "text": [
            "Epoch [71/3000]: Train loss: 5.8853, Valid loss: 4.8953\n"
          ]
        },
        {
          "output_type": "stream",
          "name": "stderr",
          "text": [
            "Epoch [72/3000]: 100%|██████████| 9/9 [00:00<00:00, 93.10it/s, loss=6]\n"
          ]
        },
        {
          "output_type": "stream",
          "name": "stdout",
          "text": [
            "Epoch [72/3000]: Train loss: 5.3305, Valid loss: 6.5556\n"
          ]
        },
        {
          "output_type": "stream",
          "name": "stderr",
          "text": [
            "Epoch [73/3000]: 100%|██████████| 9/9 [00:00<00:00, 87.83it/s, loss=7.67]\n"
          ]
        },
        {
          "output_type": "stream",
          "name": "stdout",
          "text": [
            "Epoch [73/3000]: Train loss: 5.5661, Valid loss: 6.9747\n"
          ]
        },
        {
          "output_type": "stream",
          "name": "stderr",
          "text": [
            "Epoch [74/3000]: 100%|██████████| 9/9 [00:00<00:00, 80.91it/s, loss=4.24]\n"
          ]
        },
        {
          "output_type": "stream",
          "name": "stdout",
          "text": [
            "Epoch [74/3000]: Train loss: 5.2628, Valid loss: 4.5224\n"
          ]
        },
        {
          "output_type": "stream",
          "name": "stderr",
          "text": [
            "Epoch [75/3000]: 100%|██████████| 9/9 [00:00<00:00, 84.90it/s, loss=4.21]\n"
          ]
        },
        {
          "output_type": "stream",
          "name": "stdout",
          "text": [
            "Epoch [75/3000]: Train loss: 5.0282, Valid loss: 4.4667\n"
          ]
        },
        {
          "output_type": "stream",
          "name": "stderr",
          "text": [
            "Epoch [76/3000]: 100%|██████████| 9/9 [00:00<00:00, 81.36it/s, loss=5.09]\n"
          ]
        },
        {
          "output_type": "stream",
          "name": "stdout",
          "text": [
            "Epoch [76/3000]: Train loss: 5.2533, Valid loss: 5.5808\n"
          ]
        },
        {
          "output_type": "stream",
          "name": "stderr",
          "text": [
            "Epoch [77/3000]: 100%|██████████| 9/9 [00:00<00:00, 84.42it/s, loss=4.69]\n"
          ]
        },
        {
          "output_type": "stream",
          "name": "stdout",
          "text": [
            "Epoch [77/3000]: Train loss: 8.2466, Valid loss: 10.7261\n"
          ]
        },
        {
          "output_type": "stream",
          "name": "stderr",
          "text": [
            "Epoch [78/3000]: 100%|██████████| 9/9 [00:00<00:00, 84.95it/s, loss=3.94]\n"
          ]
        },
        {
          "output_type": "stream",
          "name": "stdout",
          "text": [
            "Epoch [78/3000]: Train loss: 7.2868, Valid loss: 8.4281\n"
          ]
        },
        {
          "output_type": "stream",
          "name": "stderr",
          "text": [
            "Epoch [79/3000]: 100%|██████████| 9/9 [00:00<00:00, 78.58it/s, loss=5.62]\n"
          ]
        },
        {
          "output_type": "stream",
          "name": "stdout",
          "text": [
            "Epoch [79/3000]: Train loss: 6.9504, Valid loss: 5.3363\n"
          ]
        },
        {
          "output_type": "stream",
          "name": "stderr",
          "text": [
            "Epoch [80/3000]: 100%|██████████| 9/9 [00:00<00:00, 92.66it/s, loss=6.21]\n"
          ]
        },
        {
          "output_type": "stream",
          "name": "stdout",
          "text": [
            "Epoch [80/3000]: Train loss: 5.2380, Valid loss: 5.6747\n"
          ]
        },
        {
          "output_type": "stream",
          "name": "stderr",
          "text": [
            "Epoch [81/3000]: 100%|██████████| 9/9 [00:00<00:00, 82.48it/s, loss=6.29]\n"
          ]
        },
        {
          "output_type": "stream",
          "name": "stdout",
          "text": [
            "Epoch [81/3000]: Train loss: 5.5891, Valid loss: 5.6174\n"
          ]
        },
        {
          "output_type": "stream",
          "name": "stderr",
          "text": [
            "Epoch [82/3000]: 100%|██████████| 9/9 [00:00<00:00, 91.62it/s, loss=6.89]\n"
          ]
        },
        {
          "output_type": "stream",
          "name": "stdout",
          "text": [
            "Epoch [82/3000]: Train loss: 5.4303, Valid loss: 5.1562\n"
          ]
        },
        {
          "output_type": "stream",
          "name": "stderr",
          "text": [
            "Epoch [83/3000]: 100%|██████████| 9/9 [00:00<00:00, 85.79it/s, loss=4.88]\n"
          ]
        },
        {
          "output_type": "stream",
          "name": "stdout",
          "text": [
            "Epoch [83/3000]: Train loss: 4.9677, Valid loss: 6.0496\n"
          ]
        },
        {
          "output_type": "stream",
          "name": "stderr",
          "text": [
            "Epoch [84/3000]: 100%|██████████| 9/9 [00:00<00:00, 84.99it/s, loss=5.72]\n"
          ]
        },
        {
          "output_type": "stream",
          "name": "stdout",
          "text": [
            "Epoch [84/3000]: Train loss: 5.7508, Valid loss: 6.0604\n"
          ]
        },
        {
          "output_type": "stream",
          "name": "stderr",
          "text": [
            "Epoch [85/3000]: 100%|██████████| 9/9 [00:00<00:00, 84.02it/s, loss=5.53]\n"
          ]
        },
        {
          "output_type": "stream",
          "name": "stdout",
          "text": [
            "Epoch [85/3000]: Train loss: 5.2115, Valid loss: 4.5274\n"
          ]
        },
        {
          "output_type": "stream",
          "name": "stderr",
          "text": [
            "Epoch [86/3000]: 100%|██████████| 9/9 [00:00<00:00, 90.71it/s, loss=5.59]\n"
          ]
        },
        {
          "output_type": "stream",
          "name": "stdout",
          "text": [
            "Epoch [86/3000]: Train loss: 5.0080, Valid loss: 4.9097\n"
          ]
        },
        {
          "output_type": "stream",
          "name": "stderr",
          "text": [
            "Epoch [87/3000]: 100%|██████████| 9/9 [00:00<00:00, 92.67it/s, loss=7.35]\n"
          ]
        },
        {
          "output_type": "stream",
          "name": "stdout",
          "text": [
            "Epoch [87/3000]: Train loss: 5.0228, Valid loss: 4.6723\n"
          ]
        },
        {
          "output_type": "stream",
          "name": "stderr",
          "text": [
            "Epoch [88/3000]: 100%|██████████| 9/9 [00:00<00:00, 92.62it/s, loss=3.9]\n"
          ]
        },
        {
          "output_type": "stream",
          "name": "stdout",
          "text": [
            "Epoch [88/3000]: Train loss: 5.2372, Valid loss: 7.8722\n"
          ]
        },
        {
          "output_type": "stream",
          "name": "stderr",
          "text": [
            "Epoch [89/3000]: 100%|██████████| 9/9 [00:00<00:00, 95.84it/s, loss=7.76]\n"
          ]
        },
        {
          "output_type": "stream",
          "name": "stdout",
          "text": [
            "Epoch [89/3000]: Train loss: 6.7827, Valid loss: 5.7613\n"
          ]
        },
        {
          "output_type": "stream",
          "name": "stderr",
          "text": [
            "Epoch [90/3000]: 100%|██████████| 9/9 [00:00<00:00, 82.93it/s, loss=6.79]\n"
          ]
        },
        {
          "output_type": "stream",
          "name": "stdout",
          "text": [
            "Epoch [90/3000]: Train loss: 6.0041, Valid loss: 4.9902\n"
          ]
        },
        {
          "output_type": "stream",
          "name": "stderr",
          "text": [
            "Epoch [91/3000]: 100%|██████████| 9/9 [00:00<00:00, 80.06it/s, loss=8.87]\n"
          ]
        },
        {
          "output_type": "stream",
          "name": "stdout",
          "text": [
            "Epoch [91/3000]: Train loss: 6.8558, Valid loss: 5.1602\n"
          ]
        },
        {
          "output_type": "stream",
          "name": "stderr",
          "text": [
            "Epoch [92/3000]: 100%|██████████| 9/9 [00:00<00:00, 84.00it/s, loss=6.8]\n"
          ]
        },
        {
          "output_type": "stream",
          "name": "stdout",
          "text": [
            "Epoch [92/3000]: Train loss: 6.2335, Valid loss: 5.1861\n"
          ]
        },
        {
          "output_type": "stream",
          "name": "stderr",
          "text": [
            "Epoch [93/3000]: 100%|██████████| 9/9 [00:00<00:00, 77.46it/s, loss=5.38]\n"
          ]
        },
        {
          "output_type": "stream",
          "name": "stdout",
          "text": [
            "Epoch [93/3000]: Train loss: 6.4318, Valid loss: 4.8951\n"
          ]
        },
        {
          "output_type": "stream",
          "name": "stderr",
          "text": [
            "Epoch [94/3000]: 100%|██████████| 9/9 [00:00<00:00, 87.74it/s, loss=4.97]\n"
          ]
        },
        {
          "output_type": "stream",
          "name": "stdout",
          "text": [
            "Epoch [94/3000]: Train loss: 4.6933, Valid loss: 4.9935\n"
          ]
        },
        {
          "output_type": "stream",
          "name": "stderr",
          "text": [
            "Epoch [95/3000]: 100%|██████████| 9/9 [00:00<00:00, 92.68it/s, loss=5.24]\n"
          ]
        },
        {
          "output_type": "stream",
          "name": "stdout",
          "text": [
            "Epoch [95/3000]: Train loss: 4.9823, Valid loss: 4.8480\n"
          ]
        },
        {
          "output_type": "stream",
          "name": "stderr",
          "text": [
            "Epoch [96/3000]: 100%|██████████| 9/9 [00:00<00:00, 95.71it/s, loss=4.83]\n"
          ]
        },
        {
          "output_type": "stream",
          "name": "stdout",
          "text": [
            "Epoch [96/3000]: Train loss: 4.9856, Valid loss: 5.4775\n"
          ]
        },
        {
          "output_type": "stream",
          "name": "stderr",
          "text": [
            "Epoch [97/3000]: 100%|██████████| 9/9 [00:00<00:00, 84.41it/s, loss=6.77]\n"
          ]
        },
        {
          "output_type": "stream",
          "name": "stdout",
          "text": [
            "Epoch [97/3000]: Train loss: 5.0282, Valid loss: 7.7357\n"
          ]
        },
        {
          "output_type": "stream",
          "name": "stderr",
          "text": [
            "Epoch [98/3000]: 100%|██████████| 9/9 [00:00<00:00, 90.02it/s, loss=9.54]\n"
          ]
        },
        {
          "output_type": "stream",
          "name": "stdout",
          "text": [
            "Epoch [98/3000]: Train loss: 6.3964, Valid loss: 12.3827\n"
          ]
        },
        {
          "output_type": "stream",
          "name": "stderr",
          "text": [
            "Epoch [99/3000]: 100%|██████████| 9/9 [00:00<00:00, 82.92it/s, loss=9.36]\n"
          ]
        },
        {
          "output_type": "stream",
          "name": "stdout",
          "text": [
            "Epoch [99/3000]: Train loss: 7.8921, Valid loss: 8.9927\n"
          ]
        },
        {
          "output_type": "stream",
          "name": "stderr",
          "text": [
            "Epoch [100/3000]: 100%|██████████| 9/9 [00:00<00:00, 91.72it/s, loss=5.86]\n"
          ]
        },
        {
          "output_type": "stream",
          "name": "stdout",
          "text": [
            "Epoch [100/3000]: Train loss: 6.4389, Valid loss: 4.3409\n",
            "Saving model with loss 4.341...\n"
          ]
        },
        {
          "output_type": "stream",
          "name": "stderr",
          "text": [
            "Epoch [101/3000]: 100%|██████████| 9/9 [00:00<00:00, 36.45it/s, loss=5.32]\n"
          ]
        },
        {
          "output_type": "stream",
          "name": "stdout",
          "text": [
            "Epoch [101/3000]: Train loss: 5.6297, Valid loss: 5.6269\n"
          ]
        },
        {
          "output_type": "stream",
          "name": "stderr",
          "text": [
            "Epoch [102/3000]: 100%|██████████| 9/9 [00:00<00:00, 85.79it/s, loss=5.16]\n"
          ]
        },
        {
          "output_type": "stream",
          "name": "stdout",
          "text": [
            "Epoch [102/3000]: Train loss: 5.0151, Valid loss: 5.7860\n"
          ]
        },
        {
          "output_type": "stream",
          "name": "stderr",
          "text": [
            "Epoch [103/3000]: 100%|██████████| 9/9 [00:00<00:00, 89.62it/s, loss=9.34]\n"
          ]
        },
        {
          "output_type": "stream",
          "name": "stdout",
          "text": [
            "Epoch [103/3000]: Train loss: 5.8818, Valid loss: 5.3487\n"
          ]
        },
        {
          "output_type": "stream",
          "name": "stderr",
          "text": [
            "Epoch [104/3000]: 100%|██████████| 9/9 [00:00<00:00, 92.28it/s, loss=5.05]\n"
          ]
        },
        {
          "output_type": "stream",
          "name": "stdout",
          "text": [
            "Epoch [104/3000]: Train loss: 8.1942, Valid loss: 9.5055\n"
          ]
        },
        {
          "output_type": "stream",
          "name": "stderr",
          "text": [
            "Epoch [105/3000]: 100%|██████████| 9/9 [00:00<00:00, 89.39it/s, loss=5.05]\n"
          ]
        },
        {
          "output_type": "stream",
          "name": "stdout",
          "text": [
            "Epoch [105/3000]: Train loss: 5.7229, Valid loss: 6.1507\n"
          ]
        },
        {
          "output_type": "stream",
          "name": "stderr",
          "text": [
            "Epoch [106/3000]: 100%|██████████| 9/9 [00:00<00:00, 90.74it/s, loss=6.23]\n"
          ]
        },
        {
          "output_type": "stream",
          "name": "stdout",
          "text": [
            "Epoch [106/3000]: Train loss: 4.7533, Valid loss: 8.4970\n"
          ]
        },
        {
          "output_type": "stream",
          "name": "stderr",
          "text": [
            "Epoch [107/3000]: 100%|██████████| 9/9 [00:00<00:00, 93.22it/s, loss=11.7]\n"
          ]
        },
        {
          "output_type": "stream",
          "name": "stdout",
          "text": [
            "Epoch [107/3000]: Train loss: 8.5811, Valid loss: 13.7362\n"
          ]
        },
        {
          "output_type": "stream",
          "name": "stderr",
          "text": [
            "Epoch [108/3000]: 100%|██████████| 9/9 [00:00<00:00, 83.86it/s, loss=7.52]\n"
          ]
        },
        {
          "output_type": "stream",
          "name": "stdout",
          "text": [
            "Epoch [108/3000]: Train loss: 10.3410, Valid loss: 9.2626\n"
          ]
        },
        {
          "output_type": "stream",
          "name": "stderr",
          "text": [
            "Epoch [109/3000]: 100%|██████████| 9/9 [00:00<00:00, 81.38it/s, loss=6.31]\n"
          ]
        },
        {
          "output_type": "stream",
          "name": "stdout",
          "text": [
            "Epoch [109/3000]: Train loss: 9.2514, Valid loss: 16.0276\n"
          ]
        },
        {
          "output_type": "stream",
          "name": "stderr",
          "text": [
            "Epoch [110/3000]: 100%|██████████| 9/9 [00:00<00:00, 86.22it/s, loss=15.4]\n"
          ]
        },
        {
          "output_type": "stream",
          "name": "stdout",
          "text": [
            "Epoch [110/3000]: Train loss: 10.0316, Valid loss: 4.5253\n"
          ]
        },
        {
          "output_type": "stream",
          "name": "stderr",
          "text": [
            "Epoch [111/3000]: 100%|██████████| 9/9 [00:00<00:00, 87.53it/s, loss=9.97]\n"
          ]
        },
        {
          "output_type": "stream",
          "name": "stdout",
          "text": [
            "Epoch [111/3000]: Train loss: 8.9933, Valid loss: 5.1573\n"
          ]
        },
        {
          "output_type": "stream",
          "name": "stderr",
          "text": [
            "Epoch [112/3000]: 100%|██████████| 9/9 [00:00<00:00, 74.76it/s, loss=3.75]\n"
          ]
        },
        {
          "output_type": "stream",
          "name": "stdout",
          "text": [
            "Epoch [112/3000]: Train loss: 5.0132, Valid loss: 6.8230\n"
          ]
        },
        {
          "output_type": "stream",
          "name": "stderr",
          "text": [
            "Epoch [113/3000]: 100%|██████████| 9/9 [00:00<00:00, 84.89it/s, loss=4.73]\n"
          ]
        },
        {
          "output_type": "stream",
          "name": "stdout",
          "text": [
            "Epoch [113/3000]: Train loss: 4.7149, Valid loss: 5.0164\n"
          ]
        },
        {
          "output_type": "stream",
          "name": "stderr",
          "text": [
            "Epoch [114/3000]: 100%|██████████| 9/9 [00:00<00:00, 82.68it/s, loss=8.34]\n"
          ]
        },
        {
          "output_type": "stream",
          "name": "stdout",
          "text": [
            "Epoch [114/3000]: Train loss: 5.5852, Valid loss: 5.0920\n"
          ]
        },
        {
          "output_type": "stream",
          "name": "stderr",
          "text": [
            "Epoch [115/3000]: 100%|██████████| 9/9 [00:00<00:00, 78.54it/s, loss=5.26]\n"
          ]
        },
        {
          "output_type": "stream",
          "name": "stdout",
          "text": [
            "Epoch [115/3000]: Train loss: 5.0552, Valid loss: 4.2040\n",
            "Saving model with loss 4.204...\n"
          ]
        },
        {
          "output_type": "stream",
          "name": "stderr",
          "text": [
            "Epoch [116/3000]: 100%|██████████| 9/9 [00:00<00:00, 83.79it/s, loss=5.01]\n"
          ]
        },
        {
          "output_type": "stream",
          "name": "stdout",
          "text": [
            "Epoch [116/3000]: Train loss: 4.7343, Valid loss: 6.2218\n"
          ]
        },
        {
          "output_type": "stream",
          "name": "stderr",
          "text": [
            "Epoch [117/3000]: 100%|██████████| 9/9 [00:00<00:00, 92.19it/s, loss=6.07]\n"
          ]
        },
        {
          "output_type": "stream",
          "name": "stdout",
          "text": [
            "Epoch [117/3000]: Train loss: 5.6630, Valid loss: 5.0344\n"
          ]
        },
        {
          "output_type": "stream",
          "name": "stderr",
          "text": [
            "Epoch [118/3000]: 100%|██████████| 9/9 [00:00<00:00, 94.08it/s, loss=11.1]\n"
          ]
        },
        {
          "output_type": "stream",
          "name": "stdout",
          "text": [
            "Epoch [118/3000]: Train loss: 7.4919, Valid loss: 8.8715\n"
          ]
        },
        {
          "output_type": "stream",
          "name": "stderr",
          "text": [
            "Epoch [119/3000]: 100%|██████████| 9/9 [00:00<00:00, 87.22it/s, loss=9.36]\n"
          ]
        },
        {
          "output_type": "stream",
          "name": "stdout",
          "text": [
            "Epoch [119/3000]: Train loss: 7.9488, Valid loss: 8.0967\n"
          ]
        },
        {
          "output_type": "stream",
          "name": "stderr",
          "text": [
            "Epoch [120/3000]: 100%|██████████| 9/9 [00:00<00:00, 80.15it/s, loss=7.02]\n"
          ]
        },
        {
          "output_type": "stream",
          "name": "stdout",
          "text": [
            "Epoch [120/3000]: Train loss: 7.1190, Valid loss: 7.2470\n"
          ]
        },
        {
          "output_type": "stream",
          "name": "stderr",
          "text": [
            "Epoch [121/3000]: 100%|██████████| 9/9 [00:00<00:00, 99.88it/s, loss=4.96]\n"
          ]
        },
        {
          "output_type": "stream",
          "name": "stdout",
          "text": [
            "Epoch [121/3000]: Train loss: 6.2364, Valid loss: 4.7989\n"
          ]
        },
        {
          "output_type": "stream",
          "name": "stderr",
          "text": [
            "Epoch [122/3000]: 100%|██████████| 9/9 [00:00<00:00, 98.83it/s, loss=3.56]\n"
          ]
        },
        {
          "output_type": "stream",
          "name": "stdout",
          "text": [
            "Epoch [122/3000]: Train loss: 4.7021, Valid loss: 4.3818\n"
          ]
        },
        {
          "output_type": "stream",
          "name": "stderr",
          "text": [
            "Epoch [123/3000]: 100%|██████████| 9/9 [00:00<00:00, 96.56it/s, loss=6.7]\n"
          ]
        },
        {
          "output_type": "stream",
          "name": "stdout",
          "text": [
            "Epoch [123/3000]: Train loss: 4.8892, Valid loss: 4.0485\n",
            "Saving model with loss 4.048...\n"
          ]
        },
        {
          "output_type": "stream",
          "name": "stderr",
          "text": [
            "Epoch [124/3000]: 100%|██████████| 9/9 [00:00<00:00, 96.38it/s, loss=3.67]\n"
          ]
        },
        {
          "output_type": "stream",
          "name": "stdout",
          "text": [
            "Epoch [124/3000]: Train loss: 4.7228, Valid loss: 5.2480\n"
          ]
        },
        {
          "output_type": "stream",
          "name": "stderr",
          "text": [
            "Epoch [125/3000]: 100%|██████████| 9/9 [00:00<00:00, 92.83it/s, loss=5.41]\n"
          ]
        },
        {
          "output_type": "stream",
          "name": "stdout",
          "text": [
            "Epoch [125/3000]: Train loss: 4.7390, Valid loss: 5.5564\n"
          ]
        },
        {
          "output_type": "stream",
          "name": "stderr",
          "text": [
            "Epoch [126/3000]: 100%|██████████| 9/9 [00:00<00:00, 98.43it/s, loss=6.38]\n"
          ]
        },
        {
          "output_type": "stream",
          "name": "stdout",
          "text": [
            "Epoch [126/3000]: Train loss: 5.5245, Valid loss: 4.2328\n"
          ]
        },
        {
          "output_type": "stream",
          "name": "stderr",
          "text": [
            "Epoch [127/3000]: 100%|██████████| 9/9 [00:00<00:00, 87.37it/s, loss=6.93]\n"
          ]
        },
        {
          "output_type": "stream",
          "name": "stdout",
          "text": [
            "Epoch [127/3000]: Train loss: 5.1780, Valid loss: 4.1613\n"
          ]
        },
        {
          "output_type": "stream",
          "name": "stderr",
          "text": [
            "Epoch [128/3000]: 100%|██████████| 9/9 [00:00<00:00, 77.82it/s, loss=4.36]\n"
          ]
        },
        {
          "output_type": "stream",
          "name": "stdout",
          "text": [
            "Epoch [128/3000]: Train loss: 5.0525, Valid loss: 8.7827\n"
          ]
        },
        {
          "output_type": "stream",
          "name": "stderr",
          "text": [
            "Epoch [129/3000]: 100%|██████████| 9/9 [00:00<00:00, 86.39it/s, loss=3.99]\n"
          ]
        },
        {
          "output_type": "stream",
          "name": "stdout",
          "text": [
            "Epoch [129/3000]: Train loss: 6.6621, Valid loss: 4.4047\n"
          ]
        },
        {
          "output_type": "stream",
          "name": "stderr",
          "text": [
            "Epoch [130/3000]: 100%|██████████| 9/9 [00:00<00:00, 75.37it/s, loss=5.86]\n"
          ]
        },
        {
          "output_type": "stream",
          "name": "stdout",
          "text": [
            "Epoch [130/3000]: Train loss: 5.3509, Valid loss: 6.7665\n"
          ]
        },
        {
          "output_type": "stream",
          "name": "stderr",
          "text": [
            "Epoch [131/3000]: 100%|██████████| 9/9 [00:00<00:00, 82.72it/s, loss=6.99]\n"
          ]
        },
        {
          "output_type": "stream",
          "name": "stdout",
          "text": [
            "Epoch [131/3000]: Train loss: 6.1347, Valid loss: 5.3160\n"
          ]
        },
        {
          "output_type": "stream",
          "name": "stderr",
          "text": [
            "Epoch [132/3000]: 100%|██████████| 9/9 [00:00<00:00, 85.96it/s, loss=4.34]\n"
          ]
        },
        {
          "output_type": "stream",
          "name": "stdout",
          "text": [
            "Epoch [132/3000]: Train loss: 4.7012, Valid loss: 4.3805\n"
          ]
        },
        {
          "output_type": "stream",
          "name": "stderr",
          "text": [
            "Epoch [133/3000]: 100%|██████████| 9/9 [00:00<00:00, 85.56it/s, loss=5.47]\n"
          ]
        },
        {
          "output_type": "stream",
          "name": "stdout",
          "text": [
            "Epoch [133/3000]: Train loss: 4.7215, Valid loss: 4.4664\n"
          ]
        },
        {
          "output_type": "stream",
          "name": "stderr",
          "text": [
            "Epoch [134/3000]: 100%|██████████| 9/9 [00:00<00:00, 89.91it/s, loss=6.79]\n"
          ]
        },
        {
          "output_type": "stream",
          "name": "stdout",
          "text": [
            "Epoch [134/3000]: Train loss: 4.9867, Valid loss: 4.1537\n"
          ]
        },
        {
          "output_type": "stream",
          "name": "stderr",
          "text": [
            "Epoch [135/3000]: 100%|██████████| 9/9 [00:00<00:00, 93.76it/s, loss=5.6]\n"
          ]
        },
        {
          "output_type": "stream",
          "name": "stdout",
          "text": [
            "Epoch [135/3000]: Train loss: 4.7668, Valid loss: 4.8251\n"
          ]
        },
        {
          "output_type": "stream",
          "name": "stderr",
          "text": [
            "Epoch [136/3000]: 100%|██████████| 9/9 [00:00<00:00, 92.98it/s, loss=4.29]\n"
          ]
        },
        {
          "output_type": "stream",
          "name": "stdout",
          "text": [
            "Epoch [136/3000]: Train loss: 4.3274, Valid loss: 5.3113\n"
          ]
        },
        {
          "output_type": "stream",
          "name": "stderr",
          "text": [
            "Epoch [137/3000]: 100%|██████████| 9/9 [00:00<00:00, 84.42it/s, loss=3.53]\n"
          ]
        },
        {
          "output_type": "stream",
          "name": "stdout",
          "text": [
            "Epoch [137/3000]: Train loss: 4.1863, Valid loss: 3.9598\n",
            "Saving model with loss 3.960...\n"
          ]
        },
        {
          "output_type": "stream",
          "name": "stderr",
          "text": [
            "Epoch [138/3000]: 100%|██████████| 9/9 [00:00<00:00, 78.34it/s, loss=4.26]\n"
          ]
        },
        {
          "output_type": "stream",
          "name": "stdout",
          "text": [
            "Epoch [138/3000]: Train loss: 4.5788, Valid loss: 4.3185\n"
          ]
        },
        {
          "output_type": "stream",
          "name": "stderr",
          "text": [
            "Epoch [139/3000]: 100%|██████████| 9/9 [00:00<00:00, 85.43it/s, loss=5.9]\n"
          ]
        },
        {
          "output_type": "stream",
          "name": "stdout",
          "text": [
            "Epoch [139/3000]: Train loss: 4.4785, Valid loss: 4.2048\n"
          ]
        },
        {
          "output_type": "stream",
          "name": "stderr",
          "text": [
            "Epoch [140/3000]: 100%|██████████| 9/9 [00:00<00:00, 78.01it/s, loss=4.54]\n"
          ]
        },
        {
          "output_type": "stream",
          "name": "stdout",
          "text": [
            "Epoch [140/3000]: Train loss: 4.8288, Valid loss: 4.2352\n"
          ]
        },
        {
          "output_type": "stream",
          "name": "stderr",
          "text": [
            "Epoch [141/3000]: 100%|██████████| 9/9 [00:00<00:00, 90.65it/s, loss=4.03]\n"
          ]
        },
        {
          "output_type": "stream",
          "name": "stdout",
          "text": [
            "Epoch [141/3000]: Train loss: 4.3181, Valid loss: 4.0168\n"
          ]
        },
        {
          "output_type": "stream",
          "name": "stderr",
          "text": [
            "Epoch [142/3000]: 100%|██████████| 9/9 [00:00<00:00, 72.01it/s, loss=4.49]\n"
          ]
        },
        {
          "output_type": "stream",
          "name": "stdout",
          "text": [
            "Epoch [142/3000]: Train loss: 4.7471, Valid loss: 4.9416\n"
          ]
        },
        {
          "output_type": "stream",
          "name": "stderr",
          "text": [
            "Epoch [143/3000]: 100%|██████████| 9/9 [00:00<00:00, 91.48it/s, loss=4.27]\n"
          ]
        },
        {
          "output_type": "stream",
          "name": "stdout",
          "text": [
            "Epoch [143/3000]: Train loss: 4.9457, Valid loss: 4.4161\n"
          ]
        },
        {
          "output_type": "stream",
          "name": "stderr",
          "text": [
            "Epoch [144/3000]: 100%|██████████| 9/9 [00:00<00:00, 98.84it/s, loss=8.04]\n"
          ]
        },
        {
          "output_type": "stream",
          "name": "stdout",
          "text": [
            "Epoch [144/3000]: Train loss: 4.8698, Valid loss: 4.8862\n"
          ]
        },
        {
          "output_type": "stream",
          "name": "stderr",
          "text": [
            "Epoch [145/3000]: 100%|██████████| 9/9 [00:00<00:00, 97.72it/s, loss=5.14]\n"
          ]
        },
        {
          "output_type": "stream",
          "name": "stdout",
          "text": [
            "Epoch [145/3000]: Train loss: 5.0283, Valid loss: 6.0260\n"
          ]
        },
        {
          "output_type": "stream",
          "name": "stderr",
          "text": [
            "Epoch [146/3000]: 100%|██████████| 9/9 [00:00<00:00, 92.84it/s, loss=6.32]\n"
          ]
        },
        {
          "output_type": "stream",
          "name": "stdout",
          "text": [
            "Epoch [146/3000]: Train loss: 4.9807, Valid loss: 6.3077\n"
          ]
        },
        {
          "output_type": "stream",
          "name": "stderr",
          "text": [
            "Epoch [147/3000]: 100%|██████████| 9/9 [00:00<00:00, 81.21it/s, loss=5.38]\n"
          ]
        },
        {
          "output_type": "stream",
          "name": "stdout",
          "text": [
            "Epoch [147/3000]: Train loss: 5.4250, Valid loss: 6.9116\n"
          ]
        },
        {
          "output_type": "stream",
          "name": "stderr",
          "text": [
            "Epoch [148/3000]: 100%|██████████| 9/9 [00:00<00:00, 86.57it/s, loss=5.15]\n"
          ]
        },
        {
          "output_type": "stream",
          "name": "stdout",
          "text": [
            "Epoch [148/3000]: Train loss: 6.6490, Valid loss: 5.8872\n"
          ]
        },
        {
          "output_type": "stream",
          "name": "stderr",
          "text": [
            "Epoch [149/3000]: 100%|██████████| 9/9 [00:00<00:00, 74.99it/s, loss=5.25]\n"
          ]
        },
        {
          "output_type": "stream",
          "name": "stdout",
          "text": [
            "Epoch [149/3000]: Train loss: 4.7447, Valid loss: 4.0451\n"
          ]
        },
        {
          "output_type": "stream",
          "name": "stderr",
          "text": [
            "Epoch [150/3000]: 100%|██████████| 9/9 [00:00<00:00, 95.15it/s, loss=4.62]\n"
          ]
        },
        {
          "output_type": "stream",
          "name": "stdout",
          "text": [
            "Epoch [150/3000]: Train loss: 4.1997, Valid loss: 4.3530\n"
          ]
        },
        {
          "output_type": "stream",
          "name": "stderr",
          "text": [
            "Epoch [151/3000]: 100%|██████████| 9/9 [00:00<00:00, 90.87it/s, loss=3.69]\n"
          ]
        },
        {
          "output_type": "stream",
          "name": "stdout",
          "text": [
            "Epoch [151/3000]: Train loss: 4.1187, Valid loss: 3.9976\n"
          ]
        },
        {
          "output_type": "stream",
          "name": "stderr",
          "text": [
            "Epoch [152/3000]: 100%|██████████| 9/9 [00:00<00:00, 85.53it/s, loss=3.75]\n"
          ]
        },
        {
          "output_type": "stream",
          "name": "stdout",
          "text": [
            "Epoch [152/3000]: Train loss: 4.5858, Valid loss: 5.1132\n"
          ]
        },
        {
          "output_type": "stream",
          "name": "stderr",
          "text": [
            "Epoch [153/3000]: 100%|██████████| 9/9 [00:00<00:00, 94.20it/s, loss=5.14]\n"
          ]
        },
        {
          "output_type": "stream",
          "name": "stdout",
          "text": [
            "Epoch [153/3000]: Train loss: 4.7696, Valid loss: 4.2695\n"
          ]
        },
        {
          "output_type": "stream",
          "name": "stderr",
          "text": [
            "Epoch [154/3000]: 100%|██████████| 9/9 [00:00<00:00, 96.57it/s, loss=5.1]\n"
          ]
        },
        {
          "output_type": "stream",
          "name": "stdout",
          "text": [
            "Epoch [154/3000]: Train loss: 4.4546, Valid loss: 4.9587\n"
          ]
        },
        {
          "output_type": "stream",
          "name": "stderr",
          "text": [
            "Epoch [155/3000]: 100%|██████████| 9/9 [00:00<00:00, 93.45it/s, loss=4.88]\n"
          ]
        },
        {
          "output_type": "stream",
          "name": "stdout",
          "text": [
            "Epoch [155/3000]: Train loss: 4.4625, Valid loss: 4.0940\n"
          ]
        },
        {
          "output_type": "stream",
          "name": "stderr",
          "text": [
            "Epoch [156/3000]: 100%|██████████| 9/9 [00:00<00:00, 84.91it/s, loss=3.93]\n"
          ]
        },
        {
          "output_type": "stream",
          "name": "stdout",
          "text": [
            "Epoch [156/3000]: Train loss: 4.5735, Valid loss: 3.9244\n",
            "Saving model with loss 3.924...\n"
          ]
        },
        {
          "output_type": "stream",
          "name": "stderr",
          "text": [
            "Epoch [157/3000]: 100%|██████████| 9/9 [00:00<00:00, 71.69it/s, loss=4.25]\n"
          ]
        },
        {
          "output_type": "stream",
          "name": "stdout",
          "text": [
            "Epoch [157/3000]: Train loss: 4.6392, Valid loss: 3.9679\n"
          ]
        },
        {
          "output_type": "stream",
          "name": "stderr",
          "text": [
            "Epoch [158/3000]: 100%|██████████| 9/9 [00:00<00:00, 81.69it/s, loss=4.62]\n"
          ]
        },
        {
          "output_type": "stream",
          "name": "stdout",
          "text": [
            "Epoch [158/3000]: Train loss: 4.2545, Valid loss: 3.8743\n",
            "Saving model with loss 3.874...\n"
          ]
        },
        {
          "output_type": "stream",
          "name": "stderr",
          "text": [
            "Epoch [159/3000]: 100%|██████████| 9/9 [00:00<00:00, 90.85it/s, loss=2.89]\n"
          ]
        },
        {
          "output_type": "stream",
          "name": "stdout",
          "text": [
            "Epoch [159/3000]: Train loss: 4.0276, Valid loss: 4.2865\n"
          ]
        },
        {
          "output_type": "stream",
          "name": "stderr",
          "text": [
            "Epoch [160/3000]: 100%|██████████| 9/9 [00:00<00:00, 98.12it/s, loss=3.18]\n"
          ]
        },
        {
          "output_type": "stream",
          "name": "stdout",
          "text": [
            "Epoch [160/3000]: Train loss: 4.6547, Valid loss: 4.5539\n"
          ]
        },
        {
          "output_type": "stream",
          "name": "stderr",
          "text": [
            "Epoch [161/3000]: 100%|██████████| 9/9 [00:00<00:00, 95.48it/s, loss=3.35]\n"
          ]
        },
        {
          "output_type": "stream",
          "name": "stdout",
          "text": [
            "Epoch [161/3000]: Train loss: 4.4779, Valid loss: 6.3560\n"
          ]
        },
        {
          "output_type": "stream",
          "name": "stderr",
          "text": [
            "Epoch [162/3000]: 100%|██████████| 9/9 [00:00<00:00, 91.76it/s, loss=4.54]\n"
          ]
        },
        {
          "output_type": "stream",
          "name": "stdout",
          "text": [
            "Epoch [162/3000]: Train loss: 5.1291, Valid loss: 3.7049\n",
            "Saving model with loss 3.705...\n"
          ]
        },
        {
          "output_type": "stream",
          "name": "stderr",
          "text": [
            "Epoch [163/3000]: 100%|██████████| 9/9 [00:00<00:00, 80.54it/s, loss=5.07]\n"
          ]
        },
        {
          "output_type": "stream",
          "name": "stdout",
          "text": [
            "Epoch [163/3000]: Train loss: 4.6142, Valid loss: 4.3763\n"
          ]
        },
        {
          "output_type": "stream",
          "name": "stderr",
          "text": [
            "Epoch [164/3000]: 100%|██████████| 9/9 [00:00<00:00, 86.74it/s, loss=3.62]\n"
          ]
        },
        {
          "output_type": "stream",
          "name": "stdout",
          "text": [
            "Epoch [164/3000]: Train loss: 4.1758, Valid loss: 3.8802\n"
          ]
        },
        {
          "output_type": "stream",
          "name": "stderr",
          "text": [
            "Epoch [165/3000]: 100%|██████████| 9/9 [00:00<00:00, 79.18it/s, loss=2.88]\n"
          ]
        },
        {
          "output_type": "stream",
          "name": "stdout",
          "text": [
            "Epoch [165/3000]: Train loss: 5.1900, Valid loss: 6.8408\n"
          ]
        },
        {
          "output_type": "stream",
          "name": "stderr",
          "text": [
            "Epoch [166/3000]: 100%|██████████| 9/9 [00:00<00:00, 81.46it/s, loss=6.1]\n"
          ]
        },
        {
          "output_type": "stream",
          "name": "stdout",
          "text": [
            "Epoch [166/3000]: Train loss: 4.9200, Valid loss: 4.0806\n"
          ]
        },
        {
          "output_type": "stream",
          "name": "stderr",
          "text": [
            "Epoch [167/3000]: 100%|██████████| 9/9 [00:00<00:00, 86.83it/s, loss=7.87]\n"
          ]
        },
        {
          "output_type": "stream",
          "name": "stdout",
          "text": [
            "Epoch [167/3000]: Train loss: 5.0129, Valid loss: 3.6053\n",
            "Saving model with loss 3.605...\n"
          ]
        },
        {
          "output_type": "stream",
          "name": "stderr",
          "text": [
            "Epoch [168/3000]: 100%|██████████| 9/9 [00:00<00:00, 82.21it/s, loss=3.12]\n"
          ]
        },
        {
          "output_type": "stream",
          "name": "stdout",
          "text": [
            "Epoch [168/3000]: Train loss: 5.2935, Valid loss: 6.0032\n"
          ]
        },
        {
          "output_type": "stream",
          "name": "stderr",
          "text": [
            "Epoch [169/3000]: 100%|██████████| 9/9 [00:00<00:00, 92.07it/s, loss=5.01]\n"
          ]
        },
        {
          "output_type": "stream",
          "name": "stdout",
          "text": [
            "Epoch [169/3000]: Train loss: 5.1583, Valid loss: 3.4403\n",
            "Saving model with loss 3.440...\n"
          ]
        },
        {
          "output_type": "stream",
          "name": "stderr",
          "text": [
            "Epoch [170/3000]: 100%|██████████| 9/9 [00:00<00:00, 98.96it/s, loss=3.82]\n"
          ]
        },
        {
          "output_type": "stream",
          "name": "stdout",
          "text": [
            "Epoch [170/3000]: Train loss: 5.0289, Valid loss: 4.1749\n"
          ]
        },
        {
          "output_type": "stream",
          "name": "stderr",
          "text": [
            "Epoch [171/3000]: 100%|██████████| 9/9 [00:00<00:00, 82.15it/s, loss=4.19]\n"
          ]
        },
        {
          "output_type": "stream",
          "name": "stdout",
          "text": [
            "Epoch [171/3000]: Train loss: 3.9826, Valid loss: 6.5205\n"
          ]
        },
        {
          "output_type": "stream",
          "name": "stderr",
          "text": [
            "Epoch [172/3000]: 100%|██████████| 9/9 [00:00<00:00, 94.09it/s, loss=4.74]\n"
          ]
        },
        {
          "output_type": "stream",
          "name": "stdout",
          "text": [
            "Epoch [172/3000]: Train loss: 4.3278, Valid loss: 4.3774\n"
          ]
        },
        {
          "output_type": "stream",
          "name": "stderr",
          "text": [
            "Epoch [173/3000]: 100%|██████████| 9/9 [00:00<00:00, 73.51it/s, loss=4.27]\n"
          ]
        },
        {
          "output_type": "stream",
          "name": "stdout",
          "text": [
            "Epoch [173/3000]: Train loss: 4.0427, Valid loss: 4.1318\n"
          ]
        },
        {
          "output_type": "stream",
          "name": "stderr",
          "text": [
            "Epoch [174/3000]: 100%|██████████| 9/9 [00:00<00:00, 83.77it/s, loss=4.55]\n"
          ]
        },
        {
          "output_type": "stream",
          "name": "stdout",
          "text": [
            "Epoch [174/3000]: Train loss: 4.4056, Valid loss: 4.5461\n"
          ]
        },
        {
          "output_type": "stream",
          "name": "stderr",
          "text": [
            "Epoch [175/3000]: 100%|██████████| 9/9 [00:00<00:00, 77.42it/s, loss=3.12]\n"
          ]
        },
        {
          "output_type": "stream",
          "name": "stdout",
          "text": [
            "Epoch [175/3000]: Train loss: 4.3563, Valid loss: 3.5622\n"
          ]
        },
        {
          "output_type": "stream",
          "name": "stderr",
          "text": [
            "Epoch [176/3000]: 100%|██████████| 9/9 [00:00<00:00, 90.96it/s, loss=3.22]\n"
          ]
        },
        {
          "output_type": "stream",
          "name": "stdout",
          "text": [
            "Epoch [176/3000]: Train loss: 3.9047, Valid loss: 3.8109\n"
          ]
        },
        {
          "output_type": "stream",
          "name": "stderr",
          "text": [
            "Epoch [177/3000]: 100%|██████████| 9/9 [00:00<00:00, 93.03it/s, loss=5.54]\n"
          ]
        },
        {
          "output_type": "stream",
          "name": "stdout",
          "text": [
            "Epoch [177/3000]: Train loss: 4.0716, Valid loss: 4.5546\n"
          ]
        },
        {
          "output_type": "stream",
          "name": "stderr",
          "text": [
            "Epoch [178/3000]: 100%|██████████| 9/9 [00:00<00:00, 69.47it/s, loss=3.66]\n"
          ]
        },
        {
          "output_type": "stream",
          "name": "stdout",
          "text": [
            "Epoch [178/3000]: Train loss: 3.8638, Valid loss: 3.9721\n"
          ]
        },
        {
          "output_type": "stream",
          "name": "stderr",
          "text": [
            "Epoch [179/3000]: 100%|██████████| 9/9 [00:00<00:00, 72.42it/s, loss=5.34]\n"
          ]
        },
        {
          "output_type": "stream",
          "name": "stdout",
          "text": [
            "Epoch [179/3000]: Train loss: 4.3446, Valid loss: 4.0761\n"
          ]
        },
        {
          "output_type": "stream",
          "name": "stderr",
          "text": [
            "Epoch [180/3000]: 100%|██████████| 9/9 [00:00<00:00, 85.13it/s, loss=4]\n"
          ]
        },
        {
          "output_type": "stream",
          "name": "stdout",
          "text": [
            "Epoch [180/3000]: Train loss: 4.1985, Valid loss: 6.3824\n"
          ]
        },
        {
          "output_type": "stream",
          "name": "stderr",
          "text": [
            "Epoch [181/3000]: 100%|██████████| 9/9 [00:00<00:00, 86.97it/s, loss=8.03]\n"
          ]
        },
        {
          "output_type": "stream",
          "name": "stdout",
          "text": [
            "Epoch [181/3000]: Train loss: 6.1550, Valid loss: 3.9348\n"
          ]
        },
        {
          "output_type": "stream",
          "name": "stderr",
          "text": [
            "Epoch [182/3000]: 100%|██████████| 9/9 [00:00<00:00, 88.01it/s, loss=8.93]\n"
          ]
        },
        {
          "output_type": "stream",
          "name": "stdout",
          "text": [
            "Epoch [182/3000]: Train loss: 5.9717, Valid loss: 3.9886\n"
          ]
        },
        {
          "output_type": "stream",
          "name": "stderr",
          "text": [
            "Epoch [183/3000]: 100%|██████████| 9/9 [00:00<00:00, 73.58it/s, loss=3.59]\n"
          ]
        },
        {
          "output_type": "stream",
          "name": "stdout",
          "text": [
            "Epoch [183/3000]: Train loss: 4.8822, Valid loss: 5.6737\n"
          ]
        },
        {
          "output_type": "stream",
          "name": "stderr",
          "text": [
            "Epoch [184/3000]: 100%|██████████| 9/9 [00:00<00:00, 94.58it/s, loss=4.4]\n"
          ]
        },
        {
          "output_type": "stream",
          "name": "stdout",
          "text": [
            "Epoch [184/3000]: Train loss: 3.9290, Valid loss: 5.9611\n"
          ]
        },
        {
          "output_type": "stream",
          "name": "stderr",
          "text": [
            "Epoch [185/3000]: 100%|██████████| 9/9 [00:00<00:00, 95.71it/s, loss=4.99]\n"
          ]
        },
        {
          "output_type": "stream",
          "name": "stdout",
          "text": [
            "Epoch [185/3000]: Train loss: 4.8483, Valid loss: 3.7475\n"
          ]
        },
        {
          "output_type": "stream",
          "name": "stderr",
          "text": [
            "Epoch [186/3000]: 100%|██████████| 9/9 [00:00<00:00, 86.85it/s, loss=3.5]\n"
          ]
        },
        {
          "output_type": "stream",
          "name": "stdout",
          "text": [
            "Epoch [186/3000]: Train loss: 4.4228, Valid loss: 4.6504\n"
          ]
        },
        {
          "output_type": "stream",
          "name": "stderr",
          "text": [
            "Epoch [187/3000]: 100%|██████████| 9/9 [00:00<00:00, 96.02it/s, loss=4.23]\n"
          ]
        },
        {
          "output_type": "stream",
          "name": "stdout",
          "text": [
            "Epoch [187/3000]: Train loss: 3.9548, Valid loss: 3.6585\n"
          ]
        },
        {
          "output_type": "stream",
          "name": "stderr",
          "text": [
            "Epoch [188/3000]: 100%|██████████| 9/9 [00:00<00:00, 94.94it/s, loss=4.3]\n"
          ]
        },
        {
          "output_type": "stream",
          "name": "stdout",
          "text": [
            "Epoch [188/3000]: Train loss: 3.8721, Valid loss: 3.9798\n"
          ]
        },
        {
          "output_type": "stream",
          "name": "stderr",
          "text": [
            "Epoch [189/3000]: 100%|██████████| 9/9 [00:00<00:00, 83.94it/s, loss=4.21]\n"
          ]
        },
        {
          "output_type": "stream",
          "name": "stdout",
          "text": [
            "Epoch [189/3000]: Train loss: 4.0171, Valid loss: 3.4131\n",
            "Saving model with loss 3.413...\n"
          ]
        },
        {
          "output_type": "stream",
          "name": "stderr",
          "text": [
            "Epoch [190/3000]: 100%|██████████| 9/9 [00:00<00:00, 83.30it/s, loss=3.32]\n"
          ]
        },
        {
          "output_type": "stream",
          "name": "stdout",
          "text": [
            "Epoch [190/3000]: Train loss: 3.6938, Valid loss: 4.1580\n"
          ]
        },
        {
          "output_type": "stream",
          "name": "stderr",
          "text": [
            "Epoch [191/3000]: 100%|██████████| 9/9 [00:00<00:00, 90.11it/s, loss=4.97]\n"
          ]
        },
        {
          "output_type": "stream",
          "name": "stdout",
          "text": [
            "Epoch [191/3000]: Train loss: 3.9996, Valid loss: 3.4940\n"
          ]
        },
        {
          "output_type": "stream",
          "name": "stderr",
          "text": [
            "Epoch [192/3000]: 100%|██████████| 9/9 [00:00<00:00, 79.16it/s, loss=3.95]\n"
          ]
        },
        {
          "output_type": "stream",
          "name": "stdout",
          "text": [
            "Epoch [192/3000]: Train loss: 4.1949, Valid loss: 4.6346\n"
          ]
        },
        {
          "output_type": "stream",
          "name": "stderr",
          "text": [
            "Epoch [193/3000]: 100%|██████████| 9/9 [00:00<00:00, 91.30it/s, loss=3.52]\n"
          ]
        },
        {
          "output_type": "stream",
          "name": "stdout",
          "text": [
            "Epoch [193/3000]: Train loss: 4.9444, Valid loss: 8.2765\n"
          ]
        },
        {
          "output_type": "stream",
          "name": "stderr",
          "text": [
            "Epoch [194/3000]: 100%|██████████| 9/9 [00:00<00:00, 73.44it/s, loss=5.08]\n"
          ]
        },
        {
          "output_type": "stream",
          "name": "stdout",
          "text": [
            "Epoch [194/3000]: Train loss: 5.9377, Valid loss: 7.4225\n"
          ]
        },
        {
          "output_type": "stream",
          "name": "stderr",
          "text": [
            "Epoch [195/3000]: 100%|██████████| 9/9 [00:00<00:00, 76.46it/s, loss=7.07]\n"
          ]
        },
        {
          "output_type": "stream",
          "name": "stdout",
          "text": [
            "Epoch [195/3000]: Train loss: 6.5531, Valid loss: 7.2571\n"
          ]
        },
        {
          "output_type": "stream",
          "name": "stderr",
          "text": [
            "Epoch [196/3000]: 100%|██████████| 9/9 [00:00<00:00, 79.62it/s, loss=4.72]\n"
          ]
        },
        {
          "output_type": "stream",
          "name": "stdout",
          "text": [
            "Epoch [196/3000]: Train loss: 6.5491, Valid loss: 7.2811\n"
          ]
        },
        {
          "output_type": "stream",
          "name": "stderr",
          "text": [
            "Epoch [197/3000]: 100%|██████████| 9/9 [00:00<00:00, 92.34it/s, loss=11.9]\n"
          ]
        },
        {
          "output_type": "stream",
          "name": "stdout",
          "text": [
            "Epoch [197/3000]: Train loss: 8.1468, Valid loss: 8.3875\n"
          ]
        },
        {
          "output_type": "stream",
          "name": "stderr",
          "text": [
            "Epoch [198/3000]: 100%|██████████| 9/9 [00:00<00:00, 84.00it/s, loss=6.64]\n"
          ]
        },
        {
          "output_type": "stream",
          "name": "stdout",
          "text": [
            "Epoch [198/3000]: Train loss: 6.5703, Valid loss: 7.1935\n"
          ]
        },
        {
          "output_type": "stream",
          "name": "stderr",
          "text": [
            "Epoch [199/3000]: 100%|██████████| 9/9 [00:00<00:00, 81.93it/s, loss=4.34]\n"
          ]
        },
        {
          "output_type": "stream",
          "name": "stdout",
          "text": [
            "Epoch [199/3000]: Train loss: 4.4460, Valid loss: 3.4754\n"
          ]
        },
        {
          "output_type": "stream",
          "name": "stderr",
          "text": [
            "Epoch [200/3000]: 100%|██████████| 9/9 [00:00<00:00, 81.38it/s, loss=3.07]\n"
          ]
        },
        {
          "output_type": "stream",
          "name": "stdout",
          "text": [
            "Epoch [200/3000]: Train loss: 3.6791, Valid loss: 3.6701\n"
          ]
        },
        {
          "output_type": "stream",
          "name": "stderr",
          "text": [
            "Epoch [201/3000]: 100%|██████████| 9/9 [00:00<00:00, 90.69it/s, loss=3.18]\n"
          ]
        },
        {
          "output_type": "stream",
          "name": "stdout",
          "text": [
            "Epoch [201/3000]: Train loss: 3.7644, Valid loss: 3.9912\n"
          ]
        },
        {
          "output_type": "stream",
          "name": "stderr",
          "text": [
            "Epoch [202/3000]: 100%|██████████| 9/9 [00:00<00:00, 85.69it/s, loss=5.12]\n"
          ]
        },
        {
          "output_type": "stream",
          "name": "stdout",
          "text": [
            "Epoch [202/3000]: Train loss: 3.9099, Valid loss: 4.2044\n"
          ]
        },
        {
          "output_type": "stream",
          "name": "stderr",
          "text": [
            "Epoch [203/3000]: 100%|██████████| 9/9 [00:00<00:00, 79.70it/s, loss=4.48]\n"
          ]
        },
        {
          "output_type": "stream",
          "name": "stdout",
          "text": [
            "Epoch [203/3000]: Train loss: 3.6676, Valid loss: 5.5986\n"
          ]
        },
        {
          "output_type": "stream",
          "name": "stderr",
          "text": [
            "Epoch [204/3000]: 100%|██████████| 9/9 [00:00<00:00, 82.10it/s, loss=3.33]\n"
          ]
        },
        {
          "output_type": "stream",
          "name": "stdout",
          "text": [
            "Epoch [204/3000]: Train loss: 4.9000, Valid loss: 3.5194\n"
          ]
        },
        {
          "output_type": "stream",
          "name": "stderr",
          "text": [
            "Epoch [205/3000]: 100%|██████████| 9/9 [00:00<00:00, 93.27it/s, loss=4.57]\n"
          ]
        },
        {
          "output_type": "stream",
          "name": "stdout",
          "text": [
            "Epoch [205/3000]: Train loss: 3.6632, Valid loss: 3.3738\n",
            "Saving model with loss 3.374...\n"
          ]
        },
        {
          "output_type": "stream",
          "name": "stderr",
          "text": [
            "Epoch [206/3000]: 100%|██████████| 9/9 [00:00<00:00, 90.04it/s, loss=2.99]\n"
          ]
        },
        {
          "output_type": "stream",
          "name": "stdout",
          "text": [
            "Epoch [206/3000]: Train loss: 3.5304, Valid loss: 5.9122\n"
          ]
        },
        {
          "output_type": "stream",
          "name": "stderr",
          "text": [
            "Epoch [207/3000]: 100%|██████████| 9/9 [00:00<00:00, 85.52it/s, loss=5.27]\n"
          ]
        },
        {
          "output_type": "stream",
          "name": "stdout",
          "text": [
            "Epoch [207/3000]: Train loss: 5.4523, Valid loss: 3.5001\n"
          ]
        },
        {
          "output_type": "stream",
          "name": "stderr",
          "text": [
            "Epoch [208/3000]: 100%|██████████| 9/9 [00:00<00:00, 91.20it/s, loss=4.65]\n"
          ]
        },
        {
          "output_type": "stream",
          "name": "stdout",
          "text": [
            "Epoch [208/3000]: Train loss: 4.6917, Valid loss: 4.8013\n"
          ]
        },
        {
          "output_type": "stream",
          "name": "stderr",
          "text": [
            "Epoch [209/3000]: 100%|██████████| 9/9 [00:00<00:00, 91.44it/s, loss=4.5]\n"
          ]
        },
        {
          "output_type": "stream",
          "name": "stdout",
          "text": [
            "Epoch [209/3000]: Train loss: 4.3004, Valid loss: 3.5578\n"
          ]
        },
        {
          "output_type": "stream",
          "name": "stderr",
          "text": [
            "Epoch [210/3000]: 100%|██████████| 9/9 [00:00<00:00, 91.66it/s, loss=3.25]\n"
          ]
        },
        {
          "output_type": "stream",
          "name": "stdout",
          "text": [
            "Epoch [210/3000]: Train loss: 3.5338, Valid loss: 3.5734\n"
          ]
        },
        {
          "output_type": "stream",
          "name": "stderr",
          "text": [
            "Epoch [211/3000]: 100%|██████████| 9/9 [00:00<00:00, 98.31it/s, loss=4.15]\n"
          ]
        },
        {
          "output_type": "stream",
          "name": "stdout",
          "text": [
            "Epoch [211/3000]: Train loss: 3.7495, Valid loss: 3.3519\n",
            "Saving model with loss 3.352...\n"
          ]
        },
        {
          "output_type": "stream",
          "name": "stderr",
          "text": [
            "Epoch [212/3000]: 100%|██████████| 9/9 [00:00<00:00, 95.66it/s, loss=3.31]\n"
          ]
        },
        {
          "output_type": "stream",
          "name": "stdout",
          "text": [
            "Epoch [212/3000]: Train loss: 3.6416, Valid loss: 4.0881\n"
          ]
        },
        {
          "output_type": "stream",
          "name": "stderr",
          "text": [
            "Epoch [213/3000]: 100%|██████████| 9/9 [00:00<00:00, 100.45it/s, loss=3.57]\n"
          ]
        },
        {
          "output_type": "stream",
          "name": "stdout",
          "text": [
            "Epoch [213/3000]: Train loss: 3.5650, Valid loss: 3.7518\n"
          ]
        },
        {
          "output_type": "stream",
          "name": "stderr",
          "text": [
            "Epoch [214/3000]: 100%|██████████| 9/9 [00:00<00:00, 86.32it/s, loss=3.33]\n"
          ]
        },
        {
          "output_type": "stream",
          "name": "stdout",
          "text": [
            "Epoch [214/3000]: Train loss: 3.4926, Valid loss: 4.2678\n"
          ]
        },
        {
          "output_type": "stream",
          "name": "stderr",
          "text": [
            "Epoch [215/3000]: 100%|██████████| 9/9 [00:00<00:00, 39.99it/s, loss=4.72]\n"
          ]
        },
        {
          "output_type": "stream",
          "name": "stdout",
          "text": [
            "Epoch [215/3000]: Train loss: 3.8258, Valid loss: 4.2703\n"
          ]
        },
        {
          "output_type": "stream",
          "name": "stderr",
          "text": [
            "Epoch [216/3000]: 100%|██████████| 9/9 [00:00<00:00, 47.28it/s, loss=4.16]\n"
          ]
        },
        {
          "output_type": "stream",
          "name": "stdout",
          "text": [
            "Epoch [216/3000]: Train loss: 3.6890, Valid loss: 4.3295\n"
          ]
        },
        {
          "output_type": "stream",
          "name": "stderr",
          "text": [
            "Epoch [217/3000]: 100%|██████████| 9/9 [00:00<00:00, 47.02it/s, loss=4.66]\n"
          ]
        },
        {
          "output_type": "stream",
          "name": "stdout",
          "text": [
            "Epoch [217/3000]: Train loss: 3.8726, Valid loss: 3.7328\n"
          ]
        },
        {
          "output_type": "stream",
          "name": "stderr",
          "text": [
            "Epoch [218/3000]: 100%|██████████| 9/9 [00:00<00:00, 73.71it/s, loss=5.11]\n"
          ]
        },
        {
          "output_type": "stream",
          "name": "stdout",
          "text": [
            "Epoch [218/3000]: Train loss: 4.1992, Valid loss: 3.3399\n",
            "Saving model with loss 3.340...\n"
          ]
        },
        {
          "output_type": "stream",
          "name": "stderr",
          "text": [
            "Epoch [219/3000]: 100%|██████████| 9/9 [00:00<00:00, 83.00it/s, loss=3.28]\n"
          ]
        },
        {
          "output_type": "stream",
          "name": "stdout",
          "text": [
            "Epoch [219/3000]: Train loss: 4.4095, Valid loss: 5.0709\n"
          ]
        },
        {
          "output_type": "stream",
          "name": "stderr",
          "text": [
            "Epoch [220/3000]: 100%|██████████| 9/9 [00:00<00:00, 94.03it/s, loss=3.34]\n"
          ]
        },
        {
          "output_type": "stream",
          "name": "stdout",
          "text": [
            "Epoch [220/3000]: Train loss: 4.1126, Valid loss: 3.9341\n"
          ]
        },
        {
          "output_type": "stream",
          "name": "stderr",
          "text": [
            "Epoch [221/3000]: 100%|██████████| 9/9 [00:00<00:00, 94.06it/s, loss=2.68]\n"
          ]
        },
        {
          "output_type": "stream",
          "name": "stdout",
          "text": [
            "Epoch [221/3000]: Train loss: 3.4783, Valid loss: 3.4383\n"
          ]
        },
        {
          "output_type": "stream",
          "name": "stderr",
          "text": [
            "Epoch [222/3000]: 100%|██████████| 9/9 [00:00<00:00, 79.55it/s, loss=2.19]\n"
          ]
        },
        {
          "output_type": "stream",
          "name": "stdout",
          "text": [
            "Epoch [222/3000]: Train loss: 3.5582, Valid loss: 3.0444\n",
            "Saving model with loss 3.044...\n"
          ]
        },
        {
          "output_type": "stream",
          "name": "stderr",
          "text": [
            "Epoch [223/3000]: 100%|██████████| 9/9 [00:00<00:00, 83.34it/s, loss=3.48]\n"
          ]
        },
        {
          "output_type": "stream",
          "name": "stdout",
          "text": [
            "Epoch [223/3000]: Train loss: 3.4898, Valid loss: 3.8371\n"
          ]
        },
        {
          "output_type": "stream",
          "name": "stderr",
          "text": [
            "Epoch [224/3000]: 100%|██████████| 9/9 [00:00<00:00, 79.19it/s, loss=3.41]\n"
          ]
        },
        {
          "output_type": "stream",
          "name": "stdout",
          "text": [
            "Epoch [224/3000]: Train loss: 4.0799, Valid loss: 4.1598\n"
          ]
        },
        {
          "output_type": "stream",
          "name": "stderr",
          "text": [
            "Epoch [225/3000]: 100%|██████████| 9/9 [00:00<00:00, 91.91it/s, loss=4.34]\n"
          ]
        },
        {
          "output_type": "stream",
          "name": "stdout",
          "text": [
            "Epoch [225/3000]: Train loss: 3.6707, Valid loss: 4.0218\n"
          ]
        },
        {
          "output_type": "stream",
          "name": "stderr",
          "text": [
            "Epoch [226/3000]: 100%|██████████| 9/9 [00:00<00:00, 96.22it/s, loss=4.33]\n"
          ]
        },
        {
          "output_type": "stream",
          "name": "stdout",
          "text": [
            "Epoch [226/3000]: Train loss: 4.8209, Valid loss: 6.3212\n"
          ]
        },
        {
          "output_type": "stream",
          "name": "stderr",
          "text": [
            "Epoch [227/3000]: 100%|██████████| 9/9 [00:00<00:00, 100.42it/s, loss=4.58]\n"
          ]
        },
        {
          "output_type": "stream",
          "name": "stdout",
          "text": [
            "Epoch [227/3000]: Train loss: 5.1429, Valid loss: 2.9458\n",
            "Saving model with loss 2.946...\n"
          ]
        },
        {
          "output_type": "stream",
          "name": "stderr",
          "text": [
            "Epoch [228/3000]: 100%|██████████| 9/9 [00:00<00:00, 86.04it/s, loss=7.03]\n"
          ]
        },
        {
          "output_type": "stream",
          "name": "stdout",
          "text": [
            "Epoch [228/3000]: Train loss: 4.6438, Valid loss: 5.4586\n"
          ]
        },
        {
          "output_type": "stream",
          "name": "stderr",
          "text": [
            "Epoch [229/3000]: 100%|██████████| 9/9 [00:00<00:00, 93.50it/s, loss=3.35]\n"
          ]
        },
        {
          "output_type": "stream",
          "name": "stdout",
          "text": [
            "Epoch [229/3000]: Train loss: 4.6738, Valid loss: 5.0494\n"
          ]
        },
        {
          "output_type": "stream",
          "name": "stderr",
          "text": [
            "Epoch [230/3000]: 100%|██████████| 9/9 [00:00<00:00, 60.22it/s, loss=3.38]\n"
          ]
        },
        {
          "output_type": "stream",
          "name": "stdout",
          "text": [
            "Epoch [230/3000]: Train loss: 4.0212, Valid loss: 4.3414\n"
          ]
        },
        {
          "output_type": "stream",
          "name": "stderr",
          "text": [
            "Epoch [231/3000]: 100%|██████████| 9/9 [00:00<00:00, 39.97it/s, loss=3.61]\n"
          ]
        },
        {
          "output_type": "stream",
          "name": "stdout",
          "text": [
            "Epoch [231/3000]: Train loss: 4.1219, Valid loss: 3.3806\n"
          ]
        },
        {
          "output_type": "stream",
          "name": "stderr",
          "text": [
            "Epoch [232/3000]: 100%|██████████| 9/9 [00:00<00:00, 54.45it/s, loss=4.19]\n"
          ]
        },
        {
          "output_type": "stream",
          "name": "stdout",
          "text": [
            "Epoch [232/3000]: Train loss: 4.5933, Valid loss: 4.8276\n"
          ]
        },
        {
          "output_type": "stream",
          "name": "stderr",
          "text": [
            "Epoch [233/3000]: 100%|██████████| 9/9 [00:00<00:00, 49.07it/s, loss=3.16]\n"
          ]
        },
        {
          "output_type": "stream",
          "name": "stdout",
          "text": [
            "Epoch [233/3000]: Train loss: 3.7843, Valid loss: 2.9574\n"
          ]
        },
        {
          "output_type": "stream",
          "name": "stderr",
          "text": [
            "Epoch [234/3000]: 100%|██████████| 9/9 [00:00<00:00, 56.39it/s, loss=4.56]\n"
          ]
        },
        {
          "output_type": "stream",
          "name": "stdout",
          "text": [
            "Epoch [234/3000]: Train loss: 3.4174, Valid loss: 3.9382\n"
          ]
        },
        {
          "output_type": "stream",
          "name": "stderr",
          "text": [
            "Epoch [235/3000]: 100%|██████████| 9/9 [00:00<00:00, 46.62it/s, loss=3.92]\n"
          ]
        },
        {
          "output_type": "stream",
          "name": "stdout",
          "text": [
            "Epoch [235/3000]: Train loss: 4.3026, Valid loss: 6.3384\n"
          ]
        },
        {
          "output_type": "stream",
          "name": "stderr",
          "text": [
            "Epoch [236/3000]: 100%|██████████| 9/9 [00:00<00:00, 52.46it/s, loss=4.91]\n"
          ]
        },
        {
          "output_type": "stream",
          "name": "stdout",
          "text": [
            "Epoch [236/3000]: Train loss: 4.3730, Valid loss: 4.6402\n"
          ]
        },
        {
          "output_type": "stream",
          "name": "stderr",
          "text": [
            "Epoch [237/3000]: 100%|██████████| 9/9 [00:00<00:00, 63.20it/s, loss=3.44]\n"
          ]
        },
        {
          "output_type": "stream",
          "name": "stdout",
          "text": [
            "Epoch [237/3000]: Train loss: 3.6237, Valid loss: 2.8956\n",
            "Saving model with loss 2.896...\n"
          ]
        },
        {
          "output_type": "stream",
          "name": "stderr",
          "text": [
            "Epoch [238/3000]: 100%|██████████| 9/9 [00:00<00:00, 57.56it/s, loss=4.85]\n"
          ]
        },
        {
          "output_type": "stream",
          "name": "stdout",
          "text": [
            "Epoch [238/3000]: Train loss: 3.8093, Valid loss: 4.0464\n"
          ]
        },
        {
          "output_type": "stream",
          "name": "stderr",
          "text": [
            "Epoch [239/3000]: 100%|██████████| 9/9 [00:00<00:00, 42.56it/s, loss=4.65]\n"
          ]
        },
        {
          "output_type": "stream",
          "name": "stdout",
          "text": [
            "Epoch [239/3000]: Train loss: 4.1029, Valid loss: 3.7426\n"
          ]
        },
        {
          "output_type": "stream",
          "name": "stderr",
          "text": [
            "Epoch [240/3000]: 100%|██████████| 9/9 [00:00<00:00, 53.41it/s, loss=3.86]\n"
          ]
        },
        {
          "output_type": "stream",
          "name": "stdout",
          "text": [
            "Epoch [240/3000]: Train loss: 5.0146, Valid loss: 9.4341\n"
          ]
        },
        {
          "output_type": "stream",
          "name": "stderr",
          "text": [
            "Epoch [241/3000]: 100%|██████████| 9/9 [00:00<00:00, 42.03it/s, loss=3.19]\n"
          ]
        },
        {
          "output_type": "stream",
          "name": "stdout",
          "text": [
            "Epoch [241/3000]: Train loss: 4.9201, Valid loss: 3.0731\n"
          ]
        },
        {
          "output_type": "stream",
          "name": "stderr",
          "text": [
            "Epoch [242/3000]: 100%|██████████| 9/9 [00:00<00:00, 61.58it/s, loss=3.29]\n"
          ]
        },
        {
          "output_type": "stream",
          "name": "stdout",
          "text": [
            "Epoch [242/3000]: Train loss: 3.4346, Valid loss: 3.6923\n"
          ]
        },
        {
          "output_type": "stream",
          "name": "stderr",
          "text": [
            "Epoch [243/3000]: 100%|██████████| 9/9 [00:00<00:00, 45.81it/s, loss=3.76]\n"
          ]
        },
        {
          "output_type": "stream",
          "name": "stdout",
          "text": [
            "Epoch [243/3000]: Train loss: 3.5190, Valid loss: 3.2713\n"
          ]
        },
        {
          "output_type": "stream",
          "name": "stderr",
          "text": [
            "Epoch [244/3000]: 100%|██████████| 9/9 [00:00<00:00, 37.23it/s, loss=3.56]\n"
          ]
        },
        {
          "output_type": "stream",
          "name": "stdout",
          "text": [
            "Epoch [244/3000]: Train loss: 3.3508, Valid loss: 3.1727\n"
          ]
        },
        {
          "output_type": "stream",
          "name": "stderr",
          "text": [
            "Epoch [245/3000]: 100%|██████████| 9/9 [00:00<00:00, 48.68it/s, loss=3.9]\n"
          ]
        },
        {
          "output_type": "stream",
          "name": "stdout",
          "text": [
            "Epoch [245/3000]: Train loss: 3.3315, Valid loss: 3.6895\n"
          ]
        },
        {
          "output_type": "stream",
          "name": "stderr",
          "text": [
            "Epoch [246/3000]: 100%|██████████| 9/9 [00:00<00:00, 53.66it/s, loss=4.35]\n"
          ]
        },
        {
          "output_type": "stream",
          "name": "stdout",
          "text": [
            "Epoch [246/3000]: Train loss: 3.3921, Valid loss: 4.2456\n"
          ]
        },
        {
          "output_type": "stream",
          "name": "stderr",
          "text": [
            "Epoch [247/3000]: 100%|██████████| 9/9 [00:00<00:00, 40.07it/s, loss=3.86]\n"
          ]
        },
        {
          "output_type": "stream",
          "name": "stdout",
          "text": [
            "Epoch [247/3000]: Train loss: 4.2760, Valid loss: 6.1583\n"
          ]
        },
        {
          "output_type": "stream",
          "name": "stderr",
          "text": [
            "Epoch [248/3000]: 100%|██████████| 9/9 [00:00<00:00, 56.22it/s, loss=4.39]\n"
          ]
        },
        {
          "output_type": "stream",
          "name": "stdout",
          "text": [
            "Epoch [248/3000]: Train loss: 4.9837, Valid loss: 3.3405\n"
          ]
        },
        {
          "output_type": "stream",
          "name": "stderr",
          "text": [
            "Epoch [249/3000]: 100%|██████████| 9/9 [00:00<00:00, 60.56it/s, loss=3.58]\n"
          ]
        },
        {
          "output_type": "stream",
          "name": "stdout",
          "text": [
            "Epoch [249/3000]: Train loss: 4.7788, Valid loss: 4.9403\n"
          ]
        },
        {
          "output_type": "stream",
          "name": "stderr",
          "text": [
            "Epoch [250/3000]: 100%|██████████| 9/9 [00:00<00:00, 65.86it/s, loss=3.2]\n"
          ]
        },
        {
          "output_type": "stream",
          "name": "stdout",
          "text": [
            "Epoch [250/3000]: Train loss: 3.6472, Valid loss: 3.8557\n"
          ]
        },
        {
          "output_type": "stream",
          "name": "stderr",
          "text": [
            "Epoch [251/3000]: 100%|██████████| 9/9 [00:00<00:00, 61.47it/s, loss=3.2]\n"
          ]
        },
        {
          "output_type": "stream",
          "name": "stdout",
          "text": [
            "Epoch [251/3000]: Train loss: 3.3906, Valid loss: 3.0172\n"
          ]
        },
        {
          "output_type": "stream",
          "name": "stderr",
          "text": [
            "Epoch [252/3000]: 100%|██████████| 9/9 [00:00<00:00, 48.02it/s, loss=2.7]\n"
          ]
        },
        {
          "output_type": "stream",
          "name": "stdout",
          "text": [
            "Epoch [252/3000]: Train loss: 3.2192, Valid loss: 3.5355\n"
          ]
        },
        {
          "output_type": "stream",
          "name": "stderr",
          "text": [
            "Epoch [253/3000]: 100%|██████████| 9/9 [00:00<00:00, 62.48it/s, loss=3.35]\n"
          ]
        },
        {
          "output_type": "stream",
          "name": "stdout",
          "text": [
            "Epoch [253/3000]: Train loss: 3.4683, Valid loss: 4.1498\n"
          ]
        },
        {
          "output_type": "stream",
          "name": "stderr",
          "text": [
            "Epoch [254/3000]: 100%|██████████| 9/9 [00:00<00:00, 86.70it/s, loss=3.32]\n"
          ]
        },
        {
          "output_type": "stream",
          "name": "stdout",
          "text": [
            "Epoch [254/3000]: Train loss: 3.6597, Valid loss: 3.3394\n"
          ]
        },
        {
          "output_type": "stream",
          "name": "stderr",
          "text": [
            "Epoch [255/3000]: 100%|██████████| 9/9 [00:00<00:00, 96.74it/s, loss=3.83]\n"
          ]
        },
        {
          "output_type": "stream",
          "name": "stdout",
          "text": [
            "Epoch [255/3000]: Train loss: 3.3103, Valid loss: 3.5301\n"
          ]
        },
        {
          "output_type": "stream",
          "name": "stderr",
          "text": [
            "Epoch [256/3000]: 100%|██████████| 9/9 [00:00<00:00, 94.83it/s, loss=3.18]\n"
          ]
        },
        {
          "output_type": "stream",
          "name": "stdout",
          "text": [
            "Epoch [256/3000]: Train loss: 3.4361, Valid loss: 3.0123\n"
          ]
        },
        {
          "output_type": "stream",
          "name": "stderr",
          "text": [
            "Epoch [257/3000]: 100%|██████████| 9/9 [00:00<00:00, 99.95it/s, loss=3.67]\n"
          ]
        },
        {
          "output_type": "stream",
          "name": "stdout",
          "text": [
            "Epoch [257/3000]: Train loss: 3.4800, Valid loss: 3.8175\n"
          ]
        },
        {
          "output_type": "stream",
          "name": "stderr",
          "text": [
            "Epoch [258/3000]: 100%|██████████| 9/9 [00:00<00:00, 94.40it/s, loss=3.33]\n"
          ]
        },
        {
          "output_type": "stream",
          "name": "stdout",
          "text": [
            "Epoch [258/3000]: Train loss: 3.8395, Valid loss: 2.5276\n",
            "Saving model with loss 2.528...\n"
          ]
        },
        {
          "output_type": "stream",
          "name": "stderr",
          "text": [
            "Epoch [259/3000]: 100%|██████████| 9/9 [00:00<00:00, 97.10it/s, loss=3.74]\n"
          ]
        },
        {
          "output_type": "stream",
          "name": "stdout",
          "text": [
            "Epoch [259/3000]: Train loss: 4.3030, Valid loss: 3.0591\n"
          ]
        },
        {
          "output_type": "stream",
          "name": "stderr",
          "text": [
            "Epoch [260/3000]: 100%|██████████| 9/9 [00:00<00:00, 99.55it/s, loss=3.34]\n"
          ]
        },
        {
          "output_type": "stream",
          "name": "stdout",
          "text": [
            "Epoch [260/3000]: Train loss: 3.4950, Valid loss: 4.2664\n"
          ]
        },
        {
          "output_type": "stream",
          "name": "stderr",
          "text": [
            "Epoch [261/3000]: 100%|██████████| 9/9 [00:00<00:00, 96.29it/s, loss=3.49]\n"
          ]
        },
        {
          "output_type": "stream",
          "name": "stdout",
          "text": [
            "Epoch [261/3000]: Train loss: 3.9587, Valid loss: 3.4317\n"
          ]
        },
        {
          "output_type": "stream",
          "name": "stderr",
          "text": [
            "Epoch [262/3000]: 100%|██████████| 9/9 [00:00<00:00, 85.93it/s, loss=2.53]\n"
          ]
        },
        {
          "output_type": "stream",
          "name": "stdout",
          "text": [
            "Epoch [262/3000]: Train loss: 3.2323, Valid loss: 4.4916\n"
          ]
        },
        {
          "output_type": "stream",
          "name": "stderr",
          "text": [
            "Epoch [263/3000]: 100%|██████████| 9/9 [00:00<00:00, 91.62it/s, loss=2.82]\n"
          ]
        },
        {
          "output_type": "stream",
          "name": "stdout",
          "text": [
            "Epoch [263/3000]: Train loss: 3.4952, Valid loss: 3.2968\n"
          ]
        },
        {
          "output_type": "stream",
          "name": "stderr",
          "text": [
            "Epoch [264/3000]: 100%|██████████| 9/9 [00:00<00:00, 93.32it/s, loss=3.02]\n"
          ]
        },
        {
          "output_type": "stream",
          "name": "stdout",
          "text": [
            "Epoch [264/3000]: Train loss: 3.3283, Valid loss: 3.4397\n"
          ]
        },
        {
          "output_type": "stream",
          "name": "stderr",
          "text": [
            "Epoch [265/3000]: 100%|██████████| 9/9 [00:00<00:00, 95.29it/s, loss=3.75]\n"
          ]
        },
        {
          "output_type": "stream",
          "name": "stdout",
          "text": [
            "Epoch [265/3000]: Train loss: 4.5021, Valid loss: 4.9784\n"
          ]
        },
        {
          "output_type": "stream",
          "name": "stderr",
          "text": [
            "Epoch [266/3000]: 100%|██████████| 9/9 [00:00<00:00, 96.83it/s, loss=2.32]\n"
          ]
        },
        {
          "output_type": "stream",
          "name": "stdout",
          "text": [
            "Epoch [266/3000]: Train loss: 3.7076, Valid loss: 3.7710\n"
          ]
        },
        {
          "output_type": "stream",
          "name": "stderr",
          "text": [
            "Epoch [267/3000]: 100%|██████████| 9/9 [00:00<00:00, 100.47it/s, loss=3.21]\n"
          ]
        },
        {
          "output_type": "stream",
          "name": "stdout",
          "text": [
            "Epoch [267/3000]: Train loss: 3.4497, Valid loss: 2.8816\n"
          ]
        },
        {
          "output_type": "stream",
          "name": "stderr",
          "text": [
            "Epoch [268/3000]: 100%|██████████| 9/9 [00:00<00:00, 78.26it/s, loss=5.1]\n"
          ]
        },
        {
          "output_type": "stream",
          "name": "stdout",
          "text": [
            "Epoch [268/3000]: Train loss: 3.5112, Valid loss: 8.4790\n"
          ]
        },
        {
          "output_type": "stream",
          "name": "stderr",
          "text": [
            "Epoch [269/3000]: 100%|██████████| 9/9 [00:00<00:00, 83.92it/s, loss=5.33]\n"
          ]
        },
        {
          "output_type": "stream",
          "name": "stdout",
          "text": [
            "Epoch [269/3000]: Train loss: 4.1863, Valid loss: 3.1717\n"
          ]
        },
        {
          "output_type": "stream",
          "name": "stderr",
          "text": [
            "Epoch [270/3000]: 100%|██████████| 9/9 [00:00<00:00, 72.99it/s, loss=5.99]\n"
          ]
        },
        {
          "output_type": "stream",
          "name": "stdout",
          "text": [
            "Epoch [270/3000]: Train loss: 4.0492, Valid loss: 4.3236\n"
          ]
        },
        {
          "output_type": "stream",
          "name": "stderr",
          "text": [
            "Epoch [271/3000]: 100%|██████████| 9/9 [00:00<00:00, 73.42it/s, loss=3.35]\n"
          ]
        },
        {
          "output_type": "stream",
          "name": "stdout",
          "text": [
            "Epoch [271/3000]: Train loss: 3.7381, Valid loss: 4.1159\n"
          ]
        },
        {
          "output_type": "stream",
          "name": "stderr",
          "text": [
            "Epoch [272/3000]: 100%|██████████| 9/9 [00:00<00:00, 83.83it/s, loss=5.1]\n"
          ]
        },
        {
          "output_type": "stream",
          "name": "stdout",
          "text": [
            "Epoch [272/3000]: Train loss: 3.7223, Valid loss: 3.6569\n"
          ]
        },
        {
          "output_type": "stream",
          "name": "stderr",
          "text": [
            "Epoch [273/3000]: 100%|██████████| 9/9 [00:00<00:00, 50.84it/s, loss=2.85]\n"
          ]
        },
        {
          "output_type": "stream",
          "name": "stdout",
          "text": [
            "Epoch [273/3000]: Train loss: 3.1746, Valid loss: 2.7714\n"
          ]
        },
        {
          "output_type": "stream",
          "name": "stderr",
          "text": [
            "Epoch [274/3000]: 100%|██████████| 9/9 [00:00<00:00, 42.52it/s, loss=3.2]\n"
          ]
        },
        {
          "output_type": "stream",
          "name": "stdout",
          "text": [
            "Epoch [274/3000]: Train loss: 3.4894, Valid loss: 2.7665\n"
          ]
        },
        {
          "output_type": "stream",
          "name": "stderr",
          "text": [
            "Epoch [275/3000]: 100%|██████████| 9/9 [00:00<00:00, 46.02it/s, loss=3.38]\n"
          ]
        },
        {
          "output_type": "stream",
          "name": "stdout",
          "text": [
            "Epoch [275/3000]: Train loss: 3.2404, Valid loss: 3.3999\n"
          ]
        },
        {
          "output_type": "stream",
          "name": "stderr",
          "text": [
            "Epoch [276/3000]: 100%|██████████| 9/9 [00:00<00:00, 40.83it/s, loss=4.26]\n"
          ]
        },
        {
          "output_type": "stream",
          "name": "stdout",
          "text": [
            "Epoch [276/3000]: Train loss: 4.5767, Valid loss: 3.9863\n"
          ]
        },
        {
          "output_type": "stream",
          "name": "stderr",
          "text": [
            "Epoch [277/3000]: 100%|██████████| 9/9 [00:00<00:00, 42.10it/s, loss=3.15]\n"
          ]
        },
        {
          "output_type": "stream",
          "name": "stdout",
          "text": [
            "Epoch [277/3000]: Train loss: 3.4395, Valid loss: 3.6469\n"
          ]
        },
        {
          "output_type": "stream",
          "name": "stderr",
          "text": [
            "Epoch [278/3000]: 100%|██████████| 9/9 [00:00<00:00, 58.94it/s, loss=2.84]\n"
          ]
        },
        {
          "output_type": "stream",
          "name": "stdout",
          "text": [
            "Epoch [278/3000]: Train loss: 3.5752, Valid loss: 2.9786\n"
          ]
        },
        {
          "output_type": "stream",
          "name": "stderr",
          "text": [
            "Epoch [279/3000]: 100%|██████████| 9/9 [00:00<00:00, 57.29it/s, loss=4.84]\n"
          ]
        },
        {
          "output_type": "stream",
          "name": "stdout",
          "text": [
            "Epoch [279/3000]: Train loss: 3.2304, Valid loss: 3.0359\n"
          ]
        },
        {
          "output_type": "stream",
          "name": "stderr",
          "text": [
            "Epoch [280/3000]: 100%|██████████| 9/9 [00:00<00:00, 40.36it/s, loss=3.39]\n"
          ]
        },
        {
          "output_type": "stream",
          "name": "stdout",
          "text": [
            "Epoch [280/3000]: Train loss: 3.8118, Valid loss: 5.9162\n"
          ]
        },
        {
          "output_type": "stream",
          "name": "stderr",
          "text": [
            "Epoch [281/3000]: 100%|██████████| 9/9 [00:00<00:00, 39.93it/s, loss=6.37]\n"
          ]
        },
        {
          "output_type": "stream",
          "name": "stdout",
          "text": [
            "Epoch [281/3000]: Train loss: 5.5708, Valid loss: 6.5362\n"
          ]
        },
        {
          "output_type": "stream",
          "name": "stderr",
          "text": [
            "Epoch [282/3000]: 100%|██████████| 9/9 [00:00<00:00, 63.38it/s, loss=5.04]\n"
          ]
        },
        {
          "output_type": "stream",
          "name": "stdout",
          "text": [
            "Epoch [282/3000]: Train loss: 6.4286, Valid loss: 7.8136\n"
          ]
        },
        {
          "output_type": "stream",
          "name": "stderr",
          "text": [
            "Epoch [283/3000]: 100%|██████████| 9/9 [00:00<00:00, 40.07it/s, loss=4.42]\n"
          ]
        },
        {
          "output_type": "stream",
          "name": "stdout",
          "text": [
            "Epoch [283/3000]: Train loss: 4.8939, Valid loss: 3.3537\n"
          ]
        },
        {
          "output_type": "stream",
          "name": "stderr",
          "text": [
            "Epoch [284/3000]: 100%|██████████| 9/9 [00:00<00:00, 64.86it/s, loss=11.9]\n"
          ]
        },
        {
          "output_type": "stream",
          "name": "stdout",
          "text": [
            "Epoch [284/3000]: Train loss: 5.8876, Valid loss: 2.9153\n"
          ]
        },
        {
          "output_type": "stream",
          "name": "stderr",
          "text": [
            "Epoch [285/3000]: 100%|██████████| 9/9 [00:00<00:00, 51.43it/s, loss=3.67]\n"
          ]
        },
        {
          "output_type": "stream",
          "name": "stdout",
          "text": [
            "Epoch [285/3000]: Train loss: 5.0978, Valid loss: 4.6149\n"
          ]
        },
        {
          "output_type": "stream",
          "name": "stderr",
          "text": [
            "Epoch [286/3000]: 100%|██████████| 9/9 [00:00<00:00, 50.02it/s, loss=3.53]\n"
          ]
        },
        {
          "output_type": "stream",
          "name": "stdout",
          "text": [
            "Epoch [286/3000]: Train loss: 3.9952, Valid loss: 3.8707\n"
          ]
        },
        {
          "output_type": "stream",
          "name": "stderr",
          "text": [
            "Epoch [287/3000]: 100%|██████████| 9/9 [00:00<00:00, 43.43it/s, loss=2.84]\n"
          ]
        },
        {
          "output_type": "stream",
          "name": "stdout",
          "text": [
            "Epoch [287/3000]: Train loss: 3.4296, Valid loss: 3.3218\n"
          ]
        },
        {
          "output_type": "stream",
          "name": "stderr",
          "text": [
            "Epoch [288/3000]: 100%|██████████| 9/9 [00:00<00:00, 48.90it/s, loss=3.01]\n"
          ]
        },
        {
          "output_type": "stream",
          "name": "stdout",
          "text": [
            "Epoch [288/3000]: Train loss: 3.4757, Valid loss: 3.5550\n"
          ]
        },
        {
          "output_type": "stream",
          "name": "stderr",
          "text": [
            "Epoch [289/3000]: 100%|██████████| 9/9 [00:00<00:00, 86.57it/s, loss=3.46]\n"
          ]
        },
        {
          "output_type": "stream",
          "name": "stdout",
          "text": [
            "Epoch [289/3000]: Train loss: 3.1907, Valid loss: 5.4147\n"
          ]
        },
        {
          "output_type": "stream",
          "name": "stderr",
          "text": [
            "Epoch [290/3000]: 100%|██████████| 9/9 [00:00<00:00, 79.55it/s, loss=5.78]\n"
          ]
        },
        {
          "output_type": "stream",
          "name": "stdout",
          "text": [
            "Epoch [290/3000]: Train loss: 4.1561, Valid loss: 5.1818\n"
          ]
        },
        {
          "output_type": "stream",
          "name": "stderr",
          "text": [
            "Epoch [291/3000]: 100%|██████████| 9/9 [00:00<00:00, 92.54it/s, loss=2.99]\n"
          ]
        },
        {
          "output_type": "stream",
          "name": "stdout",
          "text": [
            "Epoch [291/3000]: Train loss: 3.7913, Valid loss: 3.6906\n"
          ]
        },
        {
          "output_type": "stream",
          "name": "stderr",
          "text": [
            "Epoch [292/3000]: 100%|██████████| 9/9 [00:00<00:00, 90.15it/s, loss=4.5]\n"
          ]
        },
        {
          "output_type": "stream",
          "name": "stdout",
          "text": [
            "Epoch [292/3000]: Train loss: 4.0492, Valid loss: 4.1079\n"
          ]
        },
        {
          "output_type": "stream",
          "name": "stderr",
          "text": [
            "Epoch [293/3000]: 100%|██████████| 9/9 [00:00<00:00, 90.29it/s, loss=5.28]\n"
          ]
        },
        {
          "output_type": "stream",
          "name": "stdout",
          "text": [
            "Epoch [293/3000]: Train loss: 3.9136, Valid loss: 3.4841\n"
          ]
        },
        {
          "output_type": "stream",
          "name": "stderr",
          "text": [
            "Epoch [294/3000]: 100%|██████████| 9/9 [00:00<00:00, 90.73it/s, loss=2.13]\n"
          ]
        },
        {
          "output_type": "stream",
          "name": "stdout",
          "text": [
            "Epoch [294/3000]: Train loss: 3.2029, Valid loss: 3.7437\n"
          ]
        },
        {
          "output_type": "stream",
          "name": "stderr",
          "text": [
            "Epoch [295/3000]: 100%|██████████| 9/9 [00:00<00:00, 82.85it/s, loss=4.66]\n"
          ]
        },
        {
          "output_type": "stream",
          "name": "stdout",
          "text": [
            "Epoch [295/3000]: Train loss: 4.0350, Valid loss: 3.2916\n"
          ]
        },
        {
          "output_type": "stream",
          "name": "stderr",
          "text": [
            "Epoch [296/3000]: 100%|██████████| 9/9 [00:00<00:00, 91.62it/s, loss=2.29]\n"
          ]
        },
        {
          "output_type": "stream",
          "name": "stdout",
          "text": [
            "Epoch [296/3000]: Train loss: 3.3533, Valid loss: 2.6893\n"
          ]
        },
        {
          "output_type": "stream",
          "name": "stderr",
          "text": [
            "Epoch [297/3000]: 100%|██████████| 9/9 [00:00<00:00, 74.09it/s, loss=4.45]\n"
          ]
        },
        {
          "output_type": "stream",
          "name": "stdout",
          "text": [
            "Epoch [297/3000]: Train loss: 3.4227, Valid loss: 3.9507\n"
          ]
        },
        {
          "output_type": "stream",
          "name": "stderr",
          "text": [
            "Epoch [298/3000]: 100%|██████████| 9/9 [00:00<00:00, 77.00it/s, loss=2.8]\n"
          ]
        },
        {
          "output_type": "stream",
          "name": "stdout",
          "text": [
            "Epoch [298/3000]: Train loss: 3.6680, Valid loss: 2.9965\n"
          ]
        },
        {
          "output_type": "stream",
          "name": "stderr",
          "text": [
            "Epoch [299/3000]: 100%|██████████| 9/9 [00:00<00:00, 69.12it/s, loss=3.24]\n"
          ]
        },
        {
          "output_type": "stream",
          "name": "stdout",
          "text": [
            "Epoch [299/3000]: Train loss: 2.9809, Valid loss: 3.4871\n"
          ]
        },
        {
          "output_type": "stream",
          "name": "stderr",
          "text": [
            "Epoch [300/3000]: 100%|██████████| 9/9 [00:00<00:00, 97.82it/s, loss=3.1]\n"
          ]
        },
        {
          "output_type": "stream",
          "name": "stdout",
          "text": [
            "Epoch [300/3000]: Train loss: 3.3157, Valid loss: 2.6141\n"
          ]
        },
        {
          "output_type": "stream",
          "name": "stderr",
          "text": [
            "Epoch [301/3000]: 100%|██████████| 9/9 [00:00<00:00, 96.34it/s, loss=2.76]\n"
          ]
        },
        {
          "output_type": "stream",
          "name": "stdout",
          "text": [
            "Epoch [301/3000]: Train loss: 3.1305, Valid loss: 3.2472\n"
          ]
        },
        {
          "output_type": "stream",
          "name": "stderr",
          "text": [
            "Epoch [302/3000]: 100%|██████████| 9/9 [00:00<00:00, 97.06it/s, loss=2.86]\n"
          ]
        },
        {
          "output_type": "stream",
          "name": "stdout",
          "text": [
            "Epoch [302/3000]: Train loss: 3.0435, Valid loss: 3.5501\n"
          ]
        },
        {
          "output_type": "stream",
          "name": "stderr",
          "text": [
            "Epoch [303/3000]: 100%|██████████| 9/9 [00:00<00:00, 97.38it/s, loss=2.88]\n"
          ]
        },
        {
          "output_type": "stream",
          "name": "stdout",
          "text": [
            "Epoch [303/3000]: Train loss: 3.1173, Valid loss: 3.2593\n"
          ]
        },
        {
          "output_type": "stream",
          "name": "stderr",
          "text": [
            "Epoch [304/3000]: 100%|██████████| 9/9 [00:00<00:00, 96.42it/s, loss=3.64]\n"
          ]
        },
        {
          "output_type": "stream",
          "name": "stdout",
          "text": [
            "Epoch [304/3000]: Train loss: 3.1487, Valid loss: 3.2269\n"
          ]
        },
        {
          "output_type": "stream",
          "name": "stderr",
          "text": [
            "Epoch [305/3000]: 100%|██████████| 9/9 [00:00<00:00, 76.91it/s, loss=3.21]\n"
          ]
        },
        {
          "output_type": "stream",
          "name": "stdout",
          "text": [
            "Epoch [305/3000]: Train loss: 3.1107, Valid loss: 4.1307\n"
          ]
        },
        {
          "output_type": "stream",
          "name": "stderr",
          "text": [
            "Epoch [306/3000]: 100%|██████████| 9/9 [00:00<00:00, 75.55it/s, loss=5.37]\n"
          ]
        },
        {
          "output_type": "stream",
          "name": "stdout",
          "text": [
            "Epoch [306/3000]: Train loss: 3.8624, Valid loss: 7.0359\n"
          ]
        },
        {
          "output_type": "stream",
          "name": "stderr",
          "text": [
            "Epoch [307/3000]: 100%|██████████| 9/9 [00:00<00:00, 78.13it/s, loss=4.28]\n"
          ]
        },
        {
          "output_type": "stream",
          "name": "stdout",
          "text": [
            "Epoch [307/3000]: Train loss: 4.0011, Valid loss: 3.4742\n"
          ]
        },
        {
          "output_type": "stream",
          "name": "stderr",
          "text": [
            "Epoch [308/3000]: 100%|██████████| 9/9 [00:00<00:00, 93.09it/s, loss=2.86]\n"
          ]
        },
        {
          "output_type": "stream",
          "name": "stdout",
          "text": [
            "Epoch [308/3000]: Train loss: 3.2856, Valid loss: 4.5149\n"
          ]
        },
        {
          "output_type": "stream",
          "name": "stderr",
          "text": [
            "Epoch [309/3000]: 100%|██████████| 9/9 [00:00<00:00, 85.15it/s, loss=3.65]\n"
          ]
        },
        {
          "output_type": "stream",
          "name": "stdout",
          "text": [
            "Epoch [309/3000]: Train loss: 4.3294, Valid loss: 2.7490\n"
          ]
        },
        {
          "output_type": "stream",
          "name": "stderr",
          "text": [
            "Epoch [310/3000]: 100%|██████████| 9/9 [00:00<00:00, 94.25it/s, loss=2.12]\n"
          ]
        },
        {
          "output_type": "stream",
          "name": "stdout",
          "text": [
            "Epoch [310/3000]: Train loss: 3.6393, Valid loss: 7.6842\n"
          ]
        },
        {
          "output_type": "stream",
          "name": "stderr",
          "text": [
            "Epoch [311/3000]: 100%|██████████| 9/9 [00:00<00:00, 83.90it/s, loss=8.09]\n"
          ]
        },
        {
          "output_type": "stream",
          "name": "stdout",
          "text": [
            "Epoch [311/3000]: Train loss: 5.5008, Valid loss: 4.4912\n"
          ]
        },
        {
          "output_type": "stream",
          "name": "stderr",
          "text": [
            "Epoch [312/3000]: 100%|██████████| 9/9 [00:00<00:00, 78.73it/s, loss=3.21]\n"
          ]
        },
        {
          "output_type": "stream",
          "name": "stdout",
          "text": [
            "Epoch [312/3000]: Train loss: 3.7752, Valid loss: 3.5605\n"
          ]
        },
        {
          "output_type": "stream",
          "name": "stderr",
          "text": [
            "Epoch [313/3000]: 100%|██████████| 9/9 [00:00<00:00, 80.64it/s, loss=3.37]\n"
          ]
        },
        {
          "output_type": "stream",
          "name": "stdout",
          "text": [
            "Epoch [313/3000]: Train loss: 3.1032, Valid loss: 2.7339\n"
          ]
        },
        {
          "output_type": "stream",
          "name": "stderr",
          "text": [
            "Epoch [314/3000]: 100%|██████████| 9/9 [00:00<00:00, 82.07it/s, loss=4.09]\n"
          ]
        },
        {
          "output_type": "stream",
          "name": "stdout",
          "text": [
            "Epoch [314/3000]: Train loss: 4.0669, Valid loss: 4.9895\n"
          ]
        },
        {
          "output_type": "stream",
          "name": "stderr",
          "text": [
            "Epoch [315/3000]: 100%|██████████| 9/9 [00:00<00:00, 78.55it/s, loss=3.43]\n"
          ]
        },
        {
          "output_type": "stream",
          "name": "stdout",
          "text": [
            "Epoch [315/3000]: Train loss: 3.3604, Valid loss: 2.6040\n"
          ]
        },
        {
          "output_type": "stream",
          "name": "stderr",
          "text": [
            "Epoch [316/3000]: 100%|██████████| 9/9 [00:00<00:00, 79.79it/s, loss=4.07]\n"
          ]
        },
        {
          "output_type": "stream",
          "name": "stdout",
          "text": [
            "Epoch [316/3000]: Train loss: 3.1595, Valid loss: 4.4552\n"
          ]
        },
        {
          "output_type": "stream",
          "name": "stderr",
          "text": [
            "Epoch [317/3000]: 100%|██████████| 9/9 [00:00<00:00, 83.01it/s, loss=3.12]\n"
          ]
        },
        {
          "output_type": "stream",
          "name": "stdout",
          "text": [
            "Epoch [317/3000]: Train loss: 3.7944, Valid loss: 5.0003\n"
          ]
        },
        {
          "output_type": "stream",
          "name": "stderr",
          "text": [
            "Epoch [318/3000]: 100%|██████████| 9/9 [00:00<00:00, 81.91it/s, loss=3.71]\n"
          ]
        },
        {
          "output_type": "stream",
          "name": "stdout",
          "text": [
            "Epoch [318/3000]: Train loss: 3.3974, Valid loss: 2.9101\n"
          ]
        },
        {
          "output_type": "stream",
          "name": "stderr",
          "text": [
            "Epoch [319/3000]: 100%|██████████| 9/9 [00:00<00:00, 76.47it/s, loss=4.16]\n"
          ]
        },
        {
          "output_type": "stream",
          "name": "stdout",
          "text": [
            "Epoch [319/3000]: Train loss: 3.1737, Valid loss: 2.8386\n"
          ]
        },
        {
          "output_type": "stream",
          "name": "stderr",
          "text": [
            "Epoch [320/3000]: 100%|██████████| 9/9 [00:00<00:00, 72.81it/s, loss=4.49]\n"
          ]
        },
        {
          "output_type": "stream",
          "name": "stdout",
          "text": [
            "Epoch [320/3000]: Train loss: 3.1526, Valid loss: 2.4730\n",
            "Saving model with loss 2.473...\n"
          ]
        },
        {
          "output_type": "stream",
          "name": "stderr",
          "text": [
            "Epoch [321/3000]: 100%|██████████| 9/9 [00:00<00:00, 92.42it/s, loss=4.13]\n"
          ]
        },
        {
          "output_type": "stream",
          "name": "stdout",
          "text": [
            "Epoch [321/3000]: Train loss: 3.4378, Valid loss: 3.7026\n"
          ]
        },
        {
          "output_type": "stream",
          "name": "stderr",
          "text": [
            "Epoch [322/3000]: 100%|██████████| 9/9 [00:00<00:00, 91.44it/s, loss=3.56]\n"
          ]
        },
        {
          "output_type": "stream",
          "name": "stdout",
          "text": [
            "Epoch [322/3000]: Train loss: 3.3329, Valid loss: 2.4137\n",
            "Saving model with loss 2.414...\n"
          ]
        },
        {
          "output_type": "stream",
          "name": "stderr",
          "text": [
            "Epoch [323/3000]: 100%|██████████| 9/9 [00:00<00:00, 86.33it/s, loss=2.16]\n"
          ]
        },
        {
          "output_type": "stream",
          "name": "stdout",
          "text": [
            "Epoch [323/3000]: Train loss: 2.8110, Valid loss: 2.6225\n"
          ]
        },
        {
          "output_type": "stream",
          "name": "stderr",
          "text": [
            "Epoch [324/3000]: 100%|██████████| 9/9 [00:00<00:00, 90.10it/s, loss=3.15]\n"
          ]
        },
        {
          "output_type": "stream",
          "name": "stdout",
          "text": [
            "Epoch [324/3000]: Train loss: 2.8820, Valid loss: 3.2172\n"
          ]
        },
        {
          "output_type": "stream",
          "name": "stderr",
          "text": [
            "Epoch [325/3000]: 100%|██████████| 9/9 [00:00<00:00, 80.29it/s, loss=3.62]\n"
          ]
        },
        {
          "output_type": "stream",
          "name": "stdout",
          "text": [
            "Epoch [325/3000]: Train loss: 3.8495, Valid loss: 5.0202\n"
          ]
        },
        {
          "output_type": "stream",
          "name": "stderr",
          "text": [
            "Epoch [326/3000]: 100%|██████████| 9/9 [00:00<00:00, 81.79it/s, loss=10.2]\n"
          ]
        },
        {
          "output_type": "stream",
          "name": "stdout",
          "text": [
            "Epoch [326/3000]: Train loss: 4.8967, Valid loss: 5.8372\n"
          ]
        },
        {
          "output_type": "stream",
          "name": "stderr",
          "text": [
            "Epoch [327/3000]: 100%|██████████| 9/9 [00:00<00:00, 90.14it/s, loss=6.44]\n"
          ]
        },
        {
          "output_type": "stream",
          "name": "stdout",
          "text": [
            "Epoch [327/3000]: Train loss: 4.9654, Valid loss: 3.6057\n"
          ]
        },
        {
          "output_type": "stream",
          "name": "stderr",
          "text": [
            "Epoch [328/3000]: 100%|██████████| 9/9 [00:00<00:00, 80.86it/s, loss=3.31]\n"
          ]
        },
        {
          "output_type": "stream",
          "name": "stdout",
          "text": [
            "Epoch [328/3000]: Train loss: 4.2714, Valid loss: 3.4472\n"
          ]
        },
        {
          "output_type": "stream",
          "name": "stderr",
          "text": [
            "Epoch [329/3000]: 100%|██████████| 9/9 [00:00<00:00, 86.90it/s, loss=4.04]\n"
          ]
        },
        {
          "output_type": "stream",
          "name": "stdout",
          "text": [
            "Epoch [329/3000]: Train loss: 3.4928, Valid loss: 4.1994\n"
          ]
        },
        {
          "output_type": "stream",
          "name": "stderr",
          "text": [
            "Epoch [330/3000]: 100%|██████████| 9/9 [00:00<00:00, 95.62it/s, loss=2.83]\n"
          ]
        },
        {
          "output_type": "stream",
          "name": "stdout",
          "text": [
            "Epoch [330/3000]: Train loss: 3.3419, Valid loss: 3.0758\n"
          ]
        },
        {
          "output_type": "stream",
          "name": "stderr",
          "text": [
            "Epoch [331/3000]: 100%|██████████| 9/9 [00:00<00:00, 88.05it/s, loss=3.89]\n"
          ]
        },
        {
          "output_type": "stream",
          "name": "stdout",
          "text": [
            "Epoch [331/3000]: Train loss: 3.3467, Valid loss: 4.1721\n"
          ]
        },
        {
          "output_type": "stream",
          "name": "stderr",
          "text": [
            "Epoch [332/3000]: 100%|██████████| 9/9 [00:00<00:00, 80.30it/s, loss=6.04]\n"
          ]
        },
        {
          "output_type": "stream",
          "name": "stdout",
          "text": [
            "Epoch [332/3000]: Train loss: 3.7445, Valid loss: 2.7762\n"
          ]
        },
        {
          "output_type": "stream",
          "name": "stderr",
          "text": [
            "Epoch [333/3000]: 100%|██████████| 9/9 [00:00<00:00, 87.09it/s, loss=2.49]\n"
          ]
        },
        {
          "output_type": "stream",
          "name": "stdout",
          "text": [
            "Epoch [333/3000]: Train loss: 3.1968, Valid loss: 3.2574\n"
          ]
        },
        {
          "output_type": "stream",
          "name": "stderr",
          "text": [
            "Epoch [334/3000]: 100%|██████████| 9/9 [00:00<00:00, 97.77it/s, loss=2.77]\n"
          ]
        },
        {
          "output_type": "stream",
          "name": "stdout",
          "text": [
            "Epoch [334/3000]: Train loss: 3.0888, Valid loss: 3.8165\n"
          ]
        },
        {
          "output_type": "stream",
          "name": "stderr",
          "text": [
            "Epoch [335/3000]: 100%|██████████| 9/9 [00:00<00:00, 96.22it/s, loss=2.46]\n"
          ]
        },
        {
          "output_type": "stream",
          "name": "stdout",
          "text": [
            "Epoch [335/3000]: Train loss: 2.7953, Valid loss: 3.2832\n"
          ]
        },
        {
          "output_type": "stream",
          "name": "stderr",
          "text": [
            "Epoch [336/3000]: 100%|██████████| 9/9 [00:00<00:00, 101.54it/s, loss=2.61]\n"
          ]
        },
        {
          "output_type": "stream",
          "name": "stdout",
          "text": [
            "Epoch [336/3000]: Train loss: 2.8403, Valid loss: 2.9455\n"
          ]
        },
        {
          "output_type": "stream",
          "name": "stderr",
          "text": [
            "Epoch [337/3000]: 100%|██████████| 9/9 [00:00<00:00, 61.13it/s, loss=2.31]\n"
          ]
        },
        {
          "output_type": "stream",
          "name": "stdout",
          "text": [
            "Epoch [337/3000]: Train loss: 3.2623, Valid loss: 3.9293\n"
          ]
        },
        {
          "output_type": "stream",
          "name": "stderr",
          "text": [
            "Epoch [338/3000]: 100%|██████████| 9/9 [00:00<00:00, 35.14it/s, loss=3.24]\n"
          ]
        },
        {
          "output_type": "stream",
          "name": "stdout",
          "text": [
            "Epoch [338/3000]: Train loss: 3.2274, Valid loss: 3.1271\n"
          ]
        },
        {
          "output_type": "stream",
          "name": "stderr",
          "text": [
            "Epoch [339/3000]: 100%|██████████| 9/9 [00:00<00:00, 60.84it/s, loss=3.3]\n"
          ]
        },
        {
          "output_type": "stream",
          "name": "stdout",
          "text": [
            "Epoch [339/3000]: Train loss: 3.0637, Valid loss: 3.2921\n"
          ]
        },
        {
          "output_type": "stream",
          "name": "stderr",
          "text": [
            "Epoch [340/3000]: 100%|██████████| 9/9 [00:00<00:00, 86.18it/s, loss=2.68]\n"
          ]
        },
        {
          "output_type": "stream",
          "name": "stdout",
          "text": [
            "Epoch [340/3000]: Train loss: 3.4228, Valid loss: 3.1396\n"
          ]
        },
        {
          "output_type": "stream",
          "name": "stderr",
          "text": [
            "Epoch [341/3000]: 100%|██████████| 9/9 [00:00<00:00, 84.79it/s, loss=2.97]\n"
          ]
        },
        {
          "output_type": "stream",
          "name": "stdout",
          "text": [
            "Epoch [341/3000]: Train loss: 3.2492, Valid loss: 3.3540\n"
          ]
        },
        {
          "output_type": "stream",
          "name": "stderr",
          "text": [
            "Epoch [342/3000]: 100%|██████████| 9/9 [00:00<00:00, 69.61it/s, loss=2.8]\n"
          ]
        },
        {
          "output_type": "stream",
          "name": "stdout",
          "text": [
            "Epoch [342/3000]: Train loss: 3.3362, Valid loss: 7.7144\n"
          ]
        },
        {
          "output_type": "stream",
          "name": "stderr",
          "text": [
            "Epoch [343/3000]: 100%|██████████| 9/9 [00:00<00:00, 93.96it/s, loss=4.5]\n"
          ]
        },
        {
          "output_type": "stream",
          "name": "stdout",
          "text": [
            "Epoch [343/3000]: Train loss: 3.6798, Valid loss: 4.2511\n"
          ]
        },
        {
          "output_type": "stream",
          "name": "stderr",
          "text": [
            "Epoch [344/3000]: 100%|██████████| 9/9 [00:00<00:00, 91.86it/s, loss=4.09]\n"
          ]
        },
        {
          "output_type": "stream",
          "name": "stdout",
          "text": [
            "Epoch [344/3000]: Train loss: 3.2202, Valid loss: 4.3694\n"
          ]
        },
        {
          "output_type": "stream",
          "name": "stderr",
          "text": [
            "Epoch [345/3000]: 100%|██████████| 9/9 [00:00<00:00, 73.19it/s, loss=5.82]\n"
          ]
        },
        {
          "output_type": "stream",
          "name": "stdout",
          "text": [
            "Epoch [345/3000]: Train loss: 4.0447, Valid loss: 3.4016\n"
          ]
        },
        {
          "output_type": "stream",
          "name": "stderr",
          "text": [
            "Epoch [346/3000]: 100%|██████████| 9/9 [00:00<00:00, 29.64it/s, loss=2.27]\n"
          ]
        },
        {
          "output_type": "stream",
          "name": "stdout",
          "text": [
            "Epoch [346/3000]: Train loss: 3.4655, Valid loss: 2.7713\n"
          ]
        },
        {
          "output_type": "stream",
          "name": "stderr",
          "text": [
            "Epoch [347/3000]: 100%|██████████| 9/9 [00:00<00:00, 97.63it/s, loss=2.55]\n"
          ]
        },
        {
          "output_type": "stream",
          "name": "stdout",
          "text": [
            "Epoch [347/3000]: Train loss: 2.7256, Valid loss: 2.6298\n"
          ]
        },
        {
          "output_type": "stream",
          "name": "stderr",
          "text": [
            "Epoch [348/3000]: 100%|██████████| 9/9 [00:00<00:00, 99.45it/s, loss=2.9]\n"
          ]
        },
        {
          "output_type": "stream",
          "name": "stdout",
          "text": [
            "Epoch [348/3000]: Train loss: 3.0849, Valid loss: 4.6719\n"
          ]
        },
        {
          "output_type": "stream",
          "name": "stderr",
          "text": [
            "Epoch [349/3000]: 100%|██████████| 9/9 [00:00<00:00, 91.52it/s, loss=2.19]\n"
          ]
        },
        {
          "output_type": "stream",
          "name": "stdout",
          "text": [
            "Epoch [349/3000]: Train loss: 3.8688, Valid loss: 4.5862\n"
          ]
        },
        {
          "output_type": "stream",
          "name": "stderr",
          "text": [
            "Epoch [350/3000]: 100%|██████████| 9/9 [00:00<00:00, 93.47it/s, loss=3.56]\n"
          ]
        },
        {
          "output_type": "stream",
          "name": "stdout",
          "text": [
            "Epoch [350/3000]: Train loss: 3.3804, Valid loss: 4.1999\n"
          ]
        },
        {
          "output_type": "stream",
          "name": "stderr",
          "text": [
            "Epoch [351/3000]: 100%|██████████| 9/9 [00:00<00:00, 85.82it/s, loss=4.51]\n"
          ]
        },
        {
          "output_type": "stream",
          "name": "stdout",
          "text": [
            "Epoch [351/3000]: Train loss: 3.3918, Valid loss: 3.7226\n"
          ]
        },
        {
          "output_type": "stream",
          "name": "stderr",
          "text": [
            "Epoch [352/3000]: 100%|██████████| 9/9 [00:00<00:00, 105.22it/s, loss=6.72]\n"
          ]
        },
        {
          "output_type": "stream",
          "name": "stdout",
          "text": [
            "Epoch [352/3000]: Train loss: 5.9444, Valid loss: 4.5500\n"
          ]
        },
        {
          "output_type": "stream",
          "name": "stderr",
          "text": [
            "Epoch [353/3000]: 100%|██████████| 9/9 [00:00<00:00, 85.33it/s, loss=5.58]\n"
          ]
        },
        {
          "output_type": "stream",
          "name": "stdout",
          "text": [
            "Epoch [353/3000]: Train loss: 6.8269, Valid loss: 5.4659\n"
          ]
        },
        {
          "output_type": "stream",
          "name": "stderr",
          "text": [
            "Epoch [354/3000]: 100%|██████████| 9/9 [00:00<00:00, 87.01it/s, loss=3.61]\n"
          ]
        },
        {
          "output_type": "stream",
          "name": "stdout",
          "text": [
            "Epoch [354/3000]: Train loss: 4.2422, Valid loss: 6.6832\n"
          ]
        },
        {
          "output_type": "stream",
          "name": "stderr",
          "text": [
            "Epoch [355/3000]: 100%|██████████| 9/9 [00:00<00:00, 102.60it/s, loss=6.26]\n"
          ]
        },
        {
          "output_type": "stream",
          "name": "stdout",
          "text": [
            "Epoch [355/3000]: Train loss: 6.9264, Valid loss: 7.0664\n"
          ]
        },
        {
          "output_type": "stream",
          "name": "stderr",
          "text": [
            "Epoch [356/3000]: 100%|██████████| 9/9 [00:00<00:00, 101.27it/s, loss=3.38]\n"
          ]
        },
        {
          "output_type": "stream",
          "name": "stdout",
          "text": [
            "Epoch [356/3000]: Train loss: 4.7819, Valid loss: 4.4121\n"
          ]
        },
        {
          "output_type": "stream",
          "name": "stderr",
          "text": [
            "Epoch [357/3000]: 100%|██████████| 9/9 [00:00<00:00, 96.21it/s, loss=3.18]\n"
          ]
        },
        {
          "output_type": "stream",
          "name": "stdout",
          "text": [
            "Epoch [357/3000]: Train loss: 3.3615, Valid loss: 2.7007\n"
          ]
        },
        {
          "output_type": "stream",
          "name": "stderr",
          "text": [
            "Epoch [358/3000]: 100%|██████████| 9/9 [00:00<00:00, 96.92it/s, loss=3.11]\n"
          ]
        },
        {
          "output_type": "stream",
          "name": "stdout",
          "text": [
            "Epoch [358/3000]: Train loss: 2.9294, Valid loss: 4.5442\n"
          ]
        },
        {
          "output_type": "stream",
          "name": "stderr",
          "text": [
            "Epoch [359/3000]: 100%|██████████| 9/9 [00:00<00:00, 81.56it/s, loss=2.83]\n"
          ]
        },
        {
          "output_type": "stream",
          "name": "stdout",
          "text": [
            "Epoch [359/3000]: Train loss: 3.2014, Valid loss: 5.9390\n"
          ]
        },
        {
          "output_type": "stream",
          "name": "stderr",
          "text": [
            "Epoch [360/3000]: 100%|██████████| 9/9 [00:00<00:00, 90.66it/s, loss=3.47]\n"
          ]
        },
        {
          "output_type": "stream",
          "name": "stdout",
          "text": [
            "Epoch [360/3000]: Train loss: 4.2830, Valid loss: 4.8864\n"
          ]
        },
        {
          "output_type": "stream",
          "name": "stderr",
          "text": [
            "Epoch [361/3000]: 100%|██████████| 9/9 [00:00<00:00, 72.76it/s, loss=3.36]\n"
          ]
        },
        {
          "output_type": "stream",
          "name": "stdout",
          "text": [
            "Epoch [361/3000]: Train loss: 3.8395, Valid loss: 3.5155\n"
          ]
        },
        {
          "output_type": "stream",
          "name": "stderr",
          "text": [
            "Epoch [362/3000]: 100%|██████████| 9/9 [00:00<00:00, 98.45it/s, loss=2.91]\n"
          ]
        },
        {
          "output_type": "stream",
          "name": "stdout",
          "text": [
            "Epoch [362/3000]: Train loss: 3.2829, Valid loss: 3.3866\n"
          ]
        },
        {
          "output_type": "stream",
          "name": "stderr",
          "text": [
            "Epoch [363/3000]: 100%|██████████| 9/9 [00:00<00:00, 94.50it/s, loss=2.48]\n"
          ]
        },
        {
          "output_type": "stream",
          "name": "stdout",
          "text": [
            "Epoch [363/3000]: Train loss: 2.8841, Valid loss: 2.7371\n"
          ]
        },
        {
          "output_type": "stream",
          "name": "stderr",
          "text": [
            "Epoch [364/3000]: 100%|██████████| 9/9 [00:00<00:00, 103.16it/s, loss=2.97]\n"
          ]
        },
        {
          "output_type": "stream",
          "name": "stdout",
          "text": [
            "Epoch [364/3000]: Train loss: 2.7143, Valid loss: 4.2909\n"
          ]
        },
        {
          "output_type": "stream",
          "name": "stderr",
          "text": [
            "Epoch [365/3000]: 100%|██████████| 9/9 [00:00<00:00, 83.90it/s, loss=4.01]\n"
          ]
        },
        {
          "output_type": "stream",
          "name": "stdout",
          "text": [
            "Epoch [365/3000]: Train loss: 3.3546, Valid loss: 4.3713\n"
          ]
        },
        {
          "output_type": "stream",
          "name": "stderr",
          "text": [
            "Epoch [366/3000]: 100%|██████████| 9/9 [00:00<00:00, 85.68it/s, loss=3.26]\n"
          ]
        },
        {
          "output_type": "stream",
          "name": "stdout",
          "text": [
            "Epoch [366/3000]: Train loss: 3.4113, Valid loss: 2.8656\n"
          ]
        },
        {
          "output_type": "stream",
          "name": "stderr",
          "text": [
            "Epoch [367/3000]: 100%|██████████| 9/9 [00:00<00:00, 104.10it/s, loss=2.42]\n"
          ]
        },
        {
          "output_type": "stream",
          "name": "stdout",
          "text": [
            "Epoch [367/3000]: Train loss: 3.1073, Valid loss: 2.4400\n"
          ]
        },
        {
          "output_type": "stream",
          "name": "stderr",
          "text": [
            "Epoch [368/3000]: 100%|██████████| 9/9 [00:00<00:00, 100.47it/s, loss=3.07]\n"
          ]
        },
        {
          "output_type": "stream",
          "name": "stdout",
          "text": [
            "Epoch [368/3000]: Train loss: 2.6780, Valid loss: 2.9070\n"
          ]
        },
        {
          "output_type": "stream",
          "name": "stderr",
          "text": [
            "Epoch [369/3000]: 100%|██████████| 9/9 [00:00<00:00, 86.81it/s, loss=4.7]\n"
          ]
        },
        {
          "output_type": "stream",
          "name": "stdout",
          "text": [
            "Epoch [369/3000]: Train loss: 3.1987, Valid loss: 3.8945\n"
          ]
        },
        {
          "output_type": "stream",
          "name": "stderr",
          "text": [
            "Epoch [370/3000]: 100%|██████████| 9/9 [00:00<00:00, 75.12it/s, loss=3.79]\n"
          ]
        },
        {
          "output_type": "stream",
          "name": "stdout",
          "text": [
            "Epoch [370/3000]: Train loss: 3.5759, Valid loss: 2.8903\n"
          ]
        },
        {
          "output_type": "stream",
          "name": "stderr",
          "text": [
            "Epoch [371/3000]: 100%|██████████| 9/9 [00:00<00:00, 81.43it/s, loss=2.85]\n"
          ]
        },
        {
          "output_type": "stream",
          "name": "stdout",
          "text": [
            "Epoch [371/3000]: Train loss: 2.8186, Valid loss: 2.8779\n"
          ]
        },
        {
          "output_type": "stream",
          "name": "stderr",
          "text": [
            "Epoch [372/3000]: 100%|██████████| 9/9 [00:00<00:00, 84.59it/s, loss=2.38]\n"
          ]
        },
        {
          "output_type": "stream",
          "name": "stdout",
          "text": [
            "Epoch [372/3000]: Train loss: 2.7295, Valid loss: 2.7854\n"
          ]
        },
        {
          "output_type": "stream",
          "name": "stderr",
          "text": [
            "Epoch [373/3000]: 100%|██████████| 9/9 [00:00<00:00, 74.60it/s, loss=3.27]\n"
          ]
        },
        {
          "output_type": "stream",
          "name": "stdout",
          "text": [
            "Epoch [373/3000]: Train loss: 2.9153, Valid loss: 2.5482\n"
          ]
        },
        {
          "output_type": "stream",
          "name": "stderr",
          "text": [
            "Epoch [374/3000]: 100%|██████████| 9/9 [00:00<00:00, 80.57it/s, loss=2.59]\n"
          ]
        },
        {
          "output_type": "stream",
          "name": "stdout",
          "text": [
            "Epoch [374/3000]: Train loss: 2.6961, Valid loss: 2.7216\n"
          ]
        },
        {
          "output_type": "stream",
          "name": "stderr",
          "text": [
            "Epoch [375/3000]: 100%|██████████| 9/9 [00:00<00:00, 86.62it/s, loss=2.37]\n"
          ]
        },
        {
          "output_type": "stream",
          "name": "stdout",
          "text": [
            "Epoch [375/3000]: Train loss: 2.6552, Valid loss: 2.7595\n"
          ]
        },
        {
          "output_type": "stream",
          "name": "stderr",
          "text": [
            "Epoch [376/3000]: 100%|██████████| 9/9 [00:00<00:00, 83.11it/s, loss=3.18]\n"
          ]
        },
        {
          "output_type": "stream",
          "name": "stdout",
          "text": [
            "Epoch [376/3000]: Train loss: 2.7381, Valid loss: 3.4166\n"
          ]
        },
        {
          "output_type": "stream",
          "name": "stderr",
          "text": [
            "Epoch [377/3000]: 100%|██████████| 9/9 [00:00<00:00, 75.09it/s, loss=2.57]\n"
          ]
        },
        {
          "output_type": "stream",
          "name": "stdout",
          "text": [
            "Epoch [377/3000]: Train loss: 2.8744, Valid loss: 3.2158\n"
          ]
        },
        {
          "output_type": "stream",
          "name": "stderr",
          "text": [
            "Epoch [378/3000]: 100%|██████████| 9/9 [00:00<00:00, 75.00it/s, loss=3.56]\n"
          ]
        },
        {
          "output_type": "stream",
          "name": "stdout",
          "text": [
            "Epoch [378/3000]: Train loss: 3.1821, Valid loss: 2.6680\n"
          ]
        },
        {
          "output_type": "stream",
          "name": "stderr",
          "text": [
            "Epoch [379/3000]: 100%|██████████| 9/9 [00:00<00:00, 78.23it/s, loss=2.05]\n"
          ]
        },
        {
          "output_type": "stream",
          "name": "stdout",
          "text": [
            "Epoch [379/3000]: Train loss: 2.7821, Valid loss: 2.9126\n"
          ]
        },
        {
          "output_type": "stream",
          "name": "stderr",
          "text": [
            "Epoch [380/3000]: 100%|██████████| 9/9 [00:00<00:00, 77.19it/s, loss=3.91]\n"
          ]
        },
        {
          "output_type": "stream",
          "name": "stdout",
          "text": [
            "Epoch [380/3000]: Train loss: 3.3442, Valid loss: 3.5432\n"
          ]
        },
        {
          "output_type": "stream",
          "name": "stderr",
          "text": [
            "Epoch [381/3000]: 100%|██████████| 9/9 [00:00<00:00, 75.42it/s, loss=3.08]\n"
          ]
        },
        {
          "output_type": "stream",
          "name": "stdout",
          "text": [
            "Epoch [381/3000]: Train loss: 2.9719, Valid loss: 3.9551\n"
          ]
        },
        {
          "output_type": "stream",
          "name": "stderr",
          "text": [
            "Epoch [382/3000]: 100%|██████████| 9/9 [00:00<00:00, 85.25it/s, loss=2.7]\n"
          ]
        },
        {
          "output_type": "stream",
          "name": "stdout",
          "text": [
            "Epoch [382/3000]: Train loss: 3.0767, Valid loss: 2.7709\n"
          ]
        },
        {
          "output_type": "stream",
          "name": "stderr",
          "text": [
            "Epoch [383/3000]: 100%|██████████| 9/9 [00:00<00:00, 66.20it/s, loss=2.58]\n"
          ]
        },
        {
          "output_type": "stream",
          "name": "stdout",
          "text": [
            "Epoch [383/3000]: Train loss: 2.9274, Valid loss: 3.1822\n"
          ]
        },
        {
          "output_type": "stream",
          "name": "stderr",
          "text": [
            "Epoch [384/3000]: 100%|██████████| 9/9 [00:00<00:00, 95.92it/s, loss=2.26]\n"
          ]
        },
        {
          "output_type": "stream",
          "name": "stdout",
          "text": [
            "Epoch [384/3000]: Train loss: 2.7626, Valid loss: 3.3786\n"
          ]
        },
        {
          "output_type": "stream",
          "name": "stderr",
          "text": [
            "Epoch [385/3000]: 100%|██████████| 9/9 [00:00<00:00, 72.32it/s, loss=2.79]\n"
          ]
        },
        {
          "output_type": "stream",
          "name": "stdout",
          "text": [
            "Epoch [385/3000]: Train loss: 2.7007, Valid loss: 2.7628\n"
          ]
        },
        {
          "output_type": "stream",
          "name": "stderr",
          "text": [
            "Epoch [386/3000]: 100%|██████████| 9/9 [00:00<00:00, 82.40it/s, loss=2.54]\n"
          ]
        },
        {
          "output_type": "stream",
          "name": "stdout",
          "text": [
            "Epoch [386/3000]: Train loss: 2.6443, Valid loss: 3.0541\n"
          ]
        },
        {
          "output_type": "stream",
          "name": "stderr",
          "text": [
            "Epoch [387/3000]: 100%|██████████| 9/9 [00:00<00:00, 81.29it/s, loss=3.68]\n"
          ]
        },
        {
          "output_type": "stream",
          "name": "stdout",
          "text": [
            "Epoch [387/3000]: Train loss: 2.8822, Valid loss: 3.1246\n"
          ]
        },
        {
          "output_type": "stream",
          "name": "stderr",
          "text": [
            "Epoch [388/3000]: 100%|██████████| 9/9 [00:00<00:00, 83.02it/s, loss=4.15]\n"
          ]
        },
        {
          "output_type": "stream",
          "name": "stdout",
          "text": [
            "Epoch [388/3000]: Train loss: 3.4384, Valid loss: 2.6751\n"
          ]
        },
        {
          "output_type": "stream",
          "name": "stderr",
          "text": [
            "Epoch [389/3000]: 100%|██████████| 9/9 [00:00<00:00, 85.43it/s, loss=3.16]\n"
          ]
        },
        {
          "output_type": "stream",
          "name": "stdout",
          "text": [
            "Epoch [389/3000]: Train loss: 3.3321, Valid loss: 5.4000\n"
          ]
        },
        {
          "output_type": "stream",
          "name": "stderr",
          "text": [
            "Epoch [390/3000]: 100%|██████████| 9/9 [00:00<00:00, 96.44it/s, loss=3.18]\n"
          ]
        },
        {
          "output_type": "stream",
          "name": "stdout",
          "text": [
            "Epoch [390/3000]: Train loss: 3.6552, Valid loss: 5.4030\n"
          ]
        },
        {
          "output_type": "stream",
          "name": "stderr",
          "text": [
            "Epoch [391/3000]: 100%|██████████| 9/9 [00:00<00:00, 91.06it/s, loss=8.73]\n"
          ]
        },
        {
          "output_type": "stream",
          "name": "stdout",
          "text": [
            "Epoch [391/3000]: Train loss: 4.8898, Valid loss: 8.8884\n"
          ]
        },
        {
          "output_type": "stream",
          "name": "stderr",
          "text": [
            "Epoch [392/3000]: 100%|██████████| 9/9 [00:00<00:00, 94.10it/s, loss=4.25]\n"
          ]
        },
        {
          "output_type": "stream",
          "name": "stdout",
          "text": [
            "Epoch [392/3000]: Train loss: 5.4056, Valid loss: 3.9562\n"
          ]
        },
        {
          "output_type": "stream",
          "name": "stderr",
          "text": [
            "Epoch [393/3000]: 100%|██████████| 9/9 [00:00<00:00, 95.02it/s, loss=1.84]\n"
          ]
        },
        {
          "output_type": "stream",
          "name": "stdout",
          "text": [
            "Epoch [393/3000]: Train loss: 2.9389, Valid loss: 2.5429\n"
          ]
        },
        {
          "output_type": "stream",
          "name": "stderr",
          "text": [
            "Epoch [394/3000]: 100%|██████████| 9/9 [00:00<00:00, 86.13it/s, loss=2.38]\n"
          ]
        },
        {
          "output_type": "stream",
          "name": "stdout",
          "text": [
            "Epoch [394/3000]: Train loss: 3.1959, Valid loss: 3.1855\n"
          ]
        },
        {
          "output_type": "stream",
          "name": "stderr",
          "text": [
            "Epoch [395/3000]: 100%|██████████| 9/9 [00:00<00:00, 93.47it/s, loss=3.35]\n"
          ]
        },
        {
          "output_type": "stream",
          "name": "stdout",
          "text": [
            "Epoch [395/3000]: Train loss: 2.6716, Valid loss: 2.3349\n",
            "Saving model with loss 2.335...\n"
          ]
        },
        {
          "output_type": "stream",
          "name": "stderr",
          "text": [
            "Epoch [396/3000]: 100%|██████████| 9/9 [00:00<00:00, 86.58it/s, loss=3.06]\n"
          ]
        },
        {
          "output_type": "stream",
          "name": "stdout",
          "text": [
            "Epoch [396/3000]: Train loss: 2.6878, Valid loss: 3.9064\n"
          ]
        },
        {
          "output_type": "stream",
          "name": "stderr",
          "text": [
            "Epoch [397/3000]: 100%|██████████| 9/9 [00:00<00:00, 85.95it/s, loss=3.49]\n"
          ]
        },
        {
          "output_type": "stream",
          "name": "stdout",
          "text": [
            "Epoch [397/3000]: Train loss: 2.8313, Valid loss: 4.8819\n"
          ]
        },
        {
          "output_type": "stream",
          "name": "stderr",
          "text": [
            "Epoch [398/3000]: 100%|██████████| 9/9 [00:00<00:00, 72.36it/s, loss=5.84]\n"
          ]
        },
        {
          "output_type": "stream",
          "name": "stdout",
          "text": [
            "Epoch [398/3000]: Train loss: 3.4957, Valid loss: 8.7173\n"
          ]
        },
        {
          "output_type": "stream",
          "name": "stderr",
          "text": [
            "Epoch [399/3000]: 100%|██████████| 9/9 [00:00<00:00, 74.63it/s, loss=3.31]\n"
          ]
        },
        {
          "output_type": "stream",
          "name": "stdout",
          "text": [
            "Epoch [399/3000]: Train loss: 4.0952, Valid loss: 2.7853\n"
          ]
        },
        {
          "output_type": "stream",
          "name": "stderr",
          "text": [
            "Epoch [400/3000]: 100%|██████████| 9/9 [00:00<00:00, 82.29it/s, loss=2.32]\n"
          ]
        },
        {
          "output_type": "stream",
          "name": "stdout",
          "text": [
            "Epoch [400/3000]: Train loss: 2.8081, Valid loss: 3.6416\n"
          ]
        },
        {
          "output_type": "stream",
          "name": "stderr",
          "text": [
            "Epoch [401/3000]: 100%|██████████| 9/9 [00:00<00:00, 74.05it/s, loss=4.36]\n"
          ]
        },
        {
          "output_type": "stream",
          "name": "stdout",
          "text": [
            "Epoch [401/3000]: Train loss: 4.3881, Valid loss: 3.0769\n"
          ]
        },
        {
          "output_type": "stream",
          "name": "stderr",
          "text": [
            "Epoch [402/3000]: 100%|██████████| 9/9 [00:00<00:00, 79.22it/s, loss=2.75]\n"
          ]
        },
        {
          "output_type": "stream",
          "name": "stdout",
          "text": [
            "Epoch [402/3000]: Train loss: 3.0619, Valid loss: 3.2772\n"
          ]
        },
        {
          "output_type": "stream",
          "name": "stderr",
          "text": [
            "Epoch [403/3000]: 100%|██████████| 9/9 [00:00<00:00, 92.51it/s, loss=2.96]\n"
          ]
        },
        {
          "output_type": "stream",
          "name": "stdout",
          "text": [
            "Epoch [403/3000]: Train loss: 2.9258, Valid loss: 3.0334\n"
          ]
        },
        {
          "output_type": "stream",
          "name": "stderr",
          "text": [
            "Epoch [404/3000]: 100%|██████████| 9/9 [00:00<00:00, 78.97it/s, loss=7.16]\n"
          ]
        },
        {
          "output_type": "stream",
          "name": "stdout",
          "text": [
            "Epoch [404/3000]: Train loss: 3.9431, Valid loss: 4.3994\n"
          ]
        },
        {
          "output_type": "stream",
          "name": "stderr",
          "text": [
            "Epoch [405/3000]: 100%|██████████| 9/9 [00:00<00:00, 79.31it/s, loss=1.83]\n"
          ]
        },
        {
          "output_type": "stream",
          "name": "stdout",
          "text": [
            "Epoch [405/3000]: Train loss: 3.1195, Valid loss: 2.4389\n"
          ]
        },
        {
          "output_type": "stream",
          "name": "stderr",
          "text": [
            "Epoch [406/3000]: 100%|██████████| 9/9 [00:00<00:00, 75.80it/s, loss=2.62]\n"
          ]
        },
        {
          "output_type": "stream",
          "name": "stdout",
          "text": [
            "Epoch [406/3000]: Train loss: 2.5934, Valid loss: 3.3173\n"
          ]
        },
        {
          "output_type": "stream",
          "name": "stderr",
          "text": [
            "Epoch [407/3000]: 100%|██████████| 9/9 [00:00<00:00, 83.75it/s, loss=3.05]\n"
          ]
        },
        {
          "output_type": "stream",
          "name": "stdout",
          "text": [
            "Epoch [407/3000]: Train loss: 3.0450, Valid loss: 5.0986\n"
          ]
        },
        {
          "output_type": "stream",
          "name": "stderr",
          "text": [
            "Epoch [408/3000]: 100%|██████████| 9/9 [00:00<00:00, 72.02it/s, loss=3.14]\n"
          ]
        },
        {
          "output_type": "stream",
          "name": "stdout",
          "text": [
            "Epoch [408/3000]: Train loss: 3.0803, Valid loss: 3.1451\n"
          ]
        },
        {
          "output_type": "stream",
          "name": "stderr",
          "text": [
            "Epoch [409/3000]: 100%|██████████| 9/9 [00:00<00:00, 97.86it/s, loss=2.35]\n"
          ]
        },
        {
          "output_type": "stream",
          "name": "stdout",
          "text": [
            "Epoch [409/3000]: Train loss: 2.6895, Valid loss: 2.3550\n"
          ]
        },
        {
          "output_type": "stream",
          "name": "stderr",
          "text": [
            "Epoch [410/3000]: 100%|██████████| 9/9 [00:00<00:00, 90.06it/s, loss=1.95]\n"
          ]
        },
        {
          "output_type": "stream",
          "name": "stdout",
          "text": [
            "Epoch [410/3000]: Train loss: 2.8075, Valid loss: 2.8771\n"
          ]
        },
        {
          "output_type": "stream",
          "name": "stderr",
          "text": [
            "Epoch [411/3000]: 100%|██████████| 9/9 [00:00<00:00, 66.64it/s, loss=2.82]\n"
          ]
        },
        {
          "output_type": "stream",
          "name": "stdout",
          "text": [
            "Epoch [411/3000]: Train loss: 2.8620, Valid loss: 5.5950\n"
          ]
        },
        {
          "output_type": "stream",
          "name": "stderr",
          "text": [
            "Epoch [412/3000]: 100%|██████████| 9/9 [00:00<00:00, 86.45it/s, loss=2.95]\n"
          ]
        },
        {
          "output_type": "stream",
          "name": "stdout",
          "text": [
            "Epoch [412/3000]: Train loss: 3.2575, Valid loss: 2.7236\n"
          ]
        },
        {
          "output_type": "stream",
          "name": "stderr",
          "text": [
            "Epoch [413/3000]: 100%|██████████| 9/9 [00:00<00:00, 94.83it/s, loss=2.42]\n"
          ]
        },
        {
          "output_type": "stream",
          "name": "stdout",
          "text": [
            "Epoch [413/3000]: Train loss: 2.8629, Valid loss: 3.3850\n"
          ]
        },
        {
          "output_type": "stream",
          "name": "stderr",
          "text": [
            "Epoch [414/3000]: 100%|██████████| 9/9 [00:00<00:00, 90.74it/s, loss=3.31]\n"
          ]
        },
        {
          "output_type": "stream",
          "name": "stdout",
          "text": [
            "Epoch [414/3000]: Train loss: 3.0126, Valid loss: 3.8483\n"
          ]
        },
        {
          "output_type": "stream",
          "name": "stderr",
          "text": [
            "Epoch [415/3000]: 100%|██████████| 9/9 [00:00<00:00, 95.42it/s, loss=3.31]\n"
          ]
        },
        {
          "output_type": "stream",
          "name": "stdout",
          "text": [
            "Epoch [415/3000]: Train loss: 3.0565, Valid loss: 2.8977\n"
          ]
        },
        {
          "output_type": "stream",
          "name": "stderr",
          "text": [
            "Epoch [416/3000]: 100%|██████████| 9/9 [00:00<00:00, 92.25it/s, loss=2.64]\n"
          ]
        },
        {
          "output_type": "stream",
          "name": "stdout",
          "text": [
            "Epoch [416/3000]: Train loss: 3.5367, Valid loss: 6.4985\n"
          ]
        },
        {
          "output_type": "stream",
          "name": "stderr",
          "text": [
            "Epoch [417/3000]: 100%|██████████| 9/9 [00:00<00:00, 82.91it/s, loss=3.11]\n"
          ]
        },
        {
          "output_type": "stream",
          "name": "stdout",
          "text": [
            "Epoch [417/3000]: Train loss: 4.7057, Valid loss: 4.5070\n"
          ]
        },
        {
          "output_type": "stream",
          "name": "stderr",
          "text": [
            "Epoch [418/3000]: 100%|██████████| 9/9 [00:00<00:00, 85.77it/s, loss=2.95]\n"
          ]
        },
        {
          "output_type": "stream",
          "name": "stdout",
          "text": [
            "Epoch [418/3000]: Train loss: 3.1368, Valid loss: 2.5385\n"
          ]
        },
        {
          "output_type": "stream",
          "name": "stderr",
          "text": [
            "Epoch [419/3000]: 100%|██████████| 9/9 [00:00<00:00, 78.47it/s, loss=5.58]\n"
          ]
        },
        {
          "output_type": "stream",
          "name": "stdout",
          "text": [
            "Epoch [419/3000]: Train loss: 3.5836, Valid loss: 4.1490\n"
          ]
        },
        {
          "output_type": "stream",
          "name": "stderr",
          "text": [
            "Epoch [420/3000]: 100%|██████████| 9/9 [00:00<00:00, 87.13it/s, loss=6.59]\n"
          ]
        },
        {
          "output_type": "stream",
          "name": "stdout",
          "text": [
            "Epoch [420/3000]: Train loss: 7.2945, Valid loss: 7.9461\n"
          ]
        },
        {
          "output_type": "stream",
          "name": "stderr",
          "text": [
            "Epoch [421/3000]: 100%|██████████| 9/9 [00:00<00:00, 75.42it/s, loss=7.57]\n"
          ]
        },
        {
          "output_type": "stream",
          "name": "stdout",
          "text": [
            "Epoch [421/3000]: Train loss: 9.7838, Valid loss: 9.0926\n"
          ]
        },
        {
          "output_type": "stream",
          "name": "stderr",
          "text": [
            "Epoch [422/3000]: 100%|██████████| 9/9 [00:00<00:00, 79.20it/s, loss=4.29]\n"
          ]
        },
        {
          "output_type": "stream",
          "name": "stdout",
          "text": [
            "Epoch [422/3000]: Train loss: 8.6534, Valid loss: 13.6624\n"
          ]
        },
        {
          "output_type": "stream",
          "name": "stderr",
          "text": [
            "Epoch [423/3000]: 100%|██████████| 9/9 [00:00<00:00, 75.07it/s, loss=6.61]\n"
          ]
        },
        {
          "output_type": "stream",
          "name": "stdout",
          "text": [
            "Epoch [423/3000]: Train loss: 6.4982, Valid loss: 3.4814\n"
          ]
        },
        {
          "output_type": "stream",
          "name": "stderr",
          "text": [
            "Epoch [424/3000]: 100%|██████████| 9/9 [00:00<00:00, 85.87it/s, loss=4.79]\n"
          ]
        },
        {
          "output_type": "stream",
          "name": "stdout",
          "text": [
            "Epoch [424/3000]: Train loss: 4.1262, Valid loss: 5.7505\n"
          ]
        },
        {
          "output_type": "stream",
          "name": "stderr",
          "text": [
            "Epoch [425/3000]: 100%|██████████| 9/9 [00:00<00:00, 86.61it/s, loss=3.72]\n"
          ]
        },
        {
          "output_type": "stream",
          "name": "stdout",
          "text": [
            "Epoch [425/3000]: Train loss: 3.6347, Valid loss: 3.4201\n"
          ]
        },
        {
          "output_type": "stream",
          "name": "stderr",
          "text": [
            "Epoch [426/3000]: 100%|██████████| 9/9 [00:00<00:00, 90.78it/s, loss=3.26]\n"
          ]
        },
        {
          "output_type": "stream",
          "name": "stdout",
          "text": [
            "Epoch [426/3000]: Train loss: 3.0578, Valid loss: 2.5210\n"
          ]
        },
        {
          "output_type": "stream",
          "name": "stderr",
          "text": [
            "Epoch [427/3000]: 100%|██████████| 9/9 [00:00<00:00, 30.81it/s, loss=2.74]\n"
          ]
        },
        {
          "output_type": "stream",
          "name": "stdout",
          "text": [
            "Epoch [427/3000]: Train loss: 3.1902, Valid loss: 4.4117\n"
          ]
        },
        {
          "output_type": "stream",
          "name": "stderr",
          "text": [
            "Epoch [428/3000]: 100%|██████████| 9/9 [00:00<00:00, 100.98it/s, loss=3.13]\n"
          ]
        },
        {
          "output_type": "stream",
          "name": "stdout",
          "text": [
            "Epoch [428/3000]: Train loss: 3.3554, Valid loss: 3.0155\n"
          ]
        },
        {
          "output_type": "stream",
          "name": "stderr",
          "text": [
            "Epoch [429/3000]: 100%|██████████| 9/9 [00:00<00:00, 96.84it/s, loss=4.97]\n"
          ]
        },
        {
          "output_type": "stream",
          "name": "stdout",
          "text": [
            "Epoch [429/3000]: Train loss: 3.3362, Valid loss: 2.8366\n"
          ]
        },
        {
          "output_type": "stream",
          "name": "stderr",
          "text": [
            "Epoch [430/3000]: 100%|██████████| 9/9 [00:00<00:00, 95.42it/s, loss=3.59]\n"
          ]
        },
        {
          "output_type": "stream",
          "name": "stdout",
          "text": [
            "Epoch [430/3000]: Train loss: 3.0886, Valid loss: 2.8634\n"
          ]
        },
        {
          "output_type": "stream",
          "name": "stderr",
          "text": [
            "Epoch [431/3000]: 100%|██████████| 9/9 [00:00<00:00, 92.99it/s, loss=1.94]\n"
          ]
        },
        {
          "output_type": "stream",
          "name": "stdout",
          "text": [
            "Epoch [431/3000]: Train loss: 2.9112, Valid loss: 5.7716\n"
          ]
        },
        {
          "output_type": "stream",
          "name": "stderr",
          "text": [
            "Epoch [432/3000]: 100%|██████████| 9/9 [00:00<00:00, 82.09it/s, loss=4.89]\n"
          ]
        },
        {
          "output_type": "stream",
          "name": "stdout",
          "text": [
            "Epoch [432/3000]: Train loss: 3.7315, Valid loss: 3.2584\n"
          ]
        },
        {
          "output_type": "stream",
          "name": "stderr",
          "text": [
            "Epoch [433/3000]: 100%|██████████| 9/9 [00:00<00:00, 85.79it/s, loss=2.22]\n"
          ]
        },
        {
          "output_type": "stream",
          "name": "stdout",
          "text": [
            "Epoch [433/3000]: Train loss: 3.4225, Valid loss: 2.9989\n"
          ]
        },
        {
          "output_type": "stream",
          "name": "stderr",
          "text": [
            "Epoch [434/3000]: 100%|██████████| 9/9 [00:00<00:00, 83.99it/s, loss=3.83]\n"
          ]
        },
        {
          "output_type": "stream",
          "name": "stdout",
          "text": [
            "Epoch [434/3000]: Train loss: 2.9445, Valid loss: 3.1980\n"
          ]
        },
        {
          "output_type": "stream",
          "name": "stderr",
          "text": [
            "Epoch [435/3000]: 100%|██████████| 9/9 [00:00<00:00, 76.21it/s, loss=3.11]\n"
          ]
        },
        {
          "output_type": "stream",
          "name": "stdout",
          "text": [
            "Epoch [435/3000]: Train loss: 4.7376, Valid loss: 4.0600\n"
          ]
        },
        {
          "output_type": "stream",
          "name": "stderr",
          "text": [
            "Epoch [436/3000]: 100%|██████████| 9/9 [00:00<00:00, 70.12it/s, loss=3.3]\n"
          ]
        },
        {
          "output_type": "stream",
          "name": "stdout",
          "text": [
            "Epoch [436/3000]: Train loss: 3.1405, Valid loss: 6.3339\n"
          ]
        },
        {
          "output_type": "stream",
          "name": "stderr",
          "text": [
            "Epoch [437/3000]: 100%|██████████| 9/9 [00:00<00:00, 74.56it/s, loss=7.23]\n"
          ]
        },
        {
          "output_type": "stream",
          "name": "stdout",
          "text": [
            "Epoch [437/3000]: Train loss: 6.8387, Valid loss: 3.9810\n"
          ]
        },
        {
          "output_type": "stream",
          "name": "stderr",
          "text": [
            "Epoch [438/3000]: 100%|██████████| 9/9 [00:00<00:00, 103.42it/s, loss=6.22]\n"
          ]
        },
        {
          "output_type": "stream",
          "name": "stdout",
          "text": [
            "Epoch [438/3000]: Train loss: 4.4463, Valid loss: 2.9052\n"
          ]
        },
        {
          "output_type": "stream",
          "name": "stderr",
          "text": [
            "Epoch [439/3000]: 100%|██████████| 9/9 [00:00<00:00, 101.85it/s, loss=2.99]\n"
          ]
        },
        {
          "output_type": "stream",
          "name": "stdout",
          "text": [
            "Epoch [439/3000]: Train loss: 3.5113, Valid loss: 3.4428\n"
          ]
        },
        {
          "output_type": "stream",
          "name": "stderr",
          "text": [
            "Epoch [440/3000]: 100%|██████████| 9/9 [00:00<00:00, 91.79it/s, loss=2.31]\n"
          ]
        },
        {
          "output_type": "stream",
          "name": "stdout",
          "text": [
            "Epoch [440/3000]: Train loss: 2.7461, Valid loss: 2.4012\n"
          ]
        },
        {
          "output_type": "stream",
          "name": "stderr",
          "text": [
            "Epoch [441/3000]: 100%|██████████| 9/9 [00:00<00:00, 70.33it/s, loss=4.3]\n"
          ]
        },
        {
          "output_type": "stream",
          "name": "stdout",
          "text": [
            "Epoch [441/3000]: Train loss: 2.8547, Valid loss: 4.0141\n"
          ]
        },
        {
          "output_type": "stream",
          "name": "stderr",
          "text": [
            "Epoch [442/3000]: 100%|██████████| 9/9 [00:00<00:00, 75.72it/s, loss=2.81]\n"
          ]
        },
        {
          "output_type": "stream",
          "name": "stdout",
          "text": [
            "Epoch [442/3000]: Train loss: 2.8760, Valid loss: 2.5630\n"
          ]
        },
        {
          "output_type": "stream",
          "name": "stderr",
          "text": [
            "Epoch [443/3000]: 100%|██████████| 9/9 [00:00<00:00, 78.60it/s, loss=3.03]\n"
          ]
        },
        {
          "output_type": "stream",
          "name": "stdout",
          "text": [
            "Epoch [443/3000]: Train loss: 2.6121, Valid loss: 3.4837\n"
          ]
        },
        {
          "output_type": "stream",
          "name": "stderr",
          "text": [
            "Epoch [444/3000]: 100%|██████████| 9/9 [00:00<00:00, 79.81it/s, loss=2.32]\n"
          ]
        },
        {
          "output_type": "stream",
          "name": "stdout",
          "text": [
            "Epoch [444/3000]: Train loss: 2.6857, Valid loss: 3.5205\n"
          ]
        },
        {
          "output_type": "stream",
          "name": "stderr",
          "text": [
            "Epoch [445/3000]: 100%|██████████| 9/9 [00:00<00:00, 83.81it/s, loss=3.25]\n"
          ]
        },
        {
          "output_type": "stream",
          "name": "stdout",
          "text": [
            "Epoch [445/3000]: Train loss: 3.2338, Valid loss: 2.3839\n"
          ]
        },
        {
          "output_type": "stream",
          "name": "stderr",
          "text": [
            "Epoch [446/3000]: 100%|██████████| 9/9 [00:00<00:00, 70.92it/s, loss=2.09]\n"
          ]
        },
        {
          "output_type": "stream",
          "name": "stdout",
          "text": [
            "Epoch [446/3000]: Train loss: 2.6223, Valid loss: 2.4910\n"
          ]
        },
        {
          "output_type": "stream",
          "name": "stderr",
          "text": [
            "Epoch [447/3000]: 100%|██████████| 9/9 [00:00<00:00, 81.96it/s, loss=2.83]\n"
          ]
        },
        {
          "output_type": "stream",
          "name": "stdout",
          "text": [
            "Epoch [447/3000]: Train loss: 2.5500, Valid loss: 2.7873\n"
          ]
        },
        {
          "output_type": "stream",
          "name": "stderr",
          "text": [
            "Epoch [448/3000]: 100%|██████████| 9/9 [00:00<00:00, 84.93it/s, loss=2.75]\n"
          ]
        },
        {
          "output_type": "stream",
          "name": "stdout",
          "text": [
            "Epoch [448/3000]: Train loss: 2.5641, Valid loss: 2.8546\n"
          ]
        },
        {
          "output_type": "stream",
          "name": "stderr",
          "text": [
            "Epoch [449/3000]: 100%|██████████| 9/9 [00:00<00:00, 72.99it/s, loss=2.75]\n"
          ]
        },
        {
          "output_type": "stream",
          "name": "stdout",
          "text": [
            "Epoch [449/3000]: Train loss: 3.1814, Valid loss: 2.5863\n"
          ]
        },
        {
          "output_type": "stream",
          "name": "stderr",
          "text": [
            "Epoch [450/3000]: 100%|██████████| 9/9 [00:00<00:00, 82.76it/s, loss=2.69]\n"
          ]
        },
        {
          "output_type": "stream",
          "name": "stdout",
          "text": [
            "Epoch [450/3000]: Train loss: 2.8768, Valid loss: 3.8085\n"
          ]
        },
        {
          "output_type": "stream",
          "name": "stderr",
          "text": [
            "Epoch [451/3000]: 100%|██████████| 9/9 [00:00<00:00, 76.12it/s, loss=3.46]\n"
          ]
        },
        {
          "output_type": "stream",
          "name": "stdout",
          "text": [
            "Epoch [451/3000]: Train loss: 3.3718, Valid loss: 2.2657\n",
            "Saving model with loss 2.266...\n"
          ]
        },
        {
          "output_type": "stream",
          "name": "stderr",
          "text": [
            "Epoch [452/3000]: 100%|██████████| 9/9 [00:00<00:00, 77.27it/s, loss=2.35]\n"
          ]
        },
        {
          "output_type": "stream",
          "name": "stdout",
          "text": [
            "Epoch [452/3000]: Train loss: 2.5533, Valid loss: 2.4994\n"
          ]
        },
        {
          "output_type": "stream",
          "name": "stderr",
          "text": [
            "Epoch [453/3000]: 100%|██████████| 9/9 [00:00<00:00, 79.70it/s, loss=3.02]\n"
          ]
        },
        {
          "output_type": "stream",
          "name": "stdout",
          "text": [
            "Epoch [453/3000]: Train loss: 2.6841, Valid loss: 4.6000\n"
          ]
        },
        {
          "output_type": "stream",
          "name": "stderr",
          "text": [
            "Epoch [454/3000]: 100%|██████████| 9/9 [00:00<00:00, 83.36it/s, loss=2.44]\n"
          ]
        },
        {
          "output_type": "stream",
          "name": "stdout",
          "text": [
            "Epoch [454/3000]: Train loss: 3.0783, Valid loss: 2.2682\n"
          ]
        },
        {
          "output_type": "stream",
          "name": "stderr",
          "text": [
            "Epoch [455/3000]: 100%|██████████| 9/9 [00:00<00:00, 74.83it/s, loss=2.41]\n"
          ]
        },
        {
          "output_type": "stream",
          "name": "stdout",
          "text": [
            "Epoch [455/3000]: Train loss: 2.6196, Valid loss: 2.9087\n"
          ]
        },
        {
          "output_type": "stream",
          "name": "stderr",
          "text": [
            "Epoch [456/3000]: 100%|██████████| 9/9 [00:00<00:00, 84.75it/s, loss=3.16]\n"
          ]
        },
        {
          "output_type": "stream",
          "name": "stdout",
          "text": [
            "Epoch [456/3000]: Train loss: 2.5872, Valid loss: 2.5078\n"
          ]
        },
        {
          "output_type": "stream",
          "name": "stderr",
          "text": [
            "Epoch [457/3000]: 100%|██████████| 9/9 [00:00<00:00, 75.46it/s, loss=3.16]\n"
          ]
        },
        {
          "output_type": "stream",
          "name": "stdout",
          "text": [
            "Epoch [457/3000]: Train loss: 3.0023, Valid loss: 3.0531\n"
          ]
        },
        {
          "output_type": "stream",
          "name": "stderr",
          "text": [
            "Epoch [458/3000]: 100%|██████████| 9/9 [00:00<00:00, 76.23it/s, loss=3.16]\n"
          ]
        },
        {
          "output_type": "stream",
          "name": "stdout",
          "text": [
            "Epoch [458/3000]: Train loss: 3.9407, Valid loss: 5.0663\n"
          ]
        },
        {
          "output_type": "stream",
          "name": "stderr",
          "text": [
            "Epoch [459/3000]: 100%|██████████| 9/9 [00:00<00:00, 91.80it/s, loss=2.29]\n"
          ]
        },
        {
          "output_type": "stream",
          "name": "stdout",
          "text": [
            "Epoch [459/3000]: Train loss: 2.6574, Valid loss: 2.3974\n"
          ]
        },
        {
          "output_type": "stream",
          "name": "stderr",
          "text": [
            "Epoch [460/3000]: 100%|██████████| 9/9 [00:00<00:00, 91.33it/s, loss=1.89]\n"
          ]
        },
        {
          "output_type": "stream",
          "name": "stdout",
          "text": [
            "Epoch [460/3000]: Train loss: 2.4463, Valid loss: 3.1808\n"
          ]
        },
        {
          "output_type": "stream",
          "name": "stderr",
          "text": [
            "Epoch [461/3000]: 100%|██████████| 9/9 [00:00<00:00, 76.19it/s, loss=1.93]\n"
          ]
        },
        {
          "output_type": "stream",
          "name": "stdout",
          "text": [
            "Epoch [461/3000]: Train loss: 2.9044, Valid loss: 2.9009\n"
          ]
        },
        {
          "output_type": "stream",
          "name": "stderr",
          "text": [
            "Epoch [462/3000]: 100%|██████████| 9/9 [00:00<00:00, 75.00it/s, loss=2.78]\n"
          ]
        },
        {
          "output_type": "stream",
          "name": "stdout",
          "text": [
            "Epoch [462/3000]: Train loss: 2.6820, Valid loss: 2.3554\n"
          ]
        },
        {
          "output_type": "stream",
          "name": "stderr",
          "text": [
            "Epoch [463/3000]: 100%|██████████| 9/9 [00:00<00:00, 93.51it/s, loss=2.87]\n"
          ]
        },
        {
          "output_type": "stream",
          "name": "stdout",
          "text": [
            "Epoch [463/3000]: Train loss: 2.5131, Valid loss: 2.6812\n"
          ]
        },
        {
          "output_type": "stream",
          "name": "stderr",
          "text": [
            "Epoch [464/3000]: 100%|██████████| 9/9 [00:00<00:00, 86.43it/s, loss=1.87]\n"
          ]
        },
        {
          "output_type": "stream",
          "name": "stdout",
          "text": [
            "Epoch [464/3000]: Train loss: 2.5665, Valid loss: 3.6920\n"
          ]
        },
        {
          "output_type": "stream",
          "name": "stderr",
          "text": [
            "Epoch [465/3000]: 100%|██████████| 9/9 [00:00<00:00, 85.98it/s, loss=4.55]\n"
          ]
        },
        {
          "output_type": "stream",
          "name": "stdout",
          "text": [
            "Epoch [465/3000]: Train loss: 3.3191, Valid loss: 4.3673\n"
          ]
        },
        {
          "output_type": "stream",
          "name": "stderr",
          "text": [
            "Epoch [466/3000]: 100%|██████████| 9/9 [00:00<00:00, 93.39it/s, loss=3.49]\n"
          ]
        },
        {
          "output_type": "stream",
          "name": "stdout",
          "text": [
            "Epoch [466/3000]: Train loss: 3.0353, Valid loss: 2.6042\n"
          ]
        },
        {
          "output_type": "stream",
          "name": "stderr",
          "text": [
            "Epoch [467/3000]: 100%|██████████| 9/9 [00:00<00:00, 76.13it/s, loss=1.99]\n"
          ]
        },
        {
          "output_type": "stream",
          "name": "stdout",
          "text": [
            "Epoch [467/3000]: Train loss: 3.1104, Valid loss: 5.4196\n"
          ]
        },
        {
          "output_type": "stream",
          "name": "stderr",
          "text": [
            "Epoch [468/3000]: 100%|██████████| 9/9 [00:00<00:00, 82.74it/s, loss=3.13]\n"
          ]
        },
        {
          "output_type": "stream",
          "name": "stdout",
          "text": [
            "Epoch [468/3000]: Train loss: 3.4903, Valid loss: 3.1843\n"
          ]
        },
        {
          "output_type": "stream",
          "name": "stderr",
          "text": [
            "Epoch [469/3000]: 100%|██████████| 9/9 [00:00<00:00, 80.88it/s, loss=2.05]\n"
          ]
        },
        {
          "output_type": "stream",
          "name": "stdout",
          "text": [
            "Epoch [469/3000]: Train loss: 2.9087, Valid loss: 2.2026\n",
            "Saving model with loss 2.203...\n"
          ]
        },
        {
          "output_type": "stream",
          "name": "stderr",
          "text": [
            "Epoch [470/3000]: 100%|██████████| 9/9 [00:00<00:00, 65.19it/s, loss=2.8]\n"
          ]
        },
        {
          "output_type": "stream",
          "name": "stdout",
          "text": [
            "Epoch [470/3000]: Train loss: 2.4449, Valid loss: 3.1258\n"
          ]
        },
        {
          "output_type": "stream",
          "name": "stderr",
          "text": [
            "Epoch [471/3000]: 100%|██████████| 9/9 [00:00<00:00, 84.98it/s, loss=1.99]\n"
          ]
        },
        {
          "output_type": "stream",
          "name": "stdout",
          "text": [
            "Epoch [471/3000]: Train loss: 3.0016, Valid loss: 2.4402\n"
          ]
        },
        {
          "output_type": "stream",
          "name": "stderr",
          "text": [
            "Epoch [472/3000]: 100%|██████████| 9/9 [00:00<00:00, 83.50it/s, loss=3.25]\n"
          ]
        },
        {
          "output_type": "stream",
          "name": "stdout",
          "text": [
            "Epoch [472/3000]: Train loss: 2.6275, Valid loss: 2.8707\n"
          ]
        },
        {
          "output_type": "stream",
          "name": "stderr",
          "text": [
            "Epoch [473/3000]: 100%|██████████| 9/9 [00:00<00:00, 90.61it/s, loss=2.75]\n"
          ]
        },
        {
          "output_type": "stream",
          "name": "stdout",
          "text": [
            "Epoch [473/3000]: Train loss: 2.4667, Valid loss: 4.3807\n"
          ]
        },
        {
          "output_type": "stream",
          "name": "stderr",
          "text": [
            "Epoch [474/3000]: 100%|██████████| 9/9 [00:00<00:00, 82.75it/s, loss=3.81]\n"
          ]
        },
        {
          "output_type": "stream",
          "name": "stdout",
          "text": [
            "Epoch [474/3000]: Train loss: 2.6445, Valid loss: 3.5018\n"
          ]
        },
        {
          "output_type": "stream",
          "name": "stderr",
          "text": [
            "Epoch [475/3000]: 100%|██████████| 9/9 [00:00<00:00, 99.88it/s, loss=3.12]\n"
          ]
        },
        {
          "output_type": "stream",
          "name": "stdout",
          "text": [
            "Epoch [475/3000]: Train loss: 3.4930, Valid loss: 3.2811\n"
          ]
        },
        {
          "output_type": "stream",
          "name": "stderr",
          "text": [
            "Epoch [476/3000]: 100%|██████████| 9/9 [00:00<00:00, 84.44it/s, loss=3.31]\n"
          ]
        },
        {
          "output_type": "stream",
          "name": "stdout",
          "text": [
            "Epoch [476/3000]: Train loss: 2.6079, Valid loss: 2.6721\n"
          ]
        },
        {
          "output_type": "stream",
          "name": "stderr",
          "text": [
            "Epoch [477/3000]: 100%|██████████| 9/9 [00:00<00:00, 94.69it/s, loss=3.86]\n"
          ]
        },
        {
          "output_type": "stream",
          "name": "stdout",
          "text": [
            "Epoch [477/3000]: Train loss: 2.9418, Valid loss: 2.8649\n"
          ]
        },
        {
          "output_type": "stream",
          "name": "stderr",
          "text": [
            "Epoch [478/3000]: 100%|██████████| 9/9 [00:00<00:00, 94.33it/s, loss=2.57]\n"
          ]
        },
        {
          "output_type": "stream",
          "name": "stdout",
          "text": [
            "Epoch [478/3000]: Train loss: 2.5319, Valid loss: 2.9696\n"
          ]
        },
        {
          "output_type": "stream",
          "name": "stderr",
          "text": [
            "Epoch [479/3000]: 100%|██████████| 9/9 [00:00<00:00, 57.98it/s, loss=2.32]\n"
          ]
        },
        {
          "output_type": "stream",
          "name": "stdout",
          "text": [
            "Epoch [479/3000]: Train loss: 2.3926, Valid loss: 2.2828\n"
          ]
        },
        {
          "output_type": "stream",
          "name": "stderr",
          "text": [
            "Epoch [480/3000]: 100%|██████████| 9/9 [00:00<00:00, 32.73it/s, loss=2.54]\n"
          ]
        },
        {
          "output_type": "stream",
          "name": "stdout",
          "text": [
            "Epoch [480/3000]: Train loss: 2.4849, Valid loss: 3.1369\n"
          ]
        },
        {
          "output_type": "stream",
          "name": "stderr",
          "text": [
            "Epoch [481/3000]: 100%|██████████| 9/9 [00:00<00:00, 26.66it/s, loss=2.65]\n"
          ]
        },
        {
          "output_type": "stream",
          "name": "stdout",
          "text": [
            "Epoch [481/3000]: Train loss: 3.1436, Valid loss: 4.4983\n"
          ]
        },
        {
          "output_type": "stream",
          "name": "stderr",
          "text": [
            "Epoch [482/3000]: 100%|██████████| 9/9 [00:00<00:00, 76.22it/s, loss=2.7]\n"
          ]
        },
        {
          "output_type": "stream",
          "name": "stdout",
          "text": [
            "Epoch [482/3000]: Train loss: 2.8134, Valid loss: 2.6143\n"
          ]
        },
        {
          "output_type": "stream",
          "name": "stderr",
          "text": [
            "Epoch [483/3000]: 100%|██████████| 9/9 [00:00<00:00, 77.59it/s, loss=2.16]\n"
          ]
        },
        {
          "output_type": "stream",
          "name": "stdout",
          "text": [
            "Epoch [483/3000]: Train loss: 2.7179, Valid loss: 3.0479\n"
          ]
        },
        {
          "output_type": "stream",
          "name": "stderr",
          "text": [
            "Epoch [484/3000]: 100%|██████████| 9/9 [00:00<00:00, 82.88it/s, loss=2.48]\n"
          ]
        },
        {
          "output_type": "stream",
          "name": "stdout",
          "text": [
            "Epoch [484/3000]: Train loss: 2.5529, Valid loss: 2.7505\n"
          ]
        },
        {
          "output_type": "stream",
          "name": "stderr",
          "text": [
            "Epoch [485/3000]: 100%|██████████| 9/9 [00:00<00:00, 25.54it/s, loss=2.7]\n"
          ]
        },
        {
          "output_type": "stream",
          "name": "stdout",
          "text": [
            "Epoch [485/3000]: Train loss: 2.4631, Valid loss: 2.5675\n"
          ]
        },
        {
          "output_type": "stream",
          "name": "stderr",
          "text": [
            "Epoch [486/3000]: 100%|██████████| 9/9 [00:00<00:00, 26.99it/s, loss=2.96]\n"
          ]
        },
        {
          "output_type": "stream",
          "name": "stdout",
          "text": [
            "Epoch [486/3000]: Train loss: 2.5650, Valid loss: 2.6683\n"
          ]
        },
        {
          "output_type": "stream",
          "name": "stderr",
          "text": [
            "Epoch [487/3000]: 100%|██████████| 9/9 [00:00<00:00, 43.12it/s, loss=7.63]\n"
          ]
        },
        {
          "output_type": "stream",
          "name": "stdout",
          "text": [
            "Epoch [487/3000]: Train loss: 3.5135, Valid loss: 12.7937\n"
          ]
        },
        {
          "output_type": "stream",
          "name": "stderr",
          "text": [
            "Epoch [488/3000]: 100%|██████████| 9/9 [00:00<00:00, 65.77it/s, loss=4.72]\n"
          ]
        },
        {
          "output_type": "stream",
          "name": "stdout",
          "text": [
            "Epoch [488/3000]: Train loss: 5.8556, Valid loss: 2.8951\n"
          ]
        },
        {
          "output_type": "stream",
          "name": "stderr",
          "text": [
            "Epoch [489/3000]: 100%|██████████| 9/9 [00:00<00:00, 84.72it/s, loss=2.26]\n"
          ]
        },
        {
          "output_type": "stream",
          "name": "stdout",
          "text": [
            "Epoch [489/3000]: Train loss: 2.7042, Valid loss: 3.1004\n"
          ]
        },
        {
          "output_type": "stream",
          "name": "stderr",
          "text": [
            "Epoch [490/3000]: 100%|██████████| 9/9 [00:00<00:00, 38.87it/s, loss=2.91]\n"
          ]
        },
        {
          "output_type": "stream",
          "name": "stdout",
          "text": [
            "Epoch [490/3000]: Train loss: 2.7922, Valid loss: 2.5991\n"
          ]
        },
        {
          "output_type": "stream",
          "name": "stderr",
          "text": [
            "Epoch [491/3000]: 100%|██████████| 9/9 [00:00<00:00, 25.71it/s, loss=4.33]\n"
          ]
        },
        {
          "output_type": "stream",
          "name": "stdout",
          "text": [
            "Epoch [491/3000]: Train loss: 3.4452, Valid loss: 2.1881\n",
            "Saving model with loss 2.188...\n"
          ]
        },
        {
          "output_type": "stream",
          "name": "stderr",
          "text": [
            "Epoch [492/3000]: 100%|██████████| 9/9 [00:00<00:00, 43.96it/s, loss=3.46]\n"
          ]
        },
        {
          "output_type": "stream",
          "name": "stdout",
          "text": [
            "Epoch [492/3000]: Train loss: 3.7142, Valid loss: 2.7302\n"
          ]
        },
        {
          "output_type": "stream",
          "name": "stderr",
          "text": [
            "Epoch [493/3000]: 100%|██████████| 9/9 [00:00<00:00, 83.31it/s, loss=2.41]\n"
          ]
        },
        {
          "output_type": "stream",
          "name": "stdout",
          "text": [
            "Epoch [493/3000]: Train loss: 2.4222, Valid loss: 3.7926\n"
          ]
        },
        {
          "output_type": "stream",
          "name": "stderr",
          "text": [
            "Epoch [494/3000]: 100%|██████████| 9/9 [00:00<00:00, 93.56it/s, loss=1.98]\n"
          ]
        },
        {
          "output_type": "stream",
          "name": "stdout",
          "text": [
            "Epoch [494/3000]: Train loss: 2.6205, Valid loss: 2.4950\n"
          ]
        },
        {
          "output_type": "stream",
          "name": "stderr",
          "text": [
            "Epoch [495/3000]: 100%|██████████| 9/9 [00:00<00:00, 76.63it/s, loss=3.09]\n"
          ]
        },
        {
          "output_type": "stream",
          "name": "stdout",
          "text": [
            "Epoch [495/3000]: Train loss: 2.9130, Valid loss: 2.6595\n"
          ]
        },
        {
          "output_type": "stream",
          "name": "stderr",
          "text": [
            "Epoch [496/3000]: 100%|██████████| 9/9 [00:00<00:00, 84.38it/s, loss=2.67]\n"
          ]
        },
        {
          "output_type": "stream",
          "name": "stdout",
          "text": [
            "Epoch [496/3000]: Train loss: 2.8835, Valid loss: 3.7974\n"
          ]
        },
        {
          "output_type": "stream",
          "name": "stderr",
          "text": [
            "Epoch [497/3000]: 100%|██████████| 9/9 [00:00<00:00, 95.95it/s, loss=2.85]\n"
          ]
        },
        {
          "output_type": "stream",
          "name": "stdout",
          "text": [
            "Epoch [497/3000]: Train loss: 2.9608, Valid loss: 3.0914\n"
          ]
        },
        {
          "output_type": "stream",
          "name": "stderr",
          "text": [
            "Epoch [498/3000]: 100%|██████████| 9/9 [00:00<00:00, 96.30it/s, loss=2.57]\n"
          ]
        },
        {
          "output_type": "stream",
          "name": "stdout",
          "text": [
            "Epoch [498/3000]: Train loss: 3.5106, Valid loss: 3.0821\n"
          ]
        },
        {
          "output_type": "stream",
          "name": "stderr",
          "text": [
            "Epoch [499/3000]: 100%|██████████| 9/9 [00:00<00:00, 85.83it/s, loss=1.66]\n"
          ]
        },
        {
          "output_type": "stream",
          "name": "stdout",
          "text": [
            "Epoch [499/3000]: Train loss: 2.6130, Valid loss: 2.3542\n"
          ]
        },
        {
          "output_type": "stream",
          "name": "stderr",
          "text": [
            "Epoch [500/3000]: 100%|██████████| 9/9 [00:00<00:00, 100.83it/s, loss=3.21]\n"
          ]
        },
        {
          "output_type": "stream",
          "name": "stdout",
          "text": [
            "Epoch [500/3000]: Train loss: 2.5831, Valid loss: 3.0960\n"
          ]
        },
        {
          "output_type": "stream",
          "name": "stderr",
          "text": [
            "Epoch [501/3000]: 100%|██████████| 9/9 [00:00<00:00, 73.91it/s, loss=2.25]\n"
          ]
        },
        {
          "output_type": "stream",
          "name": "stdout",
          "text": [
            "Epoch [501/3000]: Train loss: 2.7657, Valid loss: 2.0236\n",
            "Saving model with loss 2.024...\n"
          ]
        },
        {
          "output_type": "stream",
          "name": "stderr",
          "text": [
            "Epoch [502/3000]: 100%|██████████| 9/9 [00:00<00:00, 75.58it/s, loss=4.23]\n"
          ]
        },
        {
          "output_type": "stream",
          "name": "stdout",
          "text": [
            "Epoch [502/3000]: Train loss: 3.8087, Valid loss: 5.7615\n"
          ]
        },
        {
          "output_type": "stream",
          "name": "stderr",
          "text": [
            "Epoch [503/3000]: 100%|██████████| 9/9 [00:00<00:00, 94.96it/s, loss=4.12]\n"
          ]
        },
        {
          "output_type": "stream",
          "name": "stdout",
          "text": [
            "Epoch [503/3000]: Train loss: 3.6371, Valid loss: 3.7004\n"
          ]
        },
        {
          "output_type": "stream",
          "name": "stderr",
          "text": [
            "Epoch [504/3000]: 100%|██████████| 9/9 [00:00<00:00, 86.39it/s, loss=2.14]\n"
          ]
        },
        {
          "output_type": "stream",
          "name": "stdout",
          "text": [
            "Epoch [504/3000]: Train loss: 2.7272, Valid loss: 2.2424\n"
          ]
        },
        {
          "output_type": "stream",
          "name": "stderr",
          "text": [
            "Epoch [505/3000]: 100%|██████████| 9/9 [00:00<00:00, 95.25it/s, loss=2.1]\n"
          ]
        },
        {
          "output_type": "stream",
          "name": "stdout",
          "text": [
            "Epoch [505/3000]: Train loss: 2.3132, Valid loss: 5.1341\n"
          ]
        },
        {
          "output_type": "stream",
          "name": "stderr",
          "text": [
            "Epoch [506/3000]: 100%|██████████| 9/9 [00:00<00:00, 94.54it/s, loss=2.16]\n"
          ]
        },
        {
          "output_type": "stream",
          "name": "stdout",
          "text": [
            "Epoch [506/3000]: Train loss: 2.8177, Valid loss: 4.3139\n"
          ]
        },
        {
          "output_type": "stream",
          "name": "stderr",
          "text": [
            "Epoch [507/3000]: 100%|██████████| 9/9 [00:00<00:00, 94.64it/s, loss=3.22]\n"
          ]
        },
        {
          "output_type": "stream",
          "name": "stdout",
          "text": [
            "Epoch [507/3000]: Train loss: 2.8701, Valid loss: 3.0193\n"
          ]
        },
        {
          "output_type": "stream",
          "name": "stderr",
          "text": [
            "Epoch [508/3000]: 100%|██████████| 9/9 [00:00<00:00, 31.25it/s, loss=2.58]\n"
          ]
        },
        {
          "output_type": "stream",
          "name": "stdout",
          "text": [
            "Epoch [508/3000]: Train loss: 2.5912, Valid loss: 2.6018\n"
          ]
        },
        {
          "output_type": "stream",
          "name": "stderr",
          "text": [
            "Epoch [509/3000]: 100%|██████████| 9/9 [00:00<00:00, 103.84it/s, loss=2.51]\n"
          ]
        },
        {
          "output_type": "stream",
          "name": "stdout",
          "text": [
            "Epoch [509/3000]: Train loss: 2.5063, Valid loss: 2.4309\n"
          ]
        },
        {
          "output_type": "stream",
          "name": "stderr",
          "text": [
            "Epoch [510/3000]: 100%|██████████| 9/9 [00:00<00:00, 99.03it/s, loss=2.64]\n"
          ]
        },
        {
          "output_type": "stream",
          "name": "stdout",
          "text": [
            "Epoch [510/3000]: Train loss: 2.3569, Valid loss: 3.1123\n"
          ]
        },
        {
          "output_type": "stream",
          "name": "stderr",
          "text": [
            "Epoch [511/3000]: 100%|██████████| 9/9 [00:00<00:00, 98.45it/s, loss=2.81]\n"
          ]
        },
        {
          "output_type": "stream",
          "name": "stdout",
          "text": [
            "Epoch [511/3000]: Train loss: 2.7835, Valid loss: 4.1474\n"
          ]
        },
        {
          "output_type": "stream",
          "name": "stderr",
          "text": [
            "Epoch [512/3000]: 100%|██████████| 9/9 [00:00<00:00, 101.02it/s, loss=2.25]\n"
          ]
        },
        {
          "output_type": "stream",
          "name": "stdout",
          "text": [
            "Epoch [512/3000]: Train loss: 2.5744, Valid loss: 2.4015\n"
          ]
        },
        {
          "output_type": "stream",
          "name": "stderr",
          "text": [
            "Epoch [513/3000]: 100%|██████████| 9/9 [00:00<00:00, 101.39it/s, loss=3.24]\n"
          ]
        },
        {
          "output_type": "stream",
          "name": "stdout",
          "text": [
            "Epoch [513/3000]: Train loss: 2.8057, Valid loss: 4.1827\n"
          ]
        },
        {
          "output_type": "stream",
          "name": "stderr",
          "text": [
            "Epoch [514/3000]: 100%|██████████| 9/9 [00:00<00:00, 100.02it/s, loss=2.02]\n"
          ]
        },
        {
          "output_type": "stream",
          "name": "stdout",
          "text": [
            "Epoch [514/3000]: Train loss: 3.5565, Valid loss: 3.7459\n"
          ]
        },
        {
          "output_type": "stream",
          "name": "stderr",
          "text": [
            "Epoch [515/3000]: 100%|██████████| 9/9 [00:00<00:00, 80.96it/s, loss=4.16]\n"
          ]
        },
        {
          "output_type": "stream",
          "name": "stdout",
          "text": [
            "Epoch [515/3000]: Train loss: 3.6713, Valid loss: 3.0093\n"
          ]
        },
        {
          "output_type": "stream",
          "name": "stderr",
          "text": [
            "Epoch [516/3000]: 100%|██████████| 9/9 [00:00<00:00, 82.20it/s, loss=4.49]\n"
          ]
        },
        {
          "output_type": "stream",
          "name": "stdout",
          "text": [
            "Epoch [516/3000]: Train loss: 3.8464, Valid loss: 2.5236\n"
          ]
        },
        {
          "output_type": "stream",
          "name": "stderr",
          "text": [
            "Epoch [517/3000]: 100%|██████████| 9/9 [00:00<00:00, 75.32it/s, loss=2.19]\n"
          ]
        },
        {
          "output_type": "stream",
          "name": "stdout",
          "text": [
            "Epoch [517/3000]: Train loss: 2.8090, Valid loss: 2.5821\n"
          ]
        },
        {
          "output_type": "stream",
          "name": "stderr",
          "text": [
            "Epoch [518/3000]: 100%|██████████| 9/9 [00:00<00:00, 86.00it/s, loss=2.4]\n"
          ]
        },
        {
          "output_type": "stream",
          "name": "stdout",
          "text": [
            "Epoch [518/3000]: Train loss: 3.1136, Valid loss: 2.4577\n"
          ]
        },
        {
          "output_type": "stream",
          "name": "stderr",
          "text": [
            "Epoch [519/3000]: 100%|██████████| 9/9 [00:00<00:00, 82.16it/s, loss=1.8]\n"
          ]
        },
        {
          "output_type": "stream",
          "name": "stdout",
          "text": [
            "Epoch [519/3000]: Train loss: 2.3502, Valid loss: 2.3480\n"
          ]
        },
        {
          "output_type": "stream",
          "name": "stderr",
          "text": [
            "Epoch [520/3000]: 100%|██████████| 9/9 [00:00<00:00, 84.09it/s, loss=2.62]\n"
          ]
        },
        {
          "output_type": "stream",
          "name": "stdout",
          "text": [
            "Epoch [520/3000]: Train loss: 2.6203, Valid loss: 3.1046\n"
          ]
        },
        {
          "output_type": "stream",
          "name": "stderr",
          "text": [
            "Epoch [521/3000]: 100%|██████████| 9/9 [00:00<00:00, 84.98it/s, loss=2.52]\n"
          ]
        },
        {
          "output_type": "stream",
          "name": "stdout",
          "text": [
            "Epoch [521/3000]: Train loss: 2.5967, Valid loss: 3.2642\n"
          ]
        },
        {
          "output_type": "stream",
          "name": "stderr",
          "text": [
            "Epoch [522/3000]: 100%|██████████| 9/9 [00:00<00:00, 81.06it/s, loss=3.56]\n"
          ]
        },
        {
          "output_type": "stream",
          "name": "stdout",
          "text": [
            "Epoch [522/3000]: Train loss: 2.7627, Valid loss: 4.5831\n"
          ]
        },
        {
          "output_type": "stream",
          "name": "stderr",
          "text": [
            "Epoch [523/3000]: 100%|██████████| 9/9 [00:00<00:00, 92.19it/s, loss=2.67]\n"
          ]
        },
        {
          "output_type": "stream",
          "name": "stdout",
          "text": [
            "Epoch [523/3000]: Train loss: 3.1940, Valid loss: 2.1843\n"
          ]
        },
        {
          "output_type": "stream",
          "name": "stderr",
          "text": [
            "Epoch [524/3000]: 100%|██████████| 9/9 [00:00<00:00, 89.91it/s, loss=2.9]\n"
          ]
        },
        {
          "output_type": "stream",
          "name": "stdout",
          "text": [
            "Epoch [524/3000]: Train loss: 2.3771, Valid loss: 6.0662\n"
          ]
        },
        {
          "output_type": "stream",
          "name": "stderr",
          "text": [
            "Epoch [525/3000]: 100%|██████████| 9/9 [00:00<00:00, 79.13it/s, loss=8.87]\n"
          ]
        },
        {
          "output_type": "stream",
          "name": "stdout",
          "text": [
            "Epoch [525/3000]: Train loss: 7.5726, Valid loss: 8.6743\n"
          ]
        },
        {
          "output_type": "stream",
          "name": "stderr",
          "text": [
            "Epoch [526/3000]: 100%|██████████| 9/9 [00:00<00:00, 67.49it/s, loss=7.06]\n"
          ]
        },
        {
          "output_type": "stream",
          "name": "stdout",
          "text": [
            "Epoch [526/3000]: Train loss: 6.0032, Valid loss: 5.8777\n"
          ]
        },
        {
          "output_type": "stream",
          "name": "stderr",
          "text": [
            "Epoch [527/3000]: 100%|██████████| 9/9 [00:00<00:00, 91.55it/s, loss=2.65]\n"
          ]
        },
        {
          "output_type": "stream",
          "name": "stdout",
          "text": [
            "Epoch [527/3000]: Train loss: 4.7861, Valid loss: 6.0426\n"
          ]
        },
        {
          "output_type": "stream",
          "name": "stderr",
          "text": [
            "Epoch [528/3000]: 100%|██████████| 9/9 [00:00<00:00, 85.31it/s, loss=3.77]\n"
          ]
        },
        {
          "output_type": "stream",
          "name": "stdout",
          "text": [
            "Epoch [528/3000]: Train loss: 3.8823, Valid loss: 4.5145\n"
          ]
        },
        {
          "output_type": "stream",
          "name": "stderr",
          "text": [
            "Epoch [529/3000]: 100%|██████████| 9/9 [00:00<00:00, 99.28it/s, loss=4.38]\n"
          ]
        },
        {
          "output_type": "stream",
          "name": "stdout",
          "text": [
            "Epoch [529/3000]: Train loss: 3.2913, Valid loss: 3.4748\n"
          ]
        },
        {
          "output_type": "stream",
          "name": "stderr",
          "text": [
            "Epoch [530/3000]: 100%|██████████| 9/9 [00:00<00:00, 99.79it/s, loss=2.49]\n"
          ]
        },
        {
          "output_type": "stream",
          "name": "stdout",
          "text": [
            "Epoch [530/3000]: Train loss: 3.1092, Valid loss: 3.0008\n"
          ]
        },
        {
          "output_type": "stream",
          "name": "stderr",
          "text": [
            "Epoch [531/3000]: 100%|██████████| 9/9 [00:00<00:00, 78.98it/s, loss=3.7]\n"
          ]
        },
        {
          "output_type": "stream",
          "name": "stdout",
          "text": [
            "Epoch [531/3000]: Train loss: 2.8346, Valid loss: 5.2005\n"
          ]
        },
        {
          "output_type": "stream",
          "name": "stderr",
          "text": [
            "Epoch [532/3000]: 100%|██████████| 9/9 [00:00<00:00, 82.08it/s, loss=2.96]\n"
          ]
        },
        {
          "output_type": "stream",
          "name": "stdout",
          "text": [
            "Epoch [532/3000]: Train loss: 3.5591, Valid loss: 2.2378\n"
          ]
        },
        {
          "output_type": "stream",
          "name": "stderr",
          "text": [
            "Epoch [533/3000]: 100%|██████████| 9/9 [00:00<00:00, 78.92it/s, loss=3.43]\n"
          ]
        },
        {
          "output_type": "stream",
          "name": "stdout",
          "text": [
            "Epoch [533/3000]: Train loss: 3.2358, Valid loss: 6.6763\n"
          ]
        },
        {
          "output_type": "stream",
          "name": "stderr",
          "text": [
            "Epoch [534/3000]: 100%|██████████| 9/9 [00:00<00:00, 92.38it/s, loss=2.43]\n"
          ]
        },
        {
          "output_type": "stream",
          "name": "stdout",
          "text": [
            "Epoch [534/3000]: Train loss: 3.2221, Valid loss: 3.3324\n"
          ]
        },
        {
          "output_type": "stream",
          "name": "stderr",
          "text": [
            "Epoch [535/3000]: 100%|██████████| 9/9 [00:00<00:00, 92.01it/s, loss=3.67]\n"
          ]
        },
        {
          "output_type": "stream",
          "name": "stdout",
          "text": [
            "Epoch [535/3000]: Train loss: 3.8104, Valid loss: 3.3713\n"
          ]
        },
        {
          "output_type": "stream",
          "name": "stderr",
          "text": [
            "Epoch [536/3000]: 100%|██████████| 9/9 [00:00<00:00, 76.84it/s, loss=2.59]\n"
          ]
        },
        {
          "output_type": "stream",
          "name": "stdout",
          "text": [
            "Epoch [536/3000]: Train loss: 2.6213, Valid loss: 3.4646\n"
          ]
        },
        {
          "output_type": "stream",
          "name": "stderr",
          "text": [
            "Epoch [537/3000]: 100%|██████████| 9/9 [00:00<00:00, 76.16it/s, loss=2.98]\n"
          ]
        },
        {
          "output_type": "stream",
          "name": "stdout",
          "text": [
            "Epoch [537/3000]: Train loss: 2.5302, Valid loss: 2.1455\n"
          ]
        },
        {
          "output_type": "stream",
          "name": "stderr",
          "text": [
            "Epoch [538/3000]: 100%|██████████| 9/9 [00:00<00:00, 78.15it/s, loss=2.59]\n"
          ]
        },
        {
          "output_type": "stream",
          "name": "stdout",
          "text": [
            "Epoch [538/3000]: Train loss: 2.5025, Valid loss: 2.1652\n"
          ]
        },
        {
          "output_type": "stream",
          "name": "stderr",
          "text": [
            "Epoch [539/3000]: 100%|██████████| 9/9 [00:00<00:00, 83.12it/s, loss=1.91]\n"
          ]
        },
        {
          "output_type": "stream",
          "name": "stdout",
          "text": [
            "Epoch [539/3000]: Train loss: 2.2519, Valid loss: 2.5045\n"
          ]
        },
        {
          "output_type": "stream",
          "name": "stderr",
          "text": [
            "Epoch [540/3000]: 100%|██████████| 9/9 [00:00<00:00, 92.00it/s, loss=2.99]\n"
          ]
        },
        {
          "output_type": "stream",
          "name": "stdout",
          "text": [
            "Epoch [540/3000]: Train loss: 2.5393, Valid loss: 2.7191\n"
          ]
        },
        {
          "output_type": "stream",
          "name": "stderr",
          "text": [
            "Epoch [541/3000]: 100%|██████████| 9/9 [00:00<00:00, 83.51it/s, loss=5.01]\n"
          ]
        },
        {
          "output_type": "stream",
          "name": "stdout",
          "text": [
            "Epoch [541/3000]: Train loss: 3.3325, Valid loss: 2.5974\n"
          ]
        },
        {
          "output_type": "stream",
          "name": "stderr",
          "text": [
            "Epoch [542/3000]: 100%|██████████| 9/9 [00:00<00:00, 71.38it/s, loss=2.12]\n"
          ]
        },
        {
          "output_type": "stream",
          "name": "stdout",
          "text": [
            "Epoch [542/3000]: Train loss: 3.1489, Valid loss: 3.1521\n"
          ]
        },
        {
          "output_type": "stream",
          "name": "stderr",
          "text": [
            "Epoch [543/3000]: 100%|██████████| 9/9 [00:00<00:00, 84.52it/s, loss=2.24]\n"
          ]
        },
        {
          "output_type": "stream",
          "name": "stdout",
          "text": [
            "Epoch [543/3000]: Train loss: 2.5822, Valid loss: 2.6455\n"
          ]
        },
        {
          "output_type": "stream",
          "name": "stderr",
          "text": [
            "Epoch [544/3000]: 100%|██████████| 9/9 [00:00<00:00, 90.99it/s, loss=3]\n"
          ]
        },
        {
          "output_type": "stream",
          "name": "stdout",
          "text": [
            "Epoch [544/3000]: Train loss: 2.6063, Valid loss: 2.1542\n"
          ]
        },
        {
          "output_type": "stream",
          "name": "stderr",
          "text": [
            "Epoch [545/3000]: 100%|██████████| 9/9 [00:00<00:00, 98.28it/s, loss=2]\n"
          ]
        },
        {
          "output_type": "stream",
          "name": "stdout",
          "text": [
            "Epoch [545/3000]: Train loss: 2.4566, Valid loss: 2.9115\n"
          ]
        },
        {
          "output_type": "stream",
          "name": "stderr",
          "text": [
            "Epoch [546/3000]: 100%|██████████| 9/9 [00:00<00:00, 78.83it/s, loss=7.06]\n"
          ]
        },
        {
          "output_type": "stream",
          "name": "stdout",
          "text": [
            "Epoch [546/3000]: Train loss: 3.5478, Valid loss: 5.3384\n"
          ]
        },
        {
          "output_type": "stream",
          "name": "stderr",
          "text": [
            "Epoch [547/3000]: 100%|██████████| 9/9 [00:00<00:00, 76.13it/s, loss=1.98]\n"
          ]
        },
        {
          "output_type": "stream",
          "name": "stdout",
          "text": [
            "Epoch [547/3000]: Train loss: 4.8739, Valid loss: 4.2502\n"
          ]
        },
        {
          "output_type": "stream",
          "name": "stderr",
          "text": [
            "Epoch [548/3000]: 100%|██████████| 9/9 [00:00<00:00, 86.38it/s, loss=2.19]\n"
          ]
        },
        {
          "output_type": "stream",
          "name": "stdout",
          "text": [
            "Epoch [548/3000]: Train loss: 2.7967, Valid loss: 2.4756\n"
          ]
        },
        {
          "output_type": "stream",
          "name": "stderr",
          "text": [
            "Epoch [549/3000]: 100%|██████████| 9/9 [00:00<00:00, 84.83it/s, loss=2.68]\n"
          ]
        },
        {
          "output_type": "stream",
          "name": "stdout",
          "text": [
            "Epoch [549/3000]: Train loss: 2.5234, Valid loss: 2.5773\n"
          ]
        },
        {
          "output_type": "stream",
          "name": "stderr",
          "text": [
            "Epoch [550/3000]: 100%|██████████| 9/9 [00:00<00:00, 95.15it/s, loss=2.28]\n"
          ]
        },
        {
          "output_type": "stream",
          "name": "stdout",
          "text": [
            "Epoch [550/3000]: Train loss: 2.2962, Valid loss: 2.4551\n"
          ]
        },
        {
          "output_type": "stream",
          "name": "stderr",
          "text": [
            "Epoch [551/3000]: 100%|██████████| 9/9 [00:00<00:00, 96.09it/s, loss=2.61]\n"
          ]
        },
        {
          "output_type": "stream",
          "name": "stdout",
          "text": [
            "Epoch [551/3000]: Train loss: 2.8768, Valid loss: 2.4721\n"
          ]
        },
        {
          "output_type": "stream",
          "name": "stderr",
          "text": [
            "Epoch [552/3000]: 100%|██████████| 9/9 [00:00<00:00, 96.64it/s, loss=2.84]\n"
          ]
        },
        {
          "output_type": "stream",
          "name": "stdout",
          "text": [
            "Epoch [552/3000]: Train loss: 3.2098, Valid loss: 6.1867\n"
          ]
        },
        {
          "output_type": "stream",
          "name": "stderr",
          "text": [
            "Epoch [553/3000]: 100%|██████████| 9/9 [00:00<00:00, 94.77it/s, loss=2.94]\n"
          ]
        },
        {
          "output_type": "stream",
          "name": "stdout",
          "text": [
            "Epoch [553/3000]: Train loss: 3.4704, Valid loss: 2.2285\n"
          ]
        },
        {
          "output_type": "stream",
          "name": "stderr",
          "text": [
            "Epoch [554/3000]: 100%|██████████| 9/9 [00:00<00:00, 74.60it/s, loss=2.98]\n"
          ]
        },
        {
          "output_type": "stream",
          "name": "stdout",
          "text": [
            "Epoch [554/3000]: Train loss: 2.3139, Valid loss: 2.7732\n"
          ]
        },
        {
          "output_type": "stream",
          "name": "stderr",
          "text": [
            "Epoch [555/3000]: 100%|██████████| 9/9 [00:00<00:00, 94.03it/s, loss=3.61]\n"
          ]
        },
        {
          "output_type": "stream",
          "name": "stdout",
          "text": [
            "Epoch [555/3000]: Train loss: 2.7826, Valid loss: 2.7185\n"
          ]
        },
        {
          "output_type": "stream",
          "name": "stderr",
          "text": [
            "Epoch [556/3000]: 100%|██████████| 9/9 [00:00<00:00, 83.32it/s, loss=2.73]\n"
          ]
        },
        {
          "output_type": "stream",
          "name": "stdout",
          "text": [
            "Epoch [556/3000]: Train loss: 2.6312, Valid loss: 2.6677\n"
          ]
        },
        {
          "output_type": "stream",
          "name": "stderr",
          "text": [
            "Epoch [557/3000]: 100%|██████████| 9/9 [00:00<00:00, 97.85it/s, loss=2.68]\n"
          ]
        },
        {
          "output_type": "stream",
          "name": "stdout",
          "text": [
            "Epoch [557/3000]: Train loss: 2.4949, Valid loss: 2.6363\n"
          ]
        },
        {
          "output_type": "stream",
          "name": "stderr",
          "text": [
            "Epoch [558/3000]: 100%|██████████| 9/9 [00:00<00:00, 81.53it/s, loss=2.58]\n"
          ]
        },
        {
          "output_type": "stream",
          "name": "stdout",
          "text": [
            "Epoch [558/3000]: Train loss: 2.3865, Valid loss: 2.6815\n"
          ]
        },
        {
          "output_type": "stream",
          "name": "stderr",
          "text": [
            "Epoch [559/3000]: 100%|██████████| 9/9 [00:00<00:00, 86.03it/s, loss=3.74]\n"
          ]
        },
        {
          "output_type": "stream",
          "name": "stdout",
          "text": [
            "Epoch [559/3000]: Train loss: 2.6617, Valid loss: 5.8324\n"
          ]
        },
        {
          "output_type": "stream",
          "name": "stderr",
          "text": [
            "Epoch [560/3000]: 100%|██████████| 9/9 [00:00<00:00, 84.46it/s, loss=3.84]\n"
          ]
        },
        {
          "output_type": "stream",
          "name": "stdout",
          "text": [
            "Epoch [560/3000]: Train loss: 3.6686, Valid loss: 2.7987\n"
          ]
        },
        {
          "output_type": "stream",
          "name": "stderr",
          "text": [
            "Epoch [561/3000]: 100%|██████████| 9/9 [00:00<00:00, 69.62it/s, loss=2.18]\n"
          ]
        },
        {
          "output_type": "stream",
          "name": "stdout",
          "text": [
            "Epoch [561/3000]: Train loss: 2.6060, Valid loss: 3.6764\n"
          ]
        },
        {
          "output_type": "stream",
          "name": "stderr",
          "text": [
            "Epoch [562/3000]: 100%|██████████| 9/9 [00:00<00:00, 83.93it/s, loss=2.68]\n"
          ]
        },
        {
          "output_type": "stream",
          "name": "stdout",
          "text": [
            "Epoch [562/3000]: Train loss: 2.5196, Valid loss: 2.4097\n"
          ]
        },
        {
          "output_type": "stream",
          "name": "stderr",
          "text": [
            "Epoch [563/3000]: 100%|██████████| 9/9 [00:00<00:00, 49.71it/s, loss=3.13]\n"
          ]
        },
        {
          "output_type": "stream",
          "name": "stdout",
          "text": [
            "Epoch [563/3000]: Train loss: 2.5637, Valid loss: 2.4547\n"
          ]
        },
        {
          "output_type": "stream",
          "name": "stderr",
          "text": [
            "Epoch [564/3000]: 100%|██████████| 9/9 [00:00<00:00, 81.56it/s, loss=2.58]\n"
          ]
        },
        {
          "output_type": "stream",
          "name": "stdout",
          "text": [
            "Epoch [564/3000]: Train loss: 2.3403, Valid loss: 2.4729\n"
          ]
        },
        {
          "output_type": "stream",
          "name": "stderr",
          "text": [
            "Epoch [565/3000]: 100%|██████████| 9/9 [00:00<00:00, 74.12it/s, loss=2.13]\n"
          ]
        },
        {
          "output_type": "stream",
          "name": "stdout",
          "text": [
            "Epoch [565/3000]: Train loss: 2.2940, Valid loss: 2.4682\n"
          ]
        },
        {
          "output_type": "stream",
          "name": "stderr",
          "text": [
            "Epoch [566/3000]: 100%|██████████| 9/9 [00:00<00:00, 81.95it/s, loss=4.36]\n"
          ]
        },
        {
          "output_type": "stream",
          "name": "stdout",
          "text": [
            "Epoch [566/3000]: Train loss: 3.3562, Valid loss: 2.4907\n"
          ]
        },
        {
          "output_type": "stream",
          "name": "stderr",
          "text": [
            "Epoch [567/3000]: 100%|██████████| 9/9 [00:00<00:00, 74.66it/s, loss=3.41]\n"
          ]
        },
        {
          "output_type": "stream",
          "name": "stdout",
          "text": [
            "Epoch [567/3000]: Train loss: 3.3504, Valid loss: 3.0001\n"
          ]
        },
        {
          "output_type": "stream",
          "name": "stderr",
          "text": [
            "Epoch [568/3000]: 100%|██████████| 9/9 [00:00<00:00, 92.66it/s, loss=3.42]\n"
          ]
        },
        {
          "output_type": "stream",
          "name": "stdout",
          "text": [
            "Epoch [568/3000]: Train loss: 2.8974, Valid loss: 6.3127\n"
          ]
        },
        {
          "output_type": "stream",
          "name": "stderr",
          "text": [
            "Epoch [569/3000]: 100%|██████████| 9/9 [00:00<00:00, 85.43it/s, loss=3.02]\n"
          ]
        },
        {
          "output_type": "stream",
          "name": "stdout",
          "text": [
            "Epoch [569/3000]: Train loss: 3.2235, Valid loss: 2.5907\n"
          ]
        },
        {
          "output_type": "stream",
          "name": "stderr",
          "text": [
            "Epoch [570/3000]: 100%|██████████| 9/9 [00:00<00:00, 89.92it/s, loss=3.71]\n"
          ]
        },
        {
          "output_type": "stream",
          "name": "stdout",
          "text": [
            "Epoch [570/3000]: Train loss: 3.5432, Valid loss: 5.4796\n"
          ]
        },
        {
          "output_type": "stream",
          "name": "stderr",
          "text": [
            "Epoch [571/3000]: 100%|██████████| 9/9 [00:00<00:00, 79.86it/s, loss=5.13]\n"
          ]
        },
        {
          "output_type": "stream",
          "name": "stdout",
          "text": [
            "Epoch [571/3000]: Train loss: 4.5984, Valid loss: 4.9210\n"
          ]
        },
        {
          "output_type": "stream",
          "name": "stderr",
          "text": [
            "Epoch [572/3000]: 100%|██████████| 9/9 [00:00<00:00, 85.31it/s, loss=4.45]\n"
          ]
        },
        {
          "output_type": "stream",
          "name": "stdout",
          "text": [
            "Epoch [572/3000]: Train loss: 3.9686, Valid loss: 2.6539\n"
          ]
        },
        {
          "output_type": "stream",
          "name": "stderr",
          "text": [
            "Epoch [573/3000]: 100%|██████████| 9/9 [00:00<00:00, 69.01it/s, loss=2.58]\n"
          ]
        },
        {
          "output_type": "stream",
          "name": "stdout",
          "text": [
            "Epoch [573/3000]: Train loss: 2.8949, Valid loss: 4.3502\n"
          ]
        },
        {
          "output_type": "stream",
          "name": "stderr",
          "text": [
            "Epoch [574/3000]: 100%|██████████| 9/9 [00:00<00:00, 93.17it/s, loss=2.72]\n"
          ]
        },
        {
          "output_type": "stream",
          "name": "stdout",
          "text": [
            "Epoch [574/3000]: Train loss: 3.1320, Valid loss: 3.3334\n"
          ]
        },
        {
          "output_type": "stream",
          "name": "stderr",
          "text": [
            "Epoch [575/3000]: 100%|██████████| 9/9 [00:00<00:00, 97.80it/s, loss=4.42]\n"
          ]
        },
        {
          "output_type": "stream",
          "name": "stdout",
          "text": [
            "Epoch [575/3000]: Train loss: 2.9265, Valid loss: 2.5418\n"
          ]
        },
        {
          "output_type": "stream",
          "name": "stderr",
          "text": [
            "Epoch [576/3000]: 100%|██████████| 9/9 [00:00<00:00, 82.31it/s, loss=3]\n"
          ]
        },
        {
          "output_type": "stream",
          "name": "stdout",
          "text": [
            "Epoch [576/3000]: Train loss: 2.9213, Valid loss: 2.6308\n"
          ]
        },
        {
          "output_type": "stream",
          "name": "stderr",
          "text": [
            "Epoch [577/3000]: 100%|██████████| 9/9 [00:00<00:00, 90.53it/s, loss=2.58]\n"
          ]
        },
        {
          "output_type": "stream",
          "name": "stdout",
          "text": [
            "Epoch [577/3000]: Train loss: 2.6463, Valid loss: 2.3805\n"
          ]
        },
        {
          "output_type": "stream",
          "name": "stderr",
          "text": [
            "Epoch [578/3000]: 100%|██████████| 9/9 [00:00<00:00, 83.12it/s, loss=2.2]\n"
          ]
        },
        {
          "output_type": "stream",
          "name": "stdout",
          "text": [
            "Epoch [578/3000]: Train loss: 2.3612, Valid loss: 3.9643\n"
          ]
        },
        {
          "output_type": "stream",
          "name": "stderr",
          "text": [
            "Epoch [579/3000]: 100%|██████████| 9/9 [00:00<00:00, 63.85it/s, loss=3.07]\n"
          ]
        },
        {
          "output_type": "stream",
          "name": "stdout",
          "text": [
            "Epoch [579/3000]: Train loss: 3.3746, Valid loss: 3.3926\n"
          ]
        },
        {
          "output_type": "stream",
          "name": "stderr",
          "text": [
            "Epoch [580/3000]: 100%|██████████| 9/9 [00:00<00:00, 80.20it/s, loss=3.93]\n"
          ]
        },
        {
          "output_type": "stream",
          "name": "stdout",
          "text": [
            "Epoch [580/3000]: Train loss: 2.9425, Valid loss: 2.4442\n"
          ]
        },
        {
          "output_type": "stream",
          "name": "stderr",
          "text": [
            "Epoch [581/3000]: 100%|██████████| 9/9 [00:00<00:00, 86.42it/s, loss=2.83]\n"
          ]
        },
        {
          "output_type": "stream",
          "name": "stdout",
          "text": [
            "Epoch [581/3000]: Train loss: 2.5113, Valid loss: 3.1970\n"
          ]
        },
        {
          "output_type": "stream",
          "name": "stderr",
          "text": [
            "Epoch [582/3000]: 100%|██████████| 9/9 [00:00<00:00, 81.96it/s, loss=1.57]\n"
          ]
        },
        {
          "output_type": "stream",
          "name": "stdout",
          "text": [
            "Epoch [582/3000]: Train loss: 2.5468, Valid loss: 2.5142\n"
          ]
        },
        {
          "output_type": "stream",
          "name": "stderr",
          "text": [
            "Epoch [583/3000]: 100%|██████████| 9/9 [00:00<00:00, 71.49it/s, loss=1.84]\n"
          ]
        },
        {
          "output_type": "stream",
          "name": "stdout",
          "text": [
            "Epoch [583/3000]: Train loss: 2.2659, Valid loss: 2.1117\n"
          ]
        },
        {
          "output_type": "stream",
          "name": "stderr",
          "text": [
            "Epoch [584/3000]: 100%|██████████| 9/9 [00:00<00:00, 78.77it/s, loss=1.9]\n"
          ]
        },
        {
          "output_type": "stream",
          "name": "stdout",
          "text": [
            "Epoch [584/3000]: Train loss: 2.4385, Valid loss: 6.9489\n"
          ]
        },
        {
          "output_type": "stream",
          "name": "stderr",
          "text": [
            "Epoch [585/3000]: 100%|██████████| 9/9 [00:00<00:00, 78.17it/s, loss=4.75]\n"
          ]
        },
        {
          "output_type": "stream",
          "name": "stdout",
          "text": [
            "Epoch [585/3000]: Train loss: 4.5328, Valid loss: 2.9510\n"
          ]
        },
        {
          "output_type": "stream",
          "name": "stderr",
          "text": [
            "Epoch [586/3000]: 100%|██████████| 9/9 [00:00<00:00, 82.17it/s, loss=3.89]\n"
          ]
        },
        {
          "output_type": "stream",
          "name": "stdout",
          "text": [
            "Epoch [586/3000]: Train loss: 4.0889, Valid loss: 3.8582\n"
          ]
        },
        {
          "output_type": "stream",
          "name": "stderr",
          "text": [
            "Epoch [587/3000]: 100%|██████████| 9/9 [00:00<00:00, 83.42it/s, loss=5.25]\n"
          ]
        },
        {
          "output_type": "stream",
          "name": "stdout",
          "text": [
            "Epoch [587/3000]: Train loss: 3.7466, Valid loss: 3.5808\n"
          ]
        },
        {
          "output_type": "stream",
          "name": "stderr",
          "text": [
            "Epoch [588/3000]: 100%|██████████| 9/9 [00:00<00:00, 74.04it/s, loss=2.53]\n"
          ]
        },
        {
          "output_type": "stream",
          "name": "stdout",
          "text": [
            "Epoch [588/3000]: Train loss: 2.6502, Valid loss: 2.6529\n"
          ]
        },
        {
          "output_type": "stream",
          "name": "stderr",
          "text": [
            "Epoch [589/3000]: 100%|██████████| 9/9 [00:00<00:00, 27.16it/s, loss=2.18]\n"
          ]
        },
        {
          "output_type": "stream",
          "name": "stdout",
          "text": [
            "Epoch [589/3000]: Train loss: 2.4570, Valid loss: 2.4066\n"
          ]
        },
        {
          "output_type": "stream",
          "name": "stderr",
          "text": [
            "Epoch [590/3000]: 100%|██████████| 9/9 [00:00<00:00, 94.55it/s, loss=2.72]\n"
          ]
        },
        {
          "output_type": "stream",
          "name": "stdout",
          "text": [
            "Epoch [590/3000]: Train loss: 2.5934, Valid loss: 2.2669\n"
          ]
        },
        {
          "output_type": "stream",
          "name": "stderr",
          "text": [
            "Epoch [591/3000]: 100%|██████████| 9/9 [00:00<00:00, 92.74it/s, loss=2.7]\n"
          ]
        },
        {
          "output_type": "stream",
          "name": "stdout",
          "text": [
            "Epoch [591/3000]: Train loss: 2.3520, Valid loss: 2.8885\n"
          ]
        },
        {
          "output_type": "stream",
          "name": "stderr",
          "text": [
            "Epoch [592/3000]: 100%|██████████| 9/9 [00:00<00:00, 92.04it/s, loss=2.31]\n"
          ]
        },
        {
          "output_type": "stream",
          "name": "stdout",
          "text": [
            "Epoch [592/3000]: Train loss: 2.2327, Valid loss: 2.4426\n"
          ]
        },
        {
          "output_type": "stream",
          "name": "stderr",
          "text": [
            "Epoch [593/3000]: 100%|██████████| 9/9 [00:00<00:00, 83.68it/s, loss=2.42]\n"
          ]
        },
        {
          "output_type": "stream",
          "name": "stdout",
          "text": [
            "Epoch [593/3000]: Train loss: 2.3127, Valid loss: 2.0617\n"
          ]
        },
        {
          "output_type": "stream",
          "name": "stderr",
          "text": [
            "Epoch [594/3000]: 100%|██████████| 9/9 [00:00<00:00, 86.27it/s, loss=2.05]\n"
          ]
        },
        {
          "output_type": "stream",
          "name": "stdout",
          "text": [
            "Epoch [594/3000]: Train loss: 2.1726, Valid loss: 2.6183\n"
          ]
        },
        {
          "output_type": "stream",
          "name": "stderr",
          "text": [
            "Epoch [595/3000]: 100%|██████████| 9/9 [00:00<00:00, 87.47it/s, loss=2.51]\n"
          ]
        },
        {
          "output_type": "stream",
          "name": "stdout",
          "text": [
            "Epoch [595/3000]: Train loss: 2.2187, Valid loss: 2.1861\n"
          ]
        },
        {
          "output_type": "stream",
          "name": "stderr",
          "text": [
            "Epoch [596/3000]: 100%|██████████| 9/9 [00:00<00:00, 81.95it/s, loss=1.97]\n"
          ]
        },
        {
          "output_type": "stream",
          "name": "stdout",
          "text": [
            "Epoch [596/3000]: Train loss: 2.5373, Valid loss: 3.1444\n"
          ]
        },
        {
          "output_type": "stream",
          "name": "stderr",
          "text": [
            "Epoch [597/3000]: 100%|██████████| 9/9 [00:00<00:00, 85.71it/s, loss=4.38]\n"
          ]
        },
        {
          "output_type": "stream",
          "name": "stdout",
          "text": [
            "Epoch [597/3000]: Train loss: 3.9493, Valid loss: 3.1783\n"
          ]
        },
        {
          "output_type": "stream",
          "name": "stderr",
          "text": [
            "Epoch [598/3000]: 100%|██████████| 9/9 [00:00<00:00, 79.56it/s, loss=2.55]\n"
          ]
        },
        {
          "output_type": "stream",
          "name": "stdout",
          "text": [
            "Epoch [598/3000]: Train loss: 4.6627, Valid loss: 4.4816\n"
          ]
        },
        {
          "output_type": "stream",
          "name": "stderr",
          "text": [
            "Epoch [599/3000]: 100%|██████████| 9/9 [00:00<00:00, 97.84it/s, loss=6.26]\n"
          ]
        },
        {
          "output_type": "stream",
          "name": "stdout",
          "text": [
            "Epoch [599/3000]: Train loss: 3.5566, Valid loss: 3.4652\n"
          ]
        },
        {
          "output_type": "stream",
          "name": "stderr",
          "text": [
            "Epoch [600/3000]: 100%|██████████| 9/9 [00:00<00:00, 100.86it/s, loss=2.11]\n"
          ]
        },
        {
          "output_type": "stream",
          "name": "stdout",
          "text": [
            "Epoch [600/3000]: Train loss: 2.8590, Valid loss: 3.9248\n"
          ]
        },
        {
          "output_type": "stream",
          "name": "stderr",
          "text": [
            "Epoch [601/3000]: 100%|██████████| 9/9 [00:00<00:00, 90.95it/s, loss=3.36]\n"
          ]
        },
        {
          "output_type": "stream",
          "name": "stdout",
          "text": [
            "Epoch [601/3000]: Train loss: 3.5480, Valid loss: 3.7100\n"
          ]
        },
        {
          "output_type": "stream",
          "name": "stderr",
          "text": [
            "Epoch [602/3000]: 100%|██████████| 9/9 [00:00<00:00, 76.32it/s, loss=2.68]\n"
          ]
        },
        {
          "output_type": "stream",
          "name": "stdout",
          "text": [
            "Epoch [602/3000]: Train loss: 2.5348, Valid loss: 3.0981\n"
          ]
        },
        {
          "output_type": "stream",
          "name": "stderr",
          "text": [
            "Epoch [603/3000]: 100%|██████████| 9/9 [00:00<00:00, 83.43it/s, loss=3.01]\n"
          ]
        },
        {
          "output_type": "stream",
          "name": "stdout",
          "text": [
            "Epoch [603/3000]: Train loss: 2.4395, Valid loss: 2.5912\n"
          ]
        },
        {
          "output_type": "stream",
          "name": "stderr",
          "text": [
            "Epoch [604/3000]: 100%|██████████| 9/9 [00:00<00:00, 82.07it/s, loss=2.68]\n"
          ]
        },
        {
          "output_type": "stream",
          "name": "stdout",
          "text": [
            "Epoch [604/3000]: Train loss: 2.4718, Valid loss: 2.1511\n"
          ]
        },
        {
          "output_type": "stream",
          "name": "stderr",
          "text": [
            "Epoch [605/3000]: 100%|██████████| 9/9 [00:00<00:00, 90.03it/s, loss=3.34]\n"
          ]
        },
        {
          "output_type": "stream",
          "name": "stdout",
          "text": [
            "Epoch [605/3000]: Train loss: 2.9767, Valid loss: 2.4476\n"
          ]
        },
        {
          "output_type": "stream",
          "name": "stderr",
          "text": [
            "Epoch [606/3000]: 100%|██████████| 9/9 [00:00<00:00, 82.07it/s, loss=1.67]\n"
          ]
        },
        {
          "output_type": "stream",
          "name": "stdout",
          "text": [
            "Epoch [606/3000]: Train loss: 2.2655, Valid loss: 2.9852\n"
          ]
        },
        {
          "output_type": "stream",
          "name": "stderr",
          "text": [
            "Epoch [607/3000]: 100%|██████████| 9/9 [00:00<00:00, 66.24it/s, loss=2.17]\n"
          ]
        },
        {
          "output_type": "stream",
          "name": "stdout",
          "text": [
            "Epoch [607/3000]: Train loss: 2.1491, Valid loss: 2.3984\n"
          ]
        },
        {
          "output_type": "stream",
          "name": "stderr",
          "text": [
            "Epoch [608/3000]: 100%|██████████| 9/9 [00:00<00:00, 77.65it/s, loss=2.11]\n"
          ]
        },
        {
          "output_type": "stream",
          "name": "stdout",
          "text": [
            "Epoch [608/3000]: Train loss: 2.2377, Valid loss: 2.1177\n"
          ]
        },
        {
          "output_type": "stream",
          "name": "stderr",
          "text": [
            "Epoch [609/3000]: 100%|██████████| 9/9 [00:00<00:00, 90.49it/s, loss=2.22]\n"
          ]
        },
        {
          "output_type": "stream",
          "name": "stdout",
          "text": [
            "Epoch [609/3000]: Train loss: 2.3383, Valid loss: 2.7523\n"
          ]
        },
        {
          "output_type": "stream",
          "name": "stderr",
          "text": [
            "Epoch [610/3000]: 100%|██████████| 9/9 [00:00<00:00, 94.39it/s, loss=2.28]\n"
          ]
        },
        {
          "output_type": "stream",
          "name": "stdout",
          "text": [
            "Epoch [610/3000]: Train loss: 2.5915, Valid loss: 2.5009\n"
          ]
        },
        {
          "output_type": "stream",
          "name": "stderr",
          "text": [
            "Epoch [611/3000]: 100%|██████████| 9/9 [00:00<00:00, 98.16it/s, loss=1.99]\n"
          ]
        },
        {
          "output_type": "stream",
          "name": "stdout",
          "text": [
            "Epoch [611/3000]: Train loss: 2.2108, Valid loss: 2.9372\n"
          ]
        },
        {
          "output_type": "stream",
          "name": "stderr",
          "text": [
            "Epoch [612/3000]: 100%|██████████| 9/9 [00:00<00:00, 90.82it/s, loss=2.35]\n"
          ]
        },
        {
          "output_type": "stream",
          "name": "stdout",
          "text": [
            "Epoch [612/3000]: Train loss: 2.4580, Valid loss: 2.4541\n"
          ]
        },
        {
          "output_type": "stream",
          "name": "stderr",
          "text": [
            "Epoch [613/3000]: 100%|██████████| 9/9 [00:00<00:00, 85.51it/s, loss=2.52]\n"
          ]
        },
        {
          "output_type": "stream",
          "name": "stdout",
          "text": [
            "Epoch [613/3000]: Train loss: 2.8888, Valid loss: 7.5345\n"
          ]
        },
        {
          "output_type": "stream",
          "name": "stderr",
          "text": [
            "Epoch [614/3000]: 100%|██████████| 9/9 [00:00<00:00, 84.86it/s, loss=3.68]\n"
          ]
        },
        {
          "output_type": "stream",
          "name": "stdout",
          "text": [
            "Epoch [614/3000]: Train loss: 4.1837, Valid loss: 3.5008\n"
          ]
        },
        {
          "output_type": "stream",
          "name": "stderr",
          "text": [
            "Epoch [615/3000]: 100%|██████████| 9/9 [00:00<00:00, 82.42it/s, loss=2.71]\n"
          ]
        },
        {
          "output_type": "stream",
          "name": "stdout",
          "text": [
            "Epoch [615/3000]: Train loss: 3.3763, Valid loss: 5.1557\n"
          ]
        },
        {
          "output_type": "stream",
          "name": "stderr",
          "text": [
            "Epoch [616/3000]: 100%|██████████| 9/9 [00:00<00:00, 80.06it/s, loss=2.05]\n"
          ]
        },
        {
          "output_type": "stream",
          "name": "stdout",
          "text": [
            "Epoch [616/3000]: Train loss: 2.6360, Valid loss: 2.5353\n"
          ]
        },
        {
          "output_type": "stream",
          "name": "stderr",
          "text": [
            "Epoch [617/3000]: 100%|██████████| 9/9 [00:00<00:00, 81.44it/s, loss=2.55]\n"
          ]
        },
        {
          "output_type": "stream",
          "name": "stdout",
          "text": [
            "Epoch [617/3000]: Train loss: 2.3854, Valid loss: 2.4468\n"
          ]
        },
        {
          "output_type": "stream",
          "name": "stderr",
          "text": [
            "Epoch [618/3000]: 100%|██████████| 9/9 [00:00<00:00, 71.65it/s, loss=2]\n"
          ]
        },
        {
          "output_type": "stream",
          "name": "stdout",
          "text": [
            "Epoch [618/3000]: Train loss: 2.1955, Valid loss: 2.1048\n"
          ]
        },
        {
          "output_type": "stream",
          "name": "stderr",
          "text": [
            "Epoch [619/3000]: 100%|██████████| 9/9 [00:00<00:00, 75.59it/s, loss=2.65]\n"
          ]
        },
        {
          "output_type": "stream",
          "name": "stdout",
          "text": [
            "Epoch [619/3000]: Train loss: 2.3510, Valid loss: 4.2053\n"
          ]
        },
        {
          "output_type": "stream",
          "name": "stderr",
          "text": [
            "Epoch [620/3000]: 100%|██████████| 9/9 [00:00<00:00, 75.11it/s, loss=3.17]\n"
          ]
        },
        {
          "output_type": "stream",
          "name": "stdout",
          "text": [
            "Epoch [620/3000]: Train loss: 2.9306, Valid loss: 2.8500\n"
          ]
        },
        {
          "output_type": "stream",
          "name": "stderr",
          "text": [
            "Epoch [621/3000]: 100%|██████████| 9/9 [00:00<00:00, 69.58it/s, loss=2.34]\n"
          ]
        },
        {
          "output_type": "stream",
          "name": "stdout",
          "text": [
            "Epoch [621/3000]: Train loss: 2.4428, Valid loss: 2.7754\n"
          ]
        },
        {
          "output_type": "stream",
          "name": "stderr",
          "text": [
            "Epoch [622/3000]: 100%|██████████| 9/9 [00:00<00:00, 81.80it/s, loss=3.01]\n"
          ]
        },
        {
          "output_type": "stream",
          "name": "stdout",
          "text": [
            "Epoch [622/3000]: Train loss: 2.4533, Valid loss: 2.2321\n"
          ]
        },
        {
          "output_type": "stream",
          "name": "stderr",
          "text": [
            "Epoch [623/3000]: 100%|██████████| 9/9 [00:00<00:00, 76.58it/s, loss=2.45]\n"
          ]
        },
        {
          "output_type": "stream",
          "name": "stdout",
          "text": [
            "Epoch [623/3000]: Train loss: 2.4791, Valid loss: 2.3249\n"
          ]
        },
        {
          "output_type": "stream",
          "name": "stderr",
          "text": [
            "Epoch [624/3000]: 100%|██████████| 9/9 [00:00<00:00, 91.71it/s, loss=2.25]\n"
          ]
        },
        {
          "output_type": "stream",
          "name": "stdout",
          "text": [
            "Epoch [624/3000]: Train loss: 2.4776, Valid loss: 3.2686\n"
          ]
        },
        {
          "output_type": "stream",
          "name": "stderr",
          "text": [
            "Epoch [625/3000]: 100%|██████████| 9/9 [00:00<00:00, 77.37it/s, loss=3.59]\n"
          ]
        },
        {
          "output_type": "stream",
          "name": "stdout",
          "text": [
            "Epoch [625/3000]: Train loss: 3.4760, Valid loss: 3.8594\n"
          ]
        },
        {
          "output_type": "stream",
          "name": "stderr",
          "text": [
            "Epoch [626/3000]: 100%|██████████| 9/9 [00:00<00:00, 88.01it/s, loss=2.92]\n"
          ]
        },
        {
          "output_type": "stream",
          "name": "stdout",
          "text": [
            "Epoch [626/3000]: Train loss: 3.1287, Valid loss: 5.7027\n"
          ]
        },
        {
          "output_type": "stream",
          "name": "stderr",
          "text": [
            "Epoch [627/3000]: 100%|██████████| 9/9 [00:00<00:00, 75.88it/s, loss=6.92]\n"
          ]
        },
        {
          "output_type": "stream",
          "name": "stdout",
          "text": [
            "Epoch [627/3000]: Train loss: 4.5345, Valid loss: 4.9285\n"
          ]
        },
        {
          "output_type": "stream",
          "name": "stderr",
          "text": [
            "Epoch [628/3000]: 100%|██████████| 9/9 [00:00<00:00, 89.94it/s, loss=5.01]\n"
          ]
        },
        {
          "output_type": "stream",
          "name": "stdout",
          "text": [
            "Epoch [628/3000]: Train loss: 4.9189, Valid loss: 2.6321\n"
          ]
        },
        {
          "output_type": "stream",
          "name": "stderr",
          "text": [
            "Epoch [629/3000]: 100%|██████████| 9/9 [00:00<00:00, 69.63it/s, loss=6.33]\n"
          ]
        },
        {
          "output_type": "stream",
          "name": "stdout",
          "text": [
            "Epoch [629/3000]: Train loss: 4.2030, Valid loss: 3.6118\n"
          ]
        },
        {
          "output_type": "stream",
          "name": "stderr",
          "text": [
            "Epoch [630/3000]: 100%|██████████| 9/9 [00:00<00:00, 91.72it/s, loss=2.74]\n"
          ]
        },
        {
          "output_type": "stream",
          "name": "stdout",
          "text": [
            "Epoch [630/3000]: Train loss: 3.3485, Valid loss: 2.2453\n"
          ]
        },
        {
          "output_type": "stream",
          "name": "stderr",
          "text": [
            "Epoch [631/3000]: 100%|██████████| 9/9 [00:00<00:00, 99.23it/s, loss=3.15]\n"
          ]
        },
        {
          "output_type": "stream",
          "name": "stdout",
          "text": [
            "Epoch [631/3000]: Train loss: 3.2558, Valid loss: 4.0259\n"
          ]
        },
        {
          "output_type": "stream",
          "name": "stderr",
          "text": [
            "Epoch [632/3000]: 100%|██████████| 9/9 [00:00<00:00, 101.07it/s, loss=2.81]\n"
          ]
        },
        {
          "output_type": "stream",
          "name": "stdout",
          "text": [
            "Epoch [632/3000]: Train loss: 2.9990, Valid loss: 2.9340\n"
          ]
        },
        {
          "output_type": "stream",
          "name": "stderr",
          "text": [
            "Epoch [633/3000]: 100%|██████████| 9/9 [00:00<00:00, 101.05it/s, loss=1.79]\n"
          ]
        },
        {
          "output_type": "stream",
          "name": "stdout",
          "text": [
            "Epoch [633/3000]: Train loss: 2.9245, Valid loss: 2.4144\n"
          ]
        },
        {
          "output_type": "stream",
          "name": "stderr",
          "text": [
            "Epoch [634/3000]: 100%|██████████| 9/9 [00:00<00:00, 91.51it/s, loss=3.23]\n"
          ]
        },
        {
          "output_type": "stream",
          "name": "stdout",
          "text": [
            "Epoch [634/3000]: Train loss: 2.4658, Valid loss: 2.7822\n"
          ]
        },
        {
          "output_type": "stream",
          "name": "stderr",
          "text": [
            "Epoch [635/3000]: 100%|██████████| 9/9 [00:00<00:00, 69.74it/s, loss=2.24]\n"
          ]
        },
        {
          "output_type": "stream",
          "name": "stdout",
          "text": [
            "Epoch [635/3000]: Train loss: 2.5455, Valid loss: 3.9560\n"
          ]
        },
        {
          "output_type": "stream",
          "name": "stderr",
          "text": [
            "Epoch [636/3000]: 100%|██████████| 9/9 [00:00<00:00, 81.46it/s, loss=1.93]\n"
          ]
        },
        {
          "output_type": "stream",
          "name": "stdout",
          "text": [
            "Epoch [636/3000]: Train loss: 2.7745, Valid loss: 2.8479\n"
          ]
        },
        {
          "output_type": "stream",
          "name": "stderr",
          "text": [
            "Epoch [637/3000]: 100%|██████████| 9/9 [00:00<00:00, 81.33it/s, loss=1.69]\n"
          ]
        },
        {
          "output_type": "stream",
          "name": "stdout",
          "text": [
            "Epoch [637/3000]: Train loss: 2.3338, Valid loss: 2.8540\n"
          ]
        },
        {
          "output_type": "stream",
          "name": "stderr",
          "text": [
            "Epoch [638/3000]: 100%|██████████| 9/9 [00:00<00:00, 95.46it/s, loss=3.25]\n"
          ]
        },
        {
          "output_type": "stream",
          "name": "stdout",
          "text": [
            "Epoch [638/3000]: Train loss: 2.3138, Valid loss: 2.2989\n"
          ]
        },
        {
          "output_type": "stream",
          "name": "stderr",
          "text": [
            "Epoch [639/3000]: 100%|██████████| 9/9 [00:00<00:00, 87.98it/s, loss=2.7]\n"
          ]
        },
        {
          "output_type": "stream",
          "name": "stdout",
          "text": [
            "Epoch [639/3000]: Train loss: 2.4318, Valid loss: 2.7092\n"
          ]
        },
        {
          "output_type": "stream",
          "name": "stderr",
          "text": [
            "Epoch [640/3000]: 100%|██████████| 9/9 [00:00<00:00, 81.97it/s, loss=2.43]\n"
          ]
        },
        {
          "output_type": "stream",
          "name": "stdout",
          "text": [
            "Epoch [640/3000]: Train loss: 2.6786, Valid loss: 2.5801\n"
          ]
        },
        {
          "output_type": "stream",
          "name": "stderr",
          "text": [
            "Epoch [641/3000]: 100%|██████████| 9/9 [00:00<00:00, 79.49it/s, loss=2.26]\n"
          ]
        },
        {
          "output_type": "stream",
          "name": "stdout",
          "text": [
            "Epoch [641/3000]: Train loss: 2.4858, Valid loss: 3.2657\n"
          ]
        },
        {
          "output_type": "stream",
          "name": "stderr",
          "text": [
            "Epoch [642/3000]: 100%|██████████| 9/9 [00:00<00:00, 79.89it/s, loss=2.26]\n"
          ]
        },
        {
          "output_type": "stream",
          "name": "stdout",
          "text": [
            "Epoch [642/3000]: Train loss: 2.8626, Valid loss: 3.5528\n"
          ]
        },
        {
          "output_type": "stream",
          "name": "stderr",
          "text": [
            "Epoch [643/3000]: 100%|██████████| 9/9 [00:00<00:00, 83.58it/s, loss=2.32]\n"
          ]
        },
        {
          "output_type": "stream",
          "name": "stdout",
          "text": [
            "Epoch [643/3000]: Train loss: 2.4289, Valid loss: 2.4374\n"
          ]
        },
        {
          "output_type": "stream",
          "name": "stderr",
          "text": [
            "Epoch [644/3000]: 100%|██████████| 9/9 [00:00<00:00, 82.19it/s, loss=2.28]\n"
          ]
        },
        {
          "output_type": "stream",
          "name": "stdout",
          "text": [
            "Epoch [644/3000]: Train loss: 2.2349, Valid loss: 2.0281\n"
          ]
        },
        {
          "output_type": "stream",
          "name": "stderr",
          "text": [
            "Epoch [645/3000]: 100%|██████████| 9/9 [00:00<00:00, 83.61it/s, loss=3.61]\n"
          ]
        },
        {
          "output_type": "stream",
          "name": "stdout",
          "text": [
            "Epoch [645/3000]: Train loss: 2.3572, Valid loss: 2.1921\n"
          ]
        },
        {
          "output_type": "stream",
          "name": "stderr",
          "text": [
            "Epoch [646/3000]: 100%|██████████| 9/9 [00:00<00:00, 85.65it/s, loss=2.14]\n"
          ]
        },
        {
          "output_type": "stream",
          "name": "stdout",
          "text": [
            "Epoch [646/3000]: Train loss: 2.2329, Valid loss: 3.0051\n"
          ]
        },
        {
          "output_type": "stream",
          "name": "stderr",
          "text": [
            "Epoch [647/3000]: 100%|██████████| 9/9 [00:00<00:00, 74.91it/s, loss=2.48]\n"
          ]
        },
        {
          "output_type": "stream",
          "name": "stdout",
          "text": [
            "Epoch [647/3000]: Train loss: 2.2845, Valid loss: 3.1970\n"
          ]
        },
        {
          "output_type": "stream",
          "name": "stderr",
          "text": [
            "Epoch [648/3000]: 100%|██████████| 9/9 [00:00<00:00, 80.90it/s, loss=2.06]\n"
          ]
        },
        {
          "output_type": "stream",
          "name": "stdout",
          "text": [
            "Epoch [648/3000]: Train loss: 2.3422, Valid loss: 2.3759\n"
          ]
        },
        {
          "output_type": "stream",
          "name": "stderr",
          "text": [
            "Epoch [649/3000]: 100%|██████████| 9/9 [00:00<00:00, 71.49it/s, loss=2.07]\n"
          ]
        },
        {
          "output_type": "stream",
          "name": "stdout",
          "text": [
            "Epoch [649/3000]: Train loss: 2.1459, Valid loss: 3.2756\n"
          ]
        },
        {
          "output_type": "stream",
          "name": "stderr",
          "text": [
            "Epoch [650/3000]: 100%|██████████| 9/9 [00:00<00:00, 83.93it/s, loss=3.48]\n"
          ]
        },
        {
          "output_type": "stream",
          "name": "stdout",
          "text": [
            "Epoch [650/3000]: Train loss: 2.6184, Valid loss: 4.9956\n"
          ]
        },
        {
          "output_type": "stream",
          "name": "stderr",
          "text": [
            "Epoch [651/3000]: 100%|██████████| 9/9 [00:00<00:00, 92.84it/s, loss=2.63]\n"
          ]
        },
        {
          "output_type": "stream",
          "name": "stdout",
          "text": [
            "Epoch [651/3000]: Train loss: 3.4151, Valid loss: 2.5844\n"
          ]
        },
        {
          "output_type": "stream",
          "name": "stderr",
          "text": [
            "Epoch [652/3000]: 100%|██████████| 9/9 [00:00<00:00, 82.40it/s, loss=3.14]\n"
          ]
        },
        {
          "output_type": "stream",
          "name": "stdout",
          "text": [
            "Epoch [652/3000]: Train loss: 3.0992, Valid loss: 3.8989\n"
          ]
        },
        {
          "output_type": "stream",
          "name": "stderr",
          "text": [
            "Epoch [653/3000]: 100%|██████████| 9/9 [00:00<00:00, 43.80it/s, loss=4.13]\n"
          ]
        },
        {
          "output_type": "stream",
          "name": "stdout",
          "text": [
            "Epoch [653/3000]: Train loss: 3.5218, Valid loss: 3.3696\n"
          ]
        },
        {
          "output_type": "stream",
          "name": "stderr",
          "text": [
            "Epoch [654/3000]: 100%|██████████| 9/9 [00:00<00:00, 76.36it/s, loss=3.53]\n"
          ]
        },
        {
          "output_type": "stream",
          "name": "stdout",
          "text": [
            "Epoch [654/3000]: Train loss: 3.6657, Valid loss: 5.3648\n"
          ]
        },
        {
          "output_type": "stream",
          "name": "stderr",
          "text": [
            "Epoch [655/3000]: 100%|██████████| 9/9 [00:00<00:00, 83.27it/s, loss=1.65]\n"
          ]
        },
        {
          "output_type": "stream",
          "name": "stdout",
          "text": [
            "Epoch [655/3000]: Train loss: 3.7884, Valid loss: 3.8208\n"
          ]
        },
        {
          "output_type": "stream",
          "name": "stderr",
          "text": [
            "Epoch [656/3000]: 100%|██████████| 9/9 [00:00<00:00, 94.02it/s, loss=3.48]\n"
          ]
        },
        {
          "output_type": "stream",
          "name": "stdout",
          "text": [
            "Epoch [656/3000]: Train loss: 3.1191, Valid loss: 2.4265\n"
          ]
        },
        {
          "output_type": "stream",
          "name": "stderr",
          "text": [
            "Epoch [657/3000]: 100%|██████████| 9/9 [00:00<00:00, 85.24it/s, loss=3.24]\n"
          ]
        },
        {
          "output_type": "stream",
          "name": "stdout",
          "text": [
            "Epoch [657/3000]: Train loss: 3.4353, Valid loss: 4.2409\n"
          ]
        },
        {
          "output_type": "stream",
          "name": "stderr",
          "text": [
            "Epoch [658/3000]: 100%|██████████| 9/9 [00:00<00:00, 92.03it/s, loss=3.86]\n"
          ]
        },
        {
          "output_type": "stream",
          "name": "stdout",
          "text": [
            "Epoch [658/3000]: Train loss: 3.1164, Valid loss: 2.8399\n"
          ]
        },
        {
          "output_type": "stream",
          "name": "stderr",
          "text": [
            "Epoch [659/3000]: 100%|██████████| 9/9 [00:00<00:00, 86.63it/s, loss=2.21]\n"
          ]
        },
        {
          "output_type": "stream",
          "name": "stdout",
          "text": [
            "Epoch [659/3000]: Train loss: 2.4971, Valid loss: 3.5639\n"
          ]
        },
        {
          "output_type": "stream",
          "name": "stderr",
          "text": [
            "Epoch [660/3000]: 100%|██████████| 9/9 [00:00<00:00, 87.29it/s, loss=2.92]\n"
          ]
        },
        {
          "output_type": "stream",
          "name": "stdout",
          "text": [
            "Epoch [660/3000]: Train loss: 2.6930, Valid loss: 3.1295\n"
          ]
        },
        {
          "output_type": "stream",
          "name": "stderr",
          "text": [
            "Epoch [661/3000]: 100%|██████████| 9/9 [00:00<00:00, 85.18it/s, loss=2.69]\n"
          ]
        },
        {
          "output_type": "stream",
          "name": "stdout",
          "text": [
            "Epoch [661/3000]: Train loss: 2.7106, Valid loss: 3.9444\n"
          ]
        },
        {
          "output_type": "stream",
          "name": "stderr",
          "text": [
            "Epoch [662/3000]: 100%|██████████| 9/9 [00:00<00:00, 79.26it/s, loss=3.36]\n"
          ]
        },
        {
          "output_type": "stream",
          "name": "stdout",
          "text": [
            "Epoch [662/3000]: Train loss: 2.8945, Valid loss: 2.2209\n"
          ]
        },
        {
          "output_type": "stream",
          "name": "stderr",
          "text": [
            "Epoch [663/3000]: 100%|██████████| 9/9 [00:00<00:00, 81.39it/s, loss=2.03]\n"
          ]
        },
        {
          "output_type": "stream",
          "name": "stdout",
          "text": [
            "Epoch [663/3000]: Train loss: 2.4954, Valid loss: 2.6484\n"
          ]
        },
        {
          "output_type": "stream",
          "name": "stderr",
          "text": [
            "Epoch [664/3000]: 100%|██████████| 9/9 [00:00<00:00, 76.78it/s, loss=2.87]\n"
          ]
        },
        {
          "output_type": "stream",
          "name": "stdout",
          "text": [
            "Epoch [664/3000]: Train loss: 2.5066, Valid loss: 2.1231\n"
          ]
        },
        {
          "output_type": "stream",
          "name": "stderr",
          "text": [
            "Epoch [665/3000]: 100%|██████████| 9/9 [00:00<00:00, 81.85it/s, loss=3.35]\n"
          ]
        },
        {
          "output_type": "stream",
          "name": "stdout",
          "text": [
            "Epoch [665/3000]: Train loss: 2.8528, Valid loss: 3.0324\n"
          ]
        },
        {
          "output_type": "stream",
          "name": "stderr",
          "text": [
            "Epoch [666/3000]: 100%|██████████| 9/9 [00:00<00:00, 77.99it/s, loss=2.72]\n"
          ]
        },
        {
          "output_type": "stream",
          "name": "stdout",
          "text": [
            "Epoch [666/3000]: Train loss: 2.3831, Valid loss: 2.5688\n"
          ]
        },
        {
          "output_type": "stream",
          "name": "stderr",
          "text": [
            "Epoch [667/3000]: 100%|██████████| 9/9 [00:00<00:00, 71.59it/s, loss=1.75]\n"
          ]
        },
        {
          "output_type": "stream",
          "name": "stdout",
          "text": [
            "Epoch [667/3000]: Train loss: 2.2332, Valid loss: 2.6069\n"
          ]
        },
        {
          "output_type": "stream",
          "name": "stderr",
          "text": [
            "Epoch [668/3000]: 100%|██████████| 9/9 [00:00<00:00, 86.69it/s, loss=2.35]\n"
          ]
        },
        {
          "output_type": "stream",
          "name": "stdout",
          "text": [
            "Epoch [668/3000]: Train loss: 2.3604, Valid loss: 2.9896\n"
          ]
        },
        {
          "output_type": "stream",
          "name": "stderr",
          "text": [
            "Epoch [669/3000]: 100%|██████████| 9/9 [00:00<00:00, 85.63it/s, loss=2.78]\n"
          ]
        },
        {
          "output_type": "stream",
          "name": "stdout",
          "text": [
            "Epoch [669/3000]: Train loss: 2.4338, Valid loss: 3.2115\n"
          ]
        },
        {
          "output_type": "stream",
          "name": "stderr",
          "text": [
            "Epoch [670/3000]: 100%|██████████| 9/9 [00:00<00:00, 68.14it/s, loss=2.47]\n"
          ]
        },
        {
          "output_type": "stream",
          "name": "stdout",
          "text": [
            "Epoch [670/3000]: Train loss: 2.1930, Valid loss: 2.4128\n"
          ]
        },
        {
          "output_type": "stream",
          "name": "stderr",
          "text": [
            "Epoch [671/3000]: 100%|██████████| 9/9 [00:00<00:00, 82.77it/s, loss=1.81]\n"
          ]
        },
        {
          "output_type": "stream",
          "name": "stdout",
          "text": [
            "Epoch [671/3000]: Train loss: 2.1332, Valid loss: 2.3929\n"
          ]
        },
        {
          "output_type": "stream",
          "name": "stderr",
          "text": [
            "Epoch [672/3000]: 100%|██████████| 9/9 [00:00<00:00, 72.52it/s, loss=2.61]\n"
          ]
        },
        {
          "output_type": "stream",
          "name": "stdout",
          "text": [
            "Epoch [672/3000]: Train loss: 2.1169, Valid loss: 2.2621\n"
          ]
        },
        {
          "output_type": "stream",
          "name": "stderr",
          "text": [
            "Epoch [673/3000]: 100%|██████████| 9/9 [00:00<00:00, 84.11it/s, loss=2.14]\n"
          ]
        },
        {
          "output_type": "stream",
          "name": "stdout",
          "text": [
            "Epoch [673/3000]: Train loss: 2.3060, Valid loss: 3.5425\n"
          ]
        },
        {
          "output_type": "stream",
          "name": "stderr",
          "text": [
            "Epoch [674/3000]: 100%|██████████| 9/9 [00:00<00:00, 79.42it/s, loss=1.81]\n"
          ]
        },
        {
          "output_type": "stream",
          "name": "stdout",
          "text": [
            "Epoch [674/3000]: Train loss: 2.2514, Valid loss: 2.7882\n"
          ]
        },
        {
          "output_type": "stream",
          "name": "stderr",
          "text": [
            "Epoch [675/3000]: 100%|██████████| 9/9 [00:00<00:00, 90.82it/s, loss=2.81]\n"
          ]
        },
        {
          "output_type": "stream",
          "name": "stdout",
          "text": [
            "Epoch [675/3000]: Train loss: 2.4386, Valid loss: 2.0191\n",
            "Saving model with loss 2.019...\n"
          ]
        },
        {
          "output_type": "stream",
          "name": "stderr",
          "text": [
            "Epoch [676/3000]: 100%|██████████| 9/9 [00:00<00:00, 74.88it/s, loss=1.55]\n"
          ]
        },
        {
          "output_type": "stream",
          "name": "stdout",
          "text": [
            "Epoch [676/3000]: Train loss: 2.0688, Valid loss: 2.2273\n"
          ]
        },
        {
          "output_type": "stream",
          "name": "stderr",
          "text": [
            "Epoch [677/3000]: 100%|██████████| 9/9 [00:00<00:00, 69.86it/s, loss=2.25]\n"
          ]
        },
        {
          "output_type": "stream",
          "name": "stdout",
          "text": [
            "Epoch [677/3000]: Train loss: 2.1311, Valid loss: 2.0712\n"
          ]
        },
        {
          "output_type": "stream",
          "name": "stderr",
          "text": [
            "Epoch [678/3000]: 100%|██████████| 9/9 [00:00<00:00, 83.17it/s, loss=1.59]\n"
          ]
        },
        {
          "output_type": "stream",
          "name": "stdout",
          "text": [
            "Epoch [678/3000]: Train loss: 2.1467, Valid loss: 2.2294\n"
          ]
        },
        {
          "output_type": "stream",
          "name": "stderr",
          "text": [
            "Epoch [679/3000]: 100%|██████████| 9/9 [00:00<00:00, 74.28it/s, loss=3.7]\n"
          ]
        },
        {
          "output_type": "stream",
          "name": "stdout",
          "text": [
            "Epoch [679/3000]: Train loss: 2.6385, Valid loss: 2.4866\n"
          ]
        },
        {
          "output_type": "stream",
          "name": "stderr",
          "text": [
            "Epoch [680/3000]: 100%|██████████| 9/9 [00:00<00:00, 76.40it/s, loss=2.9]\n"
          ]
        },
        {
          "output_type": "stream",
          "name": "stdout",
          "text": [
            "Epoch [680/3000]: Train loss: 2.8597, Valid loss: 2.4719\n"
          ]
        },
        {
          "output_type": "stream",
          "name": "stderr",
          "text": [
            "Epoch [681/3000]: 100%|██████████| 9/9 [00:00<00:00, 70.77it/s, loss=3.79]\n"
          ]
        },
        {
          "output_type": "stream",
          "name": "stdout",
          "text": [
            "Epoch [681/3000]: Train loss: 2.6514, Valid loss: 2.4151\n"
          ]
        },
        {
          "output_type": "stream",
          "name": "stderr",
          "text": [
            "Epoch [682/3000]: 100%|██████████| 9/9 [00:00<00:00, 91.87it/s, loss=4.24]\n"
          ]
        },
        {
          "output_type": "stream",
          "name": "stdout",
          "text": [
            "Epoch [682/3000]: Train loss: 2.3955, Valid loss: 7.8327\n"
          ]
        },
        {
          "output_type": "stream",
          "name": "stderr",
          "text": [
            "Epoch [683/3000]: 100%|██████████| 9/9 [00:00<00:00, 94.71it/s, loss=2.81]\n"
          ]
        },
        {
          "output_type": "stream",
          "name": "stdout",
          "text": [
            "Epoch [683/3000]: Train loss: 6.1089, Valid loss: 7.4767\n"
          ]
        },
        {
          "output_type": "stream",
          "name": "stderr",
          "text": [
            "Epoch [684/3000]: 100%|██████████| 9/9 [00:00<00:00, 79.48it/s, loss=2.8]\n"
          ]
        },
        {
          "output_type": "stream",
          "name": "stdout",
          "text": [
            "Epoch [684/3000]: Train loss: 4.2867, Valid loss: 5.8076\n"
          ]
        },
        {
          "output_type": "stream",
          "name": "stderr",
          "text": [
            "Epoch [685/3000]: 100%|██████████| 9/9 [00:00<00:00, 80.02it/s, loss=4.7]\n"
          ]
        },
        {
          "output_type": "stream",
          "name": "stdout",
          "text": [
            "Epoch [685/3000]: Train loss: 4.0257, Valid loss: 2.5738\n"
          ]
        },
        {
          "output_type": "stream",
          "name": "stderr",
          "text": [
            "Epoch [686/3000]: 100%|██████████| 9/9 [00:00<00:00, 84.13it/s, loss=1.73]\n"
          ]
        },
        {
          "output_type": "stream",
          "name": "stdout",
          "text": [
            "Epoch [686/3000]: Train loss: 2.5146, Valid loss: 2.6760\n"
          ]
        },
        {
          "output_type": "stream",
          "name": "stderr",
          "text": [
            "Epoch [687/3000]: 100%|██████████| 9/9 [00:00<00:00, 82.51it/s, loss=3.51]\n"
          ]
        },
        {
          "output_type": "stream",
          "name": "stdout",
          "text": [
            "Epoch [687/3000]: Train loss: 2.6958, Valid loss: 2.2343\n"
          ]
        },
        {
          "output_type": "stream",
          "name": "stderr",
          "text": [
            "Epoch [688/3000]: 100%|██████████| 9/9 [00:00<00:00, 77.47it/s, loss=2.45]\n"
          ]
        },
        {
          "output_type": "stream",
          "name": "stdout",
          "text": [
            "Epoch [688/3000]: Train loss: 3.4447, Valid loss: 5.9020\n"
          ]
        },
        {
          "output_type": "stream",
          "name": "stderr",
          "text": [
            "Epoch [689/3000]: 100%|██████████| 9/9 [00:00<00:00, 94.18it/s, loss=3.46]\n"
          ]
        },
        {
          "output_type": "stream",
          "name": "stdout",
          "text": [
            "Epoch [689/3000]: Train loss: 3.6762, Valid loss: 2.5242\n"
          ]
        },
        {
          "output_type": "stream",
          "name": "stderr",
          "text": [
            "Epoch [690/3000]: 100%|██████████| 9/9 [00:00<00:00, 91.71it/s, loss=2.42]\n"
          ]
        },
        {
          "output_type": "stream",
          "name": "stdout",
          "text": [
            "Epoch [690/3000]: Train loss: 2.5212, Valid loss: 2.4753\n"
          ]
        },
        {
          "output_type": "stream",
          "name": "stderr",
          "text": [
            "Epoch [691/3000]: 100%|██████████| 9/9 [00:00<00:00, 85.56it/s, loss=2.67]\n"
          ]
        },
        {
          "output_type": "stream",
          "name": "stdout",
          "text": [
            "Epoch [691/3000]: Train loss: 2.4130, Valid loss: 2.8838\n"
          ]
        },
        {
          "output_type": "stream",
          "name": "stderr",
          "text": [
            "Epoch [692/3000]: 100%|██████████| 9/9 [00:00<00:00, 79.28it/s, loss=2.54]\n"
          ]
        },
        {
          "output_type": "stream",
          "name": "stdout",
          "text": [
            "Epoch [692/3000]: Train loss: 2.2380, Valid loss: 2.2883\n"
          ]
        },
        {
          "output_type": "stream",
          "name": "stderr",
          "text": [
            "Epoch [693/3000]: 100%|██████████| 9/9 [00:00<00:00, 80.55it/s, loss=2.07]\n"
          ]
        },
        {
          "output_type": "stream",
          "name": "stdout",
          "text": [
            "Epoch [693/3000]: Train loss: 2.0583, Valid loss: 2.6045\n"
          ]
        },
        {
          "output_type": "stream",
          "name": "stderr",
          "text": [
            "Epoch [694/3000]: 100%|██████████| 9/9 [00:00<00:00, 81.44it/s, loss=2.07]\n"
          ]
        },
        {
          "output_type": "stream",
          "name": "stdout",
          "text": [
            "Epoch [694/3000]: Train loss: 2.1053, Valid loss: 2.6360\n"
          ]
        },
        {
          "output_type": "stream",
          "name": "stderr",
          "text": [
            "Epoch [695/3000]: 100%|██████████| 9/9 [00:00<00:00, 92.75it/s, loss=1.8]\n"
          ]
        },
        {
          "output_type": "stream",
          "name": "stdout",
          "text": [
            "Epoch [695/3000]: Train loss: 2.2185, Valid loss: 2.8083\n"
          ]
        },
        {
          "output_type": "stream",
          "name": "stderr",
          "text": [
            "Epoch [696/3000]: 100%|██████████| 9/9 [00:00<00:00, 85.46it/s, loss=2.07]\n"
          ]
        },
        {
          "output_type": "stream",
          "name": "stdout",
          "text": [
            "Epoch [696/3000]: Train loss: 2.6080, Valid loss: 2.9089\n"
          ]
        },
        {
          "output_type": "stream",
          "name": "stderr",
          "text": [
            "Epoch [697/3000]: 100%|██████████| 9/9 [00:00<00:00, 83.72it/s, loss=2.82]\n"
          ]
        },
        {
          "output_type": "stream",
          "name": "stdout",
          "text": [
            "Epoch [697/3000]: Train loss: 2.3129, Valid loss: 3.2569\n"
          ]
        },
        {
          "output_type": "stream",
          "name": "stderr",
          "text": [
            "Epoch [698/3000]: 100%|██████████| 9/9 [00:00<00:00, 84.14it/s, loss=2.53]\n"
          ]
        },
        {
          "output_type": "stream",
          "name": "stdout",
          "text": [
            "Epoch [698/3000]: Train loss: 2.3242, Valid loss: 2.6769\n"
          ]
        },
        {
          "output_type": "stream",
          "name": "stderr",
          "text": [
            "Epoch [699/3000]: 100%|██████████| 9/9 [00:00<00:00, 83.60it/s, loss=3.21]\n"
          ]
        },
        {
          "output_type": "stream",
          "name": "stdout",
          "text": [
            "Epoch [699/3000]: Train loss: 2.4686, Valid loss: 2.5527\n"
          ]
        },
        {
          "output_type": "stream",
          "name": "stderr",
          "text": [
            "Epoch [700/3000]: 100%|██████████| 9/9 [00:00<00:00, 81.75it/s, loss=2.87]\n"
          ]
        },
        {
          "output_type": "stream",
          "name": "stdout",
          "text": [
            "Epoch [700/3000]: Train loss: 2.5123, Valid loss: 4.3454\n"
          ]
        },
        {
          "output_type": "stream",
          "name": "stderr",
          "text": [
            "Epoch [701/3000]: 100%|██████████| 9/9 [00:00<00:00, 91.71it/s, loss=2.89]\n"
          ]
        },
        {
          "output_type": "stream",
          "name": "stdout",
          "text": [
            "Epoch [701/3000]: Train loss: 2.8854, Valid loss: 2.8889\n"
          ]
        },
        {
          "output_type": "stream",
          "name": "stderr",
          "text": [
            "Epoch [702/3000]: 100%|██████████| 9/9 [00:00<00:00, 75.85it/s, loss=3.63]\n"
          ]
        },
        {
          "output_type": "stream",
          "name": "stdout",
          "text": [
            "Epoch [702/3000]: Train loss: 2.9625, Valid loss: 2.9299\n"
          ]
        },
        {
          "output_type": "stream",
          "name": "stderr",
          "text": [
            "Epoch [703/3000]: 100%|██████████| 9/9 [00:00<00:00, 93.05it/s, loss=1.92]\n"
          ]
        },
        {
          "output_type": "stream",
          "name": "stdout",
          "text": [
            "Epoch [703/3000]: Train loss: 2.6883, Valid loss: 2.8693\n"
          ]
        },
        {
          "output_type": "stream",
          "name": "stderr",
          "text": [
            "Epoch [704/3000]: 100%|██████████| 9/9 [00:00<00:00, 86.85it/s, loss=2.34]\n"
          ]
        },
        {
          "output_type": "stream",
          "name": "stdout",
          "text": [
            "Epoch [704/3000]: Train loss: 2.3183, Valid loss: 3.3897\n"
          ]
        },
        {
          "output_type": "stream",
          "name": "stderr",
          "text": [
            "Epoch [705/3000]: 100%|██████████| 9/9 [00:00<00:00, 84.88it/s, loss=2.37]\n"
          ]
        },
        {
          "output_type": "stream",
          "name": "stdout",
          "text": [
            "Epoch [705/3000]: Train loss: 2.4742, Valid loss: 3.4635\n"
          ]
        },
        {
          "output_type": "stream",
          "name": "stderr",
          "text": [
            "Epoch [706/3000]: 100%|██████████| 9/9 [00:00<00:00, 77.96it/s, loss=2.52]\n"
          ]
        },
        {
          "output_type": "stream",
          "name": "stdout",
          "text": [
            "Epoch [706/3000]: Train loss: 3.2832, Valid loss: 3.5180\n"
          ]
        },
        {
          "output_type": "stream",
          "name": "stderr",
          "text": [
            "Epoch [707/3000]: 100%|██████████| 9/9 [00:00<00:00, 71.49it/s, loss=7.27]\n"
          ]
        },
        {
          "output_type": "stream",
          "name": "stdout",
          "text": [
            "Epoch [707/3000]: Train loss: 3.3976, Valid loss: 5.3223\n"
          ]
        },
        {
          "output_type": "stream",
          "name": "stderr",
          "text": [
            "Epoch [708/3000]: 100%|██████████| 9/9 [00:00<00:00, 85.75it/s, loss=2.31]\n"
          ]
        },
        {
          "output_type": "stream",
          "name": "stdout",
          "text": [
            "Epoch [708/3000]: Train loss: 3.5228, Valid loss: 3.0592\n"
          ]
        },
        {
          "output_type": "stream",
          "name": "stderr",
          "text": [
            "Epoch [709/3000]: 100%|██████████| 9/9 [00:00<00:00, 70.96it/s, loss=2.69]\n"
          ]
        },
        {
          "output_type": "stream",
          "name": "stdout",
          "text": [
            "Epoch [709/3000]: Train loss: 2.4990, Valid loss: 2.9356\n"
          ]
        },
        {
          "output_type": "stream",
          "name": "stderr",
          "text": [
            "Epoch [710/3000]: 100%|██████████| 9/9 [00:00<00:00, 91.67it/s, loss=3.53]\n"
          ]
        },
        {
          "output_type": "stream",
          "name": "stdout",
          "text": [
            "Epoch [710/3000]: Train loss: 3.0601, Valid loss: 4.0160\n"
          ]
        },
        {
          "output_type": "stream",
          "name": "stderr",
          "text": [
            "Epoch [711/3000]: 100%|██████████| 9/9 [00:00<00:00, 87.15it/s, loss=2.35]\n"
          ]
        },
        {
          "output_type": "stream",
          "name": "stdout",
          "text": [
            "Epoch [711/3000]: Train loss: 2.8290, Valid loss: 5.0934\n"
          ]
        },
        {
          "output_type": "stream",
          "name": "stderr",
          "text": [
            "Epoch [712/3000]: 100%|██████████| 9/9 [00:00<00:00, 79.14it/s, loss=5.63]\n"
          ]
        },
        {
          "output_type": "stream",
          "name": "stdout",
          "text": [
            "Epoch [712/3000]: Train loss: 4.4952, Valid loss: 2.9255\n"
          ]
        },
        {
          "output_type": "stream",
          "name": "stderr",
          "text": [
            "Epoch [713/3000]: 100%|██████████| 9/9 [00:00<00:00, 85.87it/s, loss=7.53]\n"
          ]
        },
        {
          "output_type": "stream",
          "name": "stdout",
          "text": [
            "Epoch [713/3000]: Train loss: 4.6889, Valid loss: 3.4537\n"
          ]
        },
        {
          "output_type": "stream",
          "name": "stderr",
          "text": [
            "Epoch [714/3000]: 100%|██████████| 9/9 [00:00<00:00, 83.98it/s, loss=2.09]\n"
          ]
        },
        {
          "output_type": "stream",
          "name": "stdout",
          "text": [
            "Epoch [714/3000]: Train loss: 2.8917, Valid loss: 2.3618\n"
          ]
        },
        {
          "output_type": "stream",
          "name": "stderr",
          "text": [
            "Epoch [715/3000]: 100%|██████████| 9/9 [00:00<00:00, 82.62it/s, loss=2.26]\n"
          ]
        },
        {
          "output_type": "stream",
          "name": "stdout",
          "text": [
            "Epoch [715/3000]: Train loss: 2.1407, Valid loss: 2.9220\n"
          ]
        },
        {
          "output_type": "stream",
          "name": "stderr",
          "text": [
            "Epoch [716/3000]: 100%|██████████| 9/9 [00:00<00:00, 91.52it/s, loss=2.67]\n"
          ]
        },
        {
          "output_type": "stream",
          "name": "stdout",
          "text": [
            "Epoch [716/3000]: Train loss: 2.3841, Valid loss: 2.5192\n"
          ]
        },
        {
          "output_type": "stream",
          "name": "stderr",
          "text": [
            "Epoch [717/3000]: 100%|██████████| 9/9 [00:00<00:00, 75.59it/s, loss=2.75]\n"
          ]
        },
        {
          "output_type": "stream",
          "name": "stdout",
          "text": [
            "Epoch [717/3000]: Train loss: 2.6739, Valid loss: 2.1183\n"
          ]
        },
        {
          "output_type": "stream",
          "name": "stderr",
          "text": [
            "Epoch [718/3000]: 100%|██████████| 9/9 [00:00<00:00, 82.42it/s, loss=2.66]\n"
          ]
        },
        {
          "output_type": "stream",
          "name": "stdout",
          "text": [
            "Epoch [718/3000]: Train loss: 2.4462, Valid loss: 3.0077\n"
          ]
        },
        {
          "output_type": "stream",
          "name": "stderr",
          "text": [
            "Epoch [719/3000]: 100%|██████████| 9/9 [00:00<00:00, 85.51it/s, loss=1.74]\n"
          ]
        },
        {
          "output_type": "stream",
          "name": "stdout",
          "text": [
            "Epoch [719/3000]: Train loss: 2.5019, Valid loss: 2.9567\n"
          ]
        },
        {
          "output_type": "stream",
          "name": "stderr",
          "text": [
            "Epoch [720/3000]: 100%|██████████| 9/9 [00:00<00:00, 79.94it/s, loss=1.91]\n"
          ]
        },
        {
          "output_type": "stream",
          "name": "stdout",
          "text": [
            "Epoch [720/3000]: Train loss: 2.2752, Valid loss: 2.2882\n"
          ]
        },
        {
          "output_type": "stream",
          "name": "stderr",
          "text": [
            "Epoch [721/3000]: 100%|██████████| 9/9 [00:00<00:00, 71.11it/s, loss=2.48]\n"
          ]
        },
        {
          "output_type": "stream",
          "name": "stdout",
          "text": [
            "Epoch [721/3000]: Train loss: 2.4381, Valid loss: 2.3435\n"
          ]
        },
        {
          "output_type": "stream",
          "name": "stderr",
          "text": [
            "Epoch [722/3000]: 100%|██████████| 9/9 [00:00<00:00, 69.47it/s, loss=1.89]\n"
          ]
        },
        {
          "output_type": "stream",
          "name": "stdout",
          "text": [
            "Epoch [722/3000]: Train loss: 2.3125, Valid loss: 3.2713\n"
          ]
        },
        {
          "output_type": "stream",
          "name": "stderr",
          "text": [
            "Epoch [723/3000]: 100%|██████████| 9/9 [00:00<00:00, 74.11it/s, loss=2.23]\n"
          ]
        },
        {
          "output_type": "stream",
          "name": "stdout",
          "text": [
            "Epoch [723/3000]: Train loss: 2.4214, Valid loss: 2.4491\n"
          ]
        },
        {
          "output_type": "stream",
          "name": "stderr",
          "text": [
            "Epoch [724/3000]: 100%|██████████| 9/9 [00:00<00:00, 74.38it/s, loss=3.5]\n"
          ]
        },
        {
          "output_type": "stream",
          "name": "stdout",
          "text": [
            "Epoch [724/3000]: Train loss: 3.2532, Valid loss: 3.8454\n"
          ]
        },
        {
          "output_type": "stream",
          "name": "stderr",
          "text": [
            "Epoch [725/3000]: 100%|██████████| 9/9 [00:00<00:00, 74.90it/s, loss=3.04]\n"
          ]
        },
        {
          "output_type": "stream",
          "name": "stdout",
          "text": [
            "Epoch [725/3000]: Train loss: 2.9803, Valid loss: 3.4384\n"
          ]
        },
        {
          "output_type": "stream",
          "name": "stderr",
          "text": [
            "Epoch [726/3000]: 100%|██████████| 9/9 [00:00<00:00, 78.72it/s, loss=3.67]\n"
          ]
        },
        {
          "output_type": "stream",
          "name": "stdout",
          "text": [
            "Epoch [726/3000]: Train loss: 2.8173, Valid loss: 2.4218\n"
          ]
        },
        {
          "output_type": "stream",
          "name": "stderr",
          "text": [
            "Epoch [727/3000]: 100%|██████████| 9/9 [00:00<00:00, 85.18it/s, loss=5.14]\n"
          ]
        },
        {
          "output_type": "stream",
          "name": "stdout",
          "text": [
            "Epoch [727/3000]: Train loss: 3.1136, Valid loss: 7.2313\n"
          ]
        },
        {
          "output_type": "stream",
          "name": "stderr",
          "text": [
            "Epoch [728/3000]: 100%|██████████| 9/9 [00:00<00:00, 82.98it/s, loss=4.4]\n"
          ]
        },
        {
          "output_type": "stream",
          "name": "stdout",
          "text": [
            "Epoch [728/3000]: Train loss: 4.7185, Valid loss: 2.8864\n"
          ]
        },
        {
          "output_type": "stream",
          "name": "stderr",
          "text": [
            "Epoch [729/3000]: 100%|██████████| 9/9 [00:00<00:00, 87.24it/s, loss=2.43]\n"
          ]
        },
        {
          "output_type": "stream",
          "name": "stdout",
          "text": [
            "Epoch [729/3000]: Train loss: 2.7232, Valid loss: 3.0081\n"
          ]
        },
        {
          "output_type": "stream",
          "name": "stderr",
          "text": [
            "Epoch [730/3000]: 100%|██████████| 9/9 [00:00<00:00, 99.75it/s, loss=2.07]\n"
          ]
        },
        {
          "output_type": "stream",
          "name": "stdout",
          "text": [
            "Epoch [730/3000]: Train loss: 2.5186, Valid loss: 4.2936\n"
          ]
        },
        {
          "output_type": "stream",
          "name": "stderr",
          "text": [
            "Epoch [731/3000]: 100%|██████████| 9/9 [00:00<00:00, 89.97it/s, loss=5.11]\n"
          ]
        },
        {
          "output_type": "stream",
          "name": "stdout",
          "text": [
            "Epoch [731/3000]: Train loss: 3.4209, Valid loss: 3.2657\n"
          ]
        },
        {
          "output_type": "stream",
          "name": "stderr",
          "text": [
            "Epoch [732/3000]: 100%|██████████| 9/9 [00:00<00:00, 83.95it/s, loss=2.94]\n"
          ]
        },
        {
          "output_type": "stream",
          "name": "stdout",
          "text": [
            "Epoch [732/3000]: Train loss: 3.3279, Valid loss: 2.1338\n"
          ]
        },
        {
          "output_type": "stream",
          "name": "stderr",
          "text": [
            "Epoch [733/3000]: 100%|██████████| 9/9 [00:00<00:00, 84.23it/s, loss=2.33]\n"
          ]
        },
        {
          "output_type": "stream",
          "name": "stdout",
          "text": [
            "Epoch [733/3000]: Train loss: 2.5016, Valid loss: 3.2329\n"
          ]
        },
        {
          "output_type": "stream",
          "name": "stderr",
          "text": [
            "Epoch [734/3000]: 100%|██████████| 9/9 [00:00<00:00, 85.23it/s, loss=1.85]\n"
          ]
        },
        {
          "output_type": "stream",
          "name": "stdout",
          "text": [
            "Epoch [734/3000]: Train loss: 2.1969, Valid loss: 3.1147\n"
          ]
        },
        {
          "output_type": "stream",
          "name": "stderr",
          "text": [
            "Epoch [735/3000]: 100%|██████████| 9/9 [00:00<00:00, 79.11it/s, loss=5.58]\n"
          ]
        },
        {
          "output_type": "stream",
          "name": "stdout",
          "text": [
            "Epoch [735/3000]: Train loss: 3.4103, Valid loss: 2.4432\n"
          ]
        },
        {
          "output_type": "stream",
          "name": "stderr",
          "text": [
            "Epoch [736/3000]: 100%|██████████| 9/9 [00:00<00:00, 67.85it/s, loss=3.51]\n"
          ]
        },
        {
          "output_type": "stream",
          "name": "stdout",
          "text": [
            "Epoch [736/3000]: Train loss: 2.6897, Valid loss: 3.3306\n"
          ]
        },
        {
          "output_type": "stream",
          "name": "stderr",
          "text": [
            "Epoch [737/3000]: 100%|██████████| 9/9 [00:00<00:00, 90.55it/s, loss=1.76]\n"
          ]
        },
        {
          "output_type": "stream",
          "name": "stdout",
          "text": [
            "Epoch [737/3000]: Train loss: 2.2550, Valid loss: 2.2783\n"
          ]
        },
        {
          "output_type": "stream",
          "name": "stderr",
          "text": [
            "Epoch [738/3000]: 100%|██████████| 9/9 [00:00<00:00, 97.18it/s, loss=2.1]\n"
          ]
        },
        {
          "output_type": "stream",
          "name": "stdout",
          "text": [
            "Epoch [738/3000]: Train loss: 2.2040, Valid loss: 2.0431\n"
          ]
        },
        {
          "output_type": "stream",
          "name": "stderr",
          "text": [
            "Epoch [739/3000]: 100%|██████████| 9/9 [00:00<00:00, 93.17it/s, loss=2.43]\n"
          ]
        },
        {
          "output_type": "stream",
          "name": "stdout",
          "text": [
            "Epoch [739/3000]: Train loss: 2.1500, Valid loss: 3.1045\n"
          ]
        },
        {
          "output_type": "stream",
          "name": "stderr",
          "text": [
            "Epoch [740/3000]: 100%|██████████| 9/9 [00:00<00:00, 98.07it/s, loss=1.63]\n"
          ]
        },
        {
          "output_type": "stream",
          "name": "stdout",
          "text": [
            "Epoch [740/3000]: Train loss: 2.4574, Valid loss: 2.7667\n"
          ]
        },
        {
          "output_type": "stream",
          "name": "stderr",
          "text": [
            "Epoch [741/3000]: 100%|██████████| 9/9 [00:00<00:00, 87.72it/s, loss=2.8]\n"
          ]
        },
        {
          "output_type": "stream",
          "name": "stdout",
          "text": [
            "Epoch [741/3000]: Train loss: 2.7564, Valid loss: 4.1795\n"
          ]
        },
        {
          "output_type": "stream",
          "name": "stderr",
          "text": [
            "Epoch [742/3000]: 100%|██████████| 9/9 [00:00<00:00, 76.03it/s, loss=3.03]\n"
          ]
        },
        {
          "output_type": "stream",
          "name": "stdout",
          "text": [
            "Epoch [742/3000]: Train loss: 2.8109, Valid loss: 4.3256\n"
          ]
        },
        {
          "output_type": "stream",
          "name": "stderr",
          "text": [
            "Epoch [743/3000]: 100%|██████████| 9/9 [00:00<00:00, 87.35it/s, loss=3.38]\n"
          ]
        },
        {
          "output_type": "stream",
          "name": "stdout",
          "text": [
            "Epoch [743/3000]: Train loss: 2.8118, Valid loss: 2.2945\n"
          ]
        },
        {
          "output_type": "stream",
          "name": "stderr",
          "text": [
            "Epoch [744/3000]: 100%|██████████| 9/9 [00:00<00:00, 72.13it/s, loss=1.66]\n"
          ]
        },
        {
          "output_type": "stream",
          "name": "stdout",
          "text": [
            "Epoch [744/3000]: Train loss: 2.0774, Valid loss: 2.8815\n"
          ]
        },
        {
          "output_type": "stream",
          "name": "stderr",
          "text": [
            "Epoch [745/3000]: 100%|██████████| 9/9 [00:00<00:00, 77.62it/s, loss=2.98]\n"
          ]
        },
        {
          "output_type": "stream",
          "name": "stdout",
          "text": [
            "Epoch [745/3000]: Train loss: 2.6405, Valid loss: 2.5757\n"
          ]
        },
        {
          "output_type": "stream",
          "name": "stderr",
          "text": [
            "Epoch [746/3000]: 100%|██████████| 9/9 [00:00<00:00, 79.20it/s, loss=2.38]\n"
          ]
        },
        {
          "output_type": "stream",
          "name": "stdout",
          "text": [
            "Epoch [746/3000]: Train loss: 2.6401, Valid loss: 4.1651\n"
          ]
        },
        {
          "output_type": "stream",
          "name": "stderr",
          "text": [
            "Epoch [747/3000]: 100%|██████████| 9/9 [00:00<00:00, 92.74it/s, loss=2.67]\n"
          ]
        },
        {
          "output_type": "stream",
          "name": "stdout",
          "text": [
            "Epoch [747/3000]: Train loss: 2.5667, Valid loss: 2.2661\n"
          ]
        },
        {
          "output_type": "stream",
          "name": "stderr",
          "text": [
            "Epoch [748/3000]: 100%|██████████| 9/9 [00:00<00:00, 93.40it/s, loss=2.12]\n"
          ]
        },
        {
          "output_type": "stream",
          "name": "stdout",
          "text": [
            "Epoch [748/3000]: Train loss: 2.0754, Valid loss: 2.2789\n"
          ]
        },
        {
          "output_type": "stream",
          "name": "stderr",
          "text": [
            "Epoch [749/3000]: 100%|██████████| 9/9 [00:00<00:00, 94.14it/s, loss=1.86]\n"
          ]
        },
        {
          "output_type": "stream",
          "name": "stdout",
          "text": [
            "Epoch [749/3000]: Train loss: 2.0704, Valid loss: 2.1094\n"
          ]
        },
        {
          "output_type": "stream",
          "name": "stderr",
          "text": [
            "Epoch [750/3000]: 100%|██████████| 9/9 [00:00<00:00, 82.80it/s, loss=2.08]\n"
          ]
        },
        {
          "output_type": "stream",
          "name": "stdout",
          "text": [
            "Epoch [750/3000]: Train loss: 2.1733, Valid loss: 2.2499\n"
          ]
        },
        {
          "output_type": "stream",
          "name": "stderr",
          "text": [
            "Epoch [751/3000]: 100%|██████████| 9/9 [00:00<00:00, 28.69it/s, loss=2.53]\n"
          ]
        },
        {
          "output_type": "stream",
          "name": "stdout",
          "text": [
            "Epoch [751/3000]: Train loss: 2.3863, Valid loss: 2.7968\n"
          ]
        },
        {
          "output_type": "stream",
          "name": "stderr",
          "text": [
            "Epoch [752/3000]: 100%|██████████| 9/9 [00:00<00:00, 90.19it/s, loss=2.2]\n"
          ]
        },
        {
          "output_type": "stream",
          "name": "stdout",
          "text": [
            "Epoch [752/3000]: Train loss: 2.2728, Valid loss: 2.6953\n"
          ]
        },
        {
          "output_type": "stream",
          "name": "stderr",
          "text": [
            "Epoch [753/3000]: 100%|██████████| 9/9 [00:00<00:00, 83.21it/s, loss=2.56]\n"
          ]
        },
        {
          "output_type": "stream",
          "name": "stdout",
          "text": [
            "Epoch [753/3000]: Train loss: 2.2409, Valid loss: 2.3074\n"
          ]
        },
        {
          "output_type": "stream",
          "name": "stderr",
          "text": [
            "Epoch [754/3000]: 100%|██████████| 9/9 [00:00<00:00, 78.28it/s, loss=2.36]\n"
          ]
        },
        {
          "output_type": "stream",
          "name": "stdout",
          "text": [
            "Epoch [754/3000]: Train loss: 2.2006, Valid loss: 2.4795\n"
          ]
        },
        {
          "output_type": "stream",
          "name": "stderr",
          "text": [
            "Epoch [755/3000]: 100%|██████████| 9/9 [00:00<00:00, 92.38it/s, loss=2.36]\n"
          ]
        },
        {
          "output_type": "stream",
          "name": "stdout",
          "text": [
            "Epoch [755/3000]: Train loss: 2.1878, Valid loss: 4.3938\n"
          ]
        },
        {
          "output_type": "stream",
          "name": "stderr",
          "text": [
            "Epoch [756/3000]: 100%|██████████| 9/9 [00:00<00:00, 79.99it/s, loss=3.3]\n"
          ]
        },
        {
          "output_type": "stream",
          "name": "stdout",
          "text": [
            "Epoch [756/3000]: Train loss: 2.9412, Valid loss: 2.2368\n"
          ]
        },
        {
          "output_type": "stream",
          "name": "stderr",
          "text": [
            "Epoch [757/3000]: 100%|██████████| 9/9 [00:00<00:00, 85.55it/s, loss=3.34]\n"
          ]
        },
        {
          "output_type": "stream",
          "name": "stdout",
          "text": [
            "Epoch [757/3000]: Train loss: 3.0926, Valid loss: 2.0056\n",
            "Saving model with loss 2.006...\n"
          ]
        },
        {
          "output_type": "stream",
          "name": "stderr",
          "text": [
            "Epoch [758/3000]: 100%|██████████| 9/9 [00:00<00:00, 81.58it/s, loss=2.88]\n"
          ]
        },
        {
          "output_type": "stream",
          "name": "stdout",
          "text": [
            "Epoch [758/3000]: Train loss: 2.5417, Valid loss: 4.1278\n"
          ]
        },
        {
          "output_type": "stream",
          "name": "stderr",
          "text": [
            "Epoch [759/3000]: 100%|██████████| 9/9 [00:00<00:00, 75.55it/s, loss=3.68]\n"
          ]
        },
        {
          "output_type": "stream",
          "name": "stdout",
          "text": [
            "Epoch [759/3000]: Train loss: 2.8302, Valid loss: 3.1804\n"
          ]
        },
        {
          "output_type": "stream",
          "name": "stderr",
          "text": [
            "Epoch [760/3000]: 100%|██████████| 9/9 [00:00<00:00, 83.29it/s, loss=4.09]\n"
          ]
        },
        {
          "output_type": "stream",
          "name": "stdout",
          "text": [
            "Epoch [760/3000]: Train loss: 3.5235, Valid loss: 3.1352\n"
          ]
        },
        {
          "output_type": "stream",
          "name": "stderr",
          "text": [
            "Epoch [761/3000]: 100%|██████████| 9/9 [00:00<00:00, 92.55it/s, loss=1.82]\n"
          ]
        },
        {
          "output_type": "stream",
          "name": "stdout",
          "text": [
            "Epoch [761/3000]: Train loss: 2.6848, Valid loss: 2.8343\n"
          ]
        },
        {
          "output_type": "stream",
          "name": "stderr",
          "text": [
            "Epoch [762/3000]: 100%|██████████| 9/9 [00:00<00:00, 86.52it/s, loss=1.96]\n"
          ]
        },
        {
          "output_type": "stream",
          "name": "stdout",
          "text": [
            "Epoch [762/3000]: Train loss: 2.1252, Valid loss: 2.5088\n"
          ]
        },
        {
          "output_type": "stream",
          "name": "stderr",
          "text": [
            "Epoch [763/3000]: 100%|██████████| 9/9 [00:00<00:00, 72.46it/s, loss=2.68]\n"
          ]
        },
        {
          "output_type": "stream",
          "name": "stdout",
          "text": [
            "Epoch [763/3000]: Train loss: 2.2089, Valid loss: 3.5312\n"
          ]
        },
        {
          "output_type": "stream",
          "name": "stderr",
          "text": [
            "Epoch [764/3000]: 100%|██████████| 9/9 [00:00<00:00, 90.73it/s, loss=3.38]\n"
          ]
        },
        {
          "output_type": "stream",
          "name": "stdout",
          "text": [
            "Epoch [764/3000]: Train loss: 2.6971, Valid loss: 2.9652\n"
          ]
        },
        {
          "output_type": "stream",
          "name": "stderr",
          "text": [
            "Epoch [765/3000]: 100%|██████████| 9/9 [00:00<00:00, 77.31it/s, loss=1.85]\n"
          ]
        },
        {
          "output_type": "stream",
          "name": "stdout",
          "text": [
            "Epoch [765/3000]: Train loss: 2.4587, Valid loss: 2.3187\n"
          ]
        },
        {
          "output_type": "stream",
          "name": "stderr",
          "text": [
            "Epoch [766/3000]: 100%|██████████| 9/9 [00:00<00:00, 90.92it/s, loss=1.97]\n"
          ]
        },
        {
          "output_type": "stream",
          "name": "stdout",
          "text": [
            "Epoch [766/3000]: Train loss: 2.0723, Valid loss: 2.0449\n"
          ]
        },
        {
          "output_type": "stream",
          "name": "stderr",
          "text": [
            "Epoch [767/3000]: 100%|██████████| 9/9 [00:00<00:00, 77.24it/s, loss=2.86]\n"
          ]
        },
        {
          "output_type": "stream",
          "name": "stdout",
          "text": [
            "Epoch [767/3000]: Train loss: 2.2693, Valid loss: 2.3833\n"
          ]
        },
        {
          "output_type": "stream",
          "name": "stderr",
          "text": [
            "Epoch [768/3000]: 100%|██████████| 9/9 [00:00<00:00, 92.13it/s, loss=2.04]\n"
          ]
        },
        {
          "output_type": "stream",
          "name": "stdout",
          "text": [
            "Epoch [768/3000]: Train loss: 2.2991, Valid loss: 4.3948\n"
          ]
        },
        {
          "output_type": "stream",
          "name": "stderr",
          "text": [
            "Epoch [769/3000]: 100%|██████████| 9/9 [00:00<00:00, 91.56it/s, loss=4.31]\n"
          ]
        },
        {
          "output_type": "stream",
          "name": "stdout",
          "text": [
            "Epoch [769/3000]: Train loss: 3.0139, Valid loss: 2.3133\n"
          ]
        },
        {
          "output_type": "stream",
          "name": "stderr",
          "text": [
            "Epoch [770/3000]: 100%|██████████| 9/9 [00:00<00:00, 87.72it/s, loss=1.85]\n"
          ]
        },
        {
          "output_type": "stream",
          "name": "stdout",
          "text": [
            "Epoch [770/3000]: Train loss: 2.6722, Valid loss: 4.0894\n"
          ]
        },
        {
          "output_type": "stream",
          "name": "stderr",
          "text": [
            "Epoch [771/3000]: 100%|██████████| 9/9 [00:00<00:00, 78.27it/s, loss=3.76]\n"
          ]
        },
        {
          "output_type": "stream",
          "name": "stdout",
          "text": [
            "Epoch [771/3000]: Train loss: 2.9648, Valid loss: 2.3354\n"
          ]
        },
        {
          "output_type": "stream",
          "name": "stderr",
          "text": [
            "Epoch [772/3000]: 100%|██████████| 9/9 [00:00<00:00, 77.57it/s, loss=2.16]\n"
          ]
        },
        {
          "output_type": "stream",
          "name": "stdout",
          "text": [
            "Epoch [772/3000]: Train loss: 2.2789, Valid loss: 2.5318\n"
          ]
        },
        {
          "output_type": "stream",
          "name": "stderr",
          "text": [
            "Epoch [773/3000]: 100%|██████████| 9/9 [00:00<00:00, 71.50it/s, loss=1.83]\n"
          ]
        },
        {
          "output_type": "stream",
          "name": "stdout",
          "text": [
            "Epoch [773/3000]: Train loss: 2.1787, Valid loss: 2.2302\n"
          ]
        },
        {
          "output_type": "stream",
          "name": "stderr",
          "text": [
            "Epoch [774/3000]: 100%|██████████| 9/9 [00:00<00:00, 97.16it/s, loss=2.53]\n"
          ]
        },
        {
          "output_type": "stream",
          "name": "stdout",
          "text": [
            "Epoch [774/3000]: Train loss: 2.1616, Valid loss: 2.8262\n"
          ]
        },
        {
          "output_type": "stream",
          "name": "stderr",
          "text": [
            "Epoch [775/3000]: 100%|██████████| 9/9 [00:00<00:00, 78.79it/s, loss=1.6]\n"
          ]
        },
        {
          "output_type": "stream",
          "name": "stdout",
          "text": [
            "Epoch [775/3000]: Train loss: 2.2408, Valid loss: 2.9589\n"
          ]
        },
        {
          "output_type": "stream",
          "name": "stderr",
          "text": [
            "Epoch [776/3000]: 100%|██████████| 9/9 [00:00<00:00, 77.55it/s, loss=1.81]\n"
          ]
        },
        {
          "output_type": "stream",
          "name": "stdout",
          "text": [
            "Epoch [776/3000]: Train loss: 2.1131, Valid loss: 2.0886\n"
          ]
        },
        {
          "output_type": "stream",
          "name": "stderr",
          "text": [
            "Epoch [777/3000]: 100%|██████████| 9/9 [00:00<00:00, 73.00it/s, loss=2.81]\n"
          ]
        },
        {
          "output_type": "stream",
          "name": "stdout",
          "text": [
            "Epoch [777/3000]: Train loss: 2.0725, Valid loss: 2.0656\n"
          ]
        },
        {
          "output_type": "stream",
          "name": "stderr",
          "text": [
            "Epoch [778/3000]: 100%|██████████| 9/9 [00:00<00:00, 84.38it/s, loss=2.68]\n"
          ]
        },
        {
          "output_type": "stream",
          "name": "stdout",
          "text": [
            "Epoch [778/3000]: Train loss: 2.1800, Valid loss: 2.1977\n"
          ]
        },
        {
          "output_type": "stream",
          "name": "stderr",
          "text": [
            "Epoch [779/3000]: 100%|██████████| 9/9 [00:00<00:00, 91.25it/s, loss=1.75]\n"
          ]
        },
        {
          "output_type": "stream",
          "name": "stdout",
          "text": [
            "Epoch [779/3000]: Train loss: 2.3609, Valid loss: 2.5520\n"
          ]
        },
        {
          "output_type": "stream",
          "name": "stderr",
          "text": [
            "Epoch [780/3000]: 100%|██████████| 9/9 [00:00<00:00, 86.98it/s, loss=1.97]\n"
          ]
        },
        {
          "output_type": "stream",
          "name": "stdout",
          "text": [
            "Epoch [780/3000]: Train loss: 2.2054, Valid loss: 2.2317\n"
          ]
        },
        {
          "output_type": "stream",
          "name": "stderr",
          "text": [
            "Epoch [781/3000]: 100%|██████████| 9/9 [00:00<00:00, 77.76it/s, loss=2.23]\n"
          ]
        },
        {
          "output_type": "stream",
          "name": "stdout",
          "text": [
            "Epoch [781/3000]: Train loss: 2.4600, Valid loss: 3.5421\n"
          ]
        },
        {
          "output_type": "stream",
          "name": "stderr",
          "text": [
            "Epoch [782/3000]: 100%|██████████| 9/9 [00:00<00:00, 91.59it/s, loss=3.52]\n"
          ]
        },
        {
          "output_type": "stream",
          "name": "stdout",
          "text": [
            "Epoch [782/3000]: Train loss: 4.2549, Valid loss: 2.2227\n"
          ]
        },
        {
          "output_type": "stream",
          "name": "stderr",
          "text": [
            "Epoch [783/3000]: 100%|██████████| 9/9 [00:00<00:00, 75.41it/s, loss=2.66]\n"
          ]
        },
        {
          "output_type": "stream",
          "name": "stdout",
          "text": [
            "Epoch [783/3000]: Train loss: 2.9930, Valid loss: 5.8177\n"
          ]
        },
        {
          "output_type": "stream",
          "name": "stderr",
          "text": [
            "Epoch [784/3000]: 100%|██████████| 9/9 [00:00<00:00, 83.79it/s, loss=4.44]\n"
          ]
        },
        {
          "output_type": "stream",
          "name": "stdout",
          "text": [
            "Epoch [784/3000]: Train loss: 4.1692, Valid loss: 2.2403\n"
          ]
        },
        {
          "output_type": "stream",
          "name": "stderr",
          "text": [
            "Epoch [785/3000]: 100%|██████████| 9/9 [00:00<00:00, 90.59it/s, loss=4.32]\n"
          ]
        },
        {
          "output_type": "stream",
          "name": "stdout",
          "text": [
            "Epoch [785/3000]: Train loss: 3.1116, Valid loss: 3.3281\n"
          ]
        },
        {
          "output_type": "stream",
          "name": "stderr",
          "text": [
            "Epoch [786/3000]: 100%|██████████| 9/9 [00:00<00:00, 78.26it/s, loss=2.22]\n"
          ]
        },
        {
          "output_type": "stream",
          "name": "stdout",
          "text": [
            "Epoch [786/3000]: Train loss: 3.4126, Valid loss: 4.7294\n"
          ]
        },
        {
          "output_type": "stream",
          "name": "stderr",
          "text": [
            "Epoch [787/3000]: 100%|██████████| 9/9 [00:00<00:00, 86.84it/s, loss=3.02]\n"
          ]
        },
        {
          "output_type": "stream",
          "name": "stdout",
          "text": [
            "Epoch [787/3000]: Train loss: 2.9617, Valid loss: 2.7887\n"
          ]
        },
        {
          "output_type": "stream",
          "name": "stderr",
          "text": [
            "Epoch [788/3000]: 100%|██████████| 9/9 [00:00<00:00, 90.79it/s, loss=2.73]\n"
          ]
        },
        {
          "output_type": "stream",
          "name": "stdout",
          "text": [
            "Epoch [788/3000]: Train loss: 2.5833, Valid loss: 2.3164\n"
          ]
        },
        {
          "output_type": "stream",
          "name": "stderr",
          "text": [
            "Epoch [789/3000]: 100%|██████████| 9/9 [00:00<00:00, 85.86it/s, loss=1.65]\n"
          ]
        },
        {
          "output_type": "stream",
          "name": "stdout",
          "text": [
            "Epoch [789/3000]: Train loss: 2.5098, Valid loss: 3.2451\n"
          ]
        },
        {
          "output_type": "stream",
          "name": "stderr",
          "text": [
            "Epoch [790/3000]: 100%|██████████| 9/9 [00:00<00:00, 95.61it/s, loss=2.48]\n"
          ]
        },
        {
          "output_type": "stream",
          "name": "stdout",
          "text": [
            "Epoch [790/3000]: Train loss: 2.3870, Valid loss: 2.3456\n"
          ]
        },
        {
          "output_type": "stream",
          "name": "stderr",
          "text": [
            "Epoch [791/3000]: 100%|██████████| 9/9 [00:00<00:00, 80.86it/s, loss=3.49]\n"
          ]
        },
        {
          "output_type": "stream",
          "name": "stdout",
          "text": [
            "Epoch [791/3000]: Train loss: 2.7319, Valid loss: 5.5246\n"
          ]
        },
        {
          "output_type": "stream",
          "name": "stderr",
          "text": [
            "Epoch [792/3000]: 100%|██████████| 9/9 [00:00<00:00, 90.51it/s, loss=2.13]\n"
          ]
        },
        {
          "output_type": "stream",
          "name": "stdout",
          "text": [
            "Epoch [792/3000]: Train loss: 3.8125, Valid loss: 3.5039\n"
          ]
        },
        {
          "output_type": "stream",
          "name": "stderr",
          "text": [
            "Epoch [793/3000]: 100%|██████████| 9/9 [00:00<00:00, 78.34it/s, loss=2.49]\n"
          ]
        },
        {
          "output_type": "stream",
          "name": "stdout",
          "text": [
            "Epoch [793/3000]: Train loss: 2.6162, Valid loss: 2.4483\n"
          ]
        },
        {
          "output_type": "stream",
          "name": "stderr",
          "text": [
            "Epoch [794/3000]: 100%|██████████| 9/9 [00:00<00:00, 82.93it/s, loss=2.14]\n"
          ]
        },
        {
          "output_type": "stream",
          "name": "stdout",
          "text": [
            "Epoch [794/3000]: Train loss: 2.2050, Valid loss: 2.8519\n"
          ]
        },
        {
          "output_type": "stream",
          "name": "stderr",
          "text": [
            "Epoch [795/3000]: 100%|██████████| 9/9 [00:00<00:00, 85.77it/s, loss=3.34]\n"
          ]
        },
        {
          "output_type": "stream",
          "name": "stdout",
          "text": [
            "Epoch [795/3000]: Train loss: 2.3792, Valid loss: 2.4993\n"
          ]
        },
        {
          "output_type": "stream",
          "name": "stderr",
          "text": [
            "Epoch [796/3000]: 100%|██████████| 9/9 [00:00<00:00, 92.81it/s, loss=2.23]\n"
          ]
        },
        {
          "output_type": "stream",
          "name": "stdout",
          "text": [
            "Epoch [796/3000]: Train loss: 2.3069, Valid loss: 2.5252\n"
          ]
        },
        {
          "output_type": "stream",
          "name": "stderr",
          "text": [
            "Epoch [797/3000]: 100%|██████████| 9/9 [00:00<00:00, 73.61it/s, loss=1.66]\n"
          ]
        },
        {
          "output_type": "stream",
          "name": "stdout",
          "text": [
            "Epoch [797/3000]: Train loss: 2.1116, Valid loss: 2.5650\n"
          ]
        },
        {
          "output_type": "stream",
          "name": "stderr",
          "text": [
            "Epoch [798/3000]: 100%|██████████| 9/9 [00:00<00:00, 79.47it/s, loss=2.08]\n"
          ]
        },
        {
          "output_type": "stream",
          "name": "stdout",
          "text": [
            "Epoch [798/3000]: Train loss: 2.1347, Valid loss: 2.3246\n"
          ]
        },
        {
          "output_type": "stream",
          "name": "stderr",
          "text": [
            "Epoch [799/3000]: 100%|██████████| 9/9 [00:00<00:00, 96.24it/s, loss=1.55]\n"
          ]
        },
        {
          "output_type": "stream",
          "name": "stdout",
          "text": [
            "Epoch [799/3000]: Train loss: 2.1265, Valid loss: 1.9271\n",
            "Saving model with loss 1.927...\n"
          ]
        },
        {
          "output_type": "stream",
          "name": "stderr",
          "text": [
            "Epoch [800/3000]: 100%|██████████| 9/9 [00:00<00:00, 92.78it/s, loss=2.75]\n"
          ]
        },
        {
          "output_type": "stream",
          "name": "stdout",
          "text": [
            "Epoch [800/3000]: Train loss: 2.0805, Valid loss: 2.5318\n"
          ]
        },
        {
          "output_type": "stream",
          "name": "stderr",
          "text": [
            "Epoch [801/3000]: 100%|██████████| 9/9 [00:00<00:00, 85.64it/s, loss=2.98]\n"
          ]
        },
        {
          "output_type": "stream",
          "name": "stdout",
          "text": [
            "Epoch [801/3000]: Train loss: 2.3856, Valid loss: 2.4075\n"
          ]
        },
        {
          "output_type": "stream",
          "name": "stderr",
          "text": [
            "Epoch [802/3000]: 100%|██████████| 9/9 [00:00<00:00, 82.39it/s, loss=2.21]\n"
          ]
        },
        {
          "output_type": "stream",
          "name": "stdout",
          "text": [
            "Epoch [802/3000]: Train loss: 2.7554, Valid loss: 4.9569\n"
          ]
        },
        {
          "output_type": "stream",
          "name": "stderr",
          "text": [
            "Epoch [803/3000]: 100%|██████████| 9/9 [00:00<00:00, 76.24it/s, loss=3.34]\n"
          ]
        },
        {
          "output_type": "stream",
          "name": "stdout",
          "text": [
            "Epoch [803/3000]: Train loss: 2.7603, Valid loss: 2.5180\n"
          ]
        },
        {
          "output_type": "stream",
          "name": "stderr",
          "text": [
            "Epoch [804/3000]: 100%|██████████| 9/9 [00:00<00:00, 86.59it/s, loss=2.19]\n"
          ]
        },
        {
          "output_type": "stream",
          "name": "stdout",
          "text": [
            "Epoch [804/3000]: Train loss: 2.2372, Valid loss: 2.3064\n"
          ]
        },
        {
          "output_type": "stream",
          "name": "stderr",
          "text": [
            "Epoch [805/3000]: 100%|██████████| 9/9 [00:00<00:00, 92.90it/s, loss=1.83]\n"
          ]
        },
        {
          "output_type": "stream",
          "name": "stdout",
          "text": [
            "Epoch [805/3000]: Train loss: 2.1144, Valid loss: 2.1779\n"
          ]
        },
        {
          "output_type": "stream",
          "name": "stderr",
          "text": [
            "Epoch [806/3000]: 100%|██████████| 9/9 [00:00<00:00, 85.35it/s, loss=3.29]\n"
          ]
        },
        {
          "output_type": "stream",
          "name": "stdout",
          "text": [
            "Epoch [806/3000]: Train loss: 2.3426, Valid loss: 2.6774\n"
          ]
        },
        {
          "output_type": "stream",
          "name": "stderr",
          "text": [
            "Epoch [807/3000]: 100%|██████████| 9/9 [00:00<00:00, 85.42it/s, loss=1.32]\n"
          ]
        },
        {
          "output_type": "stream",
          "name": "stdout",
          "text": [
            "Epoch [807/3000]: Train loss: 2.9800, Valid loss: 3.2533\n"
          ]
        },
        {
          "output_type": "stream",
          "name": "stderr",
          "text": [
            "Epoch [808/3000]: 100%|██████████| 9/9 [00:00<00:00, 81.05it/s, loss=2.13]\n"
          ]
        },
        {
          "output_type": "stream",
          "name": "stdout",
          "text": [
            "Epoch [808/3000]: Train loss: 2.2229, Valid loss: 1.9915\n"
          ]
        },
        {
          "output_type": "stream",
          "name": "stderr",
          "text": [
            "Epoch [809/3000]: 100%|██████████| 9/9 [00:00<00:00, 70.56it/s, loss=1.88]\n"
          ]
        },
        {
          "output_type": "stream",
          "name": "stdout",
          "text": [
            "Epoch [809/3000]: Train loss: 2.2037, Valid loss: 2.2927\n"
          ]
        },
        {
          "output_type": "stream",
          "name": "stderr",
          "text": [
            "Epoch [810/3000]: 100%|██████████| 9/9 [00:00<00:00, 75.66it/s, loss=2.62]\n"
          ]
        },
        {
          "output_type": "stream",
          "name": "stdout",
          "text": [
            "Epoch [810/3000]: Train loss: 2.1896, Valid loss: 2.3471\n"
          ]
        },
        {
          "output_type": "stream",
          "name": "stderr",
          "text": [
            "Epoch [811/3000]: 100%|██████████| 9/9 [00:00<00:00, 74.28it/s, loss=1.76]\n"
          ]
        },
        {
          "output_type": "stream",
          "name": "stdout",
          "text": [
            "Epoch [811/3000]: Train loss: 2.0300, Valid loss: 2.4161\n"
          ]
        },
        {
          "output_type": "stream",
          "name": "stderr",
          "text": [
            "Epoch [812/3000]: 100%|██████████| 9/9 [00:00<00:00, 82.22it/s, loss=2.82]\n"
          ]
        },
        {
          "output_type": "stream",
          "name": "stdout",
          "text": [
            "Epoch [812/3000]: Train loss: 2.1873, Valid loss: 2.7962\n"
          ]
        },
        {
          "output_type": "stream",
          "name": "stderr",
          "text": [
            "Epoch [813/3000]: 100%|██████████| 9/9 [00:00<00:00, 79.24it/s, loss=2.38]\n"
          ]
        },
        {
          "output_type": "stream",
          "name": "stdout",
          "text": [
            "Epoch [813/3000]: Train loss: 2.5141, Valid loss: 2.4116\n"
          ]
        },
        {
          "output_type": "stream",
          "name": "stderr",
          "text": [
            "Epoch [814/3000]: 100%|██████████| 9/9 [00:00<00:00, 91.85it/s, loss=2.89]\n"
          ]
        },
        {
          "output_type": "stream",
          "name": "stdout",
          "text": [
            "Epoch [814/3000]: Train loss: 3.2306, Valid loss: 3.1286\n"
          ]
        },
        {
          "output_type": "stream",
          "name": "stderr",
          "text": [
            "Epoch [815/3000]: 100%|██████████| 9/9 [00:00<00:00, 94.43it/s, loss=2.44]\n"
          ]
        },
        {
          "output_type": "stream",
          "name": "stdout",
          "text": [
            "Epoch [815/3000]: Train loss: 2.7566, Valid loss: 3.7469\n"
          ]
        },
        {
          "output_type": "stream",
          "name": "stderr",
          "text": [
            "Epoch [816/3000]: 100%|██████████| 9/9 [00:00<00:00, 80.54it/s, loss=2.37]\n"
          ]
        },
        {
          "output_type": "stream",
          "name": "stdout",
          "text": [
            "Epoch [816/3000]: Train loss: 2.2489, Valid loss: 2.3342\n"
          ]
        },
        {
          "output_type": "stream",
          "name": "stderr",
          "text": [
            "Epoch [817/3000]: 100%|██████████| 9/9 [00:00<00:00, 76.54it/s, loss=1.38]\n"
          ]
        },
        {
          "output_type": "stream",
          "name": "stdout",
          "text": [
            "Epoch [817/3000]: Train loss: 2.1012, Valid loss: 2.0867\n"
          ]
        },
        {
          "output_type": "stream",
          "name": "stderr",
          "text": [
            "Epoch [818/3000]: 100%|██████████| 9/9 [00:00<00:00, 84.01it/s, loss=2.14]\n"
          ]
        },
        {
          "output_type": "stream",
          "name": "stdout",
          "text": [
            "Epoch [818/3000]: Train loss: 1.9881, Valid loss: 2.5827\n"
          ]
        },
        {
          "output_type": "stream",
          "name": "stderr",
          "text": [
            "Epoch [819/3000]: 100%|██████████| 9/9 [00:00<00:00, 90.03it/s, loss=2.29]\n"
          ]
        },
        {
          "output_type": "stream",
          "name": "stdout",
          "text": [
            "Epoch [819/3000]: Train loss: 2.0257, Valid loss: 3.3691\n"
          ]
        },
        {
          "output_type": "stream",
          "name": "stderr",
          "text": [
            "Epoch [820/3000]: 100%|██████████| 9/9 [00:00<00:00, 84.93it/s, loss=1.84]\n"
          ]
        },
        {
          "output_type": "stream",
          "name": "stdout",
          "text": [
            "Epoch [820/3000]: Train loss: 2.3318, Valid loss: 2.3723\n"
          ]
        },
        {
          "output_type": "stream",
          "name": "stderr",
          "text": [
            "Epoch [821/3000]: 100%|██████████| 9/9 [00:00<00:00, 79.21it/s, loss=1.87]\n"
          ]
        },
        {
          "output_type": "stream",
          "name": "stdout",
          "text": [
            "Epoch [821/3000]: Train loss: 2.2691, Valid loss: 2.5148\n"
          ]
        },
        {
          "output_type": "stream",
          "name": "stderr",
          "text": [
            "Epoch [822/3000]: 100%|██████████| 9/9 [00:00<00:00, 97.20it/s, loss=2]\n"
          ]
        },
        {
          "output_type": "stream",
          "name": "stdout",
          "text": [
            "Epoch [822/3000]: Train loss: 2.1552, Valid loss: 2.7301\n"
          ]
        },
        {
          "output_type": "stream",
          "name": "stderr",
          "text": [
            "Epoch [823/3000]: 100%|██████████| 9/9 [00:00<00:00, 88.78it/s, loss=3.33]\n"
          ]
        },
        {
          "output_type": "stream",
          "name": "stdout",
          "text": [
            "Epoch [823/3000]: Train loss: 2.5324, Valid loss: 3.6366\n"
          ]
        },
        {
          "output_type": "stream",
          "name": "stderr",
          "text": [
            "Epoch [824/3000]: 100%|██████████| 9/9 [00:00<00:00, 71.54it/s, loss=2.5]\n"
          ]
        },
        {
          "output_type": "stream",
          "name": "stdout",
          "text": [
            "Epoch [824/3000]: Train loss: 2.3406, Valid loss: 2.1745\n"
          ]
        },
        {
          "output_type": "stream",
          "name": "stderr",
          "text": [
            "Epoch [825/3000]: 100%|██████████| 9/9 [00:00<00:00, 82.83it/s, loss=1.73]\n"
          ]
        },
        {
          "output_type": "stream",
          "name": "stdout",
          "text": [
            "Epoch [825/3000]: Train loss: 2.2964, Valid loss: 2.3780\n"
          ]
        },
        {
          "output_type": "stream",
          "name": "stderr",
          "text": [
            "Epoch [826/3000]: 100%|██████████| 9/9 [00:00<00:00, 80.79it/s, loss=1.8]\n"
          ]
        },
        {
          "output_type": "stream",
          "name": "stdout",
          "text": [
            "Epoch [826/3000]: Train loss: 1.9988, Valid loss: 2.5302\n"
          ]
        },
        {
          "output_type": "stream",
          "name": "stderr",
          "text": [
            "Epoch [827/3000]: 100%|██████████| 9/9 [00:00<00:00, 77.02it/s, loss=2.59]\n"
          ]
        },
        {
          "output_type": "stream",
          "name": "stdout",
          "text": [
            "Epoch [827/3000]: Train loss: 2.0729, Valid loss: 2.2791\n"
          ]
        },
        {
          "output_type": "stream",
          "name": "stderr",
          "text": [
            "Epoch [828/3000]: 100%|██████████| 9/9 [00:00<00:00, 66.91it/s, loss=2.58]\n"
          ]
        },
        {
          "output_type": "stream",
          "name": "stdout",
          "text": [
            "Epoch [828/3000]: Train loss: 2.2773, Valid loss: 3.5011\n"
          ]
        },
        {
          "output_type": "stream",
          "name": "stderr",
          "text": [
            "Epoch [829/3000]: 100%|██████████| 9/9 [00:00<00:00, 78.86it/s, loss=3.68]\n"
          ]
        },
        {
          "output_type": "stream",
          "name": "stdout",
          "text": [
            "Epoch [829/3000]: Train loss: 3.0928, Valid loss: 6.6994\n"
          ]
        },
        {
          "output_type": "stream",
          "name": "stderr",
          "text": [
            "Epoch [830/3000]: 100%|██████████| 9/9 [00:00<00:00, 95.37it/s, loss=3.48]\n"
          ]
        },
        {
          "output_type": "stream",
          "name": "stdout",
          "text": [
            "Epoch [830/3000]: Train loss: 3.3702, Valid loss: 3.3844\n"
          ]
        },
        {
          "output_type": "stream",
          "name": "stderr",
          "text": [
            "Epoch [831/3000]: 100%|██████████| 9/9 [00:00<00:00, 99.98it/s, loss=2.99]\n"
          ]
        },
        {
          "output_type": "stream",
          "name": "stdout",
          "text": [
            "Epoch [831/3000]: Train loss: 2.5378, Valid loss: 2.4294\n"
          ]
        },
        {
          "output_type": "stream",
          "name": "stderr",
          "text": [
            "Epoch [832/3000]: 100%|██████████| 9/9 [00:00<00:00, 98.09it/s, loss=2.15]\n"
          ]
        },
        {
          "output_type": "stream",
          "name": "stdout",
          "text": [
            "Epoch [832/3000]: Train loss: 2.1700, Valid loss: 2.3347\n"
          ]
        },
        {
          "output_type": "stream",
          "name": "stderr",
          "text": [
            "Epoch [833/3000]: 100%|██████████| 9/9 [00:00<00:00, 27.59it/s, loss=1.93]\n"
          ]
        },
        {
          "output_type": "stream",
          "name": "stdout",
          "text": [
            "Epoch [833/3000]: Train loss: 2.1401, Valid loss: 3.3164\n"
          ]
        },
        {
          "output_type": "stream",
          "name": "stderr",
          "text": [
            "Epoch [834/3000]: 100%|██████████| 9/9 [00:00<00:00, 70.28it/s, loss=3.55]\n"
          ]
        },
        {
          "output_type": "stream",
          "name": "stdout",
          "text": [
            "Epoch [834/3000]: Train loss: 3.0614, Valid loss: 2.4845\n"
          ]
        },
        {
          "output_type": "stream",
          "name": "stderr",
          "text": [
            "Epoch [835/3000]: 100%|██████████| 9/9 [00:00<00:00, 76.43it/s, loss=1.33]\n"
          ]
        },
        {
          "output_type": "stream",
          "name": "stdout",
          "text": [
            "Epoch [835/3000]: Train loss: 2.7310, Valid loss: 3.0333\n"
          ]
        },
        {
          "output_type": "stream",
          "name": "stderr",
          "text": [
            "Epoch [836/3000]: 100%|██████████| 9/9 [00:00<00:00, 74.94it/s, loss=1.8]\n"
          ]
        },
        {
          "output_type": "stream",
          "name": "stdout",
          "text": [
            "Epoch [836/3000]: Train loss: 2.1159, Valid loss: 2.9415\n"
          ]
        },
        {
          "output_type": "stream",
          "name": "stderr",
          "text": [
            "Epoch [837/3000]: 100%|██████████| 9/9 [00:00<00:00, 91.04it/s, loss=1.7]\n"
          ]
        },
        {
          "output_type": "stream",
          "name": "stdout",
          "text": [
            "Epoch [837/3000]: Train loss: 2.1596, Valid loss: 2.1337\n"
          ]
        },
        {
          "output_type": "stream",
          "name": "stderr",
          "text": [
            "Epoch [838/3000]: 100%|██████████| 9/9 [00:00<00:00, 78.44it/s, loss=2.4]\n"
          ]
        },
        {
          "output_type": "stream",
          "name": "stdout",
          "text": [
            "Epoch [838/3000]: Train loss: 2.1362, Valid loss: 2.5503\n"
          ]
        },
        {
          "output_type": "stream",
          "name": "stderr",
          "text": [
            "Epoch [839/3000]: 100%|██████████| 9/9 [00:00<00:00, 86.58it/s, loss=1.73]\n"
          ]
        },
        {
          "output_type": "stream",
          "name": "stdout",
          "text": [
            "Epoch [839/3000]: Train loss: 1.9749, Valid loss: 1.9835\n"
          ]
        },
        {
          "output_type": "stream",
          "name": "stderr",
          "text": [
            "Epoch [840/3000]: 100%|██████████| 9/9 [00:00<00:00, 83.12it/s, loss=2.12]\n"
          ]
        },
        {
          "output_type": "stream",
          "name": "stdout",
          "text": [
            "Epoch [840/3000]: Train loss: 2.4268, Valid loss: 3.6997\n"
          ]
        },
        {
          "output_type": "stream",
          "name": "stderr",
          "text": [
            "Epoch [841/3000]: 100%|██████████| 9/9 [00:00<00:00, 92.10it/s, loss=1.76]\n"
          ]
        },
        {
          "output_type": "stream",
          "name": "stdout",
          "text": [
            "Epoch [841/3000]: Train loss: 2.4254, Valid loss: 3.8676\n"
          ]
        },
        {
          "output_type": "stream",
          "name": "stderr",
          "text": [
            "Epoch [842/3000]: 100%|██████████| 9/9 [00:00<00:00, 72.83it/s, loss=3.48]\n"
          ]
        },
        {
          "output_type": "stream",
          "name": "stdout",
          "text": [
            "Epoch [842/3000]: Train loss: 3.4052, Valid loss: 3.4764\n"
          ]
        },
        {
          "output_type": "stream",
          "name": "stderr",
          "text": [
            "Epoch [843/3000]: 100%|██████████| 9/9 [00:00<00:00, 78.79it/s, loss=2.78]\n"
          ]
        },
        {
          "output_type": "stream",
          "name": "stdout",
          "text": [
            "Epoch [843/3000]: Train loss: 2.4428, Valid loss: 2.2842\n"
          ]
        },
        {
          "output_type": "stream",
          "name": "stderr",
          "text": [
            "Epoch [844/3000]: 100%|██████████| 9/9 [00:00<00:00, 87.39it/s, loss=2.41]\n"
          ]
        },
        {
          "output_type": "stream",
          "name": "stdout",
          "text": [
            "Epoch [844/3000]: Train loss: 2.3357, Valid loss: 2.7472\n"
          ]
        },
        {
          "output_type": "stream",
          "name": "stderr",
          "text": [
            "Epoch [845/3000]: 100%|██████████| 9/9 [00:00<00:00, 86.20it/s, loss=2.24]\n"
          ]
        },
        {
          "output_type": "stream",
          "name": "stdout",
          "text": [
            "Epoch [845/3000]: Train loss: 2.1522, Valid loss: 2.7681\n"
          ]
        },
        {
          "output_type": "stream",
          "name": "stderr",
          "text": [
            "Epoch [846/3000]: 100%|██████████| 9/9 [00:00<00:00, 71.94it/s, loss=2.67]\n"
          ]
        },
        {
          "output_type": "stream",
          "name": "stdout",
          "text": [
            "Epoch [846/3000]: Train loss: 2.4198, Valid loss: 2.4574\n"
          ]
        },
        {
          "output_type": "stream",
          "name": "stderr",
          "text": [
            "Epoch [847/3000]: 100%|██████████| 9/9 [00:00<00:00, 78.41it/s, loss=1.64]\n"
          ]
        },
        {
          "output_type": "stream",
          "name": "stdout",
          "text": [
            "Epoch [847/3000]: Train loss: 2.1592, Valid loss: 2.9632\n"
          ]
        },
        {
          "output_type": "stream",
          "name": "stderr",
          "text": [
            "Epoch [848/3000]: 100%|██████████| 9/9 [00:00<00:00, 79.71it/s, loss=3.09]\n"
          ]
        },
        {
          "output_type": "stream",
          "name": "stdout",
          "text": [
            "Epoch [848/3000]: Train loss: 2.7779, Valid loss: 6.5302\n"
          ]
        },
        {
          "output_type": "stream",
          "name": "stderr",
          "text": [
            "Epoch [849/3000]: 100%|██████████| 9/9 [00:00<00:00, 82.79it/s, loss=4.46]\n"
          ]
        },
        {
          "output_type": "stream",
          "name": "stdout",
          "text": [
            "Epoch [849/3000]: Train loss: 4.2970, Valid loss: 5.5490\n"
          ]
        },
        {
          "output_type": "stream",
          "name": "stderr",
          "text": [
            "Epoch [850/3000]: 100%|██████████| 9/9 [00:00<00:00, 95.24it/s, loss=1.72]\n"
          ]
        },
        {
          "output_type": "stream",
          "name": "stdout",
          "text": [
            "Epoch [850/3000]: Train loss: 3.1741, Valid loss: 2.8981\n"
          ]
        },
        {
          "output_type": "stream",
          "name": "stderr",
          "text": [
            "Epoch [851/3000]: 100%|██████████| 9/9 [00:00<00:00, 90.47it/s, loss=2.59]\n"
          ]
        },
        {
          "output_type": "stream",
          "name": "stdout",
          "text": [
            "Epoch [851/3000]: Train loss: 2.3556, Valid loss: 4.6231\n"
          ]
        },
        {
          "output_type": "stream",
          "name": "stderr",
          "text": [
            "Epoch [852/3000]: 100%|██████████| 9/9 [00:00<00:00, 85.13it/s, loss=2.83]\n"
          ]
        },
        {
          "output_type": "stream",
          "name": "stdout",
          "text": [
            "Epoch [852/3000]: Train loss: 3.4664, Valid loss: 3.2766\n"
          ]
        },
        {
          "output_type": "stream",
          "name": "stderr",
          "text": [
            "Epoch [853/3000]: 100%|██████████| 9/9 [00:00<00:00, 77.41it/s, loss=3.24]\n"
          ]
        },
        {
          "output_type": "stream",
          "name": "stdout",
          "text": [
            "Epoch [853/3000]: Train loss: 3.1204, Valid loss: 3.0106\n"
          ]
        },
        {
          "output_type": "stream",
          "name": "stderr",
          "text": [
            "Epoch [854/3000]: 100%|██████████| 9/9 [00:00<00:00, 72.84it/s, loss=1.73]\n"
          ]
        },
        {
          "output_type": "stream",
          "name": "stdout",
          "text": [
            "Epoch [854/3000]: Train loss: 2.5248, Valid loss: 2.6808\n"
          ]
        },
        {
          "output_type": "stream",
          "name": "stderr",
          "text": [
            "Epoch [855/3000]: 100%|██████████| 9/9 [00:00<00:00, 76.49it/s, loss=1.86]\n"
          ]
        },
        {
          "output_type": "stream",
          "name": "stdout",
          "text": [
            "Epoch [855/3000]: Train loss: 2.6559, Valid loss: 3.2108\n"
          ]
        },
        {
          "output_type": "stream",
          "name": "stderr",
          "text": [
            "Epoch [856/3000]: 100%|██████████| 9/9 [00:00<00:00, 82.79it/s, loss=1.94]\n"
          ]
        },
        {
          "output_type": "stream",
          "name": "stdout",
          "text": [
            "Epoch [856/3000]: Train loss: 2.4069, Valid loss: 2.4954\n"
          ]
        },
        {
          "output_type": "stream",
          "name": "stderr",
          "text": [
            "Epoch [857/3000]: 100%|██████████| 9/9 [00:00<00:00, 86.72it/s, loss=1.66]\n"
          ]
        },
        {
          "output_type": "stream",
          "name": "stdout",
          "text": [
            "Epoch [857/3000]: Train loss: 2.0790, Valid loss: 2.0174\n"
          ]
        },
        {
          "output_type": "stream",
          "name": "stderr",
          "text": [
            "Epoch [858/3000]: 100%|██████████| 9/9 [00:00<00:00, 85.08it/s, loss=2.32]\n"
          ]
        },
        {
          "output_type": "stream",
          "name": "stdout",
          "text": [
            "Epoch [858/3000]: Train loss: 2.1023, Valid loss: 2.4891\n"
          ]
        },
        {
          "output_type": "stream",
          "name": "stderr",
          "text": [
            "Epoch [859/3000]: 100%|██████████| 9/9 [00:00<00:00, 85.44it/s, loss=4.24]\n"
          ]
        },
        {
          "output_type": "stream",
          "name": "stdout",
          "text": [
            "Epoch [859/3000]: Train loss: 2.6051, Valid loss: 2.5995\n"
          ]
        },
        {
          "output_type": "stream",
          "name": "stderr",
          "text": [
            "Epoch [860/3000]: 100%|██████████| 9/9 [00:00<00:00, 93.32it/s, loss=1.72]\n"
          ]
        },
        {
          "output_type": "stream",
          "name": "stdout",
          "text": [
            "Epoch [860/3000]: Train loss: 2.4962, Valid loss: 1.9409\n"
          ]
        },
        {
          "output_type": "stream",
          "name": "stderr",
          "text": [
            "Epoch [861/3000]: 100%|██████████| 9/9 [00:00<00:00, 99.50it/s, loss=1.51]\n"
          ]
        },
        {
          "output_type": "stream",
          "name": "stdout",
          "text": [
            "Epoch [861/3000]: Train loss: 1.9669, Valid loss: 2.6938\n"
          ]
        },
        {
          "output_type": "stream",
          "name": "stderr",
          "text": [
            "Epoch [862/3000]: 100%|██████████| 9/9 [00:00<00:00, 82.15it/s, loss=3.28]\n"
          ]
        },
        {
          "output_type": "stream",
          "name": "stdout",
          "text": [
            "Epoch [862/3000]: Train loss: 2.5273, Valid loss: 2.5854\n"
          ]
        },
        {
          "output_type": "stream",
          "name": "stderr",
          "text": [
            "Epoch [863/3000]: 100%|██████████| 9/9 [00:00<00:00, 91.00it/s, loss=2.68]\n"
          ]
        },
        {
          "output_type": "stream",
          "name": "stdout",
          "text": [
            "Epoch [863/3000]: Train loss: 2.6167, Valid loss: 3.0765\n"
          ]
        },
        {
          "output_type": "stream",
          "name": "stderr",
          "text": [
            "Epoch [864/3000]: 100%|██████████| 9/9 [00:00<00:00, 85.45it/s, loss=1.69]\n"
          ]
        },
        {
          "output_type": "stream",
          "name": "stdout",
          "text": [
            "Epoch [864/3000]: Train loss: 2.6654, Valid loss: 2.4279\n"
          ]
        },
        {
          "output_type": "stream",
          "name": "stderr",
          "text": [
            "Epoch [865/3000]: 100%|██████████| 9/9 [00:00<00:00, 86.44it/s, loss=1.91]\n"
          ]
        },
        {
          "output_type": "stream",
          "name": "stdout",
          "text": [
            "Epoch [865/3000]: Train loss: 2.1728, Valid loss: 2.4906\n"
          ]
        },
        {
          "output_type": "stream",
          "name": "stderr",
          "text": [
            "Epoch [866/3000]: 100%|██████████| 9/9 [00:00<00:00, 76.32it/s, loss=2.89]\n"
          ]
        },
        {
          "output_type": "stream",
          "name": "stdout",
          "text": [
            "Epoch [866/3000]: Train loss: 2.1836, Valid loss: 2.5089\n"
          ]
        },
        {
          "output_type": "stream",
          "name": "stderr",
          "text": [
            "Epoch [867/3000]: 100%|██████████| 9/9 [00:00<00:00, 81.14it/s, loss=1.47]\n"
          ]
        },
        {
          "output_type": "stream",
          "name": "stdout",
          "text": [
            "Epoch [867/3000]: Train loss: 2.2711, Valid loss: 2.5775\n"
          ]
        },
        {
          "output_type": "stream",
          "name": "stderr",
          "text": [
            "Epoch [868/3000]: 100%|██████████| 9/9 [00:00<00:00, 89.84it/s, loss=3.5]\n"
          ]
        },
        {
          "output_type": "stream",
          "name": "stdout",
          "text": [
            "Epoch [868/3000]: Train loss: 2.4872, Valid loss: 3.2266\n"
          ]
        },
        {
          "output_type": "stream",
          "name": "stderr",
          "text": [
            "Epoch [869/3000]: 100%|██████████| 9/9 [00:00<00:00, 73.33it/s, loss=1.87]\n"
          ]
        },
        {
          "output_type": "stream",
          "name": "stdout",
          "text": [
            "Epoch [869/3000]: Train loss: 2.5476, Valid loss: 3.0413\n"
          ]
        },
        {
          "output_type": "stream",
          "name": "stderr",
          "text": [
            "Epoch [870/3000]: 100%|██████████| 9/9 [00:00<00:00, 87.01it/s, loss=3.16]\n"
          ]
        },
        {
          "output_type": "stream",
          "name": "stdout",
          "text": [
            "Epoch [870/3000]: Train loss: 2.8294, Valid loss: 2.4574\n"
          ]
        },
        {
          "output_type": "stream",
          "name": "stderr",
          "text": [
            "Epoch [871/3000]: 100%|██████████| 9/9 [00:00<00:00, 74.66it/s, loss=2.62]\n"
          ]
        },
        {
          "output_type": "stream",
          "name": "stdout",
          "text": [
            "Epoch [871/3000]: Train loss: 2.7648, Valid loss: 3.7627\n"
          ]
        },
        {
          "output_type": "stream",
          "name": "stderr",
          "text": [
            "Epoch [872/3000]: 100%|██████████| 9/9 [00:00<00:00, 92.39it/s, loss=2.71]\n"
          ]
        },
        {
          "output_type": "stream",
          "name": "stdout",
          "text": [
            "Epoch [872/3000]: Train loss: 2.6523, Valid loss: 2.1148\n"
          ]
        },
        {
          "output_type": "stream",
          "name": "stderr",
          "text": [
            "Epoch [873/3000]: 100%|██████████| 9/9 [00:00<00:00, 94.61it/s, loss=2.92]\n"
          ]
        },
        {
          "output_type": "stream",
          "name": "stdout",
          "text": [
            "Epoch [873/3000]: Train loss: 2.3125, Valid loss: 4.1013\n"
          ]
        },
        {
          "output_type": "stream",
          "name": "stderr",
          "text": [
            "Epoch [874/3000]: 100%|██████████| 9/9 [00:00<00:00, 73.72it/s, loss=1.91]\n"
          ]
        },
        {
          "output_type": "stream",
          "name": "stdout",
          "text": [
            "Epoch [874/3000]: Train loss: 2.7305, Valid loss: 2.1188\n"
          ]
        },
        {
          "output_type": "stream",
          "name": "stderr",
          "text": [
            "Epoch [875/3000]: 100%|██████████| 9/9 [00:00<00:00, 81.50it/s, loss=1.96]\n"
          ]
        },
        {
          "output_type": "stream",
          "name": "stdout",
          "text": [
            "Epoch [875/3000]: Train loss: 2.0141, Valid loss: 2.0757\n"
          ]
        },
        {
          "output_type": "stream",
          "name": "stderr",
          "text": [
            "Epoch [876/3000]: 100%|██████████| 9/9 [00:00<00:00, 77.99it/s, loss=2.41]\n"
          ]
        },
        {
          "output_type": "stream",
          "name": "stdout",
          "text": [
            "Epoch [876/3000]: Train loss: 2.1243, Valid loss: 2.1909\n"
          ]
        },
        {
          "output_type": "stream",
          "name": "stderr",
          "text": [
            "Epoch [877/3000]: 100%|██████████| 9/9 [00:00<00:00, 85.34it/s, loss=1.77]\n"
          ]
        },
        {
          "output_type": "stream",
          "name": "stdout",
          "text": [
            "Epoch [877/3000]: Train loss: 1.9596, Valid loss: 2.6916\n"
          ]
        },
        {
          "output_type": "stream",
          "name": "stderr",
          "text": [
            "Epoch [878/3000]: 100%|██████████| 9/9 [00:00<00:00, 78.82it/s, loss=1.81]\n"
          ]
        },
        {
          "output_type": "stream",
          "name": "stdout",
          "text": [
            "Epoch [878/3000]: Train loss: 2.0430, Valid loss: 2.7461\n"
          ]
        },
        {
          "output_type": "stream",
          "name": "stderr",
          "text": [
            "Epoch [879/3000]: 100%|██████████| 9/9 [00:00<00:00, 63.71it/s, loss=2.52]\n"
          ]
        },
        {
          "output_type": "stream",
          "name": "stdout",
          "text": [
            "Epoch [879/3000]: Train loss: 2.1890, Valid loss: 2.3214\n"
          ]
        },
        {
          "output_type": "stream",
          "name": "stderr",
          "text": [
            "Epoch [880/3000]: 100%|██████████| 9/9 [00:00<00:00, 70.66it/s, loss=2.06]\n"
          ]
        },
        {
          "output_type": "stream",
          "name": "stdout",
          "text": [
            "Epoch [880/3000]: Train loss: 2.2604, Valid loss: 2.2821\n"
          ]
        },
        {
          "output_type": "stream",
          "name": "stderr",
          "text": [
            "Epoch [881/3000]: 100%|██████████| 9/9 [00:00<00:00, 96.81it/s, loss=1.99]\n"
          ]
        },
        {
          "output_type": "stream",
          "name": "stdout",
          "text": [
            "Epoch [881/3000]: Train loss: 1.9983, Valid loss: 2.4321\n"
          ]
        },
        {
          "output_type": "stream",
          "name": "stderr",
          "text": [
            "Epoch [882/3000]: 100%|██████████| 9/9 [00:00<00:00, 94.99it/s, loss=2.63]\n"
          ]
        },
        {
          "output_type": "stream",
          "name": "stdout",
          "text": [
            "Epoch [882/3000]: Train loss: 2.2390, Valid loss: 1.8994\n",
            "Saving model with loss 1.899...\n"
          ]
        },
        {
          "output_type": "stream",
          "name": "stderr",
          "text": [
            "Epoch [883/3000]: 100%|██████████| 9/9 [00:00<00:00, 83.27it/s, loss=1.99]\n"
          ]
        },
        {
          "output_type": "stream",
          "name": "stdout",
          "text": [
            "Epoch [883/3000]: Train loss: 2.0119, Valid loss: 3.3893\n"
          ]
        },
        {
          "output_type": "stream",
          "name": "stderr",
          "text": [
            "Epoch [884/3000]: 100%|██████████| 9/9 [00:00<00:00, 99.08it/s, loss=4.12]\n"
          ]
        },
        {
          "output_type": "stream",
          "name": "stdout",
          "text": [
            "Epoch [884/3000]: Train loss: 3.2144, Valid loss: 2.5633\n"
          ]
        },
        {
          "output_type": "stream",
          "name": "stderr",
          "text": [
            "Epoch [885/3000]: 100%|██████████| 9/9 [00:00<00:00, 99.42it/s, loss=3.78]\n"
          ]
        },
        {
          "output_type": "stream",
          "name": "stdout",
          "text": [
            "Epoch [885/3000]: Train loss: 2.7645, Valid loss: 2.9300\n"
          ]
        },
        {
          "output_type": "stream",
          "name": "stderr",
          "text": [
            "Epoch [886/3000]: 100%|██████████| 9/9 [00:00<00:00, 99.85it/s, loss=1.2]\n"
          ]
        },
        {
          "output_type": "stream",
          "name": "stdout",
          "text": [
            "Epoch [886/3000]: Train loss: 2.5876, Valid loss: 2.6069\n"
          ]
        },
        {
          "output_type": "stream",
          "name": "stderr",
          "text": [
            "Epoch [887/3000]: 100%|██████████| 9/9 [00:00<00:00, 89.47it/s, loss=2.74]\n"
          ]
        },
        {
          "output_type": "stream",
          "name": "stdout",
          "text": [
            "Epoch [887/3000]: Train loss: 2.2316, Valid loss: 2.2555\n"
          ]
        },
        {
          "output_type": "stream",
          "name": "stderr",
          "text": [
            "Epoch [888/3000]: 100%|██████████| 9/9 [00:00<00:00, 80.21it/s, loss=2.19]\n"
          ]
        },
        {
          "output_type": "stream",
          "name": "stdout",
          "text": [
            "Epoch [888/3000]: Train loss: 2.3320, Valid loss: 3.9101\n"
          ]
        },
        {
          "output_type": "stream",
          "name": "stderr",
          "text": [
            "Epoch [889/3000]: 100%|██████████| 9/9 [00:00<00:00, 89.97it/s, loss=1.97]\n"
          ]
        },
        {
          "output_type": "stream",
          "name": "stdout",
          "text": [
            "Epoch [889/3000]: Train loss: 2.9474, Valid loss: 4.0524\n"
          ]
        },
        {
          "output_type": "stream",
          "name": "stderr",
          "text": [
            "Epoch [890/3000]: 100%|██████████| 9/9 [00:00<00:00, 75.96it/s, loss=2.65]\n"
          ]
        },
        {
          "output_type": "stream",
          "name": "stdout",
          "text": [
            "Epoch [890/3000]: Train loss: 2.6510, Valid loss: 1.8655\n",
            "Saving model with loss 1.866...\n"
          ]
        },
        {
          "output_type": "stream",
          "name": "stderr",
          "text": [
            "Epoch [891/3000]: 100%|██████████| 9/9 [00:00<00:00, 94.60it/s, loss=1.9]\n"
          ]
        },
        {
          "output_type": "stream",
          "name": "stdout",
          "text": [
            "Epoch [891/3000]: Train loss: 2.1388, Valid loss: 2.7709\n"
          ]
        },
        {
          "output_type": "stream",
          "name": "stderr",
          "text": [
            "Epoch [892/3000]: 100%|██████████| 9/9 [00:00<00:00, 80.43it/s, loss=1.89]\n"
          ]
        },
        {
          "output_type": "stream",
          "name": "stdout",
          "text": [
            "Epoch [892/3000]: Train loss: 2.3449, Valid loss: 2.3431\n"
          ]
        },
        {
          "output_type": "stream",
          "name": "stderr",
          "text": [
            "Epoch [893/3000]: 100%|██████████| 9/9 [00:00<00:00, 94.22it/s, loss=2.25]\n"
          ]
        },
        {
          "output_type": "stream",
          "name": "stdout",
          "text": [
            "Epoch [893/3000]: Train loss: 2.0594, Valid loss: 2.2145\n"
          ]
        },
        {
          "output_type": "stream",
          "name": "stderr",
          "text": [
            "Epoch [894/3000]: 100%|██████████| 9/9 [00:00<00:00, 99.51it/s, loss=2.39]\n"
          ]
        },
        {
          "output_type": "stream",
          "name": "stdout",
          "text": [
            "Epoch [894/3000]: Train loss: 2.2061, Valid loss: 3.6788\n"
          ]
        },
        {
          "output_type": "stream",
          "name": "stderr",
          "text": [
            "Epoch [895/3000]: 100%|██████████| 9/9 [00:00<00:00, 101.50it/s, loss=2.3]\n"
          ]
        },
        {
          "output_type": "stream",
          "name": "stdout",
          "text": [
            "Epoch [895/3000]: Train loss: 2.3682, Valid loss: 3.0259\n"
          ]
        },
        {
          "output_type": "stream",
          "name": "stderr",
          "text": [
            "Epoch [896/3000]: 100%|██████████| 9/9 [00:00<00:00, 80.11it/s, loss=2.21]\n"
          ]
        },
        {
          "output_type": "stream",
          "name": "stdout",
          "text": [
            "Epoch [896/3000]: Train loss: 2.3997, Valid loss: 2.1155\n"
          ]
        },
        {
          "output_type": "stream",
          "name": "stderr",
          "text": [
            "Epoch [897/3000]: 100%|██████████| 9/9 [00:00<00:00, 86.37it/s, loss=1.96]\n"
          ]
        },
        {
          "output_type": "stream",
          "name": "stdout",
          "text": [
            "Epoch [897/3000]: Train loss: 2.4067, Valid loss: 2.3754\n"
          ]
        },
        {
          "output_type": "stream",
          "name": "stderr",
          "text": [
            "Epoch [898/3000]: 100%|██████████| 9/9 [00:00<00:00, 91.87it/s, loss=2.46]\n"
          ]
        },
        {
          "output_type": "stream",
          "name": "stdout",
          "text": [
            "Epoch [898/3000]: Train loss: 2.2324, Valid loss: 2.5542\n"
          ]
        },
        {
          "output_type": "stream",
          "name": "stderr",
          "text": [
            "Epoch [899/3000]: 100%|██████████| 9/9 [00:00<00:00, 62.56it/s, loss=2.65]\n"
          ]
        },
        {
          "output_type": "stream",
          "name": "stdout",
          "text": [
            "Epoch [899/3000]: Train loss: 2.3801, Valid loss: 2.6868\n"
          ]
        },
        {
          "output_type": "stream",
          "name": "stderr",
          "text": [
            "Epoch [900/3000]: 100%|██████████| 9/9 [00:00<00:00, 81.00it/s, loss=2.93]\n"
          ]
        },
        {
          "output_type": "stream",
          "name": "stdout",
          "text": [
            "Epoch [900/3000]: Train loss: 2.2491, Valid loss: 2.3987\n"
          ]
        },
        {
          "output_type": "stream",
          "name": "stderr",
          "text": [
            "Epoch [901/3000]: 100%|██████████| 9/9 [00:00<00:00, 83.00it/s, loss=1.82]\n"
          ]
        },
        {
          "output_type": "stream",
          "name": "stdout",
          "text": [
            "Epoch [901/3000]: Train loss: 2.0699, Valid loss: 2.2695\n"
          ]
        },
        {
          "output_type": "stream",
          "name": "stderr",
          "text": [
            "Epoch [902/3000]: 100%|██████████| 9/9 [00:00<00:00, 73.38it/s, loss=2.42]\n"
          ]
        },
        {
          "output_type": "stream",
          "name": "stdout",
          "text": [
            "Epoch [902/3000]: Train loss: 2.0134, Valid loss: 2.2696\n"
          ]
        },
        {
          "output_type": "stream",
          "name": "stderr",
          "text": [
            "Epoch [903/3000]: 100%|██████████| 9/9 [00:00<00:00, 79.83it/s, loss=2.43]\n"
          ]
        },
        {
          "output_type": "stream",
          "name": "stdout",
          "text": [
            "Epoch [903/3000]: Train loss: 2.0136, Valid loss: 2.0623\n"
          ]
        },
        {
          "output_type": "stream",
          "name": "stderr",
          "text": [
            "Epoch [904/3000]: 100%|██████████| 9/9 [00:00<00:00, 82.63it/s, loss=1.67]\n"
          ]
        },
        {
          "output_type": "stream",
          "name": "stdout",
          "text": [
            "Epoch [904/3000]: Train loss: 2.1568, Valid loss: 2.1390\n"
          ]
        },
        {
          "output_type": "stream",
          "name": "stderr",
          "text": [
            "Epoch [905/3000]: 100%|██████████| 9/9 [00:00<00:00, 90.56it/s, loss=1.97]\n"
          ]
        },
        {
          "output_type": "stream",
          "name": "stdout",
          "text": [
            "Epoch [905/3000]: Train loss: 2.1386, Valid loss: 3.1726\n"
          ]
        },
        {
          "output_type": "stream",
          "name": "stderr",
          "text": [
            "Epoch [906/3000]: 100%|██████████| 9/9 [00:00<00:00, 86.29it/s, loss=2.69]\n"
          ]
        },
        {
          "output_type": "stream",
          "name": "stdout",
          "text": [
            "Epoch [906/3000]: Train loss: 2.0941, Valid loss: 2.9118\n"
          ]
        },
        {
          "output_type": "stream",
          "name": "stderr",
          "text": [
            "Epoch [907/3000]: 100%|██████████| 9/9 [00:00<00:00, 90.77it/s, loss=3.01]\n"
          ]
        },
        {
          "output_type": "stream",
          "name": "stdout",
          "text": [
            "Epoch [907/3000]: Train loss: 2.2723, Valid loss: 3.0735\n"
          ]
        },
        {
          "output_type": "stream",
          "name": "stderr",
          "text": [
            "Epoch [908/3000]: 100%|██████████| 9/9 [00:00<00:00, 81.03it/s, loss=1.76]\n"
          ]
        },
        {
          "output_type": "stream",
          "name": "stdout",
          "text": [
            "Epoch [908/3000]: Train loss: 2.3947, Valid loss: 2.3762\n"
          ]
        },
        {
          "output_type": "stream",
          "name": "stderr",
          "text": [
            "Epoch [909/3000]: 100%|██████████| 9/9 [00:00<00:00, 87.07it/s, loss=2.3]\n"
          ]
        },
        {
          "output_type": "stream",
          "name": "stdout",
          "text": [
            "Epoch [909/3000]: Train loss: 2.1071, Valid loss: 2.2922\n"
          ]
        },
        {
          "output_type": "stream",
          "name": "stderr",
          "text": [
            "Epoch [910/3000]: 100%|██████████| 9/9 [00:00<00:00, 95.39it/s, loss=2.24]\n"
          ]
        },
        {
          "output_type": "stream",
          "name": "stdout",
          "text": [
            "Epoch [910/3000]: Train loss: 2.4909, Valid loss: 3.4064\n"
          ]
        },
        {
          "output_type": "stream",
          "name": "stderr",
          "text": [
            "Epoch [911/3000]: 100%|██████████| 9/9 [00:00<00:00, 93.47it/s, loss=2.71]\n"
          ]
        },
        {
          "output_type": "stream",
          "name": "stdout",
          "text": [
            "Epoch [911/3000]: Train loss: 2.6505, Valid loss: 2.3406\n"
          ]
        },
        {
          "output_type": "stream",
          "name": "stderr",
          "text": [
            "Epoch [912/3000]: 100%|██████████| 9/9 [00:00<00:00, 73.45it/s, loss=4.52]\n"
          ]
        },
        {
          "output_type": "stream",
          "name": "stdout",
          "text": [
            "Epoch [912/3000]: Train loss: 2.9082, Valid loss: 3.0724\n"
          ]
        },
        {
          "output_type": "stream",
          "name": "stderr",
          "text": [
            "Epoch [913/3000]: 100%|██████████| 9/9 [00:00<00:00, 30.44it/s, loss=2.75]\n"
          ]
        },
        {
          "output_type": "stream",
          "name": "stdout",
          "text": [
            "Epoch [913/3000]: Train loss: 2.9384, Valid loss: 3.7632\n"
          ]
        },
        {
          "output_type": "stream",
          "name": "stderr",
          "text": [
            "Epoch [914/3000]: 100%|██████████| 9/9 [00:00<00:00, 81.27it/s, loss=4.77]\n"
          ]
        },
        {
          "output_type": "stream",
          "name": "stdout",
          "text": [
            "Epoch [914/3000]: Train loss: 3.5041, Valid loss: 3.3147\n"
          ]
        },
        {
          "output_type": "stream",
          "name": "stderr",
          "text": [
            "Epoch [915/3000]: 100%|██████████| 9/9 [00:00<00:00, 73.49it/s, loss=1.68]\n"
          ]
        },
        {
          "output_type": "stream",
          "name": "stdout",
          "text": [
            "Epoch [915/3000]: Train loss: 2.6498, Valid loss: 5.4848\n"
          ]
        },
        {
          "output_type": "stream",
          "name": "stderr",
          "text": [
            "Epoch [916/3000]: 100%|██████████| 9/9 [00:00<00:00, 82.67it/s, loss=3.1]\n"
          ]
        },
        {
          "output_type": "stream",
          "name": "stdout",
          "text": [
            "Epoch [916/3000]: Train loss: 3.5499, Valid loss: 2.6835\n"
          ]
        },
        {
          "output_type": "stream",
          "name": "stderr",
          "text": [
            "Epoch [917/3000]: 100%|██████████| 9/9 [00:00<00:00, 73.52it/s, loss=1.68]\n"
          ]
        },
        {
          "output_type": "stream",
          "name": "stdout",
          "text": [
            "Epoch [917/3000]: Train loss: 3.0441, Valid loss: 3.2629\n"
          ]
        },
        {
          "output_type": "stream",
          "name": "stderr",
          "text": [
            "Epoch [918/3000]: 100%|██████████| 9/9 [00:00<00:00, 70.69it/s, loss=1.8]\n"
          ]
        },
        {
          "output_type": "stream",
          "name": "stdout",
          "text": [
            "Epoch [918/3000]: Train loss: 2.0758, Valid loss: 1.9692\n"
          ]
        },
        {
          "output_type": "stream",
          "name": "stderr",
          "text": [
            "Epoch [919/3000]: 100%|██████████| 9/9 [00:00<00:00, 64.23it/s, loss=2.04]\n"
          ]
        },
        {
          "output_type": "stream",
          "name": "stdout",
          "text": [
            "Epoch [919/3000]: Train loss: 2.2139, Valid loss: 2.9148\n"
          ]
        },
        {
          "output_type": "stream",
          "name": "stderr",
          "text": [
            "Epoch [920/3000]: 100%|██████████| 9/9 [00:00<00:00, 91.65it/s, loss=2.55]\n"
          ]
        },
        {
          "output_type": "stream",
          "name": "stdout",
          "text": [
            "Epoch [920/3000]: Train loss: 2.3617, Valid loss: 2.1199\n"
          ]
        },
        {
          "output_type": "stream",
          "name": "stderr",
          "text": [
            "Epoch [921/3000]: 100%|██████████| 9/9 [00:00<00:00, 74.90it/s, loss=1.92]\n"
          ]
        },
        {
          "output_type": "stream",
          "name": "stdout",
          "text": [
            "Epoch [921/3000]: Train loss: 2.0094, Valid loss: 2.2146\n"
          ]
        },
        {
          "output_type": "stream",
          "name": "stderr",
          "text": [
            "Epoch [922/3000]: 100%|██████████| 9/9 [00:00<00:00, 81.45it/s, loss=2.03]\n"
          ]
        },
        {
          "output_type": "stream",
          "name": "stdout",
          "text": [
            "Epoch [922/3000]: Train loss: 2.0271, Valid loss: 2.0514\n"
          ]
        },
        {
          "output_type": "stream",
          "name": "stderr",
          "text": [
            "Epoch [923/3000]: 100%|██████████| 9/9 [00:00<00:00, 79.21it/s, loss=2.4]\n"
          ]
        },
        {
          "output_type": "stream",
          "name": "stdout",
          "text": [
            "Epoch [923/3000]: Train loss: 2.7538, Valid loss: 4.1808\n"
          ]
        },
        {
          "output_type": "stream",
          "name": "stderr",
          "text": [
            "Epoch [924/3000]: 100%|██████████| 9/9 [00:00<00:00, 83.20it/s, loss=2.51]\n"
          ]
        },
        {
          "output_type": "stream",
          "name": "stdout",
          "text": [
            "Epoch [924/3000]: Train loss: 2.4229, Valid loss: 2.4929\n"
          ]
        },
        {
          "output_type": "stream",
          "name": "stderr",
          "text": [
            "Epoch [925/3000]: 100%|██████████| 9/9 [00:00<00:00, 93.22it/s, loss=1.8]\n"
          ]
        },
        {
          "output_type": "stream",
          "name": "stdout",
          "text": [
            "Epoch [925/3000]: Train loss: 2.0871, Valid loss: 2.0863\n"
          ]
        },
        {
          "output_type": "stream",
          "name": "stderr",
          "text": [
            "Epoch [926/3000]: 100%|██████████| 9/9 [00:00<00:00, 77.46it/s, loss=1.81]\n"
          ]
        },
        {
          "output_type": "stream",
          "name": "stdout",
          "text": [
            "Epoch [926/3000]: Train loss: 1.9263, Valid loss: 3.3704\n"
          ]
        },
        {
          "output_type": "stream",
          "name": "stderr",
          "text": [
            "Epoch [927/3000]: 100%|██████████| 9/9 [00:00<00:00, 87.48it/s, loss=4.68]\n"
          ]
        },
        {
          "output_type": "stream",
          "name": "stdout",
          "text": [
            "Epoch [927/3000]: Train loss: 3.2195, Valid loss: 2.1934\n"
          ]
        },
        {
          "output_type": "stream",
          "name": "stderr",
          "text": [
            "Epoch [928/3000]: 100%|██████████| 9/9 [00:00<00:00, 81.23it/s, loss=2.93]\n"
          ]
        },
        {
          "output_type": "stream",
          "name": "stdout",
          "text": [
            "Epoch [928/3000]: Train loss: 2.9524, Valid loss: 4.7998\n"
          ]
        },
        {
          "output_type": "stream",
          "name": "stderr",
          "text": [
            "Epoch [929/3000]: 100%|██████████| 9/9 [00:00<00:00, 93.02it/s, loss=2.39]\n"
          ]
        },
        {
          "output_type": "stream",
          "name": "stdout",
          "text": [
            "Epoch [929/3000]: Train loss: 3.8852, Valid loss: 7.2963\n"
          ]
        },
        {
          "output_type": "stream",
          "name": "stderr",
          "text": [
            "Epoch [930/3000]: 100%|██████████| 9/9 [00:00<00:00, 80.74it/s, loss=2.78]\n"
          ]
        },
        {
          "output_type": "stream",
          "name": "stdout",
          "text": [
            "Epoch [930/3000]: Train loss: 4.8194, Valid loss: 7.3358\n"
          ]
        },
        {
          "output_type": "stream",
          "name": "stderr",
          "text": [
            "Epoch [931/3000]: 100%|██████████| 9/9 [00:00<00:00, 91.32it/s, loss=4.08]\n"
          ]
        },
        {
          "output_type": "stream",
          "name": "stdout",
          "text": [
            "Epoch [931/3000]: Train loss: 4.0961, Valid loss: 2.4450\n"
          ]
        },
        {
          "output_type": "stream",
          "name": "stderr",
          "text": [
            "Epoch [932/3000]: 100%|██████████| 9/9 [00:00<00:00, 84.91it/s, loss=2.87]\n"
          ]
        },
        {
          "output_type": "stream",
          "name": "stdout",
          "text": [
            "Epoch [932/3000]: Train loss: 2.4766, Valid loss: 3.7648\n"
          ]
        },
        {
          "output_type": "stream",
          "name": "stderr",
          "text": [
            "Epoch [933/3000]: 100%|██████████| 9/9 [00:00<00:00, 82.18it/s, loss=2.36]\n"
          ]
        },
        {
          "output_type": "stream",
          "name": "stdout",
          "text": [
            "Epoch [933/3000]: Train loss: 2.0832, Valid loss: 2.5129\n"
          ]
        },
        {
          "output_type": "stream",
          "name": "stderr",
          "text": [
            "Epoch [934/3000]: 100%|██████████| 9/9 [00:00<00:00, 82.38it/s, loss=2.73]\n"
          ]
        },
        {
          "output_type": "stream",
          "name": "stdout",
          "text": [
            "Epoch [934/3000]: Train loss: 2.1965, Valid loss: 2.3045\n"
          ]
        },
        {
          "output_type": "stream",
          "name": "stderr",
          "text": [
            "Epoch [935/3000]: 100%|██████████| 9/9 [00:00<00:00, 72.77it/s, loss=1.78]\n"
          ]
        },
        {
          "output_type": "stream",
          "name": "stdout",
          "text": [
            "Epoch [935/3000]: Train loss: 2.1194, Valid loss: 2.1405\n"
          ]
        },
        {
          "output_type": "stream",
          "name": "stderr",
          "text": [
            "Epoch [936/3000]: 100%|██████████| 9/9 [00:00<00:00, 85.18it/s, loss=1.81]\n"
          ]
        },
        {
          "output_type": "stream",
          "name": "stdout",
          "text": [
            "Epoch [936/3000]: Train loss: 2.3978, Valid loss: 5.8812\n"
          ]
        },
        {
          "output_type": "stream",
          "name": "stderr",
          "text": [
            "Epoch [937/3000]: 100%|██████████| 9/9 [00:00<00:00, 64.39it/s, loss=2.12]\n"
          ]
        },
        {
          "output_type": "stream",
          "name": "stdout",
          "text": [
            "Epoch [937/3000]: Train loss: 2.8761, Valid loss: 4.3951\n"
          ]
        },
        {
          "output_type": "stream",
          "name": "stderr",
          "text": [
            "Epoch [938/3000]: 100%|██████████| 9/9 [00:00<00:00, 83.15it/s, loss=2.13]\n"
          ]
        },
        {
          "output_type": "stream",
          "name": "stdout",
          "text": [
            "Epoch [938/3000]: Train loss: 2.4705, Valid loss: 3.1398\n"
          ]
        },
        {
          "output_type": "stream",
          "name": "stderr",
          "text": [
            "Epoch [939/3000]: 100%|██████████| 9/9 [00:00<00:00, 83.28it/s, loss=1.71]\n"
          ]
        },
        {
          "output_type": "stream",
          "name": "stdout",
          "text": [
            "Epoch [939/3000]: Train loss: 2.0387, Valid loss: 2.1034\n"
          ]
        },
        {
          "output_type": "stream",
          "name": "stderr",
          "text": [
            "Epoch [940/3000]: 100%|██████████| 9/9 [00:00<00:00, 95.03it/s, loss=2.01]\n"
          ]
        },
        {
          "output_type": "stream",
          "name": "stdout",
          "text": [
            "Epoch [940/3000]: Train loss: 2.2453, Valid loss: 3.7693\n"
          ]
        },
        {
          "output_type": "stream",
          "name": "stderr",
          "text": [
            "Epoch [941/3000]: 100%|██████████| 9/9 [00:00<00:00, 84.39it/s, loss=2.73]\n"
          ]
        },
        {
          "output_type": "stream",
          "name": "stdout",
          "text": [
            "Epoch [941/3000]: Train loss: 2.6891, Valid loss: 2.3142\n"
          ]
        },
        {
          "output_type": "stream",
          "name": "stderr",
          "text": [
            "Epoch [942/3000]: 100%|██████████| 9/9 [00:00<00:00, 72.77it/s, loss=2.28]\n"
          ]
        },
        {
          "output_type": "stream",
          "name": "stdout",
          "text": [
            "Epoch [942/3000]: Train loss: 2.2676, Valid loss: 2.7103\n"
          ]
        },
        {
          "output_type": "stream",
          "name": "stderr",
          "text": [
            "Epoch [943/3000]: 100%|██████████| 9/9 [00:00<00:00, 62.36it/s, loss=2.73]\n"
          ]
        },
        {
          "output_type": "stream",
          "name": "stdout",
          "text": [
            "Epoch [943/3000]: Train loss: 2.1749, Valid loss: 3.1823\n"
          ]
        },
        {
          "output_type": "stream",
          "name": "stderr",
          "text": [
            "Epoch [944/3000]: 100%|██████████| 9/9 [00:00<00:00, 69.70it/s, loss=2.28]\n"
          ]
        },
        {
          "output_type": "stream",
          "name": "stdout",
          "text": [
            "Epoch [944/3000]: Train loss: 2.1452, Valid loss: 2.8646\n"
          ]
        },
        {
          "output_type": "stream",
          "name": "stderr",
          "text": [
            "Epoch [945/3000]: 100%|██████████| 9/9 [00:00<00:00, 97.84it/s, loss=1.75]\n"
          ]
        },
        {
          "output_type": "stream",
          "name": "stdout",
          "text": [
            "Epoch [945/3000]: Train loss: 2.0509, Valid loss: 2.0713\n"
          ]
        },
        {
          "output_type": "stream",
          "name": "stderr",
          "text": [
            "Epoch [946/3000]: 100%|██████████| 9/9 [00:00<00:00, 83.94it/s, loss=2.43]\n"
          ]
        },
        {
          "output_type": "stream",
          "name": "stdout",
          "text": [
            "Epoch [946/3000]: Train loss: 2.1428, Valid loss: 2.5889\n"
          ]
        },
        {
          "output_type": "stream",
          "name": "stderr",
          "text": [
            "Epoch [947/3000]: 100%|██████████| 9/9 [00:00<00:00, 90.86it/s, loss=2.91]\n"
          ]
        },
        {
          "output_type": "stream",
          "name": "stdout",
          "text": [
            "Epoch [947/3000]: Train loss: 2.3680, Valid loss: 3.1993\n"
          ]
        },
        {
          "output_type": "stream",
          "name": "stderr",
          "text": [
            "Epoch [948/3000]: 100%|██████████| 9/9 [00:00<00:00, 87.76it/s, loss=2.42]\n"
          ]
        },
        {
          "output_type": "stream",
          "name": "stdout",
          "text": [
            "Epoch [948/3000]: Train loss: 2.6478, Valid loss: 3.4362\n"
          ]
        },
        {
          "output_type": "stream",
          "name": "stderr",
          "text": [
            "Epoch [949/3000]: 100%|██████████| 9/9 [00:00<00:00, 84.46it/s, loss=1.97]\n"
          ]
        },
        {
          "output_type": "stream",
          "name": "stdout",
          "text": [
            "Epoch [949/3000]: Train loss: 2.5017, Valid loss: 2.8125\n"
          ]
        },
        {
          "output_type": "stream",
          "name": "stderr",
          "text": [
            "Epoch [950/3000]: 100%|██████████| 9/9 [00:00<00:00, 93.31it/s, loss=4.12]\n"
          ]
        },
        {
          "output_type": "stream",
          "name": "stdout",
          "text": [
            "Epoch [950/3000]: Train loss: 2.8402, Valid loss: 4.4943\n"
          ]
        },
        {
          "output_type": "stream",
          "name": "stderr",
          "text": [
            "Epoch [951/3000]: 100%|██████████| 9/9 [00:00<00:00, 71.67it/s, loss=2.28]\n"
          ]
        },
        {
          "output_type": "stream",
          "name": "stdout",
          "text": [
            "Epoch [951/3000]: Train loss: 2.6335, Valid loss: 1.9808\n"
          ]
        },
        {
          "output_type": "stream",
          "name": "stderr",
          "text": [
            "Epoch [952/3000]: 100%|██████████| 9/9 [00:00<00:00, 33.72it/s, loss=2.23]\n"
          ]
        },
        {
          "output_type": "stream",
          "name": "stdout",
          "text": [
            "Epoch [952/3000]: Train loss: 2.2013, Valid loss: 3.2791\n"
          ]
        },
        {
          "output_type": "stream",
          "name": "stderr",
          "text": [
            "Epoch [953/3000]: 100%|██████████| 9/9 [00:00<00:00, 49.52it/s, loss=1.93]\n"
          ]
        },
        {
          "output_type": "stream",
          "name": "stdout",
          "text": [
            "Epoch [953/3000]: Train loss: 2.0537, Valid loss: 2.2033\n"
          ]
        },
        {
          "output_type": "stream",
          "name": "stderr",
          "text": [
            "Epoch [954/3000]: 100%|██████████| 9/9 [00:00<00:00, 69.54it/s, loss=2.07]\n"
          ]
        },
        {
          "output_type": "stream",
          "name": "stdout",
          "text": [
            "Epoch [954/3000]: Train loss: 2.0524, Valid loss: 3.0260\n"
          ]
        },
        {
          "output_type": "stream",
          "name": "stderr",
          "text": [
            "Epoch [955/3000]: 100%|██████████| 9/9 [00:00<00:00, 71.85it/s, loss=3.1]\n"
          ]
        },
        {
          "output_type": "stream",
          "name": "stdout",
          "text": [
            "Epoch [955/3000]: Train loss: 2.4825, Valid loss: 2.7987\n"
          ]
        },
        {
          "output_type": "stream",
          "name": "stderr",
          "text": [
            "Epoch [956/3000]: 100%|██████████| 9/9 [00:00<00:00, 64.46it/s, loss=1.42]\n"
          ]
        },
        {
          "output_type": "stream",
          "name": "stdout",
          "text": [
            "Epoch [956/3000]: Train loss: 2.2088, Valid loss: 2.4564\n"
          ]
        },
        {
          "output_type": "stream",
          "name": "stderr",
          "text": [
            "Epoch [957/3000]: 100%|██████████| 9/9 [00:00<00:00, 30.04it/s, loss=1.83]\n"
          ]
        },
        {
          "output_type": "stream",
          "name": "stdout",
          "text": [
            "Epoch [957/3000]: Train loss: 2.0674, Valid loss: 2.3736\n"
          ]
        },
        {
          "output_type": "stream",
          "name": "stderr",
          "text": [
            "Epoch [958/3000]: 100%|██████████| 9/9 [00:00<00:00, 81.22it/s, loss=2.69]\n"
          ]
        },
        {
          "output_type": "stream",
          "name": "stdout",
          "text": [
            "Epoch [958/3000]: Train loss: 2.1774, Valid loss: 2.8542\n"
          ]
        },
        {
          "output_type": "stream",
          "name": "stderr",
          "text": [
            "Epoch [959/3000]: 100%|██████████| 9/9 [00:00<00:00, 71.07it/s, loss=2.34]\n"
          ]
        },
        {
          "output_type": "stream",
          "name": "stdout",
          "text": [
            "Epoch [959/3000]: Train loss: 2.7230, Valid loss: 3.0924\n"
          ]
        },
        {
          "output_type": "stream",
          "name": "stderr",
          "text": [
            "Epoch [960/3000]: 100%|██████████| 9/9 [00:00<00:00, 86.84it/s, loss=1.79]\n"
          ]
        },
        {
          "output_type": "stream",
          "name": "stdout",
          "text": [
            "Epoch [960/3000]: Train loss: 2.5025, Valid loss: 2.1126\n"
          ]
        },
        {
          "output_type": "stream",
          "name": "stderr",
          "text": [
            "Epoch [961/3000]: 100%|██████████| 9/9 [00:00<00:00, 40.39it/s, loss=2.02]\n"
          ]
        },
        {
          "output_type": "stream",
          "name": "stdout",
          "text": [
            "Epoch [961/3000]: Train loss: 2.0010, Valid loss: 2.2725\n"
          ]
        },
        {
          "output_type": "stream",
          "name": "stderr",
          "text": [
            "Epoch [962/3000]: 100%|██████████| 9/9 [00:00<00:00, 41.28it/s, loss=2.52]\n"
          ]
        },
        {
          "output_type": "stream",
          "name": "stdout",
          "text": [
            "Epoch [962/3000]: Train loss: 1.9543, Valid loss: 2.4129\n"
          ]
        },
        {
          "output_type": "stream",
          "name": "stderr",
          "text": [
            "Epoch [963/3000]: 100%|██████████| 9/9 [00:00<00:00, 80.71it/s, loss=2.72]\n"
          ]
        },
        {
          "output_type": "stream",
          "name": "stdout",
          "text": [
            "Epoch [963/3000]: Train loss: 2.2461, Valid loss: 2.9050\n"
          ]
        },
        {
          "output_type": "stream",
          "name": "stderr",
          "text": [
            "Epoch [964/3000]: 100%|██████████| 9/9 [00:00<00:00, 86.48it/s, loss=1.59]\n"
          ]
        },
        {
          "output_type": "stream",
          "name": "stdout",
          "text": [
            "Epoch [964/3000]: Train loss: 2.4138, Valid loss: 3.7543\n"
          ]
        },
        {
          "output_type": "stream",
          "name": "stderr",
          "text": [
            "Epoch [965/3000]: 100%|██████████| 9/9 [00:00<00:00, 83.15it/s, loss=4.44]\n"
          ]
        },
        {
          "output_type": "stream",
          "name": "stdout",
          "text": [
            "Epoch [965/3000]: Train loss: 4.0723, Valid loss: 2.5305\n"
          ]
        },
        {
          "output_type": "stream",
          "name": "stderr",
          "text": [
            "Epoch [966/3000]: 100%|██████████| 9/9 [00:00<00:00, 96.41it/s, loss=1.91]\n"
          ]
        },
        {
          "output_type": "stream",
          "name": "stdout",
          "text": [
            "Epoch [966/3000]: Train loss: 2.5014, Valid loss: 1.8658\n"
          ]
        },
        {
          "output_type": "stream",
          "name": "stderr",
          "text": [
            "Epoch [967/3000]: 100%|██████████| 9/9 [00:00<00:00, 92.85it/s, loss=1.88]\n"
          ]
        },
        {
          "output_type": "stream",
          "name": "stdout",
          "text": [
            "Epoch [967/3000]: Train loss: 2.3448, Valid loss: 2.0422\n"
          ]
        },
        {
          "output_type": "stream",
          "name": "stderr",
          "text": [
            "Epoch [968/3000]: 100%|██████████| 9/9 [00:00<00:00, 97.20it/s, loss=1.69]\n"
          ]
        },
        {
          "output_type": "stream",
          "name": "stdout",
          "text": [
            "Epoch [968/3000]: Train loss: 1.9152, Valid loss: 3.0478\n"
          ]
        },
        {
          "output_type": "stream",
          "name": "stderr",
          "text": [
            "Epoch [969/3000]: 100%|██████████| 9/9 [00:00<00:00, 97.80it/s, loss=1.91]\n"
          ]
        },
        {
          "output_type": "stream",
          "name": "stdout",
          "text": [
            "Epoch [969/3000]: Train loss: 2.2145, Valid loss: 3.5928\n"
          ]
        },
        {
          "output_type": "stream",
          "name": "stderr",
          "text": [
            "Epoch [970/3000]: 100%|██████████| 9/9 [00:00<00:00, 82.75it/s, loss=1.62]\n"
          ]
        },
        {
          "output_type": "stream",
          "name": "stdout",
          "text": [
            "Epoch [970/3000]: Train loss: 2.7094, Valid loss: 3.1508\n"
          ]
        },
        {
          "output_type": "stream",
          "name": "stderr",
          "text": [
            "Epoch [971/3000]: 100%|██████████| 9/9 [00:00<00:00, 95.97it/s, loss=3.96]\n"
          ]
        },
        {
          "output_type": "stream",
          "name": "stdout",
          "text": [
            "Epoch [971/3000]: Train loss: 2.5107, Valid loss: 4.0072\n"
          ]
        },
        {
          "output_type": "stream",
          "name": "stderr",
          "text": [
            "Epoch [972/3000]: 100%|██████████| 9/9 [00:00<00:00, 81.79it/s, loss=2.45]\n"
          ]
        },
        {
          "output_type": "stream",
          "name": "stdout",
          "text": [
            "Epoch [972/3000]: Train loss: 2.4170, Valid loss: 2.0086\n"
          ]
        },
        {
          "output_type": "stream",
          "name": "stderr",
          "text": [
            "Epoch [973/3000]: 100%|██████████| 9/9 [00:00<00:00, 93.76it/s, loss=2.04]\n"
          ]
        },
        {
          "output_type": "stream",
          "name": "stdout",
          "text": [
            "Epoch [973/3000]: Train loss: 2.1308, Valid loss: 2.4113\n"
          ]
        },
        {
          "output_type": "stream",
          "name": "stderr",
          "text": [
            "Epoch [974/3000]: 100%|██████████| 9/9 [00:00<00:00, 98.18it/s, loss=2.21]\n"
          ]
        },
        {
          "output_type": "stream",
          "name": "stdout",
          "text": [
            "Epoch [974/3000]: Train loss: 2.1108, Valid loss: 1.9834\n"
          ]
        },
        {
          "output_type": "stream",
          "name": "stderr",
          "text": [
            "Epoch [975/3000]: 100%|██████████| 9/9 [00:00<00:00, 92.26it/s, loss=1.87]\n"
          ]
        },
        {
          "output_type": "stream",
          "name": "stdout",
          "text": [
            "Epoch [975/3000]: Train loss: 1.9826, Valid loss: 2.3178\n"
          ]
        },
        {
          "output_type": "stream",
          "name": "stderr",
          "text": [
            "Epoch [976/3000]: 100%|██████████| 9/9 [00:00<00:00, 97.63it/s, loss=2.54]\n"
          ]
        },
        {
          "output_type": "stream",
          "name": "stdout",
          "text": [
            "Epoch [976/3000]: Train loss: 2.3080, Valid loss: 2.5055\n"
          ]
        },
        {
          "output_type": "stream",
          "name": "stderr",
          "text": [
            "Epoch [977/3000]: 100%|██████████| 9/9 [00:00<00:00, 95.87it/s, loss=2.08]\n"
          ]
        },
        {
          "output_type": "stream",
          "name": "stdout",
          "text": [
            "Epoch [977/3000]: Train loss: 2.1176, Valid loss: 2.4202\n"
          ]
        },
        {
          "output_type": "stream",
          "name": "stderr",
          "text": [
            "Epoch [978/3000]: 100%|██████████| 9/9 [00:00<00:00, 98.25it/s, loss=2.55]\n"
          ]
        },
        {
          "output_type": "stream",
          "name": "stdout",
          "text": [
            "Epoch [978/3000]: Train loss: 2.1344, Valid loss: 2.2198\n"
          ]
        },
        {
          "output_type": "stream",
          "name": "stderr",
          "text": [
            "Epoch [979/3000]: 100%|██████████| 9/9 [00:00<00:00, 94.97it/s, loss=1.72]\n"
          ]
        },
        {
          "output_type": "stream",
          "name": "stdout",
          "text": [
            "Epoch [979/3000]: Train loss: 1.9718, Valid loss: 1.9694\n"
          ]
        },
        {
          "output_type": "stream",
          "name": "stderr",
          "text": [
            "Epoch [980/3000]: 100%|██████████| 9/9 [00:00<00:00, 82.51it/s, loss=2.11]\n"
          ]
        },
        {
          "output_type": "stream",
          "name": "stdout",
          "text": [
            "Epoch [980/3000]: Train loss: 1.9883, Valid loss: 2.4143\n"
          ]
        },
        {
          "output_type": "stream",
          "name": "stderr",
          "text": [
            "Epoch [981/3000]: 100%|██████████| 9/9 [00:00<00:00, 84.64it/s, loss=1.96]\n"
          ]
        },
        {
          "output_type": "stream",
          "name": "stdout",
          "text": [
            "Epoch [981/3000]: Train loss: 1.9652, Valid loss: 4.2776\n"
          ]
        },
        {
          "output_type": "stream",
          "name": "stderr",
          "text": [
            "Epoch [982/3000]: 100%|██████████| 9/9 [00:00<00:00, 70.24it/s, loss=1.93]\n"
          ]
        },
        {
          "output_type": "stream",
          "name": "stdout",
          "text": [
            "Epoch [982/3000]: Train loss: 2.3692, Valid loss: 1.9951\n"
          ]
        },
        {
          "output_type": "stream",
          "name": "stderr",
          "text": [
            "Epoch [983/3000]: 100%|██████████| 9/9 [00:00<00:00, 78.13it/s, loss=2.19]\n"
          ]
        },
        {
          "output_type": "stream",
          "name": "stdout",
          "text": [
            "Epoch [983/3000]: Train loss: 2.2706, Valid loss: 2.3390\n"
          ]
        },
        {
          "output_type": "stream",
          "name": "stderr",
          "text": [
            "Epoch [984/3000]: 100%|██████████| 9/9 [00:00<00:00, 65.17it/s, loss=2.17]\n"
          ]
        },
        {
          "output_type": "stream",
          "name": "stdout",
          "text": [
            "Epoch [984/3000]: Train loss: 2.8773, Valid loss: 3.3431\n"
          ]
        },
        {
          "output_type": "stream",
          "name": "stderr",
          "text": [
            "Epoch [985/3000]: 100%|██████████| 9/9 [00:00<00:00, 67.23it/s, loss=1.48]\n"
          ]
        },
        {
          "output_type": "stream",
          "name": "stdout",
          "text": [
            "Epoch [985/3000]: Train loss: 2.0221, Valid loss: 2.1252\n"
          ]
        },
        {
          "output_type": "stream",
          "name": "stderr",
          "text": [
            "Epoch [986/3000]: 100%|██████████| 9/9 [00:00<00:00, 94.39it/s, loss=2.39]\n"
          ]
        },
        {
          "output_type": "stream",
          "name": "stdout",
          "text": [
            "Epoch [986/3000]: Train loss: 1.9778, Valid loss: 2.0505\n"
          ]
        },
        {
          "output_type": "stream",
          "name": "stderr",
          "text": [
            "Epoch [987/3000]: 100%|██████████| 9/9 [00:00<00:00, 68.75it/s, loss=2.3]\n"
          ]
        },
        {
          "output_type": "stream",
          "name": "stdout",
          "text": [
            "Epoch [987/3000]: Train loss: 1.9789, Valid loss: 2.5463\n"
          ]
        },
        {
          "output_type": "stream",
          "name": "stderr",
          "text": [
            "Epoch [988/3000]: 100%|██████████| 9/9 [00:00<00:00, 85.90it/s, loss=1.67]\n"
          ]
        },
        {
          "output_type": "stream",
          "name": "stdout",
          "text": [
            "Epoch [988/3000]: Train loss: 1.9331, Valid loss: 2.0761\n"
          ]
        },
        {
          "output_type": "stream",
          "name": "stderr",
          "text": [
            "Epoch [989/3000]: 100%|██████████| 9/9 [00:00<00:00, 91.85it/s, loss=2.06]\n"
          ]
        },
        {
          "output_type": "stream",
          "name": "stdout",
          "text": [
            "Epoch [989/3000]: Train loss: 1.9568, Valid loss: 2.0866\n"
          ]
        },
        {
          "output_type": "stream",
          "name": "stderr",
          "text": [
            "Epoch [990/3000]: 100%|██████████| 9/9 [00:00<00:00, 75.83it/s, loss=1.83]\n"
          ]
        },
        {
          "output_type": "stream",
          "name": "stdout",
          "text": [
            "Epoch [990/3000]: Train loss: 2.0339, Valid loss: 2.0961\n"
          ]
        },
        {
          "output_type": "stream",
          "name": "stderr",
          "text": [
            "Epoch [991/3000]: 100%|██████████| 9/9 [00:00<00:00, 80.26it/s, loss=1.89]\n"
          ]
        },
        {
          "output_type": "stream",
          "name": "stdout",
          "text": [
            "Epoch [991/3000]: Train loss: 1.9088, Valid loss: 2.0609\n"
          ]
        },
        {
          "output_type": "stream",
          "name": "stderr",
          "text": [
            "Epoch [992/3000]: 100%|██████████| 9/9 [00:00<00:00, 81.96it/s, loss=1.52]\n"
          ]
        },
        {
          "output_type": "stream",
          "name": "stdout",
          "text": [
            "Epoch [992/3000]: Train loss: 1.9831, Valid loss: 2.3941\n"
          ]
        },
        {
          "output_type": "stream",
          "name": "stderr",
          "text": [
            "Epoch [993/3000]: 100%|██████████| 9/9 [00:00<00:00, 75.30it/s, loss=1.69]\n"
          ]
        },
        {
          "output_type": "stream",
          "name": "stdout",
          "text": [
            "Epoch [993/3000]: Train loss: 2.0154, Valid loss: 2.4396\n"
          ]
        },
        {
          "output_type": "stream",
          "name": "stderr",
          "text": [
            "Epoch [994/3000]: 100%|██████████| 9/9 [00:00<00:00, 82.60it/s, loss=2.02]\n"
          ]
        },
        {
          "output_type": "stream",
          "name": "stdout",
          "text": [
            "Epoch [994/3000]: Train loss: 2.1410, Valid loss: 2.2497\n"
          ]
        },
        {
          "output_type": "stream",
          "name": "stderr",
          "text": [
            "Epoch [995/3000]: 100%|██████████| 9/9 [00:00<00:00, 28.45it/s, loss=1.9]\n"
          ]
        },
        {
          "output_type": "stream",
          "name": "stdout",
          "text": [
            "Epoch [995/3000]: Train loss: 1.9522, Valid loss: 2.3503\n"
          ]
        },
        {
          "output_type": "stream",
          "name": "stderr",
          "text": [
            "Epoch [996/3000]: 100%|██████████| 9/9 [00:00<00:00, 77.98it/s, loss=2.37]\n"
          ]
        },
        {
          "output_type": "stream",
          "name": "stdout",
          "text": [
            "Epoch [996/3000]: Train loss: 2.0230, Valid loss: 3.1901\n"
          ]
        },
        {
          "output_type": "stream",
          "name": "stderr",
          "text": [
            "Epoch [997/3000]: 100%|██████████| 9/9 [00:00<00:00, 83.99it/s, loss=2.3]\n"
          ]
        },
        {
          "output_type": "stream",
          "name": "stdout",
          "text": [
            "Epoch [997/3000]: Train loss: 2.3264, Valid loss: 2.7104\n"
          ]
        },
        {
          "output_type": "stream",
          "name": "stderr",
          "text": [
            "Epoch [998/3000]: 100%|██████████| 9/9 [00:00<00:00, 91.13it/s, loss=1.64]\n"
          ]
        },
        {
          "output_type": "stream",
          "name": "stdout",
          "text": [
            "Epoch [998/3000]: Train loss: 1.9885, Valid loss: 2.2395\n"
          ]
        },
        {
          "output_type": "stream",
          "name": "stderr",
          "text": [
            "Epoch [999/3000]: 100%|██████████| 9/9 [00:00<00:00, 96.13it/s, loss=1.63]\n"
          ]
        },
        {
          "output_type": "stream",
          "name": "stdout",
          "text": [
            "Epoch [999/3000]: Train loss: 2.0250, Valid loss: 2.3162\n"
          ]
        },
        {
          "output_type": "stream",
          "name": "stderr",
          "text": [
            "Epoch [1000/3000]: 100%|██████████| 9/9 [00:00<00:00, 93.50it/s, loss=1.83]\n"
          ]
        },
        {
          "output_type": "stream",
          "name": "stdout",
          "text": [
            "Epoch [1000/3000]: Train loss: 1.9987, Valid loss: 3.0802\n"
          ]
        },
        {
          "output_type": "stream",
          "name": "stderr",
          "text": [
            "Epoch [1001/3000]: 100%|██████████| 9/9 [00:00<00:00, 100.44it/s, loss=1.87]\n"
          ]
        },
        {
          "output_type": "stream",
          "name": "stdout",
          "text": [
            "Epoch [1001/3000]: Train loss: 2.4063, Valid loss: 3.8003\n"
          ]
        },
        {
          "output_type": "stream",
          "name": "stderr",
          "text": [
            "Epoch [1002/3000]: 100%|██████████| 9/9 [00:00<00:00, 97.35it/s, loss=1.96]\n"
          ]
        },
        {
          "output_type": "stream",
          "name": "stdout",
          "text": [
            "Epoch [1002/3000]: Train loss: 2.3583, Valid loss: 2.1770\n"
          ]
        },
        {
          "output_type": "stream",
          "name": "stderr",
          "text": [
            "Epoch [1003/3000]: 100%|██████████| 9/9 [00:00<00:00, 94.44it/s, loss=2.41]\n"
          ]
        },
        {
          "output_type": "stream",
          "name": "stdout",
          "text": [
            "Epoch [1003/3000]: Train loss: 2.2540, Valid loss: 2.0715\n"
          ]
        },
        {
          "output_type": "stream",
          "name": "stderr",
          "text": [
            "Epoch [1004/3000]: 100%|██████████| 9/9 [00:00<00:00, 92.17it/s, loss=2.63]\n"
          ]
        },
        {
          "output_type": "stream",
          "name": "stdout",
          "text": [
            "Epoch [1004/3000]: Train loss: 2.1473, Valid loss: 2.9766\n"
          ]
        },
        {
          "output_type": "stream",
          "name": "stderr",
          "text": [
            "Epoch [1005/3000]: 100%|██████████| 9/9 [00:00<00:00, 76.23it/s, loss=2.05]\n"
          ]
        },
        {
          "output_type": "stream",
          "name": "stdout",
          "text": [
            "Epoch [1005/3000]: Train loss: 2.4543, Valid loss: 2.4079\n"
          ]
        },
        {
          "output_type": "stream",
          "name": "stderr",
          "text": [
            "Epoch [1006/3000]: 100%|██████████| 9/9 [00:00<00:00, 85.82it/s, loss=1.9]\n"
          ]
        },
        {
          "output_type": "stream",
          "name": "stdout",
          "text": [
            "Epoch [1006/3000]: Train loss: 2.0063, Valid loss: 2.6190\n"
          ]
        },
        {
          "output_type": "stream",
          "name": "stderr",
          "text": [
            "Epoch [1007/3000]: 100%|██████████| 9/9 [00:00<00:00, 86.33it/s, loss=2.1]\n"
          ]
        },
        {
          "output_type": "stream",
          "name": "stdout",
          "text": [
            "Epoch [1007/3000]: Train loss: 2.1568, Valid loss: 2.8640\n"
          ]
        },
        {
          "output_type": "stream",
          "name": "stderr",
          "text": [
            "Epoch [1008/3000]: 100%|██████████| 9/9 [00:00<00:00, 80.38it/s, loss=1.63]\n"
          ]
        },
        {
          "output_type": "stream",
          "name": "stdout",
          "text": [
            "Epoch [1008/3000]: Train loss: 2.1419, Valid loss: 2.5436\n"
          ]
        },
        {
          "output_type": "stream",
          "name": "stderr",
          "text": [
            "Epoch [1009/3000]: 100%|██████████| 9/9 [00:00<00:00, 90.06it/s, loss=2.42]\n"
          ]
        },
        {
          "output_type": "stream",
          "name": "stdout",
          "text": [
            "Epoch [1009/3000]: Train loss: 2.1312, Valid loss: 2.1208\n"
          ]
        },
        {
          "output_type": "stream",
          "name": "stderr",
          "text": [
            "Epoch [1010/3000]: 100%|██████████| 9/9 [00:00<00:00, 74.22it/s, loss=1.59]\n"
          ]
        },
        {
          "output_type": "stream",
          "name": "stdout",
          "text": [
            "Epoch [1010/3000]: Train loss: 2.0151, Valid loss: 2.6966\n"
          ]
        },
        {
          "output_type": "stream",
          "name": "stderr",
          "text": [
            "Epoch [1011/3000]: 100%|██████████| 9/9 [00:00<00:00, 90.89it/s, loss=1.77]\n"
          ]
        },
        {
          "output_type": "stream",
          "name": "stdout",
          "text": [
            "Epoch [1011/3000]: Train loss: 2.0970, Valid loss: 2.1983\n"
          ]
        },
        {
          "output_type": "stream",
          "name": "stderr",
          "text": [
            "Epoch [1012/3000]: 100%|██████████| 9/9 [00:00<00:00, 82.92it/s, loss=2.91]\n"
          ]
        },
        {
          "output_type": "stream",
          "name": "stdout",
          "text": [
            "Epoch [1012/3000]: Train loss: 2.5448, Valid loss: 3.7331\n"
          ]
        },
        {
          "output_type": "stream",
          "name": "stderr",
          "text": [
            "Epoch [1013/3000]: 100%|██████████| 9/9 [00:00<00:00, 94.06it/s, loss=3.47]\n"
          ]
        },
        {
          "output_type": "stream",
          "name": "stdout",
          "text": [
            "Epoch [1013/3000]: Train loss: 2.7780, Valid loss: 1.9809\n"
          ]
        },
        {
          "output_type": "stream",
          "name": "stderr",
          "text": [
            "Epoch [1014/3000]: 100%|██████████| 9/9 [00:00<00:00, 88.09it/s, loss=1.42]\n"
          ]
        },
        {
          "output_type": "stream",
          "name": "stdout",
          "text": [
            "Epoch [1014/3000]: Train loss: 2.0813, Valid loss: 1.9204\n"
          ]
        },
        {
          "output_type": "stream",
          "name": "stderr",
          "text": [
            "Epoch [1015/3000]: 100%|██████████| 9/9 [00:00<00:00, 85.58it/s, loss=2.09]\n"
          ]
        },
        {
          "output_type": "stream",
          "name": "stdout",
          "text": [
            "Epoch [1015/3000]: Train loss: 1.9272, Valid loss: 4.0480\n"
          ]
        },
        {
          "output_type": "stream",
          "name": "stderr",
          "text": [
            "Epoch [1016/3000]: 100%|██████████| 9/9 [00:00<00:00, 84.84it/s, loss=3.03]\n"
          ]
        },
        {
          "output_type": "stream",
          "name": "stdout",
          "text": [
            "Epoch [1016/3000]: Train loss: 2.7544, Valid loss: 2.2074\n"
          ]
        },
        {
          "output_type": "stream",
          "name": "stderr",
          "text": [
            "Epoch [1017/3000]: 100%|██████████| 9/9 [00:00<00:00, 87.28it/s, loss=2.01]\n"
          ]
        },
        {
          "output_type": "stream",
          "name": "stdout",
          "text": [
            "Epoch [1017/3000]: Train loss: 2.0908, Valid loss: 2.0794\n"
          ]
        },
        {
          "output_type": "stream",
          "name": "stderr",
          "text": [
            "Epoch [1018/3000]: 100%|██████████| 9/9 [00:00<00:00, 92.13it/s, loss=2.55]\n"
          ]
        },
        {
          "output_type": "stream",
          "name": "stdout",
          "text": [
            "Epoch [1018/3000]: Train loss: 2.1453, Valid loss: 2.1348\n"
          ]
        },
        {
          "output_type": "stream",
          "name": "stderr",
          "text": [
            "Epoch [1019/3000]: 100%|██████████| 9/9 [00:00<00:00, 78.56it/s, loss=2.51]\n"
          ]
        },
        {
          "output_type": "stream",
          "name": "stdout",
          "text": [
            "Epoch [1019/3000]: Train loss: 2.1382, Valid loss: 3.5728\n"
          ]
        },
        {
          "output_type": "stream",
          "name": "stderr",
          "text": [
            "Epoch [1020/3000]: 100%|██████████| 9/9 [00:00<00:00, 85.86it/s, loss=1.78]\n"
          ]
        },
        {
          "output_type": "stream",
          "name": "stdout",
          "text": [
            "Epoch [1020/3000]: Train loss: 2.3271, Valid loss: 2.0523\n"
          ]
        },
        {
          "output_type": "stream",
          "name": "stderr",
          "text": [
            "Epoch [1021/3000]: 100%|██████████| 9/9 [00:00<00:00, 93.28it/s, loss=2.31]\n"
          ]
        },
        {
          "output_type": "stream",
          "name": "stdout",
          "text": [
            "Epoch [1021/3000]: Train loss: 1.9671, Valid loss: 2.3647\n"
          ]
        },
        {
          "output_type": "stream",
          "name": "stderr",
          "text": [
            "Epoch [1022/3000]: 100%|██████████| 9/9 [00:00<00:00, 91.79it/s, loss=2.34]\n"
          ]
        },
        {
          "output_type": "stream",
          "name": "stdout",
          "text": [
            "Epoch [1022/3000]: Train loss: 2.2733, Valid loss: 2.3128\n"
          ]
        },
        {
          "output_type": "stream",
          "name": "stderr",
          "text": [
            "Epoch [1023/3000]: 100%|██████████| 9/9 [00:00<00:00, 95.95it/s, loss=2.73]\n"
          ]
        },
        {
          "output_type": "stream",
          "name": "stdout",
          "text": [
            "Epoch [1023/3000]: Train loss: 2.0178, Valid loss: 2.1516\n"
          ]
        },
        {
          "output_type": "stream",
          "name": "stderr",
          "text": [
            "Epoch [1024/3000]: 100%|██████████| 9/9 [00:00<00:00, 80.93it/s, loss=2.31]\n"
          ]
        },
        {
          "output_type": "stream",
          "name": "stdout",
          "text": [
            "Epoch [1024/3000]: Train loss: 2.1405, Valid loss: 2.7382\n"
          ]
        },
        {
          "output_type": "stream",
          "name": "stderr",
          "text": [
            "Epoch [1025/3000]: 100%|██████████| 9/9 [00:00<00:00, 90.83it/s, loss=1.75]\n"
          ]
        },
        {
          "output_type": "stream",
          "name": "stdout",
          "text": [
            "Epoch [1025/3000]: Train loss: 2.1489, Valid loss: 2.2944\n"
          ]
        },
        {
          "output_type": "stream",
          "name": "stderr",
          "text": [
            "Epoch [1026/3000]: 100%|██████████| 9/9 [00:00<00:00, 77.22it/s, loss=2.35]\n"
          ]
        },
        {
          "output_type": "stream",
          "name": "stdout",
          "text": [
            "Epoch [1026/3000]: Train loss: 1.9950, Valid loss: 2.2836\n"
          ]
        },
        {
          "output_type": "stream",
          "name": "stderr",
          "text": [
            "Epoch [1027/3000]: 100%|██████████| 9/9 [00:00<00:00, 71.05it/s, loss=1.4]\n"
          ]
        },
        {
          "output_type": "stream",
          "name": "stdout",
          "text": [
            "Epoch [1027/3000]: Train loss: 1.8271, Valid loss: 2.5746\n"
          ]
        },
        {
          "output_type": "stream",
          "name": "stderr",
          "text": [
            "Epoch [1028/3000]: 100%|██████████| 9/9 [00:00<00:00, 81.84it/s, loss=1.82]\n"
          ]
        },
        {
          "output_type": "stream",
          "name": "stdout",
          "text": [
            "Epoch [1028/3000]: Train loss: 1.9128, Valid loss: 1.8517\n",
            "Saving model with loss 1.852...\n"
          ]
        },
        {
          "output_type": "stream",
          "name": "stderr",
          "text": [
            "Epoch [1029/3000]: 100%|██████████| 9/9 [00:00<00:00, 61.22it/s, loss=2.07]\n"
          ]
        },
        {
          "output_type": "stream",
          "name": "stdout",
          "text": [
            "Epoch [1029/3000]: Train loss: 1.9766, Valid loss: 2.7722\n"
          ]
        },
        {
          "output_type": "stream",
          "name": "stderr",
          "text": [
            "Epoch [1030/3000]: 100%|██████████| 9/9 [00:00<00:00, 82.25it/s, loss=1.55]\n"
          ]
        },
        {
          "output_type": "stream",
          "name": "stdout",
          "text": [
            "Epoch [1030/3000]: Train loss: 1.9679, Valid loss: 1.7509\n",
            "Saving model with loss 1.751...\n"
          ]
        },
        {
          "output_type": "stream",
          "name": "stderr",
          "text": [
            "Epoch [1031/3000]: 100%|██████████| 9/9 [00:00<00:00, 85.07it/s, loss=1.59]\n"
          ]
        },
        {
          "output_type": "stream",
          "name": "stdout",
          "text": [
            "Epoch [1031/3000]: Train loss: 1.9113, Valid loss: 2.0578\n"
          ]
        },
        {
          "output_type": "stream",
          "name": "stderr",
          "text": [
            "Epoch [1032/3000]: 100%|██████████| 9/9 [00:00<00:00, 81.59it/s, loss=2.04]\n"
          ]
        },
        {
          "output_type": "stream",
          "name": "stdout",
          "text": [
            "Epoch [1032/3000]: Train loss: 2.0085, Valid loss: 1.9539\n"
          ]
        },
        {
          "output_type": "stream",
          "name": "stderr",
          "text": [
            "Epoch [1033/3000]: 100%|██████████| 9/9 [00:00<00:00, 69.87it/s, loss=1.43]\n"
          ]
        },
        {
          "output_type": "stream",
          "name": "stdout",
          "text": [
            "Epoch [1033/3000]: Train loss: 2.0172, Valid loss: 2.1456\n"
          ]
        },
        {
          "output_type": "stream",
          "name": "stderr",
          "text": [
            "Epoch [1034/3000]: 100%|██████████| 9/9 [00:00<00:00, 69.17it/s, loss=1.39]\n"
          ]
        },
        {
          "output_type": "stream",
          "name": "stdout",
          "text": [
            "Epoch [1034/3000]: Train loss: 1.9396, Valid loss: 2.2702\n"
          ]
        },
        {
          "output_type": "stream",
          "name": "stderr",
          "text": [
            "Epoch [1035/3000]: 100%|██████████| 9/9 [00:00<00:00, 77.55it/s, loss=1.75]\n"
          ]
        },
        {
          "output_type": "stream",
          "name": "stdout",
          "text": [
            "Epoch [1035/3000]: Train loss: 2.3108, Valid loss: 2.0772\n"
          ]
        },
        {
          "output_type": "stream",
          "name": "stderr",
          "text": [
            "Epoch [1036/3000]: 100%|██████████| 9/9 [00:00<00:00, 85.74it/s, loss=2.73]\n"
          ]
        },
        {
          "output_type": "stream",
          "name": "stdout",
          "text": [
            "Epoch [1036/3000]: Train loss: 2.1021, Valid loss: 2.9708\n"
          ]
        },
        {
          "output_type": "stream",
          "name": "stderr",
          "text": [
            "Epoch [1037/3000]: 100%|██████████| 9/9 [00:00<00:00, 96.39it/s, loss=2.14]\n"
          ]
        },
        {
          "output_type": "stream",
          "name": "stdout",
          "text": [
            "Epoch [1037/3000]: Train loss: 1.9938, Valid loss: 2.7187\n"
          ]
        },
        {
          "output_type": "stream",
          "name": "stderr",
          "text": [
            "Epoch [1038/3000]: 100%|██████████| 9/9 [00:00<00:00, 94.29it/s, loss=2.35]\n"
          ]
        },
        {
          "output_type": "stream",
          "name": "stdout",
          "text": [
            "Epoch [1038/3000]: Train loss: 2.0077, Valid loss: 2.0984\n"
          ]
        },
        {
          "output_type": "stream",
          "name": "stderr",
          "text": [
            "Epoch [1039/3000]: 100%|██████████| 9/9 [00:00<00:00, 89.90it/s, loss=1.6]\n"
          ]
        },
        {
          "output_type": "stream",
          "name": "stdout",
          "text": [
            "Epoch [1039/3000]: Train loss: 2.1290, Valid loss: 2.5362\n"
          ]
        },
        {
          "output_type": "stream",
          "name": "stderr",
          "text": [
            "Epoch [1040/3000]: 100%|██████████| 9/9 [00:00<00:00, 85.87it/s, loss=1.94]\n"
          ]
        },
        {
          "output_type": "stream",
          "name": "stdout",
          "text": [
            "Epoch [1040/3000]: Train loss: 2.1271, Valid loss: 1.9845\n"
          ]
        },
        {
          "output_type": "stream",
          "name": "stderr",
          "text": [
            "Epoch [1041/3000]: 100%|██████████| 9/9 [00:00<00:00, 91.03it/s, loss=1.94]\n"
          ]
        },
        {
          "output_type": "stream",
          "name": "stdout",
          "text": [
            "Epoch [1041/3000]: Train loss: 2.0463, Valid loss: 2.7205\n"
          ]
        },
        {
          "output_type": "stream",
          "name": "stderr",
          "text": [
            "Epoch [1042/3000]: 100%|██████████| 9/9 [00:00<00:00, 93.08it/s, loss=2.17]\n"
          ]
        },
        {
          "output_type": "stream",
          "name": "stdout",
          "text": [
            "Epoch [1042/3000]: Train loss: 1.9061, Valid loss: 2.5048\n"
          ]
        },
        {
          "output_type": "stream",
          "name": "stderr",
          "text": [
            "Epoch [1043/3000]: 100%|██████████| 9/9 [00:00<00:00, 90.74it/s, loss=2.26]\n"
          ]
        },
        {
          "output_type": "stream",
          "name": "stdout",
          "text": [
            "Epoch [1043/3000]: Train loss: 1.9163, Valid loss: 2.0038\n"
          ]
        },
        {
          "output_type": "stream",
          "name": "stderr",
          "text": [
            "Epoch [1044/3000]: 100%|██████████| 9/9 [00:00<00:00, 74.27it/s, loss=2.31]\n"
          ]
        },
        {
          "output_type": "stream",
          "name": "stdout",
          "text": [
            "Epoch [1044/3000]: Train loss: 1.9794, Valid loss: 2.2592\n"
          ]
        },
        {
          "output_type": "stream",
          "name": "stderr",
          "text": [
            "Epoch [1045/3000]: 100%|██████████| 9/9 [00:00<00:00, 79.36it/s, loss=2.76]\n"
          ]
        },
        {
          "output_type": "stream",
          "name": "stdout",
          "text": [
            "Epoch [1045/3000]: Train loss: 2.1429, Valid loss: 2.2464\n"
          ]
        },
        {
          "output_type": "stream",
          "name": "stderr",
          "text": [
            "Epoch [1046/3000]: 100%|██████████| 9/9 [00:00<00:00, 94.32it/s, loss=2.56]\n"
          ]
        },
        {
          "output_type": "stream",
          "name": "stdout",
          "text": [
            "Epoch [1046/3000]: Train loss: 2.2355, Valid loss: 3.4972\n"
          ]
        },
        {
          "output_type": "stream",
          "name": "stderr",
          "text": [
            "Epoch [1047/3000]: 100%|██████████| 9/9 [00:00<00:00, 79.82it/s, loss=2.59]\n"
          ]
        },
        {
          "output_type": "stream",
          "name": "stdout",
          "text": [
            "Epoch [1047/3000]: Train loss: 2.4169, Valid loss: 3.3791\n"
          ]
        },
        {
          "output_type": "stream",
          "name": "stderr",
          "text": [
            "Epoch [1048/3000]: 100%|██████████| 9/9 [00:00<00:00, 74.83it/s, loss=1.81]\n"
          ]
        },
        {
          "output_type": "stream",
          "name": "stdout",
          "text": [
            "Epoch [1048/3000]: Train loss: 2.5443, Valid loss: 4.4864\n"
          ]
        },
        {
          "output_type": "stream",
          "name": "stderr",
          "text": [
            "Epoch [1049/3000]: 100%|██████████| 9/9 [00:00<00:00, 69.00it/s, loss=3.45]\n"
          ]
        },
        {
          "output_type": "stream",
          "name": "stdout",
          "text": [
            "Epoch [1049/3000]: Train loss: 3.1802, Valid loss: 2.4339\n"
          ]
        },
        {
          "output_type": "stream",
          "name": "stderr",
          "text": [
            "Epoch [1050/3000]: 100%|██████████| 9/9 [00:00<00:00, 80.92it/s, loss=2.41]\n"
          ]
        },
        {
          "output_type": "stream",
          "name": "stdout",
          "text": [
            "Epoch [1050/3000]: Train loss: 2.2613, Valid loss: 2.3549\n"
          ]
        },
        {
          "output_type": "stream",
          "name": "stderr",
          "text": [
            "Epoch [1051/3000]: 100%|██████████| 9/9 [00:00<00:00, 85.08it/s, loss=2.23]\n"
          ]
        },
        {
          "output_type": "stream",
          "name": "stdout",
          "text": [
            "Epoch [1051/3000]: Train loss: 2.0711, Valid loss: 2.2711\n"
          ]
        },
        {
          "output_type": "stream",
          "name": "stderr",
          "text": [
            "Epoch [1052/3000]: 100%|██████████| 9/9 [00:00<00:00, 75.87it/s, loss=2.02]\n"
          ]
        },
        {
          "output_type": "stream",
          "name": "stdout",
          "text": [
            "Epoch [1052/3000]: Train loss: 2.0508, Valid loss: 2.6453\n"
          ]
        },
        {
          "output_type": "stream",
          "name": "stderr",
          "text": [
            "Epoch [1053/3000]: 100%|██████████| 9/9 [00:00<00:00, 77.90it/s, loss=2.24]\n"
          ]
        },
        {
          "output_type": "stream",
          "name": "stdout",
          "text": [
            "Epoch [1053/3000]: Train loss: 2.1760, Valid loss: 2.3368\n"
          ]
        },
        {
          "output_type": "stream",
          "name": "stderr",
          "text": [
            "Epoch [1054/3000]: 100%|██████████| 9/9 [00:00<00:00, 78.09it/s, loss=1.9]\n"
          ]
        },
        {
          "output_type": "stream",
          "name": "stdout",
          "text": [
            "Epoch [1054/3000]: Train loss: 2.0077, Valid loss: 3.1555\n"
          ]
        },
        {
          "output_type": "stream",
          "name": "stderr",
          "text": [
            "Epoch [1055/3000]: 100%|██████████| 9/9 [00:00<00:00, 97.29it/s, loss=2.13]\n"
          ]
        },
        {
          "output_type": "stream",
          "name": "stdout",
          "text": [
            "Epoch [1055/3000]: Train loss: 2.4477, Valid loss: 2.1474\n"
          ]
        },
        {
          "output_type": "stream",
          "name": "stderr",
          "text": [
            "Epoch [1056/3000]: 100%|██████████| 9/9 [00:00<00:00, 100.63it/s, loss=2.22]\n"
          ]
        },
        {
          "output_type": "stream",
          "name": "stdout",
          "text": [
            "Epoch [1056/3000]: Train loss: 2.0822, Valid loss: 2.4020\n"
          ]
        },
        {
          "output_type": "stream",
          "name": "stderr",
          "text": [
            "Epoch [1057/3000]: 100%|██████████| 9/9 [00:00<00:00, 96.07it/s, loss=1.74]\n"
          ]
        },
        {
          "output_type": "stream",
          "name": "stdout",
          "text": [
            "Epoch [1057/3000]: Train loss: 2.0071, Valid loss: 1.9189\n"
          ]
        },
        {
          "output_type": "stream",
          "name": "stderr",
          "text": [
            "Epoch [1058/3000]: 100%|██████████| 9/9 [00:00<00:00, 85.00it/s, loss=1.82]\n"
          ]
        },
        {
          "output_type": "stream",
          "name": "stdout",
          "text": [
            "Epoch [1058/3000]: Train loss: 2.0672, Valid loss: 4.3809\n"
          ]
        },
        {
          "output_type": "stream",
          "name": "stderr",
          "text": [
            "Epoch [1059/3000]: 100%|██████████| 9/9 [00:00<00:00, 76.41it/s, loss=2.87]\n"
          ]
        },
        {
          "output_type": "stream",
          "name": "stdout",
          "text": [
            "Epoch [1059/3000]: Train loss: 2.5570, Valid loss: 1.9087\n"
          ]
        },
        {
          "output_type": "stream",
          "name": "stderr",
          "text": [
            "Epoch [1060/3000]: 100%|██████████| 9/9 [00:00<00:00, 81.76it/s, loss=2.53]\n"
          ]
        },
        {
          "output_type": "stream",
          "name": "stdout",
          "text": [
            "Epoch [1060/3000]: Train loss: 2.0920, Valid loss: 2.3944\n"
          ]
        },
        {
          "output_type": "stream",
          "name": "stderr",
          "text": [
            "Epoch [1061/3000]: 100%|██████████| 9/9 [00:00<00:00, 81.60it/s, loss=2.08]\n"
          ]
        },
        {
          "output_type": "stream",
          "name": "stdout",
          "text": [
            "Epoch [1061/3000]: Train loss: 1.9437, Valid loss: 2.3908\n"
          ]
        },
        {
          "output_type": "stream",
          "name": "stderr",
          "text": [
            "Epoch [1062/3000]: 100%|██████████| 9/9 [00:00<00:00, 90.23it/s, loss=1.84]\n"
          ]
        },
        {
          "output_type": "stream",
          "name": "stdout",
          "text": [
            "Epoch [1062/3000]: Train loss: 1.9694, Valid loss: 2.4869\n"
          ]
        },
        {
          "output_type": "stream",
          "name": "stderr",
          "text": [
            "Epoch [1063/3000]: 100%|██████████| 9/9 [00:00<00:00, 76.03it/s, loss=1.28]\n"
          ]
        },
        {
          "output_type": "stream",
          "name": "stdout",
          "text": [
            "Epoch [1063/3000]: Train loss: 2.0162, Valid loss: 2.0955\n"
          ]
        },
        {
          "output_type": "stream",
          "name": "stderr",
          "text": [
            "Epoch [1064/3000]: 100%|██████████| 9/9 [00:00<00:00, 86.11it/s, loss=2.39]\n"
          ]
        },
        {
          "output_type": "stream",
          "name": "stdout",
          "text": [
            "Epoch [1064/3000]: Train loss: 1.9003, Valid loss: 2.1930\n"
          ]
        },
        {
          "output_type": "stream",
          "name": "stderr",
          "text": [
            "Epoch [1065/3000]: 100%|██████████| 9/9 [00:00<00:00, 84.80it/s, loss=1.27]\n"
          ]
        },
        {
          "output_type": "stream",
          "name": "stdout",
          "text": [
            "Epoch [1065/3000]: Train loss: 1.9511, Valid loss: 1.8596\n"
          ]
        },
        {
          "output_type": "stream",
          "name": "stderr",
          "text": [
            "Epoch [1066/3000]: 100%|██████████| 9/9 [00:00<00:00, 91.96it/s, loss=1.98]\n"
          ]
        },
        {
          "output_type": "stream",
          "name": "stdout",
          "text": [
            "Epoch [1066/3000]: Train loss: 1.9929, Valid loss: 2.8524\n"
          ]
        },
        {
          "output_type": "stream",
          "name": "stderr",
          "text": [
            "Epoch [1067/3000]: 100%|██████████| 9/9 [00:00<00:00, 83.53it/s, loss=2.64]\n"
          ]
        },
        {
          "output_type": "stream",
          "name": "stdout",
          "text": [
            "Epoch [1067/3000]: Train loss: 2.4080, Valid loss: 2.3072\n"
          ]
        },
        {
          "output_type": "stream",
          "name": "stderr",
          "text": [
            "Epoch [1068/3000]: 100%|██████████| 9/9 [00:00<00:00, 95.57it/s, loss=1.53]\n"
          ]
        },
        {
          "output_type": "stream",
          "name": "stdout",
          "text": [
            "Epoch [1068/3000]: Train loss: 2.5970, Valid loss: 2.5849\n"
          ]
        },
        {
          "output_type": "stream",
          "name": "stderr",
          "text": [
            "Epoch [1069/3000]: 100%|██████████| 9/9 [00:00<00:00, 98.14it/s, loss=2.14]\n"
          ]
        },
        {
          "output_type": "stream",
          "name": "stdout",
          "text": [
            "Epoch [1069/3000]: Train loss: 2.0325, Valid loss: 2.0238\n"
          ]
        },
        {
          "output_type": "stream",
          "name": "stderr",
          "text": [
            "Epoch [1070/3000]: 100%|██████████| 9/9 [00:00<00:00, 93.16it/s, loss=1.73]\n"
          ]
        },
        {
          "output_type": "stream",
          "name": "stdout",
          "text": [
            "Epoch [1070/3000]: Train loss: 1.8491, Valid loss: 2.2624\n"
          ]
        },
        {
          "output_type": "stream",
          "name": "stderr",
          "text": [
            "Epoch [1071/3000]: 100%|██████████| 9/9 [00:00<00:00, 103.17it/s, loss=1.52]\n"
          ]
        },
        {
          "output_type": "stream",
          "name": "stdout",
          "text": [
            "Epoch [1071/3000]: Train loss: 2.0713, Valid loss: 2.5419\n"
          ]
        },
        {
          "output_type": "stream",
          "name": "stderr",
          "text": [
            "Epoch [1072/3000]: 100%|██████████| 9/9 [00:00<00:00, 85.17it/s, loss=1.83]\n"
          ]
        },
        {
          "output_type": "stream",
          "name": "stdout",
          "text": [
            "Epoch [1072/3000]: Train loss: 1.8962, Valid loss: 2.7000\n"
          ]
        },
        {
          "output_type": "stream",
          "name": "stderr",
          "text": [
            "Epoch [1073/3000]: 100%|██████████| 9/9 [00:00<00:00, 92.99it/s, loss=1.62]\n"
          ]
        },
        {
          "output_type": "stream",
          "name": "stdout",
          "text": [
            "Epoch [1073/3000]: Train loss: 1.9237, Valid loss: 2.0890\n"
          ]
        },
        {
          "output_type": "stream",
          "name": "stderr",
          "text": [
            "Epoch [1074/3000]: 100%|██████████| 9/9 [00:00<00:00, 91.13it/s, loss=2.43]\n"
          ]
        },
        {
          "output_type": "stream",
          "name": "stdout",
          "text": [
            "Epoch [1074/3000]: Train loss: 2.1816, Valid loss: 2.7366\n"
          ]
        },
        {
          "output_type": "stream",
          "name": "stderr",
          "text": [
            "Epoch [1075/3000]: 100%|██████████| 9/9 [00:00<00:00, 85.61it/s, loss=4.67]\n"
          ]
        },
        {
          "output_type": "stream",
          "name": "stdout",
          "text": [
            "Epoch [1075/3000]: Train loss: 2.6934, Valid loss: 2.4267\n"
          ]
        },
        {
          "output_type": "stream",
          "name": "stderr",
          "text": [
            "Epoch [1076/3000]: 100%|██████████| 9/9 [00:00<00:00, 81.75it/s, loss=1.9]\n"
          ]
        },
        {
          "output_type": "stream",
          "name": "stdout",
          "text": [
            "Epoch [1076/3000]: Train loss: 2.6330, Valid loss: 3.6394\n"
          ]
        },
        {
          "output_type": "stream",
          "name": "stderr",
          "text": [
            "Epoch [1077/3000]: 100%|██████████| 9/9 [00:00<00:00, 28.23it/s, loss=2.01]\n"
          ]
        },
        {
          "output_type": "stream",
          "name": "stdout",
          "text": [
            "Epoch [1077/3000]: Train loss: 1.9593, Valid loss: 2.5836\n"
          ]
        },
        {
          "output_type": "stream",
          "name": "stderr",
          "text": [
            "Epoch [1078/3000]: 100%|██████████| 9/9 [00:00<00:00, 77.91it/s, loss=2.24]\n"
          ]
        },
        {
          "output_type": "stream",
          "name": "stdout",
          "text": [
            "Epoch [1078/3000]: Train loss: 1.9938, Valid loss: 2.9714\n"
          ]
        },
        {
          "output_type": "stream",
          "name": "stderr",
          "text": [
            "Epoch [1079/3000]: 100%|██████████| 9/9 [00:00<00:00, 81.90it/s, loss=1.5]\n"
          ]
        },
        {
          "output_type": "stream",
          "name": "stdout",
          "text": [
            "Epoch [1079/3000]: Train loss: 2.3804, Valid loss: 2.6557\n"
          ]
        },
        {
          "output_type": "stream",
          "name": "stderr",
          "text": [
            "Epoch [1080/3000]: 100%|██████████| 9/9 [00:00<00:00, 78.57it/s, loss=2.1]\n"
          ]
        },
        {
          "output_type": "stream",
          "name": "stdout",
          "text": [
            "Epoch [1080/3000]: Train loss: 1.9837, Valid loss: 2.0860\n"
          ]
        },
        {
          "output_type": "stream",
          "name": "stderr",
          "text": [
            "Epoch [1081/3000]: 100%|██████████| 9/9 [00:00<00:00, 84.13it/s, loss=1.73]\n"
          ]
        },
        {
          "output_type": "stream",
          "name": "stdout",
          "text": [
            "Epoch [1081/3000]: Train loss: 2.3044, Valid loss: 2.2433\n"
          ]
        },
        {
          "output_type": "stream",
          "name": "stderr",
          "text": [
            "Epoch [1082/3000]: 100%|██████████| 9/9 [00:00<00:00, 82.73it/s, loss=2.29]\n"
          ]
        },
        {
          "output_type": "stream",
          "name": "stdout",
          "text": [
            "Epoch [1082/3000]: Train loss: 2.0181, Valid loss: 1.9862\n"
          ]
        },
        {
          "output_type": "stream",
          "name": "stderr",
          "text": [
            "Epoch [1083/3000]: 100%|██████████| 9/9 [00:00<00:00, 71.49it/s, loss=1.79]\n"
          ]
        },
        {
          "output_type": "stream",
          "name": "stdout",
          "text": [
            "Epoch [1083/3000]: Train loss: 2.1116, Valid loss: 2.4781\n"
          ]
        },
        {
          "output_type": "stream",
          "name": "stderr",
          "text": [
            "Epoch [1084/3000]: 100%|██████████| 9/9 [00:00<00:00, 99.86it/s, loss=2.85]\n"
          ]
        },
        {
          "output_type": "stream",
          "name": "stdout",
          "text": [
            "Epoch [1084/3000]: Train loss: 2.3535, Valid loss: 2.0009\n"
          ]
        },
        {
          "output_type": "stream",
          "name": "stderr",
          "text": [
            "Epoch [1085/3000]: 100%|██████████| 9/9 [00:00<00:00, 99.03it/s, loss=2.3]\n"
          ]
        },
        {
          "output_type": "stream",
          "name": "stdout",
          "text": [
            "Epoch [1085/3000]: Train loss: 1.9274, Valid loss: 2.2875\n"
          ]
        },
        {
          "output_type": "stream",
          "name": "stderr",
          "text": [
            "Epoch [1086/3000]: 100%|██████████| 9/9 [00:00<00:00, 95.41it/s, loss=1.75]\n"
          ]
        },
        {
          "output_type": "stream",
          "name": "stdout",
          "text": [
            "Epoch [1086/3000]: Train loss: 2.1093, Valid loss: 2.6882\n"
          ]
        },
        {
          "output_type": "stream",
          "name": "stderr",
          "text": [
            "Epoch [1087/3000]: 100%|██████████| 9/9 [00:00<00:00, 98.92it/s, loss=2.23]\n"
          ]
        },
        {
          "output_type": "stream",
          "name": "stdout",
          "text": [
            "Epoch [1087/3000]: Train loss: 2.1457, Valid loss: 1.9789\n"
          ]
        },
        {
          "output_type": "stream",
          "name": "stderr",
          "text": [
            "Epoch [1088/3000]: 100%|██████████| 9/9 [00:00<00:00, 98.28it/s, loss=2.2]\n"
          ]
        },
        {
          "output_type": "stream",
          "name": "stdout",
          "text": [
            "Epoch [1088/3000]: Train loss: 2.6227, Valid loss: 3.1312\n"
          ]
        },
        {
          "output_type": "stream",
          "name": "stderr",
          "text": [
            "Epoch [1089/3000]: 100%|██████████| 9/9 [00:00<00:00, 82.66it/s, loss=2.56]\n"
          ]
        },
        {
          "output_type": "stream",
          "name": "stdout",
          "text": [
            "Epoch [1089/3000]: Train loss: 2.3895, Valid loss: 2.2035\n"
          ]
        },
        {
          "output_type": "stream",
          "name": "stderr",
          "text": [
            "Epoch [1090/3000]: 100%|██████████| 9/9 [00:00<00:00, 99.21it/s, loss=2.06]\n"
          ]
        },
        {
          "output_type": "stream",
          "name": "stdout",
          "text": [
            "Epoch [1090/3000]: Train loss: 1.8721, Valid loss: 2.2064\n"
          ]
        },
        {
          "output_type": "stream",
          "name": "stderr",
          "text": [
            "Epoch [1091/3000]: 100%|██████████| 9/9 [00:00<00:00, 81.11it/s, loss=1.74]\n"
          ]
        },
        {
          "output_type": "stream",
          "name": "stdout",
          "text": [
            "Epoch [1091/3000]: Train loss: 2.0833, Valid loss: 2.3651\n"
          ]
        },
        {
          "output_type": "stream",
          "name": "stderr",
          "text": [
            "Epoch [1092/3000]: 100%|██████████| 9/9 [00:00<00:00, 96.55it/s, loss=2.02]\n"
          ]
        },
        {
          "output_type": "stream",
          "name": "stdout",
          "text": [
            "Epoch [1092/3000]: Train loss: 2.1667, Valid loss: 2.8872\n"
          ]
        },
        {
          "output_type": "stream",
          "name": "stderr",
          "text": [
            "Epoch [1093/3000]: 100%|██████████| 9/9 [00:00<00:00, 99.59it/s, loss=2.43]\n"
          ]
        },
        {
          "output_type": "stream",
          "name": "stdout",
          "text": [
            "Epoch [1093/3000]: Train loss: 2.2811, Valid loss: 2.6080\n"
          ]
        },
        {
          "output_type": "stream",
          "name": "stderr",
          "text": [
            "Epoch [1094/3000]: 100%|██████████| 9/9 [00:00<00:00, 93.99it/s, loss=2.46]\n"
          ]
        },
        {
          "output_type": "stream",
          "name": "stdout",
          "text": [
            "Epoch [1094/3000]: Train loss: 2.3756, Valid loss: 2.1886\n"
          ]
        },
        {
          "output_type": "stream",
          "name": "stderr",
          "text": [
            "Epoch [1095/3000]: 100%|██████████| 9/9 [00:00<00:00, 88.15it/s, loss=1.38]\n"
          ]
        },
        {
          "output_type": "stream",
          "name": "stdout",
          "text": [
            "Epoch [1095/3000]: Train loss: 1.8605, Valid loss: 2.0873\n"
          ]
        },
        {
          "output_type": "stream",
          "name": "stderr",
          "text": [
            "Epoch [1096/3000]: 100%|██████████| 9/9 [00:00<00:00, 85.03it/s, loss=2.32]\n"
          ]
        },
        {
          "output_type": "stream",
          "name": "stdout",
          "text": [
            "Epoch [1096/3000]: Train loss: 2.1586, Valid loss: 3.8380\n"
          ]
        },
        {
          "output_type": "stream",
          "name": "stderr",
          "text": [
            "Epoch [1097/3000]: 100%|██████████| 9/9 [00:00<00:00, 95.11it/s, loss=3.17]\n"
          ]
        },
        {
          "output_type": "stream",
          "name": "stdout",
          "text": [
            "Epoch [1097/3000]: Train loss: 2.4100, Valid loss: 2.2934\n"
          ]
        },
        {
          "output_type": "stream",
          "name": "stderr",
          "text": [
            "Epoch [1098/3000]: 100%|██████████| 9/9 [00:00<00:00, 99.04it/s, loss=2.19]\n"
          ]
        },
        {
          "output_type": "stream",
          "name": "stdout",
          "text": [
            "Epoch [1098/3000]: Train loss: 2.3831, Valid loss: 2.6685\n"
          ]
        },
        {
          "output_type": "stream",
          "name": "stderr",
          "text": [
            "Epoch [1099/3000]: 100%|██████████| 9/9 [00:00<00:00, 94.92it/s, loss=3.12]\n"
          ]
        },
        {
          "output_type": "stream",
          "name": "stdout",
          "text": [
            "Epoch [1099/3000]: Train loss: 2.1075, Valid loss: 3.6833\n"
          ]
        },
        {
          "output_type": "stream",
          "name": "stderr",
          "text": [
            "Epoch [1100/3000]: 100%|██████████| 9/9 [00:00<00:00, 82.28it/s, loss=1.97]\n"
          ]
        },
        {
          "output_type": "stream",
          "name": "stdout",
          "text": [
            "Epoch [1100/3000]: Train loss: 2.0696, Valid loss: 2.5014\n"
          ]
        },
        {
          "output_type": "stream",
          "name": "stderr",
          "text": [
            "Epoch [1101/3000]: 100%|██████████| 9/9 [00:00<00:00, 101.05it/s, loss=2.21]\n"
          ]
        },
        {
          "output_type": "stream",
          "name": "stdout",
          "text": [
            "Epoch [1101/3000]: Train loss: 2.0567, Valid loss: 2.2606\n"
          ]
        },
        {
          "output_type": "stream",
          "name": "stderr",
          "text": [
            "Epoch [1102/3000]: 100%|██████████| 9/9 [00:00<00:00, 98.42it/s, loss=2.35]\n"
          ]
        },
        {
          "output_type": "stream",
          "name": "stdout",
          "text": [
            "Epoch [1102/3000]: Train loss: 2.9652, Valid loss: 2.9685\n"
          ]
        },
        {
          "output_type": "stream",
          "name": "stderr",
          "text": [
            "Epoch [1103/3000]: 100%|██████████| 9/9 [00:00<00:00, 90.62it/s, loss=1.87]\n"
          ]
        },
        {
          "output_type": "stream",
          "name": "stdout",
          "text": [
            "Epoch [1103/3000]: Train loss: 2.3145, Valid loss: 3.0782\n"
          ]
        },
        {
          "output_type": "stream",
          "name": "stderr",
          "text": [
            "Epoch [1104/3000]: 100%|██████████| 9/9 [00:00<00:00, 80.96it/s, loss=2.33]\n"
          ]
        },
        {
          "output_type": "stream",
          "name": "stdout",
          "text": [
            "Epoch [1104/3000]: Train loss: 2.3954, Valid loss: 2.5675\n"
          ]
        },
        {
          "output_type": "stream",
          "name": "stderr",
          "text": [
            "Epoch [1105/3000]: 100%|██████████| 9/9 [00:00<00:00, 92.24it/s, loss=2.64]\n"
          ]
        },
        {
          "output_type": "stream",
          "name": "stdout",
          "text": [
            "Epoch [1105/3000]: Train loss: 2.3433, Valid loss: 3.9837\n"
          ]
        },
        {
          "output_type": "stream",
          "name": "stderr",
          "text": [
            "Epoch [1106/3000]: 100%|██████████| 9/9 [00:00<00:00, 64.69it/s, loss=2.4]\n"
          ]
        },
        {
          "output_type": "stream",
          "name": "stdout",
          "text": [
            "Epoch [1106/3000]: Train loss: 3.1436, Valid loss: 2.8343\n"
          ]
        },
        {
          "output_type": "stream",
          "name": "stderr",
          "text": [
            "Epoch [1107/3000]: 100%|██████████| 9/9 [00:00<00:00, 92.48it/s, loss=2.13]\n"
          ]
        },
        {
          "output_type": "stream",
          "name": "stdout",
          "text": [
            "Epoch [1107/3000]: Train loss: 2.5390, Valid loss: 2.4612\n"
          ]
        },
        {
          "output_type": "stream",
          "name": "stderr",
          "text": [
            "Epoch [1108/3000]: 100%|██████████| 9/9 [00:00<00:00, 86.10it/s, loss=1.55]\n"
          ]
        },
        {
          "output_type": "stream",
          "name": "stdout",
          "text": [
            "Epoch [1108/3000]: Train loss: 2.3416, Valid loss: 2.6487\n"
          ]
        },
        {
          "output_type": "stream",
          "name": "stderr",
          "text": [
            "Epoch [1109/3000]: 100%|██████████| 9/9 [00:00<00:00, 83.35it/s, loss=3.05]\n"
          ]
        },
        {
          "output_type": "stream",
          "name": "stdout",
          "text": [
            "Epoch [1109/3000]: Train loss: 2.5371, Valid loss: 2.8291\n"
          ]
        },
        {
          "output_type": "stream",
          "name": "stderr",
          "text": [
            "Epoch [1110/3000]: 100%|██████████| 9/9 [00:00<00:00, 93.64it/s, loss=2.34]\n"
          ]
        },
        {
          "output_type": "stream",
          "name": "stdout",
          "text": [
            "Epoch [1110/3000]: Train loss: 2.3055, Valid loss: 2.6299\n"
          ]
        },
        {
          "output_type": "stream",
          "name": "stderr",
          "text": [
            "Epoch [1111/3000]: 100%|██████████| 9/9 [00:00<00:00, 85.71it/s, loss=1.44]\n"
          ]
        },
        {
          "output_type": "stream",
          "name": "stdout",
          "text": [
            "Epoch [1111/3000]: Train loss: 2.0525, Valid loss: 2.5327\n"
          ]
        },
        {
          "output_type": "stream",
          "name": "stderr",
          "text": [
            "Epoch [1112/3000]: 100%|██████████| 9/9 [00:00<00:00, 62.49it/s, loss=1.3]\n"
          ]
        },
        {
          "output_type": "stream",
          "name": "stdout",
          "text": [
            "Epoch [1112/3000]: Train loss: 1.9484, Valid loss: 1.9999\n"
          ]
        },
        {
          "output_type": "stream",
          "name": "stderr",
          "text": [
            "Epoch [1113/3000]: 100%|██████████| 9/9 [00:00<00:00, 79.06it/s, loss=2.2]\n"
          ]
        },
        {
          "output_type": "stream",
          "name": "stdout",
          "text": [
            "Epoch [1113/3000]: Train loss: 2.2078, Valid loss: 2.1697\n"
          ]
        },
        {
          "output_type": "stream",
          "name": "stderr",
          "text": [
            "Epoch [1114/3000]: 100%|██████████| 9/9 [00:00<00:00, 74.84it/s, loss=1.6]\n"
          ]
        },
        {
          "output_type": "stream",
          "name": "stdout",
          "text": [
            "Epoch [1114/3000]: Train loss: 1.8237, Valid loss: 2.1764\n"
          ]
        },
        {
          "output_type": "stream",
          "name": "stderr",
          "text": [
            "Epoch [1115/3000]: 100%|██████████| 9/9 [00:00<00:00, 98.12it/s, loss=2.23]\n"
          ]
        },
        {
          "output_type": "stream",
          "name": "stdout",
          "text": [
            "Epoch [1115/3000]: Train loss: 1.9018, Valid loss: 2.3617\n"
          ]
        },
        {
          "output_type": "stream",
          "name": "stderr",
          "text": [
            "Epoch [1116/3000]: 100%|██████████| 9/9 [00:00<00:00, 73.18it/s, loss=3.12]\n"
          ]
        },
        {
          "output_type": "stream",
          "name": "stdout",
          "text": [
            "Epoch [1116/3000]: Train loss: 2.3502, Valid loss: 1.9826\n"
          ]
        },
        {
          "output_type": "stream",
          "name": "stderr",
          "text": [
            "Epoch [1117/3000]: 100%|██████████| 9/9 [00:00<00:00, 86.18it/s, loss=1.84]\n"
          ]
        },
        {
          "output_type": "stream",
          "name": "stdout",
          "text": [
            "Epoch [1117/3000]: Train loss: 2.1696, Valid loss: 4.0485\n"
          ]
        },
        {
          "output_type": "stream",
          "name": "stderr",
          "text": [
            "Epoch [1118/3000]: 100%|██████████| 9/9 [00:00<00:00, 89.86it/s, loss=2.67]\n"
          ]
        },
        {
          "output_type": "stream",
          "name": "stdout",
          "text": [
            "Epoch [1118/3000]: Train loss: 2.8980, Valid loss: 1.9033\n"
          ]
        },
        {
          "output_type": "stream",
          "name": "stderr",
          "text": [
            "Epoch [1119/3000]: 100%|██████████| 9/9 [00:00<00:00, 94.95it/s, loss=2.44]\n"
          ]
        },
        {
          "output_type": "stream",
          "name": "stdout",
          "text": [
            "Epoch [1119/3000]: Train loss: 1.9501, Valid loss: 2.5217\n"
          ]
        },
        {
          "output_type": "stream",
          "name": "stderr",
          "text": [
            "Epoch [1120/3000]: 100%|██████████| 9/9 [00:00<00:00, 92.56it/s, loss=1.53]\n"
          ]
        },
        {
          "output_type": "stream",
          "name": "stdout",
          "text": [
            "Epoch [1120/3000]: Train loss: 1.8634, Valid loss: 1.9648\n"
          ]
        },
        {
          "output_type": "stream",
          "name": "stderr",
          "text": [
            "Epoch [1121/3000]: 100%|██████████| 9/9 [00:00<00:00, 98.14it/s, loss=2.42]\n"
          ]
        },
        {
          "output_type": "stream",
          "name": "stdout",
          "text": [
            "Epoch [1121/3000]: Train loss: 2.8252, Valid loss: 4.2061\n"
          ]
        },
        {
          "output_type": "stream",
          "name": "stderr",
          "text": [
            "Epoch [1122/3000]: 100%|██████████| 9/9 [00:00<00:00, 98.33it/s, loss=2.15]\n"
          ]
        },
        {
          "output_type": "stream",
          "name": "stdout",
          "text": [
            "Epoch [1122/3000]: Train loss: 2.9342, Valid loss: 2.2338\n"
          ]
        },
        {
          "output_type": "stream",
          "name": "stderr",
          "text": [
            "Epoch [1123/3000]: 100%|██████████| 9/9 [00:00<00:00, 91.31it/s, loss=3.05]\n"
          ]
        },
        {
          "output_type": "stream",
          "name": "stdout",
          "text": [
            "Epoch [1123/3000]: Train loss: 2.2951, Valid loss: 1.9772\n"
          ]
        },
        {
          "output_type": "stream",
          "name": "stderr",
          "text": [
            "Epoch [1124/3000]: 100%|██████████| 9/9 [00:00<00:00, 88.14it/s, loss=1.37]\n"
          ]
        },
        {
          "output_type": "stream",
          "name": "stdout",
          "text": [
            "Epoch [1124/3000]: Train loss: 2.0058, Valid loss: 2.0332\n"
          ]
        },
        {
          "output_type": "stream",
          "name": "stderr",
          "text": [
            "Epoch [1125/3000]: 100%|██████████| 9/9 [00:00<00:00, 87.43it/s, loss=2.3]\n"
          ]
        },
        {
          "output_type": "stream",
          "name": "stdout",
          "text": [
            "Epoch [1125/3000]: Train loss: 1.9803, Valid loss: 2.9488\n"
          ]
        },
        {
          "output_type": "stream",
          "name": "stderr",
          "text": [
            "Epoch [1126/3000]: 100%|██████████| 9/9 [00:00<00:00, 91.39it/s, loss=2.5]\n"
          ]
        },
        {
          "output_type": "stream",
          "name": "stdout",
          "text": [
            "Epoch [1126/3000]: Train loss: 2.5142, Valid loss: 1.9238\n"
          ]
        },
        {
          "output_type": "stream",
          "name": "stderr",
          "text": [
            "Epoch [1127/3000]: 100%|██████████| 9/9 [00:00<00:00, 88.40it/s, loss=3.6]\n"
          ]
        },
        {
          "output_type": "stream",
          "name": "stdout",
          "text": [
            "Epoch [1127/3000]: Train loss: 2.2414, Valid loss: 2.2980\n"
          ]
        },
        {
          "output_type": "stream",
          "name": "stderr",
          "text": [
            "Epoch [1128/3000]: 100%|██████████| 9/9 [00:00<00:00, 77.40it/s, loss=1.74]\n"
          ]
        },
        {
          "output_type": "stream",
          "name": "stdout",
          "text": [
            "Epoch [1128/3000]: Train loss: 2.5137, Valid loss: 3.6682\n"
          ]
        },
        {
          "output_type": "stream",
          "name": "stderr",
          "text": [
            "Epoch [1129/3000]: 100%|██████████| 9/9 [00:00<00:00, 80.74it/s, loss=2.17]\n"
          ]
        },
        {
          "output_type": "stream",
          "name": "stdout",
          "text": [
            "Epoch [1129/3000]: Train loss: 2.2769, Valid loss: 2.4254\n"
          ]
        },
        {
          "output_type": "stream",
          "name": "stderr",
          "text": [
            "Epoch [1130/3000]: 100%|██████████| 9/9 [00:00<00:00, 88.46it/s, loss=3.09]\n"
          ]
        },
        {
          "output_type": "stream",
          "name": "stdout",
          "text": [
            "Epoch [1130/3000]: Train loss: 2.2070, Valid loss: 3.9353\n"
          ]
        },
        {
          "output_type": "stream",
          "name": "stderr",
          "text": [
            "Epoch [1131/3000]: 100%|██████████| 9/9 [00:00<00:00, 76.34it/s, loss=1.39]\n"
          ]
        },
        {
          "output_type": "stream",
          "name": "stdout",
          "text": [
            "Epoch [1131/3000]: Train loss: 2.3788, Valid loss: 3.2254\n"
          ]
        },
        {
          "output_type": "stream",
          "name": "stderr",
          "text": [
            "Epoch [1132/3000]: 100%|██████████| 9/9 [00:00<00:00, 68.75it/s, loss=3.69]\n"
          ]
        },
        {
          "output_type": "stream",
          "name": "stdout",
          "text": [
            "Epoch [1132/3000]: Train loss: 2.6656, Valid loss: 2.2448\n"
          ]
        },
        {
          "output_type": "stream",
          "name": "stderr",
          "text": [
            "Epoch [1133/3000]: 100%|██████████| 9/9 [00:00<00:00, 75.59it/s, loss=2.34]\n"
          ]
        },
        {
          "output_type": "stream",
          "name": "stdout",
          "text": [
            "Epoch [1133/3000]: Train loss: 2.2866, Valid loss: 2.7894\n"
          ]
        },
        {
          "output_type": "stream",
          "name": "stderr",
          "text": [
            "Epoch [1134/3000]: 100%|██████████| 9/9 [00:00<00:00, 82.51it/s, loss=1.89]\n"
          ]
        },
        {
          "output_type": "stream",
          "name": "stdout",
          "text": [
            "Epoch [1134/3000]: Train loss: 1.8792, Valid loss: 2.4911\n"
          ]
        },
        {
          "output_type": "stream",
          "name": "stderr",
          "text": [
            "Epoch [1135/3000]: 100%|██████████| 9/9 [00:00<00:00, 79.90it/s, loss=1.5]\n"
          ]
        },
        {
          "output_type": "stream",
          "name": "stdout",
          "text": [
            "Epoch [1135/3000]: Train loss: 1.9388, Valid loss: 2.0538\n"
          ]
        },
        {
          "output_type": "stream",
          "name": "stderr",
          "text": [
            "Epoch [1136/3000]: 100%|██████████| 9/9 [00:00<00:00, 91.40it/s, loss=1.8]\n"
          ]
        },
        {
          "output_type": "stream",
          "name": "stdout",
          "text": [
            "Epoch [1136/3000]: Train loss: 1.9475, Valid loss: 2.7204\n"
          ]
        },
        {
          "output_type": "stream",
          "name": "stderr",
          "text": [
            "Epoch [1137/3000]: 100%|██████████| 9/9 [00:00<00:00, 99.38it/s, loss=1.57]\n"
          ]
        },
        {
          "output_type": "stream",
          "name": "stdout",
          "text": [
            "Epoch [1137/3000]: Train loss: 2.2473, Valid loss: 2.8188\n"
          ]
        },
        {
          "output_type": "stream",
          "name": "stderr",
          "text": [
            "Epoch [1138/3000]: 100%|██████████| 9/9 [00:00<00:00, 92.53it/s, loss=2.63]\n"
          ]
        },
        {
          "output_type": "stream",
          "name": "stdout",
          "text": [
            "Epoch [1138/3000]: Train loss: 2.4517, Valid loss: 1.9688\n"
          ]
        },
        {
          "output_type": "stream",
          "name": "stderr",
          "text": [
            "Epoch [1139/3000]: 100%|██████████| 9/9 [00:00<00:00, 83.03it/s, loss=2.12]\n"
          ]
        },
        {
          "output_type": "stream",
          "name": "stdout",
          "text": [
            "Epoch [1139/3000]: Train loss: 2.0236, Valid loss: 2.5063\n"
          ]
        },
        {
          "output_type": "stream",
          "name": "stderr",
          "text": [
            "Epoch [1140/3000]: 100%|██████████| 9/9 [00:00<00:00, 69.30it/s, loss=3.1]\n"
          ]
        },
        {
          "output_type": "stream",
          "name": "stdout",
          "text": [
            "Epoch [1140/3000]: Train loss: 2.7519, Valid loss: 2.0792\n"
          ]
        },
        {
          "output_type": "stream",
          "name": "stderr",
          "text": [
            "Epoch [1141/3000]: 100%|██████████| 9/9 [00:00<00:00, 70.54it/s, loss=2.41]\n"
          ]
        },
        {
          "output_type": "stream",
          "name": "stdout",
          "text": [
            "Epoch [1141/3000]: Train loss: 2.0821, Valid loss: 2.8341\n"
          ]
        },
        {
          "output_type": "stream",
          "name": "stderr",
          "text": [
            "Epoch [1142/3000]: 100%|██████████| 9/9 [00:00<00:00, 79.22it/s, loss=2.88]\n"
          ]
        },
        {
          "output_type": "stream",
          "name": "stdout",
          "text": [
            "Epoch [1142/3000]: Train loss: 2.2124, Valid loss: 2.0844\n"
          ]
        },
        {
          "output_type": "stream",
          "name": "stderr",
          "text": [
            "Epoch [1143/3000]: 100%|██████████| 9/9 [00:00<00:00, 82.40it/s, loss=2.7]\n"
          ]
        },
        {
          "output_type": "stream",
          "name": "stdout",
          "text": [
            "Epoch [1143/3000]: Train loss: 3.2358, Valid loss: 4.4010\n"
          ]
        },
        {
          "output_type": "stream",
          "name": "stderr",
          "text": [
            "Epoch [1144/3000]: 100%|██████████| 9/9 [00:00<00:00, 81.86it/s, loss=4.82]\n"
          ]
        },
        {
          "output_type": "stream",
          "name": "stdout",
          "text": [
            "Epoch [1144/3000]: Train loss: 3.8953, Valid loss: 2.3026\n"
          ]
        },
        {
          "output_type": "stream",
          "name": "stderr",
          "text": [
            "Epoch [1145/3000]: 100%|██████████| 9/9 [00:00<00:00, 80.21it/s, loss=2.14]\n"
          ]
        },
        {
          "output_type": "stream",
          "name": "stdout",
          "text": [
            "Epoch [1145/3000]: Train loss: 2.5971, Valid loss: 2.2103\n"
          ]
        },
        {
          "output_type": "stream",
          "name": "stderr",
          "text": [
            "Epoch [1146/3000]: 100%|██████████| 9/9 [00:00<00:00, 68.56it/s, loss=2.51]\n"
          ]
        },
        {
          "output_type": "stream",
          "name": "stdout",
          "text": [
            "Epoch [1146/3000]: Train loss: 1.9871, Valid loss: 2.3856\n"
          ]
        },
        {
          "output_type": "stream",
          "name": "stderr",
          "text": [
            "Epoch [1147/3000]: 100%|██████████| 9/9 [00:00<00:00, 71.78it/s, loss=1.83]\n"
          ]
        },
        {
          "output_type": "stream",
          "name": "stdout",
          "text": [
            "Epoch [1147/3000]: Train loss: 1.9988, Valid loss: 2.2844\n"
          ]
        },
        {
          "output_type": "stream",
          "name": "stderr",
          "text": [
            "Epoch [1148/3000]: 100%|██████████| 9/9 [00:00<00:00, 73.64it/s, loss=1.37]\n"
          ]
        },
        {
          "output_type": "stream",
          "name": "stdout",
          "text": [
            "Epoch [1148/3000]: Train loss: 1.8713, Valid loss: 1.9611\n"
          ]
        },
        {
          "output_type": "stream",
          "name": "stderr",
          "text": [
            "Epoch [1149/3000]: 100%|██████████| 9/9 [00:00<00:00, 100.91it/s, loss=3.13]\n"
          ]
        },
        {
          "output_type": "stream",
          "name": "stdout",
          "text": [
            "Epoch [1149/3000]: Train loss: 2.3000, Valid loss: 2.7089\n"
          ]
        },
        {
          "output_type": "stream",
          "name": "stderr",
          "text": [
            "Epoch [1150/3000]: 100%|██████████| 9/9 [00:00<00:00, 99.20it/s, loss=2.13]\n"
          ]
        },
        {
          "output_type": "stream",
          "name": "stdout",
          "text": [
            "Epoch [1150/3000]: Train loss: 2.3951, Valid loss: 2.2000\n"
          ]
        },
        {
          "output_type": "stream",
          "name": "stderr",
          "text": [
            "Epoch [1151/3000]: 100%|██████████| 9/9 [00:00<00:00, 101.23it/s, loss=2.18]\n"
          ]
        },
        {
          "output_type": "stream",
          "name": "stdout",
          "text": [
            "Epoch [1151/3000]: Train loss: 1.9803, Valid loss: 1.9529\n"
          ]
        },
        {
          "output_type": "stream",
          "name": "stderr",
          "text": [
            "Epoch [1152/3000]: 100%|██████████| 9/9 [00:00<00:00, 101.92it/s, loss=1.75]\n"
          ]
        },
        {
          "output_type": "stream",
          "name": "stdout",
          "text": [
            "Epoch [1152/3000]: Train loss: 1.9688, Valid loss: 2.6047\n"
          ]
        },
        {
          "output_type": "stream",
          "name": "stderr",
          "text": [
            "Epoch [1153/3000]: 100%|██████████| 9/9 [00:00<00:00, 85.71it/s, loss=2.27]\n"
          ]
        },
        {
          "output_type": "stream",
          "name": "stdout",
          "text": [
            "Epoch [1153/3000]: Train loss: 2.0592, Valid loss: 2.1032\n"
          ]
        },
        {
          "output_type": "stream",
          "name": "stderr",
          "text": [
            "Epoch [1154/3000]: 100%|██████████| 9/9 [00:00<00:00, 91.03it/s, loss=1.52]\n"
          ]
        },
        {
          "output_type": "stream",
          "name": "stdout",
          "text": [
            "Epoch [1154/3000]: Train loss: 1.8383, Valid loss: 2.1383\n"
          ]
        },
        {
          "output_type": "stream",
          "name": "stderr",
          "text": [
            "Epoch [1155/3000]: 100%|██████████| 9/9 [00:00<00:00, 82.44it/s, loss=2.33]\n"
          ]
        },
        {
          "output_type": "stream",
          "name": "stdout",
          "text": [
            "Epoch [1155/3000]: Train loss: 1.9011, Valid loss: 2.2195\n"
          ]
        },
        {
          "output_type": "stream",
          "name": "stderr",
          "text": [
            "Epoch [1156/3000]: 100%|██████████| 9/9 [00:00<00:00, 74.74it/s, loss=2.44]\n"
          ]
        },
        {
          "output_type": "stream",
          "name": "stdout",
          "text": [
            "Epoch [1156/3000]: Train loss: 2.0752, Valid loss: 2.1364\n"
          ]
        },
        {
          "output_type": "stream",
          "name": "stderr",
          "text": [
            "Epoch [1157/3000]: 100%|██████████| 9/9 [00:00<00:00, 90.57it/s, loss=2.34]\n"
          ]
        },
        {
          "output_type": "stream",
          "name": "stdout",
          "text": [
            "Epoch [1157/3000]: Train loss: 1.9201, Valid loss: 2.1416\n"
          ]
        },
        {
          "output_type": "stream",
          "name": "stderr",
          "text": [
            "Epoch [1158/3000]: 100%|██████████| 9/9 [00:00<00:00, 31.75it/s, loss=2.21]\n"
          ]
        },
        {
          "output_type": "stream",
          "name": "stdout",
          "text": [
            "Epoch [1158/3000]: Train loss: 1.9943, Valid loss: 2.2130\n"
          ]
        },
        {
          "output_type": "stream",
          "name": "stderr",
          "text": [
            "Epoch [1159/3000]: 100%|██████████| 9/9 [00:00<00:00, 105.66it/s, loss=2.1]\n"
          ]
        },
        {
          "output_type": "stream",
          "name": "stdout",
          "text": [
            "Epoch [1159/3000]: Train loss: 2.0453, Valid loss: 2.5141\n"
          ]
        },
        {
          "output_type": "stream",
          "name": "stderr",
          "text": [
            "Epoch [1160/3000]: 100%|██████████| 9/9 [00:00<00:00, 101.92it/s, loss=1.96]\n"
          ]
        },
        {
          "output_type": "stream",
          "name": "stdout",
          "text": [
            "Epoch [1160/3000]: Train loss: 1.9659, Valid loss: 2.1075\n"
          ]
        },
        {
          "output_type": "stream",
          "name": "stderr",
          "text": [
            "Epoch [1161/3000]: 100%|██████████| 9/9 [00:00<00:00, 102.09it/s, loss=2.46]\n"
          ]
        },
        {
          "output_type": "stream",
          "name": "stdout",
          "text": [
            "Epoch [1161/3000]: Train loss: 2.0213, Valid loss: 2.4682\n"
          ]
        },
        {
          "output_type": "stream",
          "name": "stderr",
          "text": [
            "Epoch [1162/3000]: 100%|██████████| 9/9 [00:00<00:00, 90.22it/s, loss=1.95]\n"
          ]
        },
        {
          "output_type": "stream",
          "name": "stdout",
          "text": [
            "Epoch [1162/3000]: Train loss: 1.8583, Valid loss: 2.1070\n"
          ]
        },
        {
          "output_type": "stream",
          "name": "stderr",
          "text": [
            "Epoch [1163/3000]: 100%|██████████| 9/9 [00:00<00:00, 97.86it/s, loss=2.34]\n"
          ]
        },
        {
          "output_type": "stream",
          "name": "stdout",
          "text": [
            "Epoch [1163/3000]: Train loss: 1.9329, Valid loss: 2.3202\n"
          ]
        },
        {
          "output_type": "stream",
          "name": "stderr",
          "text": [
            "Epoch [1164/3000]: 100%|██████████| 9/9 [00:00<00:00, 90.79it/s, loss=2.27]\n"
          ]
        },
        {
          "output_type": "stream",
          "name": "stdout",
          "text": [
            "Epoch [1164/3000]: Train loss: 2.1029, Valid loss: 2.1605\n"
          ]
        },
        {
          "output_type": "stream",
          "name": "stderr",
          "text": [
            "Epoch [1165/3000]: 100%|██████████| 9/9 [00:00<00:00, 101.25it/s, loss=1.88]\n"
          ]
        },
        {
          "output_type": "stream",
          "name": "stdout",
          "text": [
            "Epoch [1165/3000]: Train loss: 1.9616, Valid loss: 2.2039\n"
          ]
        },
        {
          "output_type": "stream",
          "name": "stderr",
          "text": [
            "Epoch [1166/3000]: 100%|██████████| 9/9 [00:00<00:00, 97.80it/s, loss=2.03]\n"
          ]
        },
        {
          "output_type": "stream",
          "name": "stdout",
          "text": [
            "Epoch [1166/3000]: Train loss: 2.1028, Valid loss: 1.9874\n"
          ]
        },
        {
          "output_type": "stream",
          "name": "stderr",
          "text": [
            "Epoch [1167/3000]: 100%|██████████| 9/9 [00:00<00:00, 83.52it/s, loss=1.33]\n"
          ]
        },
        {
          "output_type": "stream",
          "name": "stdout",
          "text": [
            "Epoch [1167/3000]: Train loss: 1.7964, Valid loss: 2.2850\n"
          ]
        },
        {
          "output_type": "stream",
          "name": "stderr",
          "text": [
            "Epoch [1168/3000]: 100%|██████████| 9/9 [00:00<00:00, 75.99it/s, loss=1.67]\n"
          ]
        },
        {
          "output_type": "stream",
          "name": "stdout",
          "text": [
            "Epoch [1168/3000]: Train loss: 1.8563, Valid loss: 1.9638\n"
          ]
        },
        {
          "output_type": "stream",
          "name": "stderr",
          "text": [
            "Epoch [1169/3000]: 100%|██████████| 9/9 [00:00<00:00, 74.85it/s, loss=3.39]\n"
          ]
        },
        {
          "output_type": "stream",
          "name": "stdout",
          "text": [
            "Epoch [1169/3000]: Train loss: 2.2847, Valid loss: 2.6403\n"
          ]
        },
        {
          "output_type": "stream",
          "name": "stderr",
          "text": [
            "Epoch [1170/3000]: 100%|██████████| 9/9 [00:00<00:00, 90.41it/s, loss=3.2]\n"
          ]
        },
        {
          "output_type": "stream",
          "name": "stdout",
          "text": [
            "Epoch [1170/3000]: Train loss: 2.3050, Valid loss: 5.4251\n"
          ]
        },
        {
          "output_type": "stream",
          "name": "stderr",
          "text": [
            "Epoch [1171/3000]: 100%|██████████| 9/9 [00:00<00:00, 75.07it/s, loss=1.78]\n"
          ]
        },
        {
          "output_type": "stream",
          "name": "stdout",
          "text": [
            "Epoch [1171/3000]: Train loss: 2.5465, Valid loss: 2.7616\n"
          ]
        },
        {
          "output_type": "stream",
          "name": "stderr",
          "text": [
            "Epoch [1172/3000]: 100%|██████████| 9/9 [00:00<00:00, 82.58it/s, loss=2.34]\n"
          ]
        },
        {
          "output_type": "stream",
          "name": "stdout",
          "text": [
            "Epoch [1172/3000]: Train loss: 2.1887, Valid loss: 2.2944\n"
          ]
        },
        {
          "output_type": "stream",
          "name": "stderr",
          "text": [
            "Epoch [1173/3000]: 100%|██████████| 9/9 [00:00<00:00, 76.20it/s, loss=1.63]\n"
          ]
        },
        {
          "output_type": "stream",
          "name": "stdout",
          "text": [
            "Epoch [1173/3000]: Train loss: 1.9096, Valid loss: 2.3593\n"
          ]
        },
        {
          "output_type": "stream",
          "name": "stderr",
          "text": [
            "Epoch [1174/3000]: 100%|██████████| 9/9 [00:00<00:00, 91.73it/s, loss=2.33]\n"
          ]
        },
        {
          "output_type": "stream",
          "name": "stdout",
          "text": [
            "Epoch [1174/3000]: Train loss: 2.0845, Valid loss: 2.2816\n"
          ]
        },
        {
          "output_type": "stream",
          "name": "stderr",
          "text": [
            "Epoch [1175/3000]: 100%|██████████| 9/9 [00:00<00:00, 92.19it/s, loss=1.84]\n"
          ]
        },
        {
          "output_type": "stream",
          "name": "stdout",
          "text": [
            "Epoch [1175/3000]: Train loss: 1.9583, Valid loss: 2.1214\n"
          ]
        },
        {
          "output_type": "stream",
          "name": "stderr",
          "text": [
            "Epoch [1176/3000]: 100%|██████████| 9/9 [00:00<00:00, 86.65it/s, loss=1.92]\n"
          ]
        },
        {
          "output_type": "stream",
          "name": "stdout",
          "text": [
            "Epoch [1176/3000]: Train loss: 1.8225, Valid loss: 2.5981\n"
          ]
        },
        {
          "output_type": "stream",
          "name": "stderr",
          "text": [
            "Epoch [1177/3000]: 100%|██████████| 9/9 [00:00<00:00, 85.40it/s, loss=2.84]\n"
          ]
        },
        {
          "output_type": "stream",
          "name": "stdout",
          "text": [
            "Epoch [1177/3000]: Train loss: 1.9235, Valid loss: 2.2526\n"
          ]
        },
        {
          "output_type": "stream",
          "name": "stderr",
          "text": [
            "Epoch [1178/3000]: 100%|██████████| 9/9 [00:00<00:00, 79.08it/s, loss=1.67]\n"
          ]
        },
        {
          "output_type": "stream",
          "name": "stdout",
          "text": [
            "Epoch [1178/3000]: Train loss: 1.8690, Valid loss: 2.2732\n"
          ]
        },
        {
          "output_type": "stream",
          "name": "stderr",
          "text": [
            "Epoch [1179/3000]: 100%|██████████| 9/9 [00:00<00:00, 77.84it/s, loss=1.19]\n"
          ]
        },
        {
          "output_type": "stream",
          "name": "stdout",
          "text": [
            "Epoch [1179/3000]: Train loss: 2.2242, Valid loss: 3.9317\n"
          ]
        },
        {
          "output_type": "stream",
          "name": "stderr",
          "text": [
            "Epoch [1180/3000]: 100%|██████████| 9/9 [00:00<00:00, 78.34it/s, loss=1.46]\n"
          ]
        },
        {
          "output_type": "stream",
          "name": "stdout",
          "text": [
            "Epoch [1180/3000]: Train loss: 2.2291, Valid loss: 2.1254\n"
          ]
        },
        {
          "output_type": "stream",
          "name": "stderr",
          "text": [
            "Epoch [1181/3000]: 100%|██████████| 9/9 [00:00<00:00, 92.91it/s, loss=1.79]\n"
          ]
        },
        {
          "output_type": "stream",
          "name": "stdout",
          "text": [
            "Epoch [1181/3000]: Train loss: 1.8548, Valid loss: 1.9572\n"
          ]
        },
        {
          "output_type": "stream",
          "name": "stderr",
          "text": [
            "Epoch [1182/3000]: 100%|██████████| 9/9 [00:00<00:00, 86.70it/s, loss=2.67]\n"
          ]
        },
        {
          "output_type": "stream",
          "name": "stdout",
          "text": [
            "Epoch [1182/3000]: Train loss: 1.8788, Valid loss: 2.2625\n"
          ]
        },
        {
          "output_type": "stream",
          "name": "stderr",
          "text": [
            "Epoch [1183/3000]: 100%|██████████| 9/9 [00:00<00:00, 79.92it/s, loss=2.27]\n"
          ]
        },
        {
          "output_type": "stream",
          "name": "stdout",
          "text": [
            "Epoch [1183/3000]: Train loss: 1.9098, Valid loss: 2.0689\n"
          ]
        },
        {
          "output_type": "stream",
          "name": "stderr",
          "text": [
            "Epoch [1184/3000]: 100%|██████████| 9/9 [00:00<00:00, 83.37it/s, loss=1.78]\n"
          ]
        },
        {
          "output_type": "stream",
          "name": "stdout",
          "text": [
            "Epoch [1184/3000]: Train loss: 1.8043, Valid loss: 2.0779\n"
          ]
        },
        {
          "output_type": "stream",
          "name": "stderr",
          "text": [
            "Epoch [1185/3000]: 100%|██████████| 9/9 [00:00<00:00, 83.88it/s, loss=2.37]\n"
          ]
        },
        {
          "output_type": "stream",
          "name": "stdout",
          "text": [
            "Epoch [1185/3000]: Train loss: 1.8573, Valid loss: 2.7872\n"
          ]
        },
        {
          "output_type": "stream",
          "name": "stderr",
          "text": [
            "Epoch [1186/3000]: 100%|██████████| 9/9 [00:00<00:00, 71.70it/s, loss=2.48]\n"
          ]
        },
        {
          "output_type": "stream",
          "name": "stdout",
          "text": [
            "Epoch [1186/3000]: Train loss: 1.9684, Valid loss: 2.1622\n"
          ]
        },
        {
          "output_type": "stream",
          "name": "stderr",
          "text": [
            "Epoch [1187/3000]: 100%|██████████| 9/9 [00:00<00:00, 87.10it/s, loss=2.74]\n"
          ]
        },
        {
          "output_type": "stream",
          "name": "stdout",
          "text": [
            "Epoch [1187/3000]: Train loss: 2.0812, Valid loss: 2.2868\n"
          ]
        },
        {
          "output_type": "stream",
          "name": "stderr",
          "text": [
            "Epoch [1188/3000]: 100%|██████████| 9/9 [00:00<00:00, 73.04it/s, loss=3.34]\n"
          ]
        },
        {
          "output_type": "stream",
          "name": "stdout",
          "text": [
            "Epoch [1188/3000]: Train loss: 2.5542, Valid loss: 4.6282\n"
          ]
        },
        {
          "output_type": "stream",
          "name": "stderr",
          "text": [
            "Epoch [1189/3000]: 100%|██████████| 9/9 [00:00<00:00, 82.72it/s, loss=2.21]\n"
          ]
        },
        {
          "output_type": "stream",
          "name": "stdout",
          "text": [
            "Epoch [1189/3000]: Train loss: 2.7085, Valid loss: 2.1380\n"
          ]
        },
        {
          "output_type": "stream",
          "name": "stderr",
          "text": [
            "Epoch [1190/3000]: 100%|██████████| 9/9 [00:00<00:00, 91.39it/s, loss=1.78]\n"
          ]
        },
        {
          "output_type": "stream",
          "name": "stdout",
          "text": [
            "Epoch [1190/3000]: Train loss: 1.9866, Valid loss: 2.2532\n"
          ]
        },
        {
          "output_type": "stream",
          "name": "stderr",
          "text": [
            "Epoch [1191/3000]: 100%|██████████| 9/9 [00:00<00:00, 86.50it/s, loss=2.04]\n"
          ]
        },
        {
          "output_type": "stream",
          "name": "stdout",
          "text": [
            "Epoch [1191/3000]: Train loss: 1.9345, Valid loss: 2.0031\n"
          ]
        },
        {
          "output_type": "stream",
          "name": "stderr",
          "text": [
            "Epoch [1192/3000]: 100%|██████████| 9/9 [00:00<00:00, 97.84it/s, loss=2.28]\n"
          ]
        },
        {
          "output_type": "stream",
          "name": "stdout",
          "text": [
            "Epoch [1192/3000]: Train loss: 2.0621, Valid loss: 2.0691\n"
          ]
        },
        {
          "output_type": "stream",
          "name": "stderr",
          "text": [
            "Epoch [1193/3000]: 100%|██████████| 9/9 [00:00<00:00, 81.55it/s, loss=1.44]\n"
          ]
        },
        {
          "output_type": "stream",
          "name": "stdout",
          "text": [
            "Epoch [1193/3000]: Train loss: 1.9261, Valid loss: 2.2144\n"
          ]
        },
        {
          "output_type": "stream",
          "name": "stderr",
          "text": [
            "Epoch [1194/3000]: 100%|██████████| 9/9 [00:00<00:00, 91.79it/s, loss=1.85]\n"
          ]
        },
        {
          "output_type": "stream",
          "name": "stdout",
          "text": [
            "Epoch [1194/3000]: Train loss: 2.0104, Valid loss: 2.2442\n"
          ]
        },
        {
          "output_type": "stream",
          "name": "stderr",
          "text": [
            "Epoch [1195/3000]: 100%|██████████| 9/9 [00:00<00:00, 75.51it/s, loss=1.71]\n"
          ]
        },
        {
          "output_type": "stream",
          "name": "stdout",
          "text": [
            "Epoch [1195/3000]: Train loss: 1.8602, Valid loss: 2.3614\n"
          ]
        },
        {
          "output_type": "stream",
          "name": "stderr",
          "text": [
            "Epoch [1196/3000]: 100%|██████████| 9/9 [00:00<00:00, 74.97it/s, loss=2.06]\n"
          ]
        },
        {
          "output_type": "stream",
          "name": "stdout",
          "text": [
            "Epoch [1196/3000]: Train loss: 1.9366, Valid loss: 3.1045\n"
          ]
        },
        {
          "output_type": "stream",
          "name": "stderr",
          "text": [
            "Epoch [1197/3000]: 100%|██████████| 9/9 [00:00<00:00, 71.00it/s, loss=1.98]\n"
          ]
        },
        {
          "output_type": "stream",
          "name": "stdout",
          "text": [
            "Epoch [1197/3000]: Train loss: 2.0542, Valid loss: 2.3801\n"
          ]
        },
        {
          "output_type": "stream",
          "name": "stderr",
          "text": [
            "Epoch [1198/3000]: 100%|██████████| 9/9 [00:00<00:00, 71.31it/s, loss=2.42]\n"
          ]
        },
        {
          "output_type": "stream",
          "name": "stdout",
          "text": [
            "Epoch [1198/3000]: Train loss: 1.9477, Valid loss: 2.2343\n"
          ]
        },
        {
          "output_type": "stream",
          "name": "stderr",
          "text": [
            "Epoch [1199/3000]: 100%|██████████| 9/9 [00:00<00:00, 94.46it/s, loss=2.16]\n"
          ]
        },
        {
          "output_type": "stream",
          "name": "stdout",
          "text": [
            "Epoch [1199/3000]: Train loss: 2.2733, Valid loss: 1.9407\n"
          ]
        },
        {
          "output_type": "stream",
          "name": "stderr",
          "text": [
            "Epoch [1200/3000]: 100%|██████████| 9/9 [00:00<00:00, 81.06it/s, loss=1.93]\n"
          ]
        },
        {
          "output_type": "stream",
          "name": "stdout",
          "text": [
            "Epoch [1200/3000]: Train loss: 2.1662, Valid loss: 2.6009\n"
          ]
        },
        {
          "output_type": "stream",
          "name": "stderr",
          "text": [
            "Epoch [1201/3000]: 100%|██████████| 9/9 [00:00<00:00, 95.00it/s, loss=2.39]\n"
          ]
        },
        {
          "output_type": "stream",
          "name": "stdout",
          "text": [
            "Epoch [1201/3000]: Train loss: 2.0794, Valid loss: 2.3342\n"
          ]
        },
        {
          "output_type": "stream",
          "name": "stderr",
          "text": [
            "Epoch [1202/3000]: 100%|██████████| 9/9 [00:00<00:00, 71.09it/s, loss=1.82]\n"
          ]
        },
        {
          "output_type": "stream",
          "name": "stdout",
          "text": [
            "Epoch [1202/3000]: Train loss: 2.3831, Valid loss: 2.1581\n"
          ]
        },
        {
          "output_type": "stream",
          "name": "stderr",
          "text": [
            "Epoch [1203/3000]: 100%|██████████| 9/9 [00:00<00:00, 83.33it/s, loss=1.76]\n"
          ]
        },
        {
          "output_type": "stream",
          "name": "stdout",
          "text": [
            "Epoch [1203/3000]: Train loss: 2.0663, Valid loss: 2.8825\n"
          ]
        },
        {
          "output_type": "stream",
          "name": "stderr",
          "text": [
            "Epoch [1204/3000]: 100%|██████████| 9/9 [00:00<00:00, 85.87it/s, loss=2.31]\n"
          ]
        },
        {
          "output_type": "stream",
          "name": "stdout",
          "text": [
            "Epoch [1204/3000]: Train loss: 2.3224, Valid loss: 2.7017\n"
          ]
        },
        {
          "output_type": "stream",
          "name": "stderr",
          "text": [
            "Epoch [1205/3000]: 100%|██████████| 9/9 [00:00<00:00, 79.35it/s, loss=3.87]\n"
          ]
        },
        {
          "output_type": "stream",
          "name": "stdout",
          "text": [
            "Epoch [1205/3000]: Train loss: 3.7256, Valid loss: 2.0855\n"
          ]
        },
        {
          "output_type": "stream",
          "name": "stderr",
          "text": [
            "Epoch [1206/3000]: 100%|██████████| 9/9 [00:00<00:00, 98.32it/s, loss=2.21]\n"
          ]
        },
        {
          "output_type": "stream",
          "name": "stdout",
          "text": [
            "Epoch [1206/3000]: Train loss: 2.3870, Valid loss: 3.5931\n"
          ]
        },
        {
          "output_type": "stream",
          "name": "stderr",
          "text": [
            "Epoch [1207/3000]: 100%|██████████| 9/9 [00:00<00:00, 81.86it/s, loss=1.92]\n"
          ]
        },
        {
          "output_type": "stream",
          "name": "stdout",
          "text": [
            "Epoch [1207/3000]: Train loss: 2.0620, Valid loss: 1.9196\n"
          ]
        },
        {
          "output_type": "stream",
          "name": "stderr",
          "text": [
            "Epoch [1208/3000]: 100%|██████████| 9/9 [00:00<00:00, 82.24it/s, loss=2.04]\n"
          ]
        },
        {
          "output_type": "stream",
          "name": "stdout",
          "text": [
            "Epoch [1208/3000]: Train loss: 1.8243, Valid loss: 1.8160\n"
          ]
        },
        {
          "output_type": "stream",
          "name": "stderr",
          "text": [
            "Epoch [1209/3000]: 100%|██████████| 9/9 [00:00<00:00, 90.02it/s, loss=2.02]\n"
          ]
        },
        {
          "output_type": "stream",
          "name": "stdout",
          "text": [
            "Epoch [1209/3000]: Train loss: 1.8883, Valid loss: 2.3435\n"
          ]
        },
        {
          "output_type": "stream",
          "name": "stderr",
          "text": [
            "Epoch [1210/3000]: 100%|██████████| 9/9 [00:00<00:00, 73.62it/s, loss=1.55]\n"
          ]
        },
        {
          "output_type": "stream",
          "name": "stdout",
          "text": [
            "Epoch [1210/3000]: Train loss: 1.8966, Valid loss: 2.3393\n"
          ]
        },
        {
          "output_type": "stream",
          "name": "stderr",
          "text": [
            "Epoch [1211/3000]: 100%|██████████| 9/9 [00:00<00:00, 90.56it/s, loss=1.85]\n"
          ]
        },
        {
          "output_type": "stream",
          "name": "stdout",
          "text": [
            "Epoch [1211/3000]: Train loss: 1.8879, Valid loss: 2.1984\n"
          ]
        },
        {
          "output_type": "stream",
          "name": "stderr",
          "text": [
            "Epoch [1212/3000]: 100%|██████████| 9/9 [00:00<00:00, 74.97it/s, loss=2.87]\n"
          ]
        },
        {
          "output_type": "stream",
          "name": "stdout",
          "text": [
            "Epoch [1212/3000]: Train loss: 1.9123, Valid loss: 2.5267\n"
          ]
        },
        {
          "output_type": "stream",
          "name": "stderr",
          "text": [
            "Epoch [1213/3000]: 100%|██████████| 9/9 [00:00<00:00, 78.68it/s, loss=2.22]\n"
          ]
        },
        {
          "output_type": "stream",
          "name": "stdout",
          "text": [
            "Epoch [1213/3000]: Train loss: 2.2859, Valid loss: 1.8460\n"
          ]
        },
        {
          "output_type": "stream",
          "name": "stderr",
          "text": [
            "Epoch [1214/3000]: 100%|██████████| 9/9 [00:00<00:00, 82.85it/s, loss=1.7]\n"
          ]
        },
        {
          "output_type": "stream",
          "name": "stdout",
          "text": [
            "Epoch [1214/3000]: Train loss: 1.8310, Valid loss: 2.3911\n"
          ]
        },
        {
          "output_type": "stream",
          "name": "stderr",
          "text": [
            "Epoch [1215/3000]: 100%|██████████| 9/9 [00:00<00:00, 81.45it/s, loss=2.55]\n"
          ]
        },
        {
          "output_type": "stream",
          "name": "stdout",
          "text": [
            "Epoch [1215/3000]: Train loss: 2.0682, Valid loss: 2.4759\n"
          ]
        },
        {
          "output_type": "stream",
          "name": "stderr",
          "text": [
            "Epoch [1216/3000]: 100%|██████████| 9/9 [00:00<00:00, 79.43it/s, loss=1.81]\n"
          ]
        },
        {
          "output_type": "stream",
          "name": "stdout",
          "text": [
            "Epoch [1216/3000]: Train loss: 2.4854, Valid loss: 2.9661\n"
          ]
        },
        {
          "output_type": "stream",
          "name": "stderr",
          "text": [
            "Epoch [1217/3000]: 100%|██████████| 9/9 [00:00<00:00, 96.75it/s, loss=1.48]\n"
          ]
        },
        {
          "output_type": "stream",
          "name": "stdout",
          "text": [
            "Epoch [1217/3000]: Train loss: 2.2207, Valid loss: 3.7046\n"
          ]
        },
        {
          "output_type": "stream",
          "name": "stderr",
          "text": [
            "Epoch [1218/3000]: 100%|██████████| 9/9 [00:00<00:00, 81.45it/s, loss=3.23]\n"
          ]
        },
        {
          "output_type": "stream",
          "name": "stdout",
          "text": [
            "Epoch [1218/3000]: Train loss: 2.5550, Valid loss: 2.7515\n"
          ]
        },
        {
          "output_type": "stream",
          "name": "stderr",
          "text": [
            "Epoch [1219/3000]: 100%|██████████| 9/9 [00:00<00:00, 71.59it/s, loss=1.81]\n"
          ]
        },
        {
          "output_type": "stream",
          "name": "stdout",
          "text": [
            "Epoch [1219/3000]: Train loss: 2.1415, Valid loss: 2.4944\n"
          ]
        },
        {
          "output_type": "stream",
          "name": "stderr",
          "text": [
            "Epoch [1220/3000]: 100%|██████████| 9/9 [00:00<00:00, 80.62it/s, loss=2.14]\n"
          ]
        },
        {
          "output_type": "stream",
          "name": "stdout",
          "text": [
            "Epoch [1220/3000]: Train loss: 1.9623, Valid loss: 2.6244\n"
          ]
        },
        {
          "output_type": "stream",
          "name": "stderr",
          "text": [
            "Epoch [1221/3000]: 100%|██████████| 9/9 [00:00<00:00, 84.72it/s, loss=1.63]\n"
          ]
        },
        {
          "output_type": "stream",
          "name": "stdout",
          "text": [
            "Epoch [1221/3000]: Train loss: 2.3773, Valid loss: 1.9502\n"
          ]
        },
        {
          "output_type": "stream",
          "name": "stderr",
          "text": [
            "Epoch [1222/3000]: 100%|██████████| 9/9 [00:00<00:00, 91.80it/s, loss=1.58]\n"
          ]
        },
        {
          "output_type": "stream",
          "name": "stdout",
          "text": [
            "Epoch [1222/3000]: Train loss: 1.8900, Valid loss: 2.3294\n"
          ]
        },
        {
          "output_type": "stream",
          "name": "stderr",
          "text": [
            "Epoch [1223/3000]: 100%|██████████| 9/9 [00:00<00:00, 81.15it/s, loss=1.6]\n"
          ]
        },
        {
          "output_type": "stream",
          "name": "stdout",
          "text": [
            "Epoch [1223/3000]: Train loss: 1.7990, Valid loss: 2.0697\n"
          ]
        },
        {
          "output_type": "stream",
          "name": "stderr",
          "text": [
            "Epoch [1224/3000]: 100%|██████████| 9/9 [00:00<00:00, 85.52it/s, loss=1.48]\n"
          ]
        },
        {
          "output_type": "stream",
          "name": "stdout",
          "text": [
            "Epoch [1224/3000]: Train loss: 1.8246, Valid loss: 2.3110\n"
          ]
        },
        {
          "output_type": "stream",
          "name": "stderr",
          "text": [
            "Epoch [1225/3000]: 100%|██████████| 9/9 [00:00<00:00, 74.16it/s, loss=1.59]\n"
          ]
        },
        {
          "output_type": "stream",
          "name": "stdout",
          "text": [
            "Epoch [1225/3000]: Train loss: 2.0779, Valid loss: 2.2507\n"
          ]
        },
        {
          "output_type": "stream",
          "name": "stderr",
          "text": [
            "Epoch [1226/3000]: 100%|██████████| 9/9 [00:00<00:00, 75.21it/s, loss=1.45]\n"
          ]
        },
        {
          "output_type": "stream",
          "name": "stdout",
          "text": [
            "Epoch [1226/3000]: Train loss: 1.8400, Valid loss: 2.2618\n"
          ]
        },
        {
          "output_type": "stream",
          "name": "stderr",
          "text": [
            "Epoch [1227/3000]: 100%|██████████| 9/9 [00:00<00:00, 92.07it/s, loss=1.76]\n"
          ]
        },
        {
          "output_type": "stream",
          "name": "stdout",
          "text": [
            "Epoch [1227/3000]: Train loss: 1.8467, Valid loss: 2.1562\n"
          ]
        },
        {
          "output_type": "stream",
          "name": "stderr",
          "text": [
            "Epoch [1228/3000]: 100%|██████████| 9/9 [00:00<00:00, 89.99it/s, loss=1.41]\n"
          ]
        },
        {
          "output_type": "stream",
          "name": "stdout",
          "text": [
            "Epoch [1228/3000]: Train loss: 1.7839, Valid loss: 2.4594\n"
          ]
        },
        {
          "output_type": "stream",
          "name": "stderr",
          "text": [
            "Epoch [1229/3000]: 100%|██████████| 9/9 [00:00<00:00, 97.26it/s, loss=1.73]\n"
          ]
        },
        {
          "output_type": "stream",
          "name": "stdout",
          "text": [
            "Epoch [1229/3000]: Train loss: 1.8158, Valid loss: 2.1246\n"
          ]
        },
        {
          "output_type": "stream",
          "name": "stderr",
          "text": [
            "Epoch [1230/3000]: 100%|██████████| 9/9 [00:00<00:00, 94.67it/s, loss=1.86]\n"
          ]
        },
        {
          "output_type": "stream",
          "name": "stdout",
          "text": [
            "Epoch [1230/3000]: Train loss: 2.0574, Valid loss: 2.7417\n"
          ]
        },
        {
          "output_type": "stream",
          "name": "stderr",
          "text": [
            "Epoch [1231/3000]: 100%|██████████| 9/9 [00:00<00:00, 93.31it/s, loss=1.83]\n"
          ]
        },
        {
          "output_type": "stream",
          "name": "stdout",
          "text": [
            "Epoch [1231/3000]: Train loss: 2.2102, Valid loss: 2.9289\n"
          ]
        },
        {
          "output_type": "stream",
          "name": "stderr",
          "text": [
            "Epoch [1232/3000]: 100%|██████████| 9/9 [00:00<00:00, 92.67it/s, loss=2.55]\n"
          ]
        },
        {
          "output_type": "stream",
          "name": "stdout",
          "text": [
            "Epoch [1232/3000]: Train loss: 2.5712, Valid loss: 2.6468\n"
          ]
        },
        {
          "output_type": "stream",
          "name": "stderr",
          "text": [
            "Epoch [1233/3000]: 100%|██████████| 9/9 [00:00<00:00, 72.12it/s, loss=2.49]\n"
          ]
        },
        {
          "output_type": "stream",
          "name": "stdout",
          "text": [
            "Epoch [1233/3000]: Train loss: 3.1132, Valid loss: 2.4617\n"
          ]
        },
        {
          "output_type": "stream",
          "name": "stderr",
          "text": [
            "Epoch [1234/3000]: 100%|██████████| 9/9 [00:00<00:00, 82.40it/s, loss=2.6]\n"
          ]
        },
        {
          "output_type": "stream",
          "name": "stdout",
          "text": [
            "Epoch [1234/3000]: Train loss: 2.7885, Valid loss: 4.1456\n"
          ]
        },
        {
          "output_type": "stream",
          "name": "stderr",
          "text": [
            "Epoch [1235/3000]: 100%|██████████| 9/9 [00:00<00:00, 84.25it/s, loss=1.52]\n"
          ]
        },
        {
          "output_type": "stream",
          "name": "stdout",
          "text": [
            "Epoch [1235/3000]: Train loss: 2.7299, Valid loss: 4.3823\n"
          ]
        },
        {
          "output_type": "stream",
          "name": "stderr",
          "text": [
            "Epoch [1236/3000]: 100%|██████████| 9/9 [00:00<00:00, 80.23it/s, loss=3.5]\n"
          ]
        },
        {
          "output_type": "stream",
          "name": "stdout",
          "text": [
            "Epoch [1236/3000]: Train loss: 4.1314, Valid loss: 4.7505\n"
          ]
        },
        {
          "output_type": "stream",
          "name": "stderr",
          "text": [
            "Epoch [1237/3000]: 100%|██████████| 9/9 [00:00<00:00, 79.58it/s, loss=4.54]\n"
          ]
        },
        {
          "output_type": "stream",
          "name": "stdout",
          "text": [
            "Epoch [1237/3000]: Train loss: 3.7124, Valid loss: 2.3139\n"
          ]
        },
        {
          "output_type": "stream",
          "name": "stderr",
          "text": [
            "Epoch [1238/3000]: 100%|██████████| 9/9 [00:00<00:00, 91.26it/s, loss=1.76]\n"
          ]
        },
        {
          "output_type": "stream",
          "name": "stdout",
          "text": [
            "Epoch [1238/3000]: Train loss: 2.6598, Valid loss: 3.6276\n"
          ]
        },
        {
          "output_type": "stream",
          "name": "stderr",
          "text": [
            "Epoch [1239/3000]: 100%|██████████| 9/9 [00:00<00:00, 31.79it/s, loss=2.3]\n"
          ]
        },
        {
          "output_type": "stream",
          "name": "stdout",
          "text": [
            "Epoch [1239/3000]: Train loss: 2.7750, Valid loss: 2.4462\n"
          ]
        },
        {
          "output_type": "stream",
          "name": "stderr",
          "text": [
            "Epoch [1240/3000]: 100%|██████████| 9/9 [00:00<00:00, 77.60it/s, loss=2.15]\n"
          ]
        },
        {
          "output_type": "stream",
          "name": "stdout",
          "text": [
            "Epoch [1240/3000]: Train loss: 2.4425, Valid loss: 2.3192\n"
          ]
        },
        {
          "output_type": "stream",
          "name": "stderr",
          "text": [
            "Epoch [1241/3000]: 100%|██████████| 9/9 [00:00<00:00, 91.58it/s, loss=1.9]\n"
          ]
        },
        {
          "output_type": "stream",
          "name": "stdout",
          "text": [
            "Epoch [1241/3000]: Train loss: 1.9740, Valid loss: 2.7929\n"
          ]
        },
        {
          "output_type": "stream",
          "name": "stderr",
          "text": [
            "Epoch [1242/3000]: 100%|██████████| 9/9 [00:00<00:00, 86.85it/s, loss=2.09]\n"
          ]
        },
        {
          "output_type": "stream",
          "name": "stdout",
          "text": [
            "Epoch [1242/3000]: Train loss: 1.9085, Valid loss: 2.0244\n"
          ]
        },
        {
          "output_type": "stream",
          "name": "stderr",
          "text": [
            "Epoch [1243/3000]: 100%|██████████| 9/9 [00:00<00:00, 77.64it/s, loss=3.38]\n"
          ]
        },
        {
          "output_type": "stream",
          "name": "stdout",
          "text": [
            "Epoch [1243/3000]: Train loss: 2.3867, Valid loss: 2.2837\n"
          ]
        },
        {
          "output_type": "stream",
          "name": "stderr",
          "text": [
            "Epoch [1244/3000]: 100%|██████████| 9/9 [00:00<00:00, 94.13it/s, loss=2.28]\n"
          ]
        },
        {
          "output_type": "stream",
          "name": "stdout",
          "text": [
            "Epoch [1244/3000]: Train loss: 2.5179, Valid loss: 3.6851\n"
          ]
        },
        {
          "output_type": "stream",
          "name": "stderr",
          "text": [
            "Epoch [1245/3000]: 100%|██████████| 9/9 [00:00<00:00, 87.93it/s, loss=2.33]\n"
          ]
        },
        {
          "output_type": "stream",
          "name": "stdout",
          "text": [
            "Epoch [1245/3000]: Train loss: 2.5121, Valid loss: 4.8987\n"
          ]
        },
        {
          "output_type": "stream",
          "name": "stderr",
          "text": [
            "Epoch [1246/3000]: 100%|██████████| 9/9 [00:00<00:00, 89.74it/s, loss=2.19]\n"
          ]
        },
        {
          "output_type": "stream",
          "name": "stdout",
          "text": [
            "Epoch [1246/3000]: Train loss: 2.8869, Valid loss: 2.7063\n"
          ]
        },
        {
          "output_type": "stream",
          "name": "stderr",
          "text": [
            "Epoch [1247/3000]: 100%|██████████| 9/9 [00:00<00:00, 83.64it/s, loss=2.22]\n"
          ]
        },
        {
          "output_type": "stream",
          "name": "stdout",
          "text": [
            "Epoch [1247/3000]: Train loss: 2.0031, Valid loss: 1.9598\n"
          ]
        },
        {
          "output_type": "stream",
          "name": "stderr",
          "text": [
            "Epoch [1248/3000]: 100%|██████████| 9/9 [00:00<00:00, 78.90it/s, loss=1.89]\n"
          ]
        },
        {
          "output_type": "stream",
          "name": "stdout",
          "text": [
            "Epoch [1248/3000]: Train loss: 1.8688, Valid loss: 2.1348\n"
          ]
        },
        {
          "output_type": "stream",
          "name": "stderr",
          "text": [
            "Epoch [1249/3000]: 100%|██████████| 9/9 [00:00<00:00, 78.19it/s, loss=2.4]\n"
          ]
        },
        {
          "output_type": "stream",
          "name": "stdout",
          "text": [
            "Epoch [1249/3000]: Train loss: 1.8422, Valid loss: 2.5784\n"
          ]
        },
        {
          "output_type": "stream",
          "name": "stderr",
          "text": [
            "Epoch [1250/3000]: 100%|██████████| 9/9 [00:00<00:00, 77.02it/s, loss=2.02]\n"
          ]
        },
        {
          "output_type": "stream",
          "name": "stdout",
          "text": [
            "Epoch [1250/3000]: Train loss: 1.9888, Valid loss: 1.9596\n"
          ]
        },
        {
          "output_type": "stream",
          "name": "stderr",
          "text": [
            "Epoch [1251/3000]: 100%|██████████| 9/9 [00:00<00:00, 71.49it/s, loss=1.54]\n"
          ]
        },
        {
          "output_type": "stream",
          "name": "stdout",
          "text": [
            "Epoch [1251/3000]: Train loss: 2.6063, Valid loss: 3.0439\n"
          ]
        },
        {
          "output_type": "stream",
          "name": "stderr",
          "text": [
            "Epoch [1252/3000]: 100%|██████████| 9/9 [00:00<00:00, 83.65it/s, loss=3.41]\n"
          ]
        },
        {
          "output_type": "stream",
          "name": "stdout",
          "text": [
            "Epoch [1252/3000]: Train loss: 2.7248, Valid loss: 2.0823\n"
          ]
        },
        {
          "output_type": "stream",
          "name": "stderr",
          "text": [
            "Epoch [1253/3000]: 100%|██████████| 9/9 [00:00<00:00, 85.18it/s, loss=3.3]\n"
          ]
        },
        {
          "output_type": "stream",
          "name": "stdout",
          "text": [
            "Epoch [1253/3000]: Train loss: 2.3228, Valid loss: 2.4062\n"
          ]
        },
        {
          "output_type": "stream",
          "name": "stderr",
          "text": [
            "Epoch [1254/3000]: 100%|██████████| 9/9 [00:00<00:00, 98.89it/s, loss=1.8]\n"
          ]
        },
        {
          "output_type": "stream",
          "name": "stdout",
          "text": [
            "Epoch [1254/3000]: Train loss: 1.9401, Valid loss: 2.6471\n"
          ]
        },
        {
          "output_type": "stream",
          "name": "stderr",
          "text": [
            "Epoch [1255/3000]: 100%|██████████| 9/9 [00:00<00:00, 86.84it/s, loss=1.97]\n"
          ]
        },
        {
          "output_type": "stream",
          "name": "stdout",
          "text": [
            "Epoch [1255/3000]: Train loss: 1.9852, Valid loss: 2.1369\n"
          ]
        },
        {
          "output_type": "stream",
          "name": "stderr",
          "text": [
            "Epoch [1256/3000]: 100%|██████████| 9/9 [00:00<00:00, 80.59it/s, loss=1.9]\n"
          ]
        },
        {
          "output_type": "stream",
          "name": "stdout",
          "text": [
            "Epoch [1256/3000]: Train loss: 2.0642, Valid loss: 2.1673\n"
          ]
        },
        {
          "output_type": "stream",
          "name": "stderr",
          "text": [
            "Epoch [1257/3000]: 100%|██████████| 9/9 [00:00<00:00, 74.87it/s, loss=2.03]\n"
          ]
        },
        {
          "output_type": "stream",
          "name": "stdout",
          "text": [
            "Epoch [1257/3000]: Train loss: 1.9721, Valid loss: 3.6357\n"
          ]
        },
        {
          "output_type": "stream",
          "name": "stderr",
          "text": [
            "Epoch [1258/3000]: 100%|██████████| 9/9 [00:00<00:00, 75.23it/s, loss=3.07]\n"
          ]
        },
        {
          "output_type": "stream",
          "name": "stdout",
          "text": [
            "Epoch [1258/3000]: Train loss: 2.1563, Valid loss: 3.6856\n"
          ]
        },
        {
          "output_type": "stream",
          "name": "stderr",
          "text": [
            "Epoch [1259/3000]: 100%|██████████| 9/9 [00:00<00:00, 82.45it/s, loss=2.28]\n"
          ]
        },
        {
          "output_type": "stream",
          "name": "stdout",
          "text": [
            "Epoch [1259/3000]: Train loss: 2.6050, Valid loss: 2.1975\n"
          ]
        },
        {
          "output_type": "stream",
          "name": "stderr",
          "text": [
            "Epoch [1260/3000]: 100%|██████████| 9/9 [00:00<00:00, 92.67it/s, loss=1.28]\n"
          ]
        },
        {
          "output_type": "stream",
          "name": "stdout",
          "text": [
            "Epoch [1260/3000]: Train loss: 1.8530, Valid loss: 1.7362\n",
            "Saving model with loss 1.736...\n"
          ]
        },
        {
          "output_type": "stream",
          "name": "stderr",
          "text": [
            "Epoch [1261/3000]: 100%|██████████| 9/9 [00:00<00:00, 90.70it/s, loss=1.63]\n"
          ]
        },
        {
          "output_type": "stream",
          "name": "stdout",
          "text": [
            "Epoch [1261/3000]: Train loss: 1.8973, Valid loss: 2.1759\n"
          ]
        },
        {
          "output_type": "stream",
          "name": "stderr",
          "text": [
            "Epoch [1262/3000]: 100%|██████████| 9/9 [00:00<00:00, 84.07it/s, loss=1.57]\n"
          ]
        },
        {
          "output_type": "stream",
          "name": "stdout",
          "text": [
            "Epoch [1262/3000]: Train loss: 1.8839, Valid loss: 4.2732\n"
          ]
        },
        {
          "output_type": "stream",
          "name": "stderr",
          "text": [
            "Epoch [1263/3000]: 100%|██████████| 9/9 [00:00<00:00, 81.14it/s, loss=3.65]\n"
          ]
        },
        {
          "output_type": "stream",
          "name": "stdout",
          "text": [
            "Epoch [1263/3000]: Train loss: 3.2782, Valid loss: 2.9567\n"
          ]
        },
        {
          "output_type": "stream",
          "name": "stderr",
          "text": [
            "Epoch [1264/3000]: 100%|██████████| 9/9 [00:00<00:00, 91.51it/s, loss=2.27]\n"
          ]
        },
        {
          "output_type": "stream",
          "name": "stdout",
          "text": [
            "Epoch [1264/3000]: Train loss: 4.2108, Valid loss: 3.7755\n"
          ]
        },
        {
          "output_type": "stream",
          "name": "stderr",
          "text": [
            "Epoch [1265/3000]: 100%|██████████| 9/9 [00:00<00:00, 85.02it/s, loss=2.06]\n"
          ]
        },
        {
          "output_type": "stream",
          "name": "stdout",
          "text": [
            "Epoch [1265/3000]: Train loss: 2.2654, Valid loss: 1.8475\n"
          ]
        },
        {
          "output_type": "stream",
          "name": "stderr",
          "text": [
            "Epoch [1266/3000]: 100%|██████████| 9/9 [00:00<00:00, 68.71it/s, loss=2.54]\n"
          ]
        },
        {
          "output_type": "stream",
          "name": "stdout",
          "text": [
            "Epoch [1266/3000]: Train loss: 2.1598, Valid loss: 2.5086\n"
          ]
        },
        {
          "output_type": "stream",
          "name": "stderr",
          "text": [
            "Epoch [1267/3000]: 100%|██████████| 9/9 [00:00<00:00, 97.86it/s, loss=1.99]\n"
          ]
        },
        {
          "output_type": "stream",
          "name": "stdout",
          "text": [
            "Epoch [1267/3000]: Train loss: 2.1793, Valid loss: 2.5825\n"
          ]
        },
        {
          "output_type": "stream",
          "name": "stderr",
          "text": [
            "Epoch [1268/3000]: 100%|██████████| 9/9 [00:00<00:00, 102.31it/s, loss=2.21]\n"
          ]
        },
        {
          "output_type": "stream",
          "name": "stdout",
          "text": [
            "Epoch [1268/3000]: Train loss: 2.2587, Valid loss: 2.1215\n"
          ]
        },
        {
          "output_type": "stream",
          "name": "stderr",
          "text": [
            "Epoch [1269/3000]: 100%|██████████| 9/9 [00:00<00:00, 99.32it/s, loss=1.85]\n"
          ]
        },
        {
          "output_type": "stream",
          "name": "stdout",
          "text": [
            "Epoch [1269/3000]: Train loss: 1.8921, Valid loss: 2.0007\n"
          ]
        },
        {
          "output_type": "stream",
          "name": "stderr",
          "text": [
            "Epoch [1270/3000]: 100%|██████████| 9/9 [00:00<00:00, 100.29it/s, loss=2.12]\n"
          ]
        },
        {
          "output_type": "stream",
          "name": "stdout",
          "text": [
            "Epoch [1270/3000]: Train loss: 1.8511, Valid loss: 4.5397\n"
          ]
        },
        {
          "output_type": "stream",
          "name": "stderr",
          "text": [
            "Epoch [1271/3000]: 100%|██████████| 9/9 [00:00<00:00, 99.68it/s, loss=4.68]\n"
          ]
        },
        {
          "output_type": "stream",
          "name": "stdout",
          "text": [
            "Epoch [1271/3000]: Train loss: 3.3434, Valid loss: 3.1190\n"
          ]
        },
        {
          "output_type": "stream",
          "name": "stderr",
          "text": [
            "Epoch [1272/3000]: 100%|██████████| 9/9 [00:00<00:00, 90.69it/s, loss=1.93]\n"
          ]
        },
        {
          "output_type": "stream",
          "name": "stdout",
          "text": [
            "Epoch [1272/3000]: Train loss: 2.7672, Valid loss: 3.5366\n"
          ]
        },
        {
          "output_type": "stream",
          "name": "stderr",
          "text": [
            "Epoch [1273/3000]: 100%|██████████| 9/9 [00:00<00:00, 99.85it/s, loss=2.47]\n"
          ]
        },
        {
          "output_type": "stream",
          "name": "stdout",
          "text": [
            "Epoch [1273/3000]: Train loss: 2.5447, Valid loss: 4.3256\n"
          ]
        },
        {
          "output_type": "stream",
          "name": "stderr",
          "text": [
            "Epoch [1274/3000]: 100%|██████████| 9/9 [00:00<00:00, 100.62it/s, loss=1.92]\n"
          ]
        },
        {
          "output_type": "stream",
          "name": "stdout",
          "text": [
            "Epoch [1274/3000]: Train loss: 2.3203, Valid loss: 2.0023\n"
          ]
        },
        {
          "output_type": "stream",
          "name": "stderr",
          "text": [
            "Epoch [1275/3000]: 100%|██████████| 9/9 [00:00<00:00, 103.80it/s, loss=2.73]\n"
          ]
        },
        {
          "output_type": "stream",
          "name": "stdout",
          "text": [
            "Epoch [1275/3000]: Train loss: 2.1983, Valid loss: 2.3470\n"
          ]
        },
        {
          "output_type": "stream",
          "name": "stderr",
          "text": [
            "Epoch [1276/3000]: 100%|██████████| 9/9 [00:00<00:00, 81.31it/s, loss=1.74]\n"
          ]
        },
        {
          "output_type": "stream",
          "name": "stdout",
          "text": [
            "Epoch [1276/3000]: Train loss: 1.9180, Valid loss: 3.7519\n"
          ]
        },
        {
          "output_type": "stream",
          "name": "stderr",
          "text": [
            "Epoch [1277/3000]: 100%|██████████| 9/9 [00:00<00:00, 84.47it/s, loss=2.16]\n"
          ]
        },
        {
          "output_type": "stream",
          "name": "stdout",
          "text": [
            "Epoch [1277/3000]: Train loss: 2.6164, Valid loss: 2.2126\n"
          ]
        },
        {
          "output_type": "stream",
          "name": "stderr",
          "text": [
            "Epoch [1278/3000]: 100%|██████████| 9/9 [00:00<00:00, 84.70it/s, loss=4.09]\n"
          ]
        },
        {
          "output_type": "stream",
          "name": "stdout",
          "text": [
            "Epoch [1278/3000]: Train loss: 2.5767, Valid loss: 1.9839\n"
          ]
        },
        {
          "output_type": "stream",
          "name": "stderr",
          "text": [
            "Epoch [1279/3000]: 100%|██████████| 9/9 [00:00<00:00, 80.71it/s, loss=1.94]\n"
          ]
        },
        {
          "output_type": "stream",
          "name": "stdout",
          "text": [
            "Epoch [1279/3000]: Train loss: 2.4382, Valid loss: 2.6399\n"
          ]
        },
        {
          "output_type": "stream",
          "name": "stderr",
          "text": [
            "Epoch [1280/3000]: 100%|██████████| 9/9 [00:00<00:00, 69.83it/s, loss=1.79]\n"
          ]
        },
        {
          "output_type": "stream",
          "name": "stdout",
          "text": [
            "Epoch [1280/3000]: Train loss: 1.9640, Valid loss: 2.4538\n"
          ]
        },
        {
          "output_type": "stream",
          "name": "stderr",
          "text": [
            "Epoch [1281/3000]: 100%|██████████| 9/9 [00:00<00:00, 81.00it/s, loss=2.25]\n"
          ]
        },
        {
          "output_type": "stream",
          "name": "stdout",
          "text": [
            "Epoch [1281/3000]: Train loss: 2.0926, Valid loss: 2.4732\n"
          ]
        },
        {
          "output_type": "stream",
          "name": "stderr",
          "text": [
            "Epoch [1282/3000]: 100%|██████████| 9/9 [00:00<00:00, 71.92it/s, loss=2.22]\n"
          ]
        },
        {
          "output_type": "stream",
          "name": "stdout",
          "text": [
            "Epoch [1282/3000]: Train loss: 1.9960, Valid loss: 2.1156\n"
          ]
        },
        {
          "output_type": "stream",
          "name": "stderr",
          "text": [
            "Epoch [1283/3000]: 100%|██████████| 9/9 [00:00<00:00, 73.44it/s, loss=1.72]\n"
          ]
        },
        {
          "output_type": "stream",
          "name": "stdout",
          "text": [
            "Epoch [1283/3000]: Train loss: 1.8931, Valid loss: 1.8286\n"
          ]
        },
        {
          "output_type": "stream",
          "name": "stderr",
          "text": [
            "Epoch [1284/3000]: 100%|██████████| 9/9 [00:00<00:00, 94.70it/s, loss=1.92]\n"
          ]
        },
        {
          "output_type": "stream",
          "name": "stdout",
          "text": [
            "Epoch [1284/3000]: Train loss: 1.8287, Valid loss: 1.9704\n"
          ]
        },
        {
          "output_type": "stream",
          "name": "stderr",
          "text": [
            "Epoch [1285/3000]: 100%|██████████| 9/9 [00:00<00:00, 95.26it/s, loss=2.36]\n"
          ]
        },
        {
          "output_type": "stream",
          "name": "stdout",
          "text": [
            "Epoch [1285/3000]: Train loss: 1.9435, Valid loss: 2.3558\n"
          ]
        },
        {
          "output_type": "stream",
          "name": "stderr",
          "text": [
            "Epoch [1286/3000]: 100%|██████████| 9/9 [00:00<00:00, 96.45it/s, loss=1.83]\n"
          ]
        },
        {
          "output_type": "stream",
          "name": "stdout",
          "text": [
            "Epoch [1286/3000]: Train loss: 2.0547, Valid loss: 2.0594\n"
          ]
        },
        {
          "output_type": "stream",
          "name": "stderr",
          "text": [
            "Epoch [1287/3000]: 100%|██████████| 9/9 [00:00<00:00, 87.19it/s, loss=1.6]\n"
          ]
        },
        {
          "output_type": "stream",
          "name": "stdout",
          "text": [
            "Epoch [1287/3000]: Train loss: 1.8113, Valid loss: 2.0230\n"
          ]
        },
        {
          "output_type": "stream",
          "name": "stderr",
          "text": [
            "Epoch [1288/3000]: 100%|██████████| 9/9 [00:00<00:00, 81.17it/s, loss=2.36]\n"
          ]
        },
        {
          "output_type": "stream",
          "name": "stdout",
          "text": [
            "Epoch [1288/3000]: Train loss: 1.9696, Valid loss: 1.8164\n"
          ]
        },
        {
          "output_type": "stream",
          "name": "stderr",
          "text": [
            "Epoch [1289/3000]: 100%|██████████| 9/9 [00:00<00:00, 82.73it/s, loss=1.72]\n"
          ]
        },
        {
          "output_type": "stream",
          "name": "stdout",
          "text": [
            "Epoch [1289/3000]: Train loss: 1.9363, Valid loss: 2.0558\n"
          ]
        },
        {
          "output_type": "stream",
          "name": "stderr",
          "text": [
            "Epoch [1290/3000]: 100%|██████████| 9/9 [00:00<00:00, 90.59it/s, loss=1.51]\n"
          ]
        },
        {
          "output_type": "stream",
          "name": "stdout",
          "text": [
            "Epoch [1290/3000]: Train loss: 1.7923, Valid loss: 2.4245\n"
          ]
        },
        {
          "output_type": "stream",
          "name": "stderr",
          "text": [
            "Epoch [1291/3000]: 100%|██████████| 9/9 [00:00<00:00, 85.87it/s, loss=2.41]\n"
          ]
        },
        {
          "output_type": "stream",
          "name": "stdout",
          "text": [
            "Epoch [1291/3000]: Train loss: 2.0768, Valid loss: 4.2036\n"
          ]
        },
        {
          "output_type": "stream",
          "name": "stderr",
          "text": [
            "Epoch [1292/3000]: 100%|██████████| 9/9 [00:00<00:00, 71.68it/s, loss=2.08]\n"
          ]
        },
        {
          "output_type": "stream",
          "name": "stdout",
          "text": [
            "Epoch [1292/3000]: Train loss: 2.4143, Valid loss: 3.0121\n"
          ]
        },
        {
          "output_type": "stream",
          "name": "stderr",
          "text": [
            "Epoch [1293/3000]: 100%|██████████| 9/9 [00:00<00:00, 96.05it/s, loss=1.57]\n"
          ]
        },
        {
          "output_type": "stream",
          "name": "stdout",
          "text": [
            "Epoch [1293/3000]: Train loss: 1.9543, Valid loss: 1.8978\n"
          ]
        },
        {
          "output_type": "stream",
          "name": "stderr",
          "text": [
            "Epoch [1294/3000]: 100%|██████████| 9/9 [00:00<00:00, 84.14it/s, loss=2.13]\n"
          ]
        },
        {
          "output_type": "stream",
          "name": "stdout",
          "text": [
            "Epoch [1294/3000]: Train loss: 1.8953, Valid loss: 2.8367\n"
          ]
        },
        {
          "output_type": "stream",
          "name": "stderr",
          "text": [
            "Epoch [1295/3000]: 100%|██████████| 9/9 [00:00<00:00, 64.92it/s, loss=2.48]\n"
          ]
        },
        {
          "output_type": "stream",
          "name": "stdout",
          "text": [
            "Epoch [1295/3000]: Train loss: 2.1560, Valid loss: 1.8522\n"
          ]
        },
        {
          "output_type": "stream",
          "name": "stderr",
          "text": [
            "Epoch [1296/3000]: 100%|██████████| 9/9 [00:00<00:00, 75.38it/s, loss=2.51]\n"
          ]
        },
        {
          "output_type": "stream",
          "name": "stdout",
          "text": [
            "Epoch [1296/3000]: Train loss: 2.3118, Valid loss: 3.7393\n"
          ]
        },
        {
          "output_type": "stream",
          "name": "stderr",
          "text": [
            "Epoch [1297/3000]: 100%|██████████| 9/9 [00:00<00:00, 90.10it/s, loss=1.92]\n"
          ]
        },
        {
          "output_type": "stream",
          "name": "stdout",
          "text": [
            "Epoch [1297/3000]: Train loss: 2.2986, Valid loss: 2.3459\n"
          ]
        },
        {
          "output_type": "stream",
          "name": "stderr",
          "text": [
            "Epoch [1298/3000]: 100%|██████████| 9/9 [00:00<00:00, 96.98it/s, loss=2.01]\n"
          ]
        },
        {
          "output_type": "stream",
          "name": "stdout",
          "text": [
            "Epoch [1298/3000]: Train loss: 1.8954, Valid loss: 2.5559\n"
          ]
        },
        {
          "output_type": "stream",
          "name": "stderr",
          "text": [
            "Epoch [1299/3000]: 100%|██████████| 9/9 [00:00<00:00, 96.03it/s, loss=1.76]\n"
          ]
        },
        {
          "output_type": "stream",
          "name": "stdout",
          "text": [
            "Epoch [1299/3000]: Train loss: 1.9465, Valid loss: 2.7344\n"
          ]
        },
        {
          "output_type": "stream",
          "name": "stderr",
          "text": [
            "Epoch [1300/3000]: 100%|██████████| 9/9 [00:00<00:00, 91.02it/s, loss=3.29]\n"
          ]
        },
        {
          "output_type": "stream",
          "name": "stdout",
          "text": [
            "Epoch [1300/3000]: Train loss: 2.4285, Valid loss: 2.5994\n"
          ]
        },
        {
          "output_type": "stream",
          "name": "stderr",
          "text": [
            "Epoch [1301/3000]: 100%|██████████| 9/9 [00:00<00:00, 87.16it/s, loss=1.49]\n"
          ]
        },
        {
          "output_type": "stream",
          "name": "stdout",
          "text": [
            "Epoch [1301/3000]: Train loss: 2.3315, Valid loss: 2.8238\n"
          ]
        },
        {
          "output_type": "stream",
          "name": "stderr",
          "text": [
            "Epoch [1302/3000]: 100%|██████████| 9/9 [00:00<00:00, 77.62it/s, loss=2.73]\n"
          ]
        },
        {
          "output_type": "stream",
          "name": "stdout",
          "text": [
            "Epoch [1302/3000]: Train loss: 2.1927, Valid loss: 2.2212\n"
          ]
        },
        {
          "output_type": "stream",
          "name": "stderr",
          "text": [
            "Epoch [1303/3000]: 100%|██████████| 9/9 [00:00<00:00, 80.81it/s, loss=1.36]\n"
          ]
        },
        {
          "output_type": "stream",
          "name": "stdout",
          "text": [
            "Epoch [1303/3000]: Train loss: 1.9803, Valid loss: 1.8520\n"
          ]
        },
        {
          "output_type": "stream",
          "name": "stderr",
          "text": [
            "Epoch [1304/3000]: 100%|██████████| 9/9 [00:00<00:00, 81.86it/s, loss=1.84]\n"
          ]
        },
        {
          "output_type": "stream",
          "name": "stdout",
          "text": [
            "Epoch [1304/3000]: Train loss: 1.7986, Valid loss: 3.1522\n"
          ]
        },
        {
          "output_type": "stream",
          "name": "stderr",
          "text": [
            "Epoch [1305/3000]: 100%|██████████| 9/9 [00:00<00:00, 84.56it/s, loss=2.2]\n"
          ]
        },
        {
          "output_type": "stream",
          "name": "stdout",
          "text": [
            "Epoch [1305/3000]: Train loss: 2.3877, Valid loss: 2.3430\n"
          ]
        },
        {
          "output_type": "stream",
          "name": "stderr",
          "text": [
            "Epoch [1306/3000]: 100%|██████████| 9/9 [00:00<00:00, 70.42it/s, loss=2.26]\n"
          ]
        },
        {
          "output_type": "stream",
          "name": "stdout",
          "text": [
            "Epoch [1306/3000]: Train loss: 1.8328, Valid loss: 2.5362\n"
          ]
        },
        {
          "output_type": "stream",
          "name": "stderr",
          "text": [
            "Epoch [1307/3000]: 100%|██████████| 9/9 [00:00<00:00, 85.23it/s, loss=1.55]\n"
          ]
        },
        {
          "output_type": "stream",
          "name": "stdout",
          "text": [
            "Epoch [1307/3000]: Train loss: 1.8112, Valid loss: 1.9414\n"
          ]
        },
        {
          "output_type": "stream",
          "name": "stderr",
          "text": [
            "Epoch [1308/3000]: 100%|██████████| 9/9 [00:00<00:00, 76.15it/s, loss=1.89]\n"
          ]
        },
        {
          "output_type": "stream",
          "name": "stdout",
          "text": [
            "Epoch [1308/3000]: Train loss: 1.8589, Valid loss: 2.5385\n"
          ]
        },
        {
          "output_type": "stream",
          "name": "stderr",
          "text": [
            "Epoch [1309/3000]: 100%|██████████| 9/9 [00:00<00:00, 79.17it/s, loss=1.7]\n"
          ]
        },
        {
          "output_type": "stream",
          "name": "stdout",
          "text": [
            "Epoch [1309/3000]: Train loss: 1.9906, Valid loss: 3.2339\n"
          ]
        },
        {
          "output_type": "stream",
          "name": "stderr",
          "text": [
            "Epoch [1310/3000]: 100%|██████████| 9/9 [00:00<00:00, 72.01it/s, loss=2.09]\n"
          ]
        },
        {
          "output_type": "stream",
          "name": "stdout",
          "text": [
            "Epoch [1310/3000]: Train loss: 2.0841, Valid loss: 2.1166\n"
          ]
        },
        {
          "output_type": "stream",
          "name": "stderr",
          "text": [
            "Epoch [1311/3000]: 100%|██████████| 9/9 [00:00<00:00, 92.48it/s, loss=1.5]\n"
          ]
        },
        {
          "output_type": "stream",
          "name": "stdout",
          "text": [
            "Epoch [1311/3000]: Train loss: 1.9462, Valid loss: 2.4488\n"
          ]
        },
        {
          "output_type": "stream",
          "name": "stderr",
          "text": [
            "Epoch [1312/3000]: 100%|██████████| 9/9 [00:00<00:00, 83.49it/s, loss=1.47]\n"
          ]
        },
        {
          "output_type": "stream",
          "name": "stdout",
          "text": [
            "Epoch [1312/3000]: Train loss: 1.7556, Valid loss: 2.1443\n"
          ]
        },
        {
          "output_type": "stream",
          "name": "stderr",
          "text": [
            "Epoch [1313/3000]: 100%|██████████| 9/9 [00:00<00:00, 78.02it/s, loss=1.2]\n"
          ]
        },
        {
          "output_type": "stream",
          "name": "stdout",
          "text": [
            "Epoch [1313/3000]: Train loss: 1.7558, Valid loss: 2.3627\n"
          ]
        },
        {
          "output_type": "stream",
          "name": "stderr",
          "text": [
            "Epoch [1314/3000]: 100%|██████████| 9/9 [00:00<00:00, 94.89it/s, loss=2.05]\n"
          ]
        },
        {
          "output_type": "stream",
          "name": "stdout",
          "text": [
            "Epoch [1314/3000]: Train loss: 2.0889, Valid loss: 2.3009\n"
          ]
        },
        {
          "output_type": "stream",
          "name": "stderr",
          "text": [
            "Epoch [1315/3000]: 100%|██████████| 9/9 [00:00<00:00, 77.87it/s, loss=2.93]\n"
          ]
        },
        {
          "output_type": "stream",
          "name": "stdout",
          "text": [
            "Epoch [1315/3000]: Train loss: 2.1838, Valid loss: 2.0505\n"
          ]
        },
        {
          "output_type": "stream",
          "name": "stderr",
          "text": [
            "Epoch [1316/3000]: 100%|██████████| 9/9 [00:00<00:00, 85.25it/s, loss=2.74]\n"
          ]
        },
        {
          "output_type": "stream",
          "name": "stdout",
          "text": [
            "Epoch [1316/3000]: Train loss: 2.8137, Valid loss: 3.2737\n"
          ]
        },
        {
          "output_type": "stream",
          "name": "stderr",
          "text": [
            "Epoch [1317/3000]: 100%|██████████| 9/9 [00:00<00:00, 97.06it/s, loss=1.85]\n"
          ]
        },
        {
          "output_type": "stream",
          "name": "stdout",
          "text": [
            "Epoch [1317/3000]: Train loss: 2.0036, Valid loss: 2.4079\n"
          ]
        },
        {
          "output_type": "stream",
          "name": "stderr",
          "text": [
            "Epoch [1318/3000]: 100%|██████████| 9/9 [00:00<00:00, 98.99it/s, loss=2.95]\n"
          ]
        },
        {
          "output_type": "stream",
          "name": "stdout",
          "text": [
            "Epoch [1318/3000]: Train loss: 1.9670, Valid loss: 3.6020\n"
          ]
        },
        {
          "output_type": "stream",
          "name": "stderr",
          "text": [
            "Epoch [1319/3000]: 100%|██████████| 9/9 [00:00<00:00, 97.07it/s, loss=2.01]\n"
          ]
        },
        {
          "output_type": "stream",
          "name": "stdout",
          "text": [
            "Epoch [1319/3000]: Train loss: 2.4781, Valid loss: 2.0852\n"
          ]
        },
        {
          "output_type": "stream",
          "name": "stderr",
          "text": [
            "Epoch [1320/3000]: 100%|██████████| 9/9 [00:00<00:00, 99.03it/s, loss=1.84]\n"
          ]
        },
        {
          "output_type": "stream",
          "name": "stdout",
          "text": [
            "Epoch [1320/3000]: Train loss: 1.9163, Valid loss: 2.0916\n"
          ]
        },
        {
          "output_type": "stream",
          "name": "stderr",
          "text": [
            "Epoch [1321/3000]: 100%|██████████| 9/9 [00:00<00:00, 97.33it/s, loss=4.47]\n"
          ]
        },
        {
          "output_type": "stream",
          "name": "stdout",
          "text": [
            "Epoch [1321/3000]: Train loss: 3.0958, Valid loss: 2.4634\n"
          ]
        },
        {
          "output_type": "stream",
          "name": "stderr",
          "text": [
            "Epoch [1322/3000]: 100%|██████████| 9/9 [00:00<00:00, 98.01it/s, loss=2.26]\n"
          ]
        },
        {
          "output_type": "stream",
          "name": "stdout",
          "text": [
            "Epoch [1322/3000]: Train loss: 2.6015, Valid loss: 3.3587\n"
          ]
        },
        {
          "output_type": "stream",
          "name": "stderr",
          "text": [
            "Epoch [1323/3000]: 100%|██████████| 9/9 [00:00<00:00, 91.13it/s, loss=1.87]\n"
          ]
        },
        {
          "output_type": "stream",
          "name": "stdout",
          "text": [
            "Epoch [1323/3000]: Train loss: 2.0273, Valid loss: 2.1224\n"
          ]
        },
        {
          "output_type": "stream",
          "name": "stderr",
          "text": [
            "Epoch [1324/3000]: 100%|██████████| 9/9 [00:00<00:00, 87.39it/s, loss=2.06]\n"
          ]
        },
        {
          "output_type": "stream",
          "name": "stdout",
          "text": [
            "Epoch [1324/3000]: Train loss: 2.4289, Valid loss: 2.7442\n"
          ]
        },
        {
          "output_type": "stream",
          "name": "stderr",
          "text": [
            "Epoch [1325/3000]: 100%|██████████| 9/9 [00:00<00:00, 90.30it/s, loss=1.83]\n"
          ]
        },
        {
          "output_type": "stream",
          "name": "stdout",
          "text": [
            "Epoch [1325/3000]: Train loss: 3.1296, Valid loss: 3.8595\n"
          ]
        },
        {
          "output_type": "stream",
          "name": "stderr",
          "text": [
            "Epoch [1326/3000]: 100%|██████████| 9/9 [00:00<00:00, 76.91it/s, loss=2.09]\n"
          ]
        },
        {
          "output_type": "stream",
          "name": "stdout",
          "text": [
            "Epoch [1326/3000]: Train loss: 2.0219, Valid loss: 2.3978\n"
          ]
        },
        {
          "output_type": "stream",
          "name": "stderr",
          "text": [
            "Epoch [1327/3000]: 100%|██████████| 9/9 [00:00<00:00, 87.72it/s, loss=1.74]\n"
          ]
        },
        {
          "output_type": "stream",
          "name": "stdout",
          "text": [
            "Epoch [1327/3000]: Train loss: 1.9016, Valid loss: 2.6393\n"
          ]
        },
        {
          "output_type": "stream",
          "name": "stderr",
          "text": [
            "Epoch [1328/3000]: 100%|██████████| 9/9 [00:00<00:00, 83.70it/s, loss=2.52]\n"
          ]
        },
        {
          "output_type": "stream",
          "name": "stdout",
          "text": [
            "Epoch [1328/3000]: Train loss: 2.1447, Valid loss: 2.2200\n"
          ]
        },
        {
          "output_type": "stream",
          "name": "stderr",
          "text": [
            "Epoch [1329/3000]: 100%|██████████| 9/9 [00:00<00:00, 74.92it/s, loss=1.7]\n"
          ]
        },
        {
          "output_type": "stream",
          "name": "stdout",
          "text": [
            "Epoch [1329/3000]: Train loss: 2.0263, Valid loss: 3.2150\n"
          ]
        },
        {
          "output_type": "stream",
          "name": "stderr",
          "text": [
            "Epoch [1330/3000]: 100%|██████████| 9/9 [00:00<00:00, 76.44it/s, loss=1.81]\n"
          ]
        },
        {
          "output_type": "stream",
          "name": "stdout",
          "text": [
            "Epoch [1330/3000]: Train loss: 2.2545, Valid loss: 2.5257\n"
          ]
        },
        {
          "output_type": "stream",
          "name": "stderr",
          "text": [
            "Epoch [1331/3000]: 100%|██████████| 9/9 [00:00<00:00, 73.87it/s, loss=2.12]\n"
          ]
        },
        {
          "output_type": "stream",
          "name": "stdout",
          "text": [
            "Epoch [1331/3000]: Train loss: 2.0045, Valid loss: 1.7488\n"
          ]
        },
        {
          "output_type": "stream",
          "name": "stderr",
          "text": [
            "Epoch [1332/3000]: 100%|██████████| 9/9 [00:00<00:00, 76.70it/s, loss=2.05]\n"
          ]
        },
        {
          "output_type": "stream",
          "name": "stdout",
          "text": [
            "Epoch [1332/3000]: Train loss: 1.7991, Valid loss: 2.7746\n"
          ]
        },
        {
          "output_type": "stream",
          "name": "stderr",
          "text": [
            "Epoch [1333/3000]: 100%|██████████| 9/9 [00:00<00:00, 75.57it/s, loss=1.54]\n"
          ]
        },
        {
          "output_type": "stream",
          "name": "stdout",
          "text": [
            "Epoch [1333/3000]: Train loss: 1.9179, Valid loss: 2.3753\n"
          ]
        },
        {
          "output_type": "stream",
          "name": "stderr",
          "text": [
            "Epoch [1334/3000]: 100%|██████████| 9/9 [00:00<00:00, 86.05it/s, loss=1.59]\n"
          ]
        },
        {
          "output_type": "stream",
          "name": "stdout",
          "text": [
            "Epoch [1334/3000]: Train loss: 1.9511, Valid loss: 1.9336\n"
          ]
        },
        {
          "output_type": "stream",
          "name": "stderr",
          "text": [
            "Epoch [1335/3000]: 100%|██████████| 9/9 [00:00<00:00, 84.84it/s, loss=2]\n"
          ]
        },
        {
          "output_type": "stream",
          "name": "stdout",
          "text": [
            "Epoch [1335/3000]: Train loss: 1.9577, Valid loss: 2.4569\n"
          ]
        },
        {
          "output_type": "stream",
          "name": "stderr",
          "text": [
            "Epoch [1336/3000]: 100%|██████████| 9/9 [00:00<00:00, 76.32it/s, loss=2.4]\n"
          ]
        },
        {
          "output_type": "stream",
          "name": "stdout",
          "text": [
            "Epoch [1336/3000]: Train loss: 1.9301, Valid loss: 1.9938\n"
          ]
        },
        {
          "output_type": "stream",
          "name": "stderr",
          "text": [
            "Epoch [1337/3000]: 100%|██████████| 9/9 [00:00<00:00, 80.72it/s, loss=1.94]\n"
          ]
        },
        {
          "output_type": "stream",
          "name": "stdout",
          "text": [
            "Epoch [1337/3000]: Train loss: 1.8962, Valid loss: 2.3140\n"
          ]
        },
        {
          "output_type": "stream",
          "name": "stderr",
          "text": [
            "Epoch [1338/3000]: 100%|██████████| 9/9 [00:00<00:00, 86.62it/s, loss=1.68]\n"
          ]
        },
        {
          "output_type": "stream",
          "name": "stdout",
          "text": [
            "Epoch [1338/3000]: Train loss: 1.8386, Valid loss: 2.4749\n"
          ]
        },
        {
          "output_type": "stream",
          "name": "stderr",
          "text": [
            "Epoch [1339/3000]: 100%|██████████| 9/9 [00:00<00:00, 78.60it/s, loss=2.65]\n"
          ]
        },
        {
          "output_type": "stream",
          "name": "stdout",
          "text": [
            "Epoch [1339/3000]: Train loss: 1.8444, Valid loss: 1.8335\n"
          ]
        },
        {
          "output_type": "stream",
          "name": "stderr",
          "text": [
            "Epoch [1340/3000]: 100%|██████████| 9/9 [00:00<00:00, 86.41it/s, loss=2.42]\n"
          ]
        },
        {
          "output_type": "stream",
          "name": "stdout",
          "text": [
            "Epoch [1340/3000]: Train loss: 1.9915, Valid loss: 1.8877\n"
          ]
        },
        {
          "output_type": "stream",
          "name": "stderr",
          "text": [
            "Epoch [1341/3000]: 100%|██████████| 9/9 [00:00<00:00, 85.59it/s, loss=1.71]\n"
          ]
        },
        {
          "output_type": "stream",
          "name": "stdout",
          "text": [
            "Epoch [1341/3000]: Train loss: 1.9775, Valid loss: 2.2939\n"
          ]
        },
        {
          "output_type": "stream",
          "name": "stderr",
          "text": [
            "Epoch [1342/3000]: 100%|██████████| 9/9 [00:00<00:00, 80.93it/s, loss=3.26]\n"
          ]
        },
        {
          "output_type": "stream",
          "name": "stdout",
          "text": [
            "Epoch [1342/3000]: Train loss: 1.9485, Valid loss: 2.4297\n"
          ]
        },
        {
          "output_type": "stream",
          "name": "stderr",
          "text": [
            "Epoch [1343/3000]: 100%|██████████| 9/9 [00:00<00:00, 83.49it/s, loss=2.55]\n"
          ]
        },
        {
          "output_type": "stream",
          "name": "stdout",
          "text": [
            "Epoch [1343/3000]: Train loss: 1.9662, Valid loss: 2.2087\n"
          ]
        },
        {
          "output_type": "stream",
          "name": "stderr",
          "text": [
            "Epoch [1344/3000]: 100%|██████████| 9/9 [00:00<00:00, 77.41it/s, loss=2.25]\n"
          ]
        },
        {
          "output_type": "stream",
          "name": "stdout",
          "text": [
            "Epoch [1344/3000]: Train loss: 2.5213, Valid loss: 4.6405\n"
          ]
        },
        {
          "output_type": "stream",
          "name": "stderr",
          "text": [
            "Epoch [1345/3000]: 100%|██████████| 9/9 [00:00<00:00, 85.20it/s, loss=2.12]\n"
          ]
        },
        {
          "output_type": "stream",
          "name": "stdout",
          "text": [
            "Epoch [1345/3000]: Train loss: 2.9292, Valid loss: 4.6132\n"
          ]
        },
        {
          "output_type": "stream",
          "name": "stderr",
          "text": [
            "Epoch [1346/3000]: 100%|██████████| 9/9 [00:00<00:00, 94.31it/s, loss=1.74]\n"
          ]
        },
        {
          "output_type": "stream",
          "name": "stdout",
          "text": [
            "Epoch [1346/3000]: Train loss: 3.2568, Valid loss: 4.6461\n"
          ]
        },
        {
          "output_type": "stream",
          "name": "stderr",
          "text": [
            "Epoch [1347/3000]: 100%|██████████| 9/9 [00:00<00:00, 88.07it/s, loss=1.63]\n"
          ]
        },
        {
          "output_type": "stream",
          "name": "stdout",
          "text": [
            "Epoch [1347/3000]: Train loss: 2.7344, Valid loss: 2.4054\n"
          ]
        },
        {
          "output_type": "stream",
          "name": "stderr",
          "text": [
            "Epoch [1348/3000]: 100%|██████████| 9/9 [00:00<00:00, 75.77it/s, loss=1.87]\n"
          ]
        },
        {
          "output_type": "stream",
          "name": "stdout",
          "text": [
            "Epoch [1348/3000]: Train loss: 2.2766, Valid loss: 1.9032\n"
          ]
        },
        {
          "output_type": "stream",
          "name": "stderr",
          "text": [
            "Epoch [1349/3000]: 100%|██████████| 9/9 [00:00<00:00, 74.29it/s, loss=1.17]\n"
          ]
        },
        {
          "output_type": "stream",
          "name": "stdout",
          "text": [
            "Epoch [1349/3000]: Train loss: 2.0206, Valid loss: 2.5092\n"
          ]
        },
        {
          "output_type": "stream",
          "name": "stderr",
          "text": [
            "Epoch [1350/3000]: 100%|██████████| 9/9 [00:00<00:00, 81.36it/s, loss=2.83]\n"
          ]
        },
        {
          "output_type": "stream",
          "name": "stdout",
          "text": [
            "Epoch [1350/3000]: Train loss: 2.2752, Valid loss: 2.3688\n"
          ]
        },
        {
          "output_type": "stream",
          "name": "stderr",
          "text": [
            "Epoch [1351/3000]: 100%|██████████| 9/9 [00:00<00:00, 76.14it/s, loss=3.93]\n"
          ]
        },
        {
          "output_type": "stream",
          "name": "stdout",
          "text": [
            "Epoch [1351/3000]: Train loss: 3.4274, Valid loss: 4.1532\n"
          ]
        },
        {
          "output_type": "stream",
          "name": "stderr",
          "text": [
            "Epoch [1352/3000]: 100%|██████████| 9/9 [00:00<00:00, 75.91it/s, loss=1.85]\n"
          ]
        },
        {
          "output_type": "stream",
          "name": "stdout",
          "text": [
            "Epoch [1352/3000]: Train loss: 2.7761, Valid loss: 2.4912\n"
          ]
        },
        {
          "output_type": "stream",
          "name": "stderr",
          "text": [
            "Epoch [1353/3000]: 100%|██████████| 9/9 [00:00<00:00, 84.35it/s, loss=1.56]\n"
          ]
        },
        {
          "output_type": "stream",
          "name": "stdout",
          "text": [
            "Epoch [1353/3000]: Train loss: 1.8889, Valid loss: 1.9074\n"
          ]
        },
        {
          "output_type": "stream",
          "name": "stderr",
          "text": [
            "Epoch [1354/3000]: 100%|██████████| 9/9 [00:00<00:00, 69.91it/s, loss=1.87]\n"
          ]
        },
        {
          "output_type": "stream",
          "name": "stdout",
          "text": [
            "Epoch [1354/3000]: Train loss: 1.7873, Valid loss: 2.4347\n"
          ]
        },
        {
          "output_type": "stream",
          "name": "stderr",
          "text": [
            "Epoch [1355/3000]: 100%|██████████| 9/9 [00:00<00:00, 85.49it/s, loss=1.76]\n"
          ]
        },
        {
          "output_type": "stream",
          "name": "stdout",
          "text": [
            "Epoch [1355/3000]: Train loss: 1.8979, Valid loss: 2.5905\n"
          ]
        },
        {
          "output_type": "stream",
          "name": "stderr",
          "text": [
            "Epoch [1356/3000]: 100%|██████████| 9/9 [00:00<00:00, 65.35it/s, loss=1.95]\n"
          ]
        },
        {
          "output_type": "stream",
          "name": "stdout",
          "text": [
            "Epoch [1356/3000]: Train loss: 1.9119, Valid loss: 1.9211\n"
          ]
        },
        {
          "output_type": "stream",
          "name": "stderr",
          "text": [
            "Epoch [1357/3000]: 100%|██████████| 9/9 [00:00<00:00, 97.33it/s, loss=2.27]\n"
          ]
        },
        {
          "output_type": "stream",
          "name": "stdout",
          "text": [
            "Epoch [1357/3000]: Train loss: 1.7931, Valid loss: 2.1575\n"
          ]
        },
        {
          "output_type": "stream",
          "name": "stderr",
          "text": [
            "Epoch [1358/3000]: 100%|██████████| 9/9 [00:00<00:00, 97.91it/s, loss=2.03]\n"
          ]
        },
        {
          "output_type": "stream",
          "name": "stdout",
          "text": [
            "Epoch [1358/3000]: Train loss: 1.8209, Valid loss: 2.0722\n"
          ]
        },
        {
          "output_type": "stream",
          "name": "stderr",
          "text": [
            "Epoch [1359/3000]: 100%|██████████| 9/9 [00:00<00:00, 80.29it/s, loss=1.8]\n"
          ]
        },
        {
          "output_type": "stream",
          "name": "stdout",
          "text": [
            "Epoch [1359/3000]: Train loss: 1.8943, Valid loss: 2.0560\n"
          ]
        },
        {
          "output_type": "stream",
          "name": "stderr",
          "text": [
            "Epoch [1360/3000]: 100%|██████████| 9/9 [00:00<00:00, 69.76it/s, loss=1.83]\n"
          ]
        },
        {
          "output_type": "stream",
          "name": "stdout",
          "text": [
            "Epoch [1360/3000]: Train loss: 1.8628, Valid loss: 2.3596\n"
          ]
        },
        {
          "output_type": "stream",
          "name": "stderr",
          "text": [
            "Epoch [1361/3000]: 100%|██████████| 9/9 [00:00<00:00, 96.21it/s, loss=1.31]\n"
          ]
        },
        {
          "output_type": "stream",
          "name": "stdout",
          "text": [
            "Epoch [1361/3000]: Train loss: 1.8714, Valid loss: 2.6313\n"
          ]
        },
        {
          "output_type": "stream",
          "name": "stderr",
          "text": [
            "Epoch [1362/3000]: 100%|██████████| 9/9 [00:00<00:00, 95.99it/s, loss=2.16]\n"
          ]
        },
        {
          "output_type": "stream",
          "name": "stdout",
          "text": [
            "Epoch [1362/3000]: Train loss: 1.9207, Valid loss: 3.0034\n"
          ]
        },
        {
          "output_type": "stream",
          "name": "stderr",
          "text": [
            "Epoch [1363/3000]: 100%|██████████| 9/9 [00:00<00:00, 81.57it/s, loss=1.41]\n"
          ]
        },
        {
          "output_type": "stream",
          "name": "stdout",
          "text": [
            "Epoch [1363/3000]: Train loss: 2.0354, Valid loss: 2.3995\n"
          ]
        },
        {
          "output_type": "stream",
          "name": "stderr",
          "text": [
            "Epoch [1364/3000]: 100%|██████████| 9/9 [00:00<00:00, 93.36it/s, loss=3.51]\n"
          ]
        },
        {
          "output_type": "stream",
          "name": "stdout",
          "text": [
            "Epoch [1364/3000]: Train loss: 2.3516, Valid loss: 1.9039\n"
          ]
        },
        {
          "output_type": "stream",
          "name": "stderr",
          "text": [
            "Epoch [1365/3000]: 100%|██████████| 9/9 [00:00<00:00, 92.69it/s, loss=2.84]\n"
          ]
        },
        {
          "output_type": "stream",
          "name": "stdout",
          "text": [
            "Epoch [1365/3000]: Train loss: 2.0923, Valid loss: 1.7311\n",
            "Saving model with loss 1.731...\n"
          ]
        },
        {
          "output_type": "stream",
          "name": "stderr",
          "text": [
            "Epoch [1366/3000]: 100%|██████████| 9/9 [00:00<00:00, 96.68it/s, loss=1.5]\n"
          ]
        },
        {
          "output_type": "stream",
          "name": "stdout",
          "text": [
            "Epoch [1366/3000]: Train loss: 1.9977, Valid loss: 2.0161\n"
          ]
        },
        {
          "output_type": "stream",
          "name": "stderr",
          "text": [
            "Epoch [1367/3000]: 100%|██████████| 9/9 [00:00<00:00, 98.33it/s, loss=1.14]\n"
          ]
        },
        {
          "output_type": "stream",
          "name": "stdout",
          "text": [
            "Epoch [1367/3000]: Train loss: 1.9289, Valid loss: 2.4847\n"
          ]
        },
        {
          "output_type": "stream",
          "name": "stderr",
          "text": [
            "Epoch [1368/3000]: 100%|██████████| 9/9 [00:00<00:00, 96.84it/s, loss=1.52]\n"
          ]
        },
        {
          "output_type": "stream",
          "name": "stdout",
          "text": [
            "Epoch [1368/3000]: Train loss: 1.9327, Valid loss: 2.0236\n"
          ]
        },
        {
          "output_type": "stream",
          "name": "stderr",
          "text": [
            "Epoch [1369/3000]: 100%|██████████| 9/9 [00:00<00:00, 101.87it/s, loss=2.49]\n"
          ]
        },
        {
          "output_type": "stream",
          "name": "stdout",
          "text": [
            "Epoch [1369/3000]: Train loss: 1.8254, Valid loss: 2.0020\n"
          ]
        },
        {
          "output_type": "stream",
          "name": "stderr",
          "text": [
            "Epoch [1370/3000]: 100%|██████████| 9/9 [00:00<00:00, 80.24it/s, loss=1.42]\n"
          ]
        },
        {
          "output_type": "stream",
          "name": "stdout",
          "text": [
            "Epoch [1370/3000]: Train loss: 1.8673, Valid loss: 1.9408\n"
          ]
        },
        {
          "output_type": "stream",
          "name": "stderr",
          "text": [
            "Epoch [1371/3000]: 100%|██████████| 9/9 [00:00<00:00, 60.64it/s, loss=1.55]\n"
          ]
        },
        {
          "output_type": "stream",
          "name": "stdout",
          "text": [
            "Epoch [1371/3000]: Train loss: 1.7763, Valid loss: 1.7744\n"
          ]
        },
        {
          "output_type": "stream",
          "name": "stderr",
          "text": [
            "Epoch [1372/3000]: 100%|██████████| 9/9 [00:00<00:00, 83.23it/s, loss=2.94]\n"
          ]
        },
        {
          "output_type": "stream",
          "name": "stdout",
          "text": [
            "Epoch [1372/3000]: Train loss: 2.0149, Valid loss: 2.8773\n"
          ]
        },
        {
          "output_type": "stream",
          "name": "stderr",
          "text": [
            "Epoch [1373/3000]: 100%|██████████| 9/9 [00:00<00:00, 95.53it/s, loss=2.19]\n"
          ]
        },
        {
          "output_type": "stream",
          "name": "stdout",
          "text": [
            "Epoch [1373/3000]: Train loss: 1.9737, Valid loss: 1.8288\n"
          ]
        },
        {
          "output_type": "stream",
          "name": "stderr",
          "text": [
            "Epoch [1374/3000]: 100%|██████████| 9/9 [00:00<00:00, 93.69it/s, loss=2.52]\n"
          ]
        },
        {
          "output_type": "stream",
          "name": "stdout",
          "text": [
            "Epoch [1374/3000]: Train loss: 2.0295, Valid loss: 2.1504\n"
          ]
        },
        {
          "output_type": "stream",
          "name": "stderr",
          "text": [
            "Epoch [1375/3000]: 100%|██████████| 9/9 [00:00<00:00, 96.49it/s, loss=1.85]\n"
          ]
        },
        {
          "output_type": "stream",
          "name": "stdout",
          "text": [
            "Epoch [1375/3000]: Train loss: 2.0928, Valid loss: 2.1458\n"
          ]
        },
        {
          "output_type": "stream",
          "name": "stderr",
          "text": [
            "Epoch [1376/3000]: 100%|██████████| 9/9 [00:00<00:00, 86.79it/s, loss=1.49]\n"
          ]
        },
        {
          "output_type": "stream",
          "name": "stdout",
          "text": [
            "Epoch [1376/3000]: Train loss: 1.8823, Valid loss: 2.1014\n"
          ]
        },
        {
          "output_type": "stream",
          "name": "stderr",
          "text": [
            "Epoch [1377/3000]: 100%|██████████| 9/9 [00:00<00:00, 81.00it/s, loss=2.39]\n"
          ]
        },
        {
          "output_type": "stream",
          "name": "stdout",
          "text": [
            "Epoch [1377/3000]: Train loss: 1.8496, Valid loss: 3.1399\n"
          ]
        },
        {
          "output_type": "stream",
          "name": "stderr",
          "text": [
            "Epoch [1378/3000]: 100%|██████████| 9/9 [00:00<00:00, 72.64it/s, loss=2.56]\n"
          ]
        },
        {
          "output_type": "stream",
          "name": "stdout",
          "text": [
            "Epoch [1378/3000]: Train loss: 2.1048, Valid loss: 3.1076\n"
          ]
        },
        {
          "output_type": "stream",
          "name": "stderr",
          "text": [
            "Epoch [1379/3000]: 100%|██████████| 9/9 [00:00<00:00, 81.60it/s, loss=3.61]\n"
          ]
        },
        {
          "output_type": "stream",
          "name": "stdout",
          "text": [
            "Epoch [1379/3000]: Train loss: 2.6317, Valid loss: 2.0500\n"
          ]
        },
        {
          "output_type": "stream",
          "name": "stderr",
          "text": [
            "Epoch [1380/3000]: 100%|██████████| 9/9 [00:00<00:00, 72.25it/s, loss=2.78]\n"
          ]
        },
        {
          "output_type": "stream",
          "name": "stdout",
          "text": [
            "Epoch [1380/3000]: Train loss: 2.4284, Valid loss: 2.5539\n"
          ]
        },
        {
          "output_type": "stream",
          "name": "stderr",
          "text": [
            "Epoch [1381/3000]: 100%|██████████| 9/9 [00:00<00:00, 86.36it/s, loss=2.37]\n"
          ]
        },
        {
          "output_type": "stream",
          "name": "stdout",
          "text": [
            "Epoch [1381/3000]: Train loss: 2.6359, Valid loss: 3.7967\n"
          ]
        },
        {
          "output_type": "stream",
          "name": "stderr",
          "text": [
            "Epoch [1382/3000]: 100%|██████████| 9/9 [00:00<00:00, 85.77it/s, loss=2.4]\n"
          ]
        },
        {
          "output_type": "stream",
          "name": "stdout",
          "text": [
            "Epoch [1382/3000]: Train loss: 2.3463, Valid loss: 2.0455\n"
          ]
        },
        {
          "output_type": "stream",
          "name": "stderr",
          "text": [
            "Epoch [1383/3000]: 100%|██████████| 9/9 [00:00<00:00, 89.82it/s, loss=2.02]\n"
          ]
        },
        {
          "output_type": "stream",
          "name": "stdout",
          "text": [
            "Epoch [1383/3000]: Train loss: 1.8732, Valid loss: 1.8775\n"
          ]
        },
        {
          "output_type": "stream",
          "name": "stderr",
          "text": [
            "Epoch [1384/3000]: 100%|██████████| 9/9 [00:00<00:00, 72.91it/s, loss=1.59]\n"
          ]
        },
        {
          "output_type": "stream",
          "name": "stdout",
          "text": [
            "Epoch [1384/3000]: Train loss: 1.7724, Valid loss: 2.1091\n"
          ]
        },
        {
          "output_type": "stream",
          "name": "stderr",
          "text": [
            "Epoch [1385/3000]: 100%|██████████| 9/9 [00:00<00:00, 70.09it/s, loss=2.76]\n"
          ]
        },
        {
          "output_type": "stream",
          "name": "stdout",
          "text": [
            "Epoch [1385/3000]: Train loss: 2.2274, Valid loss: 2.5945\n"
          ]
        },
        {
          "output_type": "stream",
          "name": "stderr",
          "text": [
            "Epoch [1386/3000]: 100%|██████████| 9/9 [00:00<00:00, 89.94it/s, loss=1.63]\n"
          ]
        },
        {
          "output_type": "stream",
          "name": "stdout",
          "text": [
            "Epoch [1386/3000]: Train loss: 1.9993, Valid loss: 3.2317\n"
          ]
        },
        {
          "output_type": "stream",
          "name": "stderr",
          "text": [
            "Epoch [1387/3000]: 100%|██████████| 9/9 [00:00<00:00, 96.87it/s, loss=2.02]\n"
          ]
        },
        {
          "output_type": "stream",
          "name": "stdout",
          "text": [
            "Epoch [1387/3000]: Train loss: 2.2212, Valid loss: 2.0591\n"
          ]
        },
        {
          "output_type": "stream",
          "name": "stderr",
          "text": [
            "Epoch [1388/3000]: 100%|██████████| 9/9 [00:00<00:00, 78.67it/s, loss=2.2]\n"
          ]
        },
        {
          "output_type": "stream",
          "name": "stdout",
          "text": [
            "Epoch [1388/3000]: Train loss: 2.2146, Valid loss: 2.3368\n"
          ]
        },
        {
          "output_type": "stream",
          "name": "stderr",
          "text": [
            "Epoch [1389/3000]: 100%|██████████| 9/9 [00:00<00:00, 82.70it/s, loss=1.63]\n"
          ]
        },
        {
          "output_type": "stream",
          "name": "stdout",
          "text": [
            "Epoch [1389/3000]: Train loss: 1.9401, Valid loss: 2.3631\n"
          ]
        },
        {
          "output_type": "stream",
          "name": "stderr",
          "text": [
            "Epoch [1390/3000]: 100%|██████████| 9/9 [00:00<00:00, 82.67it/s, loss=2.15]\n"
          ]
        },
        {
          "output_type": "stream",
          "name": "stdout",
          "text": [
            "Epoch [1390/3000]: Train loss: 1.8121, Valid loss: 2.1690\n"
          ]
        },
        {
          "output_type": "stream",
          "name": "stderr",
          "text": [
            "Epoch [1391/3000]: 100%|██████████| 9/9 [00:00<00:00, 94.55it/s, loss=1.75]\n"
          ]
        },
        {
          "output_type": "stream",
          "name": "stdout",
          "text": [
            "Epoch [1391/3000]: Train loss: 1.8418, Valid loss: 1.9014\n"
          ]
        },
        {
          "output_type": "stream",
          "name": "stderr",
          "text": [
            "Epoch [1392/3000]: 100%|██████████| 9/9 [00:00<00:00, 79.77it/s, loss=1.87]\n"
          ]
        },
        {
          "output_type": "stream",
          "name": "stdout",
          "text": [
            "Epoch [1392/3000]: Train loss: 1.9081, Valid loss: 1.9295\n"
          ]
        },
        {
          "output_type": "stream",
          "name": "stderr",
          "text": [
            "Epoch [1393/3000]: 100%|██████████| 9/9 [00:00<00:00, 63.81it/s, loss=2.23]\n"
          ]
        },
        {
          "output_type": "stream",
          "name": "stdout",
          "text": [
            "Epoch [1393/3000]: Train loss: 1.8962, Valid loss: 1.9879\n"
          ]
        },
        {
          "output_type": "stream",
          "name": "stderr",
          "text": [
            "Epoch [1394/3000]: 100%|██████████| 9/9 [00:00<00:00, 89.82it/s, loss=2.02]\n"
          ]
        },
        {
          "output_type": "stream",
          "name": "stdout",
          "text": [
            "Epoch [1394/3000]: Train loss: 1.9454, Valid loss: 2.7752\n"
          ]
        },
        {
          "output_type": "stream",
          "name": "stderr",
          "text": [
            "Epoch [1395/3000]: 100%|██████████| 9/9 [00:00<00:00, 94.98it/s, loss=2.62]\n"
          ]
        },
        {
          "output_type": "stream",
          "name": "stdout",
          "text": [
            "Epoch [1395/3000]: Train loss: 2.4390, Valid loss: 3.4716\n"
          ]
        },
        {
          "output_type": "stream",
          "name": "stderr",
          "text": [
            "Epoch [1396/3000]: 100%|██████████| 9/9 [00:00<00:00, 79.12it/s, loss=2.58]\n"
          ]
        },
        {
          "output_type": "stream",
          "name": "stdout",
          "text": [
            "Epoch [1396/3000]: Train loss: 2.5263, Valid loss: 2.1547\n"
          ]
        },
        {
          "output_type": "stream",
          "name": "stderr",
          "text": [
            "Epoch [1397/3000]: 100%|██████████| 9/9 [00:00<00:00, 70.99it/s, loss=1.76]\n"
          ]
        },
        {
          "output_type": "stream",
          "name": "stdout",
          "text": [
            "Epoch [1397/3000]: Train loss: 1.9365, Valid loss: 2.2199\n"
          ]
        },
        {
          "output_type": "stream",
          "name": "stderr",
          "text": [
            "Epoch [1398/3000]: 100%|██████████| 9/9 [00:00<00:00, 69.63it/s, loss=1.86]\n"
          ]
        },
        {
          "output_type": "stream",
          "name": "stdout",
          "text": [
            "Epoch [1398/3000]: Train loss: 1.8186, Valid loss: 1.7843\n"
          ]
        },
        {
          "output_type": "stream",
          "name": "stderr",
          "text": [
            "Epoch [1399/3000]: 100%|██████████| 9/9 [00:00<00:00, 75.35it/s, loss=1.86]\n"
          ]
        },
        {
          "output_type": "stream",
          "name": "stdout",
          "text": [
            "Epoch [1399/3000]: Train loss: 1.7860, Valid loss: 2.2128\n"
          ]
        },
        {
          "output_type": "stream",
          "name": "stderr",
          "text": [
            "Epoch [1400/3000]: 100%|██████████| 9/9 [00:00<00:00, 80.18it/s, loss=2.14]\n"
          ]
        },
        {
          "output_type": "stream",
          "name": "stdout",
          "text": [
            "Epoch [1400/3000]: Train loss: 1.9752, Valid loss: 2.4944\n"
          ]
        },
        {
          "output_type": "stream",
          "name": "stderr",
          "text": [
            "Epoch [1401/3000]: 100%|██████████| 9/9 [00:00<00:00, 28.01it/s, loss=1.49]\n"
          ]
        },
        {
          "output_type": "stream",
          "name": "stdout",
          "text": [
            "Epoch [1401/3000]: Train loss: 2.0287, Valid loss: 3.6195\n"
          ]
        },
        {
          "output_type": "stream",
          "name": "stderr",
          "text": [
            "Epoch [1402/3000]: 100%|██████████| 9/9 [00:00<00:00, 69.18it/s, loss=2]\n"
          ]
        },
        {
          "output_type": "stream",
          "name": "stdout",
          "text": [
            "Epoch [1402/3000]: Train loss: 2.3356, Valid loss: 1.9141\n"
          ]
        },
        {
          "output_type": "stream",
          "name": "stderr",
          "text": [
            "Epoch [1403/3000]: 100%|██████████| 9/9 [00:00<00:00, 70.78it/s, loss=1.48]\n"
          ]
        },
        {
          "output_type": "stream",
          "name": "stdout",
          "text": [
            "Epoch [1403/3000]: Train loss: 1.8555, Valid loss: 2.4301\n"
          ]
        },
        {
          "output_type": "stream",
          "name": "stderr",
          "text": [
            "Epoch [1404/3000]: 100%|██████████| 9/9 [00:00<00:00, 84.03it/s, loss=2.12]\n"
          ]
        },
        {
          "output_type": "stream",
          "name": "stdout",
          "text": [
            "Epoch [1404/3000]: Train loss: 1.8404, Valid loss: 2.1546\n"
          ]
        },
        {
          "output_type": "stream",
          "name": "stderr",
          "text": [
            "Epoch [1405/3000]: 100%|██████████| 9/9 [00:00<00:00, 86.48it/s, loss=2.47]\n"
          ]
        },
        {
          "output_type": "stream",
          "name": "stdout",
          "text": [
            "Epoch [1405/3000]: Train loss: 2.0327, Valid loss: 2.4043\n"
          ]
        },
        {
          "output_type": "stream",
          "name": "stderr",
          "text": [
            "Epoch [1406/3000]: 100%|██████████| 9/9 [00:00<00:00, 80.15it/s, loss=1.87]\n"
          ]
        },
        {
          "output_type": "stream",
          "name": "stdout",
          "text": [
            "Epoch [1406/3000]: Train loss: 2.4050, Valid loss: 2.3792\n"
          ]
        },
        {
          "output_type": "stream",
          "name": "stderr",
          "text": [
            "Epoch [1407/3000]: 100%|██████████| 9/9 [00:00<00:00, 70.41it/s, loss=3.13]\n"
          ]
        },
        {
          "output_type": "stream",
          "name": "stdout",
          "text": [
            "Epoch [1407/3000]: Train loss: 2.0130, Valid loss: 2.3751\n"
          ]
        },
        {
          "output_type": "stream",
          "name": "stderr",
          "text": [
            "Epoch [1408/3000]: 100%|██████████| 9/9 [00:00<00:00, 98.65it/s, loss=2.11]\n"
          ]
        },
        {
          "output_type": "stream",
          "name": "stdout",
          "text": [
            "Epoch [1408/3000]: Train loss: 2.2792, Valid loss: 2.9841\n"
          ]
        },
        {
          "output_type": "stream",
          "name": "stderr",
          "text": [
            "Epoch [1409/3000]: 100%|██████████| 9/9 [00:00<00:00, 74.76it/s, loss=2.02]\n"
          ]
        },
        {
          "output_type": "stream",
          "name": "stdout",
          "text": [
            "Epoch [1409/3000]: Train loss: 2.1873, Valid loss: 2.7055\n"
          ]
        },
        {
          "output_type": "stream",
          "name": "stderr",
          "text": [
            "Epoch [1410/3000]: 100%|██████████| 9/9 [00:00<00:00, 82.83it/s, loss=1.69]\n"
          ]
        },
        {
          "output_type": "stream",
          "name": "stdout",
          "text": [
            "Epoch [1410/3000]: Train loss: 2.1205, Valid loss: 2.3454\n"
          ]
        },
        {
          "output_type": "stream",
          "name": "stderr",
          "text": [
            "Epoch [1411/3000]: 100%|██████████| 9/9 [00:00<00:00, 78.24it/s, loss=1.58]\n"
          ]
        },
        {
          "output_type": "stream",
          "name": "stdout",
          "text": [
            "Epoch [1411/3000]: Train loss: 1.7741, Valid loss: 2.4808\n"
          ]
        },
        {
          "output_type": "stream",
          "name": "stderr",
          "text": [
            "Epoch [1412/3000]: 100%|██████████| 9/9 [00:00<00:00, 76.45it/s, loss=1.42]\n"
          ]
        },
        {
          "output_type": "stream",
          "name": "stdout",
          "text": [
            "Epoch [1412/3000]: Train loss: 1.7725, Valid loss: 2.7569\n"
          ]
        },
        {
          "output_type": "stream",
          "name": "stderr",
          "text": [
            "Epoch [1413/3000]: 100%|██████████| 9/9 [00:00<00:00, 81.58it/s, loss=2.4]\n"
          ]
        },
        {
          "output_type": "stream",
          "name": "stdout",
          "text": [
            "Epoch [1413/3000]: Train loss: 1.9248, Valid loss: 2.5408\n"
          ]
        },
        {
          "output_type": "stream",
          "name": "stderr",
          "text": [
            "Epoch [1414/3000]: 100%|██████████| 9/9 [00:00<00:00, 96.11it/s, loss=1.32]\n"
          ]
        },
        {
          "output_type": "stream",
          "name": "stdout",
          "text": [
            "Epoch [1414/3000]: Train loss: 2.0068, Valid loss: 2.8860\n"
          ]
        },
        {
          "output_type": "stream",
          "name": "stderr",
          "text": [
            "Epoch [1415/3000]: 100%|██████████| 9/9 [00:00<00:00, 101.77it/s, loss=2.16]\n"
          ]
        },
        {
          "output_type": "stream",
          "name": "stdout",
          "text": [
            "Epoch [1415/3000]: Train loss: 2.1569, Valid loss: 1.8836\n"
          ]
        },
        {
          "output_type": "stream",
          "name": "stderr",
          "text": [
            "Epoch [1416/3000]: 100%|██████████| 9/9 [00:00<00:00, 100.09it/s, loss=1.83]\n"
          ]
        },
        {
          "output_type": "stream",
          "name": "stdout",
          "text": [
            "Epoch [1416/3000]: Train loss: 1.9867, Valid loss: 2.3142\n"
          ]
        },
        {
          "output_type": "stream",
          "name": "stderr",
          "text": [
            "Epoch [1417/3000]: 100%|██████████| 9/9 [00:00<00:00, 93.13it/s, loss=2.9]\n"
          ]
        },
        {
          "output_type": "stream",
          "name": "stdout",
          "text": [
            "Epoch [1417/3000]: Train loss: 2.2071, Valid loss: 2.2050\n"
          ]
        },
        {
          "output_type": "stream",
          "name": "stderr",
          "text": [
            "Epoch [1418/3000]: 100%|██████████| 9/9 [00:00<00:00, 92.98it/s, loss=2.21]\n"
          ]
        },
        {
          "output_type": "stream",
          "name": "stdout",
          "text": [
            "Epoch [1418/3000]: Train loss: 1.9090, Valid loss: 2.1755\n"
          ]
        },
        {
          "output_type": "stream",
          "name": "stderr",
          "text": [
            "Epoch [1419/3000]: 100%|██████████| 9/9 [00:00<00:00, 73.50it/s, loss=1.75]\n"
          ]
        },
        {
          "output_type": "stream",
          "name": "stdout",
          "text": [
            "Epoch [1419/3000]: Train loss: 1.7691, Valid loss: 2.5342\n"
          ]
        },
        {
          "output_type": "stream",
          "name": "stderr",
          "text": [
            "Epoch [1420/3000]: 100%|██████████| 9/9 [00:00<00:00, 98.80it/s, loss=2.48]\n"
          ]
        },
        {
          "output_type": "stream",
          "name": "stdout",
          "text": [
            "Epoch [1420/3000]: Train loss: 2.2600, Valid loss: 2.4200\n"
          ]
        },
        {
          "output_type": "stream",
          "name": "stderr",
          "text": [
            "Epoch [1421/3000]: 100%|██████████| 9/9 [00:00<00:00, 95.10it/s, loss=1.38]\n"
          ]
        },
        {
          "output_type": "stream",
          "name": "stdout",
          "text": [
            "Epoch [1421/3000]: Train loss: 1.9235, Valid loss: 1.9654\n"
          ]
        },
        {
          "output_type": "stream",
          "name": "stderr",
          "text": [
            "Epoch [1422/3000]: 100%|██████████| 9/9 [00:00<00:00, 98.91it/s, loss=1.99]\n"
          ]
        },
        {
          "output_type": "stream",
          "name": "stdout",
          "text": [
            "Epoch [1422/3000]: Train loss: 1.8147, Valid loss: 2.5551\n"
          ]
        },
        {
          "output_type": "stream",
          "name": "stderr",
          "text": [
            "Epoch [1423/3000]: 100%|██████████| 9/9 [00:00<00:00, 85.80it/s, loss=2.41]\n"
          ]
        },
        {
          "output_type": "stream",
          "name": "stdout",
          "text": [
            "Epoch [1423/3000]: Train loss: 1.9827, Valid loss: 1.8963\n"
          ]
        },
        {
          "output_type": "stream",
          "name": "stderr",
          "text": [
            "Epoch [1424/3000]: 100%|██████████| 9/9 [00:00<00:00, 83.03it/s, loss=4.13]\n"
          ]
        },
        {
          "output_type": "stream",
          "name": "stdout",
          "text": [
            "Epoch [1424/3000]: Train loss: 3.5479, Valid loss: 3.4359\n"
          ]
        },
        {
          "output_type": "stream",
          "name": "stderr",
          "text": [
            "Epoch [1425/3000]: 100%|██████████| 9/9 [00:00<00:00, 91.06it/s, loss=4.07]\n"
          ]
        },
        {
          "output_type": "stream",
          "name": "stdout",
          "text": [
            "Epoch [1425/3000]: Train loss: 3.1021, Valid loss: 3.3884\n"
          ]
        },
        {
          "output_type": "stream",
          "name": "stderr",
          "text": [
            "Epoch [1426/3000]: 100%|██████████| 9/9 [00:00<00:00, 71.42it/s, loss=1.95]\n"
          ]
        },
        {
          "output_type": "stream",
          "name": "stdout",
          "text": [
            "Epoch [1426/3000]: Train loss: 2.7190, Valid loss: 2.6595\n"
          ]
        },
        {
          "output_type": "stream",
          "name": "stderr",
          "text": [
            "Epoch [1427/3000]: 100%|██████████| 9/9 [00:00<00:00, 78.49it/s, loss=2.18]\n"
          ]
        },
        {
          "output_type": "stream",
          "name": "stdout",
          "text": [
            "Epoch [1427/3000]: Train loss: 2.0869, Valid loss: 2.2874\n"
          ]
        },
        {
          "output_type": "stream",
          "name": "stderr",
          "text": [
            "Epoch [1428/3000]: 100%|██████████| 9/9 [00:00<00:00, 97.19it/s, loss=1.5]\n"
          ]
        },
        {
          "output_type": "stream",
          "name": "stdout",
          "text": [
            "Epoch [1428/3000]: Train loss: 1.7653, Valid loss: 2.1425\n"
          ]
        },
        {
          "output_type": "stream",
          "name": "stderr",
          "text": [
            "Epoch [1429/3000]: 100%|██████████| 9/9 [00:00<00:00, 81.43it/s, loss=1.51]\n"
          ]
        },
        {
          "output_type": "stream",
          "name": "stdout",
          "text": [
            "Epoch [1429/3000]: Train loss: 1.8219, Valid loss: 1.9474\n"
          ]
        },
        {
          "output_type": "stream",
          "name": "stderr",
          "text": [
            "Epoch [1430/3000]: 100%|██████████| 9/9 [00:00<00:00, 69.41it/s, loss=1.5]\n"
          ]
        },
        {
          "output_type": "stream",
          "name": "stdout",
          "text": [
            "Epoch [1430/3000]: Train loss: 1.7269, Valid loss: 1.9433\n"
          ]
        },
        {
          "output_type": "stream",
          "name": "stderr",
          "text": [
            "Epoch [1431/3000]: 100%|██████████| 9/9 [00:00<00:00, 79.95it/s, loss=1.82]\n"
          ]
        },
        {
          "output_type": "stream",
          "name": "stdout",
          "text": [
            "Epoch [1431/3000]: Train loss: 2.0206, Valid loss: 2.1486\n"
          ]
        },
        {
          "output_type": "stream",
          "name": "stderr",
          "text": [
            "Epoch [1432/3000]: 100%|██████████| 9/9 [00:00<00:00, 86.15it/s, loss=1.48]\n"
          ]
        },
        {
          "output_type": "stream",
          "name": "stdout",
          "text": [
            "Epoch [1432/3000]: Train loss: 1.7150, Valid loss: 1.9320\n"
          ]
        },
        {
          "output_type": "stream",
          "name": "stderr",
          "text": [
            "Epoch [1433/3000]: 100%|██████████| 9/9 [00:00<00:00, 67.38it/s, loss=1.9]\n"
          ]
        },
        {
          "output_type": "stream",
          "name": "stdout",
          "text": [
            "Epoch [1433/3000]: Train loss: 1.8913, Valid loss: 2.2670\n"
          ]
        },
        {
          "output_type": "stream",
          "name": "stderr",
          "text": [
            "Epoch [1434/3000]: 100%|██████████| 9/9 [00:00<00:00, 94.32it/s, loss=1.94]\n"
          ]
        },
        {
          "output_type": "stream",
          "name": "stdout",
          "text": [
            "Epoch [1434/3000]: Train loss: 1.8180, Valid loss: 2.2770\n"
          ]
        },
        {
          "output_type": "stream",
          "name": "stderr",
          "text": [
            "Epoch [1435/3000]: 100%|██████████| 9/9 [00:00<00:00, 96.45it/s, loss=2.04]\n"
          ]
        },
        {
          "output_type": "stream",
          "name": "stdout",
          "text": [
            "Epoch [1435/3000]: Train loss: 2.1051, Valid loss: 2.1933\n"
          ]
        },
        {
          "output_type": "stream",
          "name": "stderr",
          "text": [
            "Epoch [1436/3000]: 100%|██████████| 9/9 [00:00<00:00, 92.81it/s, loss=1.71]\n"
          ]
        },
        {
          "output_type": "stream",
          "name": "stdout",
          "text": [
            "Epoch [1436/3000]: Train loss: 2.0719, Valid loss: 2.6506\n"
          ]
        },
        {
          "output_type": "stream",
          "name": "stderr",
          "text": [
            "Epoch [1437/3000]: 100%|██████████| 9/9 [00:00<00:00, 92.07it/s, loss=2.3]\n"
          ]
        },
        {
          "output_type": "stream",
          "name": "stdout",
          "text": [
            "Epoch [1437/3000]: Train loss: 2.1872, Valid loss: 2.9334\n"
          ]
        },
        {
          "output_type": "stream",
          "name": "stderr",
          "text": [
            "Epoch [1438/3000]: 100%|██████████| 9/9 [00:00<00:00, 81.73it/s, loss=2.91]\n"
          ]
        },
        {
          "output_type": "stream",
          "name": "stdout",
          "text": [
            "Epoch [1438/3000]: Train loss: 2.3918, Valid loss: 1.7930\n"
          ]
        },
        {
          "output_type": "stream",
          "name": "stderr",
          "text": [
            "Epoch [1439/3000]: 100%|██████████| 9/9 [00:00<00:00, 71.90it/s, loss=1.3]\n"
          ]
        },
        {
          "output_type": "stream",
          "name": "stdout",
          "text": [
            "Epoch [1439/3000]: Train loss: 2.1583, Valid loss: 2.0172\n"
          ]
        },
        {
          "output_type": "stream",
          "name": "stderr",
          "text": [
            "Epoch [1440/3000]: 100%|██████████| 9/9 [00:00<00:00, 84.43it/s, loss=2.21]\n"
          ]
        },
        {
          "output_type": "stream",
          "name": "stdout",
          "text": [
            "Epoch [1440/3000]: Train loss: 1.8992, Valid loss: 3.3030\n"
          ]
        },
        {
          "output_type": "stream",
          "name": "stderr",
          "text": [
            "Epoch [1441/3000]: 100%|██████████| 9/9 [00:00<00:00, 86.30it/s, loss=1.72]\n"
          ]
        },
        {
          "output_type": "stream",
          "name": "stdout",
          "text": [
            "Epoch [1441/3000]: Train loss: 2.4890, Valid loss: 3.6599\n"
          ]
        },
        {
          "output_type": "stream",
          "name": "stderr",
          "text": [
            "Epoch [1442/3000]: 100%|██████████| 9/9 [00:00<00:00, 79.25it/s, loss=1.75]\n"
          ]
        },
        {
          "output_type": "stream",
          "name": "stdout",
          "text": [
            "Epoch [1442/3000]: Train loss: 2.3387, Valid loss: 2.3542\n"
          ]
        },
        {
          "output_type": "stream",
          "name": "stderr",
          "text": [
            "Epoch [1443/3000]: 100%|██████████| 9/9 [00:00<00:00, 85.95it/s, loss=1.55]\n"
          ]
        },
        {
          "output_type": "stream",
          "name": "stdout",
          "text": [
            "Epoch [1443/3000]: Train loss: 1.8001, Valid loss: 1.9318\n"
          ]
        },
        {
          "output_type": "stream",
          "name": "stderr",
          "text": [
            "Epoch [1444/3000]: 100%|██████████| 9/9 [00:00<00:00, 91.69it/s, loss=1.98]\n"
          ]
        },
        {
          "output_type": "stream",
          "name": "stdout",
          "text": [
            "Epoch [1444/3000]: Train loss: 1.8024, Valid loss: 2.1405\n"
          ]
        },
        {
          "output_type": "stream",
          "name": "stderr",
          "text": [
            "Epoch [1445/3000]: 100%|██████████| 9/9 [00:00<00:00, 85.91it/s, loss=1.85]\n"
          ]
        },
        {
          "output_type": "stream",
          "name": "stdout",
          "text": [
            "Epoch [1445/3000]: Train loss: 1.7688, Valid loss: 2.0754\n"
          ]
        },
        {
          "output_type": "stream",
          "name": "stderr",
          "text": [
            "Epoch [1446/3000]: 100%|██████████| 9/9 [00:00<00:00, 70.58it/s, loss=1.62]\n"
          ]
        },
        {
          "output_type": "stream",
          "name": "stdout",
          "text": [
            "Epoch [1446/3000]: Train loss: 1.9955, Valid loss: 1.9249\n"
          ]
        },
        {
          "output_type": "stream",
          "name": "stderr",
          "text": [
            "Epoch [1447/3000]: 100%|██████████| 9/9 [00:00<00:00, 86.30it/s, loss=1.93]\n"
          ]
        },
        {
          "output_type": "stream",
          "name": "stdout",
          "text": [
            "Epoch [1447/3000]: Train loss: 1.8522, Valid loss: 2.4840\n"
          ]
        },
        {
          "output_type": "stream",
          "name": "stderr",
          "text": [
            "Epoch [1448/3000]: 100%|██████████| 9/9 [00:00<00:00, 94.63it/s, loss=1.88]\n"
          ]
        },
        {
          "output_type": "stream",
          "name": "stdout",
          "text": [
            "Epoch [1448/3000]: Train loss: 1.8268, Valid loss: 2.5599\n"
          ]
        },
        {
          "output_type": "stream",
          "name": "stderr",
          "text": [
            "Epoch [1449/3000]: 100%|██████████| 9/9 [00:00<00:00, 97.59it/s, loss=2.02]\n"
          ]
        },
        {
          "output_type": "stream",
          "name": "stdout",
          "text": [
            "Epoch [1449/3000]: Train loss: 1.8528, Valid loss: 2.1618\n"
          ]
        },
        {
          "output_type": "stream",
          "name": "stderr",
          "text": [
            "Epoch [1450/3000]: 100%|██████████| 9/9 [00:00<00:00, 85.55it/s, loss=1.7]\n"
          ]
        },
        {
          "output_type": "stream",
          "name": "stdout",
          "text": [
            "Epoch [1450/3000]: Train loss: 1.7801, Valid loss: 1.8956\n"
          ]
        },
        {
          "output_type": "stream",
          "name": "stderr",
          "text": [
            "Epoch [1451/3000]: 100%|██████████| 9/9 [00:00<00:00, 91.02it/s, loss=1.95]\n"
          ]
        },
        {
          "output_type": "stream",
          "name": "stdout",
          "text": [
            "Epoch [1451/3000]: Train loss: 1.7491, Valid loss: 1.8454\n"
          ]
        },
        {
          "output_type": "stream",
          "name": "stderr",
          "text": [
            "Epoch [1452/3000]: 100%|██████████| 9/9 [00:00<00:00, 78.19it/s, loss=2.21]\n"
          ]
        },
        {
          "output_type": "stream",
          "name": "stdout",
          "text": [
            "Epoch [1452/3000]: Train loss: 1.9060, Valid loss: 1.9412\n"
          ]
        },
        {
          "output_type": "stream",
          "name": "stderr",
          "text": [
            "Epoch [1453/3000]: 100%|██████████| 9/9 [00:00<00:00, 83.45it/s, loss=2.32]\n"
          ]
        },
        {
          "output_type": "stream",
          "name": "stdout",
          "text": [
            "Epoch [1453/3000]: Train loss: 2.0327, Valid loss: 2.2147\n"
          ]
        },
        {
          "output_type": "stream",
          "name": "stderr",
          "text": [
            "Epoch [1454/3000]: 100%|██████████| 9/9 [00:00<00:00, 98.87it/s, loss=2.04]\n"
          ]
        },
        {
          "output_type": "stream",
          "name": "stdout",
          "text": [
            "Epoch [1454/3000]: Train loss: 1.9480, Valid loss: 2.3384\n"
          ]
        },
        {
          "output_type": "stream",
          "name": "stderr",
          "text": [
            "Epoch [1455/3000]: 100%|██████████| 9/9 [00:00<00:00, 81.70it/s, loss=1.82]\n"
          ]
        },
        {
          "output_type": "stream",
          "name": "stdout",
          "text": [
            "Epoch [1455/3000]: Train loss: 1.7843, Valid loss: 1.9855\n"
          ]
        },
        {
          "output_type": "stream",
          "name": "stderr",
          "text": [
            "Epoch [1456/3000]: 100%|██████████| 9/9 [00:00<00:00, 87.83it/s, loss=1.73]\n"
          ]
        },
        {
          "output_type": "stream",
          "name": "stdout",
          "text": [
            "Epoch [1456/3000]: Train loss: 1.8847, Valid loss: 2.8371\n"
          ]
        },
        {
          "output_type": "stream",
          "name": "stderr",
          "text": [
            "Epoch [1457/3000]: 100%|██████████| 9/9 [00:00<00:00, 89.85it/s, loss=1.61]\n"
          ]
        },
        {
          "output_type": "stream",
          "name": "stdout",
          "text": [
            "Epoch [1457/3000]: Train loss: 1.9195, Valid loss: 2.5639\n"
          ]
        },
        {
          "output_type": "stream",
          "name": "stderr",
          "text": [
            "Epoch [1458/3000]: 100%|██████████| 9/9 [00:00<00:00, 74.19it/s, loss=3.02]\n"
          ]
        },
        {
          "output_type": "stream",
          "name": "stdout",
          "text": [
            "Epoch [1458/3000]: Train loss: 2.2985, Valid loss: 2.1127\n"
          ]
        },
        {
          "output_type": "stream",
          "name": "stderr",
          "text": [
            "Epoch [1459/3000]: 100%|██████████| 9/9 [00:00<00:00, 79.95it/s, loss=1.98]\n"
          ]
        },
        {
          "output_type": "stream",
          "name": "stdout",
          "text": [
            "Epoch [1459/3000]: Train loss: 2.2937, Valid loss: 1.8889\n"
          ]
        },
        {
          "output_type": "stream",
          "name": "stderr",
          "text": [
            "Epoch [1460/3000]: 100%|██████████| 9/9 [00:00<00:00, 78.04it/s, loss=1.59]\n"
          ]
        },
        {
          "output_type": "stream",
          "name": "stdout",
          "text": [
            "Epoch [1460/3000]: Train loss: 1.7483, Valid loss: 2.3353\n"
          ]
        },
        {
          "output_type": "stream",
          "name": "stderr",
          "text": [
            "Epoch [1461/3000]: 100%|██████████| 9/9 [00:00<00:00, 91.91it/s, loss=1.54]\n"
          ]
        },
        {
          "output_type": "stream",
          "name": "stdout",
          "text": [
            "Epoch [1461/3000]: Train loss: 1.8145, Valid loss: 1.9952\n"
          ]
        },
        {
          "output_type": "stream",
          "name": "stderr",
          "text": [
            "Epoch [1462/3000]: 100%|██████████| 9/9 [00:00<00:00, 98.74it/s, loss=1.37]\n"
          ]
        },
        {
          "output_type": "stream",
          "name": "stdout",
          "text": [
            "Epoch [1462/3000]: Train loss: 1.7501, Valid loss: 1.9806\n"
          ]
        },
        {
          "output_type": "stream",
          "name": "stderr",
          "text": [
            "Epoch [1463/3000]: 100%|██████████| 9/9 [00:00<00:00, 97.08it/s, loss=2.32]\n"
          ]
        },
        {
          "output_type": "stream",
          "name": "stdout",
          "text": [
            "Epoch [1463/3000]: Train loss: 1.8422, Valid loss: 2.0184\n"
          ]
        },
        {
          "output_type": "stream",
          "name": "stderr",
          "text": [
            "Epoch [1464/3000]: 100%|██████████| 9/9 [00:00<00:00, 100.24it/s, loss=1.73]\n"
          ]
        },
        {
          "output_type": "stream",
          "name": "stdout",
          "text": [
            "Epoch [1464/3000]: Train loss: 1.7667, Valid loss: 2.4219\n"
          ]
        },
        {
          "output_type": "stream",
          "name": "stderr",
          "text": [
            "Epoch [1465/3000]: 100%|██████████| 9/9 [00:00<00:00, 100.75it/s, loss=2.34]\n"
          ]
        },
        {
          "output_type": "stream",
          "name": "stdout",
          "text": [
            "Epoch [1465/3000]: Train loss: 2.3921, Valid loss: 1.8370\n"
          ]
        },
        {
          "output_type": "stream",
          "name": "stderr",
          "text": [
            "Epoch [1466/3000]: 100%|██████████| 9/9 [00:00<00:00, 89.90it/s, loss=1.8]\n"
          ]
        },
        {
          "output_type": "stream",
          "name": "stdout",
          "text": [
            "Epoch [1466/3000]: Train loss: 2.6680, Valid loss: 3.5953\n"
          ]
        },
        {
          "output_type": "stream",
          "name": "stderr",
          "text": [
            "Epoch [1467/3000]: 100%|██████████| 9/9 [00:00<00:00, 73.27it/s, loss=1.66]\n"
          ]
        },
        {
          "output_type": "stream",
          "name": "stdout",
          "text": [
            "Epoch [1467/3000]: Train loss: 2.2072, Valid loss: 2.6788\n"
          ]
        },
        {
          "output_type": "stream",
          "name": "stderr",
          "text": [
            "Epoch [1468/3000]: 100%|██████████| 9/9 [00:00<00:00, 92.60it/s, loss=2.71]\n"
          ]
        },
        {
          "output_type": "stream",
          "name": "stdout",
          "text": [
            "Epoch [1468/3000]: Train loss: 2.1990, Valid loss: 2.4254\n"
          ]
        },
        {
          "output_type": "stream",
          "name": "stderr",
          "text": [
            "Epoch [1469/3000]: 100%|██████████| 9/9 [00:00<00:00, 93.64it/s, loss=2.06]\n"
          ]
        },
        {
          "output_type": "stream",
          "name": "stdout",
          "text": [
            "Epoch [1469/3000]: Train loss: 1.8788, Valid loss: 2.8391\n"
          ]
        },
        {
          "output_type": "stream",
          "name": "stderr",
          "text": [
            "Epoch [1470/3000]: 100%|██████████| 9/9 [00:00<00:00, 87.09it/s, loss=2.28]\n"
          ]
        },
        {
          "output_type": "stream",
          "name": "stdout",
          "text": [
            "Epoch [1470/3000]: Train loss: 2.4526, Valid loss: 2.0502\n"
          ]
        },
        {
          "output_type": "stream",
          "name": "stderr",
          "text": [
            "Epoch [1471/3000]: 100%|██████████| 9/9 [00:00<00:00, 94.77it/s, loss=3.11]\n"
          ]
        },
        {
          "output_type": "stream",
          "name": "stdout",
          "text": [
            "Epoch [1471/3000]: Train loss: 3.0386, Valid loss: 2.0070\n"
          ]
        },
        {
          "output_type": "stream",
          "name": "stderr",
          "text": [
            "Epoch [1472/3000]: 100%|██████████| 9/9 [00:00<00:00, 87.57it/s, loss=1.96]\n"
          ]
        },
        {
          "output_type": "stream",
          "name": "stdout",
          "text": [
            "Epoch [1472/3000]: Train loss: 2.4544, Valid loss: 2.1758\n"
          ]
        },
        {
          "output_type": "stream",
          "name": "stderr",
          "text": [
            "Epoch [1473/3000]: 100%|██████████| 9/9 [00:00<00:00, 91.12it/s, loss=2.31]\n"
          ]
        },
        {
          "output_type": "stream",
          "name": "stdout",
          "text": [
            "Epoch [1473/3000]: Train loss: 1.9687, Valid loss: 2.6396\n"
          ]
        },
        {
          "output_type": "stream",
          "name": "stderr",
          "text": [
            "Epoch [1474/3000]: 100%|██████████| 9/9 [00:00<00:00, 86.39it/s, loss=1.69]\n"
          ]
        },
        {
          "output_type": "stream",
          "name": "stdout",
          "text": [
            "Epoch [1474/3000]: Train loss: 2.0513, Valid loss: 3.0415\n"
          ]
        },
        {
          "output_type": "stream",
          "name": "stderr",
          "text": [
            "Epoch [1475/3000]: 100%|██████████| 9/9 [00:00<00:00, 83.27it/s, loss=1.54]\n"
          ]
        },
        {
          "output_type": "stream",
          "name": "stdout",
          "text": [
            "Epoch [1475/3000]: Train loss: 2.2353, Valid loss: 1.7483\n"
          ]
        },
        {
          "output_type": "stream",
          "name": "stderr",
          "text": [
            "Epoch [1476/3000]: 100%|██████████| 9/9 [00:00<00:00, 90.11it/s, loss=1.39]\n"
          ]
        },
        {
          "output_type": "stream",
          "name": "stdout",
          "text": [
            "Epoch [1476/3000]: Train loss: 2.1715, Valid loss: 2.3501\n"
          ]
        },
        {
          "output_type": "stream",
          "name": "stderr",
          "text": [
            "Epoch [1477/3000]: 100%|██████████| 9/9 [00:00<00:00, 92.20it/s, loss=2.04]\n"
          ]
        },
        {
          "output_type": "stream",
          "name": "stdout",
          "text": [
            "Epoch [1477/3000]: Train loss: 1.9536, Valid loss: 1.8922\n"
          ]
        },
        {
          "output_type": "stream",
          "name": "stderr",
          "text": [
            "Epoch [1478/3000]: 100%|██████████| 9/9 [00:00<00:00, 90.14it/s, loss=1.91]\n"
          ]
        },
        {
          "output_type": "stream",
          "name": "stdout",
          "text": [
            "Epoch [1478/3000]: Train loss: 1.8216, Valid loss: 2.0559\n"
          ]
        },
        {
          "output_type": "stream",
          "name": "stderr",
          "text": [
            "Epoch [1479/3000]: 100%|██████████| 9/9 [00:00<00:00, 85.13it/s, loss=1.23]\n"
          ]
        },
        {
          "output_type": "stream",
          "name": "stdout",
          "text": [
            "Epoch [1479/3000]: Train loss: 1.8174, Valid loss: 1.9946\n"
          ]
        },
        {
          "output_type": "stream",
          "name": "stderr",
          "text": [
            "Epoch [1480/3000]: 100%|██████████| 9/9 [00:00<00:00, 90.44it/s, loss=1.47]\n"
          ]
        },
        {
          "output_type": "stream",
          "name": "stdout",
          "text": [
            "Epoch [1480/3000]: Train loss: 1.7599, Valid loss: 2.2487\n"
          ]
        },
        {
          "output_type": "stream",
          "name": "stderr",
          "text": [
            "Epoch [1481/3000]: 100%|██████████| 9/9 [00:00<00:00, 93.93it/s, loss=1.67]\n"
          ]
        },
        {
          "output_type": "stream",
          "name": "stdout",
          "text": [
            "Epoch [1481/3000]: Train loss: 1.8062, Valid loss: 1.7218\n",
            "Saving model with loss 1.722...\n"
          ]
        },
        {
          "output_type": "stream",
          "name": "stderr",
          "text": [
            "Epoch [1482/3000]: 100%|██████████| 9/9 [00:00<00:00, 92.93it/s, loss=1.52]\n"
          ]
        },
        {
          "output_type": "stream",
          "name": "stdout",
          "text": [
            "Epoch [1482/3000]: Train loss: 1.7246, Valid loss: 2.3966\n"
          ]
        },
        {
          "output_type": "stream",
          "name": "stderr",
          "text": [
            "Epoch [1483/3000]: 100%|██████████| 9/9 [00:00<00:00, 29.70it/s, loss=1.71]\n"
          ]
        },
        {
          "output_type": "stream",
          "name": "stdout",
          "text": [
            "Epoch [1483/3000]: Train loss: 1.7363, Valid loss: 1.6272\n",
            "Saving model with loss 1.627...\n"
          ]
        },
        {
          "output_type": "stream",
          "name": "stderr",
          "text": [
            "Epoch [1484/3000]: 100%|██████████| 9/9 [00:00<00:00, 70.56it/s, loss=1.4]\n"
          ]
        },
        {
          "output_type": "stream",
          "name": "stdout",
          "text": [
            "Epoch [1484/3000]: Train loss: 1.7284, Valid loss: 1.9830\n"
          ]
        },
        {
          "output_type": "stream",
          "name": "stderr",
          "text": [
            "Epoch [1485/3000]: 100%|██████████| 9/9 [00:00<00:00, 85.46it/s, loss=2.37]\n"
          ]
        },
        {
          "output_type": "stream",
          "name": "stdout",
          "text": [
            "Epoch [1485/3000]: Train loss: 1.8361, Valid loss: 3.7253\n"
          ]
        },
        {
          "output_type": "stream",
          "name": "stderr",
          "text": [
            "Epoch [1486/3000]: 100%|██████████| 9/9 [00:00<00:00, 66.20it/s, loss=2.33]\n"
          ]
        },
        {
          "output_type": "stream",
          "name": "stdout",
          "text": [
            "Epoch [1486/3000]: Train loss: 2.3987, Valid loss: 2.5974\n"
          ]
        },
        {
          "output_type": "stream",
          "name": "stderr",
          "text": [
            "Epoch [1487/3000]: 100%|██████████| 9/9 [00:00<00:00, 70.63it/s, loss=2.17]\n"
          ]
        },
        {
          "output_type": "stream",
          "name": "stdout",
          "text": [
            "Epoch [1487/3000]: Train loss: 2.3695, Valid loss: 2.3688\n"
          ]
        },
        {
          "output_type": "stream",
          "name": "stderr",
          "text": [
            "Epoch [1488/3000]: 100%|██████████| 9/9 [00:00<00:00, 88.12it/s, loss=1.85]\n"
          ]
        },
        {
          "output_type": "stream",
          "name": "stdout",
          "text": [
            "Epoch [1488/3000]: Train loss: 1.8377, Valid loss: 2.6417\n"
          ]
        },
        {
          "output_type": "stream",
          "name": "stderr",
          "text": [
            "Epoch [1489/3000]: 100%|██████████| 9/9 [00:00<00:00, 96.83it/s, loss=2.03]\n"
          ]
        },
        {
          "output_type": "stream",
          "name": "stdout",
          "text": [
            "Epoch [1489/3000]: Train loss: 1.8688, Valid loss: 2.2295\n"
          ]
        },
        {
          "output_type": "stream",
          "name": "stderr",
          "text": [
            "Epoch [1490/3000]: 100%|██████████| 9/9 [00:00<00:00, 94.16it/s, loss=1.81]\n"
          ]
        },
        {
          "output_type": "stream",
          "name": "stdout",
          "text": [
            "Epoch [1490/3000]: Train loss: 1.7608, Valid loss: 2.1687\n"
          ]
        },
        {
          "output_type": "stream",
          "name": "stderr",
          "text": [
            "Epoch [1491/3000]: 100%|██████████| 9/9 [00:00<00:00, 85.58it/s, loss=1.83]\n"
          ]
        },
        {
          "output_type": "stream",
          "name": "stdout",
          "text": [
            "Epoch [1491/3000]: Train loss: 1.8530, Valid loss: 1.8633\n"
          ]
        },
        {
          "output_type": "stream",
          "name": "stderr",
          "text": [
            "Epoch [1492/3000]: 100%|██████████| 9/9 [00:00<00:00, 91.53it/s, loss=1.4]\n"
          ]
        },
        {
          "output_type": "stream",
          "name": "stdout",
          "text": [
            "Epoch [1492/3000]: Train loss: 1.7641, Valid loss: 2.1231\n"
          ]
        },
        {
          "output_type": "stream",
          "name": "stderr",
          "text": [
            "Epoch [1493/3000]: 100%|██████████| 9/9 [00:00<00:00, 87.63it/s, loss=2.6]\n"
          ]
        },
        {
          "output_type": "stream",
          "name": "stdout",
          "text": [
            "Epoch [1493/3000]: Train loss: 1.8125, Valid loss: 2.4234\n"
          ]
        },
        {
          "output_type": "stream",
          "name": "stderr",
          "text": [
            "Epoch [1494/3000]: 100%|██████████| 9/9 [00:00<00:00, 95.32it/s, loss=2.41]\n"
          ]
        },
        {
          "output_type": "stream",
          "name": "stdout",
          "text": [
            "Epoch [1494/3000]: Train loss: 1.9852, Valid loss: 2.2969\n"
          ]
        },
        {
          "output_type": "stream",
          "name": "stderr",
          "text": [
            "Epoch [1495/3000]: 100%|██████████| 9/9 [00:00<00:00, 95.21it/s, loss=2.1]\n"
          ]
        },
        {
          "output_type": "stream",
          "name": "stdout",
          "text": [
            "Epoch [1495/3000]: Train loss: 1.9719, Valid loss: 2.7215\n"
          ]
        },
        {
          "output_type": "stream",
          "name": "stderr",
          "text": [
            "Epoch [1496/3000]: 100%|██████████| 9/9 [00:00<00:00, 80.00it/s, loss=2.11]\n"
          ]
        },
        {
          "output_type": "stream",
          "name": "stdout",
          "text": [
            "Epoch [1496/3000]: Train loss: 2.2357, Valid loss: 1.8807\n"
          ]
        },
        {
          "output_type": "stream",
          "name": "stderr",
          "text": [
            "Epoch [1497/3000]: 100%|██████████| 9/9 [00:00<00:00, 74.63it/s, loss=1.45]\n"
          ]
        },
        {
          "output_type": "stream",
          "name": "stdout",
          "text": [
            "Epoch [1497/3000]: Train loss: 1.8821, Valid loss: 1.9447\n"
          ]
        },
        {
          "output_type": "stream",
          "name": "stderr",
          "text": [
            "Epoch [1498/3000]: 100%|██████████| 9/9 [00:00<00:00, 75.00it/s, loss=2.52]\n"
          ]
        },
        {
          "output_type": "stream",
          "name": "stdout",
          "text": [
            "Epoch [1498/3000]: Train loss: 2.1692, Valid loss: 3.0157\n"
          ]
        },
        {
          "output_type": "stream",
          "name": "stderr",
          "text": [
            "Epoch [1499/3000]: 100%|██████████| 9/9 [00:00<00:00, 70.77it/s, loss=3.07]\n"
          ]
        },
        {
          "output_type": "stream",
          "name": "stdout",
          "text": [
            "Epoch [1499/3000]: Train loss: 2.3044, Valid loss: 2.7877\n"
          ]
        },
        {
          "output_type": "stream",
          "name": "stderr",
          "text": [
            "Epoch [1500/3000]: 100%|██████████| 9/9 [00:00<00:00, 78.89it/s, loss=2.02]\n"
          ]
        },
        {
          "output_type": "stream",
          "name": "stdout",
          "text": [
            "Epoch [1500/3000]: Train loss: 2.2162, Valid loss: 1.9155\n"
          ]
        },
        {
          "output_type": "stream",
          "name": "stderr",
          "text": [
            "Epoch [1501/3000]: 100%|██████████| 9/9 [00:00<00:00, 97.57it/s, loss=1.82]\n"
          ]
        },
        {
          "output_type": "stream",
          "name": "stdout",
          "text": [
            "Epoch [1501/3000]: Train loss: 1.9173, Valid loss: 1.9047\n"
          ]
        },
        {
          "output_type": "stream",
          "name": "stderr",
          "text": [
            "Epoch [1502/3000]: 100%|██████████| 9/9 [00:00<00:00, 96.34it/s, loss=1.63]\n"
          ]
        },
        {
          "output_type": "stream",
          "name": "stdout",
          "text": [
            "Epoch [1502/3000]: Train loss: 2.1816, Valid loss: 2.6362\n"
          ]
        },
        {
          "output_type": "stream",
          "name": "stderr",
          "text": [
            "Epoch [1503/3000]: 100%|██████████| 9/9 [00:00<00:00, 93.64it/s, loss=2.11]\n"
          ]
        },
        {
          "output_type": "stream",
          "name": "stdout",
          "text": [
            "Epoch [1503/3000]: Train loss: 1.9845, Valid loss: 3.0660\n"
          ]
        },
        {
          "output_type": "stream",
          "name": "stderr",
          "text": [
            "Epoch [1504/3000]: 100%|██████████| 9/9 [00:00<00:00, 97.18it/s, loss=2.16]\n"
          ]
        },
        {
          "output_type": "stream",
          "name": "stdout",
          "text": [
            "Epoch [1504/3000]: Train loss: 2.1090, Valid loss: 2.3136\n"
          ]
        },
        {
          "output_type": "stream",
          "name": "stderr",
          "text": [
            "Epoch [1505/3000]: 100%|██████████| 9/9 [00:00<00:00, 80.54it/s, loss=2]\n"
          ]
        },
        {
          "output_type": "stream",
          "name": "stdout",
          "text": [
            "Epoch [1505/3000]: Train loss: 2.2183, Valid loss: 1.7646\n"
          ]
        },
        {
          "output_type": "stream",
          "name": "stderr",
          "text": [
            "Epoch [1506/3000]: 100%|██████████| 9/9 [00:00<00:00, 86.11it/s, loss=1.7]\n"
          ]
        },
        {
          "output_type": "stream",
          "name": "stdout",
          "text": [
            "Epoch [1506/3000]: Train loss: 2.0376, Valid loss: 2.1503\n"
          ]
        },
        {
          "output_type": "stream",
          "name": "stderr",
          "text": [
            "Epoch [1507/3000]: 100%|██████████| 9/9 [00:00<00:00, 83.64it/s, loss=2.15]\n"
          ]
        },
        {
          "output_type": "stream",
          "name": "stdout",
          "text": [
            "Epoch [1507/3000]: Train loss: 2.3879, Valid loss: 2.1784\n"
          ]
        },
        {
          "output_type": "stream",
          "name": "stderr",
          "text": [
            "Epoch [1508/3000]: 100%|██████████| 9/9 [00:00<00:00, 82.77it/s, loss=2.24]\n"
          ]
        },
        {
          "output_type": "stream",
          "name": "stdout",
          "text": [
            "Epoch [1508/3000]: Train loss: 1.9978, Valid loss: 2.3620\n"
          ]
        },
        {
          "output_type": "stream",
          "name": "stderr",
          "text": [
            "Epoch [1509/3000]: 100%|██████████| 9/9 [00:00<00:00, 85.62it/s, loss=2.62]\n"
          ]
        },
        {
          "output_type": "stream",
          "name": "stdout",
          "text": [
            "Epoch [1509/3000]: Train loss: 2.2572, Valid loss: 2.4431\n"
          ]
        },
        {
          "output_type": "stream",
          "name": "stderr",
          "text": [
            "Epoch [1510/3000]: 100%|██████████| 9/9 [00:00<00:00, 84.09it/s, loss=1.98]\n"
          ]
        },
        {
          "output_type": "stream",
          "name": "stdout",
          "text": [
            "Epoch [1510/3000]: Train loss: 2.1530, Valid loss: 2.8780\n"
          ]
        },
        {
          "output_type": "stream",
          "name": "stderr",
          "text": [
            "Epoch [1511/3000]: 100%|██████████| 9/9 [00:00<00:00, 82.09it/s, loss=1.86]\n"
          ]
        },
        {
          "output_type": "stream",
          "name": "stdout",
          "text": [
            "Epoch [1511/3000]: Train loss: 2.2510, Valid loss: 1.9548\n"
          ]
        },
        {
          "output_type": "stream",
          "name": "stderr",
          "text": [
            "Epoch [1512/3000]: 100%|██████████| 9/9 [00:00<00:00, 73.86it/s, loss=1.92]\n"
          ]
        },
        {
          "output_type": "stream",
          "name": "stdout",
          "text": [
            "Epoch [1512/3000]: Train loss: 1.7976, Valid loss: 1.8802\n"
          ]
        },
        {
          "output_type": "stream",
          "name": "stderr",
          "text": [
            "Epoch [1513/3000]: 100%|██████████| 9/9 [00:00<00:00, 76.55it/s, loss=2.58]\n"
          ]
        },
        {
          "output_type": "stream",
          "name": "stdout",
          "text": [
            "Epoch [1513/3000]: Train loss: 1.8211, Valid loss: 3.8803\n"
          ]
        },
        {
          "output_type": "stream",
          "name": "stderr",
          "text": [
            "Epoch [1514/3000]: 100%|██████████| 9/9 [00:00<00:00, 76.79it/s, loss=2.05]\n"
          ]
        },
        {
          "output_type": "stream",
          "name": "stdout",
          "text": [
            "Epoch [1514/3000]: Train loss: 2.2717, Valid loss: 2.0853\n"
          ]
        },
        {
          "output_type": "stream",
          "name": "stderr",
          "text": [
            "Epoch [1515/3000]: 100%|██████████| 9/9 [00:00<00:00, 70.36it/s, loss=2.52]\n"
          ]
        },
        {
          "output_type": "stream",
          "name": "stdout",
          "text": [
            "Epoch [1515/3000]: Train loss: 2.1635, Valid loss: 1.8125\n"
          ]
        },
        {
          "output_type": "stream",
          "name": "stderr",
          "text": [
            "Epoch [1516/3000]: 100%|██████████| 9/9 [00:00<00:00, 83.95it/s, loss=1.86]\n"
          ]
        },
        {
          "output_type": "stream",
          "name": "stdout",
          "text": [
            "Epoch [1516/3000]: Train loss: 1.7962, Valid loss: 2.6561\n"
          ]
        },
        {
          "output_type": "stream",
          "name": "stderr",
          "text": [
            "Epoch [1517/3000]: 100%|██████████| 9/9 [00:00<00:00, 72.38it/s, loss=1.47]\n"
          ]
        },
        {
          "output_type": "stream",
          "name": "stdout",
          "text": [
            "Epoch [1517/3000]: Train loss: 1.7501, Valid loss: 2.4163\n"
          ]
        },
        {
          "output_type": "stream",
          "name": "stderr",
          "text": [
            "Epoch [1518/3000]: 100%|██████████| 9/9 [00:00<00:00, 77.99it/s, loss=1.53]\n"
          ]
        },
        {
          "output_type": "stream",
          "name": "stdout",
          "text": [
            "Epoch [1518/3000]: Train loss: 1.7524, Valid loss: 2.3366\n"
          ]
        },
        {
          "output_type": "stream",
          "name": "stderr",
          "text": [
            "Epoch [1519/3000]: 100%|██████████| 9/9 [00:00<00:00, 73.69it/s, loss=2.33]\n"
          ]
        },
        {
          "output_type": "stream",
          "name": "stdout",
          "text": [
            "Epoch [1519/3000]: Train loss: 1.8708, Valid loss: 1.8383\n"
          ]
        },
        {
          "output_type": "stream",
          "name": "stderr",
          "text": [
            "Epoch [1520/3000]: 100%|██████████| 9/9 [00:00<00:00, 85.26it/s, loss=2.06]\n"
          ]
        },
        {
          "output_type": "stream",
          "name": "stdout",
          "text": [
            "Epoch [1520/3000]: Train loss: 1.9890, Valid loss: 2.1681\n"
          ]
        },
        {
          "output_type": "stream",
          "name": "stderr",
          "text": [
            "Epoch [1521/3000]: 100%|██████████| 9/9 [00:00<00:00, 77.35it/s, loss=2.04]\n"
          ]
        },
        {
          "output_type": "stream",
          "name": "stdout",
          "text": [
            "Epoch [1521/3000]: Train loss: 1.8540, Valid loss: 1.7917\n"
          ]
        },
        {
          "output_type": "stream",
          "name": "stderr",
          "text": [
            "Epoch [1522/3000]: 100%|██████████| 9/9 [00:00<00:00, 71.32it/s, loss=2.04]\n"
          ]
        },
        {
          "output_type": "stream",
          "name": "stdout",
          "text": [
            "Epoch [1522/3000]: Train loss: 1.7683, Valid loss: 2.0206\n"
          ]
        },
        {
          "output_type": "stream",
          "name": "stderr",
          "text": [
            "Epoch [1523/3000]: 100%|██████████| 9/9 [00:00<00:00, 92.09it/s, loss=2.11]\n"
          ]
        },
        {
          "output_type": "stream",
          "name": "stdout",
          "text": [
            "Epoch [1523/3000]: Train loss: 1.9465, Valid loss: 3.9866\n"
          ]
        },
        {
          "output_type": "stream",
          "name": "stderr",
          "text": [
            "Epoch [1524/3000]: 100%|██████████| 9/9 [00:00<00:00, 91.81it/s, loss=1.64]\n"
          ]
        },
        {
          "output_type": "stream",
          "name": "stdout",
          "text": [
            "Epoch [1524/3000]: Train loss: 2.1115, Valid loss: 2.8652\n"
          ]
        },
        {
          "output_type": "stream",
          "name": "stderr",
          "text": [
            "Epoch [1525/3000]: 100%|██████████| 9/9 [00:00<00:00, 92.56it/s, loss=2.9]\n"
          ]
        },
        {
          "output_type": "stream",
          "name": "stdout",
          "text": [
            "Epoch [1525/3000]: Train loss: 2.3415, Valid loss: 1.9781\n"
          ]
        },
        {
          "output_type": "stream",
          "name": "stderr",
          "text": [
            "Epoch [1526/3000]: 100%|██████████| 9/9 [00:00<00:00, 74.73it/s, loss=2.11]\n"
          ]
        },
        {
          "output_type": "stream",
          "name": "stdout",
          "text": [
            "Epoch [1526/3000]: Train loss: 2.2108, Valid loss: 2.1657\n"
          ]
        },
        {
          "output_type": "stream",
          "name": "stderr",
          "text": [
            "Epoch [1527/3000]: 100%|██████████| 9/9 [00:00<00:00, 65.21it/s, loss=1.7]\n"
          ]
        },
        {
          "output_type": "stream",
          "name": "stdout",
          "text": [
            "Epoch [1527/3000]: Train loss: 1.7750, Valid loss: 1.8818\n"
          ]
        },
        {
          "output_type": "stream",
          "name": "stderr",
          "text": [
            "Epoch [1528/3000]: 100%|██████████| 9/9 [00:00<00:00, 81.04it/s, loss=1.68]\n"
          ]
        },
        {
          "output_type": "stream",
          "name": "stdout",
          "text": [
            "Epoch [1528/3000]: Train loss: 1.7652, Valid loss: 1.9014\n"
          ]
        },
        {
          "output_type": "stream",
          "name": "stderr",
          "text": [
            "Epoch [1529/3000]: 100%|██████████| 9/9 [00:00<00:00, 82.08it/s, loss=1.25]\n"
          ]
        },
        {
          "output_type": "stream",
          "name": "stdout",
          "text": [
            "Epoch [1529/3000]: Train loss: 1.7300, Valid loss: 1.9630\n"
          ]
        },
        {
          "output_type": "stream",
          "name": "stderr",
          "text": [
            "Epoch [1530/3000]: 100%|██████████| 9/9 [00:00<00:00, 83.89it/s, loss=1.49]\n"
          ]
        },
        {
          "output_type": "stream",
          "name": "stdout",
          "text": [
            "Epoch [1530/3000]: Train loss: 1.7132, Valid loss: 2.3060\n"
          ]
        },
        {
          "output_type": "stream",
          "name": "stderr",
          "text": [
            "Epoch [1531/3000]: 100%|██████████| 9/9 [00:00<00:00, 86.72it/s, loss=2.18]\n"
          ]
        },
        {
          "output_type": "stream",
          "name": "stdout",
          "text": [
            "Epoch [1531/3000]: Train loss: 1.9987, Valid loss: 3.0986\n"
          ]
        },
        {
          "output_type": "stream",
          "name": "stderr",
          "text": [
            "Epoch [1532/3000]: 100%|██████████| 9/9 [00:00<00:00, 83.20it/s, loss=1.71]\n"
          ]
        },
        {
          "output_type": "stream",
          "name": "stdout",
          "text": [
            "Epoch [1532/3000]: Train loss: 2.0343, Valid loss: 2.3279\n"
          ]
        },
        {
          "output_type": "stream",
          "name": "stderr",
          "text": [
            "Epoch [1533/3000]: 100%|██████████| 9/9 [00:00<00:00, 91.20it/s, loss=2.63]\n"
          ]
        },
        {
          "output_type": "stream",
          "name": "stdout",
          "text": [
            "Epoch [1533/3000]: Train loss: 2.2248, Valid loss: 1.8651\n"
          ]
        },
        {
          "output_type": "stream",
          "name": "stderr",
          "text": [
            "Epoch [1534/3000]: 100%|██████████| 9/9 [00:00<00:00, 70.19it/s, loss=2.89]\n"
          ]
        },
        {
          "output_type": "stream",
          "name": "stdout",
          "text": [
            "Epoch [1534/3000]: Train loss: 1.8794, Valid loss: 2.7338\n"
          ]
        },
        {
          "output_type": "stream",
          "name": "stderr",
          "text": [
            "Epoch [1535/3000]: 100%|██████████| 9/9 [00:00<00:00, 92.76it/s, loss=1.74]\n"
          ]
        },
        {
          "output_type": "stream",
          "name": "stdout",
          "text": [
            "Epoch [1535/3000]: Train loss: 2.0740, Valid loss: 1.8327\n"
          ]
        },
        {
          "output_type": "stream",
          "name": "stderr",
          "text": [
            "Epoch [1536/3000]: 100%|██████████| 9/9 [00:00<00:00, 90.25it/s, loss=1.23]\n"
          ]
        },
        {
          "output_type": "stream",
          "name": "stdout",
          "text": [
            "Epoch [1536/3000]: Train loss: 1.9346, Valid loss: 2.6537\n"
          ]
        },
        {
          "output_type": "stream",
          "name": "stderr",
          "text": [
            "Epoch [1537/3000]: 100%|██████████| 9/9 [00:00<00:00, 83.36it/s, loss=1.64]\n"
          ]
        },
        {
          "output_type": "stream",
          "name": "stdout",
          "text": [
            "Epoch [1537/3000]: Train loss: 1.9563, Valid loss: 1.8528\n"
          ]
        },
        {
          "output_type": "stream",
          "name": "stderr",
          "text": [
            "Epoch [1538/3000]: 100%|██████████| 9/9 [00:00<00:00, 85.92it/s, loss=2.04]\n"
          ]
        },
        {
          "output_type": "stream",
          "name": "stdout",
          "text": [
            "Epoch [1538/3000]: Train loss: 1.8982, Valid loss: 2.0864\n"
          ]
        },
        {
          "output_type": "stream",
          "name": "stderr",
          "text": [
            "Epoch [1539/3000]: 100%|██████████| 9/9 [00:00<00:00, 95.30it/s, loss=1.45]\n"
          ]
        },
        {
          "output_type": "stream",
          "name": "stdout",
          "text": [
            "Epoch [1539/3000]: Train loss: 2.1492, Valid loss: 2.2820\n"
          ]
        },
        {
          "output_type": "stream",
          "name": "stderr",
          "text": [
            "Epoch [1540/3000]: 100%|██████████| 9/9 [00:00<00:00, 97.35it/s, loss=1.9]\n"
          ]
        },
        {
          "output_type": "stream",
          "name": "stdout",
          "text": [
            "Epoch [1540/3000]: Train loss: 2.0066, Valid loss: 1.6735\n"
          ]
        },
        {
          "output_type": "stream",
          "name": "stderr",
          "text": [
            "Epoch [1541/3000]: 100%|██████████| 9/9 [00:00<00:00, 85.56it/s, loss=1.29]\n"
          ]
        },
        {
          "output_type": "stream",
          "name": "stdout",
          "text": [
            "Epoch [1541/3000]: Train loss: 2.1635, Valid loss: 2.3534\n"
          ]
        },
        {
          "output_type": "stream",
          "name": "stderr",
          "text": [
            "Epoch [1542/3000]: 100%|██████████| 9/9 [00:00<00:00, 72.47it/s, loss=2.23]\n"
          ]
        },
        {
          "output_type": "stream",
          "name": "stdout",
          "text": [
            "Epoch [1542/3000]: Train loss: 1.8724, Valid loss: 2.0537\n"
          ]
        },
        {
          "output_type": "stream",
          "name": "stderr",
          "text": [
            "Epoch [1543/3000]: 100%|██████████| 9/9 [00:00<00:00, 81.79it/s, loss=2.03]\n"
          ]
        },
        {
          "output_type": "stream",
          "name": "stdout",
          "text": [
            "Epoch [1543/3000]: Train loss: 1.7637, Valid loss: 2.0338\n"
          ]
        },
        {
          "output_type": "stream",
          "name": "stderr",
          "text": [
            "Epoch [1544/3000]: 100%|██████████| 9/9 [00:00<00:00, 77.82it/s, loss=1.82]\n"
          ]
        },
        {
          "output_type": "stream",
          "name": "stdout",
          "text": [
            "Epoch [1544/3000]: Train loss: 1.8288, Valid loss: 1.8406\n"
          ]
        },
        {
          "output_type": "stream",
          "name": "stderr",
          "text": [
            "Epoch [1545/3000]: 100%|██████████| 9/9 [00:00<00:00, 93.26it/s, loss=1.57]\n"
          ]
        },
        {
          "output_type": "stream",
          "name": "stdout",
          "text": [
            "Epoch [1545/3000]: Train loss: 1.9593, Valid loss: 2.5093\n"
          ]
        },
        {
          "output_type": "stream",
          "name": "stderr",
          "text": [
            "Epoch [1546/3000]: 100%|██████████| 9/9 [00:00<00:00, 85.41it/s, loss=1.53]\n"
          ]
        },
        {
          "output_type": "stream",
          "name": "stdout",
          "text": [
            "Epoch [1546/3000]: Train loss: 1.9364, Valid loss: 2.4834\n"
          ]
        },
        {
          "output_type": "stream",
          "name": "stderr",
          "text": [
            "Epoch [1547/3000]: 100%|██████████| 9/9 [00:00<00:00, 84.40it/s, loss=2.46]\n"
          ]
        },
        {
          "output_type": "stream",
          "name": "stdout",
          "text": [
            "Epoch [1547/3000]: Train loss: 2.0358, Valid loss: 2.0220\n"
          ]
        },
        {
          "output_type": "stream",
          "name": "stderr",
          "text": [
            "Epoch [1548/3000]: 100%|██████████| 9/9 [00:00<00:00, 74.90it/s, loss=2.23]\n"
          ]
        },
        {
          "output_type": "stream",
          "name": "stdout",
          "text": [
            "Epoch [1548/3000]: Train loss: 1.9036, Valid loss: 2.1722\n"
          ]
        },
        {
          "output_type": "stream",
          "name": "stderr",
          "text": [
            "Epoch [1549/3000]: 100%|██████████| 9/9 [00:00<00:00, 84.38it/s, loss=1.41]\n"
          ]
        },
        {
          "output_type": "stream",
          "name": "stdout",
          "text": [
            "Epoch [1549/3000]: Train loss: 1.8329, Valid loss: 2.1125\n"
          ]
        },
        {
          "output_type": "stream",
          "name": "stderr",
          "text": [
            "Epoch [1550/3000]: 100%|██████████| 9/9 [00:00<00:00, 92.27it/s, loss=2.21]\n"
          ]
        },
        {
          "output_type": "stream",
          "name": "stdout",
          "text": [
            "Epoch [1550/3000]: Train loss: 1.8219, Valid loss: 1.8065\n"
          ]
        },
        {
          "output_type": "stream",
          "name": "stderr",
          "text": [
            "Epoch [1551/3000]: 100%|██████████| 9/9 [00:00<00:00, 69.43it/s, loss=2.27]\n"
          ]
        },
        {
          "output_type": "stream",
          "name": "stdout",
          "text": [
            "Epoch [1551/3000]: Train loss: 2.0332, Valid loss: 2.9656\n"
          ]
        },
        {
          "output_type": "stream",
          "name": "stderr",
          "text": [
            "Epoch [1552/3000]: 100%|██████████| 9/9 [00:00<00:00, 74.25it/s, loss=2.16]\n"
          ]
        },
        {
          "output_type": "stream",
          "name": "stdout",
          "text": [
            "Epoch [1552/3000]: Train loss: 1.9771, Valid loss: 1.8458\n"
          ]
        },
        {
          "output_type": "stream",
          "name": "stderr",
          "text": [
            "Epoch [1553/3000]: 100%|██████████| 9/9 [00:00<00:00, 101.12it/s, loss=3.03]\n"
          ]
        },
        {
          "output_type": "stream",
          "name": "stdout",
          "text": [
            "Epoch [1553/3000]: Train loss: 2.5656, Valid loss: 2.5655\n"
          ]
        },
        {
          "output_type": "stream",
          "name": "stderr",
          "text": [
            "Epoch [1554/3000]: 100%|██████████| 9/9 [00:00<00:00, 84.96it/s, loss=3.31]\n"
          ]
        },
        {
          "output_type": "stream",
          "name": "stdout",
          "text": [
            "Epoch [1554/3000]: Train loss: 2.7799, Valid loss: 4.0161\n"
          ]
        },
        {
          "output_type": "stream",
          "name": "stderr",
          "text": [
            "Epoch [1555/3000]: 100%|██████████| 9/9 [00:00<00:00, 94.26it/s, loss=2.68]\n"
          ]
        },
        {
          "output_type": "stream",
          "name": "stdout",
          "text": [
            "Epoch [1555/3000]: Train loss: 2.4229, Valid loss: 2.1327\n"
          ]
        },
        {
          "output_type": "stream",
          "name": "stderr",
          "text": [
            "Epoch [1556/3000]: 100%|██████████| 9/9 [00:00<00:00, 83.08it/s, loss=2.62]\n"
          ]
        },
        {
          "output_type": "stream",
          "name": "stdout",
          "text": [
            "Epoch [1556/3000]: Train loss: 1.9472, Valid loss: 2.2191\n"
          ]
        },
        {
          "output_type": "stream",
          "name": "stderr",
          "text": [
            "Epoch [1557/3000]: 100%|██████████| 9/9 [00:00<00:00, 85.01it/s, loss=1.85]\n"
          ]
        },
        {
          "output_type": "stream",
          "name": "stdout",
          "text": [
            "Epoch [1557/3000]: Train loss: 1.8403, Valid loss: 2.5795\n"
          ]
        },
        {
          "output_type": "stream",
          "name": "stderr",
          "text": [
            "Epoch [1558/3000]: 100%|██████████| 9/9 [00:00<00:00, 79.57it/s, loss=1.64]\n"
          ]
        },
        {
          "output_type": "stream",
          "name": "stdout",
          "text": [
            "Epoch [1558/3000]: Train loss: 1.9398, Valid loss: 2.1768\n"
          ]
        },
        {
          "output_type": "stream",
          "name": "stderr",
          "text": [
            "Epoch [1559/3000]: 100%|██████████| 9/9 [00:00<00:00, 81.06it/s, loss=1.87]\n"
          ]
        },
        {
          "output_type": "stream",
          "name": "stdout",
          "text": [
            "Epoch [1559/3000]: Train loss: 2.0185, Valid loss: 1.7636\n"
          ]
        },
        {
          "output_type": "stream",
          "name": "stderr",
          "text": [
            "Epoch [1560/3000]: 100%|██████████| 9/9 [00:00<00:00, 95.71it/s, loss=1.95]\n"
          ]
        },
        {
          "output_type": "stream",
          "name": "stdout",
          "text": [
            "Epoch [1560/3000]: Train loss: 1.8461, Valid loss: 1.9448\n"
          ]
        },
        {
          "output_type": "stream",
          "name": "stderr",
          "text": [
            "Epoch [1561/3000]: 100%|██████████| 9/9 [00:00<00:00, 95.79it/s, loss=2.33]\n"
          ]
        },
        {
          "output_type": "stream",
          "name": "stdout",
          "text": [
            "Epoch [1561/3000]: Train loss: 1.8879, Valid loss: 2.1162\n"
          ]
        },
        {
          "output_type": "stream",
          "name": "stderr",
          "text": [
            "Epoch [1562/3000]: 100%|██████████| 9/9 [00:00<00:00, 98.38it/s, loss=1.79]\n"
          ]
        },
        {
          "output_type": "stream",
          "name": "stdout",
          "text": [
            "Epoch [1562/3000]: Train loss: 1.7549, Valid loss: 2.1846\n"
          ]
        },
        {
          "output_type": "stream",
          "name": "stderr",
          "text": [
            "Epoch [1563/3000]: 100%|██████████| 9/9 [00:00<00:00, 91.96it/s, loss=1.35]\n"
          ]
        },
        {
          "output_type": "stream",
          "name": "stdout",
          "text": [
            "Epoch [1563/3000]: Train loss: 1.8194, Valid loss: 2.2550\n"
          ]
        },
        {
          "output_type": "stream",
          "name": "stderr",
          "text": [
            "Epoch [1564/3000]: 100%|██████████| 9/9 [00:00<00:00, 97.59it/s, loss=1.85]\n"
          ]
        },
        {
          "output_type": "stream",
          "name": "stdout",
          "text": [
            "Epoch [1564/3000]: Train loss: 1.7346, Valid loss: 1.8574\n"
          ]
        },
        {
          "output_type": "stream",
          "name": "stderr",
          "text": [
            "Epoch [1565/3000]: 100%|██████████| 9/9 [00:00<00:00, 85.04it/s, loss=2.19]\n"
          ]
        },
        {
          "output_type": "stream",
          "name": "stdout",
          "text": [
            "Epoch [1565/3000]: Train loss: 1.7957, Valid loss: 1.9794\n"
          ]
        },
        {
          "output_type": "stream",
          "name": "stderr",
          "text": [
            "Epoch [1566/3000]: 100%|██████████| 9/9 [00:00<00:00, 72.23it/s, loss=2.04]\n"
          ]
        },
        {
          "output_type": "stream",
          "name": "stdout",
          "text": [
            "Epoch [1566/3000]: Train loss: 1.9295, Valid loss: 2.3496\n"
          ]
        },
        {
          "output_type": "stream",
          "name": "stderr",
          "text": [
            "Epoch [1567/3000]: 100%|██████████| 9/9 [00:00<00:00, 83.39it/s, loss=1.74]\n"
          ]
        },
        {
          "output_type": "stream",
          "name": "stdout",
          "text": [
            "Epoch [1567/3000]: Train loss: 2.1192, Valid loss: 1.9833\n"
          ]
        },
        {
          "output_type": "stream",
          "name": "stderr",
          "text": [
            "Epoch [1568/3000]: 100%|██████████| 9/9 [00:00<00:00, 79.21it/s, loss=1.5]\n"
          ]
        },
        {
          "output_type": "stream",
          "name": "stdout",
          "text": [
            "Epoch [1568/3000]: Train loss: 1.8913, Valid loss: 1.9422\n"
          ]
        },
        {
          "output_type": "stream",
          "name": "stderr",
          "text": [
            "Epoch [1569/3000]: 100%|██████████| 9/9 [00:00<00:00, 75.52it/s, loss=1.61]\n"
          ]
        },
        {
          "output_type": "stream",
          "name": "stdout",
          "text": [
            "Epoch [1569/3000]: Train loss: 1.8018, Valid loss: 2.0185\n"
          ]
        },
        {
          "output_type": "stream",
          "name": "stderr",
          "text": [
            "Epoch [1570/3000]: 100%|██████████| 9/9 [00:00<00:00, 86.13it/s, loss=1.65]\n"
          ]
        },
        {
          "output_type": "stream",
          "name": "stdout",
          "text": [
            "Epoch [1570/3000]: Train loss: 1.7381, Valid loss: 2.0727\n"
          ]
        },
        {
          "output_type": "stream",
          "name": "stderr",
          "text": [
            "Epoch [1571/3000]: 100%|██████████| 9/9 [00:00<00:00, 76.55it/s, loss=1.93]\n"
          ]
        },
        {
          "output_type": "stream",
          "name": "stdout",
          "text": [
            "Epoch [1571/3000]: Train loss: 1.7250, Valid loss: 1.9851\n"
          ]
        },
        {
          "output_type": "stream",
          "name": "stderr",
          "text": [
            "Epoch [1572/3000]: 100%|██████████| 9/9 [00:00<00:00, 92.11it/s, loss=1.63]\n"
          ]
        },
        {
          "output_type": "stream",
          "name": "stdout",
          "text": [
            "Epoch [1572/3000]: Train loss: 1.8357, Valid loss: 1.7438\n"
          ]
        },
        {
          "output_type": "stream",
          "name": "stderr",
          "text": [
            "Epoch [1573/3000]: 100%|██████████| 9/9 [00:00<00:00, 83.16it/s, loss=1.72]\n"
          ]
        },
        {
          "output_type": "stream",
          "name": "stdout",
          "text": [
            "Epoch [1573/3000]: Train loss: 1.7708, Valid loss: 2.3798\n"
          ]
        },
        {
          "output_type": "stream",
          "name": "stderr",
          "text": [
            "Epoch [1574/3000]: 100%|██████████| 9/9 [00:00<00:00, 79.14it/s, loss=2.08]\n"
          ]
        },
        {
          "output_type": "stream",
          "name": "stdout",
          "text": [
            "Epoch [1574/3000]: Train loss: 1.7969, Valid loss: 1.9211\n"
          ]
        },
        {
          "output_type": "stream",
          "name": "stderr",
          "text": [
            "Epoch [1575/3000]: 100%|██████████| 9/9 [00:00<00:00, 85.62it/s, loss=1.49]\n"
          ]
        },
        {
          "output_type": "stream",
          "name": "stdout",
          "text": [
            "Epoch [1575/3000]: Train loss: 1.7100, Valid loss: 2.0950\n"
          ]
        },
        {
          "output_type": "stream",
          "name": "stderr",
          "text": [
            "Epoch [1576/3000]: 100%|██████████| 9/9 [00:00<00:00, 79.69it/s, loss=1.49]\n"
          ]
        },
        {
          "output_type": "stream",
          "name": "stdout",
          "text": [
            "Epoch [1576/3000]: Train loss: 1.6914, Valid loss: 2.1936\n"
          ]
        },
        {
          "output_type": "stream",
          "name": "stderr",
          "text": [
            "Epoch [1577/3000]: 100%|██████████| 9/9 [00:00<00:00, 83.78it/s, loss=1.79]\n"
          ]
        },
        {
          "output_type": "stream",
          "name": "stdout",
          "text": [
            "Epoch [1577/3000]: Train loss: 1.7132, Valid loss: 2.0272\n"
          ]
        },
        {
          "output_type": "stream",
          "name": "stderr",
          "text": [
            "Epoch [1578/3000]: 100%|██████████| 9/9 [00:00<00:00, 96.86it/s, loss=3.15]\n"
          ]
        },
        {
          "output_type": "stream",
          "name": "stdout",
          "text": [
            "Epoch [1578/3000]: Train loss: 1.9260, Valid loss: 3.0740\n"
          ]
        },
        {
          "output_type": "stream",
          "name": "stderr",
          "text": [
            "Epoch [1579/3000]: 100%|██████████| 9/9 [00:00<00:00, 102.86it/s, loss=1.56]\n"
          ]
        },
        {
          "output_type": "stream",
          "name": "stdout",
          "text": [
            "Epoch [1579/3000]: Train loss: 1.9132, Valid loss: 2.1365\n"
          ]
        },
        {
          "output_type": "stream",
          "name": "stderr",
          "text": [
            "Epoch [1580/3000]: 100%|██████████| 9/9 [00:00<00:00, 95.80it/s, loss=2.11]\n"
          ]
        },
        {
          "output_type": "stream",
          "name": "stdout",
          "text": [
            "Epoch [1580/3000]: Train loss: 1.8984, Valid loss: 2.8558\n"
          ]
        },
        {
          "output_type": "stream",
          "name": "stderr",
          "text": [
            "Epoch [1581/3000]: 100%|██████████| 9/9 [00:00<00:00, 93.15it/s, loss=2.27]\n"
          ]
        },
        {
          "output_type": "stream",
          "name": "stdout",
          "text": [
            "Epoch [1581/3000]: Train loss: 2.0790, Valid loss: 2.6107\n"
          ]
        },
        {
          "output_type": "stream",
          "name": "stderr",
          "text": [
            "Epoch [1582/3000]: 100%|██████████| 9/9 [00:00<00:00, 102.08it/s, loss=1.8]\n"
          ]
        },
        {
          "output_type": "stream",
          "name": "stdout",
          "text": [
            "Epoch [1582/3000]: Train loss: 1.9615, Valid loss: 2.1489\n"
          ]
        },
        {
          "output_type": "stream",
          "name": "stderr",
          "text": [
            "Epoch [1583/3000]: 100%|██████████| 9/9 [00:00<00:00, 81.32it/s, loss=2.87]\n"
          ]
        },
        {
          "output_type": "stream",
          "name": "stdout",
          "text": [
            "Epoch [1583/3000]: Train loss: 2.0527, Valid loss: 2.1188\n"
          ]
        },
        {
          "output_type": "stream",
          "name": "stderr",
          "text": [
            "Epoch [1584/3000]: 100%|██████████| 9/9 [00:00<00:00, 79.46it/s, loss=2.84]\n"
          ]
        },
        {
          "output_type": "stream",
          "name": "stdout",
          "text": [
            "Epoch [1584/3000]: Train loss: 2.0446, Valid loss: 4.9272\n"
          ]
        },
        {
          "output_type": "stream",
          "name": "stderr",
          "text": [
            "Epoch [1585/3000]: 100%|██████████| 9/9 [00:00<00:00, 96.85it/s, loss=2.53]\n"
          ]
        },
        {
          "output_type": "stream",
          "name": "stdout",
          "text": [
            "Epoch [1585/3000]: Train loss: 2.6878, Valid loss: 2.9764\n"
          ]
        },
        {
          "output_type": "stream",
          "name": "stderr",
          "text": [
            "Epoch [1586/3000]: 100%|██████████| 9/9 [00:00<00:00, 85.25it/s, loss=2.9]\n"
          ]
        },
        {
          "output_type": "stream",
          "name": "stdout",
          "text": [
            "Epoch [1586/3000]: Train loss: 2.5982, Valid loss: 2.0423\n"
          ]
        },
        {
          "output_type": "stream",
          "name": "stderr",
          "text": [
            "Epoch [1587/3000]: 100%|██████████| 9/9 [00:00<00:00, 89.19it/s, loss=2.23]\n"
          ]
        },
        {
          "output_type": "stream",
          "name": "stdout",
          "text": [
            "Epoch [1587/3000]: Train loss: 2.0522, Valid loss: 3.0381\n"
          ]
        },
        {
          "output_type": "stream",
          "name": "stderr",
          "text": [
            "Epoch [1588/3000]: 100%|██████████| 9/9 [00:00<00:00, 95.99it/s, loss=1.59]\n"
          ]
        },
        {
          "output_type": "stream",
          "name": "stdout",
          "text": [
            "Epoch [1588/3000]: Train loss: 2.0564, Valid loss: 1.9870\n"
          ]
        },
        {
          "output_type": "stream",
          "name": "stderr",
          "text": [
            "Epoch [1589/3000]: 100%|██████████| 9/9 [00:00<00:00, 98.09it/s, loss=2.28]\n"
          ]
        },
        {
          "output_type": "stream",
          "name": "stdout",
          "text": [
            "Epoch [1589/3000]: Train loss: 2.3165, Valid loss: 2.5813\n"
          ]
        },
        {
          "output_type": "stream",
          "name": "stderr",
          "text": [
            "Epoch [1590/3000]: 100%|██████████| 9/9 [00:00<00:00, 93.90it/s, loss=1.88]\n"
          ]
        },
        {
          "output_type": "stream",
          "name": "stdout",
          "text": [
            "Epoch [1590/3000]: Train loss: 1.8799, Valid loss: 1.9735\n"
          ]
        },
        {
          "output_type": "stream",
          "name": "stderr",
          "text": [
            "Epoch [1591/3000]: 100%|██████████| 9/9 [00:00<00:00, 84.19it/s, loss=1.81]\n"
          ]
        },
        {
          "output_type": "stream",
          "name": "stdout",
          "text": [
            "Epoch [1591/3000]: Train loss: 2.0912, Valid loss: 3.0172\n"
          ]
        },
        {
          "output_type": "stream",
          "name": "stderr",
          "text": [
            "Epoch [1592/3000]: 100%|██████████| 9/9 [00:00<00:00, 77.69it/s, loss=2.19]\n"
          ]
        },
        {
          "output_type": "stream",
          "name": "stdout",
          "text": [
            "Epoch [1592/3000]: Train loss: 2.1556, Valid loss: 2.1342\n"
          ]
        },
        {
          "output_type": "stream",
          "name": "stderr",
          "text": [
            "Epoch [1593/3000]: 100%|██████████| 9/9 [00:00<00:00, 85.31it/s, loss=2.39]\n"
          ]
        },
        {
          "output_type": "stream",
          "name": "stdout",
          "text": [
            "Epoch [1593/3000]: Train loss: 1.7593, Valid loss: 2.4390\n"
          ]
        },
        {
          "output_type": "stream",
          "name": "stderr",
          "text": [
            "Epoch [1594/3000]: 100%|██████████| 9/9 [00:00<00:00, 75.27it/s, loss=1.44]\n"
          ]
        },
        {
          "output_type": "stream",
          "name": "stdout",
          "text": [
            "Epoch [1594/3000]: Train loss: 1.7450, Valid loss: 2.1496\n"
          ]
        },
        {
          "output_type": "stream",
          "name": "stderr",
          "text": [
            "Epoch [1595/3000]: 100%|██████████| 9/9 [00:00<00:00, 79.79it/s, loss=1.82]\n"
          ]
        },
        {
          "output_type": "stream",
          "name": "stdout",
          "text": [
            "Epoch [1595/3000]: Train loss: 1.8884, Valid loss: 1.9343\n"
          ]
        },
        {
          "output_type": "stream",
          "name": "stderr",
          "text": [
            "Epoch [1596/3000]: 100%|██████████| 9/9 [00:00<00:00, 84.33it/s, loss=2.01]\n"
          ]
        },
        {
          "output_type": "stream",
          "name": "stdout",
          "text": [
            "Epoch [1596/3000]: Train loss: 1.8357, Valid loss: 1.9313\n"
          ]
        },
        {
          "output_type": "stream",
          "name": "stderr",
          "text": [
            "Epoch [1597/3000]: 100%|██████████| 9/9 [00:00<00:00, 81.97it/s, loss=3.71]\n"
          ]
        },
        {
          "output_type": "stream",
          "name": "stdout",
          "text": [
            "Epoch [1597/3000]: Train loss: 2.3687, Valid loss: 2.9185\n"
          ]
        },
        {
          "output_type": "stream",
          "name": "stderr",
          "text": [
            "Epoch [1598/3000]: 100%|██████████| 9/9 [00:00<00:00, 80.55it/s, loss=1.68]\n"
          ]
        },
        {
          "output_type": "stream",
          "name": "stdout",
          "text": [
            "Epoch [1598/3000]: Train loss: 2.0960, Valid loss: 2.3433\n"
          ]
        },
        {
          "output_type": "stream",
          "name": "stderr",
          "text": [
            "Epoch [1599/3000]: 100%|██████████| 9/9 [00:00<00:00, 77.76it/s, loss=1.81]\n"
          ]
        },
        {
          "output_type": "stream",
          "name": "stdout",
          "text": [
            "Epoch [1599/3000]: Train loss: 1.8314, Valid loss: 2.3063\n"
          ]
        },
        {
          "output_type": "stream",
          "name": "stderr",
          "text": [
            "Epoch [1600/3000]: 100%|██████████| 9/9 [00:00<00:00, 77.71it/s, loss=2.01]\n"
          ]
        },
        {
          "output_type": "stream",
          "name": "stdout",
          "text": [
            "Epoch [1600/3000]: Train loss: 1.8864, Valid loss: 1.7534\n"
          ]
        },
        {
          "output_type": "stream",
          "name": "stderr",
          "text": [
            "Epoch [1601/3000]: 100%|██████████| 9/9 [00:00<00:00, 82.80it/s, loss=1.81]\n"
          ]
        },
        {
          "output_type": "stream",
          "name": "stdout",
          "text": [
            "Epoch [1601/3000]: Train loss: 1.7619, Valid loss: 2.6291\n"
          ]
        },
        {
          "output_type": "stream",
          "name": "stderr",
          "text": [
            "Epoch [1602/3000]: 100%|██████████| 9/9 [00:00<00:00, 66.82it/s, loss=1.61]\n"
          ]
        },
        {
          "output_type": "stream",
          "name": "stdout",
          "text": [
            "Epoch [1602/3000]: Train loss: 1.8781, Valid loss: 2.8574\n"
          ]
        },
        {
          "output_type": "stream",
          "name": "stderr",
          "text": [
            "Epoch [1603/3000]: 100%|██████████| 9/9 [00:00<00:00, 65.90it/s, loss=2.99]\n"
          ]
        },
        {
          "output_type": "stream",
          "name": "stdout",
          "text": [
            "Epoch [1603/3000]: Train loss: 2.1514, Valid loss: 2.5264\n"
          ]
        },
        {
          "output_type": "stream",
          "name": "stderr",
          "text": [
            "Epoch [1604/3000]: 100%|██████████| 9/9 [00:00<00:00, 82.66it/s, loss=1.38]\n"
          ]
        },
        {
          "output_type": "stream",
          "name": "stdout",
          "text": [
            "Epoch [1604/3000]: Train loss: 1.9262, Valid loss: 2.6980\n"
          ]
        },
        {
          "output_type": "stream",
          "name": "stderr",
          "text": [
            "Epoch [1605/3000]: 100%|██████████| 9/9 [00:00<00:00, 71.86it/s, loss=1.5]\n"
          ]
        },
        {
          "output_type": "stream",
          "name": "stdout",
          "text": [
            "Epoch [1605/3000]: Train loss: 1.8310, Valid loss: 1.7798\n"
          ]
        },
        {
          "output_type": "stream",
          "name": "stderr",
          "text": [
            "Epoch [1606/3000]: 100%|██████████| 9/9 [00:00<00:00, 84.29it/s, loss=1.3]\n"
          ]
        },
        {
          "output_type": "stream",
          "name": "stdout",
          "text": [
            "Epoch [1606/3000]: Train loss: 1.6877, Valid loss: 2.6763\n"
          ]
        },
        {
          "output_type": "stream",
          "name": "stderr",
          "text": [
            "Epoch [1607/3000]: 100%|██████████| 9/9 [00:00<00:00, 74.16it/s, loss=2.13]\n"
          ]
        },
        {
          "output_type": "stream",
          "name": "stdout",
          "text": [
            "Epoch [1607/3000]: Train loss: 1.9398, Valid loss: 2.6095\n"
          ]
        },
        {
          "output_type": "stream",
          "name": "stderr",
          "text": [
            "Epoch [1608/3000]: 100%|██████████| 9/9 [00:00<00:00, 67.40it/s, loss=1.37]\n"
          ]
        },
        {
          "output_type": "stream",
          "name": "stdout",
          "text": [
            "Epoch [1608/3000]: Train loss: 1.7391, Valid loss: 2.0340\n"
          ]
        },
        {
          "output_type": "stream",
          "name": "stderr",
          "text": [
            "Epoch [1609/3000]: 100%|██████████| 9/9 [00:00<00:00, 91.55it/s, loss=1.52]\n"
          ]
        },
        {
          "output_type": "stream",
          "name": "stdout",
          "text": [
            "Epoch [1609/3000]: Train loss: 1.7663, Valid loss: 2.2467\n"
          ]
        },
        {
          "output_type": "stream",
          "name": "stderr",
          "text": [
            "Epoch [1610/3000]: 100%|██████████| 9/9 [00:00<00:00, 96.14it/s, loss=2.25]\n"
          ]
        },
        {
          "output_type": "stream",
          "name": "stdout",
          "text": [
            "Epoch [1610/3000]: Train loss: 1.7392, Valid loss: 1.8085\n"
          ]
        },
        {
          "output_type": "stream",
          "name": "stderr",
          "text": [
            "Epoch [1611/3000]: 100%|██████████| 9/9 [00:00<00:00, 91.78it/s, loss=1.4]\n"
          ]
        },
        {
          "output_type": "stream",
          "name": "stdout",
          "text": [
            "Epoch [1611/3000]: Train loss: 1.7519, Valid loss: 1.8575\n"
          ]
        },
        {
          "output_type": "stream",
          "name": "stderr",
          "text": [
            "Epoch [1612/3000]: 100%|██████████| 9/9 [00:00<00:00, 93.33it/s, loss=1.93]\n"
          ]
        },
        {
          "output_type": "stream",
          "name": "stdout",
          "text": [
            "Epoch [1612/3000]: Train loss: 1.7263, Valid loss: 1.9273\n"
          ]
        },
        {
          "output_type": "stream",
          "name": "stderr",
          "text": [
            "Epoch [1613/3000]: 100%|██████████| 9/9 [00:00<00:00, 80.15it/s, loss=1.52]\n"
          ]
        },
        {
          "output_type": "stream",
          "name": "stdout",
          "text": [
            "Epoch [1613/3000]: Train loss: 1.7219, Valid loss: 1.8950\n"
          ]
        },
        {
          "output_type": "stream",
          "name": "stderr",
          "text": [
            "Epoch [1614/3000]: 100%|██████████| 9/9 [00:00<00:00, 73.90it/s, loss=2.12]\n"
          ]
        },
        {
          "output_type": "stream",
          "name": "stdout",
          "text": [
            "Epoch [1614/3000]: Train loss: 1.7936, Valid loss: 2.1623\n"
          ]
        },
        {
          "output_type": "stream",
          "name": "stderr",
          "text": [
            "Epoch [1615/3000]: 100%|██████████| 9/9 [00:00<00:00, 92.88it/s, loss=1.75]\n"
          ]
        },
        {
          "output_type": "stream",
          "name": "stdout",
          "text": [
            "Epoch [1615/3000]: Train loss: 1.9070, Valid loss: 1.8244\n"
          ]
        },
        {
          "output_type": "stream",
          "name": "stderr",
          "text": [
            "Epoch [1616/3000]: 100%|██████████| 9/9 [00:00<00:00, 94.98it/s, loss=1.84]\n"
          ]
        },
        {
          "output_type": "stream",
          "name": "stdout",
          "text": [
            "Epoch [1616/3000]: Train loss: 1.9844, Valid loss: 3.1008\n"
          ]
        },
        {
          "output_type": "stream",
          "name": "stderr",
          "text": [
            "Epoch [1617/3000]: 100%|██████████| 9/9 [00:00<00:00, 85.70it/s, loss=1.94]\n"
          ]
        },
        {
          "output_type": "stream",
          "name": "stdout",
          "text": [
            "Epoch [1617/3000]: Train loss: 2.2552, Valid loss: 2.1426\n"
          ]
        },
        {
          "output_type": "stream",
          "name": "stderr",
          "text": [
            "Epoch [1618/3000]: 100%|██████████| 9/9 [00:00<00:00, 78.81it/s, loss=1.47]\n"
          ]
        },
        {
          "output_type": "stream",
          "name": "stdout",
          "text": [
            "Epoch [1618/3000]: Train loss: 1.7289, Valid loss: 1.8277\n"
          ]
        },
        {
          "output_type": "stream",
          "name": "stderr",
          "text": [
            "Epoch [1619/3000]: 100%|██████████| 9/9 [00:00<00:00, 85.03it/s, loss=1.47]\n"
          ]
        },
        {
          "output_type": "stream",
          "name": "stdout",
          "text": [
            "Epoch [1619/3000]: Train loss: 1.7639, Valid loss: 1.8436\n"
          ]
        },
        {
          "output_type": "stream",
          "name": "stderr",
          "text": [
            "Epoch [1620/3000]: 100%|██████████| 9/9 [00:00<00:00, 77.37it/s, loss=1.3]\n"
          ]
        },
        {
          "output_type": "stream",
          "name": "stdout",
          "text": [
            "Epoch [1620/3000]: Train loss: 1.6780, Valid loss: 2.6639\n"
          ]
        },
        {
          "output_type": "stream",
          "name": "stderr",
          "text": [
            "Epoch [1621/3000]: 100%|██████████| 9/9 [00:00<00:00, 79.32it/s, loss=2.01]\n"
          ]
        },
        {
          "output_type": "stream",
          "name": "stdout",
          "text": [
            "Epoch [1621/3000]: Train loss: 2.0410, Valid loss: 3.2088\n"
          ]
        },
        {
          "output_type": "stream",
          "name": "stderr",
          "text": [
            "Epoch [1622/3000]: 100%|██████████| 9/9 [00:00<00:00, 83.63it/s, loss=2.22]\n"
          ]
        },
        {
          "output_type": "stream",
          "name": "stdout",
          "text": [
            "Epoch [1622/3000]: Train loss: 2.4499, Valid loss: 2.9460\n"
          ]
        },
        {
          "output_type": "stream",
          "name": "stderr",
          "text": [
            "Epoch [1623/3000]: 100%|██████████| 9/9 [00:00<00:00, 84.44it/s, loss=2.43]\n"
          ]
        },
        {
          "output_type": "stream",
          "name": "stdout",
          "text": [
            "Epoch [1623/3000]: Train loss: 2.3300, Valid loss: 2.1197\n"
          ]
        },
        {
          "output_type": "stream",
          "name": "stderr",
          "text": [
            "Epoch [1624/3000]: 100%|██████████| 9/9 [00:00<00:00, 92.04it/s, loss=6.35]\n"
          ]
        },
        {
          "output_type": "stream",
          "name": "stdout",
          "text": [
            "Epoch [1624/3000]: Train loss: 3.4310, Valid loss: 2.0968\n"
          ]
        },
        {
          "output_type": "stream",
          "name": "stderr",
          "text": [
            "Epoch [1625/3000]: 100%|██████████| 9/9 [00:00<00:00, 98.30it/s, loss=5.43]\n"
          ]
        },
        {
          "output_type": "stream",
          "name": "stdout",
          "text": [
            "Epoch [1625/3000]: Train loss: 3.0238, Valid loss: 3.2104\n"
          ]
        },
        {
          "output_type": "stream",
          "name": "stderr",
          "text": [
            "Epoch [1626/3000]: 100%|██████████| 9/9 [00:00<00:00, 96.52it/s, loss=2.05]\n"
          ]
        },
        {
          "output_type": "stream",
          "name": "stdout",
          "text": [
            "Epoch [1626/3000]: Train loss: 2.1462, Valid loss: 2.0146\n"
          ]
        },
        {
          "output_type": "stream",
          "name": "stderr",
          "text": [
            "Epoch [1627/3000]: 100%|██████████| 9/9 [00:00<00:00, 90.63it/s, loss=1.8]\n"
          ]
        },
        {
          "output_type": "stream",
          "name": "stdout",
          "text": [
            "Epoch [1627/3000]: Train loss: 1.7639, Valid loss: 2.2317\n"
          ]
        },
        {
          "output_type": "stream",
          "name": "stderr",
          "text": [
            "Epoch [1628/3000]: 100%|██████████| 9/9 [00:00<00:00, 98.20it/s, loss=2.23]\n"
          ]
        },
        {
          "output_type": "stream",
          "name": "stdout",
          "text": [
            "Epoch [1628/3000]: Train loss: 1.8892, Valid loss: 2.0399\n"
          ]
        },
        {
          "output_type": "stream",
          "name": "stderr",
          "text": [
            "Epoch [1629/3000]: 100%|██████████| 9/9 [00:00<00:00, 70.64it/s, loss=1.57]\n"
          ]
        },
        {
          "output_type": "stream",
          "name": "stdout",
          "text": [
            "Epoch [1629/3000]: Train loss: 1.8549, Valid loss: 2.0776\n"
          ]
        },
        {
          "output_type": "stream",
          "name": "stderr",
          "text": [
            "Epoch [1630/3000]: 100%|██████████| 9/9 [00:00<00:00, 73.35it/s, loss=1.99]\n"
          ]
        },
        {
          "output_type": "stream",
          "name": "stdout",
          "text": [
            "Epoch [1630/3000]: Train loss: 1.9299, Valid loss: 1.8902\n"
          ]
        },
        {
          "output_type": "stream",
          "name": "stderr",
          "text": [
            "Epoch [1631/3000]: 100%|██████████| 9/9 [00:00<00:00, 73.59it/s, loss=1.38]\n"
          ]
        },
        {
          "output_type": "stream",
          "name": "stdout",
          "text": [
            "Epoch [1631/3000]: Train loss: 1.8967, Valid loss: 3.0401\n"
          ]
        },
        {
          "output_type": "stream",
          "name": "stderr",
          "text": [
            "Epoch [1632/3000]: 100%|██████████| 9/9 [00:00<00:00, 86.85it/s, loss=2.06]\n"
          ]
        },
        {
          "output_type": "stream",
          "name": "stdout",
          "text": [
            "Epoch [1632/3000]: Train loss: 1.8832, Valid loss: 2.6950\n"
          ]
        },
        {
          "output_type": "stream",
          "name": "stderr",
          "text": [
            "Epoch [1633/3000]: 100%|██████████| 9/9 [00:00<00:00, 79.65it/s, loss=1.72]\n"
          ]
        },
        {
          "output_type": "stream",
          "name": "stdout",
          "text": [
            "Epoch [1633/3000]: Train loss: 1.8925, Valid loss: 1.7759\n"
          ]
        },
        {
          "output_type": "stream",
          "name": "stderr",
          "text": [
            "Epoch [1634/3000]: 100%|██████████| 9/9 [00:00<00:00, 93.79it/s, loss=1.97]\n"
          ]
        },
        {
          "output_type": "stream",
          "name": "stdout",
          "text": [
            "Epoch [1634/3000]: Train loss: 1.7327, Valid loss: 1.8744\n"
          ]
        },
        {
          "output_type": "stream",
          "name": "stderr",
          "text": [
            "Epoch [1635/3000]: 100%|██████████| 9/9 [00:00<00:00, 82.04it/s, loss=1.4]\n"
          ]
        },
        {
          "output_type": "stream",
          "name": "stdout",
          "text": [
            "Epoch [1635/3000]: Train loss: 1.9268, Valid loss: 2.2321\n"
          ]
        },
        {
          "output_type": "stream",
          "name": "stderr",
          "text": [
            "Epoch [1636/3000]: 100%|██████████| 9/9 [00:00<00:00, 83.26it/s, loss=1.27]\n"
          ]
        },
        {
          "output_type": "stream",
          "name": "stdout",
          "text": [
            "Epoch [1636/3000]: Train loss: 1.6946, Valid loss: 2.0889\n"
          ]
        },
        {
          "output_type": "stream",
          "name": "stderr",
          "text": [
            "Epoch [1637/3000]: 100%|██████████| 9/9 [00:00<00:00, 77.43it/s, loss=1.8]\n"
          ]
        },
        {
          "output_type": "stream",
          "name": "stdout",
          "text": [
            "Epoch [1637/3000]: Train loss: 1.7495, Valid loss: 2.0030\n"
          ]
        },
        {
          "output_type": "stream",
          "name": "stderr",
          "text": [
            "Epoch [1638/3000]: 100%|██████████| 9/9 [00:00<00:00, 79.30it/s, loss=2.07]\n"
          ]
        },
        {
          "output_type": "stream",
          "name": "stdout",
          "text": [
            "Epoch [1638/3000]: Train loss: 1.7474, Valid loss: 2.2508\n"
          ]
        },
        {
          "output_type": "stream",
          "name": "stderr",
          "text": [
            "Epoch [1639/3000]: 100%|██████████| 9/9 [00:00<00:00, 91.36it/s, loss=1.86]\n"
          ]
        },
        {
          "output_type": "stream",
          "name": "stdout",
          "text": [
            "Epoch [1639/3000]: Train loss: 1.9296, Valid loss: 1.8268\n"
          ]
        },
        {
          "output_type": "stream",
          "name": "stderr",
          "text": [
            "Epoch [1640/3000]: 100%|██████████| 9/9 [00:00<00:00, 91.27it/s, loss=1.64]\n"
          ]
        },
        {
          "output_type": "stream",
          "name": "stdout",
          "text": [
            "Epoch [1640/3000]: Train loss: 1.7877, Valid loss: 1.9096\n"
          ]
        },
        {
          "output_type": "stream",
          "name": "stderr",
          "text": [
            "Epoch [1641/3000]: 100%|██████████| 9/9 [00:00<00:00, 83.13it/s, loss=1.59]\n"
          ]
        },
        {
          "output_type": "stream",
          "name": "stdout",
          "text": [
            "Epoch [1641/3000]: Train loss: 1.7398, Valid loss: 1.7449\n"
          ]
        },
        {
          "output_type": "stream",
          "name": "stderr",
          "text": [
            "Epoch [1642/3000]: 100%|██████████| 9/9 [00:00<00:00, 97.24it/s, loss=2.56]\n"
          ]
        },
        {
          "output_type": "stream",
          "name": "stdout",
          "text": [
            "Epoch [1642/3000]: Train loss: 1.7944, Valid loss: 2.2653\n"
          ]
        },
        {
          "output_type": "stream",
          "name": "stderr",
          "text": [
            "Epoch [1643/3000]: 100%|██████████| 9/9 [00:00<00:00, 92.44it/s, loss=2.65]\n"
          ]
        },
        {
          "output_type": "stream",
          "name": "stdout",
          "text": [
            "Epoch [1643/3000]: Train loss: 2.0673, Valid loss: 3.4761\n"
          ]
        },
        {
          "output_type": "stream",
          "name": "stderr",
          "text": [
            "Epoch [1644/3000]: 100%|██████████| 9/9 [00:00<00:00, 98.93it/s, loss=3.81]\n"
          ]
        },
        {
          "output_type": "stream",
          "name": "stdout",
          "text": [
            "Epoch [1644/3000]: Train loss: 2.9611, Valid loss: 2.1480\n"
          ]
        },
        {
          "output_type": "stream",
          "name": "stderr",
          "text": [
            "Epoch [1645/3000]: 100%|██████████| 9/9 [00:00<00:00, 95.60it/s, loss=3.97]\n"
          ]
        },
        {
          "output_type": "stream",
          "name": "stdout",
          "text": [
            "Epoch [1645/3000]: Train loss: 2.7090, Valid loss: 4.4880\n"
          ]
        },
        {
          "output_type": "stream",
          "name": "stderr",
          "text": [
            "Epoch [1646/3000]: 100%|██████████| 9/9 [00:00<00:00, 32.49it/s, loss=2.32]\n"
          ]
        },
        {
          "output_type": "stream",
          "name": "stdout",
          "text": [
            "Epoch [1646/3000]: Train loss: 2.6806, Valid loss: 3.3580\n"
          ]
        },
        {
          "output_type": "stream",
          "name": "stderr",
          "text": [
            "Epoch [1647/3000]: 100%|██████████| 9/9 [00:00<00:00, 98.73it/s, loss=1.64]\n"
          ]
        },
        {
          "output_type": "stream",
          "name": "stdout",
          "text": [
            "Epoch [1647/3000]: Train loss: 2.1119, Valid loss: 3.1748\n"
          ]
        },
        {
          "output_type": "stream",
          "name": "stderr",
          "text": [
            "Epoch [1648/3000]: 100%|██████████| 9/9 [00:00<00:00, 101.95it/s, loss=3.13]\n"
          ]
        },
        {
          "output_type": "stream",
          "name": "stdout",
          "text": [
            "Epoch [1648/3000]: Train loss: 2.3044, Valid loss: 1.9723\n"
          ]
        },
        {
          "output_type": "stream",
          "name": "stderr",
          "text": [
            "Epoch [1649/3000]: 100%|██████████| 9/9 [00:00<00:00, 102.81it/s, loss=1.32]\n"
          ]
        },
        {
          "output_type": "stream",
          "name": "stdout",
          "text": [
            "Epoch [1649/3000]: Train loss: 1.9358, Valid loss: 2.8132\n"
          ]
        },
        {
          "output_type": "stream",
          "name": "stderr",
          "text": [
            "Epoch [1650/3000]: 100%|██████████| 9/9 [00:00<00:00, 97.72it/s, loss=2.35]\n"
          ]
        },
        {
          "output_type": "stream",
          "name": "stdout",
          "text": [
            "Epoch [1650/3000]: Train loss: 2.2356, Valid loss: 2.2442\n"
          ]
        },
        {
          "output_type": "stream",
          "name": "stderr",
          "text": [
            "Epoch [1651/3000]: 100%|██████████| 9/9 [00:00<00:00, 96.62it/s, loss=2.41]\n"
          ]
        },
        {
          "output_type": "stream",
          "name": "stdout",
          "text": [
            "Epoch [1651/3000]: Train loss: 2.0699, Valid loss: 4.2553\n"
          ]
        },
        {
          "output_type": "stream",
          "name": "stderr",
          "text": [
            "Epoch [1652/3000]: 100%|██████████| 9/9 [00:00<00:00, 100.13it/s, loss=1.53]\n"
          ]
        },
        {
          "output_type": "stream",
          "name": "stdout",
          "text": [
            "Epoch [1652/3000]: Train loss: 2.5399, Valid loss: 3.0780\n"
          ]
        },
        {
          "output_type": "stream",
          "name": "stderr",
          "text": [
            "Epoch [1653/3000]: 100%|██████████| 9/9 [00:00<00:00, 99.17it/s, loss=1.23]\n"
          ]
        },
        {
          "output_type": "stream",
          "name": "stdout",
          "text": [
            "Epoch [1653/3000]: Train loss: 2.0160, Valid loss: 2.3221\n"
          ]
        },
        {
          "output_type": "stream",
          "name": "stderr",
          "text": [
            "Epoch [1654/3000]: 100%|██████████| 9/9 [00:00<00:00, 100.29it/s, loss=1.61]\n"
          ]
        },
        {
          "output_type": "stream",
          "name": "stdout",
          "text": [
            "Epoch [1654/3000]: Train loss: 1.6827, Valid loss: 2.1306\n"
          ]
        },
        {
          "output_type": "stream",
          "name": "stderr",
          "text": [
            "Epoch [1655/3000]: 100%|██████████| 9/9 [00:00<00:00, 84.20it/s, loss=1.99]\n"
          ]
        },
        {
          "output_type": "stream",
          "name": "stdout",
          "text": [
            "Epoch [1655/3000]: Train loss: 1.8714, Valid loss: 2.1838\n"
          ]
        },
        {
          "output_type": "stream",
          "name": "stderr",
          "text": [
            "Epoch [1656/3000]: 100%|██████████| 9/9 [00:00<00:00, 85.21it/s, loss=1.73]\n"
          ]
        },
        {
          "output_type": "stream",
          "name": "stdout",
          "text": [
            "Epoch [1656/3000]: Train loss: 2.0907, Valid loss: 2.8705\n"
          ]
        },
        {
          "output_type": "stream",
          "name": "stderr",
          "text": [
            "Epoch [1657/3000]: 100%|██████████| 9/9 [00:00<00:00, 86.81it/s, loss=2.28]\n"
          ]
        },
        {
          "output_type": "stream",
          "name": "stdout",
          "text": [
            "Epoch [1657/3000]: Train loss: 2.0486, Valid loss: 1.8291\n"
          ]
        },
        {
          "output_type": "stream",
          "name": "stderr",
          "text": [
            "Epoch [1658/3000]: 100%|██████████| 9/9 [00:00<00:00, 90.20it/s, loss=1.65]\n"
          ]
        },
        {
          "output_type": "stream",
          "name": "stdout",
          "text": [
            "Epoch [1658/3000]: Train loss: 1.7994, Valid loss: 2.4245\n"
          ]
        },
        {
          "output_type": "stream",
          "name": "stderr",
          "text": [
            "Epoch [1659/3000]: 100%|██████████| 9/9 [00:00<00:00, 67.57it/s, loss=1.65]\n"
          ]
        },
        {
          "output_type": "stream",
          "name": "stdout",
          "text": [
            "Epoch [1659/3000]: Train loss: 2.2423, Valid loss: 2.5959\n"
          ]
        },
        {
          "output_type": "stream",
          "name": "stderr",
          "text": [
            "Epoch [1660/3000]: 100%|██████████| 9/9 [00:00<00:00, 98.93it/s, loss=3.11]\n"
          ]
        },
        {
          "output_type": "stream",
          "name": "stdout",
          "text": [
            "Epoch [1660/3000]: Train loss: 2.3558, Valid loss: 2.7119\n"
          ]
        },
        {
          "output_type": "stream",
          "name": "stderr",
          "text": [
            "Epoch [1661/3000]: 100%|██████████| 9/9 [00:00<00:00, 95.49it/s, loss=2.23]\n"
          ]
        },
        {
          "output_type": "stream",
          "name": "stdout",
          "text": [
            "Epoch [1661/3000]: Train loss: 2.1885, Valid loss: 2.1148\n"
          ]
        },
        {
          "output_type": "stream",
          "name": "stderr",
          "text": [
            "Epoch [1662/3000]: 100%|██████████| 9/9 [00:00<00:00, 97.73it/s, loss=2.82]\n"
          ]
        },
        {
          "output_type": "stream",
          "name": "stdout",
          "text": [
            "Epoch [1662/3000]: Train loss: 1.9448, Valid loss: 2.1179\n"
          ]
        },
        {
          "output_type": "stream",
          "name": "stderr",
          "text": [
            "Epoch [1663/3000]: 100%|██████████| 9/9 [00:00<00:00, 97.37it/s, loss=1.98]\n"
          ]
        },
        {
          "output_type": "stream",
          "name": "stdout",
          "text": [
            "Epoch [1663/3000]: Train loss: 2.0372, Valid loss: 2.2402\n"
          ]
        },
        {
          "output_type": "stream",
          "name": "stderr",
          "text": [
            "Epoch [1664/3000]: 100%|██████████| 9/9 [00:00<00:00, 93.63it/s, loss=1.87]\n"
          ]
        },
        {
          "output_type": "stream",
          "name": "stdout",
          "text": [
            "Epoch [1664/3000]: Train loss: 1.9926, Valid loss: 2.5258\n"
          ]
        },
        {
          "output_type": "stream",
          "name": "stderr",
          "text": [
            "Epoch [1665/3000]: 100%|██████████| 9/9 [00:00<00:00, 89.84it/s, loss=2.59]\n"
          ]
        },
        {
          "output_type": "stream",
          "name": "stdout",
          "text": [
            "Epoch [1665/3000]: Train loss: 1.9374, Valid loss: 1.6642\n"
          ]
        },
        {
          "output_type": "stream",
          "name": "stderr",
          "text": [
            "Epoch [1666/3000]: 100%|██████████| 9/9 [00:00<00:00, 100.84it/s, loss=1.93]\n"
          ]
        },
        {
          "output_type": "stream",
          "name": "stdout",
          "text": [
            "Epoch [1666/3000]: Train loss: 1.8902, Valid loss: 1.8506\n"
          ]
        },
        {
          "output_type": "stream",
          "name": "stderr",
          "text": [
            "Epoch [1667/3000]: 100%|██████████| 9/9 [00:00<00:00, 84.47it/s, loss=3.26]\n"
          ]
        },
        {
          "output_type": "stream",
          "name": "stdout",
          "text": [
            "Epoch [1667/3000]: Train loss: 2.2511, Valid loss: 1.9798\n"
          ]
        },
        {
          "output_type": "stream",
          "name": "stderr",
          "text": [
            "Epoch [1668/3000]: 100%|██████████| 9/9 [00:00<00:00, 80.32it/s, loss=2.05]\n"
          ]
        },
        {
          "output_type": "stream",
          "name": "stdout",
          "text": [
            "Epoch [1668/3000]: Train loss: 2.3744, Valid loss: 2.6453\n"
          ]
        },
        {
          "output_type": "stream",
          "name": "stderr",
          "text": [
            "Epoch [1669/3000]: 100%|██████████| 9/9 [00:00<00:00, 85.30it/s, loss=3.09]\n"
          ]
        },
        {
          "output_type": "stream",
          "name": "stdout",
          "text": [
            "Epoch [1669/3000]: Train loss: 2.1774, Valid loss: 2.5122\n"
          ]
        },
        {
          "output_type": "stream",
          "name": "stderr",
          "text": [
            "Epoch [1670/3000]: 100%|██████████| 9/9 [00:00<00:00, 86.52it/s, loss=2.68]\n"
          ]
        },
        {
          "output_type": "stream",
          "name": "stdout",
          "text": [
            "Epoch [1670/3000]: Train loss: 2.0043, Valid loss: 2.7789\n"
          ]
        },
        {
          "output_type": "stream",
          "name": "stderr",
          "text": [
            "Epoch [1671/3000]: 100%|██████████| 9/9 [00:00<00:00, 92.18it/s, loss=1.53]\n"
          ]
        },
        {
          "output_type": "stream",
          "name": "stdout",
          "text": [
            "Epoch [1671/3000]: Train loss: 2.0392, Valid loss: 3.4357\n"
          ]
        },
        {
          "output_type": "stream",
          "name": "stderr",
          "text": [
            "Epoch [1672/3000]: 100%|██████████| 9/9 [00:00<00:00, 86.21it/s, loss=1.93]\n"
          ]
        },
        {
          "output_type": "stream",
          "name": "stdout",
          "text": [
            "Epoch [1672/3000]: Train loss: 2.6071, Valid loss: 3.6096\n"
          ]
        },
        {
          "output_type": "stream",
          "name": "stderr",
          "text": [
            "Epoch [1673/3000]: 100%|██████████| 9/9 [00:00<00:00, 81.35it/s, loss=1.78]\n"
          ]
        },
        {
          "output_type": "stream",
          "name": "stdout",
          "text": [
            "Epoch [1673/3000]: Train loss: 2.4582, Valid loss: 2.4661\n"
          ]
        },
        {
          "output_type": "stream",
          "name": "stderr",
          "text": [
            "Epoch [1674/3000]: 100%|██████████| 9/9 [00:00<00:00, 73.32it/s, loss=1.44]\n"
          ]
        },
        {
          "output_type": "stream",
          "name": "stdout",
          "text": [
            "Epoch [1674/3000]: Train loss: 1.7309, Valid loss: 2.3366\n"
          ]
        },
        {
          "output_type": "stream",
          "name": "stderr",
          "text": [
            "Epoch [1675/3000]: 100%|██████████| 9/9 [00:00<00:00, 76.84it/s, loss=1.5]\n"
          ]
        },
        {
          "output_type": "stream",
          "name": "stdout",
          "text": [
            "Epoch [1675/3000]: Train loss: 1.7207, Valid loss: 1.6644\n"
          ]
        },
        {
          "output_type": "stream",
          "name": "stderr",
          "text": [
            "Epoch [1676/3000]: 100%|██████████| 9/9 [00:00<00:00, 81.70it/s, loss=1.77]\n"
          ]
        },
        {
          "output_type": "stream",
          "name": "stdout",
          "text": [
            "Epoch [1676/3000]: Train loss: 1.7637, Valid loss: 1.8561\n"
          ]
        },
        {
          "output_type": "stream",
          "name": "stderr",
          "text": [
            "Epoch [1677/3000]: 100%|██████████| 9/9 [00:00<00:00, 84.00it/s, loss=1.58]\n"
          ]
        },
        {
          "output_type": "stream",
          "name": "stdout",
          "text": [
            "Epoch [1677/3000]: Train loss: 1.6980, Valid loss: 2.7669\n"
          ]
        },
        {
          "output_type": "stream",
          "name": "stderr",
          "text": [
            "Epoch [1678/3000]: 100%|██████████| 9/9 [00:00<00:00, 81.84it/s, loss=1.7]\n"
          ]
        },
        {
          "output_type": "stream",
          "name": "stdout",
          "text": [
            "Epoch [1678/3000]: Train loss: 1.8595, Valid loss: 2.4080\n"
          ]
        },
        {
          "output_type": "stream",
          "name": "stderr",
          "text": [
            "Epoch [1679/3000]: 100%|██████████| 9/9 [00:00<00:00, 87.31it/s, loss=2.42]\n"
          ]
        },
        {
          "output_type": "stream",
          "name": "stdout",
          "text": [
            "Epoch [1679/3000]: Train loss: 2.0525, Valid loss: 1.9530\n"
          ]
        },
        {
          "output_type": "stream",
          "name": "stderr",
          "text": [
            "Epoch [1680/3000]: 100%|██████████| 9/9 [00:00<00:00, 88.23it/s, loss=2.27]\n"
          ]
        },
        {
          "output_type": "stream",
          "name": "stdout",
          "text": [
            "Epoch [1680/3000]: Train loss: 1.9737, Valid loss: 2.4009\n"
          ]
        },
        {
          "output_type": "stream",
          "name": "stderr",
          "text": [
            "Epoch [1681/3000]: 100%|██████████| 9/9 [00:00<00:00, 88.05it/s, loss=1.79]\n"
          ]
        },
        {
          "output_type": "stream",
          "name": "stdout",
          "text": [
            "Epoch [1681/3000]: Train loss: 1.7976, Valid loss: 2.0465\n"
          ]
        },
        {
          "output_type": "stream",
          "name": "stderr",
          "text": [
            "Epoch [1682/3000]: 100%|██████████| 9/9 [00:00<00:00, 80.11it/s, loss=1.46]\n"
          ]
        },
        {
          "output_type": "stream",
          "name": "stdout",
          "text": [
            "Epoch [1682/3000]: Train loss: 1.6768, Valid loss: 1.9138\n"
          ]
        },
        {
          "output_type": "stream",
          "name": "stderr",
          "text": [
            "Epoch [1683/3000]: 100%|██████████| 9/9 [00:00<00:00, 87.83it/s, loss=1.63]\n"
          ]
        },
        {
          "output_type": "stream",
          "name": "stdout",
          "text": [
            "Epoch [1683/3000]: Train loss: 1.7005, Valid loss: 1.8962\n"
          ]
        },
        {
          "output_type": "stream",
          "name": "stderr",
          "text": [
            "Epoch [1684/3000]: 100%|██████████| 9/9 [00:00<00:00, 81.22it/s, loss=1.61]\n"
          ]
        },
        {
          "output_type": "stream",
          "name": "stdout",
          "text": [
            "Epoch [1684/3000]: Train loss: 1.7045, Valid loss: 2.0998\n"
          ]
        },
        {
          "output_type": "stream",
          "name": "stderr",
          "text": [
            "Epoch [1685/3000]: 100%|██████████| 9/9 [00:00<00:00, 83.91it/s, loss=1.95]\n"
          ]
        },
        {
          "output_type": "stream",
          "name": "stdout",
          "text": [
            "Epoch [1685/3000]: Train loss: 1.7592, Valid loss: 2.9235\n"
          ]
        },
        {
          "output_type": "stream",
          "name": "stderr",
          "text": [
            "Epoch [1686/3000]: 100%|██████████| 9/9 [00:00<00:00, 82.61it/s, loss=1.67]\n"
          ]
        },
        {
          "output_type": "stream",
          "name": "stdout",
          "text": [
            "Epoch [1686/3000]: Train loss: 1.9402, Valid loss: 2.3819\n"
          ]
        },
        {
          "output_type": "stream",
          "name": "stderr",
          "text": [
            "Epoch [1687/3000]: 100%|██████████| 9/9 [00:00<00:00, 76.21it/s, loss=1.71]\n"
          ]
        },
        {
          "output_type": "stream",
          "name": "stdout",
          "text": [
            "Epoch [1687/3000]: Train loss: 1.7632, Valid loss: 2.0958\n"
          ]
        },
        {
          "output_type": "stream",
          "name": "stderr",
          "text": [
            "Epoch [1688/3000]: 100%|██████████| 9/9 [00:00<00:00, 96.55it/s, loss=2.98]\n"
          ]
        },
        {
          "output_type": "stream",
          "name": "stdout",
          "text": [
            "Epoch [1688/3000]: Train loss: 2.0000, Valid loss: 2.2178\n"
          ]
        },
        {
          "output_type": "stream",
          "name": "stderr",
          "text": [
            "Epoch [1689/3000]: 100%|██████████| 9/9 [00:00<00:00, 97.65it/s, loss=1.59]\n"
          ]
        },
        {
          "output_type": "stream",
          "name": "stdout",
          "text": [
            "Epoch [1689/3000]: Train loss: 1.7478, Valid loss: 1.7998\n"
          ]
        },
        {
          "output_type": "stream",
          "name": "stderr",
          "text": [
            "Epoch [1690/3000]: 100%|██████████| 9/9 [00:00<00:00, 101.52it/s, loss=1.72]\n"
          ]
        },
        {
          "output_type": "stream",
          "name": "stdout",
          "text": [
            "Epoch [1690/3000]: Train loss: 1.6917, Valid loss: 2.0285\n"
          ]
        },
        {
          "output_type": "stream",
          "name": "stderr",
          "text": [
            "Epoch [1691/3000]: 100%|██████████| 9/9 [00:00<00:00, 100.89it/s, loss=1.66]\n"
          ]
        },
        {
          "output_type": "stream",
          "name": "stdout",
          "text": [
            "Epoch [1691/3000]: Train loss: 2.2122, Valid loss: 2.7103\n"
          ]
        },
        {
          "output_type": "stream",
          "name": "stderr",
          "text": [
            "Epoch [1692/3000]: 100%|██████████| 9/9 [00:00<00:00, 99.83it/s, loss=1.45]\n"
          ]
        },
        {
          "output_type": "stream",
          "name": "stdout",
          "text": [
            "Epoch [1692/3000]: Train loss: 1.9003, Valid loss: 1.9837\n"
          ]
        },
        {
          "output_type": "stream",
          "name": "stderr",
          "text": [
            "Epoch [1693/3000]: 100%|██████████| 9/9 [00:00<00:00, 80.15it/s, loss=1.78]\n"
          ]
        },
        {
          "output_type": "stream",
          "name": "stdout",
          "text": [
            "Epoch [1693/3000]: Train loss: 1.7658, Valid loss: 1.7776\n"
          ]
        },
        {
          "output_type": "stream",
          "name": "stderr",
          "text": [
            "Epoch [1694/3000]: 100%|██████████| 9/9 [00:00<00:00, 86.83it/s, loss=1.27]\n"
          ]
        },
        {
          "output_type": "stream",
          "name": "stdout",
          "text": [
            "Epoch [1694/3000]: Train loss: 1.6877, Valid loss: 2.6313\n"
          ]
        },
        {
          "output_type": "stream",
          "name": "stderr",
          "text": [
            "Epoch [1695/3000]: 100%|██████████| 9/9 [00:00<00:00, 93.62it/s, loss=1.97]\n"
          ]
        },
        {
          "output_type": "stream",
          "name": "stdout",
          "text": [
            "Epoch [1695/3000]: Train loss: 1.7620, Valid loss: 2.4440\n"
          ]
        },
        {
          "output_type": "stream",
          "name": "stderr",
          "text": [
            "Epoch [1696/3000]: 100%|██████████| 9/9 [00:00<00:00, 78.99it/s, loss=1.34]\n"
          ]
        },
        {
          "output_type": "stream",
          "name": "stdout",
          "text": [
            "Epoch [1696/3000]: Train loss: 1.7977, Valid loss: 2.4217\n"
          ]
        },
        {
          "output_type": "stream",
          "name": "stderr",
          "text": [
            "Epoch [1697/3000]: 100%|██████████| 9/9 [00:00<00:00, 91.09it/s, loss=2.25]\n"
          ]
        },
        {
          "output_type": "stream",
          "name": "stdout",
          "text": [
            "Epoch [1697/3000]: Train loss: 1.9647, Valid loss: 2.2475\n"
          ]
        },
        {
          "output_type": "stream",
          "name": "stderr",
          "text": [
            "Epoch [1698/3000]: 100%|██████████| 9/9 [00:00<00:00, 82.55it/s, loss=1.79]\n"
          ]
        },
        {
          "output_type": "stream",
          "name": "stdout",
          "text": [
            "Epoch [1698/3000]: Train loss: 1.8713, Valid loss: 2.0203\n"
          ]
        },
        {
          "output_type": "stream",
          "name": "stderr",
          "text": [
            "Epoch [1699/3000]: 100%|██████████| 9/9 [00:00<00:00, 86.47it/s, loss=1.72]\n"
          ]
        },
        {
          "output_type": "stream",
          "name": "stdout",
          "text": [
            "Epoch [1699/3000]: Train loss: 1.7949, Valid loss: 2.2472\n"
          ]
        },
        {
          "output_type": "stream",
          "name": "stderr",
          "text": [
            "Epoch [1700/3000]: 100%|██████████| 9/9 [00:00<00:00, 91.66it/s, loss=1.96]\n"
          ]
        },
        {
          "output_type": "stream",
          "name": "stdout",
          "text": [
            "Epoch [1700/3000]: Train loss: 2.0216, Valid loss: 2.5277\n"
          ]
        },
        {
          "output_type": "stream",
          "name": "stderr",
          "text": [
            "Epoch [1701/3000]: 100%|██████████| 9/9 [00:00<00:00, 85.75it/s, loss=1.7]\n"
          ]
        },
        {
          "output_type": "stream",
          "name": "stdout",
          "text": [
            "Epoch [1701/3000]: Train loss: 2.0366, Valid loss: 2.2055\n"
          ]
        },
        {
          "output_type": "stream",
          "name": "stderr",
          "text": [
            "Epoch [1702/3000]: 100%|██████████| 9/9 [00:00<00:00, 75.70it/s, loss=1.56]\n"
          ]
        },
        {
          "output_type": "stream",
          "name": "stdout",
          "text": [
            "Epoch [1702/3000]: Train loss: 2.0060, Valid loss: 2.4934\n"
          ]
        },
        {
          "output_type": "stream",
          "name": "stderr",
          "text": [
            "Epoch [1703/3000]: 100%|██████████| 9/9 [00:00<00:00, 87.23it/s, loss=1.53]\n"
          ]
        },
        {
          "output_type": "stream",
          "name": "stdout",
          "text": [
            "Epoch [1703/3000]: Train loss: 1.8290, Valid loss: 1.9927\n"
          ]
        },
        {
          "output_type": "stream",
          "name": "stderr",
          "text": [
            "Epoch [1704/3000]: 100%|██████████| 9/9 [00:00<00:00, 81.92it/s, loss=1.76]\n"
          ]
        },
        {
          "output_type": "stream",
          "name": "stdout",
          "text": [
            "Epoch [1704/3000]: Train loss: 1.7384, Valid loss: 2.0010\n"
          ]
        },
        {
          "output_type": "stream",
          "name": "stderr",
          "text": [
            "Epoch [1705/3000]: 100%|██████████| 9/9 [00:00<00:00, 77.46it/s, loss=2.25]\n"
          ]
        },
        {
          "output_type": "stream",
          "name": "stdout",
          "text": [
            "Epoch [1705/3000]: Train loss: 1.7150, Valid loss: 2.1442\n"
          ]
        },
        {
          "output_type": "stream",
          "name": "stderr",
          "text": [
            "Epoch [1706/3000]: 100%|██████████| 9/9 [00:00<00:00, 96.93it/s, loss=1.81]\n"
          ]
        },
        {
          "output_type": "stream",
          "name": "stdout",
          "text": [
            "Epoch [1706/3000]: Train loss: 1.8154, Valid loss: 2.4872\n"
          ]
        },
        {
          "output_type": "stream",
          "name": "stderr",
          "text": [
            "Epoch [1707/3000]: 100%|██████████| 9/9 [00:00<00:00, 100.39it/s, loss=1.87]\n"
          ]
        },
        {
          "output_type": "stream",
          "name": "stdout",
          "text": [
            "Epoch [1707/3000]: Train loss: 1.9110, Valid loss: 2.6682\n"
          ]
        },
        {
          "output_type": "stream",
          "name": "stderr",
          "text": [
            "Epoch [1708/3000]: 100%|██████████| 9/9 [00:00<00:00, 96.45it/s, loss=2.19]\n"
          ]
        },
        {
          "output_type": "stream",
          "name": "stdout",
          "text": [
            "Epoch [1708/3000]: Train loss: 1.9878, Valid loss: 3.8404\n"
          ]
        },
        {
          "output_type": "stream",
          "name": "stderr",
          "text": [
            "Epoch [1709/3000]: 100%|██████████| 9/9 [00:00<00:00, 95.94it/s, loss=2.72]\n"
          ]
        },
        {
          "output_type": "stream",
          "name": "stdout",
          "text": [
            "Epoch [1709/3000]: Train loss: 2.7374, Valid loss: 1.9552\n"
          ]
        },
        {
          "output_type": "stream",
          "name": "stderr",
          "text": [
            "Epoch [1710/3000]: 100%|██████████| 9/9 [00:00<00:00, 63.93it/s, loss=1.87]\n"
          ]
        },
        {
          "output_type": "stream",
          "name": "stdout",
          "text": [
            "Epoch [1710/3000]: Train loss: 1.9759, Valid loss: 2.0928\n"
          ]
        },
        {
          "output_type": "stream",
          "name": "stderr",
          "text": [
            "Epoch [1711/3000]: 100%|██████████| 9/9 [00:00<00:00, 87.43it/s, loss=1.86]\n"
          ]
        },
        {
          "output_type": "stream",
          "name": "stdout",
          "text": [
            "Epoch [1711/3000]: Train loss: 1.6954, Valid loss: 1.8356\n"
          ]
        },
        {
          "output_type": "stream",
          "name": "stderr",
          "text": [
            "Epoch [1712/3000]: 100%|██████████| 9/9 [00:00<00:00, 91.56it/s, loss=1.5]\n"
          ]
        },
        {
          "output_type": "stream",
          "name": "stdout",
          "text": [
            "Epoch [1712/3000]: Train loss: 1.7444, Valid loss: 1.9170\n"
          ]
        },
        {
          "output_type": "stream",
          "name": "stderr",
          "text": [
            "Epoch [1713/3000]: 100%|██████████| 9/9 [00:00<00:00, 82.81it/s, loss=2.25]\n"
          ]
        },
        {
          "output_type": "stream",
          "name": "stdout",
          "text": [
            "Epoch [1713/3000]: Train loss: 1.7655, Valid loss: 1.8095\n"
          ]
        },
        {
          "output_type": "stream",
          "name": "stderr",
          "text": [
            "Epoch [1714/3000]: 100%|██████████| 9/9 [00:00<00:00, 84.73it/s, loss=1.81]\n"
          ]
        },
        {
          "output_type": "stream",
          "name": "stdout",
          "text": [
            "Epoch [1714/3000]: Train loss: 1.8353, Valid loss: 2.2284\n"
          ]
        },
        {
          "output_type": "stream",
          "name": "stderr",
          "text": [
            "Epoch [1715/3000]: 100%|██████████| 9/9 [00:00<00:00, 95.63it/s, loss=3.44]\n"
          ]
        },
        {
          "output_type": "stream",
          "name": "stdout",
          "text": [
            "Epoch [1715/3000]: Train loss: 2.1043, Valid loss: 1.9145\n"
          ]
        },
        {
          "output_type": "stream",
          "name": "stderr",
          "text": [
            "Epoch [1716/3000]: 100%|██████████| 9/9 [00:00<00:00, 99.22it/s, loss=1.8]\n"
          ]
        },
        {
          "output_type": "stream",
          "name": "stdout",
          "text": [
            "Epoch [1716/3000]: Train loss: 2.2323, Valid loss: 3.2942\n"
          ]
        },
        {
          "output_type": "stream",
          "name": "stderr",
          "text": [
            "Epoch [1717/3000]: 100%|██████████| 9/9 [00:00<00:00, 86.98it/s, loss=3.35]\n"
          ]
        },
        {
          "output_type": "stream",
          "name": "stdout",
          "text": [
            "Epoch [1717/3000]: Train loss: 2.3050, Valid loss: 2.0118\n"
          ]
        },
        {
          "output_type": "stream",
          "name": "stderr",
          "text": [
            "Epoch [1718/3000]: 100%|██████████| 9/9 [00:00<00:00, 86.12it/s, loss=1.71]\n"
          ]
        },
        {
          "output_type": "stream",
          "name": "stdout",
          "text": [
            "Epoch [1718/3000]: Train loss: 2.2949, Valid loss: 3.0459\n"
          ]
        },
        {
          "output_type": "stream",
          "name": "stderr",
          "text": [
            "Epoch [1719/3000]: 100%|██████████| 9/9 [00:00<00:00, 74.06it/s, loss=2.85]\n"
          ]
        },
        {
          "output_type": "stream",
          "name": "stdout",
          "text": [
            "Epoch [1719/3000]: Train loss: 2.3781, Valid loss: 2.7773\n"
          ]
        },
        {
          "output_type": "stream",
          "name": "stderr",
          "text": [
            "Epoch [1720/3000]: 100%|██████████| 9/9 [00:00<00:00, 87.42it/s, loss=1.74]\n"
          ]
        },
        {
          "output_type": "stream",
          "name": "stdout",
          "text": [
            "Epoch [1720/3000]: Train loss: 1.8444, Valid loss: 1.8263\n"
          ]
        },
        {
          "output_type": "stream",
          "name": "stderr",
          "text": [
            "Epoch [1721/3000]: 100%|██████████| 9/9 [00:00<00:00, 84.20it/s, loss=1.85]\n"
          ]
        },
        {
          "output_type": "stream",
          "name": "stdout",
          "text": [
            "Epoch [1721/3000]: Train loss: 1.7224, Valid loss: 2.0255\n"
          ]
        },
        {
          "output_type": "stream",
          "name": "stderr",
          "text": [
            "Epoch [1722/3000]: 100%|██████████| 9/9 [00:00<00:00, 96.59it/s, loss=1.68]\n"
          ]
        },
        {
          "output_type": "stream",
          "name": "stdout",
          "text": [
            "Epoch [1722/3000]: Train loss: 1.7631, Valid loss: 2.1803\n"
          ]
        },
        {
          "output_type": "stream",
          "name": "stderr",
          "text": [
            "Epoch [1723/3000]: 100%|██████████| 9/9 [00:00<00:00, 98.37it/s, loss=1.79]\n"
          ]
        },
        {
          "output_type": "stream",
          "name": "stdout",
          "text": [
            "Epoch [1723/3000]: Train loss: 1.7723, Valid loss: 2.3386\n"
          ]
        },
        {
          "output_type": "stream",
          "name": "stderr",
          "text": [
            "Epoch [1724/3000]: 100%|██████████| 9/9 [00:00<00:00, 99.32it/s, loss=1.22]\n"
          ]
        },
        {
          "output_type": "stream",
          "name": "stdout",
          "text": [
            "Epoch [1724/3000]: Train loss: 1.6919, Valid loss: 1.7835\n"
          ]
        },
        {
          "output_type": "stream",
          "name": "stderr",
          "text": [
            "Epoch [1725/3000]: 100%|██████████| 9/9 [00:00<00:00, 97.66it/s, loss=1.83]\n"
          ]
        },
        {
          "output_type": "stream",
          "name": "stdout",
          "text": [
            "Epoch [1725/3000]: Train loss: 2.0366, Valid loss: 1.9427\n"
          ]
        },
        {
          "output_type": "stream",
          "name": "stderr",
          "text": [
            "Epoch [1726/3000]: 100%|██████████| 9/9 [00:00<00:00, 89.58it/s, loss=2]\n"
          ]
        },
        {
          "output_type": "stream",
          "name": "stdout",
          "text": [
            "Epoch [1726/3000]: Train loss: 1.7071, Valid loss: 2.1373\n"
          ]
        },
        {
          "output_type": "stream",
          "name": "stderr",
          "text": [
            "Epoch [1727/3000]: 100%|██████████| 9/9 [00:00<00:00, 84.21it/s, loss=1.53]\n"
          ]
        },
        {
          "output_type": "stream",
          "name": "stdout",
          "text": [
            "Epoch [1727/3000]: Train loss: 1.7061, Valid loss: 1.9154\n"
          ]
        },
        {
          "output_type": "stream",
          "name": "stderr",
          "text": [
            "Epoch [1728/3000]: 100%|██████████| 9/9 [00:00<00:00, 32.68it/s, loss=1.73]\n"
          ]
        },
        {
          "output_type": "stream",
          "name": "stdout",
          "text": [
            "Epoch [1728/3000]: Train loss: 1.7984, Valid loss: 2.6073\n"
          ]
        },
        {
          "output_type": "stream",
          "name": "stderr",
          "text": [
            "Epoch [1729/3000]: 100%|██████████| 9/9 [00:00<00:00, 98.57it/s, loss=1.96]\n"
          ]
        },
        {
          "output_type": "stream",
          "name": "stdout",
          "text": [
            "Epoch [1729/3000]: Train loss: 2.2537, Valid loss: 2.3603\n"
          ]
        },
        {
          "output_type": "stream",
          "name": "stderr",
          "text": [
            "Epoch [1730/3000]: 100%|██████████| 9/9 [00:00<00:00, 82.29it/s, loss=1.62]\n"
          ]
        },
        {
          "output_type": "stream",
          "name": "stdout",
          "text": [
            "Epoch [1730/3000]: Train loss: 1.7604, Valid loss: 1.7280\n"
          ]
        },
        {
          "output_type": "stream",
          "name": "stderr",
          "text": [
            "Epoch [1731/3000]: 100%|██████████| 9/9 [00:00<00:00, 83.81it/s, loss=2.07]\n"
          ]
        },
        {
          "output_type": "stream",
          "name": "stdout",
          "text": [
            "Epoch [1731/3000]: Train loss: 1.9340, Valid loss: 2.5522\n"
          ]
        },
        {
          "output_type": "stream",
          "name": "stderr",
          "text": [
            "Epoch [1732/3000]: 100%|██████████| 9/9 [00:00<00:00, 99.42it/s, loss=3.28]\n"
          ]
        },
        {
          "output_type": "stream",
          "name": "stdout",
          "text": [
            "Epoch [1732/3000]: Train loss: 2.7051, Valid loss: 1.9549\n"
          ]
        },
        {
          "output_type": "stream",
          "name": "stderr",
          "text": [
            "Epoch [1733/3000]: 100%|██████████| 9/9 [00:00<00:00, 67.64it/s, loss=3.42]\n"
          ]
        },
        {
          "output_type": "stream",
          "name": "stdout",
          "text": [
            "Epoch [1733/3000]: Train loss: 2.2780, Valid loss: 3.2502\n"
          ]
        },
        {
          "output_type": "stream",
          "name": "stderr",
          "text": [
            "Epoch [1734/3000]: 100%|██████████| 9/9 [00:00<00:00, 79.04it/s, loss=1.68]\n"
          ]
        },
        {
          "output_type": "stream",
          "name": "stdout",
          "text": [
            "Epoch [1734/3000]: Train loss: 2.2852, Valid loss: 3.0276\n"
          ]
        },
        {
          "output_type": "stream",
          "name": "stderr",
          "text": [
            "Epoch [1735/3000]: 100%|██████████| 9/9 [00:00<00:00, 82.42it/s, loss=2.15]\n"
          ]
        },
        {
          "output_type": "stream",
          "name": "stdout",
          "text": [
            "Epoch [1735/3000]: Train loss: 2.1141, Valid loss: 2.2074\n"
          ]
        },
        {
          "output_type": "stream",
          "name": "stderr",
          "text": [
            "Epoch [1736/3000]: 100%|██████████| 9/9 [00:00<00:00, 76.25it/s, loss=2.25]\n"
          ]
        },
        {
          "output_type": "stream",
          "name": "stdout",
          "text": [
            "Epoch [1736/3000]: Train loss: 1.9206, Valid loss: 3.6417\n"
          ]
        },
        {
          "output_type": "stream",
          "name": "stderr",
          "text": [
            "Epoch [1737/3000]: 100%|██████████| 9/9 [00:00<00:00, 78.67it/s, loss=1.4]\n"
          ]
        },
        {
          "output_type": "stream",
          "name": "stdout",
          "text": [
            "Epoch [1737/3000]: Train loss: 2.0212, Valid loss: 1.9345\n"
          ]
        },
        {
          "output_type": "stream",
          "name": "stderr",
          "text": [
            "Epoch [1738/3000]: 100%|██████████| 9/9 [00:00<00:00, 92.32it/s, loss=2.39]\n"
          ]
        },
        {
          "output_type": "stream",
          "name": "stdout",
          "text": [
            "Epoch [1738/3000]: Train loss: 1.8832, Valid loss: 3.7284\n"
          ]
        },
        {
          "output_type": "stream",
          "name": "stderr",
          "text": [
            "Epoch [1739/3000]: 100%|██████████| 9/9 [00:00<00:00, 84.15it/s, loss=3.25]\n"
          ]
        },
        {
          "output_type": "stream",
          "name": "stdout",
          "text": [
            "Epoch [1739/3000]: Train loss: 2.6505, Valid loss: 1.7948\n"
          ]
        },
        {
          "output_type": "stream",
          "name": "stderr",
          "text": [
            "Epoch [1740/3000]: 100%|██████████| 9/9 [00:00<00:00, 72.80it/s, loss=3.28]\n"
          ]
        },
        {
          "output_type": "stream",
          "name": "stdout",
          "text": [
            "Epoch [1740/3000]: Train loss: 2.1527, Valid loss: 3.2843\n"
          ]
        },
        {
          "output_type": "stream",
          "name": "stderr",
          "text": [
            "Epoch [1741/3000]: 100%|██████████| 9/9 [00:00<00:00, 84.19it/s, loss=1.7]\n"
          ]
        },
        {
          "output_type": "stream",
          "name": "stdout",
          "text": [
            "Epoch [1741/3000]: Train loss: 2.3662, Valid loss: 2.0382\n"
          ]
        },
        {
          "output_type": "stream",
          "name": "stderr",
          "text": [
            "Epoch [1742/3000]: 100%|██████████| 9/9 [00:00<00:00, 71.79it/s, loss=1.19]\n"
          ]
        },
        {
          "output_type": "stream",
          "name": "stdout",
          "text": [
            "Epoch [1742/3000]: Train loss: 1.8375, Valid loss: 3.8907\n"
          ]
        },
        {
          "output_type": "stream",
          "name": "stderr",
          "text": [
            "Epoch [1743/3000]: 100%|██████████| 9/9 [00:00<00:00, 90.66it/s, loss=5.19]\n"
          ]
        },
        {
          "output_type": "stream",
          "name": "stdout",
          "text": [
            "Epoch [1743/3000]: Train loss: 3.1187, Valid loss: 4.1624\n"
          ]
        },
        {
          "output_type": "stream",
          "name": "stderr",
          "text": [
            "Epoch [1744/3000]: 100%|██████████| 9/9 [00:00<00:00, 80.99it/s, loss=3.22]\n"
          ]
        },
        {
          "output_type": "stream",
          "name": "stdout",
          "text": [
            "Epoch [1744/3000]: Train loss: 2.6998, Valid loss: 4.1647\n"
          ]
        },
        {
          "output_type": "stream",
          "name": "stderr",
          "text": [
            "Epoch [1745/3000]: 100%|██████████| 9/9 [00:00<00:00, 92.09it/s, loss=2.31]\n"
          ]
        },
        {
          "output_type": "stream",
          "name": "stdout",
          "text": [
            "Epoch [1745/3000]: Train loss: 2.6232, Valid loss: 2.4282\n"
          ]
        },
        {
          "output_type": "stream",
          "name": "stderr",
          "text": [
            "Epoch [1746/3000]: 100%|██████████| 9/9 [00:00<00:00, 98.70it/s, loss=5.14]\n"
          ]
        },
        {
          "output_type": "stream",
          "name": "stdout",
          "text": [
            "Epoch [1746/3000]: Train loss: 3.0686, Valid loss: 3.4069\n"
          ]
        },
        {
          "output_type": "stream",
          "name": "stderr",
          "text": [
            "Epoch [1747/3000]: 100%|██████████| 9/9 [00:00<00:00, 93.57it/s, loss=4.58]\n"
          ]
        },
        {
          "output_type": "stream",
          "name": "stdout",
          "text": [
            "Epoch [1747/3000]: Train loss: 3.0461, Valid loss: 3.2609\n"
          ]
        },
        {
          "output_type": "stream",
          "name": "stderr",
          "text": [
            "Epoch [1748/3000]: 100%|██████████| 9/9 [00:00<00:00, 82.40it/s, loss=4.03]\n"
          ]
        },
        {
          "output_type": "stream",
          "name": "stdout",
          "text": [
            "Epoch [1748/3000]: Train loss: 3.0288, Valid loss: 4.1358\n"
          ]
        },
        {
          "output_type": "stream",
          "name": "stderr",
          "text": [
            "Epoch [1749/3000]: 100%|██████████| 9/9 [00:00<00:00, 71.36it/s, loss=1.47]\n"
          ]
        },
        {
          "output_type": "stream",
          "name": "stdout",
          "text": [
            "Epoch [1749/3000]: Train loss: 2.7410, Valid loss: 2.1218\n"
          ]
        },
        {
          "output_type": "stream",
          "name": "stderr",
          "text": [
            "Epoch [1750/3000]: 100%|██████████| 9/9 [00:00<00:00, 71.46it/s, loss=1.93]\n"
          ]
        },
        {
          "output_type": "stream",
          "name": "stdout",
          "text": [
            "Epoch [1750/3000]: Train loss: 1.7423, Valid loss: 2.6285\n"
          ]
        },
        {
          "output_type": "stream",
          "name": "stderr",
          "text": [
            "Epoch [1751/3000]: 100%|██████████| 9/9 [00:00<00:00, 70.08it/s, loss=1.54]\n"
          ]
        },
        {
          "output_type": "stream",
          "name": "stdout",
          "text": [
            "Epoch [1751/3000]: Train loss: 1.6878, Valid loss: 2.2599\n"
          ]
        },
        {
          "output_type": "stream",
          "name": "stderr",
          "text": [
            "Epoch [1752/3000]: 100%|██████████| 9/9 [00:00<00:00, 70.34it/s, loss=1.25]\n"
          ]
        },
        {
          "output_type": "stream",
          "name": "stdout",
          "text": [
            "Epoch [1752/3000]: Train loss: 1.7352, Valid loss: 2.0077\n"
          ]
        },
        {
          "output_type": "stream",
          "name": "stderr",
          "text": [
            "Epoch [1753/3000]: 100%|██████████| 9/9 [00:00<00:00, 71.48it/s, loss=2.09]\n"
          ]
        },
        {
          "output_type": "stream",
          "name": "stdout",
          "text": [
            "Epoch [1753/3000]: Train loss: 1.8228, Valid loss: 2.2391\n"
          ]
        },
        {
          "output_type": "stream",
          "name": "stderr",
          "text": [
            "Epoch [1754/3000]: 100%|██████████| 9/9 [00:00<00:00, 76.00it/s, loss=2.31]\n"
          ]
        },
        {
          "output_type": "stream",
          "name": "stdout",
          "text": [
            "Epoch [1754/3000]: Train loss: 2.0538, Valid loss: 2.1892\n"
          ]
        },
        {
          "output_type": "stream",
          "name": "stderr",
          "text": [
            "Epoch [1755/3000]: 100%|██████████| 9/9 [00:00<00:00, 69.70it/s, loss=2.09]\n"
          ]
        },
        {
          "output_type": "stream",
          "name": "stdout",
          "text": [
            "Epoch [1755/3000]: Train loss: 1.9220, Valid loss: 2.1247\n"
          ]
        },
        {
          "output_type": "stream",
          "name": "stderr",
          "text": [
            "Epoch [1756/3000]: 100%|██████████| 9/9 [00:00<00:00, 74.16it/s, loss=2.06]\n"
          ]
        },
        {
          "output_type": "stream",
          "name": "stdout",
          "text": [
            "Epoch [1756/3000]: Train loss: 1.8473, Valid loss: 2.2840\n"
          ]
        },
        {
          "output_type": "stream",
          "name": "stderr",
          "text": [
            "Epoch [1757/3000]: 100%|██████████| 9/9 [00:00<00:00, 96.17it/s, loss=2.26]\n"
          ]
        },
        {
          "output_type": "stream",
          "name": "stdout",
          "text": [
            "Epoch [1757/3000]: Train loss: 1.9791, Valid loss: 1.7479\n"
          ]
        },
        {
          "output_type": "stream",
          "name": "stderr",
          "text": [
            "Epoch [1758/3000]: 100%|██████████| 9/9 [00:00<00:00, 80.64it/s, loss=1.59]\n"
          ]
        },
        {
          "output_type": "stream",
          "name": "stdout",
          "text": [
            "Epoch [1758/3000]: Train loss: 1.7929, Valid loss: 1.9353\n"
          ]
        },
        {
          "output_type": "stream",
          "name": "stderr",
          "text": [
            "Epoch [1759/3000]: 100%|██████████| 9/9 [00:00<00:00, 71.32it/s, loss=1.67]\n"
          ]
        },
        {
          "output_type": "stream",
          "name": "stdout",
          "text": [
            "Epoch [1759/3000]: Train loss: 1.8190, Valid loss: 2.2017\n"
          ]
        },
        {
          "output_type": "stream",
          "name": "stderr",
          "text": [
            "Epoch [1760/3000]: 100%|██████████| 9/9 [00:00<00:00, 66.98it/s, loss=1.28]\n"
          ]
        },
        {
          "output_type": "stream",
          "name": "stdout",
          "text": [
            "Epoch [1760/3000]: Train loss: 1.8138, Valid loss: 2.7741\n"
          ]
        },
        {
          "output_type": "stream",
          "name": "stderr",
          "text": [
            "Epoch [1761/3000]: 100%|██████████| 9/9 [00:00<00:00, 74.29it/s, loss=1.95]\n"
          ]
        },
        {
          "output_type": "stream",
          "name": "stdout",
          "text": [
            "Epoch [1761/3000]: Train loss: 1.9952, Valid loss: 2.5063\n"
          ]
        },
        {
          "output_type": "stream",
          "name": "stderr",
          "text": [
            "Epoch [1762/3000]: 100%|██████████| 9/9 [00:00<00:00, 68.51it/s, loss=1.83]\n"
          ]
        },
        {
          "output_type": "stream",
          "name": "stdout",
          "text": [
            "Epoch [1762/3000]: Train loss: 2.0931, Valid loss: 2.1551\n"
          ]
        },
        {
          "output_type": "stream",
          "name": "stderr",
          "text": [
            "Epoch [1763/3000]: 100%|██████████| 9/9 [00:00<00:00, 65.02it/s, loss=2.03]\n"
          ]
        },
        {
          "output_type": "stream",
          "name": "stdout",
          "text": [
            "Epoch [1763/3000]: Train loss: 1.7443, Valid loss: 2.2235\n"
          ]
        },
        {
          "output_type": "stream",
          "name": "stderr",
          "text": [
            "Epoch [1764/3000]: 100%|██████████| 9/9 [00:00<00:00, 67.93it/s, loss=2.22]\n"
          ]
        },
        {
          "output_type": "stream",
          "name": "stdout",
          "text": [
            "Epoch [1764/3000]: Train loss: 1.7343, Valid loss: 1.9766\n"
          ]
        },
        {
          "output_type": "stream",
          "name": "stderr",
          "text": [
            "Epoch [1765/3000]: 100%|██████████| 9/9 [00:00<00:00, 86.96it/s, loss=1.81]\n"
          ]
        },
        {
          "output_type": "stream",
          "name": "stdout",
          "text": [
            "Epoch [1765/3000]: Train loss: 1.6638, Valid loss: 2.4393\n"
          ]
        },
        {
          "output_type": "stream",
          "name": "stderr",
          "text": [
            "Epoch [1766/3000]: 100%|██████████| 9/9 [00:00<00:00, 83.70it/s, loss=1.55]\n"
          ]
        },
        {
          "output_type": "stream",
          "name": "stdout",
          "text": [
            "Epoch [1766/3000]: Train loss: 1.8689, Valid loss: 1.9970\n"
          ]
        },
        {
          "output_type": "stream",
          "name": "stderr",
          "text": [
            "Epoch [1767/3000]: 100%|██████████| 9/9 [00:00<00:00, 90.86it/s, loss=1.5]\n"
          ]
        },
        {
          "output_type": "stream",
          "name": "stdout",
          "text": [
            "Epoch [1767/3000]: Train loss: 1.7343, Valid loss: 2.1709\n"
          ]
        },
        {
          "output_type": "stream",
          "name": "stderr",
          "text": [
            "Epoch [1768/3000]: 100%|██████████| 9/9 [00:00<00:00, 86.68it/s, loss=1.35]\n"
          ]
        },
        {
          "output_type": "stream",
          "name": "stdout",
          "text": [
            "Epoch [1768/3000]: Train loss: 1.8019, Valid loss: 2.3670\n"
          ]
        },
        {
          "output_type": "stream",
          "name": "stderr",
          "text": [
            "Epoch [1769/3000]: 100%|██████████| 9/9 [00:00<00:00, 82.72it/s, loss=1.54]\n"
          ]
        },
        {
          "output_type": "stream",
          "name": "stdout",
          "text": [
            "Epoch [1769/3000]: Train loss: 1.6761, Valid loss: 1.8411\n"
          ]
        },
        {
          "output_type": "stream",
          "name": "stderr",
          "text": [
            "Epoch [1770/3000]: 100%|██████████| 9/9 [00:00<00:00, 86.11it/s, loss=1.97]\n"
          ]
        },
        {
          "output_type": "stream",
          "name": "stdout",
          "text": [
            "Epoch [1770/3000]: Train loss: 1.7435, Valid loss: 2.4475\n"
          ]
        },
        {
          "output_type": "stream",
          "name": "stderr",
          "text": [
            "Epoch [1771/3000]: 100%|██████████| 9/9 [00:00<00:00, 85.56it/s, loss=1.64]\n"
          ]
        },
        {
          "output_type": "stream",
          "name": "stdout",
          "text": [
            "Epoch [1771/3000]: Train loss: 1.7288, Valid loss: 2.1937\n"
          ]
        },
        {
          "output_type": "stream",
          "name": "stderr",
          "text": [
            "Epoch [1772/3000]: 100%|██████████| 9/9 [00:00<00:00, 83.95it/s, loss=2.15]\n"
          ]
        },
        {
          "output_type": "stream",
          "name": "stdout",
          "text": [
            "Epoch [1772/3000]: Train loss: 1.8008, Valid loss: 2.2449\n"
          ]
        },
        {
          "output_type": "stream",
          "name": "stderr",
          "text": [
            "Epoch [1773/3000]: 100%|██████████| 9/9 [00:00<00:00, 97.23it/s, loss=1.78]\n"
          ]
        },
        {
          "output_type": "stream",
          "name": "stdout",
          "text": [
            "Epoch [1773/3000]: Train loss: 1.7580, Valid loss: 2.0296\n"
          ]
        },
        {
          "output_type": "stream",
          "name": "stderr",
          "text": [
            "Epoch [1774/3000]: 100%|██████████| 9/9 [00:00<00:00, 94.03it/s, loss=1.47]\n"
          ]
        },
        {
          "output_type": "stream",
          "name": "stdout",
          "text": [
            "Epoch [1774/3000]: Train loss: 1.6561, Valid loss: 2.1574\n"
          ]
        },
        {
          "output_type": "stream",
          "name": "stderr",
          "text": [
            "Epoch [1775/3000]: 100%|██████████| 9/9 [00:00<00:00, 92.74it/s, loss=1.76]\n"
          ]
        },
        {
          "output_type": "stream",
          "name": "stdout",
          "text": [
            "Epoch [1775/3000]: Train loss: 1.7334, Valid loss: 1.8307\n"
          ]
        },
        {
          "output_type": "stream",
          "name": "stderr",
          "text": [
            "Epoch [1776/3000]: 100%|██████████| 9/9 [00:00<00:00, 95.97it/s, loss=2]\n"
          ]
        },
        {
          "output_type": "stream",
          "name": "stdout",
          "text": [
            "Epoch [1776/3000]: Train loss: 1.6830, Valid loss: 2.3805\n"
          ]
        },
        {
          "output_type": "stream",
          "name": "stderr",
          "text": [
            "Epoch [1777/3000]: 100%|██████████| 9/9 [00:00<00:00, 90.36it/s, loss=1.95]\n"
          ]
        },
        {
          "output_type": "stream",
          "name": "stdout",
          "text": [
            "Epoch [1777/3000]: Train loss: 1.7520, Valid loss: 2.1814\n"
          ]
        },
        {
          "output_type": "stream",
          "name": "stderr",
          "text": [
            "Epoch [1778/3000]: 100%|██████████| 9/9 [00:00<00:00, 95.45it/s, loss=1.17]\n"
          ]
        },
        {
          "output_type": "stream",
          "name": "stdout",
          "text": [
            "Epoch [1778/3000]: Train loss: 1.7674, Valid loss: 2.3177\n"
          ]
        },
        {
          "output_type": "stream",
          "name": "stderr",
          "text": [
            "Epoch [1779/3000]: 100%|██████████| 9/9 [00:00<00:00, 81.20it/s, loss=1.98]\n"
          ]
        },
        {
          "output_type": "stream",
          "name": "stdout",
          "text": [
            "Epoch [1779/3000]: Train loss: 1.7544, Valid loss: 1.9649\n"
          ]
        },
        {
          "output_type": "stream",
          "name": "stderr",
          "text": [
            "Epoch [1780/3000]: 100%|██████████| 9/9 [00:00<00:00, 81.68it/s, loss=1.94]\n"
          ]
        },
        {
          "output_type": "stream",
          "name": "stdout",
          "text": [
            "Epoch [1780/3000]: Train loss: 1.8256, Valid loss: 2.4297\n"
          ]
        },
        {
          "output_type": "stream",
          "name": "stderr",
          "text": [
            "Epoch [1781/3000]: 100%|██████████| 9/9 [00:00<00:00, 81.17it/s, loss=1.41]\n"
          ]
        },
        {
          "output_type": "stream",
          "name": "stdout",
          "text": [
            "Epoch [1781/3000]: Train loss: 1.8847, Valid loss: 2.0022\n"
          ]
        },
        {
          "output_type": "stream",
          "name": "stderr",
          "text": [
            "Epoch [1782/3000]: 100%|██████████| 9/9 [00:00<00:00, 76.72it/s, loss=1.33]\n"
          ]
        },
        {
          "output_type": "stream",
          "name": "stdout",
          "text": [
            "Epoch [1782/3000]: Train loss: 1.6836, Valid loss: 1.8618\n"
          ]
        },
        {
          "output_type": "stream",
          "name": "stderr",
          "text": [
            "Epoch [1783/3000]: 100%|██████████| 9/9 [00:00<00:00, 75.02it/s, loss=1.63]\n"
          ]
        },
        {
          "output_type": "stream",
          "name": "stdout",
          "text": [
            "Epoch [1783/3000]: Train loss: 1.8254, Valid loss: 2.4461\n"
          ]
        },
        {
          "output_type": "stream",
          "name": "stderr",
          "text": [
            "Epoch [1784/3000]: 100%|██████████| 9/9 [00:00<00:00, 75.41it/s, loss=1.96]\n"
          ]
        },
        {
          "output_type": "stream",
          "name": "stdout",
          "text": [
            "Epoch [1784/3000]: Train loss: 1.9225, Valid loss: 2.5845\n"
          ]
        },
        {
          "output_type": "stream",
          "name": "stderr",
          "text": [
            "Epoch [1785/3000]: 100%|██████████| 9/9 [00:00<00:00, 73.76it/s, loss=1.16]\n"
          ]
        },
        {
          "output_type": "stream",
          "name": "stdout",
          "text": [
            "Epoch [1785/3000]: Train loss: 2.0960, Valid loss: 3.3690\n"
          ]
        },
        {
          "output_type": "stream",
          "name": "stderr",
          "text": [
            "Epoch [1786/3000]: 100%|██████████| 9/9 [00:00<00:00, 70.99it/s, loss=2.7]\n"
          ]
        },
        {
          "output_type": "stream",
          "name": "stdout",
          "text": [
            "Epoch [1786/3000]: Train loss: 2.3632, Valid loss: 1.8645\n"
          ]
        },
        {
          "output_type": "stream",
          "name": "stderr",
          "text": [
            "Epoch [1787/3000]: 100%|██████████| 9/9 [00:00<00:00, 64.69it/s, loss=2.33]\n"
          ]
        },
        {
          "output_type": "stream",
          "name": "stdout",
          "text": [
            "Epoch [1787/3000]: Train loss: 1.9469, Valid loss: 2.1255\n"
          ]
        },
        {
          "output_type": "stream",
          "name": "stderr",
          "text": [
            "Epoch [1788/3000]: 100%|██████████| 9/9 [00:00<00:00, 93.72it/s, loss=2.14]\n"
          ]
        },
        {
          "output_type": "stream",
          "name": "stdout",
          "text": [
            "Epoch [1788/3000]: Train loss: 2.1595, Valid loss: 2.5406\n"
          ]
        },
        {
          "output_type": "stream",
          "name": "stderr",
          "text": [
            "Epoch [1789/3000]: 100%|██████████| 9/9 [00:00<00:00, 96.23it/s, loss=1.6]\n"
          ]
        },
        {
          "output_type": "stream",
          "name": "stdout",
          "text": [
            "Epoch [1789/3000]: Train loss: 1.9184, Valid loss: 1.8546\n"
          ]
        },
        {
          "output_type": "stream",
          "name": "stderr",
          "text": [
            "Epoch [1790/3000]: 100%|██████████| 9/9 [00:00<00:00, 96.96it/s, loss=2.59]\n"
          ]
        },
        {
          "output_type": "stream",
          "name": "stdout",
          "text": [
            "Epoch [1790/3000]: Train loss: 1.7629, Valid loss: 1.6514\n"
          ]
        },
        {
          "output_type": "stream",
          "name": "stderr",
          "text": [
            "Epoch [1791/3000]: 100%|██████████| 9/9 [00:00<00:00, 81.51it/s, loss=1.43]\n"
          ]
        },
        {
          "output_type": "stream",
          "name": "stdout",
          "text": [
            "Epoch [1791/3000]: Train loss: 1.8265, Valid loss: 2.4558\n"
          ]
        },
        {
          "output_type": "stream",
          "name": "stderr",
          "text": [
            "Epoch [1792/3000]: 100%|██████████| 9/9 [00:00<00:00, 99.28it/s, loss=1.35]\n"
          ]
        },
        {
          "output_type": "stream",
          "name": "stdout",
          "text": [
            "Epoch [1792/3000]: Train loss: 1.9503, Valid loss: 2.4979\n"
          ]
        },
        {
          "output_type": "stream",
          "name": "stderr",
          "text": [
            "Epoch [1793/3000]: 100%|██████████| 9/9 [00:00<00:00, 95.99it/s, loss=1.74]\n"
          ]
        },
        {
          "output_type": "stream",
          "name": "stdout",
          "text": [
            "Epoch [1793/3000]: Train loss: 1.8439, Valid loss: 1.9599\n"
          ]
        },
        {
          "output_type": "stream",
          "name": "stderr",
          "text": [
            "Epoch [1794/3000]: 100%|██████████| 9/9 [00:00<00:00, 86.49it/s, loss=1.22]\n"
          ]
        },
        {
          "output_type": "stream",
          "name": "stdout",
          "text": [
            "Epoch [1794/3000]: Train loss: 1.6456, Valid loss: 2.0389\n"
          ]
        },
        {
          "output_type": "stream",
          "name": "stderr",
          "text": [
            "Epoch [1795/3000]: 100%|██████████| 9/9 [00:00<00:00, 80.43it/s, loss=1.75]\n"
          ]
        },
        {
          "output_type": "stream",
          "name": "stdout",
          "text": [
            "Epoch [1795/3000]: Train loss: 1.7603, Valid loss: 1.8843\n"
          ]
        },
        {
          "output_type": "stream",
          "name": "stderr",
          "text": [
            "Epoch [1796/3000]: 100%|██████████| 9/9 [00:00<00:00, 84.60it/s, loss=2.23]\n"
          ]
        },
        {
          "output_type": "stream",
          "name": "stdout",
          "text": [
            "Epoch [1796/3000]: Train loss: 1.7093, Valid loss: 2.2557\n"
          ]
        },
        {
          "output_type": "stream",
          "name": "stderr",
          "text": [
            "Epoch [1797/3000]: 100%|██████████| 9/9 [00:00<00:00, 83.28it/s, loss=1.62]\n"
          ]
        },
        {
          "output_type": "stream",
          "name": "stdout",
          "text": [
            "Epoch [1797/3000]: Train loss: 1.8242, Valid loss: 2.1518\n"
          ]
        },
        {
          "output_type": "stream",
          "name": "stderr",
          "text": [
            "Epoch [1798/3000]: 100%|██████████| 9/9 [00:00<00:00, 80.82it/s, loss=1.48]\n"
          ]
        },
        {
          "output_type": "stream",
          "name": "stdout",
          "text": [
            "Epoch [1798/3000]: Train loss: 1.7888, Valid loss: 2.2248\n"
          ]
        },
        {
          "output_type": "stream",
          "name": "stderr",
          "text": [
            "Epoch [1799/3000]: 100%|██████████| 9/9 [00:00<00:00, 83.24it/s, loss=1.47]\n"
          ]
        },
        {
          "output_type": "stream",
          "name": "stdout",
          "text": [
            "Epoch [1799/3000]: Train loss: 1.6570, Valid loss: 1.7649\n"
          ]
        },
        {
          "output_type": "stream",
          "name": "stderr",
          "text": [
            "Epoch [1800/3000]: 100%|██████████| 9/9 [00:00<00:00, 78.03it/s, loss=1.79]\n"
          ]
        },
        {
          "output_type": "stream",
          "name": "stdout",
          "text": [
            "Epoch [1800/3000]: Train loss: 1.7421, Valid loss: 1.8562\n"
          ]
        },
        {
          "output_type": "stream",
          "name": "stderr",
          "text": [
            "Epoch [1801/3000]: 100%|██████████| 9/9 [00:00<00:00, 69.95it/s, loss=1.48]\n"
          ]
        },
        {
          "output_type": "stream",
          "name": "stdout",
          "text": [
            "Epoch [1801/3000]: Train loss: 1.7413, Valid loss: 2.1200\n"
          ]
        },
        {
          "output_type": "stream",
          "name": "stderr",
          "text": [
            "Epoch [1802/3000]: 100%|██████████| 9/9 [00:00<00:00, 84.07it/s, loss=2.01]\n"
          ]
        },
        {
          "output_type": "stream",
          "name": "stdout",
          "text": [
            "Epoch [1802/3000]: Train loss: 1.7034, Valid loss: 2.1952\n"
          ]
        },
        {
          "output_type": "stream",
          "name": "stderr",
          "text": [
            "Epoch [1803/3000]: 100%|██████████| 9/9 [00:00<00:00, 71.59it/s, loss=2.16]\n"
          ]
        },
        {
          "output_type": "stream",
          "name": "stdout",
          "text": [
            "Epoch [1803/3000]: Train loss: 1.8857, Valid loss: 2.0429\n"
          ]
        },
        {
          "output_type": "stream",
          "name": "stderr",
          "text": [
            "Epoch [1804/3000]: 100%|██████████| 9/9 [00:00<00:00, 86.49it/s, loss=1.55]\n"
          ]
        },
        {
          "output_type": "stream",
          "name": "stdout",
          "text": [
            "Epoch [1804/3000]: Train loss: 1.6822, Valid loss: 1.7286\n"
          ]
        },
        {
          "output_type": "stream",
          "name": "stderr",
          "text": [
            "Epoch [1805/3000]: 100%|██████████| 9/9 [00:00<00:00, 92.36it/s, loss=1.94]\n"
          ]
        },
        {
          "output_type": "stream",
          "name": "stdout",
          "text": [
            "Epoch [1805/3000]: Train loss: 1.7285, Valid loss: 1.8921\n"
          ]
        },
        {
          "output_type": "stream",
          "name": "stderr",
          "text": [
            "Epoch [1806/3000]: 100%|██████████| 9/9 [00:00<00:00, 72.04it/s, loss=1.72]\n"
          ]
        },
        {
          "output_type": "stream",
          "name": "stdout",
          "text": [
            "Epoch [1806/3000]: Train loss: 1.8009, Valid loss: 2.0744\n"
          ]
        },
        {
          "output_type": "stream",
          "name": "stderr",
          "text": [
            "Epoch [1807/3000]: 100%|██████████| 9/9 [00:00<00:00, 78.13it/s, loss=2.9]\n"
          ]
        },
        {
          "output_type": "stream",
          "name": "stdout",
          "text": [
            "Epoch [1807/3000]: Train loss: 2.3723, Valid loss: 3.0493\n"
          ]
        },
        {
          "output_type": "stream",
          "name": "stderr",
          "text": [
            "Epoch [1808/3000]: 100%|██████████| 9/9 [00:00<00:00, 85.79it/s, loss=2.04]\n"
          ]
        },
        {
          "output_type": "stream",
          "name": "stdout",
          "text": [
            "Epoch [1808/3000]: Train loss: 2.0647, Valid loss: 2.3484\n"
          ]
        },
        {
          "output_type": "stream",
          "name": "stderr",
          "text": [
            "Epoch [1809/3000]: 100%|██████████| 9/9 [00:00<00:00, 92.83it/s, loss=2.41]\n"
          ]
        },
        {
          "output_type": "stream",
          "name": "stdout",
          "text": [
            "Epoch [1809/3000]: Train loss: 2.0300, Valid loss: 1.9964\n"
          ]
        },
        {
          "output_type": "stream",
          "name": "stderr",
          "text": [
            "Epoch [1810/3000]: 100%|██████████| 9/9 [00:00<00:00, 71.06it/s, loss=1.45]\n"
          ]
        },
        {
          "output_type": "stream",
          "name": "stdout",
          "text": [
            "Epoch [1810/3000]: Train loss: 1.6737, Valid loss: 1.7465\n"
          ]
        },
        {
          "output_type": "stream",
          "name": "stderr",
          "text": [
            "Epoch [1811/3000]: 100%|██████████| 9/9 [00:00<00:00, 90.67it/s, loss=2.19]\n"
          ]
        },
        {
          "output_type": "stream",
          "name": "stdout",
          "text": [
            "Epoch [1811/3000]: Train loss: 1.7229, Valid loss: 1.9634\n"
          ]
        },
        {
          "output_type": "stream",
          "name": "stderr",
          "text": [
            "Epoch [1812/3000]: 100%|██████████| 9/9 [00:00<00:00, 96.29it/s, loss=1.75]\n"
          ]
        },
        {
          "output_type": "stream",
          "name": "stdout",
          "text": [
            "Epoch [1812/3000]: Train loss: 1.6911, Valid loss: 3.1975\n"
          ]
        },
        {
          "output_type": "stream",
          "name": "stderr",
          "text": [
            "Epoch [1813/3000]: 100%|██████████| 9/9 [00:00<00:00, 79.16it/s, loss=1.97]\n"
          ]
        },
        {
          "output_type": "stream",
          "name": "stdout",
          "text": [
            "Epoch [1813/3000]: Train loss: 1.8734, Valid loss: 2.1753\n"
          ]
        },
        {
          "output_type": "stream",
          "name": "stderr",
          "text": [
            "Epoch [1814/3000]: 100%|██████████| 9/9 [00:00<00:00, 86.00it/s, loss=1.39]\n"
          ]
        },
        {
          "output_type": "stream",
          "name": "stdout",
          "text": [
            "Epoch [1814/3000]: Train loss: 1.6724, Valid loss: 1.9079\n"
          ]
        },
        {
          "output_type": "stream",
          "name": "stderr",
          "text": [
            "Epoch [1815/3000]: 100%|██████████| 9/9 [00:00<00:00, 99.52it/s, loss=2.6]\n"
          ]
        },
        {
          "output_type": "stream",
          "name": "stdout",
          "text": [
            "Epoch [1815/3000]: Train loss: 1.8036, Valid loss: 3.8255\n"
          ]
        },
        {
          "output_type": "stream",
          "name": "stderr",
          "text": [
            "Epoch [1816/3000]: 100%|██████████| 9/9 [00:00<00:00, 91.73it/s, loss=1.3]\n"
          ]
        },
        {
          "output_type": "stream",
          "name": "stdout",
          "text": [
            "Epoch [1816/3000]: Train loss: 2.2216, Valid loss: 2.4159\n"
          ]
        },
        {
          "output_type": "stream",
          "name": "stderr",
          "text": [
            "Epoch [1817/3000]: 100%|██████████| 9/9 [00:00<00:00, 92.88it/s, loss=2.23]\n"
          ]
        },
        {
          "output_type": "stream",
          "name": "stdout",
          "text": [
            "Epoch [1817/3000]: Train loss: 2.3274, Valid loss: 1.9261\n"
          ]
        },
        {
          "output_type": "stream",
          "name": "stderr",
          "text": [
            "Epoch [1818/3000]: 100%|██████████| 9/9 [00:00<00:00, 90.19it/s, loss=2.19]\n"
          ]
        },
        {
          "output_type": "stream",
          "name": "stdout",
          "text": [
            "Epoch [1818/3000]: Train loss: 2.1238, Valid loss: 1.9688\n"
          ]
        },
        {
          "output_type": "stream",
          "name": "stderr",
          "text": [
            "Epoch [1819/3000]: 100%|██████████| 9/9 [00:00<00:00, 71.89it/s, loss=1.36]\n"
          ]
        },
        {
          "output_type": "stream",
          "name": "stdout",
          "text": [
            "Epoch [1819/3000]: Train loss: 1.6448, Valid loss: 1.9294\n"
          ]
        },
        {
          "output_type": "stream",
          "name": "stderr",
          "text": [
            "Epoch [1820/3000]: 100%|██████████| 9/9 [00:00<00:00, 84.86it/s, loss=2.64]\n"
          ]
        },
        {
          "output_type": "stream",
          "name": "stdout",
          "text": [
            "Epoch [1820/3000]: Train loss: 1.8035, Valid loss: 2.3348\n"
          ]
        },
        {
          "output_type": "stream",
          "name": "stderr",
          "text": [
            "Epoch [1821/3000]: 100%|██████████| 9/9 [00:00<00:00, 82.68it/s, loss=1.59]\n"
          ]
        },
        {
          "output_type": "stream",
          "name": "stdout",
          "text": [
            "Epoch [1821/3000]: Train loss: 1.7817, Valid loss: 2.5863\n"
          ]
        },
        {
          "output_type": "stream",
          "name": "stderr",
          "text": [
            "Epoch [1822/3000]: 100%|██████████| 9/9 [00:00<00:00, 90.98it/s, loss=1.63]\n"
          ]
        },
        {
          "output_type": "stream",
          "name": "stdout",
          "text": [
            "Epoch [1822/3000]: Train loss: 1.7762, Valid loss: 2.1959\n"
          ]
        },
        {
          "output_type": "stream",
          "name": "stderr",
          "text": [
            "Epoch [1823/3000]: 100%|██████████| 9/9 [00:00<00:00, 84.81it/s, loss=1.18]\n"
          ]
        },
        {
          "output_type": "stream",
          "name": "stdout",
          "text": [
            "Epoch [1823/3000]: Train loss: 1.7301, Valid loss: 1.6369\n"
          ]
        },
        {
          "output_type": "stream",
          "name": "stderr",
          "text": [
            "Epoch [1824/3000]: 100%|██████████| 9/9 [00:00<00:00, 81.65it/s, loss=1.9]\n"
          ]
        },
        {
          "output_type": "stream",
          "name": "stdout",
          "text": [
            "Epoch [1824/3000]: Train loss: 1.6675, Valid loss: 1.8072\n"
          ]
        },
        {
          "output_type": "stream",
          "name": "stderr",
          "text": [
            "Epoch [1825/3000]: 100%|██████████| 9/9 [00:00<00:00, 93.58it/s, loss=2.05]\n"
          ]
        },
        {
          "output_type": "stream",
          "name": "stdout",
          "text": [
            "Epoch [1825/3000]: Train loss: 1.7322, Valid loss: 2.7034\n"
          ]
        },
        {
          "output_type": "stream",
          "name": "stderr",
          "text": [
            "Epoch [1826/3000]: 100%|██████████| 9/9 [00:00<00:00, 75.71it/s, loss=1.72]\n"
          ]
        },
        {
          "output_type": "stream",
          "name": "stdout",
          "text": [
            "Epoch [1826/3000]: Train loss: 2.0585, Valid loss: 3.9792\n"
          ]
        },
        {
          "output_type": "stream",
          "name": "stderr",
          "text": [
            "Epoch [1827/3000]: 100%|██████████| 9/9 [00:00<00:00, 84.74it/s, loss=2.05]\n"
          ]
        },
        {
          "output_type": "stream",
          "name": "stdout",
          "text": [
            "Epoch [1827/3000]: Train loss: 2.6774, Valid loss: 2.2500\n"
          ]
        },
        {
          "output_type": "stream",
          "name": "stderr",
          "text": [
            "Epoch [1828/3000]: 100%|██████████| 9/9 [00:00<00:00, 91.58it/s, loss=1.53]\n"
          ]
        },
        {
          "output_type": "stream",
          "name": "stdout",
          "text": [
            "Epoch [1828/3000]: Train loss: 2.3133, Valid loss: 3.4827\n"
          ]
        },
        {
          "output_type": "stream",
          "name": "stderr",
          "text": [
            "Epoch [1829/3000]: 100%|██████████| 9/9 [00:00<00:00, 96.04it/s, loss=1.85]\n"
          ]
        },
        {
          "output_type": "stream",
          "name": "stdout",
          "text": [
            "Epoch [1829/3000]: Train loss: 2.1390, Valid loss: 2.2475\n"
          ]
        },
        {
          "output_type": "stream",
          "name": "stderr",
          "text": [
            "Epoch [1830/3000]: 100%|██████████| 9/9 [00:00<00:00, 80.63it/s, loss=1.95]\n"
          ]
        },
        {
          "output_type": "stream",
          "name": "stdout",
          "text": [
            "Epoch [1830/3000]: Train loss: 1.9427, Valid loss: 1.9202\n"
          ]
        },
        {
          "output_type": "stream",
          "name": "stderr",
          "text": [
            "Epoch [1831/3000]: 100%|██████████| 9/9 [00:00<00:00, 72.70it/s, loss=1.86]\n"
          ]
        },
        {
          "output_type": "stream",
          "name": "stdout",
          "text": [
            "Epoch [1831/3000]: Train loss: 1.8411, Valid loss: 2.8178\n"
          ]
        },
        {
          "output_type": "stream",
          "name": "stderr",
          "text": [
            "Epoch [1832/3000]: 100%|██████████| 9/9 [00:00<00:00, 76.24it/s, loss=2.51]\n"
          ]
        },
        {
          "output_type": "stream",
          "name": "stdout",
          "text": [
            "Epoch [1832/3000]: Train loss: 2.3032, Valid loss: 1.9464\n"
          ]
        },
        {
          "output_type": "stream",
          "name": "stderr",
          "text": [
            "Epoch [1833/3000]: 100%|██████████| 9/9 [00:00<00:00, 74.81it/s, loss=1.78]\n"
          ]
        },
        {
          "output_type": "stream",
          "name": "stdout",
          "text": [
            "Epoch [1833/3000]: Train loss: 1.9076, Valid loss: 2.4799\n"
          ]
        },
        {
          "output_type": "stream",
          "name": "stderr",
          "text": [
            "Epoch [1834/3000]: 100%|██████████| 9/9 [00:00<00:00, 69.57it/s, loss=1.36]\n"
          ]
        },
        {
          "output_type": "stream",
          "name": "stdout",
          "text": [
            "Epoch [1834/3000]: Train loss: 1.7986, Valid loss: 1.8563\n"
          ]
        },
        {
          "output_type": "stream",
          "name": "stderr",
          "text": [
            "Epoch [1835/3000]: 100%|██████████| 9/9 [00:00<00:00, 87.16it/s, loss=1.42]\n"
          ]
        },
        {
          "output_type": "stream",
          "name": "stdout",
          "text": [
            "Epoch [1835/3000]: Train loss: 1.8218, Valid loss: 2.5300\n"
          ]
        },
        {
          "output_type": "stream",
          "name": "stderr",
          "text": [
            "Epoch [1836/3000]: 100%|██████████| 9/9 [00:00<00:00, 81.30it/s, loss=1.51]\n"
          ]
        },
        {
          "output_type": "stream",
          "name": "stdout",
          "text": [
            "Epoch [1836/3000]: Train loss: 1.8577, Valid loss: 2.5342\n"
          ]
        },
        {
          "output_type": "stream",
          "name": "stderr",
          "text": [
            "Epoch [1837/3000]: 100%|██████████| 9/9 [00:00<00:00, 79.90it/s, loss=1.43]\n"
          ]
        },
        {
          "output_type": "stream",
          "name": "stdout",
          "text": [
            "Epoch [1837/3000]: Train loss: 1.7576, Valid loss: 1.8998\n"
          ]
        },
        {
          "output_type": "stream",
          "name": "stderr",
          "text": [
            "Epoch [1838/3000]: 100%|██████████| 9/9 [00:00<00:00, 76.18it/s, loss=2.07]\n"
          ]
        },
        {
          "output_type": "stream",
          "name": "stdout",
          "text": [
            "Epoch [1838/3000]: Train loss: 1.7605, Valid loss: 2.2139\n"
          ]
        },
        {
          "output_type": "stream",
          "name": "stderr",
          "text": [
            "Epoch [1839/3000]: 100%|██████████| 9/9 [00:00<00:00, 79.96it/s, loss=1.74]\n"
          ]
        },
        {
          "output_type": "stream",
          "name": "stdout",
          "text": [
            "Epoch [1839/3000]: Train loss: 2.0826, Valid loss: 2.9585\n"
          ]
        },
        {
          "output_type": "stream",
          "name": "stderr",
          "text": [
            "Epoch [1840/3000]: 100%|██████████| 9/9 [00:00<00:00, 80.22it/s, loss=1.6]\n"
          ]
        },
        {
          "output_type": "stream",
          "name": "stdout",
          "text": [
            "Epoch [1840/3000]: Train loss: 2.0511, Valid loss: 2.1386\n"
          ]
        },
        {
          "output_type": "stream",
          "name": "stderr",
          "text": [
            "Epoch [1841/3000]: 100%|██████████| 9/9 [00:00<00:00, 84.59it/s, loss=2.76]\n"
          ]
        },
        {
          "output_type": "stream",
          "name": "stdout",
          "text": [
            "Epoch [1841/3000]: Train loss: 2.2079, Valid loss: 2.3381\n"
          ]
        },
        {
          "output_type": "stream",
          "name": "stderr",
          "text": [
            "Epoch [1842/3000]: 100%|██████████| 9/9 [00:00<00:00, 76.91it/s, loss=3.1]\n"
          ]
        },
        {
          "output_type": "stream",
          "name": "stdout",
          "text": [
            "Epoch [1842/3000]: Train loss: 2.2406, Valid loss: 2.0421\n"
          ]
        },
        {
          "output_type": "stream",
          "name": "stderr",
          "text": [
            "Epoch [1843/3000]: 100%|██████████| 9/9 [00:00<00:00, 70.83it/s, loss=1.77]\n"
          ]
        },
        {
          "output_type": "stream",
          "name": "stdout",
          "text": [
            "Epoch [1843/3000]: Train loss: 1.7971, Valid loss: 1.8073\n"
          ]
        },
        {
          "output_type": "stream",
          "name": "stderr",
          "text": [
            "Epoch [1844/3000]: 100%|██████████| 9/9 [00:00<00:00, 75.02it/s, loss=2.07]\n"
          ]
        },
        {
          "output_type": "stream",
          "name": "stdout",
          "text": [
            "Epoch [1844/3000]: Train loss: 1.6827, Valid loss: 2.1621\n"
          ]
        },
        {
          "output_type": "stream",
          "name": "stderr",
          "text": [
            "Epoch [1845/3000]: 100%|██████████| 9/9 [00:00<00:00, 69.22it/s, loss=2.38]\n"
          ]
        },
        {
          "output_type": "stream",
          "name": "stdout",
          "text": [
            "Epoch [1845/3000]: Train loss: 2.0108, Valid loss: 2.2008\n"
          ]
        },
        {
          "output_type": "stream",
          "name": "stderr",
          "text": [
            "Epoch [1846/3000]: 100%|██████████| 9/9 [00:00<00:00, 91.25it/s, loss=2.48]\n"
          ]
        },
        {
          "output_type": "stream",
          "name": "stdout",
          "text": [
            "Epoch [1846/3000]: Train loss: 1.7609, Valid loss: 2.8731\n"
          ]
        },
        {
          "output_type": "stream",
          "name": "stderr",
          "text": [
            "Epoch [1847/3000]: 100%|██████████| 9/9 [00:00<00:00, 97.00it/s, loss=2.42]\n"
          ]
        },
        {
          "output_type": "stream",
          "name": "stdout",
          "text": [
            "Epoch [1847/3000]: Train loss: 2.3906, Valid loss: 2.7436\n"
          ]
        },
        {
          "output_type": "stream",
          "name": "stderr",
          "text": [
            "Epoch [1848/3000]: 100%|██████████| 9/9 [00:00<00:00, 86.23it/s, loss=1.92]\n"
          ]
        },
        {
          "output_type": "stream",
          "name": "stdout",
          "text": [
            "Epoch [1848/3000]: Train loss: 2.4560, Valid loss: 1.7991\n"
          ]
        },
        {
          "output_type": "stream",
          "name": "stderr",
          "text": [
            "Epoch [1849/3000]: 100%|██████████| 9/9 [00:00<00:00, 76.17it/s, loss=1.41]\n"
          ]
        },
        {
          "output_type": "stream",
          "name": "stdout",
          "text": [
            "Epoch [1849/3000]: Train loss: 1.8570, Valid loss: 1.9329\n"
          ]
        },
        {
          "output_type": "stream",
          "name": "stderr",
          "text": [
            "Epoch [1850/3000]: 100%|██████████| 9/9 [00:00<00:00, 75.71it/s, loss=3]\n"
          ]
        },
        {
          "output_type": "stream",
          "name": "stdout",
          "text": [
            "Epoch [1850/3000]: Train loss: 1.8630, Valid loss: 1.8623\n"
          ]
        },
        {
          "output_type": "stream",
          "name": "stderr",
          "text": [
            "Epoch [1851/3000]: 100%|██████████| 9/9 [00:00<00:00, 82.02it/s, loss=1.6]\n"
          ]
        },
        {
          "output_type": "stream",
          "name": "stdout",
          "text": [
            "Epoch [1851/3000]: Train loss: 2.0719, Valid loss: 2.1294\n"
          ]
        },
        {
          "output_type": "stream",
          "name": "stderr",
          "text": [
            "Epoch [1852/3000]: 100%|██████████| 9/9 [00:00<00:00, 90.00it/s, loss=1.87]\n"
          ]
        },
        {
          "output_type": "stream",
          "name": "stdout",
          "text": [
            "Epoch [1852/3000]: Train loss: 2.0159, Valid loss: 2.4490\n"
          ]
        },
        {
          "output_type": "stream",
          "name": "stderr",
          "text": [
            "Epoch [1853/3000]: 100%|██████████| 9/9 [00:00<00:00, 75.10it/s, loss=1.74]\n"
          ]
        },
        {
          "output_type": "stream",
          "name": "stdout",
          "text": [
            "Epoch [1853/3000]: Train loss: 1.9266, Valid loss: 2.0831\n"
          ]
        },
        {
          "output_type": "stream",
          "name": "stderr",
          "text": [
            "Epoch [1854/3000]: 100%|██████████| 9/9 [00:00<00:00, 98.89it/s, loss=1.53]\n"
          ]
        },
        {
          "output_type": "stream",
          "name": "stdout",
          "text": [
            "Epoch [1854/3000]: Train loss: 1.7136, Valid loss: 2.1380\n"
          ]
        },
        {
          "output_type": "stream",
          "name": "stderr",
          "text": [
            "Epoch [1855/3000]: 100%|██████████| 9/9 [00:00<00:00, 96.17it/s, loss=1.41]\n"
          ]
        },
        {
          "output_type": "stream",
          "name": "stdout",
          "text": [
            "Epoch [1855/3000]: Train loss: 1.7171, Valid loss: 1.9395\n"
          ]
        },
        {
          "output_type": "stream",
          "name": "stderr",
          "text": [
            "Epoch [1856/3000]: 100%|██████████| 9/9 [00:00<00:00, 99.93it/s, loss=1.67]\n"
          ]
        },
        {
          "output_type": "stream",
          "name": "stdout",
          "text": [
            "Epoch [1856/3000]: Train loss: 1.7994, Valid loss: 2.1777\n"
          ]
        },
        {
          "output_type": "stream",
          "name": "stderr",
          "text": [
            "Epoch [1857/3000]: 100%|██████████| 9/9 [00:00<00:00, 99.64it/s, loss=1.64]\n"
          ]
        },
        {
          "output_type": "stream",
          "name": "stdout",
          "text": [
            "Epoch [1857/3000]: Train loss: 1.7475, Valid loss: 1.8626\n"
          ]
        },
        {
          "output_type": "stream",
          "name": "stderr",
          "text": [
            "Epoch [1858/3000]: 100%|██████████| 9/9 [00:00<00:00, 93.18it/s, loss=1.45]\n"
          ]
        },
        {
          "output_type": "stream",
          "name": "stdout",
          "text": [
            "Epoch [1858/3000]: Train loss: 1.6456, Valid loss: 1.9568\n"
          ]
        },
        {
          "output_type": "stream",
          "name": "stderr",
          "text": [
            "Epoch [1859/3000]: 100%|██████████| 9/9 [00:00<00:00, 91.52it/s, loss=1.96]\n"
          ]
        },
        {
          "output_type": "stream",
          "name": "stdout",
          "text": [
            "Epoch [1859/3000]: Train loss: 1.7254, Valid loss: 1.9918\n"
          ]
        },
        {
          "output_type": "stream",
          "name": "stderr",
          "text": [
            "Epoch [1860/3000]: 100%|██████████| 9/9 [00:00<00:00, 84.94it/s, loss=1.99]\n"
          ]
        },
        {
          "output_type": "stream",
          "name": "stdout",
          "text": [
            "Epoch [1860/3000]: Train loss: 1.7861, Valid loss: 1.8181\n"
          ]
        },
        {
          "output_type": "stream",
          "name": "stderr",
          "text": [
            "Epoch [1861/3000]: 100%|██████████| 9/9 [00:00<00:00, 85.49it/s, loss=1.45]\n"
          ]
        },
        {
          "output_type": "stream",
          "name": "stdout",
          "text": [
            "Epoch [1861/3000]: Train loss: 1.6892, Valid loss: 1.8816\n"
          ]
        },
        {
          "output_type": "stream",
          "name": "stderr",
          "text": [
            "Epoch [1862/3000]: 100%|██████████| 9/9 [00:00<00:00, 79.27it/s, loss=1.6]\n"
          ]
        },
        {
          "output_type": "stream",
          "name": "stdout",
          "text": [
            "Epoch [1862/3000]: Train loss: 1.6252, Valid loss: 1.9818\n"
          ]
        },
        {
          "output_type": "stream",
          "name": "stderr",
          "text": [
            "Epoch [1863/3000]: 100%|██████████| 9/9 [00:00<00:00, 85.89it/s, loss=1.74]\n"
          ]
        },
        {
          "output_type": "stream",
          "name": "stdout",
          "text": [
            "Epoch [1863/3000]: Train loss: 1.6723, Valid loss: 2.3293\n"
          ]
        },
        {
          "output_type": "stream",
          "name": "stderr",
          "text": [
            "Epoch [1864/3000]: 100%|██████████| 9/9 [00:00<00:00, 78.11it/s, loss=1.31]\n"
          ]
        },
        {
          "output_type": "stream",
          "name": "stdout",
          "text": [
            "Epoch [1864/3000]: Train loss: 1.6585, Valid loss: 2.5187\n"
          ]
        },
        {
          "output_type": "stream",
          "name": "stderr",
          "text": [
            "Epoch [1865/3000]: 100%|██████████| 9/9 [00:00<00:00, 91.11it/s, loss=1.47]\n"
          ]
        },
        {
          "output_type": "stream",
          "name": "stdout",
          "text": [
            "Epoch [1865/3000]: Train loss: 1.6926, Valid loss: 2.0945\n"
          ]
        },
        {
          "output_type": "stream",
          "name": "stderr",
          "text": [
            "Epoch [1866/3000]: 100%|██████████| 9/9 [00:00<00:00, 73.56it/s, loss=2.49]\n"
          ]
        },
        {
          "output_type": "stream",
          "name": "stdout",
          "text": [
            "Epoch [1866/3000]: Train loss: 1.8650, Valid loss: 3.2989\n"
          ]
        },
        {
          "output_type": "stream",
          "name": "stderr",
          "text": [
            "Epoch [1867/3000]: 100%|██████████| 9/9 [00:00<00:00, 83.67it/s, loss=1.64]\n"
          ]
        },
        {
          "output_type": "stream",
          "name": "stdout",
          "text": [
            "Epoch [1867/3000]: Train loss: 1.9180, Valid loss: 2.0471\n"
          ]
        },
        {
          "output_type": "stream",
          "name": "stderr",
          "text": [
            "Epoch [1868/3000]: 100%|██████████| 9/9 [00:00<00:00, 82.81it/s, loss=1.59]\n"
          ]
        },
        {
          "output_type": "stream",
          "name": "stdout",
          "text": [
            "Epoch [1868/3000]: Train loss: 1.8552, Valid loss: 2.2137\n"
          ]
        },
        {
          "output_type": "stream",
          "name": "stderr",
          "text": [
            "Epoch [1869/3000]: 100%|██████████| 9/9 [00:00<00:00, 83.22it/s, loss=1.98]\n"
          ]
        },
        {
          "output_type": "stream",
          "name": "stdout",
          "text": [
            "Epoch [1869/3000]: Train loss: 1.6767, Valid loss: 1.8809\n"
          ]
        },
        {
          "output_type": "stream",
          "name": "stderr",
          "text": [
            "Epoch [1870/3000]: 100%|██████████| 9/9 [00:00<00:00, 90.78it/s, loss=2.28]\n"
          ]
        },
        {
          "output_type": "stream",
          "name": "stdout",
          "text": [
            "Epoch [1870/3000]: Train loss: 1.7033, Valid loss: 2.7594\n"
          ]
        },
        {
          "output_type": "stream",
          "name": "stderr",
          "text": [
            "Epoch [1871/3000]: 100%|██████████| 9/9 [00:00<00:00, 84.26it/s, loss=1.44]\n"
          ]
        },
        {
          "output_type": "stream",
          "name": "stdout",
          "text": [
            "Epoch [1871/3000]: Train loss: 1.7522, Valid loss: 1.9301\n"
          ]
        },
        {
          "output_type": "stream",
          "name": "stderr",
          "text": [
            "Epoch [1872/3000]: 100%|██████████| 9/9 [00:00<00:00, 63.07it/s, loss=1.57]\n"
          ]
        },
        {
          "output_type": "stream",
          "name": "stdout",
          "text": [
            "Epoch [1872/3000]: Train loss: 1.6861, Valid loss: 3.1541\n"
          ]
        },
        {
          "output_type": "stream",
          "name": "stderr",
          "text": [
            "Epoch [1873/3000]: 100%|██████████| 9/9 [00:00<00:00, 85.36it/s, loss=2.24]\n"
          ]
        },
        {
          "output_type": "stream",
          "name": "stdout",
          "text": [
            "Epoch [1873/3000]: Train loss: 2.1815, Valid loss: 1.8528\n"
          ]
        },
        {
          "output_type": "stream",
          "name": "stderr",
          "text": [
            "Epoch [1874/3000]: 100%|██████████| 9/9 [00:00<00:00, 75.38it/s, loss=1.57]\n"
          ]
        },
        {
          "output_type": "stream",
          "name": "stdout",
          "text": [
            "Epoch [1874/3000]: Train loss: 1.8303, Valid loss: 2.0746\n"
          ]
        },
        {
          "output_type": "stream",
          "name": "stderr",
          "text": [
            "Epoch [1875/3000]: 100%|██████████| 9/9 [00:00<00:00, 67.52it/s, loss=1.53]\n"
          ]
        },
        {
          "output_type": "stream",
          "name": "stdout",
          "text": [
            "Epoch [1875/3000]: Train loss: 1.8559, Valid loss: 2.4715\n"
          ]
        },
        {
          "output_type": "stream",
          "name": "stderr",
          "text": [
            "Epoch [1876/3000]: 100%|██████████| 9/9 [00:00<00:00, 98.76it/s, loss=2.12]\n"
          ]
        },
        {
          "output_type": "stream",
          "name": "stdout",
          "text": [
            "Epoch [1876/3000]: Train loss: 1.9996, Valid loss: 2.1386\n"
          ]
        },
        {
          "output_type": "stream",
          "name": "stderr",
          "text": [
            "Epoch [1877/3000]: 100%|██████████| 9/9 [00:00<00:00, 103.46it/s, loss=2.3]\n"
          ]
        },
        {
          "output_type": "stream",
          "name": "stdout",
          "text": [
            "Epoch [1877/3000]: Train loss: 2.5319, Valid loss: 2.2137\n"
          ]
        },
        {
          "output_type": "stream",
          "name": "stderr",
          "text": [
            "Epoch [1878/3000]: 100%|██████████| 9/9 [00:00<00:00, 101.66it/s, loss=2.01]\n"
          ]
        },
        {
          "output_type": "stream",
          "name": "stdout",
          "text": [
            "Epoch [1878/3000]: Train loss: 1.8005, Valid loss: 2.2831\n"
          ]
        },
        {
          "output_type": "stream",
          "name": "stderr",
          "text": [
            "Epoch [1879/3000]: 100%|██████████| 9/9 [00:00<00:00, 97.50it/s, loss=2.44]\n"
          ]
        },
        {
          "output_type": "stream",
          "name": "stdout",
          "text": [
            "Epoch [1879/3000]: Train loss: 1.8971, Valid loss: 2.2999\n"
          ]
        },
        {
          "output_type": "stream",
          "name": "stderr",
          "text": [
            "Epoch [1880/3000]: 100%|██████████| 9/9 [00:00<00:00, 77.99it/s, loss=1.69]\n"
          ]
        },
        {
          "output_type": "stream",
          "name": "stdout",
          "text": [
            "Epoch [1880/3000]: Train loss: 1.6671, Valid loss: 1.9465\n"
          ]
        },
        {
          "output_type": "stream",
          "name": "stderr",
          "text": [
            "Epoch [1881/3000]: 100%|██████████| 9/9 [00:00<00:00, 83.42it/s, loss=2.18]\n"
          ]
        },
        {
          "output_type": "stream",
          "name": "stdout",
          "text": [
            "Epoch [1881/3000]: Train loss: 1.8515, Valid loss: 2.3277\n"
          ]
        },
        {
          "output_type": "stream",
          "name": "stderr",
          "text": [
            "Epoch [1882/3000]: 100%|██████████| 9/9 [00:00<00:00, 91.39it/s, loss=1.74]\n"
          ]
        },
        {
          "output_type": "stream",
          "name": "stdout",
          "text": [
            "Epoch [1882/3000]: Train loss: 1.8015, Valid loss: 2.1103\n"
          ]
        },
        {
          "output_type": "stream",
          "name": "stderr",
          "text": [
            "Epoch [1883/3000]: 100%|██████████| 9/9 [00:00<00:00, 84.04it/s, loss=1.95]\n"
          ]
        },
        {
          "output_type": "stream",
          "name": "stdout",
          "text": [
            "Epoch [1883/3000]: Train loss: 1.7741, Valid loss: 2.4238\n",
            "\n",
            "Model is not improving, so we halt the training session.\n"
          ]
        }
      ],
      "source": [
        "model = My_Model(input_dim=x_train.shape[1]).to(device) # put your model and data on the same computation device.\n",
        "trainer(train_loader, valid_loader, model, config, device)"
      ]
    },
    {
      "cell_type": "markdown",
      "metadata": {
        "id": "Ik09KPqU-di-"
      },
      "source": [
        "# Plot learning curves with `tensorboard` (optional)\n",
        "\n",
        "`tensorboard` is a tool that allows you to visualize your training progress.\n",
        "\n",
        "If this block does not display your learning curve, please wait for few minutes, and re-run this block. It might take some time to load your logging information."
      ]
    },
    {
      "cell_type": "code",
      "execution_count": null,
      "metadata": {
        "id": "loA4nKmLGQ-n",
        "colab": {
          "base_uri": "https://localhost:8080/",
          "height": 821
        },
        "outputId": "cdd759d9-675a-4864-e045-0a8830658d64"
      },
      "outputs": [
        {
          "output_type": "stream",
          "text": [
            "\u001b[1;30;43m此单元格的输出内容太大，只能在登录的情况下显示。\u001b[0m\n"
          ]
        }
      ],
      "source": [
        "%reload_ext tensorboard\n",
        "%tensorboard --logdir=./runs/"
      ]
    },
    {
      "cell_type": "markdown",
      "metadata": {
        "id": "yhAHGqC9-woK"
      },
      "source": [
        "# Testing\n",
        "The predictions of your model on testing set will be stored at `pred.csv`."
      ]
    },
    {
      "cell_type": "code",
      "execution_count": null,
      "metadata": {
        "id": "Q5eVdpbvAlAe",
        "colab": {
          "base_uri": "https://localhost:8080/"
        },
        "outputId": "53d0a7b8-20ed-4f83-8a9b-d860f16aed31"
      },
      "outputs": [
        {
          "output_type": "stream",
          "name": "stderr",
          "text": [
            "100%|██████████| 5/5 [00:00<00:00, 414.89it/s]\n"
          ]
        }
      ],
      "source": [
        "def save_pred(preds, file):\n",
        "    ''' Save predictions to specified file '''\n",
        "    with open(file, 'w') as fp:\n",
        "        writer = csv.writer(fp)\n",
        "        writer.writerow(['id', 'tested_positive'])\n",
        "        for i, p in enumerate(preds):\n",
        "            writer.writerow([i, p])\n",
        "\n",
        "model = My_Model(input_dim=x_train.shape[1]).to(device)\n",
        "model.load_state_dict(torch.load(config['save_path']))\n",
        "preds = predict(test_loader, model, device)\n",
        "save_pred(preds, 'pred.csv')"
      ]
    },
    {
      "cell_type": "markdown",
      "source": [
        "# Reference\n",
        "This notebook uses code written by Heng-Jui Chang @ NTUEE (https://github.com/ga642381/ML2021-Spring/blob/main/HW01/HW01.ipynb)"
      ],
      "metadata": {
        "id": "IJ_k5rY0GvSV"
      }
    }
  ],
  "metadata": {
    "accelerator": "GPU",
    "colab": {
      "provenance": [],
      "toc_visible": true
    },
    "kernelspec": {
      "display_name": "Python 3",
      "name": "python3"
    },
    "language_info": {
      "name": "python"
    }
  },
  "nbformat": 4,
  "nbformat_minor": 0
}